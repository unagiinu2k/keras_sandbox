{
 "cells": [
  {
   "cell_type": "markdown",
   "metadata": {},
   "source": [
    "## Before starting the note...\n",
    "Useful tips for jupyter notebook:\n",
    "\n",
    "https://www.dataquest.io/blog/jupyter-notebook-tips-tricks-shortcuts/"
   ]
  },
  {
   "cell_type": "code",
   "execution_count": 1,
   "metadata": {
    "collapsed": true
   },
   "outputs": [],
   "source": [
    "#http://d.hatena.ne.jp/naraba/20121201/p1\n",
    "#http://web.mit.edu/music21/doc/usersGuide/usersGuide_01_installing.html\n",
    "\n",
    "from music21 import *\n",
    "#environment.set('musicxmlPath' , r\"C:\\Program Files (x86)\\Finale NotePad 2012\\Finale NotePad.exe\")\n",
    "#configure.run()\n",
    "#environment.keys()\n",
    "#environment.get('musicxmlPath')"
   ]
  },
  {
   "cell_type": "markdown",
   "metadata": {},
   "source": [
    "楽譜を表示するためのおまじない\n",
    "\n",
    "参考URL:https://groups.google.com/forum/#!topic/music21list/FmU6HeNm7AM\n"
   ]
  },
  {
   "cell_type": "code",
   "execution_count": 2,
   "metadata": {
    "collapsed": false
   },
   "outputs": [],
   "source": [
    "us = environment.UserSettings()\n",
    "#us.create()\n",
    "us['musicxmlPath'] = r'C:\\Program Files (x86)\\MuseScore 2\\bin\\MuseScore.exe'\n",
    "us['musescoreDirectPNGPath'] = r'C:\\Program Files (x86)\\MuseScore 2\\bin\\MuseScore.exe'\n",
    "%load_ext music21.ipython21"
   ]
  },
  {
   "cell_type": "markdown",
   "metadata": {},
   "source": [
    "## score, part, measureについて"
   ]
  },
  {
   "cell_type": "markdown",
   "metadata": {},
   "source": [
    "scoreとPartとMeasureがstreamの基本的なsubclass\n",
    "\n",
    "scoreがpartを複数含み、partはmeasureを複数持つ、というのが基本的なScoreの構成"
   ]
  },
  {
   "cell_type": "markdown",
   "metadata": {},
   "source": [
    "## deep jazzの場合のヒエラルヒー（上記と異なる）\n",
    "\n",
    "deepjazzの例では\n",
    "\n",
    "Score (midi_data) > Part (melody_stream) > Voice (melody1,2 , melody_voice) ＞ Note\n",
    "\n",
    "という階層に従ってデータを切り出しているように見える。\n",
    "すなわちPartはMeasureを持たず、その代わり（？）にVoiceを持っている："
   ]
  },
  {
   "cell_type": "code",
   "execution_count": 3,
   "metadata": {
    "collapsed": false
   },
   "outputs": [],
   "source": [
    "s_jazz = converter.parse('C:/Users/t/PycharmProjects/deepjazz_in_a_file/midi/original_metheny.mid')"
   ]
  },
  {
   "cell_type": "code",
   "execution_count": 4,
   "metadata": {
    "collapsed": false
   },
   "outputs": [
    {
     "data": {
      "text/plain": [
       "19"
      ]
     },
     "execution_count": 4,
     "metadata": {},
     "output_type": "execute_result"
    }
   ],
   "source": [
    "s_jazz_parts = [x for x in s_jazz.getElementsByClass(stream.Part)]\n",
    "len(s_jazz_parts)"
   ]
  },
  {
   "cell_type": "markdown",
   "metadata": {},
   "source": [
    "partは楽器が指定してあったりなかったり。"
   ]
  },
  {
   "cell_type": "code",
   "execution_count": 5,
   "metadata": {
    "collapsed": false
   },
   "outputs": [
    {
     "data": {
      "text/plain": [
       "[<music21.instrument.Instrument Piano>,\n",
       " <music21.instrument.Instrument Acoustic Bass>,\n",
       " <music21.instrument.Instrument >,\n",
       " <music21.instrument.Instrument >,\n",
       " <music21.instrument.Instrument >,\n",
       " <music21.instrument.Instrument Electric Guitar>,\n",
       " <music21.instrument.Instrument Trumpet>,\n",
       " <music21.instrument.Instrument Horn>,\n",
       " <music21.instrument.Instrument >,\n",
       " <music21.instrument.Instrument >]"
      ]
     },
     "execution_count": 5,
     "metadata": {},
     "output_type": "execute_result"
    }
   ],
   "source": [
    "[x.getInstrument() for x in s_jazz.getElementsByClass(stream.Part)[0:10]]"
   ]
  },
  {
   "cell_type": "code",
   "execution_count": 8,
   "metadata": {
    "collapsed": false
   },
   "outputs": [
    {
     "data": {
      "text/plain": [
       "5"
      ]
     },
     "execution_count": 8,
     "metadata": {},
     "output_type": "execute_result"
    }
   ],
   "source": [
    "s_jazz_part0_voices = [x for x in s_jazz_parts[0].getElementsByClass(stream.Voice)]\n",
    "len(s_jazz_part0_voices)"
   ]
  },
  {
   "cell_type": "markdown",
   "metadata": {},
   "source": [
    "partの構成要素であるvoiceにも同様にinstrumentが指定してあったりしなかったり。おそらく、partレベルで指定しておき、それが構成要素であるvoiceに遺伝している形か"
   ]
  },
  {
   "cell_type": "code",
   "execution_count": 6,
   "metadata": {
    "collapsed": false
   },
   "outputs": [
    {
     "data": {
      "text/plain": [
       "[<music21.instrument.Instrument Piano>,\n",
       " <music21.instrument.Instrument Piano>,\n",
       " <music21.instrument.Instrument Piano>,\n",
       " <music21.instrument.Instrument Piano>,\n",
       " <music21.instrument.Instrument Piano>]"
      ]
     },
     "execution_count": 6,
     "metadata": {},
     "output_type": "execute_result"
    }
   ],
   "source": [
    "[x.getInstrument() for x in s_jazz_parts[0].getElementsByClass(stream.Voice)]"
   ]
  },
  {
   "cell_type": "code",
   "execution_count": 40,
   "metadata": {
    "collapsed": false
   },
   "outputs": [
    {
     "ename": "AttributeError",
     "evalue": "'list' object has no attribute 'show'",
     "output_type": "error",
     "traceback": [
      "\u001b[0;31m---------------------------------------------------------------------------\u001b[0m",
      "\u001b[0;31mAttributeError\u001b[0m                            Traceback (most recent call last)",
      "\u001b[0;32m<ipython-input-40-42006759d725>\u001b[0m in \u001b[0;36m<module>\u001b[0;34m()\u001b[0m\n\u001b[0;32m----> 1\u001b[0;31m \u001b[0ms_jazz_part0_voices\u001b[0m\u001b[1;33m.\u001b[0m\u001b[0mshow\u001b[0m\u001b[1;33m(\u001b[0m\u001b[1;33m)\u001b[0m\u001b[1;33m\u001b[0m\u001b[0m\n\u001b[0m",
      "\u001b[0;31mAttributeError\u001b[0m: 'list' object has no attribute 'show'"
     ]
    }
   ],
   "source": [
    "s_jazz_part0_voices.show()"
   ]
  },
  {
   "cell_type": "code",
   "execution_count": null,
   "metadata": {
    "collapsed": false
   },
   "outputs": [],
   "source": [
    "s_jazz_part0_voices[0].show()"
   ]
  },
  {
   "cell_type": "markdown",
   "metadata": {},
   "source": [
    "VoiceのなかにMeasureがあるかと思いきやそんなものはない："
   ]
  },
  {
   "cell_type": "code",
   "execution_count": 9,
   "metadata": {
    "collapsed": false
   },
   "outputs": [
    {
     "data": {
      "text/plain": [
       "0"
      ]
     },
     "execution_count": 9,
     "metadata": {},
     "output_type": "execute_result"
    }
   ],
   "source": [
    "len(s_jazz_part0_voices[0].getElementsByClass(stream.Measure))"
   ]
  },
  {
   "cell_type": "markdown",
   "metadata": {},
   "source": [
    "ではなにが入っているかといえば、（ScoreのなかのPartのなかの）各PartのVoice[0]はおおむねChordから構成されている（他はnote.Rest, note.Noteが少々）："
   ]
  },
  {
   "cell_type": "code",
   "execution_count": 11,
   "metadata": {
    "collapsed": false
   },
   "outputs": [
    {
     "data": {
      "text/plain": [
       "\"<class 'music21.note.Rest'>   <class 'music21.chord.Chord'>   <class 'music21.chord.Chord'>   <class 'music21.chord.Chord'>   <class 'music21.chord.Chord'>   <class 'music21.chord.Chord'>   <class 'music21.chord.Chord'>   <class 'music21.chord.Chord'>   <class 'music21.chord.Chord'>   <class 'music21.chord.Chord'>   <class 'music21.chord.Chord'>   <class 'music21.chord.Chord'>   <class 'music21.chord.Chord'>   <class 'music21.chord.Chord'>   <class 'music21.chord.Chord'>   <class 'music21.chord.Chord'>   <class 'music21.chord.Chord'>   <class 'music21.note.Note'>   <class 'music21.chord.Chord'>   <class 'music21.chord.Chord'>\""
      ]
     },
     "execution_count": 11,
     "metadata": {},
     "output_type": "execute_result"
    }
   ],
   "source": [
    "\"   \".join([str(type(x)) for x in s_jazz_part0_voices[0][0:20]])"
   ]
  },
  {
   "cell_type": "markdown",
   "metadata": {},
   "source": [
    "おそらく各パートのvoice[1]以降はおおむねnoteから構成されている（？）"
   ]
  },
  {
   "cell_type": "markdown",
   "metadata": {},
   "source": [
    "であるが、deepjazzでchordパートを切り出す際にはそのように決め打つことなく、solo_stream[0]からremoveByClassでnoteを除外しつつすべてのchordを抽出している。\n",
    "また、melodyパートはsolo_stream[-1]から特に除外操作をすることなくすべてのnoteを抽出できている（？）"
   ]
  },
  {
   "cell_type": "code",
   "execution_count": 16,
   "metadata": {
    "collapsed": false
   },
   "outputs": [
    {
     "data": {
      "text/plain": [
       "\"<class 'music21.note.Rest'>   <class 'music21.note.Note'>   <class 'music21.note.Rest'>   <class 'music21.note.Note'>   <class 'music21.note.Note'>   <class 'music21.note.Note'>   <class 'music21.note.Note'>   <class 'music21.note.Note'>   <class 'music21.note.Note'>   <class 'music21.note.Note'>   <class 'music21.note.Note'>   <class 'music21.note.Note'>   <class 'music21.note.Note'>   <class 'music21.note.Note'>   <class 'music21.note.Note'>   <class 'music21.note.Note'>   <class 'music21.note.Note'>   <class 'music21.note.Note'>   <class 'music21.note.Note'>   <class 'music21.note.Note'>\""
      ]
     },
     "execution_count": 16,
     "metadata": {},
     "output_type": "execute_result"
    }
   ],
   "source": [
    "\"   \".join([str(type(x)) for x in s_jazz_part0_voices[1][0:20]])"
   ]
  },
  {
   "cell_type": "markdown",
   "metadata": {},
   "source": [
    "## deep jazzにおける measures, chordsの生成手順"
   ]
  },
  {
   "cell_type": "markdown",
   "metadata": {},
   "source": [
    "- part 0 , 1 , 6 ,7 とメロディーパートであるPart 5をfull_streamに格納\n"
   ]
  },
  {
   "cell_type": "markdown",
   "metadata": {},
   "source": [
    "## abstract grammar\n",
    "abstract grammarは\n",
    "http://ai.stanford.edu/~kdtang/papers/smc09-jazzgrammar.pdf\n",
    "に記述がある。以下解読を試みる"
   ]
  },
  {
   "cell_type": "markdown",
   "metadata": {},
   "source": [
    "### abstract_grammar論文のSymbol S\n",
    "deep jazzの__is_scale_toneでは和音が属している（deriveで推定）音階に入っている音かどうかを判定している"
   ]
  },
  {
   "cell_type": "markdown",
   "metadata": {},
   "source": [
    "### Symbol C\n",
    "和音自体の構成音とのマッチング判定をしている"
   ]
  },
  {
   "cell_type": "markdown",
   "metadata": {},
   "source": [
    "### Symbol A\n",
    "和音の構成音±１かどうかを判定"
   ]
  },
  {
   "cell_type": "markdown",
   "metadata": {},
   "source": [
    "（Δ 1 2 S8 S8 S8)は\n",
    "- 上記の分類でSとなる八分音符が音が高くなる形で３つ続く\n",
    "- 各音の間のpitchは最低で１半音、最大で２半音\n",
    "\n",
    "であることを意味している"
   ]
  },
  {
   "cell_type": "markdown",
   "metadata": {},
   "source": [
    "このabstract grammarのポイント\n",
    "- 「上がり始めるとしばらく上がっている傾向が強い」というmomentum的な傾向があること\n",
    "- 上昇・下降スピードが一定範囲以内であればある種の同一視が可能なこと\n"
   ]
  },
  {
   "cell_type": "markdown",
   "metadata": {},
   "source": [
    "- 上昇・下降が連続しない場合、本来であれば速度の「上限＝下限」となるが、半音ずつ緩めたほうが良いとのこと"
   ]
  },
  {
   "cell_type": "markdown",
   "metadata": {},
   "source": [
    "### 参考情報\n",
    "\n",
    "Cruz-Alcazar and Vidal-RuizはGregorian, Bach, JoplinでGrammatical Inferenceに基づき、音楽を生成。Gregorianのパフォーマンスが最もよかった。\n",
    "\n",
    "\n",
    "Pedro P. Alcazar and Enrique Vidal-Ruiz, “Learning\n",
    "Regular Grammars to Model Musical Style: Comparing\n",
    "Different Coding Schemes”, Proceedings of 4th ICGI, 211-\n",
    "222, 1998."
   ]
  },
  {
   "cell_type": "markdown",
   "metadata": {},
   "source": [
    "## (参照論文中のアルゴリズム)Markov chain"
   ]
  },
  {
   "cell_type": "markdown",
   "metadata": {},
   "source": [
    "推移行列を推定するために似た「abstract measures」をK-meansでクラスタリングする。この際以下の7次元のユークリッド空間に各abstract measureをマップして行う\n",
    "\n",
    "(note数, window内の最初の音の位置 , restのtotal duration , 上昇スロープおよび下降スロープの勾配絶対値の平均 , on the beatからスタートするか , 上昇・下降の切り替わりの回数　, consonance)\n",
    "\n",
    "ただし、consonaneは以下のスコアの合計\n",
    "- chord note : 0.8\n",
    "- approach note : 0.6\n",
    "- color note : 0.4\n",
    "- その他 : 0.1\n"
   ]
  },
  {
   "cell_type": "markdown",
   "metadata": {},
   "source": [
    "## Deep jazz code上のabstract grammarの表現・表記\n",
    "\n",
    "- 論文でR8と表記されているもの->R,0.125に\n",
    "- slopeの上限、下限は論文では半音数表記だが、deep jazzコード上はM3(すなわちMajor 3rd, 長三度)といった表記"
   ]
  },
  {
   "cell_type": "markdown",
   "metadata": {},
   "source": [
    "## deep jazzにおけるabstract grammar構成手順\n",
    "- measuresとchordsは同じ数の要素を持つorderedDict\n",
    "- 例えばix番目のmeasureとchordからそれぞれstream.Voice(m , c)を作る\n",
    "- m,cをparse_melodyに突っ込む"
   ]
  },
  {
   "cell_type": "markdown",
   "metadata": {},
   "source": [
    "mは以下のような感じ\n",
    "<img src='m.png'>"
   ]
  },
  {
   "cell_type": "markdown",
   "metadata": {},
   "source": [
    "それに対してcは以下のような感じ"
   ]
  },
  {
   "cell_type": "raw",
   "metadata": {},
   "source": [
    "In[9]: [x for x in c]\n",
    "\n",
    "Out[9]: [<music21.chord.Chord E-4 G4 C4 B-3 G#2>, <music21.chord.Chord B-3 F4 D4 A3>]\n",
    "\n",
    "In[10]: [x.offset for x in c]\n",
    "\n",
    "Out[10]: [476.0, 478.0]"
   ]
  },
  {
   "cell_type": "markdown",
   "metadata": {},
   "source": [
    "### parse_melodyが何をやっているか？"
   ]
  },
  {
   "cell_type": "markdown",
   "metadata": {},
   "source": [
    "## Abstract grammarを得たあとの処理\n",
    "\n",
    "get_corpus_dataによって以下を生成：\n",
    "\n",
    "- corpus(list)はabstract_grammar(list)を上昇、下降単位に分解したもの\n",
    "- valuesはcorpusのset化したもの\n",
    "- val_indicesはvaluesに番号をつけたものをvalues側から引けるようにしたもの\n",
    "- indices_valは逆に番号側から引けるようにしたもの\n",
    "\n",
    "これでLSTMに突っ込む準備ができた！"
   ]
  },
  {
   "cell_type": "markdown",
   "metadata": {},
   "source": [
    "## LSTMのmodel build\n",
    "\n",
    "- sentencesはlistのlist\n",
    "- next_valuesはstrのlist\n",
    "\n",
    "- X,yはboolをとるnumpy.ndarrayなのでTrue, Falseがだーと並んでるがたぶん問題ない\n"
   ]
  },
  {
   "cell_type": "markdown",
   "metadata": {},
   "source": [
    "## Generation part"
   ]
  },
  {
   "cell_type": "markdown",
   "metadata": {},
   "source": [
    "### __generate_grammarのなかでやっていること\n",
    "\n",
    "- corpusからランダムに開始位置を決め、そこからmax_len個の\"word\"(abstract grammar)をとってきてsentenceに格納\n",
    "- sentenceをtoken化してxに格納\n",
    "- xからnext_val(これもcorpusと同じ粒度のword or abstract grammar)をLSTMでpredict\n",
    " - ただし、最初の音に関しては 'S,0.333'みたいな音でなくてはならない。すなわち、\n",
    "   - 'X,0.250,<d1,P-5>' みたいな<>が入っている表現ではダメで、かつ、\n",
    "   - 休止符であってもいけない\n",
    "   \n",
    "   この条件をみたすまでpredictを繰り返す（結構何回も必要なはず？）\n",
    "- next_valから  長さ情報を抜き出す\n",
    "- sentenceの最後にnext_valを付け加える\n",
    "- 長さの合計が４を超えたらexit\n",
    "\n",
    "返り値のcurr_grammarはstrであることに注意\n"
   ]
  },
  {
   "cell_type": "markdown",
   "metadata": {},
   "source": [
    "### unparse_grammar\n",
    "curr_grammarとcurr_chordから具体的なnoteに展開"
   ]
  }
 ],
 "metadata": {
  "kernelspec": {
   "display_name": "Python 3",
   "language": "python",
   "name": "python3"
  },
  "language_info": {
   "codemirror_mode": {
    "name": "ipython",
    "version": 3
   },
   "file_extension": ".py",
   "mimetype": "text/x-python",
   "name": "python",
   "nbconvert_exporter": "python",
   "pygments_lexer": "ipython3",
   "version": "3.4.5"
  }
 },
 "nbformat": 4,
 "nbformat_minor": 0
}
