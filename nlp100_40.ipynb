{
 "cells": [
  {
   "cell_type": "markdown",
   "metadata": {},
   "source": [
    "** cabocha インストール (ubuntu) **\n",
    "一番参考になったのは\n",
    "https://qiita.com/nezuq/items/f481f07fc0576b38e81d\n",
    "\n",
    "- CRF++を普通にmakeしてインストールする\n",
    "- CRF++を\n",
    "https://y-uti.hatenablog.jp/?page=1473492021\n",
    "に従って、ldconfigを行って認識させる\n",
    "sudo ldconfig\n",
    "- cabochaをビルド。この際に\n",
    "https://qiita.com/nezuq/items/f481f07fc0576b38e81d\n",
    "に従って、configureは以下のとおりにやる\n",
    "./configure --with-mecab-config=`which mecab-config` --with-charset=UTF8 --with-posset=juman\n",
    "\n",
    "- sudo -iしたあと、ソースのディレクトリ以下のに入り、\n",
    "　　　/home/ユーザー名/anaconda3/bin/python ./setup.py install\n",
    "　のようにする。(pythonを直に指定しないとrootが優先して使うシステムのpythonを呼びに行ってしまう）\n"
   ]
  },
  {
   "cell_type": "markdown",
   "metadata": {},
   "source": [
    "** CaboChaインストール (windows)**\n",
    "\n",
    "- 32bit版のpythonのcondaenvを作成。activateしたときにmecabとcabochaのbinがpathに追加されるように設定\n",
    "- 32bit版のMecabをインストール（必ずCaboChaインストール前に上記のpathを通すことを含めてやる）\n",
    "- CaboChaのexeからインストール（32bitのcondaenvをactivateしたうえで行う）\n",
    "- 公式バインディングは評判も悪いし、インストールがそもそもできないのでbindingを使う（？）\n",
    "VS community version を入れればよい？==>うまくいかず\n",
    "http://isiz.hateblo.jp/entry/2015/08/22/Python%E3%81%A7Unable_to_find_vcvarsall.bat%E3%81%A8%E8%A8%80%E3%82%8F%E3%82%8C%E3%82%8B%E9%9A%9B%E3%81%AE%E3%81%BE%E3%81%A8%E3%82%81\n",
    "\n",
    "Visual c++　2015 build tool?\n",
    "https://blog.ionelmc.ro/2014/12/21/compiling-python-extensions-on-windows/\n",
    "\n",
    "\n",
    "\n",
    "\n",
    "https://github.com/kenkov/cabocha\n",
    "\n",
    "https://musaprg.hatenablog.com/entry/2018/02/09/005510\n",
    "\n",
    "\n",
    "https://teratail.com/questions/80487\n",
    "\n",
    "\n",
    "以下検証中:\n",
    "\n",
    "https://qiita.com/mima_ita/items/161cd869648edb30627b\n",
    "\n",
    "https://teratail.com/questions/80487\n",
    "\n",
    "\n",
    "https://hayataka2049.hatenablog.jp/entry/2018/03/23/075140\n"
   ]
  },
  {
   "cell_type": "code",
   "execution_count": 2,
   "metadata": {
    "scrolled": false
   },
   "outputs": [],
   "source": [
    "import CaboCha\n"
   ]
  },
  {
   "cell_type": "code",
   "execution_count": null,
   "metadata": {
    "collapsed": true
   },
   "outputs": [],
   "source": []
  }
 ],
 "metadata": {
  "kernelspec": {
   "display_name": "Python [default]",
   "language": "python",
   "name": "python3"
  },
  "language_info": {
   "codemirror_mode": {
    "name": "ipython",
    "version": 3
   },
   "file_extension": ".py",
   "mimetype": "text/x-python",
   "name": "python",
   "nbconvert_exporter": "python",
   "pygments_lexer": "ipython3",
   "version": "3.5.4"
  },
  "toc": {
   "nav_menu": {},
   "number_sections": true,
   "sideBar": false,
   "skip_h1_title": false,
   "toc_cell": false,
   "toc_position": {},
   "toc_section_display": "block",
   "toc_window_display": false
  },
  "varInspector": {
   "cols": {
    "lenName": 16,
    "lenType": 16,
    "lenVar": 40
   },
   "kernels_config": {
    "python": {
     "delete_cmd_postfix": "",
     "delete_cmd_prefix": "del ",
     "library": "var_list.py",
     "varRefreshCmd": "print(var_dic_list())"
    },
    "r": {
     "delete_cmd_postfix": ") ",
     "delete_cmd_prefix": "rm(",
     "library": "var_list.r",
     "varRefreshCmd": "cat(var_dic_list()) "
    }
   },
   "types_to_exclude": [
    "module",
    "function",
    "builtin_function_or_method",
    "instance",
    "_Feature"
   ],
   "window_display": false
  }
 },
 "nbformat": 4,
 "nbformat_minor": 2
}
