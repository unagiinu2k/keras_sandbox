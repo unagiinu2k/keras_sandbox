{
 "cells": [
  {
   "cell_type": "markdown",
   "metadata": {},
   "source": [
    "** cabocha インストール (ubuntu。うまくいった) **\n",
    "一番参考になったのは\n",
    "https://qiita.com/nezuq/items/f481f07fc0576b38e81d\n",
    "\n",
    "- CRF++を普通にmakeしてインストールする\n",
    "- CRF++を\n",
    "https://y-uti.hatenablog.jp/?page=1473492021\n",
    "に従って、ldconfigを行って認識させる\n",
    "sudo ldconfig\n",
    "- cabochaをビルド。この際に\n",
    "https://qiita.com/nezuq/items/f481f07fc0576b38e81d\n",
    "に従って、configureは以下のとおりにやる\n",
    "./configure --with-mecab-config=`which mecab-config` --with-charset=UTF8 --with-posset=juman\n",
    "\n",
    "- sudo -iしたあと、ソースのディレクトリ以下のに入り、\n",
    "　　　/home/ユーザー名/anaconda3/bin/python ./setup.py install\n",
    "　のようにする。(pythonを直に指定しないとrootが優先して使うシステムのpythonを呼びに行ってしまう）\n"
   ]
  },
  {
   "cell_type": "markdown",
   "metadata": {},
   "source": [
    "** CaboChaインストール (windows.まだうまくいっていない)**\n",
    "\n",
    "- 32bit版のpythonのcondaenvを作成。activateしたときにmecabとcabochaのbinがpathに追加されるように設定\n",
    "- 32bit版のMecabをインストール（必ずCaboChaインストール前に上記のpathを通すことを含めてやる）\n",
    "- CaboChaのexeからインストール（32bitのcondaenvをactivateしたうえで行う）\n",
    "- 公式バインディングは評判も悪いし、インストールがそもそもできないのでbindingを使う（？）\n",
    "VS community version を入れればよい？==>うまくいかず\n",
    "http://isiz.hateblo.jp/entry/2015/08/22/Python%E3%81%A7Unable_to_find_vcvarsall.bat%E3%81%A8%E8%A8%80%E3%82%8F%E3%82%8C%E3%82%8B%E9%9A%9B%E3%81%AE%E3%81%BE%E3%81%A8%E3%82%81\n",
    "\n",
    "Visual c++　2015 build tool?\n",
    "https://blog.ionelmc.ro/2014/12/21/compiling-python-extensions-on-windows/\n",
    "\n",
    "\n",
    "\n",
    "\n",
    "https://github.com/kenkov/cabocha\n",
    "\n",
    "https://musaprg.hatenablog.com/entry/2018/02/09/005510\n",
    "\n",
    "\n",
    "https://teratail.com/questions/80487\n",
    "\n",
    "\n",
    "以下検証中:\n",
    "\n",
    "https://qiita.com/mima_ita/items/161cd869648edb30627b\n",
    "\n",
    "https://teratail.com/questions/80487\n",
    "\n",
    "\n",
    "https://hayataka2049.hatenablog.jp/entry/2018/03/23/075140\n"
   ]
  },
  {
   "cell_type": "code",
   "execution_count": 1,
   "metadata": {
    "scrolled": false
   },
   "outputs": [],
   "source": [
    "import CaboCha\n"
   ]
  },
  {
   "cell_type": "code",
   "execution_count": 2,
   "metadata": {},
   "outputs": [],
   "source": [
    "import codecs"
   ]
  },
  {
   "cell_type": "markdown",
   "metadata": {},
   "source": [
    "** 基本的な使い方 **"
   ]
  },
  {
   "cell_type": "markdown",
   "metadata": {},
   "source": [
    "https://qiita.com/nezuq/items/f481f07fc0576b38e81d"
   ]
  },
  {
   "cell_type": "code",
   "execution_count": 3,
   "metadata": {},
   "outputs": [],
   "source": [
    "c = CaboCha.Parser()"
   ]
  },
  {
   "cell_type": "code",
   "execution_count": 4,
   "metadata": {},
   "outputs": [],
   "source": [
    "tmp2 = (c.parse(u'吾輩は猫である。名前は、まだない。'))"
   ]
  },
  {
   "cell_type": "code",
   "execution_count": 5,
   "metadata": {},
   "outputs": [
    {
     "name": "stdout",
     "output_type": "stream",
     "text": [
      "* 0 1D 0/1 0.708798\n",
      "吾輩\t名詞,代名詞,一般,*,*,*,吾輩,ワガハイ,ワガハイ\n",
      "は\t助詞,係助詞,*,*,*,*,は,ハ,ワ\n",
      "* 1 3D 3/3 -1.131290\n",
      "猫\t名詞,一般,*,*,*,*,猫,ネコ,ネコ\n",
      "で\t助動詞,*,*,*,特殊・ダ,連用形,だ,デ,デ\n",
      "ある\t助動詞,*,*,*,五段・ラ行アル,基本形,ある,アル,アル\n",
      "。\t記号,句点,*,*,*,*,。,。,。\n",
      "* 2 3D 2/2 -1.131290\n",
      "名前\t名詞,一般,*,*,*,*,名前,ナマエ,ナマエ\n",
      "は\t助詞,係助詞,*,*,*,*,は,ハ,ワ\n",
      "、\t記号,読点,*,*,*,*,、,、,、\n",
      "* 3 -1D 2/2 0.000000\n",
      "まだ\t副詞,助詞類接続,*,*,*,*,まだ,マダ,マダ\n",
      "ない\t形容詞,自立,*,*,形容詞・アウオ段,基本形,ない,ナイ,ナイ\n",
      "。\t記号,句点,*,*,*,*,。,。,。\n",
      "EOS\n",
      "\n"
     ]
    }
   ],
   "source": [
    "print(tmp2.toString(CaboCha.FORMAT_LATTICE))\n"
   ]
  },
  {
   "cell_type": "code",
   "execution_count": 6,
   "metadata": {
    "scrolled": false
   },
   "outputs": [
    {
     "name": "stdout",
     "output_type": "stream",
     "text": [
      "    吾輩は-D    \n",
      "  猫である。---D\n",
      "      名前は、-D\n",
      "        まだない\n",
      "EOS\n",
      "\n"
     ]
    }
   ],
   "source": [
    "print(c.parseToString(u'吾輩は猫である。名前は、まだない'))"
   ]
  },
  {
   "cell_type": "code",
   "execution_count": 33,
   "metadata": {},
   "outputs": [],
   "source": [
    "tmp = c.parse(u'吾輩は猫である。名前はまだない。')"
   ]
  },
  {
   "cell_type": "code",
   "execution_count": 37,
   "metadata": {},
   "outputs": [],
   "source": [
    "c.parseToString?"
   ]
  },
  {
   "cell_type": "markdown",
   "metadata": {
    "collapsed": true
   },
   "source": [
    "** 0. 形態素を表すクラスMorphを実装せよ．**\n",
    "\n",
    "このクラスは表層形（surface），基本形（base），品詞（pos），品詞細分類1（pos1）をメンバ変数に持つこととする．さらに，CaboChaの解析結果（neko.txt.cabocha）を読み込み，各文をMorphオブジェクトのリストとして表現し，3文目の形態素列を表示せよ "
   ]
  },
  {
   "cell_type": "code",
   "execution_count": 7,
   "metadata": {},
   "outputs": [],
   "source": [
    "fname_parsed = '/home/toshinao/PycharmProjects/keras_sandbox/nlp100data/neko.txt.cabocha'\n",
    "neko_file_dir = '/home/toshinao/PycharmProjects/keras_sandbox/nlp100data/neko.txt'"
   ]
  },
  {
   "cell_type": "code",
   "execution_count": 8,
   "metadata": {},
   "outputs": [],
   "source": [
    "with codecs.open(neko_file_dir , \"r\" , 'utf-8') as rf ,\\\n",
    "    codecs.open(fname_parsed , 'w' , 'utf-8') as wf:\n",
    "    c = CaboCha.Parser()\n",
    "    for l in rf:\n",
    "        wf.write(c.parse(l).toString(CaboCha.FORMAT_LATTICE))"
   ]
  },
  {
   "cell_type": "code",
   "execution_count": 9,
   "metadata": {},
   "outputs": [],
   "source": [
    "class Morph:\n",
    "    def __init__(self , surface ,base , pos , pos1):\n",
    "        self.surface = surface\n",
    "        self.base = base\n",
    "        self.pos = pos\n",
    "        self.pos1 = pos1\n",
    "    def __str__(self):\n",
    "        return ('surface[{}]\\tbase[{}]\\tpos[{}]\\tpos1[{}]'.format(self.surface, self.base , self.pos , self.pos1))"
   ]
  },
  {
   "cell_type": "code",
   "execution_count": 34,
   "metadata": {},
   "outputs": [],
   "source": [
    "def create_llmorph():\n",
    "    morphs = []\n",
    "    with codecs.open(fname_parsed, 'r' , 'utf-8') as f0:\n",
    "        for x in f0:\n",
    "            run_split = x.replace('\\t',',').split(',')\n",
    "            if x == \"EOS\\n\":\n",
    "                yield morphs\n",
    "                morphs = []\n",
    "            elif x[0] == '*' or x[0] == '\\u3000':\n",
    "                continue\n",
    "            else:\n",
    "                \n",
    "                if len(run_split) > 7 :\n",
    "                    run_map = Morph(run_split[0],\n",
    "                                    run_split[7],\n",
    "                                    run_split[1] ,\n",
    "                                    run_split[2])\n",
    "\n",
    "                    morphs.append(run_map)\n",
    "                #print(x.replace('\\t'))"
   ]
  },
  {
   "cell_type": "code",
   "execution_count": 35,
   "metadata": {},
   "outputs": [],
   "source": [
    "llmorph = []\n",
    "for x in create_llmorph():\n",
    "    llmorph.append(x)"
   ]
  },
  {
   "cell_type": "code",
   "execution_count": 40,
   "metadata": {},
   "outputs": [
    {
     "name": "stdout",
     "output_type": "stream",
     "text": [
      "surface[何]\tbase[何]\tpos[名詞]\tpos1[代名詞]\n",
      "surface[でも]\tbase[でも]\tpos[助詞]\tpos1[副助詞]\n",
      "surface[薄暗い]\tbase[薄暗い]\tpos[形容詞]\tpos1[自立]\n",
      "surface[じめじめ]\tbase[じめじめ]\tpos[副詞]\tpos1[一般]\n",
      "surface[し]\tbase[する]\tpos[動詞]\tpos1[自立]\n",
      "surface[た]\tbase[た]\tpos[助動詞]\tpos1[*]\n",
      "surface[所]\tbase[所]\tpos[名詞]\tpos1[非自立]\n",
      "surface[で]\tbase[で]\tpos[助詞]\tpos1[格助詞]\n",
      "surface[ニャーニャー]\tbase[*\n",
      "]\tpos[名詞]\tpos1[一般]\n",
      "surface[泣い]\tbase[泣く]\tpos[動詞]\tpos1[自立]\n",
      "surface[て]\tbase[て]\tpos[助詞]\tpos1[接続助詞]\n",
      "surface[いた事]\tbase[いた事]\tpos[名詞]\tpos1[一般]\n",
      "surface[だけ]\tbase[だけ]\tpos[助詞]\tpos1[副助詞]\n",
      "surface[は]\tbase[は]\tpos[助詞]\tpos1[係助詞]\n",
      "surface[記憶]\tbase[記憶]\tpos[名詞]\tpos1[サ変接続]\n",
      "surface[し]\tbase[する]\tpos[動詞]\tpos1[自立]\n",
      "surface[て]\tbase[て]\tpos[助詞]\tpos1[接続助詞]\n",
      "surface[いる]\tbase[いる]\tpos[動詞]\tpos1[非自立]\n",
      "surface[。]\tbase[。]\tpos[記号]\tpos1[句点]\n"
     ]
    }
   ],
   "source": [
    "for x in llmorph[6]:\n",
    "    print(x)"
   ]
  },
  {
   "cell_type": "markdown",
   "metadata": {},
   "source": [
    "**** sandbox ****"
   ]
  },
  {
   "cell_type": "code",
   "execution_count": 24,
   "metadata": {},
   "outputs": [],
   "source": [
    "with codecs.open(fname_parsed , 'r' , 'utf-8') as rf:\n",
    "    tmp = [x for x in rf]"
   ]
  },
  {
   "cell_type": "code",
   "execution_count": 33,
   "metadata": {},
   "outputs": [
    {
     "data": {
      "text/plain": [
       "'\\u3000'"
      ]
     },
     "execution_count": 33,
     "metadata": {},
     "output_type": "execute_result"
    }
   ],
   "source": [
    "tmp[5][0]"
   ]
  },
  {
   "cell_type": "code",
   "execution_count": 10,
   "metadata": {},
   "outputs": [],
   "source": [
    "\n",
    "tmptmp = Morph(\"a\",\"A\",\"b\",\"B\")"
   ]
  },
  {
   "cell_type": "code",
   "execution_count": 18,
   "metadata": {},
   "outputs": [
    {
     "name": "stdout",
     "output_type": "stream",
     "text": [
      "surface[a]\tbase[A]\tpos[b]\tpos1[B]\n"
     ]
    }
   ],
   "source": [
    "print(tmptmp)"
   ]
  },
  {
   "cell_type": "markdown",
   "metadata": {},
   "source": [
    "以下は問題の趣旨に合っていない"
   ]
  },
  {
   "cell_type": "code",
   "execution_count": 81,
   "metadata": {},
   "outputs": [],
   "source": [
    "morphs = []\n",
    "with codecs.open(fname_parsed, 'r' , 'utf-8') as f0:\n",
    "    for x in f0:\n",
    "        run_split = x.replace('\\t',',').split(',')\n",
    "        if len(run_split) > 7:\n",
    "            run_map = Morph(run_split[0],\n",
    "                            run_split[7],\n",
    "                            run_split[1] ,\n",
    "                            run_split[2])\n",
    "\n",
    "            morphs.append(run_map)\n",
    "        #print(x.replace('\\t'))"
   ]
  },
  {
   "cell_type": "code",
   "execution_count": 116,
   "metadata": {},
   "outputs": [],
   "source": [
    "with codecs.open(fname_parsed , 'r' , 'utf-8') as rf:\n",
    "    tmp = [x for x in rf][0:100]"
   ]
  },
  {
   "cell_type": "code",
   "execution_count": 42,
   "metadata": {},
   "outputs": [
    {
     "name": "stdout",
     "output_type": "stream",
     "text": [
      "* 0 -1D 0/0 0.000000\n",
      "\n",
      "一\t名詞,数,*,*,*,*,一,イチ,イチ\n",
      "\n",
      "EOS\n",
      "\n",
      "EOS\n",
      "\n",
      "* 0 1D 1/2 0.000000\n",
      "\n",
      "　\t記号,空白,*,*,*,*,　,　,　\n",
      "\n",
      "吾輩\t名詞,代名詞,一般,*,*,*,吾輩,ワガハイ,ワガハイ\n",
      "\n",
      "は\t助詞,係助詞,*,*,*,*,は,ハ,ワ\n",
      "\n",
      "* 1 -1D 3/3 0.000000\n",
      "\n",
      "猫\t名詞,一般,*,*,*,*,猫,ネコ,ネコ\n",
      "\n",
      "で\t助動詞,*,*,*,特殊・ダ,連用形,だ,デ,デ\n",
      "\n",
      "ある\t助動詞,*,*,*,五段・ラ行アル,基本形,ある,アル,アル\n",
      "\n",
      "。\t記号,句点,*,*,*,*,。,。,。\n",
      "\n",
      "EOS\n",
      "\n",
      "* 0 1D 0/1 0.000000\n",
      "\n",
      "名前\t名詞,一般,*,*,*,*,名前,ナマエ,ナマエ\n",
      "\n",
      "は\t助詞,係助詞,*,*,*,*,は,ハ,ワ\n",
      "\n",
      "* 1 -1D 2/2 0.000000\n",
      "\n",
      "まだ\t副詞,助詞類接続,*,*,*,*,まだ,マダ,マダ\n",
      "\n",
      "無い\t形容詞,自立,*,*,形容詞・アウオ段,基本形,無い,ナイ,ナイ\n",
      "\n",
      "。\t記号,句点,*,*,*,*,。,。,。\n",
      "\n",
      "EOS\n",
      "\n",
      "EOS\n",
      "\n",
      "* 0 2D 1/2 -0.455066\n",
      "\n",
      "　\t記号,空白,*,*,*,*,　,　,　\n",
      "\n",
      "どこ\t名詞,代名詞,一般,*,*,*,どこ,ドコ,ドコ\n",
      "\n",
      "で\t助詞,格助詞,一般,*,*,*,で,デ,デ\n",
      "\n",
      "* 1 2D 4/5 -0.455066\n",
      "\n",
      "生れ\t動詞,自立,*,*,一段,連用形,生れる,ウマレ,ウマレ\n",
      "\n",
      "た\t助動詞,*,*,*,特殊・タ,基本形,た,タ,タ\n",
      "\n",
      "か\t助詞,副助詞／並立助詞／終助詞,*,*,*,*,か,カ,カ\n",
      "\n",
      "とんと\t副詞,一般,*,*,*,*,とんと,トント,トント\n",
      "\n",
      "見当\t名詞,サ変接続,*,*,*,*,見当,ケントウ,ケントー\n",
      "\n",
      "が\t助詞,格助詞,一般,*,*,*,が,ガ,ガ\n",
      "\n",
      "* 2 -1D 2/2 0.000000\n",
      "\n",
      "つか\t動詞,自立,*,*,五段・カ行イ音便,未然形,つく,ツカ,ツカ\n",
      "\n",
      "ぬ\t助動詞,*,*,*,特殊・ヌ,基本形,ぬ,ヌ,ヌ\n",
      "\n",
      "。\t記号,句点,*,*,*,*,。,。,。\n",
      "\n",
      "EOS\n",
      "\n",
      "* 0 1D 0/1 0.296355\n",
      "\n",
      "何\t名詞,代名詞,一般,*,*,*,何,ナニ,ナニ\n",
      "\n",
      "でも\t助詞,副助詞,*,*,*,*,でも,デモ,デモ\n",
      "\n",
      "* 1 2D 3/3 0.093168\n",
      "\n",
      "薄暗い\t形容詞,自立,*,*,形容詞・アウオ段,基本形,薄暗い,ウスグライ,ウスグライ\n",
      "\n",
      "じめじめ\t副詞,一般,*,*,*,*,じめじめ,ジメジメ,ジメジメ\n",
      "\n",
      "し\t動詞,自立,*,*,サ変・スル,連用形,する,シ,シ\n",
      "\n",
      "た\t助動詞,*,*,*,特殊・タ,基本形,た,タ,タ\n",
      "\n",
      "* 2 3D 0/1 0.435209\n",
      "\n",
      "所\t名詞,非自立,副詞可能,*,*,*,所,トコロ,トコロ\n",
      "\n",
      "で\t助詞,格助詞,一般,*,*,*,で,デ,デ\n",
      "\n",
      "* 3 5D 1/2 0.656580\n",
      "\n",
      "ニャーニャー\t名詞,一般,*,*,*,*,*\n",
      "\n",
      "泣い\t動詞,自立,*,*,五段・カ行イ音便,連用タ接続,泣く,ナイ,ナイ\n",
      "\n",
      "て\t助詞,接続助詞,*,*,*,*,て,テ,テ\n",
      "\n",
      "* 4 5D 0/2 0.678141\n",
      "\n",
      "いた事\t名詞,一般,*,*,*,*,いた事,イタコト,イタコト\n",
      "\n",
      "だけ\t助詞,副助詞,*,*,*,*,だけ,ダケ,ダケ\n",
      "\n",
      "は\t助詞,係助詞,*,*,*,*,は,ハ,ワ\n",
      "\n",
      "* 5 6D 1/2 0.656580\n",
      "\n",
      "記憶\t名詞,サ変接続,*,*,*,*,記憶,キオク,キオク\n",
      "\n",
      "し\t動詞,自立,*,*,サ変・スル,連用形,する,シ,シ\n",
      "\n",
      "て\t助詞,接続助詞,*,*,*,*,て,テ,テ\n",
      "\n",
      "* 6 -1D 1/1 0.000000\n",
      "\n",
      "いる\t動詞,非自立,*,*,一段,基本形,いる,イル,イル\n",
      "\n",
      "。\t記号,句点,*,*,*,*,。,。,。\n",
      "\n",
      "EOS\n",
      "\n",
      "* 0 5D 0/1 -0.442967\n",
      "\n",
      "吾輩\t名詞,代名詞,一般,*,*,*,吾輩,ワガハイ,ワガハイ\n",
      "\n",
      "は\t助詞,係助詞,*,*,*,*,は,ハ,ワ\n",
      "\n",
      "* 1 2D 0/1 0.631580\n",
      "\n",
      "ここ\t名詞,代名詞,一般,*,*,*,ここ,ココ,ココ\n",
      "\n",
      "で\t助詞,格助詞,一般,*,*,*,で,デ,デ\n",
      "\n",
      "* 2 5D 0/1 -0.442967\n",
      "\n",
      "始め\t動詞,自立,*,*,一段,連用形,始める,ハジメ,ハジメ\n",
      "\n",
      "て\t助詞,接続助詞,*,*,*,*,て,テ,テ\n",
      "\n",
      "* 3 5D 0/1 -0.442967\n",
      "\n",
      "人間\t名詞,一般,*,*,*,*,人間,ニンゲン,ニンゲン\n",
      "\n",
      "という\t助詞,格助詞,連語,*,*,*,という,トイウ,トユウ\n",
      "\n",
      "* 4 5D 0/1 -0.442967\n",
      "\n",
      "もの\t名詞,非自立,一般,*,*,*,もの,モノ,モノ\n",
      "\n",
      "を\t助詞,格助詞,一般,*,*,*,を,ヲ,ヲ\n",
      "\n",
      "* 5 -1D 2/2 0.000000\n",
      "\n",
      "見\t動詞,自立,*,*,一段,連用形,見る,ミ,ミ\n",
      "\n",
      "た\t助動詞,*,*,*,特殊・タ,基本形,た,タ,タ\n",
      "\n",
      "。\t記号,句点,*,*,*,*,。,。,。\n",
      "\n",
      "EOS\n",
      "\n",
      "* 0 7D 0/0 -1.182453\n",
      "\n",
      "しかも\t接続詞,*,*,*,*,*,しかも,シカモ,シカモ\n",
      "\n",
      "* 1 2D 0/1 1.486297\n",
      "\n",
      "あと\t名詞,一般,*,*,*,*,あと,アト,アト\n",
      "\n",
      "で\t助詞,格助詞,一般,*,*,*,で,デ,デ\n",
      "\n",
      "* 2 3D 0/1 0.079631\n",
      "\n",
      "聞く\t動詞,自立,*,*,五段・カ行イ音便,基本形,聞く,キク,キク\n",
      "\n",
      "と\t助詞,接続助詞,*,*,*,*,と,ト,ト\n",
      "\n",
      "* 3 5D 2/3 0.304313\n",
      "\n",
      "それ\t名詞,代名詞,一般,*,*,*,それ,ソレ,ソレ\n",
      "\n",
      "は\t助詞,係助詞,*,*,*,*,は,ハ,ワ\n",
      "\n",
      "書生\t名詞,一般,*,*,*,*,書生,ショセイ,ショセイ\n",
      "\n",
      "という\t助詞,格助詞,連語,*,*,*,という,トイウ,トユウ\n",
      "\n",
      "* 4 5D 1/2 0.361767\n",
      "\n"
     ]
    },
    {
     "data": {
      "text/plain": [
       "[None,\n",
       " None,\n",
       " None,\n",
       " None,\n",
       " None,\n",
       " None,\n",
       " None,\n",
       " None,\n",
       " None,\n",
       " None,\n",
       " None,\n",
       " None,\n",
       " None,\n",
       " None,\n",
       " None,\n",
       " None,\n",
       " None,\n",
       " None,\n",
       " None,\n",
       " None,\n",
       " None,\n",
       " None,\n",
       " None,\n",
       " None,\n",
       " None,\n",
       " None,\n",
       " None,\n",
       " None,\n",
       " None,\n",
       " None,\n",
       " None,\n",
       " None,\n",
       " None,\n",
       " None,\n",
       " None,\n",
       " None,\n",
       " None,\n",
       " None,\n",
       " None,\n",
       " None,\n",
       " None,\n",
       " None,\n",
       " None,\n",
       " None,\n",
       " None,\n",
       " None,\n",
       " None,\n",
       " None,\n",
       " None,\n",
       " None,\n",
       " None,\n",
       " None,\n",
       " None,\n",
       " None,\n",
       " None,\n",
       " None,\n",
       " None,\n",
       " None,\n",
       " None,\n",
       " None,\n",
       " None,\n",
       " None,\n",
       " None,\n",
       " None,\n",
       " None,\n",
       " None,\n",
       " None,\n",
       " None,\n",
       " None,\n",
       " None,\n",
       " None,\n",
       " None,\n",
       " None,\n",
       " None,\n",
       " None,\n",
       " None,\n",
       " None,\n",
       " None,\n",
       " None,\n",
       " None,\n",
       " None,\n",
       " None,\n",
       " None,\n",
       " None,\n",
       " None,\n",
       " None,\n",
       " None,\n",
       " None,\n",
       " None,\n",
       " None,\n",
       " None,\n",
       " None,\n",
       " None,\n",
       " None,\n",
       " None,\n",
       " None,\n",
       " None,\n",
       " None,\n",
       " None,\n",
       " None]"
      ]
     },
     "execution_count": 42,
     "metadata": {},
     "output_type": "execute_result"
    }
   ],
   "source": [
    "[print(x) for i , x in enumerate(tmp) if i < 100]\n"
   ]
  },
  {
   "cell_type": "markdown",
   "metadata": {},
   "source": [
    "#### 40に加えて，文節を表すクラスChunkを実装せよ．\n",
    "このクラスは形態素（Morphオブジェクト）のリスト（morphs），係り先文節インデックス番号（dst），係り元文節インデックス番号のリスト（srcs）をメンバ変数に持つこととする．さらに，入力テキストのCaboChaの解析結果を読み込み，１文をChunkオブジェクトのリストとして表現し，8文目の文節の文字列と係り先を表示せよ．第5章の残りの問題では，ここで作ったプログラムを活用せよ"
   ]
  },
  {
   "cell_type": "code",
   "execution_count": 163,
   "metadata": {},
   "outputs": [],
   "source": [
    "class Chunk:\n",
    "    def __init__(self):\n",
    "        self.morphs = []\n",
    "        self.dst =  -1\n",
    "        self.srcs = []\n",
    "    def surface(self):\n",
    "        surface = \"\"\n",
    "        for x in self.morphs:\n",
    "            surface +=  x.surface\n",
    "        return surface\n",
    "    def surface_short(self):\n",
    "        surface = \"\"\n",
    "        for x in self.morphs:\n",
    "            if x.pos != \"記号\":\n",
    "                surface +=  x.surface\n",
    "        return surface\n",
    "        \n",
    "    def __str__(self):\n",
    "        #surface = \"\"\n",
    "        #for x in self.morphs:\n",
    "        #    surface +=  x.surface\n",
    "        return \"{}\\t src{}\\t dst[{}]\".format(self.surface(), self.srcs , self.dst)\n",
    "        "
   ]
  },
  {
   "cell_type": "code",
   "execution_count": 164,
   "metadata": {},
   "outputs": [],
   "source": [
    "import re"
   ]
  },
  {
   "cell_type": "code",
   "execution_count": 165,
   "metadata": {},
   "outputs": [],
   "source": [
    "def create_chunks():\n",
    "\n",
    "    with codecs.open(fname_parsed, 'r' , 'utf-8') as f0:\n",
    "        chunks = dict()\n",
    "        for x in f0:\n",
    "        \n",
    "            if x == \"EOS\\n\":\n",
    "                yield chunks\n",
    "                chunks = dict()\n",
    "            elif x[0] == '*':    \n",
    "                x_split = x.split(' ')\n",
    "                x_idx = int(x_split[1])\n",
    "                y_idx = int(re.search(r'^(.+)D' , x_split[2]).group(1))\n",
    "                if x_idx not in chunks:\n",
    "                    chunks[x_idx] = Chunk()\n",
    "                \n",
    "                chunks[x_idx].dst = y_idx\n",
    "                if y_idx != -1:\n",
    "                    if y_idx not in chunks:\n",
    "                        chunks[y_idx] = Chunk()\n",
    "\n",
    "                    chunks[y_idx].srcs.append(x_idx)\n",
    "\n",
    "                \n",
    "            else:\n",
    "                run_split = x.replace('\\t',',').split(',')\n",
    "                #if len(run_split) > 7  and (run_split[2] != '空白'):\n",
    "                if len(run_split) > 7  and (run_split[0] != '\\u3000'):\n",
    "                    run_map = Morph(run_split[0],\n",
    "                                    run_split[7],\n",
    "                                    run_split[1] ,\n",
    "                                    run_split[2])\n",
    "\n",
    "                    chunks[x_idx].morphs.append(run_map)\n",
    "                #print(x.replace('\\t'))"
   ]
  },
  {
   "cell_type": "markdown",
   "metadata": {},
   "source": [
    "参考URLにある「*?」は最短マッチ"
   ]
  },
  {
   "cell_type": "code",
   "execution_count": 166,
   "metadata": {},
   "outputs": [],
   "source": [
    "lchunk = []\n",
    "for x in create_chunks():\n",
    "    lchunk.append(x)"
   ]
  },
  {
   "cell_type": "code",
   "execution_count": 153,
   "metadata": {},
   "outputs": [
    {
     "name": "stdout",
     "output_type": "stream",
     "text": [
      "0\n",
      "1\n"
     ]
    }
   ],
   "source": [
    "for x in lchunk[3]:\n",
    "    print(x)\n",
    "    "
   ]
  },
  {
   "cell_type": "code",
   "execution_count": 159,
   "metadata": {},
   "outputs": [
    {
     "data": {
      "text/plain": [
       "[0, 1]"
      ]
     },
     "execution_count": 159,
     "metadata": {},
     "output_type": "execute_result"
    }
   ],
   "source": [
    "[x for x in lchunk[3]]"
   ]
  },
  {
   "cell_type": "code",
   "execution_count": 167,
   "metadata": {},
   "outputs": [
    {
     "name": "stdout",
     "output_type": "stream",
     "text": [
      "0 吾輩は\t src[]\t dst[5]\n",
      "1 ここで\t src[]\t dst[2]\n",
      "2 始めて\t src[1]\t dst[5]\n",
      "3 人間という\t src[]\t dst[5]\n",
      "4 ものを\t src[]\t dst[5]\n",
      "5 見た。\t src[0, 2, 3, 4]\t dst[-1]\n"
     ]
    }
   ],
   "source": [
    "for x in lchunk[7]:\n",
    "    print(x, lchunk[7][x])    "
   ]
  },
  {
   "cell_type": "code",
   "execution_count": 282,
   "metadata": {},
   "outputs": [],
   "source": [
    "tmptmp = lchunk[3].values()"
   ]
  },
  {
   "cell_type": "code",
   "execution_count": 283,
   "metadata": {},
   "outputs": [
    {
     "name": "stdout",
     "output_type": "stream",
     "text": [
      "\t src[-1] dst[['1']]\n"
     ]
    }
   ],
   "source": [
    "print(lchunk[3][-1])"
   ]
  },
  {
   "cell_type": "code",
   "execution_count": 284,
   "metadata": {},
   "outputs": [
    {
     "name": "stdout",
     "output_type": "stream",
     "text": [
      "まだ無い。\t src[-1] dst[[]]\n"
     ]
    }
   ],
   "source": [
    "print(list(tmptmp)[1])\n"
   ]
  },
  {
   "cell_type": "code",
   "execution_count": 275,
   "metadata": {},
   "outputs": [
    {
     "name": "stdout",
     "output_type": "stream",
     "text": [
      "['名', '前', 'は']\t src[1] dst[[]]\n"
     ]
    }
   ],
   "source": [
    "print(list(tmptmp)[0])"
   ]
  },
  {
   "cell_type": "code",
   "execution_count": 162,
   "metadata": {},
   "outputs": [
    {
     "data": {
      "text/plain": [
       "-1"
      ]
     },
     "execution_count": 162,
     "metadata": {},
     "output_type": "execute_result"
    }
   ],
   "source": [
    "int(re.search(r'^(.+)D' , tmp[0].split(' ')[2]).group(1))"
   ]
  },
  {
   "cell_type": "markdown",
   "metadata": {},
   "source": [
    "#### 係り元の文節と係り先の文節のテキストをタブ区切り形式ですべて抽出せよ．ただし，句読点などの記号は出力しないようにせよ．"
   ]
  },
  {
   "cell_type": "code",
   "execution_count": 177,
   "metadata": {},
   "outputs": [],
   "source": [
    "lpair = []\n",
    "for run_dict in lchunk:\n",
    "    for x in run_dict:\n",
    "        run_chunk = run_dict[x]\n",
    "        if run_chunk.dst != -1:\n",
    "            lpair.append(\"{}\\t{}\".format(run_chunk.surface_short() , run_dict[run_chunk.dst].surface_short()))\n",
    "   "
   ]
  },
  {
   "cell_type": "code",
   "execution_count": 178,
   "metadata": {},
   "outputs": [
    {
     "data": {
      "text/plain": [
       "53155"
      ]
     },
     "execution_count": 178,
     "metadata": {},
     "output_type": "execute_result"
    }
   ],
   "source": [
    "len(lpair)"
   ]
  },
  {
   "cell_type": "code",
   "execution_count": 179,
   "metadata": {},
   "outputs": [
    {
     "name": "stdout",
     "output_type": "stream",
     "text": [
      "名前は\tまだ無い\n"
     ]
    }
   ],
   "source": [
    "print(lpair[1])"
   ]
  },
  {
   "cell_type": "markdown",
   "metadata": {},
   "source": [
    "##### sandbox"
   ]
  },
  {
   "cell_type": "code",
   "execution_count": 169,
   "metadata": {},
   "outputs": [
    {
     "name": "stdout",
     "output_type": "stream",
     "text": [
      "吾輩は\t見た\n",
      "ここで\t始めて\n",
      "始めて\t見た\n",
      "人間という\t見た\n",
      "ものを\t見た\n"
     ]
    }
   ],
   "source": [
    "i = 7\n",
    "for x in lchunk[i]:\n",
    "    run_chunk = lchunk[i][x]\n",
    "    if run_chunk.dst != -1:\n",
    "        print(\"{}\\t{}\".format(run_chunk.surface_short() , lchunk[i][run_chunk.dst].surface_short()))\n",
    "   "
   ]
  },
  {
   "cell_type": "code",
   "execution_count": 176,
   "metadata": {},
   "outputs": [
    {
     "data": {
      "text/plain": [
       "dict"
      ]
     },
     "execution_count": 176,
     "metadata": {},
     "output_type": "execute_result"
    }
   ],
   "source": [
    "type(lchunk[i])"
   ]
  },
  {
   "cell_type": "markdown",
   "metadata": {},
   "source": [
    "#### 名詞を含む文節が，動詞を含む文節に係るとき，これらをタブ区切り形式で抽出せよ．ただし，句読点などの記号は出力しないようにせよ．"
   ]
  },
  {
   "cell_type": "markdown",
   "metadata": {},
   "source": [
    "https://stackoverflow.com/questions/1790520/how-to-apply-a-logical-operator-to-all-elements-in-a-python-list"
   ]
  },
  {
   "cell_type": "code",
   "execution_count": 191,
   "metadata": {},
   "outputs": [],
   "source": [
    "lpair43 = []\n",
    "for run_dict in lchunk:\n",
    "    for x in run_dict:\n",
    "        run_chunk = run_dict[x]\n",
    "        if run_chunk.dst != -1:    \n",
    "            run_dst_chunk = run_dict[run_chunk.dst]\n",
    "            is_contain_noun = any([m.pos == \"名詞\" for m in run_chunk.morphs])\n",
    "            is_contain_verb = any([m.pos == \"動詞\" for m in run_dst_chunk.morphs])\n",
    "            if is_contain_noun and is_contain_verb:\n",
    "                lpair43.append(\"{}\\t{}\".format(run_chunk.surface_short() , run_dst_chunk.surface_short()))\n",
    "    "
   ]
  },
  {
   "cell_type": "code",
   "execution_count": 192,
   "metadata": {},
   "outputs": [
    {
     "name": "stdout",
     "output_type": "stream",
     "text": [
      "どこで\tつかぬ\n",
      "生れたかとんと見当が\tつかぬ\n",
      "何でも\t薄暗いじめじめした\n",
      "所で\tニャーニャー泣いて\n",
      "ニャーニャー泣いて\t記憶して\n",
      "いた事だけは\t記憶して\n",
      "記憶して\tいる\n",
      "吾輩は\t見た\n",
      "ここで\t始めて\n",
      "人間という\t見た\n"
     ]
    },
    {
     "data": {
      "text/plain": [
       "[None, None, None, None, None, None, None, None, None, None]"
      ]
     },
     "execution_count": 192,
     "metadata": {},
     "output_type": "execute_result"
    }
   ],
   "source": [
    "[print(x) for  i , x in enumerate(lpair43) if i < 10]"
   ]
  },
  {
   "cell_type": "markdown",
   "metadata": {},
   "source": [
    "##### sandbox"
   ]
  },
  {
   "cell_type": "code",
   "execution_count": 188,
   "metadata": {},
   "outputs": [
    {
     "name": "stdout",
     "output_type": "stream",
     "text": [
      "吾輩は\t見た\n",
      "ここで\t始めて\n",
      "人間という\t見た\n",
      "ものを\t見た\n"
     ]
    }
   ],
   "source": [
    "i = 7\n",
    "run_dict = lchunk[i]\n",
    "for x in run_dict:\n",
    "    run_chunk = run_dict[x]\n",
    "    if run_chunk.dst != -1:    \n",
    "        run_dst_chunk = run_dict[run_chunk.dst]\n",
    "        is_contain_noun = any([m.pos == \"名詞\" for m in run_chunk.morphs])\n",
    "        is_contain_verb = any([m.pos == \"動詞\" for m in run_dst_chunk.morphs])\n",
    "        if is_contain_noun and is_contain_verb:\n",
    "            print(\"{}\\t{}\".format(run_chunk.surface_short() , run_dst_chunk.surface_short()))\n",
    "   "
   ]
  },
  {
   "cell_type": "code",
   "execution_count": 197,
   "metadata": {},
   "outputs": [
    {
     "name": "stdout",
     "output_type": "stream",
     "text": [
      "形容詞\n",
      "形容詞\n",
      "記号\n"
     ]
    }
   ],
   "source": [
    "for m in run_chunk.morphs:\n",
    "    print(m.pos)"
   ]
  },
  {
   "cell_type": "code",
   "execution_count": 186,
   "metadata": {},
   "outputs": [
    {
     "data": {
      "text/plain": [
       "True"
      ]
     },
     "execution_count": 186,
     "metadata": {},
     "output_type": "execute_result"
    }
   ],
   "source": [
    "any([m.pos == \"動詞\" for m in run_chunk.morphs])"
   ]
  },
  {
   "cell_type": "markdown",
   "metadata": {},
   "source": [
    "#### 与えられた文の係り受け木を有向グラフとして可視化せよ．可視化には，係り受け木をDOT言語に変換し，Graphvizを用いるとよい．また，Pythonから有向グラフを直接的に可視化するには，pydotを使うとよい"
   ]
  },
  {
   "cell_type": "code",
   "execution_count": 225,
   "metadata": {},
   "outputs": [],
   "source": [
    "from IPython.display import Image"
   ]
  },
  {
   "cell_type": "code",
   "execution_count": 195,
   "metadata": {},
   "outputs": [],
   "source": [
    "import pydot_ng as pydot"
   ]
  },
  {
   "cell_type": "code",
   "execution_count": 230,
   "metadata": {},
   "outputs": [],
   "source": [
    "g = pydot.Dot(graph_type =\"digraph\")"
   ]
  },
  {
   "cell_type": "code",
   "execution_count": 233,
   "metadata": {},
   "outputs": [
    {
     "name": "stdout",
     "output_type": "stream",
     "text": [
      "どこで\tつかぬ\n",
      "生れたかとんと見当が\tつかぬ\n"
     ]
    }
   ],
   "source": [
    "i = 5\n",
    "\n",
    "run_dict = lchunk[i]\n",
    "for x in run_dict:\n",
    "    run_chunk = run_dict[x]\n",
    "    g.add_node(pydot.Node(x , label = run_chunk.surface_short()))\n",
    "    if run_chunk.dst != -1:    \n",
    "        run_dst_chunk = run_dict[run_chunk.dst]     \n",
    "        g.add_node(pydot.Node(run_chunk.dst , label = run_dst_chunk.surface_short()))\n",
    "        g.add_edge(pydot.Edge(x , run_chunk.dst))\n",
    "        is_contain_noun = any([m.pos == \"名詞\" for m in run_chunk.morphs])\n",
    "        is_contain_verb = any([m.pos == \"動詞\" for m in run_dst_chunk.morphs])\n",
    "        if is_contain_noun and is_contain_verb:\n",
    "            print(\"{}\\t{}\".format(run_chunk.surface_short() , run_dst_chunk.surface_short()))"
   ]
  },
  {
   "cell_type": "code",
   "execution_count": 234,
   "metadata": {},
   "outputs": [
    {
     "data": {
      "image/png": "[encoded data removed]",
      "text/plain": [
       "<IPython.core.display.Image object>"
      ]
     },
     "execution_count": 234,
     "metadata": {},
     "output_type": "execute_result"
    }
   ],
   "source": [
    "Image(g.create_png())"
   ]
  },
  {
   "cell_type": "markdown",
   "metadata": {},
   "source": [
    "##### sandbox"
   ]
  },
  {
   "cell_type": "code",
   "execution_count": 237,
   "metadata": {},
   "outputs": [],
   "source": [
    "run_sentence = \"何でも薄暗いじめじめした所でニャーニャー泣いていた事だけは記憶している。\""
   ]
  },
  {
   "cell_type": "markdown",
   "metadata": {},
   "source": [
    "#### 動詞の格パターンの抽出\n",
    "今回用いている文章をコーパスと見なし，日本語の述語が取りうる格を調査したい． 動詞を述語，動詞に係っている文節の助詞を格と考え，述語と格をタブ区切り形式で出力せよ． ただし，出力は以下の仕様を満たすようにせよ．\n",
    "\n",
    "- 動詞を含む文節において，最左の動詞の基本形を述語とする\n",
    "- 述語に係る助詞を格とする\n",
    "- 述語に係る助詞（文節）が複数あるときは，すべての助詞をスペース区切りで辞書順に並べる\n",
    "\n",
    "「吾輩はここで始めて人間というものを見た」という例文（neko.txt.cabochaの8文目）を考える．この文は「始める」と「見る」の２つの動詞を含み，「始める」に係る文節は「ここで」，「見る」に係る文節は「吾輩は」と「ものを」と解析された場合は，次のような出力になるはずである．\n",
    "\n",
    "```bash\n",
    "始める  で\n",
    "見る    は を\n",
    "```\n",
    "\n",
    "このプログラムの出力をファイルに保存し，以下の事項をUNIXコマンドを用いて確認せよ．\n",
    "- コーパス中で頻出する述語と格パターンの組み合わせ\n",
    "- 「する」「見る」「与える」という動詞の格パターン（コーパス中で出現頻度の高い順に並べよ）"
   ]
  },
  {
   "cell_type": "code",
   "execution_count": 283,
   "metadata": {},
   "outputs": [],
   "source": [
    "run_list45 = []\n",
    "for run_dict in lchunk:\n",
    "    for x in run_dict:\n",
    "        run_chunk = run_dict[x]    \n",
    "        verbs_base = [m.base for m in run_chunk.morphs if m.pos == \"動詞\"]\n",
    "        if len(verbs_base) > 0:\n",
    "            run_verb = verbs_base[0]           \n",
    "            run_srcs = run_chunk.srcs\n",
    "            cases_text = \"\"\n",
    "            for s in run_srcs:\n",
    "                cases = [m.surface for m in run_dict[s].morphs if m.pos == \"助詞\"]\n",
    "                cases_text += \" \" + \" \".join(cases)\n",
    "\n",
    "            run_line = \"{}\\t{}\".format(run_verb , cases_text)\n",
    "            #print(run_line)\n",
    "            run_list45.append(run_line)\n"
   ]
  },
  {
   "cell_type": "code",
   "execution_count": 284,
   "metadata": {},
   "outputs": [
    {
     "data": {
      "text/plain": [
       "26027"
      ]
     },
     "execution_count": 284,
     "metadata": {},
     "output_type": "execute_result"
    }
   ],
   "source": [
    "len(run_list45)"
   ]
  },
  {
   "cell_type": "markdown",
   "metadata": {},
   "source": [
    "##### sandbox"
   ]
  },
  {
   "cell_type": "code",
   "execution_count": 285,
   "metadata": {},
   "outputs": [
    {
     "name": "stdout",
     "output_type": "stream",
     "text": [
      "artisticFilter.py\n",
      "bach_deep_learning.ipynb\n",
      "bach_dl2.ipynb\n",
      "basicImageManipulation.py\n",
      "comp_stream1.png\n",
      "cp.png\n",
      "data\n",
      "deep_jazz_all_in_one.py\n",
      "facialKeypointsDetection.py\n",
      "ggiraph_sandbox.ipynb\n",
      "imdb_classification_sandbox.py\n",
      "itertools.py\n",
      "m.png\n",
      "mschart_sandbox.ipynb\n",
      "music21_sandbox.py\n",
      "music21_sandbox_python3.ipynb\n",
      "natural_language_cnn.ipynb\n",
      "neutralStyleTransfer201610.py\n",
      "nlp100_30.ipynb\n",
      "nlp100_40.ipynb\n",
      "nlp100data\n",
      "nlp100.ipynb\n",
      "pycharm_jupyter_tips.ipynb\n",
      "random_music_instruments.ipynb\n",
      "reading_deepjazz_python3.ipynb\n",
      "results\n",
      "r_jupyter_notebook_sandbox.ipynb\n",
      "r_vs_python.ipynb\n",
      "selenium_history.py\n",
      "selenium_play.py\n",
      "solo_stream0.png\n",
      "style_refs\n",
      "theano_logistic_regression.py\n",
      "theano_sandbox.ipynb\n",
      "theanoSandbox.py\n",
      "transferLearning_0_visualization.py\n",
      "transferLearning.py\n"
     ]
    }
   ],
   "source": [
    "%%bash\n",
    "ls"
   ]
  },
  {
   "cell_type": "code",
   "execution_count": 281,
   "metadata": {},
   "outputs": [
    {
     "name": "stdout",
     "output_type": "stream",
     "text": [
      "始める\t で\n",
      "見る\t は て という を\n"
     ]
    }
   ],
   "source": [
    "run_list45 = []\n",
    "for x in run_dict:\n",
    "    run_chunk = run_dict[x]    \n",
    "    verbs_base = [m.base for m in run_chunk.morphs if m.pos == \"動詞\"]\n",
    "    if len(verbs_base) > 0:\n",
    "        run_verb = verbs_base[0]           \n",
    "        run_srcs = run_chunk.srcs\n",
    "        cases_text = \"\"\n",
    "        for s in run_srcs:\n",
    "            cases = [m.surface for m in run_dict[s].morphs if m.pos == \"助詞\"]\n",
    "            cases_text += \" \" + \" \".join(cases)\n",
    "   \n",
    "        run_line = \"{}\\t{}\".format(run_verb , cases_text)\n",
    "        print(run_line)\n",
    "        run_list45.append(run_line)\n",
    "    \n",
    " "
   ]
  },
  {
   "cell_type": "code",
   "execution_count": 270,
   "metadata": {},
   "outputs": [],
   "source": [
    "run_dict = lchunk[7]"
   ]
  },
  {
   "cell_type": "code",
   "execution_count": 275,
   "metadata": {},
   "outputs": [
    {
     "data": {
      "text/plain": [
       "[0, 2, 3, 4]"
      ]
     },
     "execution_count": 275,
     "metadata": {},
     "output_type": "execute_result"
    }
   ],
   "source": [
    "run_dict[5].srcs"
   ]
  },
  {
   "cell_type": "code",
   "execution_count": 259,
   "metadata": {},
   "outputs": [],
   "source": [
    "run_dict45 = dict()\n",
    "for run_dict in lchunk:\n",
    "    for x in run_dict:\n",
    "        run_chunk = run_dict[x]\n",
    "        if run_chunk.dst != -1:    \n",
    "            run_dst_chunk = run_dict[run_chunk.dst]  \n",
    "\n",
    "            #is_contain_verb = any([m.pos == \"動詞\" for m in run_dst_chunk.morphs])\n",
    "            verbs_base = [m.base for m in run_dst_chunk.morphs if m.pos == \"動詞\"]\n",
    "            cases = [m.surface for m in run_chunk.morphs if m.pos == \"助詞\"]\n",
    "\n",
    "            if len(verbs_base) > 0:\n",
    "                run_verb = verbs_base[0]\n",
    "                if run_verb not in run_dict45:\n",
    "                    run_dict45[run_verb] = \" \".join(cases)\n",
    "                else:\n",
    "                    run_dict45[run_verb] += \" \" + \" \".join(cases)\n",
    "\n",
    "                #print(cases)"
   ]
  },
  {
   "cell_type": "code",
   "execution_count": 263,
   "metadata": {},
   "outputs": [
    {
     "data": {
      "text/plain": [
       "2074"
      ]
     },
     "execution_count": 263,
     "metadata": {},
     "output_type": "execute_result"
    }
   ],
   "source": [
    "len(list(run_dict45.keys()))"
   ]
  },
  {
   "cell_type": "code",
   "execution_count": 256,
   "metadata": {},
   "outputs": [
    {
     "name": "stdout",
     "output_type": "stream",
     "text": [
      "['は']\n",
      "['で']\n",
      "['て']\n",
      "['という']\n",
      "['を']\n"
     ]
    }
   ],
   "source": [
    "i = 7\n",
    "\n",
    "run_dict = lchunk[i]\n",
    "run_dict45 = dict()\n",
    "for x in run_dict:\n",
    "    run_chunk = run_dict[x]\n",
    "    if run_chunk.dst != -1:    \n",
    "        run_dst_chunk = run_dict[run_chunk.dst]  \n",
    "        \n",
    "        #is_contain_verb = any([m.pos == \"動詞\" for m in run_dst_chunk.morphs])\n",
    "        verbs_base = [m.base for m in run_dst_chunk.morphs if m.pos == \"動詞\"]\n",
    "        cases = [m.surface for m in run_chunk.morphs if m.pos == \"助詞\"]\n",
    "        \n",
    "        if len(verbs_base) > 0:\n",
    "            run_verb = verbs_base[0]\n",
    "            if run_verb not in run_dict45:\n",
    "                run_dict45[run_verb] = \" \".join(cases)\n",
    "            else:\n",
    "                run_dict45[run_verb] += \" \" + \" \".join(cases)\n",
    "            \n",
    "            #print(cases)"
   ]
  },
  {
   "cell_type": "code",
   "execution_count": 257,
   "metadata": {},
   "outputs": [
    {
     "data": {
      "text/plain": [
       "{'始める': 'で', '見る': 'は て という を'}"
      ]
     },
     "execution_count": 257,
     "metadata": {},
     "output_type": "execute_result"
    }
   ],
   "source": [
    "run_dict45"
   ]
  },
  {
   "cell_type": "code",
   "execution_count": 258,
   "metadata": {},
   "outputs": [
    {
     "data": {
      "text/plain": [
       "dict_keys(['見る', '始める'])"
      ]
     },
     "execution_count": 258,
     "metadata": {},
     "output_type": "execute_result"
    }
   ],
   "source": [
    "run_dict45.keys()"
   ]
  },
  {
   "cell_type": "code",
   "execution_count": null,
   "metadata": {},
   "outputs": [],
   "source": []
  }
 ],
 "metadata": {
  "kernelspec": {
   "display_name": "Python [default]",
   "language": "python",
   "name": "python3"
  },
  "language_info": {
   "codemirror_mode": {
    "name": "ipython",
    "version": 3
   },
   "file_extension": ".py",
   "mimetype": "text/x-python",
   "name": "python",
   "nbconvert_exporter": "python",
   "pygments_lexer": "ipython3",
   "version": "3.5.4"
  },
  "toc": {
   "colors": {
    "hover_highlight": "#DAA520",
    "navigate_num": "#000000",
    "navigate_text": "#333333",
    "running_highlight": "#FF0000",
    "selected_highlight": "#FFD700",
    "sidebar_border": "#EEEEEE",
    "wrapper_background": "#FFFFFF"
   },
   "moveMenuLeft": true,
   "nav_menu": {},
   "navigate_menu": true,
   "number_sections": true,
   "sideBar": false,
   "skip_h1_title": false,
   "threshold": 4,
   "toc_cell": false,
   "toc_position": {},
   "toc_section_display": "block",
   "toc_window_display": false,
   "widenNotebook": false
  },
  "varInspector": {
   "cols": {
    "lenName": 16,
    "lenType": 16,
    "lenVar": 40
   },
   "kernels_config": {
    "python": {
     "delete_cmd_postfix": "",
     "delete_cmd_prefix": "del ",
     "library": "var_list.py",
     "varRefreshCmd": "print(var_dic_list())"
    },
    "r": {
     "delete_cmd_postfix": ") ",
     "delete_cmd_prefix": "rm(",
     "library": "var_list.r",
     "varRefreshCmd": "cat(var_dic_list()) "
    }
   },
   "types_to_exclude": [
    "module",
    "function",
    "builtin_function_or_method",
    "instance",
    "_Feature"
   ],
   "window_display": false
  }
 },
 "nbformat": 4,
 "nbformat_minor": 2
}
