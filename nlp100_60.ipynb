{
 "cells": [
  {
   "cell_type": "markdown",
   "metadata": {},
   "source": [
    "artist.json.gzは，オープンな音楽データベースMusicBrainzの中で，アーティストに関するものをJSON形式に変換し，gzip形式で圧縮したファイルである．\n",
    "\n",
    "このファイルには，1アーティストに関する情報が1行にJSON形式で格納されている．\n",
    "\n",
    "JSON形式の概要は以下の通りである．"
   ]
  },
  {
   "cell_type": "markdown",
   "metadata": {},
   "source": [
    "artist.json.gzのデータをKey-Value-Store (KVS) およびドキュメント志向型データベースに格納・検索することを考える．\n",
    "\n",
    "KVSとしては，LevelDB，Redis，KyotoCabinet等を用いよ．\n",
    "\n",
    "ドキュメント志向型データベースとして，MongoDBを採用したが，CouchDBやRethinkDB等を用いてもよい．"
   ]
  },
  {
   "cell_type": "markdown",
   "metadata": {},
   "source": [
    "** 0. KVSの構築 **\n",
    "\n",
    "Key-Value-Store (KVS) を用い，アーティスト名（name）から活動場所（area）を検索するためのデータベースを構築せよ．"
   ]
  },
  {
   "cell_type": "code",
   "execution_count": 1,
   "metadata": {},
   "outputs": [],
   "source": [
    "import gzip\n",
    "import json"
   ]
  },
  {
   "cell_type": "markdown",
   "metadata": {},
   "source": [
    "*** leveldbパッケージを使った場合 ***"
   ]
  },
  {
   "cell_type": "code",
   "execution_count": 2,
   "metadata": {},
   "outputs": [],
   "source": [
    "fname = 'nlp100data/artist.json.gz'\n",
    "fname_db = 'nlp100data/test_db'"
   ]
  },
  {
   "cell_type": "code",
   "execution_count": 3,
   "metadata": {},
   "outputs": [],
   "source": [
    "import leveldb"
   ]
  },
  {
   "cell_type": "code",
   "execution_count": 4,
   "metadata": {},
   "outputs": [],
   "source": [
    "db = leveldb.LevelDB(fname_db)"
   ]
  },
  {
   "cell_type": "code",
   "execution_count": 5,
   "metadata": {},
   "outputs": [],
   "source": [
    "with gzip.open(fname, 'rt') as data_file:\n",
    "    for i , line in enumerate(data_file):\n",
    "        if i > -1:\n",
    "            run_dict = json.loads(line)\n",
    "            key = \"{}\\t{}\".format(run_dict['name'] , run_dict['id'])\n",
    "            #print(key)\n",
    "            value = run_dict.get(\"area\" , \"\")\n",
    "            db.Put(key.encode() , value.encode())\n",
    "\n",
    "            #print(\"[{}] {}\".format(value ,key))"
   ]
  },
  {
   "cell_type": "code",
   "execution_count": 7,
   "metadata": {},
   "outputs": [],
   "source": [
    "Ndata = len(list(db.RangeIter(include_value=False)))"
   ]
  },
  {
   "cell_type": "code",
   "execution_count": 8,
   "metadata": {},
   "outputs": [
    {
     "name": "stdout",
     "output_type": "stream",
     "text": [
      "registered 921337 pairs\n"
     ]
    }
   ],
   "source": [
    "print(\"registered {} pairs\".format(Ndata))"
   ]
  },
  {
   "cell_type": "markdown",
   "metadata": {},
   "source": [
    "**** sandbox ****\n"
   ]
  },
  {
   "cell_type": "code",
   "execution_count": 6,
   "metadata": {},
   "outputs": [
    {
     "data": {
      "text/plain": [
       "{'aliases': [{'name': 'Ranks, Shabba', 'sort_name': 'Ranks, Shabba'},\n",
       "  {'name': 'Shaba Ranks', 'sort_name': 'Shaba Ranks'},\n",
       "  {'name': 'Snabba Ranks', 'sort_name': 'Snabba Ranks'},\n",
       "  {'name': 'Shabba', 'sort_name': 'Shabba'}],\n",
       " 'area': 'Jamaica',\n",
       " 'begin': {'date': 17, 'month': 1, 'year': 1966},\n",
       " 'ended': True,\n",
       " 'gender': 'Male',\n",
       " 'gid': 'c0336f2a-610f-4b38-bc13-eb07393425a7',\n",
       " 'id': 37082,\n",
       " 'name': 'Shabba Ranks',\n",
       " 'sort_name': 'Ranks, Shabba',\n",
       " 'tags': [{'count': 1, 'value': 'raggamuffin'},\n",
       "  {'count': 1, 'value': 'dancehall'},\n",
       "  {'count': 1, 'value': 'pop'},\n",
       "  {'count': 1, 'value': 'pop and chart'},\n",
       "  {'count': 1, 'value': 'drum and bass'},\n",
       "  {'count': 1, 'value': 'jungle'},\n",
       "  {'count': 1, 'value': 'mc'}],\n",
       " 'type': 'Person'}"
      ]
     },
     "execution_count": 6,
     "metadata": {},
     "output_type": "execute_result"
    }
   ],
   "source": [
    "run_dict"
   ]
  },
  {
   "cell_type": "code",
   "execution_count": 11,
   "metadata": {},
   "outputs": [
    {
     "name": "stdout",
     "output_type": "stream",
     "text": [
      "/home/toshinao/PycharmProjects/keras_sandbox\n"
     ]
    }
   ],
   "source": [
    "%%bash\n",
    "pwd"
   ]
  },
  {
   "cell_type": "code",
   "execution_count": 17,
   "metadata": {},
   "outputs": [],
   "source": [
    "import codecs\n",
    "\n",
    "tmp = list()\n",
    "with codecs.open('nlp100data/tmp' , 'r' , 'utf-8') as rf:\n",
    "    for l in rf:\n",
    "        tmp.append(l)"
   ]
  },
  {
   "cell_type": "code",
   "execution_count": 16,
   "metadata": {},
   "outputs": [
    {
     "data": {
      "text/plain": [
       "'{\"name\": \"WIK▲N\", \"tags\": [{\"count\": 1, \"value\": \"sillyname\"}], \"sort_name\": \"WIK▲N\", \"ended\": true, \"gid\": \"8972b1c1-6482-4750-b51f-596d2edea8b1\", \"id\": 805192}\\n'"
      ]
     },
     "execution_count": 16,
     "metadata": {},
     "output_type": "execute_result"
    }
   ],
   "source": [
    "tmp[0]"
   ]
  },
  {
   "cell_type": "code",
   "execution_count": null,
   "metadata": {},
   "outputs": [],
   "source": []
  },
  {
   "cell_type": "markdown",
   "metadata": {},
   "source": [
    "\n",
    "*** plyvelパッケージを使った場合 (暫定的にこちらをメインに)***"
   ]
  },
  {
   "cell_type": "markdown",
   "metadata": {},
   "source": [
    "https://qiita.com/tomotaka_ito/items/60c65dd5261fdfc6e71a\n",
    "\n",
    "https://plyvel.readthedocs.io/en/latest/user.html#getting-started\n",
    "\n",
    "http://kuroneko0208.hatenablog.com/entry/2014/10/06/090128"
   ]
  },
  {
   "cell_type": "code",
   "execution_count": 2,
   "metadata": {},
   "outputs": [],
   "source": [
    "fname = 'nlp100data/artist.json.gz'\n",
    "fname_db = 'nlp100data/test2_db'"
   ]
  },
  {
   "cell_type": "code",
   "execution_count": 3,
   "metadata": {},
   "outputs": [],
   "source": [
    "import plyvel"
   ]
  },
  {
   "cell_type": "code",
   "execution_count": 4,
   "metadata": {},
   "outputs": [],
   "source": [
    "plyvel.DB?"
   ]
  },
  {
   "cell_type": "code",
   "execution_count": 5,
   "metadata": {},
   "outputs": [],
   "source": [
    "db = plyvel.DB(fname_db , create_if_missing=True)"
   ]
  },
  {
   "cell_type": "code",
   "execution_count": 6,
   "metadata": {},
   "outputs": [],
   "source": [
    "with gzip.open(fname, 'rt') as data_file:\n",
    "    for i , line in enumerate(data_file):\n",
    "        if i > -1:\n",
    "            run_dict = json.loads(line)\n",
    "            #key = \"{}\\t{}\".format(run_dict['name'] , run_dict['id'])\n",
    "            key = run_dict['name']\n",
    "            #print(key)\n",
    "            value = run_dict.get(\"area\" , \"\")\n",
    "            if value != \"\":\n",
    "                db.put(key.encode() , value.encode())\n",
    "\n",
    "            #print(\"[{}] {}\".format(value ,key))"
   ]
  },
  {
   "cell_type": "code",
   "execution_count": 7,
   "metadata": {},
   "outputs": [
    {
     "data": {
      "text/plain": [
       "309317"
      ]
     },
     "execution_count": 7,
     "metadata": {},
     "output_type": "execute_result"
    }
   ],
   "source": [
    "len([key for key , value in db])"
   ]
  },
  {
   "cell_type": "code",
   "execution_count": 8,
   "metadata": {},
   "outputs": [],
   "source": [
    "db.close()"
   ]
  },
  {
   "cell_type": "markdown",
   "metadata": {},
   "source": [
    "#### KVSの検索\n",
    "\n",
    "60で構築したデータベースを用い，特定の（指定された）アーティストの活動場所を取得せよ．"
   ]
  },
  {
   "cell_type": "code",
   "execution_count": 9,
   "metadata": {
    "scrolled": true
   },
   "outputs": [],
   "source": [
    "db = plyvel.DB(fname_db , create_if_missing=True)"
   ]
  },
  {
   "cell_type": "code",
   "execution_count": 25,
   "metadata": {},
   "outputs": [],
   "source": [
    "artist_name = \"10 Rue d'la Madeleine\""
   ]
  },
  {
   "cell_type": "code",
   "execution_count": 26,
   "metadata": {},
   "outputs": [
    {
     "data": {
      "text/plain": [
       "'France'"
      ]
     },
     "execution_count": 26,
     "metadata": {},
     "output_type": "execute_result"
    }
   ],
   "source": [
    "db.get(artist_name.encode()).decode()"
   ]
  },
  {
   "cell_type": "markdown",
   "metadata": {},
   "source": [
    "##### バイト列型に関するメモ\n",
    "\n",
    "- encodeでバイト列型に\n",
    "- decodeで例えばUTF-8に"
   ]
  },
  {
   "cell_type": "markdown",
   "metadata": {},
   "source": [
    "##### sandbox"
   ]
  },
  {
   "cell_type": "code",
   "execution_count": 16,
   "metadata": {},
   "outputs": [],
   "source": [
    "tmp = [key_value[0].decode()  for i , key_value in enumerate(db) if i < 300 and i > 290]"
   ]
  },
  {
   "cell_type": "code",
   "execution_count": 17,
   "metadata": {},
   "outputs": [
    {
     "data": {
      "text/plain": [
       "['1/3 Octave Band',\n",
       " '10 5 Neuton',\n",
       " '10 Fold B-Low',\n",
       " '10 Ft. Ganja Plant',\n",
       " '10 Minute Warning',\n",
       " \"10 Rue d'la Madeleine\",\n",
       " '10 Years',\n",
       " '10 petits indiens',\n",
       " '10\" Maria']"
      ]
     },
     "execution_count": 17,
     "metadata": {},
     "output_type": "execute_result"
    }
   ],
   "source": [
    "tmp"
   ]
  },
  {
   "cell_type": "code",
   "execution_count": 24,
   "metadata": {},
   "outputs": [
    {
     "data": {
      "text/plain": [
       "'France'"
      ]
     },
     "execution_count": 24,
     "metadata": {},
     "output_type": "execute_result"
    }
   ],
   "source": [
    "db.get(\"10 Rue d'la Madeleine\".encode()).decode()"
   ]
  },
  {
   "cell_type": "code",
   "execution_count": 35,
   "metadata": {},
   "outputs": [
    {
     "data": {
      "text/plain": [
       "b''"
      ]
     },
     "execution_count": 35,
     "metadata": {},
     "output_type": "execute_result"
    }
   ],
   "source": [
    "db.get('\"Pretty\" Fedd'.encode())"
   ]
  },
  {
   "cell_type": "code",
   "execution_count": 32,
   "metadata": {},
   "outputs": [
    {
     "data": {
      "text/plain": [
       "['\"Pretty\" Fedd []',\n",
       " '\"Red\" Roberts mit seinem Ultraphon Jazz-Orchester [Germany]',\n",
       " '\"Ritekt Jerk\", Mases Erik Jonsson []',\n",
       " '\"Rob,SEAL\" []',\n",
       " '\"Rolling Joe\" Johnson []',\n",
       " '\"Rural\" Merle Hicks []',\n",
       " '\"See There\" Singing Band []',\n",
       " '\"Sir\" Oliver Mally [Austria]',\n",
       " '\"Slim\" Jim Smith []']"
      ]
     },
     "execution_count": 32,
     "metadata": {},
     "output_type": "execute_result"
    }
   ],
   "source": [
    "[\"{} [{}]\".format(key_value[0].decode() , key_value[1].decode()) for i , key_value in enumerate(db) if i < 100 and i > 90]"
   ]
  },
  {
   "cell_type": "code",
   "execution_count": 12,
   "metadata": {},
   "outputs": [],
   "source": [
    "sample_names = [key_value[0] for i , key_value in enumerate(db) if i < 100]"
   ]
  },
  {
   "cell_type": "code",
   "execution_count": 13,
   "metadata": {},
   "outputs": [
    {
     "data": {
      "text/plain": [
       "\"'Jabbo' Williams\""
      ]
     },
     "execution_count": 13,
     "metadata": {},
     "output_type": "execute_result"
    }
   ],
   "source": [
    "sample_names[70].decode()"
   ]
  },
  {
   "cell_type": "code",
   "execution_count": 15,
   "metadata": {
    "scrolled": true
   },
   "outputs": [
    {
     "data": {
      "text/plain": [
       "'Sankt-Peterburg'"
      ]
     },
     "execution_count": 15,
     "metadata": {},
     "output_type": "execute_result"
    }
   ],
   "source": [
    "db.get(sample_names[7]).decode()"
   ]
  },
  {
   "cell_type": "code",
   "execution_count": 25,
   "metadata": {
    "scrolled": true
   },
   "outputs": [
    {
     "data": {
      "text/plain": [
       "b''"
      ]
     },
     "execution_count": 25,
     "metadata": {},
     "output_type": "execute_result"
    }
   ],
   "source": [
    "db.get(b\"!ATTENTION!\\t617688\")"
   ]
  },
  {
   "cell_type": "code",
   "execution_count": 26,
   "metadata": {},
   "outputs": [],
   "source": [
    "db.get(b'!Action Pact!\\\\t95246')"
   ]
  },
  {
   "cell_type": "code",
   "execution_count": 28,
   "metadata": {},
   "outputs": [],
   "source": [
    "db.get(b'!Bang Elektronika\\\\t172294')"
   ]
  },
  {
   "cell_type": "code",
   "execution_count": 41,
   "metadata": {},
   "outputs": [
    {
     "name": "stdout",
     "output_type": "stream",
     "text": [
      "[master 6618d1c] 60\n",
      " 1 file changed, 128 insertions(+), 8 deletions(-)\n"
     ]
    }
   ],
   "source": [
    "%%bash\n",
    "git commit -a -m \"60\""
   ]
  },
  {
   "cell_type": "markdown",
   "metadata": {},
   "source": [
    "#### KVS内の反復処理\n",
    "60で構築したデータベースを用い，活動場所が「Japan」となっているアーティスト数を求めよ．"
   ]
  },
  {
   "cell_type": "code",
   "execution_count": 32,
   "metadata": {},
   "outputs": [],
   "source": [
    "\n",
    "run_place = \"Japan\""
   ]
  },
  {
   "cell_type": "code",
   "execution_count": 33,
   "metadata": {},
   "outputs": [
    {
     "data": {
      "text/plain": [
       "b'Japan'"
      ]
     },
     "execution_count": 33,
     "metadata": {},
     "output_type": "execute_result"
    }
   ],
   "source": [
    "run_place.encode()"
   ]
  },
  {
   "cell_type": "code",
   "execution_count": 42,
   "metadata": {},
   "outputs": [],
   "source": [
    "japan_artists = [x[0].decode() for x in db.iterator() if x[1] == run_place.encode()]"
   ]
  },
  {
   "cell_type": "code",
   "execution_count": 44,
   "metadata": {},
   "outputs": [
    {
     "name": "stdout",
     "output_type": "stream",
     "text": [
      "Number of registered artists in Japan is 22128\n"
     ]
    }
   ],
   "source": [
    "print(\"Number of registered artists in Japan is {}\".format(len(japan_artists)))"
   ]
  },
  {
   "cell_type": "code",
   "execution_count": 49,
   "metadata": {},
   "outputs": [
    {
     "data": {
      "text/plain": [
       "['6号さん',\n",
       " '7!!',\n",
       " '72',\n",
       " '742',\n",
       " '765PRO ALLSTARS',\n",
       " '7@',\n",
       " '7chi子♪',\n",
       " '7人祭',\n",
       " '800 Cherries',\n",
       " '876PRO ALLSTARS',\n",
       " '96',\n",
       " '96ちゃん',\n",
       " '98',\n",
       " '99RadioService',\n",
       " '9GOATS BLACK OUT',\n",
       " '9mm Parabellum Bullet',\n",
       " '9nine',\n",
       " '9少女',\n",
       " '>>96',\n",
       " 'A Lunch']"
      ]
     },
     "execution_count": 49,
     "metadata": {},
     "output_type": "execute_result"
    }
   ],
   "source": [
    "japan_artists[100:120]"
   ]
  },
  {
   "cell_type": "markdown",
   "metadata": {},
   "source": [
    "####  オブジェクトを値に格納したKVS\n",
    "KVSを用い，アーティスト名（name）からタグと被タグ数（タグ付けされた回数）のリストを検索するためのデータベースを構築せよ．さらに，ここで構築したデータベースを用い，アーティスト名からタグと被タグ数を検索せよ．"
   ]
  },
  {
   "cell_type": "code",
   "execution_count": 52,
   "metadata": {},
   "outputs": [],
   "source": [
    "fname_db63 = 'nlp100data/test63_db'"
   ]
  },
  {
   "cell_type": "code",
   "execution_count": 53,
   "metadata": {},
   "outputs": [],
   "source": [
    "db = plyvel.DB(fname_db63 , create_if_missing=True)"
   ]
  },
  {
   "cell_type": "code",
   "execution_count": 57,
   "metadata": {},
   "outputs": [],
   "source": [
    "with gzip.open(fname, 'rt') as data_file:\n",
    "    for i , line in enumerate(data_file):\n",
    "        if i > -1:\n",
    "            run_dict = json.loads(line)\n",
    "            #key = \"{}\\t{}\".format(run_dict['name'] , run_dict['id'])\n",
    "            key = run_dict['name']\n",
    "            #print(key)\n",
    "            value = run_dict.get(\"tags\" , \"\")\n",
    "            if value != \"\":\n",
    "                db.put(key.encode() , json.dumps(value).encode())\n",
    "\n",
    "            #print(\"[{}] {}\".format(value ,key))"
   ]
  },
  {
   "cell_type": "code",
   "execution_count": 61,
   "metadata": {},
   "outputs": [],
   "source": [
    "artist_name = \"Oasis\""
   ]
  },
  {
   "cell_type": "code",
   "execution_count": 65,
   "metadata": {},
   "outputs": [],
   "source": [
    "run_tags = json.loads(db.get(artist_name.encode()).decode())"
   ]
  },
  {
   "cell_type": "code",
   "execution_count": 69,
   "metadata": {},
   "outputs": [
    {
     "name": "stdout",
     "output_type": "stream",
     "text": [
      "rock (1)\n",
      "britpop (3)\n",
      "british (4)\n",
      "uk (1)\n",
      "britannique (1)\n",
      "rock and indie (1)\n",
      "england (1)\n",
      "manchester (1)\n"
     ]
    }
   ],
   "source": [
    "for x in run_tags:\n",
    "    print(\"{} ({})\".format(x.get(\"value\") , x.get(\"count\")))\n",
    "    "
   ]
  },
  {
   "cell_type": "markdown",
   "metadata": {},
   "source": [
    "##### jsonに関するメモ"
   ]
  },
  {
   "cell_type": "markdown",
   "metadata": {},
   "source": [
    "###### json.dumpsでjson化"
   ]
  },
  {
   "cell_type": "code",
   "execution_count": 56,
   "metadata": {},
   "outputs": [
    {
     "data": {
      "text/plain": [
       "'[{\"value\": \"sillyname\", \"count\": 1}]'"
      ]
     },
     "execution_count": 56,
     "metadata": {},
     "output_type": "execute_result"
    }
   ],
   "source": [
    "json.dumps(value)"
   ]
  },
  {
   "cell_type": "markdown",
   "metadata": {},
   "source": [
    "###### json.loadsでdict化（dumpsの逆）"
   ]
  },
  {
   "cell_type": "code",
   "execution_count": 60,
   "metadata": {},
   "outputs": [
    {
     "data": {
      "text/plain": [
       "{'aliases': [{'name': 'Ranks, Shabba', 'sort_name': 'Ranks, Shabba'},\n",
       "  {'name': 'Shaba Ranks', 'sort_name': 'Shaba Ranks'},\n",
       "  {'name': 'Snabba Ranks', 'sort_name': 'Snabba Ranks'},\n",
       "  {'name': 'Shabba', 'sort_name': 'Shabba'}],\n",
       " 'area': 'Jamaica',\n",
       " 'begin': {'date': 17, 'month': 1, 'year': 1966},\n",
       " 'ended': True,\n",
       " 'gender': 'Male',\n",
       " 'gid': 'c0336f2a-610f-4b38-bc13-eb07393425a7',\n",
       " 'id': 37082,\n",
       " 'name': 'Shabba Ranks',\n",
       " 'sort_name': 'Ranks, Shabba',\n",
       " 'tags': [{'count': 1, 'value': 'raggamuffin'},\n",
       "  {'count': 1, 'value': 'dancehall'},\n",
       "  {'count': 1, 'value': 'pop'},\n",
       "  {'count': 1, 'value': 'pop and chart'},\n",
       "  {'count': 1, 'value': 'drum and bass'},\n",
       "  {'count': 1, 'value': 'jungle'},\n",
       "  {'count': 1, 'value': 'mc'}],\n",
       " 'type': 'Person'}"
      ]
     },
     "execution_count": 60,
     "metadata": {},
     "output_type": "execute_result"
    }
   ],
   "source": [
    "json.loads(json.dumps(run_dict))"
   ]
  },
  {
   "cell_type": "markdown",
   "metadata": {},
   "source": [
    "##### sandbox"
   ]
  },
  {
   "cell_type": "code",
   "execution_count": 84,
   "metadata": {},
   "outputs": [
    {
     "name": "stdout",
     "output_type": "stream",
     "text": [
      "[master e963fe4] from notebook\n",
      " 1 file changed, 109 insertions(+), 3 deletions(-)\n"
     ]
    }
   ],
   "source": [
    "%%bash\n",
    "git commit -a -m'from notebook'"
   ]
  },
  {
   "cell_type": "code",
   "execution_count": 67,
   "metadata": {},
   "outputs": [
    {
     "data": {
      "text/plain": [
       "{'count': 1, 'value': 'rock'}"
      ]
     },
     "execution_count": 67,
     "metadata": {},
     "output_type": "execute_result"
    }
   ],
   "source": [
    "[x for x in run_tags][0]"
   ]
  },
  {
   "cell_type": "code",
   "execution_count": 70,
   "metadata": {},
   "outputs": [],
   "source": [
    "db.iterator?"
   ]
  },
  {
   "cell_type": "code",
   "execution_count": 72,
   "metadata": {},
   "outputs": [],
   "source": [
    "\n",
    "db.get?"
   ]
  },
  {
   "cell_type": "code",
   "execution_count": 73,
   "metadata": {},
   "outputs": [],
   "source": [
    "tmp = [x for x in db.iterator() if x[0] == artist_name.encode()]"
   ]
  },
  {
   "cell_type": "code",
   "execution_count": 76,
   "metadata": {},
   "outputs": [
    {
     "data": {
      "text/plain": [
       "1"
      ]
     },
     "execution_count": 76,
     "metadata": {},
     "output_type": "execute_result"
    }
   ],
   "source": [
    "len(tmp)\n"
   ]
  },
  {
   "cell_type": "markdown",
   "metadata": {},
   "source": [
    "####  MongoDBの構築\n",
    "\n",
    "アーティスト情報（artist.json.gz）をデータベースに登録せよ．\n",
    "\n",
    "さらに，次のフィールドでインデックスを作成せよ: \n",
    "\n",
    "name, aliases.name, tags.value, rating.value"
   ]
  },
  {
   "cell_type": "markdown",
   "metadata": {},
   "source": [
    "##### 起動まで"
   ]
  },
  {
   "cell_type": "markdown",
   "metadata": {},
   "source": [
    "Ubuntuの場合、\n",
    "\n",
    "https://docs.mongodb.com/manual/tutorial/install-mongodb-on-ubuntu\n",
    "\n",
    "に従えば良い"
   ]
  },
  {
   "cell_type": "markdown",
   "metadata": {},
   "source": [
    "起動は以下："
   ]
  },
  {
   "cell_type": "code",
   "execution_count": null,
   "metadata": {},
   "outputs": [],
   "source": [
    "sudo service mongod start"
   ]
  },
  {
   "cell_type": "markdown",
   "metadata": {},
   "source": [
    "##### 課題"
   ]
  },
  {
   "cell_type": "markdown",
   "metadata": {},
   "source": [
    "https://qiita.com/yuji0602/items/c55e2cb75376fd565b4e"
   ]
  },
  {
   "cell_type": "code",
   "execution_count": 79,
   "metadata": {},
   "outputs": [],
   "source": [
    "import pymongo"
   ]
  },
  {
   "cell_type": "code",
   "execution_count": null,
   "metadata": {},
   "outputs": [],
   "source": [
    "from pymongo import MongoClient\n",
    "\n",
    "\n",
    "unit_bulk = 10000       # バルクインサートする単位（件）\n",
    "\n",
    "# MongoDBのデータベースtestdbにコレクションartistを作成"
   ]
  },
  {
   "cell_type": "code",
   "execution_count": null,
   "metadata": {},
   "outputs": [],
   "source": [
    "client = MongoClient()"
   ]
  },
  {
   "cell_type": "code",
   "execution_count": null,
   "metadata": {},
   "outputs": [],
   "source": [
    "db = client.testdb　"
   ]
  },
  {
   "cell_type": "markdown",
   "metadata": {},
   "source": [
    "collectionがRDBにおけるテーブルに相当する模様："
   ]
  },
  {
   "cell_type": "code",
   "execution_count": null,
   "metadata": {},
   "outputs": [],
   "source": [
    "collection = db.artist　# "
   ]
  },
  {
   "cell_type": "code",
   "execution_count": 80,
   "metadata": {},
   "outputs": [
    {
     "name": "stdout",
     "output_type": "stream",
     "text": [
      "10000件追加完了\n",
      "20000件追加完了\n",
      "30000件追加完了\n",
      "40000件追加完了\n",
      "50000件追加完了\n",
      "60000件追加完了\n",
      "70000件追加完了\n",
      "80000件追加完了\n",
      "90000件追加完了\n",
      "100000件追加完了\n",
      "110000件追加完了\n",
      "120000件追加完了\n",
      "130000件追加完了\n",
      "140000件追加完了\n",
      "150000件追加完了\n",
      "160000件追加完了\n",
      "170000件追加完了\n",
      "180000件追加完了\n",
      "190000件追加完了\n",
      "200000件追加完了\n",
      "210000件追加完了\n",
      "220000件追加完了\n",
      "230000件追加完了\n",
      "240000件追加完了\n",
      "250000件追加完了\n",
      "260000件追加完了\n",
      "270000件追加完了\n",
      "280000件追加完了\n",
      "290000件追加完了\n",
      "300000件追加完了\n",
      "310000件追加完了\n",
      "320000件追加完了\n",
      "330000件追加完了\n",
      "340000件追加完了\n",
      "350000件追加完了\n",
      "360000件追加完了\n",
      "370000件追加完了\n",
      "380000件追加完了\n",
      "390000件追加完了\n",
      "400000件追加完了\n",
      "410000件追加完了\n",
      "420000件追加完了\n",
      "430000件追加完了\n",
      "440000件追加完了\n",
      "450000件追加完了\n",
      "460000件追加完了\n",
      "470000件追加完了\n",
      "480000件追加完了\n",
      "490000件追加完了\n",
      "500000件追加完了\n",
      "510000件追加完了\n",
      "520000件追加完了\n",
      "530000件追加完了\n",
      "540000件追加完了\n",
      "550000件追加完了\n",
      "560000件追加完了\n",
      "570000件追加完了\n",
      "580000件追加完了\n",
      "590000件追加完了\n",
      "600000件追加完了\n",
      "610000件追加完了\n",
      "620000件追加完了\n",
      "630000件追加完了\n",
      "640000件追加完了\n",
      "650000件追加完了\n",
      "660000件追加完了\n",
      "670000件追加完了\n",
      "680000件追加完了\n",
      "690000件追加完了\n",
      "700000件追加完了\n",
      "710000件追加完了\n",
      "720000件追加完了\n",
      "730000件追加完了\n",
      "740000件追加完了\n",
      "750000件追加完了\n",
      "760000件追加完了\n",
      "770000件追加完了\n",
      "780000件追加完了\n",
      "790000件追加完了\n",
      "800000件追加完了\n",
      "810000件追加完了\n",
      "820000件追加完了\n",
      "830000件追加完了\n",
      "840000件追加完了\n",
      "850000件追加完了\n",
      "860000件追加完了\n",
      "870000件追加完了\n",
      "880000件追加完了\n",
      "890000件追加完了\n",
      "900000件追加完了\n",
      "910000件追加完了\n",
      "920000件追加完了\n"
     ]
    }
   ],
   "source": [
    "# gzファイル読み込み\n",
    "with gzip.open(fname, 'rt') as data_file:\n",
    "\n",
    "    # 1行ずつパースしてbufに詰め込む\n",
    "    buf = []\n",
    "    for i, line in enumerate(data_file, 1):\n",
    "        data_json = json.loads(line)\n",
    "        buf.append(data_json)\n",
    "\n",
    "        # unit_bulk件たまったらartistへバルクインサート\n",
    "        if i % unit_bulk == 0:\n",
    "            collection.insert_many(buf)\n",
    "            buf = []\n",
    "            print('{}件追加完了'.format(i))"
   ]
  },
  {
   "cell_type": "markdown",
   "metadata": {},
   "source": [
    " インデックス作成"
   ]
  },
  {
   "cell_type": "code",
   "execution_count": 82,
   "metadata": {},
   "outputs": [
    {
     "data": {
      "text/plain": [
       "'rating.value_1'"
      ]
     },
     "execution_count": 82,
     "metadata": {},
     "output_type": "execute_result"
    }
   ],
   "source": [
    "collection.create_index([('name', pymongo.ASCENDING)])  \n",
    "collection.create_index([('aliases.name', pymongo.ASCENDING)])  \n",
    "collection.create_index([('tags.value', pymongo.ASCENDING)])\n",
    "collection.create_index([('rating.value', pymongo.ASCENDING)])"
   ]
  },
  {
   "cell_type": "markdown",
   "metadata": {},
   "source": [
    "##### sandbox"
   ]
  },
  {
   "cell_type": "code",
   "execution_count": 78,
   "metadata": {},
   "outputs": [
    {
     "name": "stdout",
     "output_type": "stream",
     "text": [
      "Solving environment: ...working... done\n",
      "\n",
      "## Package Plan ##\n",
      "\n",
      "  environment location: /home/toshinao/anaconda3\n",
      "\n",
      "  added / updated specs: \n",
      "    - pymongo\n",
      "\n",
      "\n",
      "The following packages will be downloaded:\n",
      "\n",
      "    package                    |            build\n",
      "    ---------------------------|-----------------\n",
      "    pymongo-3.4.0              |           py35_0         412 KB\n",
      "    conda-4.5.8                |           py35_0         1.0 MB\n",
      "    ------------------------------------------------------------\n",
      "                                           Total:         1.4 MB\n",
      "\n",
      "The following NEW packages will be INSTALLED:\n",
      "\n",
      "    pymongo: 3.4.0-py35_0\n",
      "\n",
      "The following packages will be UPDATED:\n",
      "\n",
      "    conda:   4.5.4-py35_0 --> 4.5.8-py35_0\n",
      "\n",
      "Proceed ([y]/n)? \n",
      "\n",
      "Downloading and Extracting Packages\n",
      "Preparing transaction: ...working... done\n",
      "Verifying transaction: ...working... done\n",
      "Executing transaction: ...working... done\n"
     ]
    },
    {
     "name": "stderr",
     "output_type": "stream",
     "text": [
      "\r",
      "pymongo-3.4.0        |  412 KB |            |   0% \r",
      "pymongo-3.4.0        |  412 KB | #####8     |  58% \r",
      "pymongo-3.4.0        |  412 KB | ########## | 100% \n",
      "\r",
      "conda-4.5.8          |  1.0 MB |            |   0% \r",
      "conda-4.5.8          |  1.0 MB | ##7        |  28% \r",
      "conda-4.5.8          |  1.0 MB | #######6   |  77% \r",
      "conda-4.5.8          |  1.0 MB | #########7 |  98% \r",
      "conda-4.5.8          |  1.0 MB | ########## | 100% \n"
     ]
    }
   ],
   "source": [
    "%%bash\n",
    "conda install pymongo"
   ]
  },
  {
   "cell_type": "markdown",
   "metadata": {},
   "source": [
    "#### MongoDBの検索\n",
    "MongoDBのインタラクティブシェルを用いて，\"Queen\"というアーティストに関する情報を取得せよ．さらに，これと同様の処理を行うプログラムを実装せよ．\n"
   ]
  },
  {
   "cell_type": "code",
   "execution_count": 86,
   "metadata": {},
   "outputs": [
    {
     "data": {
      "text/plain": [
       "[{'_id': ObjectId('5b5c4df89fea6f288b71ac5b'),\n",
       "  'aliases': [{'name': 'Queen', 'sort_name': 'Queen'}],\n",
       "  'area': 'Japan',\n",
       "  'ended': True,\n",
       "  'gender': 'Female',\n",
       "  'gid': '420ca290-76c5-41af-999e-564d7c71f1a7',\n",
       "  'id': 701492,\n",
       "  'name': 'Queen',\n",
       "  'sort_name': 'Queen',\n",
       "  'tags': [{'count': 1, 'value': 'kamen rider w'},\n",
       "   {'count': 1, 'value': 'related-akb48'}],\n",
       "  'type': 'Character'},\n",
       " {'_id': ObjectId('5b5c4df99fea6f288b727307'),\n",
       "  'aliases': [{'name': '女王', 'sort_name': '女王'}],\n",
       "  'area': 'United Kingdom',\n",
       "  'begin': {'date': 27, 'month': 6, 'year': 1970},\n",
       "  'ended': True,\n",
       "  'gid': '0383dadf-2a4e-4d10-a46a-e9e041da8eb3',\n",
       "  'id': 192,\n",
       "  'name': 'Queen',\n",
       "  'rating': {'count': 24, 'value': 92},\n",
       "  'sort_name': 'Queen',\n",
       "  'tags': [{'count': 2, 'value': 'hard rock'},\n",
       "   {'count': 1, 'value': '70s'},\n",
       "   {'count': 1, 'value': 'queen family'},\n",
       "   {'count': 1, 'value': '90s'},\n",
       "   {'count': 1, 'value': '80s'},\n",
       "   {'count': 1, 'value': 'glam rock'},\n",
       "   {'count': 4, 'value': 'british'},\n",
       "   {'count': 1, 'value': 'english'},\n",
       "   {'count': 2, 'value': 'uk'},\n",
       "   {'count': 1, 'value': 'pop/rock'},\n",
       "   {'count': 1, 'value': 'pop-rock'},\n",
       "   {'count': 1, 'value': 'britannique'},\n",
       "   {'count': 1, 'value': 'classic pop and rock'},\n",
       "   {'count': 1, 'value': 'queen'},\n",
       "   {'count': 1, 'value': 'united kingdom'},\n",
       "   {'count': 1, 'value': 'langham 1 studio bbc'},\n",
       "   {'count': 1, 'value': 'kind of magic'},\n",
       "   {'count': 1, 'value': 'band'},\n",
       "   {'count': 6, 'value': 'rock'},\n",
       "   {'count': 1, 'value': 'platinum'}],\n",
       "  'type': 'Group'},\n",
       " {'_id': ObjectId('5b5c4dfb9fea6f288b742d5f'),\n",
       "  'ended': True,\n",
       "  'gid': '5eecaf18-02ec-47af-a4f2-7831db373419',\n",
       "  'id': 992994,\n",
       "  'name': 'Queen',\n",
       "  'sort_name': 'Queen'}]"
      ]
     },
     "execution_count": 86,
     "metadata": {},
     "output_type": "execute_result"
    }
   ],
   "source": [
    "[x for x in collection.find({'name': 'Queen'})]"
   ]
  },
  {
   "cell_type": "markdown",
   "metadata": {},
   "source": [
    "##### son.dumps()でObjectIdを処理するための関数"
   ]
  },
  {
   "cell_type": "code",
   "execution_count": 115,
   "metadata": {},
   "outputs": [],
   "source": [
    "from bson.objectid import ObjectId\n",
    "def support_ObjectId(obj):\n",
    "    '''json.dumps()でObjectIdを処理するための関数\n",
    "    ObjectIdはjsonエンコードできない型なので、文字列型に変換する\n",
    "\n",
    "    戻り値：\n",
    "    ObjectIdから変換した文字列\n",
    "    '''\n",
    "    if isinstance(obj, ObjectId):\n",
    "        return str(obj)     # 文字列として扱う\n",
    "    raise TypeError(repr(obj) + \" is not JSON serializable\")"
   ]
  },
  {
   "cell_type": "code",
   "execution_count": 116,
   "metadata": {},
   "outputs": [
    {
     "data": {
      "text/plain": [
       "['{\"name\": \"Queen\", \"aliases\": [{\"name\": \"Queen\", \"sort_name\": \"Queen\"}], \"type\": \"Character\", \"ended\": true, \"sort_name\": \"Queen\", \"tags\": [{\"value\": \"kamen rider w\", \"count\": 1}, {\"value\": \"related-akb48\", \"count\": 1}], \"area\": \"Japan\", \"id\": 701492, \"_id\": \"5b5c4df89fea6f288b71ac5b\", \"gender\": \"Female\", \"gid\": \"420ca290-76c5-41af-999e-564d7c71f1a7\"}',\n",
       " '{\"rating\": {\"value\": 92, \"count\": 24}, \"aliases\": [{\"name\": \"\\\\u5973\\\\u738b\", \"sort_name\": \"\\\\u5973\\\\u738b\"}], \"sort_name\": \"Queen\", \"area\": \"United Kingdom\", \"id\": 192, \"_id\": \"5b5c4df99fea6f288b727307\", \"begin\": {\"year\": 1970, \"date\": 27, \"month\": 6}, \"name\": \"Queen\", \"type\": \"Group\", \"tags\": [{\"value\": \"hard rock\", \"count\": 2}, {\"value\": \"70s\", \"count\": 1}, {\"value\": \"queen family\", \"count\": 1}, {\"value\": \"90s\", \"count\": 1}, {\"value\": \"80s\", \"count\": 1}, {\"value\": \"glam rock\", \"count\": 1}, {\"value\": \"british\", \"count\": 4}, {\"value\": \"english\", \"count\": 1}, {\"value\": \"uk\", \"count\": 2}, {\"value\": \"pop/rock\", \"count\": 1}, {\"value\": \"pop-rock\", \"count\": 1}, {\"value\": \"britannique\", \"count\": 1}, {\"value\": \"classic pop and rock\", \"count\": 1}, {\"value\": \"queen\", \"count\": 1}, {\"value\": \"united kingdom\", \"count\": 1}, {\"value\": \"langham 1 studio bbc\", \"count\": 1}, {\"value\": \"kind of magic\", \"count\": 1}, {\"value\": \"band\", \"count\": 1}, {\"value\": \"rock\", \"count\": 6}, {\"value\": \"platinum\", \"count\": 1}], \"gid\": \"0383dadf-2a4e-4d10-a46a-e9e041da8eb3\", \"ended\": true}',\n",
       " '{\"name\": \"Queen\", \"ended\": true, \"sort_name\": \"Queen\", \"id\": 992994, \"_id\": \"5b5c4dfb9fea6f288b742d5f\", \"gid\": \"5eecaf18-02ec-47af-a4f2-7831db373419\"}']"
      ]
     },
     "execution_count": 116,
     "metadata": {},
     "output_type": "execute_result"
    }
   ],
   "source": [
    "[json.dumps(x , default=support_ObjectId) for x in collection.find({'name': 'Queen'})]"
   ]
  },
  {
   "cell_type": "markdown",
   "metadata": {},
   "source": [
    "#### 検索件数の取得\n",
    "MongoDBのインタラクティブシェルを用いて，活動場所が「Japan」となっているアーティスト数を求めよ．"
   ]
  },
  {
   "cell_type": "code",
   "execution_count": 88,
   "metadata": {},
   "outputs": [
    {
     "data": {
      "text/plain": [
       "22742"
      ]
     },
     "execution_count": 88,
     "metadata": {},
     "output_type": "execute_result"
    }
   ],
   "source": [
    "\n",
    "len([x for x in collection.find({'area': 'Japan'})])"
   ]
  },
  {
   "cell_type": "markdown",
   "metadata": {},
   "source": [
    "#### 複数のドキュメントの取得\n",
    "特定の（指定した）別名を持つアーティストを検索せよ．"
   ]
  },
  {
   "cell_type": "code",
   "execution_count": 89,
   "metadata": {},
   "outputs": [],
   "source": [
    "alias = \"スマップ\""
   ]
  },
  {
   "cell_type": "code",
   "execution_count": 95,
   "metadata": {},
   "outputs": [],
   "source": [
    "hit7 = [x for x in collection.find({'aliases.name':alias})]"
   ]
  },
  {
   "cell_type": "code",
   "execution_count": 101,
   "metadata": {},
   "outputs": [
    {
     "data": {
      "text/plain": [
       "{'_id': ObjectId('5b5c4df29fea6f288b6cb821'),\n",
       " 'aliases': [{'name': 'スマップ', 'sort_name': 'スマップ'}],\n",
       " 'area': 'Japan',\n",
       " 'begin': {'month': 4, 'year': 1988},\n",
       " 'ended': True,\n",
       " 'gid': '6ab7953b-8480-41fe-a9fe-5e220d8e9429',\n",
       " 'id': 265728,\n",
       " 'name': 'SMAP',\n",
       " 'sort_name': 'SMAP',\n",
       " 'tags': [{'count': 1, 'value': 'likedis auto'}],\n",
       " 'type': 'Group'}"
      ]
     },
     "execution_count": 101,
     "metadata": {},
     "output_type": "execute_result"
    }
   ],
   "source": [
    "hit7[0]"
   ]
  },
  {
   "cell_type": "code",
   "execution_count": 112,
   "metadata": {},
   "outputs": [
    {
     "data": {
      "text/plain": [
       "'{\"_id\": \"5b5c4df29fea6f288b6cb821\", \"aliases\": [{\"name\": \"スマップ\", \"sort_name\": \"スマップ\"}], \"area\": \"Japan\", \"begin\": {\"month\": 4, \"year\": 1988}, \"ended\": true, \"gid\": \"6ab7953b-8480-41fe-a9fe-5e220d8e9429\", \"id\": 265728, \"name\": \"SMAP\", \"sort_name\": \"SMAP\", \"tags\": [{\"count\": 1, \"value\": \"likedis auto\"}], \"type\": \"Group\"}'"
      ]
     },
     "execution_count": 112,
     "metadata": {},
     "output_type": "execute_result"
    }
   ],
   "source": [
    "json.dumps(hit7[0] , default=support_ObjectId ,ensure_ascii=False , sort_keys=True)"
   ]
  },
  {
   "cell_type": "markdown",
   "metadata": {},
   "source": [
    "##### sandbox"
   ]
  },
  {
   "cell_type": "code",
   "execution_count": 118,
   "metadata": {},
   "outputs": [
    {
     "data": {
      "text/plain": [
       "'5b5c4df29fea6f288b6cb821'"
      ]
     },
     "execution_count": 118,
     "metadata": {},
     "output_type": "execute_result"
    }
   ],
   "source": [
    "support_ObjectId((hit7[0]['_id']))"
   ]
  },
  {
   "cell_type": "markdown",
   "metadata": {},
   "source": [
    "#### ソート\n",
    "\"dance\"というタグを付与されたアーティストの中でレーティングの投票数が多いアーティスト・トップ10を求めよ．"
   ]
  },
  {
   "cell_type": "code",
   "execution_count": 119,
   "metadata": {},
   "outputs": [],
   "source": [
    "dances = collection.find({'tags.value' : 'dance'})"
   ]
  },
  {
   "cell_type": "code",
   "execution_count": 120,
   "metadata": {},
   "outputs": [
    {
     "data": {
      "text/plain": [
       "<pymongo.cursor.Cursor at 0x7f44eec5dda0>"
      ]
     },
     "execution_count": 120,
     "metadata": {},
     "output_type": "execute_result"
    }
   ],
   "source": [
    "dances"
   ]
  },
  {
   "cell_type": "code",
   "execution_count": 122,
   "metadata": {},
   "outputs": [
    {
     "data": {
      "text/plain": [
       "286"
      ]
     },
     "execution_count": 122,
     "metadata": {},
     "output_type": "execute_result"
    }
   ],
   "source": [
    "\n",
    "dances.count()"
   ]
  },
  {
   "cell_type": "code",
   "execution_count": 124,
   "metadata": {},
   "outputs": [
    {
     "data": {
      "text/plain": [
       "<pymongo.cursor.Cursor at 0x7f44eec5dda0>"
      ]
     },
     "execution_count": 124,
     "metadata": {},
     "output_type": "execute_result"
    }
   ],
   "source": [
    "dances.sort('rating.count' , pymongo.DESCENDING)"
   ]
  },
  {
   "cell_type": "code",
   "execution_count": 146,
   "metadata": {},
   "outputs": [
    {
     "name": "stdout",
     "output_type": "stream",
     "text": [
      "Madonna(26)\n",
      "Björk(23)\n",
      "The Prodigy(23)\n",
      "Rihanna(15)\n",
      "Britney Spears(13)\n",
      "Maroon 5(11)\n",
      "Adam Lambert(7)\n",
      "Fatboy Slim(7)\n",
      "Basement Jaxx(6)\n"
     ]
    }
   ],
   "source": [
    "for i in range(9):\n",
    "        print(\"{}({})\".format(dances[i]['name'] , dances[i]['rating']['count']))"
   ]
  },
  {
   "cell_type": "markdown",
   "metadata": {},
   "source": [
    "##### sandbox"
   ]
  },
  {
   "cell_type": "code",
   "execution_count": 143,
   "metadata": {},
   "outputs": [
    {
     "data": {
      "text/plain": [
       "{'count': 1, 'value': 'dance-pop'}"
      ]
     },
     "execution_count": 143,
     "metadata": {},
     "output_type": "execute_result"
    }
   ],
   "source": [
    "(dances[0]['tags'][0])"
   ]
  },
  {
   "cell_type": "code",
   "execution_count": 145,
   "metadata": {},
   "outputs": [
    {
     "data": {
      "text/plain": [
       "26"
      ]
     },
     "execution_count": 145,
     "metadata": {},
     "output_type": "execute_result"
    }
   ],
   "source": [
    "dances[0]['rating']['count']"
   ]
  },
  {
   "cell_type": "code",
   "execution_count": 141,
   "metadata": {},
   "outputs": [
    {
     "name": "stdout",
     "output_type": "stream",
     "text": [
      "{\n",
      "\t\"sort_name\": \"Madonna\",\n",
      "\t\"area\": \"United States\",\n",
      "\t\"id\": 89,\n",
      "\t\"_id\": \"5b5c4dfb9fea6f288b738658\",\n",
      "\t\"ended\": true,\n",
      "\t\"rating\": {\n",
      "\t\t\"value\": 88,\n",
      "\t\t\"count\": 26\n",
      "\t},\n",
      "\t\"name\": \"Madonna\",\n",
      "\t\"type\": \"Person\",\n",
      "\t\"tags\": [\n",
      "\t\t{\n",
      "\t\t\t\"value\": \"dance-pop\",\n",
      "\t\t\t\"count\": 1\n",
      "\t\t},\n",
      "\t\t{\n",
      "\t\t\t\"value\": \"electropop\",\n",
      "\t\t\t\"count\": 1\n",
      "\t\t},\n",
      "\t\t{\n",
      "\t\t\t\"value\": \"tell me\",\n",
      "\t\t\t\"count\": 1\n",
      "\t\t},\n",
      "\t\t{\n",
      "\t\t\t\"value\": \"pop and chart\",\n",
      "\t\t\t\"count\": 1\n",
      "\t\t},\n",
      "\t\t{\n",
      "\t\t\t\"value\": \"multiple ipi\",\n",
      "\t\t\t\"count\": 1\n",
      "\t\t},\n",
      "\t\t{\n",
      "\t\t\t\"value\": \"electronic\",\n",
      "\t\t\t\"count\": 1\n",
      "\t\t},\n",
      "\t\t{\n",
      "\t\t\t\"value\": \"am\\u00e9ricain\",\n",
      "\t\t\t\"count\": 1\n",
      "\t\t},\n",
      "\t\t{\n",
      "\t\t\t\"value\": \"usa\",\n",
      "\t\t\t\"count\": 1\n",
      "\t\t},\n",
      "\t\t{\n",
      "\t\t\t\"value\": \"singer\",\n",
      "\t\t\t\"count\": 1\n",
      "\t\t},\n",
      "\t\t{\n",
      "\t\t\t\"value\": \"chanteur\",\n",
      "\t\t\t\"count\": 1\n",
      "\t\t},\n",
      "\t\t{\n",
      "\t\t\t\"value\": \"american\",\n",
      "\t\t\t\"count\": 1\n",
      "\t\t},\n",
      "\t\t{\n",
      "\t\t\t\"value\": \"pop\",\n",
      "\t\t\t\"count\": 4\n",
      "\t\t},\n",
      "\t\t{\n",
      "\t\t\t\"value\": \"greatest hits\",\n",
      "\t\t\t\"count\": 1\n",
      "\t\t},\n",
      "\t\t{\n",
      "\t\t\t\"value\": \"dance\",\n",
      "\t\t\t\"count\": 1\n",
      "\t\t}\n",
      "\t],\n",
      "\t\"gender\": \"Female\",\n",
      "\t\"gid\": \"79239441-bfd5-4981-a70c-55c3f15c1287\",\n",
      "\t\"begin\": {\n",
      "\t\t\"year\": 1958,\n",
      "\t\t\"date\": 16,\n",
      "\t\t\"month\": 8\n",
      "\t}\n",
      "}\n"
     ]
    }
   ],
   "source": [
    "\n",
    "print(json.dumps(dances[0] ,default=support_ObjectId  ,indent = '\\t'))"
   ]
  },
  {
   "cell_type": "markdown",
   "metadata": {},
   "source": [
    "#### Webアプリケーションの作成\n",
    "ユーザから入力された検索条件に合致するアーティストの情報を表示するWebアプリケーションを作成せよ．アーティスト名，アーティストの別名，タグ等で検索条件を指定し，アーティスト情報のリストをレーティングの高い順などで整列して表示せよ．"
   ]
  },
  {
   "cell_type": "code",
   "execution_count": null,
   "metadata": {},
   "outputs": [],
   "source": []
  }
 ],
 "metadata": {
  "kernelspec": {
   "display_name": "Python [default]",
   "language": "python",
   "name": "python3"
  },
  "toc": {
   "colors": {
    "hover_highlight": "#DAA520",
    "navigate_num": "#000000",
    "navigate_text": "#333333",
    "running_highlight": "#FF0000",
    "selected_highlight": "#FFD700",
    "sidebar_border": "#EEEEEE",
    "wrapper_background": "#FFFFFF"
   },
   "moveMenuLeft": true,
   "nav_menu": {
    "height": "30px",
    "width": "252px"
   },
   "navigate_menu": true,
   "number_sections": true,
   "sideBar": true,
   "threshold": 4,
   "toc_cell": false,
   "toc_section_display": "block",
   "toc_window_display": false,
   "widenNotebook": false
  }
 },
 "nbformat": 4,
 "nbformat_minor": 2
}
