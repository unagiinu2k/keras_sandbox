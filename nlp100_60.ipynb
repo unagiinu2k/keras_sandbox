{
 "cells": [
  {
   "cell_type": "markdown",
   "metadata": {},
   "source": [
    "artist.json.gzは，オープンな音楽データベースMusicBrainzの中で，アーティストに関するものをJSON形式に変換し，gzip形式で圧縮したファイルである．\n",
    "\n",
    "このファイルには，1アーティストに関する情報が1行にJSON形式で格納されている．\n",
    "\n",
    "JSON形式の概要は以下の通りである．"
   ]
  },
  {
   "cell_type": "markdown",
   "metadata": {},
   "source": [
    "artist.json.gzのデータをKey-Value-Store (KVS) およびドキュメント志向型データベースに格納・検索することを考える．\n",
    "\n",
    "KVSとしては，LevelDB，Redis，KyotoCabinet等を用いよ．\n",
    "\n",
    "ドキュメント志向型データベースとして，MongoDBを採用したが，CouchDBやRethinkDB等を用いてもよい．"
   ]
  },
  {
   "cell_type": "markdown",
   "metadata": {},
   "source": [
    "** 0. KVSの構築 **\n",
    "\n",
    "Key-Value-Store (KVS) を用い，アーティスト名（name）から活動場所（area）を検索するためのデータベースを構築せよ．"
   ]
  },
  {
   "cell_type": "code",
   "execution_count": 1,
   "metadata": {},
   "outputs": [],
   "source": [
    "import gzip\n",
    "import json"
   ]
  },
  {
   "cell_type": "markdown",
   "metadata": {},
   "source": [
    "*** leveldbパッケージを使った場合 ***"
   ]
  },
  {
   "cell_type": "code",
   "execution_count": 2,
   "metadata": {},
   "outputs": [],
   "source": [
    "fname = 'nlp100data/artist.json.gz'\n",
    "fname_db = 'nlp100data/test_db'"
   ]
  },
  {
   "cell_type": "code",
   "execution_count": 3,
   "metadata": {},
   "outputs": [],
   "source": [
    "import leveldb"
   ]
  },
  {
   "cell_type": "code",
   "execution_count": 4,
   "metadata": {},
   "outputs": [],
   "source": [
    "db = leveldb.LevelDB(fname_db)"
   ]
  },
  {
   "cell_type": "code",
   "execution_count": 5,
   "metadata": {},
   "outputs": [],
   "source": [
    "with gzip.open(fname, 'rt') as data_file:\n",
    "    for i , line in enumerate(data_file):\n",
    "        if i > -1:\n",
    "            run_dict = json.loads(line)\n",
    "            key = \"{}\\t{}\".format(run_dict['name'] , run_dict['id'])\n",
    "            #print(key)\n",
    "            value = run_dict.get(\"area\" , \"\")\n",
    "            db.Put(key.encode() , value.encode())\n",
    "\n",
    "            #print(\"[{}] {}\".format(value ,key))"
   ]
  },
  {
   "cell_type": "code",
   "execution_count": 7,
   "metadata": {},
   "outputs": [],
   "source": [
    "Ndata = len(list(db.RangeIter(include_value=False)))"
   ]
  },
  {
   "cell_type": "code",
   "execution_count": 8,
   "metadata": {},
   "outputs": [
    {
     "name": "stdout",
     "output_type": "stream",
     "text": [
      "registered 921337 pairs\n"
     ]
    }
   ],
   "source": [
    "print(\"registered {} pairs\".format(Ndata))"
   ]
  },
  {
   "cell_type": "markdown",
   "metadata": {},
   "source": [
    "**** sandbox ****\n"
   ]
  },
  {
   "cell_type": "code",
   "execution_count": 6,
   "metadata": {},
   "outputs": [
    {
     "data": {
      "text/plain": [
       "{'aliases': [{'name': 'Ranks, Shabba', 'sort_name': 'Ranks, Shabba'},\n",
       "  {'name': 'Shaba Ranks', 'sort_name': 'Shaba Ranks'},\n",
       "  {'name': 'Snabba Ranks', 'sort_name': 'Snabba Ranks'},\n",
       "  {'name': 'Shabba', 'sort_name': 'Shabba'}],\n",
       " 'area': 'Jamaica',\n",
       " 'begin': {'date': 17, 'month': 1, 'year': 1966},\n",
       " 'ended': True,\n",
       " 'gender': 'Male',\n",
       " 'gid': 'c0336f2a-610f-4b38-bc13-eb07393425a7',\n",
       " 'id': 37082,\n",
       " 'name': 'Shabba Ranks',\n",
       " 'sort_name': 'Ranks, Shabba',\n",
       " 'tags': [{'count': 1, 'value': 'raggamuffin'},\n",
       "  {'count': 1, 'value': 'dancehall'},\n",
       "  {'count': 1, 'value': 'pop'},\n",
       "  {'count': 1, 'value': 'pop and chart'},\n",
       "  {'count': 1, 'value': 'drum and bass'},\n",
       "  {'count': 1, 'value': 'jungle'},\n",
       "  {'count': 1, 'value': 'mc'}],\n",
       " 'type': 'Person'}"
      ]
     },
     "execution_count": 6,
     "metadata": {},
     "output_type": "execute_result"
    }
   ],
   "source": [
    "run_dict"
   ]
  },
  {
   "cell_type": "code",
   "execution_count": 11,
   "metadata": {},
   "outputs": [
    {
     "name": "stdout",
     "output_type": "stream",
     "text": [
      "/home/toshinao/PycharmProjects/keras_sandbox\n"
     ]
    }
   ],
   "source": [
    "%%bash\n",
    "pwd"
   ]
  },
  {
   "cell_type": "code",
   "execution_count": 17,
   "metadata": {},
   "outputs": [],
   "source": [
    "import codecs\n",
    "\n",
    "tmp = list()\n",
    "with codecs.open('nlp100data/tmp' , 'r' , 'utf-8') as rf:\n",
    "    for l in rf:\n",
    "        tmp.append(l)"
   ]
  },
  {
   "cell_type": "code",
   "execution_count": 16,
   "metadata": {},
   "outputs": [
    {
     "data": {
      "text/plain": [
       "'{\"name\": \"WIK▲N\", \"tags\": [{\"count\": 1, \"value\": \"sillyname\"}], \"sort_name\": \"WIK▲N\", \"ended\": true, \"gid\": \"8972b1c1-6482-4750-b51f-596d2edea8b1\", \"id\": 805192}\\n'"
      ]
     },
     "execution_count": 16,
     "metadata": {},
     "output_type": "execute_result"
    }
   ],
   "source": [
    "tmp[0]"
   ]
  },
  {
   "cell_type": "code",
   "execution_count": null,
   "metadata": {},
   "outputs": [],
   "source": []
  },
  {
   "cell_type": "markdown",
   "metadata": {},
   "source": [
    "\n",
    "*** plyvelパッケージを使った場合 (暫定的にこちらをメインに)***"
   ]
  },
  {
   "cell_type": "markdown",
   "metadata": {},
   "source": [
    "https://qiita.com/tomotaka_ito/items/60c65dd5261fdfc6e71a\n",
    "\n",
    "https://plyvel.readthedocs.io/en/latest/user.html#getting-started\n",
    "\n",
    "http://kuroneko0208.hatenablog.com/entry/2014/10/06/090128"
   ]
  },
  {
   "cell_type": "code",
   "execution_count": 2,
   "metadata": {},
   "outputs": [],
   "source": [
    "fname = 'nlp100data/artist.json.gz'\n",
    "fname_db = 'nlp100data/test2_db'"
   ]
  },
  {
   "cell_type": "code",
   "execution_count": 3,
   "metadata": {},
   "outputs": [],
   "source": [
    "import plyvel"
   ]
  },
  {
   "cell_type": "code",
   "execution_count": 4,
   "metadata": {},
   "outputs": [],
   "source": [
    "plyvel.DB?"
   ]
  },
  {
   "cell_type": "code",
   "execution_count": 5,
   "metadata": {},
   "outputs": [],
   "source": [
    "db = plyvel.DB(fname_db , create_if_missing=True)"
   ]
  },
  {
   "cell_type": "code",
   "execution_count": 6,
   "metadata": {},
   "outputs": [],
   "source": [
    "with gzip.open(fname, 'rt') as data_file:\n",
    "    for i , line in enumerate(data_file):\n",
    "        if i > -1:\n",
    "            run_dict = json.loads(line)\n",
    "            #key = \"{}\\t{}\".format(run_dict['name'] , run_dict['id'])\n",
    "            key = run_dict['name']\n",
    "            #print(key)\n",
    "            value = run_dict.get(\"area\" , \"\")\n",
    "            if value != \"\":\n",
    "                db.put(key.encode() , value.encode())\n",
    "\n",
    "            #print(\"[{}] {}\".format(value ,key))"
   ]
  },
  {
   "cell_type": "code",
   "execution_count": 7,
   "metadata": {},
   "outputs": [
    {
     "data": {
      "text/plain": [
       "309317"
      ]
     },
     "execution_count": 7,
     "metadata": {},
     "output_type": "execute_result"
    }
   ],
   "source": [
    "len([key for key , value in db])"
   ]
  },
  {
   "cell_type": "code",
   "execution_count": 8,
   "metadata": {},
   "outputs": [],
   "source": [
    "db.close()"
   ]
  },
  {
   "cell_type": "markdown",
   "metadata": {},
   "source": [
    "#### KVSの検索\n",
    "\n",
    "60で構築したデータベースを用い，特定の（指定された）アーティストの活動場所を取得せよ．"
   ]
  },
  {
   "cell_type": "code",
   "execution_count": 9,
   "metadata": {
    "scrolled": true
   },
   "outputs": [],
   "source": [
    "db = plyvel.DB(fname_db , create_if_missing=True)"
   ]
  },
  {
   "cell_type": "code",
   "execution_count": 25,
   "metadata": {},
   "outputs": [],
   "source": [
    "artist_name = \"10 Rue d'la Madeleine\""
   ]
  },
  {
   "cell_type": "code",
   "execution_count": 26,
   "metadata": {},
   "outputs": [
    {
     "data": {
      "text/plain": [
       "'France'"
      ]
     },
     "execution_count": 26,
     "metadata": {},
     "output_type": "execute_result"
    }
   ],
   "source": [
    "db.get(artist_name.encode()).decode()"
   ]
  },
  {
   "cell_type": "markdown",
   "metadata": {},
   "source": [
    "##### sandbox"
   ]
  },
  {
   "cell_type": "code",
   "execution_count": 16,
   "metadata": {},
   "outputs": [],
   "source": [
    "tmp = [key_value[0].decode()  for i , key_value in enumerate(db) if i < 300 and i > 290]"
   ]
  },
  {
   "cell_type": "code",
   "execution_count": 17,
   "metadata": {},
   "outputs": [
    {
     "data": {
      "text/plain": [
       "['1/3 Octave Band',\n",
       " '10 5 Neuton',\n",
       " '10 Fold B-Low',\n",
       " '10 Ft. Ganja Plant',\n",
       " '10 Minute Warning',\n",
       " \"10 Rue d'la Madeleine\",\n",
       " '10 Years',\n",
       " '10 petits indiens',\n",
       " '10\" Maria']"
      ]
     },
     "execution_count": 17,
     "metadata": {},
     "output_type": "execute_result"
    }
   ],
   "source": [
    "tmp"
   ]
  },
  {
   "cell_type": "code",
   "execution_count": 24,
   "metadata": {},
   "outputs": [
    {
     "data": {
      "text/plain": [
       "'France'"
      ]
     },
     "execution_count": 24,
     "metadata": {},
     "output_type": "execute_result"
    }
   ],
   "source": [
    "db.get(\"10 Rue d'la Madeleine\".encode()).decode()"
   ]
  },
  {
   "cell_type": "code",
   "execution_count": 35,
   "metadata": {},
   "outputs": [
    {
     "data": {
      "text/plain": [
       "b''"
      ]
     },
     "execution_count": 35,
     "metadata": {},
     "output_type": "execute_result"
    }
   ],
   "source": [
    "db.get('\"Pretty\" Fedd'.encode())"
   ]
  },
  {
   "cell_type": "code",
   "execution_count": 32,
   "metadata": {},
   "outputs": [
    {
     "data": {
      "text/plain": [
       "['\"Pretty\" Fedd []',\n",
       " '\"Red\" Roberts mit seinem Ultraphon Jazz-Orchester [Germany]',\n",
       " '\"Ritekt Jerk\", Mases Erik Jonsson []',\n",
       " '\"Rob,SEAL\" []',\n",
       " '\"Rolling Joe\" Johnson []',\n",
       " '\"Rural\" Merle Hicks []',\n",
       " '\"See There\" Singing Band []',\n",
       " '\"Sir\" Oliver Mally [Austria]',\n",
       " '\"Slim\" Jim Smith []']"
      ]
     },
     "execution_count": 32,
     "metadata": {},
     "output_type": "execute_result"
    }
   ],
   "source": [
    "[\"{} [{}]\".format(key_value[0].decode() , key_value[1].decode()) for i , key_value in enumerate(db) if i < 100 and i > 90]"
   ]
  },
  {
   "cell_type": "code",
   "execution_count": 12,
   "metadata": {},
   "outputs": [],
   "source": [
    "sample_names = [key_value[0] for i , key_value in enumerate(db) if i < 100]"
   ]
  },
  {
   "cell_type": "code",
   "execution_count": 13,
   "metadata": {},
   "outputs": [
    {
     "data": {
      "text/plain": [
       "\"'Jabbo' Williams\""
      ]
     },
     "execution_count": 13,
     "metadata": {},
     "output_type": "execute_result"
    }
   ],
   "source": [
    "sample_names[70].decode()"
   ]
  },
  {
   "cell_type": "code",
   "execution_count": 15,
   "metadata": {
    "scrolled": true
   },
   "outputs": [
    {
     "data": {
      "text/plain": [
       "'Sankt-Peterburg'"
      ]
     },
     "execution_count": 15,
     "metadata": {},
     "output_type": "execute_result"
    }
   ],
   "source": [
    "db.get(sample_names[7]).decode()"
   ]
  },
  {
   "cell_type": "code",
   "execution_count": 25,
   "metadata": {
    "scrolled": true
   },
   "outputs": [
    {
     "data": {
      "text/plain": [
       "b''"
      ]
     },
     "execution_count": 25,
     "metadata": {},
     "output_type": "execute_result"
    }
   ],
   "source": [
    "db.get(b\"!ATTENTION!\\t617688\")"
   ]
  },
  {
   "cell_type": "code",
   "execution_count": 26,
   "metadata": {},
   "outputs": [],
   "source": [
    "db.get(b'!Action Pact!\\\\t95246')"
   ]
  },
  {
   "cell_type": "code",
   "execution_count": 28,
   "metadata": {},
   "outputs": [],
   "source": [
    "db.get(b'!Bang Elektronika\\\\t172294')"
   ]
  },
  {
   "cell_type": "code",
   "execution_count": 41,
   "metadata": {},
   "outputs": [
    {
     "name": "stdout",
     "output_type": "stream",
     "text": [
      "[master 6618d1c] 60\n",
      " 1 file changed, 128 insertions(+), 8 deletions(-)\n"
     ]
    }
   ],
   "source": [
    "%%bash\n",
    "git commit -a -m \"60\""
   ]
  },
  {
   "cell_type": "markdown",
   "metadata": {},
   "source": [
    "*** バイト列型に関するメモ ***"
   ]
  },
  {
   "cell_type": "markdown",
   "metadata": {},
   "source": [
    "#### KVS内の反復処理\n",
    "60で構築したデータベースを用い，活動場所が「Japan」となっているアーティスト数を求めよ．"
   ]
  },
  {
   "cell_type": "code",
   "execution_count": 32,
   "metadata": {},
   "outputs": [],
   "source": [
    "\n",
    "run_place = \"Japan\""
   ]
  },
  {
   "cell_type": "code",
   "execution_count": 33,
   "metadata": {},
   "outputs": [
    {
     "data": {
      "text/plain": [
       "b'Japan'"
      ]
     },
     "execution_count": 33,
     "metadata": {},
     "output_type": "execute_result"
    }
   ],
   "source": [
    "run_place.encode()"
   ]
  },
  {
   "cell_type": "code",
   "execution_count": 42,
   "metadata": {},
   "outputs": [],
   "source": [
    "japan_artists = [x[0].decode() for x in db.iterator() if x[1] == run_place.encode()]"
   ]
  },
  {
   "cell_type": "code",
   "execution_count": 44,
   "metadata": {},
   "outputs": [
    {
     "name": "stdout",
     "output_type": "stream",
     "text": [
      "Number of registered artists in Japan is 22128\n"
     ]
    }
   ],
   "source": [
    "print(\"Number of registered artists in Japan is {}\".format(len(japan_artists)))"
   ]
  },
  {
   "cell_type": "code",
   "execution_count": 49,
   "metadata": {},
   "outputs": [
    {
     "data": {
      "text/plain": [
       "['6号さん',\n",
       " '7!!',\n",
       " '72',\n",
       " '742',\n",
       " '765PRO ALLSTARS',\n",
       " '7@',\n",
       " '7chi子♪',\n",
       " '7人祭',\n",
       " '800 Cherries',\n",
       " '876PRO ALLSTARS',\n",
       " '96',\n",
       " '96ちゃん',\n",
       " '98',\n",
       " '99RadioService',\n",
       " '9GOATS BLACK OUT',\n",
       " '9mm Parabellum Bullet',\n",
       " '9nine',\n",
       " '9少女',\n",
       " '>>96',\n",
       " 'A Lunch']"
      ]
     },
     "execution_count": 49,
     "metadata": {},
     "output_type": "execute_result"
    }
   ],
   "source": [
    "japan_artists[100:120]"
   ]
  },
  {
   "cell_type": "markdown",
   "metadata": {},
   "source": [
    "####  オブジェクトを値に格納したKVS\n",
    "KVSを用い，アーティスト名（name）からタグと被タグ数（タグ付けされた回数）のリストを検索するためのデータベースを構築せよ．さらに，ここで構築したデータベースを用い，アーティスト名からタグと被タグ数を検索せよ．"
   ]
  },
  {
   "cell_type": "code",
   "execution_count": 52,
   "metadata": {},
   "outputs": [],
   "source": [
    "fname_db63 = 'nlp100data/test63_db'"
   ]
  },
  {
   "cell_type": "code",
   "execution_count": 53,
   "metadata": {},
   "outputs": [],
   "source": [
    "db = plyvel.DB(fname_db63 , create_if_missing=True)"
   ]
  },
  {
   "cell_type": "code",
   "execution_count": 57,
   "metadata": {},
   "outputs": [],
   "source": [
    "with gzip.open(fname, 'rt') as data_file:\n",
    "    for i , line in enumerate(data_file):\n",
    "        if i > -1:\n",
    "            run_dict = json.loads(line)\n",
    "            #key = \"{}\\t{}\".format(run_dict['name'] , run_dict['id'])\n",
    "            key = run_dict['name']\n",
    "            #print(key)\n",
    "            value = run_dict.get(\"tags\" , \"\")\n",
    "            if value != \"\":\n",
    "                db.put(key.encode() , json.dumps(value).encode())\n",
    "\n",
    "            #print(\"[{}] {}\".format(value ,key))"
   ]
  },
  {
   "cell_type": "code",
   "execution_count": 56,
   "metadata": {},
   "outputs": [
    {
     "data": {
      "text/plain": [
       "'[{\"value\": \"sillyname\", \"count\": 1}]'"
      ]
     },
     "execution_count": 56,
     "metadata": {},
     "output_type": "execute_result"
    }
   ],
   "source": [
    "json.dumps(value)"
   ]
  },
  {
   "cell_type": "code",
   "execution_count": 47,
   "metadata": {},
   "outputs": [
    {
     "name": "stdout",
     "output_type": "stream",
     "text": [
      "[master 095489d] from notebook\n",
      " 1 file changed, 393 insertions(+), 45 deletions(-)\n"
     ]
    }
   ],
   "source": [
    "%%bash\n",
    "git commit -a -m'from notebook'"
   ]
  },
  {
   "cell_type": "code",
   "execution_count": null,
   "metadata": {},
   "outputs": [],
   "source": []
  }
 ],
 "metadata": {
  "kernelspec": {
   "display_name": "Python [default]",
   "language": "python",
   "name": "python3"
  },
  "language_info": {
   "codemirror_mode": {
    "name": "ipython",
    "version": 3
   },
   "file_extension": ".py",
   "mimetype": "text/x-python",
   "name": "python",
   "nbconvert_exporter": "python",
   "pygments_lexer": "ipython3",
   "version": "3.5.4"
  },
  "toc": {
   "colors": {
    "hover_highlight": "#DAA520",
    "navigate_num": "#000000",
    "navigate_text": "#333333",
    "running_highlight": "#FF0000",
    "selected_highlight": "#FFD700",
    "sidebar_border": "#EEEEEE",
    "wrapper_background": "#FFFFFF"
   },
   "moveMenuLeft": true,
   "nav_menu": {
    "height": "30px",
    "width": "252px"
   },
   "navigate_menu": true,
   "number_sections": true,
   "sideBar": true,
   "threshold": 4,
   "toc_cell": false,
   "toc_section_display": "block",
   "toc_window_display": false,
   "widenNotebook": false
  }
 },
 "nbformat": 4,
 "nbformat_minor": 2
}
