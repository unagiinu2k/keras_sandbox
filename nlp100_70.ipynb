{
 "cells": [
  {
   "cell_type": "markdown",
   "metadata": {},
   "source": [
    "**** データの入手・整形 ****\n",
    "\n",
    "文に関する極性分析の正解データを用い，以下の要領で正解データ（sentiment.txt）を作成せよ．\n",
    "\n",
    "rt-polarity.posの各行の先頭に\"+1 \"という文字列を追加する（極性ラベル\"+1\"とスペースに続けて肯定的な文の内容が続く）\n",
    "rt-polarity.negの各行の先頭に\"-1 \"という文字列を追加する（極性ラベル\"-1\"とスペースに続けて否定的な文の内容が続く）\n",
    "上述1と2の内容を結合（concatenate）し，行をランダムに並び替える\n",
    "\n",
    "sentiment.txtを作成したら，正例（肯定的な文）の数と負例（否定的な文）の数を確認せよ．"
   ]
  },
  {
   "cell_type": "code",
   "execution_count": 1,
   "metadata": {},
   "outputs": [],
   "source": [
    "# coding: utf-8\n",
    "import codecs\n",
    "import random\n",
    "\n",
    "fname_pos = 'nlp100data/rt-polaritydata/rt-polarity.pos'\n",
    "fname_neg = 'nlp100data/rt-polaritydata/rt-polarity.neg'\n",
    "fname_smt = 'nlp100data/sentiment.txt'\n",
    "fencoding = 'cp1252'        # Windows-1252らしい"
   ]
  },
  {
   "cell_type": "code",
   "execution_count": null,
   "metadata": {},
   "outputs": [],
   "source": [
    "result = []"
   ]
  },
  {
   "cell_type": "markdown",
   "metadata": {},
   "source": [
    "ポジティブデータの読み込み"
   ]
  },
  {
   "cell_type": "code",
   "execution_count": null,
   "metadata": {},
   "outputs": [],
   "source": [
    "with codecs.open(fname_pos, 'r', fencoding) as file_pos:\n",
    "    result.extend(['+1 {}'.format(line.strip()) for line in file_pos])"
   ]
  },
  {
   "cell_type": "code",
   "execution_count": null,
   "metadata": {},
   "outputs": [],
   "source": [
    "print(\"number of postive sentences is {}\".format(len(result)))"
   ]
  },
  {
   "cell_type": "code",
   "execution_count": null,
   "metadata": {},
   "outputs": [],
   "source": [
    "result_neg = []\n",
    "with codecs.open(fname_neg, 'r', fencoding) as file_neg:\n",
    "    result_neg.extend(['-1 {}'.format(line.strip()) for line in file_neg])\n"
   ]
  },
  {
   "cell_type": "code",
   "execution_count": null,
   "metadata": {},
   "outputs": [],
   "source": [
    "print(\"number of negative sentences is {}\".format(len(result_neg)))"
   ]
  },
  {
   "cell_type": "code",
   "execution_count": null,
   "metadata": {},
   "outputs": [],
   "source": [
    "result.extend(result_neg)"
   ]
  },
  {
   "cell_type": "code",
   "execution_count": null,
   "metadata": {},
   "outputs": [],
   "source": [
    "print(\"total number of sentences is {}\".format(len(result)))"
   ]
  },
  {
   "cell_type": "markdown",
   "metadata": {},
   "source": [
    "シャッフル"
   ]
  },
  {
   "cell_type": "code",
   "execution_count": null,
   "metadata": {},
   "outputs": [],
   "source": [
    "random.shuffle(result)"
   ]
  },
  {
   "cell_type": "markdown",
   "metadata": {},
   "source": [
    "書き出し"
   ]
  },
  {
   "cell_type": "code",
   "execution_count": null,
   "metadata": {},
   "outputs": [],
   "source": [
    "with codecs.open(fname_smt, 'w', fencoding) as file_out:\n",
    "    print(*result, sep='\\n', file=file_out)"
   ]
  },
  {
   "cell_type": "markdown",
   "metadata": {},
   "source": [
    "####  ストップワード\n",
    "\n",
    "英語のストップワードのリスト（ストップリスト）を適当に作成せよ．\n",
    "\n",
    "さらに，引数に与えられた単語（文字列）がストップリストに含まれている場合は真，それ以外は偽を返す関数を実装せよ．\n",
    "\n",
    "さらに，その関数に対するテストを記述せよ．"
   ]
  },
  {
   "cell_type": "markdown",
   "metadata": {},
   "source": [
    "ストップワードのリスト  http://xpo6.com/list-of-english-stop-words/ のCSV Formatより"
   ]
  },
  {
   "cell_type": "code",
   "execution_count": 2,
   "metadata": {},
   "outputs": [],
   "source": [
    "stop_words = (\n",
    "    'a,able,about,across,after,all,almost,also,am,among,an,and,any,are,'\n",
    "    'as,at,be,because,been,but,by,can,cannot,could,dear,did,do,does,'\n",
    "    'either,else,ever,every,for,from,get,got,had,has,have,he,her,hers,'\n",
    "    'him,his,how,however,i,if,in,into,is,it,its,just,least,let,like,'\n",
    "    'likely,may,me,might,most,must,my,neither,no,nor,not,of,off,often,'\n",
    "    'on,only,or,other,our,own,rather,said,say,says,she,should,since,so,'\n",
    "    'some,than,that,the,their,them,then,there,these,they,this,tis,to,too,'\n",
    "    'twas,us,wants,was,we,were,what,when,where,which,while,who,whom,why,'\n",
    "    'will,with,would,yet,you,your').lower().split(',')"
   ]
  },
  {
   "cell_type": "code",
   "execution_count": 3,
   "metadata": {},
   "outputs": [],
   "source": [
    "def is_stopword(str):\n",
    "    '''文字がストップワードかどうかを返す\n",
    "    大小文字は同一視する\n",
    "\n",
    "    戻り値：\n",
    "    ストップワードならTrue、違う場合はFalse\n",
    "    '''\n",
    "    return str.lower() in stop_words\n"
   ]
  },
  {
   "cell_type": "code",
   "execution_count": 4,
   "metadata": {},
   "outputs": [
    {
     "ename": "AssertionError",
     "evalue": "",
     "output_type": "error",
     "traceback": [
      "\u001b[0;31m---------------------------------------------------------------------------\u001b[0m",
      "\u001b[0;31mAssertionError\u001b[0m                            Traceback (most recent call last)",
      "\u001b[0;32m<ipython-input-4-14282b1f4af6>\u001b[0m in \u001b[0;36m<module>\u001b[0;34m()\u001b[0m\n\u001b[0;32m----> 1\u001b[0;31m \u001b[0;32massert\u001b[0m \u001b[0mis_stopword\u001b[0m\u001b[0;34m(\u001b[0m\u001b[0;34m\"Tokyo\"\u001b[0m\u001b[0;34m)\u001b[0m\u001b[0;34m\u001b[0m\u001b[0m\n\u001b[0m",
      "\u001b[0;31mAssertionError\u001b[0m: "
     ]
    }
   ],
   "source": [
    "assert is_stopword(\"Tokyo\")"
   ]
  },
  {
   "cell_type": "code",
   "execution_count": 5,
   "metadata": {},
   "outputs": [],
   "source": [
    "assert is_stopword(\"a\")"
   ]
  },
  {
   "cell_type": "markdown",
   "metadata": {},
   "source": [
    "#### 素性抽出\n",
    "\n",
    "極性分析に有用そうな素性を各自で設計し，学習データから素性を抽出せよ．\n",
    "\n",
    "素性としては，レビューからストップワードを除去し，各単語をステミング処理したものが最低限のベースラインとなるであろう．"
   ]
  },
  {
   "cell_type": "markdown",
   "metadata": {},
   "source": [
    "**** coreNLPを使ったほうがよさそう。nlp100_50.ipynbの先頭を踏襲すればよい（？）****\n",
    "\n",
    "https://github.com/Lynten/stanford-corenlp"
   ]
  },
  {
   "cell_type": "code",
   "execution_count": null,
   "metadata": {},
   "outputs": [],
   "source": [
    "with codecs.open(fname_smt, 'r', fencoding) as rf:\n",
    "    for i , l in enumerate(rf):\n",
    "        for w in l[3:].split(\" \"):\n",
    "            print(w.strip())\n",
    "            \n",
    "            \n",
    "        "
   ]
  },
  {
   "cell_type": "code",
   "execution_count": 7,
   "metadata": {},
   "outputs": [],
   "source": [
    "from stanfordcorenlp import StanfordCoreNLP"
   ]
  },
  {
   "cell_type": "code",
   "execution_count": 8,
   "metadata": {},
   "outputs": [],
   "source": [
    "corenlp = StanfordCoreNLP(r'/home/toshinao/Tools/stanford-corenlp-full-2018-02-27')"
   ]
  },
  {
   "cell_type": "code",
   "execution_count": 9,
   "metadata": {},
   "outputs": [],
   "source": [
    "from bs4 import BeautifulSoup"
   ]
  },
  {
   "cell_type": "code",
   "execution_count": 10,
   "metadata": {},
   "outputs": [],
   "source": [
    "props={'annotators': 'lemma','pipelineLanguage':'en','outputFormat':'xml'}"
   ]
  },
  {
   "cell_type": "code",
   "execution_count": 135,
   "metadata": {},
   "outputs": [],
   "source": [
    "xmls = list()\n",
    "with codecs.open(fname_smt, 'r', fencoding) as rf:\n",
    "    for l in rf:\n",
    "        run_xml = corenlp.annotate(l[3:] , properties=props)\n",
    "        xmls.append(run_xml)\n",
    "            \n",
    "        "
   ]
  },
  {
   "cell_type": "code",
   "execution_count": null,
   "metadata": {},
   "outputs": [],
   "source": [
    "len(xmls)"
   ]
  },
  {
   "cell_type": "code",
   "execution_count": null,
   "metadata": {},
   "outputs": [],
   "source": [
    "\"x\" not in stop_words"
   ]
  },
  {
   "cell_type": "code",
   "execution_count": 138,
   "metadata": {},
   "outputs": [],
   "source": [
    "from collections import Counter"
   ]
  },
  {
   "cell_type": "code",
   "execution_count": 139,
   "metadata": {},
   "outputs": [],
   "source": [
    "word_counter = Counter()"
   ]
  },
  {
   "cell_type": "code",
   "execution_count": 140,
   "metadata": {},
   "outputs": [],
   "source": [
    "for x in xmls:\n",
    "    soup = BeautifulSoup(x, 'lxml')\n",
    "    for x in soup.find_all(\"lemma\"):\n",
    "        y = x.get_text()\n",
    "        if y not in stop_words:\n",
    "            word_counter.update([y])\n",
    "            "
   ]
  },
  {
   "cell_type": "code",
   "execution_count": 141,
   "metadata": {},
   "outputs": [],
   "source": [
    "features = [word for word, count in word_counter.items() if count >= 6]"
   ]
  },
  {
   "cell_type": "code",
   "execution_count": 142,
   "metadata": {},
   "outputs": [
    {
     "name": "stdout",
     "output_type": "stream",
     "text": [
      "number of seletcted features is 3439\n"
     ]
    }
   ],
   "source": [
    "print(\"number of seletcted features is {}\".format(len(features)))"
   ]
  },
  {
   "cell_type": "code",
   "execution_count": 143,
   "metadata": {},
   "outputs": [
    {
     "data": {
      "text/plain": [
       "['play',\n",
       " 'droll',\n",
       " 'hear',\n",
       " 'worry',\n",
       " 'promise',\n",
       " 'conclusion',\n",
       " 'nonsense',\n",
       " 'pumpkin',\n",
       " 'minor',\n",
       " 'unintentionally']"
      ]
     },
     "execution_count": 143,
     "metadata": {},
     "output_type": "execute_result"
    }
   ],
   "source": [
    "features[0:10]"
   ]
  },
  {
   "cell_type": "code",
   "execution_count": 16,
   "metadata": {},
   "outputs": [],
   "source": [
    "fname_features = \"nlp100data/features.txt\""
   ]
  },
  {
   "cell_type": "code",
   "execution_count": 144,
   "metadata": {},
   "outputs": [],
   "source": [
    "with codecs.open(fname_features, 'w', fencoding) as file_out:\n",
    "    print(*features, sep='\\n', file=file_out)"
   ]
  },
  {
   "cell_type": "code",
   "execution_count": 145,
   "metadata": {},
   "outputs": [],
   "source": [
    "def load_dict_features():\n",
    "    '''features.txtを読み込み、素性をインデックスに変換するための辞書を作成\n",
    "    インデックスの値は1ベースで、features.txtにおける行番号と一致する。\n",
    "\n",
    "    戻り値：\n",
    "    素性をインデックスに変換する辞書\n",
    "    '''\n",
    "    with codecs.open(fname_features, 'r', fencoding) as file_in:\n",
    "        return [l.strip() for l in file_in]"
   ]
  },
  {
   "cell_type": "markdown",
   "metadata": {},
   "source": [
    "##### sandbox"
   ]
  },
  {
   "cell_type": "code",
   "execution_count": null,
   "metadata": {},
   "outputs": [],
   "source": [
    "fname_features"
   ]
  },
  {
   "cell_type": "code",
   "execution_count": null,
   "metadata": {},
   "outputs": [],
   "source": [
    "print(soup.prettify())"
   ]
  },
  {
   "cell_type": "code",
   "execution_count": null,
   "metadata": {},
   "outputs": [],
   "source": [
    "%%bash\n",
    "git commit -a -m \"from notebook\""
   ]
  },
  {
   "cell_type": "code",
   "execution_count": null,
   "metadata": {},
   "outputs": [],
   "source": [
    "features = set()\n",
    "\n",
    "for x in xmls:\n",
    "    soup = BeautifulSoup(x, 'lxml')\n",
    "    for x in soup.find_all(\"lemma\"):\n",
    "        y = x.get_text()\n",
    "        if y not in stop_words:\n",
    "            features.add(y)\n",
    "            "
   ]
  },
  {
   "cell_type": "code",
   "execution_count": null,
   "metadata": {},
   "outputs": [],
   "source": [
    "for x in soup.find_all(\"lemma\"):\n",
    "    print(x.get_text())"
   ]
  },
  {
   "cell_type": "code",
   "execution_count": null,
   "metadata": {},
   "outputs": [],
   "source": [
    "run_xml = corenlp.annotate(l, properties=props)"
   ]
  },
  {
   "cell_type": "code",
   "execution_count": null,
   "metadata": {},
   "outputs": [],
   "source": [
    "corenlp.parse(l)"
   ]
  },
  {
   "cell_type": "markdown",
   "metadata": {},
   "source": [
    "https://github.com/Lynten/stanford-corenlp"
   ]
  },
  {
   "cell_type": "code",
   "execution_count": null,
   "metadata": {
    "scrolled": false
   },
   "outputs": [],
   "source": [
    "props={'annotators': 'tokenize,ssplit,pos','pipelineLanguage':'en','outputFormat':'xml'}\n",
    "print(corenlp.annotate(l, properties=props))"
   ]
  },
  {
   "cell_type": "markdown",
   "metadata": {},
   "source": [
    "#### 学習\n",
    "72で抽出した素性を用いて，ロジスティック回帰モデルを学習せよ．"
   ]
  },
  {
   "cell_type": "code",
   "execution_count": 146,
   "metadata": {},
   "outputs": [],
   "source": [
    "import numpy as np"
   ]
  },
  {
   "cell_type": "code",
   "execution_count": 147,
   "metadata": {},
   "outputs": [],
   "source": [
    "from sklearn.feature_extraction.text import CountVectorizer as CV"
   ]
  },
  {
   "cell_type": "code",
   "execution_count": 148,
   "metadata": {},
   "outputs": [],
   "source": [
    "features = load_dict_features()"
   ]
  },
  {
   "cell_type": "code",
   "execution_count": 149,
   "metadata": {},
   "outputs": [],
   "source": [
    "cv = CV(vocabulary=features)"
   ]
  },
  {
   "cell_type": "code",
   "execution_count": 150,
   "metadata": {},
   "outputs": [
    {
     "data": {
      "text/plain": [
       "<3x3439 sparse matrix of type '<class 'numpy.int64'>'\n",
       "\twith 3 stored elements in Compressed Sparse Row format>"
      ]
     },
     "execution_count": 150,
     "metadata": {},
     "output_type": "execute_result"
    }
   ],
   "source": [
    "cv.transform(features[0:3])\n"
   ]
  },
  {
   "cell_type": "code",
   "execution_count": 151,
   "metadata": {},
   "outputs": [
    {
     "data": {
      "text/plain": [
       "0"
      ]
     },
     "execution_count": 151,
     "metadata": {},
     "output_type": "execute_result"
    }
   ],
   "source": [
    "np.sum(cv.transform([\"shibuya\"]).toarray())"
   ]
  },
  {
   "cell_type": "code",
   "execution_count": 152,
   "metadata": {},
   "outputs": [],
   "source": [
    "token_sum_list = []\n",
    "for x in xmls:\n",
    "    soup = BeautifulSoup(x, 'lxml')\n",
    "    lemmas = list()\n",
    "    for x in soup.find_all(\"lemma\"):\n",
    "        xt = x.get_text()\n",
    "        if xt not in stop_words:\n",
    "            lemmas.append(xt)\n",
    "    token_matrix = cv.transform(lemmas).toarray()\n",
    "    token_sum = token_matrix.sum(axis = 0).astype(float)\n",
    "    token_sum_list.append(token_sum.tolist())"
   ]
  },
  {
   "cell_type": "code",
   "execution_count": 153,
   "metadata": {},
   "outputs": [],
   "source": [
    "token_sum_matrix = np.array(token_sum_list)"
   ]
  },
  {
   "cell_type": "code",
   "execution_count": 154,
   "metadata": {},
   "outputs": [
    {
     "data": {
      "text/plain": [
       "(10662, 3439)"
      ]
     },
     "execution_count": 154,
     "metadata": {},
     "output_type": "execute_result"
    }
   ],
   "source": [
    "token_sum_matrix.shape"
   ]
  },
  {
   "cell_type": "code",
   "execution_count": 458,
   "metadata": {},
   "outputs": [],
   "source": [
    "with codecs.open(fname_smt, 'r', fencoding) as rf:\n",
    "    y = [float(l[0:2]) for l in rf ]"
   ]
  },
  {
   "cell_type": "code",
   "execution_count": 459,
   "metadata": {},
   "outputs": [],
   "source": [
    "y = np.array(y)"
   ]
  },
  {
   "cell_type": "code",
   "execution_count": 462,
   "metadata": {},
   "outputs": [],
   "source": [
    "y_correct = y"
   ]
  },
  {
   "cell_type": "code",
   "execution_count": 460,
   "metadata": {},
   "outputs": [
    {
     "data": {
      "text/plain": [
       "(10662,)"
      ]
     },
     "execution_count": 460,
     "metadata": {},
     "output_type": "execute_result"
    }
   ],
   "source": [
    "y.shape"
   ]
  },
  {
   "cell_type": "code",
   "execution_count": 231,
   "metadata": {},
   "outputs": [],
   "source": [
    "feature_names = cv.get_feature_names()"
   ]
  },
  {
   "cell_type": "markdown",
   "metadata": {},
   "source": [
    "##### 回帰"
   ]
  },
  {
   "cell_type": "markdown",
   "metadata": {},
   "source": [
    "http://ailaby.com/logistic_reg/"
   ]
  },
  {
   "cell_type": "code",
   "execution_count": 159,
   "metadata": {},
   "outputs": [],
   "source": [
    "from sklearn.linear_model import LogisticRegression\n",
    " "
   ]
  },
  {
   "cell_type": "code",
   "execution_count": 160,
   "metadata": {},
   "outputs": [],
   "source": [
    "lr = LogisticRegression()"
   ]
  },
  {
   "cell_type": "code",
   "execution_count": 161,
   "metadata": {},
   "outputs": [
    {
     "data": {
      "text/plain": [
       "LogisticRegression(C=1.0, class_weight=None, dual=False, fit_intercept=True,\n",
       "          intercept_scaling=1, max_iter=100, multi_class='ovr', n_jobs=1,\n",
       "          penalty='l2', random_state=None, solver='liblinear', tol=0.0001,\n",
       "          verbose=0, warm_start=False)"
      ]
     },
     "execution_count": 161,
     "metadata": {},
     "output_type": "execute_result"
    }
   ],
   "source": [
    "lr.fit(X = token_sum_matrix , y = y)"
   ]
  },
  {
   "cell_type": "code",
   "execution_count": 163,
   "metadata": {},
   "outputs": [
    {
     "data": {
      "text/plain": [
       "0.87225661226786722"
      ]
     },
     "execution_count": 163,
     "metadata": {},
     "output_type": "execute_result"
    }
   ],
   "source": [
    "lr.score(X=token_sum_matrix , y = y)"
   ]
  },
  {
   "cell_type": "markdown",
   "metadata": {},
   "source": [
    "#### 予測\n",
    "\n",
    "73で学習したロジスティック回帰モデルを用い，与えられた文の極性ラベル（正例なら\"+1\"，負例なら\"-1\"）と，その予測確率を計算するプログラムを実装せよ．"
   ]
  },
  {
   "cell_type": "code",
   "execution_count": 190,
   "metadata": {},
   "outputs": [],
   "source": [
    "y_pred1 = lr.predict(X = token_sum_matrix)"
   ]
  },
  {
   "cell_type": "code",
   "execution_count": 169,
   "metadata": {},
   "outputs": [
    {
     "data": {
      "text/plain": [
       "array([-1., -1., -1., -1., -1.,  1.,  1.,  1.,  1., -1.])"
      ]
     },
     "execution_count": 169,
     "metadata": {},
     "output_type": "execute_result"
    }
   ],
   "source": [
    "y[0:10]"
   ]
  },
  {
   "cell_type": "code",
   "execution_count": 172,
   "metadata": {
    "scrolled": true
   },
   "outputs": [
    {
     "data": {
      "text/plain": [
       "{'C': 1.0,\n",
       " 'class_weight': None,\n",
       " 'dual': False,\n",
       " 'fit_intercept': True,\n",
       " 'intercept_scaling': 1,\n",
       " 'max_iter': 100,\n",
       " 'multi_class': 'ovr',\n",
       " 'n_jobs': 1,\n",
       " 'penalty': 'l2',\n",
       " 'random_state': None,\n",
       " 'solver': 'liblinear',\n",
       " 'tol': 0.0001,\n",
       " 'verbose': 0,\n",
       " 'warm_start': False}"
      ]
     },
     "execution_count": 172,
     "metadata": {},
     "output_type": "execute_result"
    }
   ],
   "source": [
    "lr.get_params()"
   ]
  },
  {
   "cell_type": "code",
   "execution_count": 204,
   "metadata": {},
   "outputs": [
    {
     "data": {
      "text/plain": [
       "array([[-0.35716411,  0.550107  , -0.22356707, ..., -0.38271609,\n",
       "        -0.82514424,  0.50568172]])"
      ]
     },
     "execution_count": 204,
     "metadata": {},
     "output_type": "execute_result"
    }
   ],
   "source": [
    "lr.coef_"
   ]
  },
  {
   "cell_type": "code",
   "execution_count": 174,
   "metadata": {},
   "outputs": [
    {
     "data": {
      "text/plain": [
       "array([-0.27312972])"
      ]
     },
     "execution_count": 174,
     "metadata": {},
     "output_type": "execute_result"
    }
   ],
   "source": [
    "lr.intercept_"
   ]
  },
  {
   "cell_type": "code",
   "execution_count": 198,
   "metadata": {},
   "outputs": [],
   "source": [
    "fy_pred2 = 1/ ( 1 + np.exp(-lr.intercept_ -token_sum_matrix.dot(np.transpose(lr.coef_))))"
   ]
  },
  {
   "cell_type": "code",
   "execution_count": 199,
   "metadata": {},
   "outputs": [],
   "source": [
    "y_pred2 = [1 if x > 0.5 else -1 for x in fy_pred2]"
   ]
  },
  {
   "cell_type": "code",
   "execution_count": 200,
   "metadata": {},
   "outputs": [
    {
     "data": {
      "text/plain": [
       "[]"
      ]
     },
     "execution_count": 200,
     "metadata": {},
     "output_type": "execute_result"
    }
   ],
   "source": [
    "[(y_pred1[i] , fy_pred2[i]) for i in range(len(y_pred2)) if y_pred2[i] != y_pred1[i]]"
   ]
  },
  {
   "cell_type": "markdown",
   "metadata": {},
   "source": [
    "#####  sandbox"
   ]
  },
  {
   "cell_type": "code",
   "execution_count": null,
   "metadata": {},
   "outputs": [],
   "source": [
    "lr.fit?\n"
   ]
  },
  {
   "cell_type": "code",
   "execution_count": 50,
   "metadata": {},
   "outputs": [],
   "source": [
    "from sklearn.cross_validation import train_test_split\n",
    "from sklearn.preprocessing import StandardScaler"
   ]
  },
  {
   "cell_type": "code",
   "execution_count": 54,
   "metadata": {},
   "outputs": [],
   "source": [
    "np.random.seed(seed=0)\n",
    "X_0 = np.random.multivariate_normal( [2,2],  [[2,0],[0,2]],  50 )\n",
    "y_0 = np.zeros(len(X_0))\n",
    " \n",
    "X_1 = np.random.multivariate_normal( [6,7],  [[3,0],[0,3]],  50 )\n",
    "y_1 = np.ones(len(X_1))\n",
    " \n",
    "X = np.vstack((X_0, X_1))\n",
    "ytmp = np.append(y_0, y_1)\n",
    " \n",
    "X_train, X_test, y_train, y_test = train_test_split(X, ytmp, test_size=0.3)\n",
    " \n",
    "# 特徴データを標準化(平均 0、標準偏差 1)\n",
    "sc = StandardScaler()\n",
    "X_train_std = sc.fit_transform(X_train)\n",
    "X_test_std = sc.transform(X_test)"
   ]
  },
  {
   "cell_type": "markdown",
   "metadata": {},
   "source": [
    "https://note.nkmk.me/python-numpy-eye-identity-one-hot/"
   ]
  },
  {
   "cell_type": "code",
   "execution_count": null,
   "metadata": {},
   "outputs": [],
   "source": [
    "np.eye(10)[[1,2]]"
   ]
  },
  {
   "cell_type": "code",
   "execution_count": null,
   "metadata": {},
   "outputs": [],
   "source": [
    "tmp = np.empty()"
   ]
  },
  {
   "cell_type": "code",
   "execution_count": null,
   "metadata": {},
   "outputs": [],
   "source": [
    "x = xmls[1]"
   ]
  },
  {
   "cell_type": "code",
   "execution_count": null,
   "metadata": {},
   "outputs": [],
   "source": [
    "soup = BeautifulSoup(x, 'lxml')\n",
    "lemmas = list()\n",
    "for x in soup.find_all(\"lemma\"):\n",
    "    y = x.get_text()\n",
    "    if y not in stop_words:\n",
    "        lemmas.append(y)"
   ]
  },
  {
   "cell_type": "code",
   "execution_count": null,
   "metadata": {},
   "outputs": [],
   "source": [
    "tmp = cv.transform(lemmas).toarray()"
   ]
  },
  {
   "cell_type": "code",
   "execution_count": null,
   "metadata": {},
   "outputs": [],
   "source": [
    "tmp.sum(axis = 0).tolist()"
   ]
  },
  {
   "cell_type": "code",
   "execution_count": 211,
   "metadata": {},
   "outputs": [
    {
     "data": {
      "text/plain": [
       "2"
      ]
     },
     "execution_count": 211,
     "metadata": {},
     "output_type": "execute_result"
    }
   ],
   "source": [
    "1+1"
   ]
  },
  {
   "cell_type": "code",
   "execution_count": 212,
   "metadata": {},
   "outputs": [
    {
     "name": "stdout",
     "output_type": "stream",
     "text": [
      "[master b352032] from notebook\n",
      " 1 file changed, 142 insertions(+), 94 deletions(-)\n"
     ]
    }
   ],
   "source": [
    "%%bash \n",
    "git commit -a -m\"from notebook\""
   ]
  },
  {
   "cell_type": "code",
   "execution_count": 207,
   "metadata": {},
   "outputs": [
    {
     "name": "stderr",
     "output_type": "stream",
     "text": [
      "warning: push.default is unset; its implicit value has changed in\n",
      "Git 2.0 from 'matching' to 'simple'. To squelch this message\n",
      "and maintain the traditional behavior, use:\n",
      "\n",
      "  git config --global push.default matching\n",
      "\n",
      "To squelch this message and adopt the new behavior now, use:\n",
      "\n",
      "  git config --global push.default simple\n",
      "\n",
      "When push.default is set to 'matching', git will push local branches\n",
      "to the remote branches that already exist with the same name.\n",
      "\n",
      "Since Git 2.0, Git defaults to the more conservative 'simple'\n",
      "behavior, which only pushes the current branch to the corresponding\n",
      "remote branch that 'git pull' uses to update the current branch.\n",
      "\n",
      "See 'git help config' and search for 'push.default' for further information.\n",
      "(the 'simple' mode was introduced in Git 1.7.11. Use the similar mode\n",
      "'current' instead of 'simple' if you sometimes use older versions of Git)\n",
      "\n",
      "fatal: could not read Username for 'https://github.com': No such device or address\n"
     ]
    }
   ],
   "source": [
    "%%bash \n",
    "git push"
   ]
  },
  {
   "cell_type": "markdown",
   "metadata": {},
   "source": [
    "#### 素性の重み\n",
    "73で学習したロジスティック回帰モデルの中で，重みの高い素性トップ10と，重みの低い素性トップ10を確認せよ．"
   ]
  },
  {
   "cell_type": "code",
   "execution_count": 213,
   "metadata": {},
   "outputs": [
    {
     "data": {
      "text/plain": [
       "(10662, 3439)"
      ]
     },
     "execution_count": 213,
     "metadata": {},
     "output_type": "execute_result"
    }
   ],
   "source": [
    "token_sum_matrix.shape"
   ]
  },
  {
   "cell_type": "code",
   "execution_count": 215,
   "metadata": {},
   "outputs": [],
   "source": [
    "token_sum_summary = token_sum_matrix.sum(axis = 0)"
   ]
  },
  {
   "cell_type": "code",
   "execution_count": 225,
   "metadata": {},
   "outputs": [],
   "source": [
    "token_order = token_sum_summary.argsort()"
   ]
  },
  {
   "cell_type": "code",
   "execution_count": 242,
   "metadata": {},
   "outputs": [],
   "source": [
    "sorted_features = [feature_names[i] for i in token_order.tolist()]"
   ]
  },
  {
   "cell_type": "code",
   "execution_count": 243,
   "metadata": {},
   "outputs": [
    {
     "data": {
      "text/plain": [
       "['-',\n",
       " 'well-intentioned',\n",
       " 'so-so',\n",
       " 'fast-paced',\n",
       " 'gross-out',\n",
       " 'u',\n",
       " 'self-indulgent',\n",
       " \"'70s\",\n",
       " '!',\n",
       " \"''\"]"
      ]
     },
     "execution_count": 243,
     "metadata": {},
     "output_type": "execute_result"
    }
   ],
   "source": [
    "\n",
    "sorted_features[:10]"
   ]
  },
  {
   "cell_type": "code",
   "execution_count": 244,
   "metadata": {},
   "outputs": [
    {
     "data": {
      "text/plain": [
       "['up',\n",
       " 'out',\n",
       " 'time',\n",
       " 'character',\n",
       " 'story',\n",
       " 'more',\n",
       " 'one',\n",
       " 'make',\n",
       " 'movie',\n",
       " 'film']"
      ]
     },
     "execution_count": 244,
     "metadata": {},
     "output_type": "execute_result"
    }
   ],
   "source": [
    "sorted_features[-10:]"
   ]
  },
  {
   "cell_type": "code",
   "execution_count": 226,
   "metadata": {},
   "outputs": [
    {
     "data": {
      "text/plain": [
       "array([    0.,     0.,     0., ...,   797.,  1602.,  1802.])"
      ]
     },
     "execution_count": 226,
     "metadata": {},
     "output_type": "execute_result"
    }
   ],
   "source": [
    "token_sum_summary[token_sum_summary.argsort()]\n"
   ]
  },
  {
   "cell_type": "markdown",
   "metadata": {},
   "source": [
    "#### ラベル付け\n",
    "学習データに対してロジスティック回帰モデルを適用し，正解のラベル，予測されたラベル，予測確率をタブ区切り形式で出力せよ．"
   ]
  },
  {
   "cell_type": "code",
   "execution_count": 263,
   "metadata": {},
   "outputs": [],
   "source": [
    "out6 = [\"{}\\t{}\\t{}\".format(y[i] , y_pred2[i] , max(fy_pred2[i,0] , 1-fy_pred2[i,0])) for i in range(len(y))]"
   ]
  },
  {
   "cell_type": "code",
   "execution_count": 265,
   "metadata": {},
   "outputs": [
    {
     "name": "stdout",
     "output_type": "stream",
     "text": [
      "-1.0\t-1\t0.633762083074387\n",
      "-1.0\t1\t0.525303131220722\n",
      "-1.0\t-1\t0.6472735732404634\n",
      "-1.0\t-1\t0.8835594420620706\n",
      "-1.0\t-1\t0.8016856898511299\n",
      "1.0\t1\t0.9010667407594842\n",
      "1.0\t-1\t0.7583124365637459\n",
      "1.0\t1\t0.5558477883619057\n",
      "1.0\t-1\t0.5214795540802553\n",
      "-1.0\t-1\t0.8734910496169361\n"
     ]
    },
    {
     "data": {
      "text/plain": [
       "[None, None, None, None, None, None, None, None, None, None]"
      ]
     },
     "execution_count": 265,
     "metadata": {},
     "output_type": "execute_result"
    }
   ],
   "source": [
    "[print(x) for  x in out6[0:10]]"
   ]
  },
  {
   "cell_type": "markdown",
   "metadata": {},
   "source": [
    "#### 正解率の計測\n",
    "76の出力を受け取り，予測の正解率，正例に関する適合率，再現率，F1スコアを求めるプログラムを作成せよ．"
   ]
  },
  {
   "cell_type": "code",
   "execution_count": 269,
   "metadata": {},
   "outputs": [],
   "source": [
    "TP = 0      # True-Positive     予想が+1、正解も+1\n",
    "FP = 0      # False-Positive    予想が+1、正解は-1\n",
    "FN = 0      # False-Negative    予想が-1、正解は+1\n",
    "TN = 0      # True-Negative     予想が-1、正解も-1"
   ]
  },
  {
   "cell_type": "code",
   "execution_count": 286,
   "metadata": {},
   "outputs": [],
   "source": [
    "for y in out6:\n",
    "    x = y.split('\\t')\n",
    "    p = float(x[1])\n",
    "    c = float(x[0])\n",
    "    if p > 0 and c > 0:\n",
    "        TP += 1\n",
    "    if p > 0 and c < 0:\n",
    "        FP += 1\n",
    "    if p < 0 and c > 0:\n",
    "        FN += 1\n",
    "    if p < 0 and c < 0:\n",
    "        TN += 1   "
   ]
  },
  {
   "cell_type": "code",
   "execution_count": 287,
   "metadata": {},
   "outputs": [
    {
     "data": {
      "text/plain": [
       "10662"
      ]
     },
     "execution_count": 287,
     "metadata": {},
     "output_type": "execute_result"
    }
   ],
   "source": [
    "TP+FP+FN+TN"
   ]
  },
  {
   "cell_type": "markdown",
   "metadata": {},
   "source": [
    "##### 正答率 : TP or TN の割合"
   ]
  },
  {
   "cell_type": "code",
   "execution_count": 288,
   "metadata": {},
   "outputs": [
    {
     "name": "stdout",
     "output_type": "stream",
     "text": [
      "正答率：0.8722566122678672\n"
     ]
    }
   ],
   "source": [
    "print(\"正答率：{}\".format((TP + TN) / (TP + FP + FN + TN)))"
   ]
  },
  {
   "cell_type": "markdown",
   "metadata": {},
   "source": [
    "##### 正例に関する適合率（precision rate）\n",
    "\n",
    "肯定的と予測したレビューの中で、実際に肯定的だったものの割合"
   ]
  },
  {
   "cell_type": "code",
   "execution_count": 296,
   "metadata": {},
   "outputs": [],
   "source": [
    "precision_rate = TP / (TP + FP)"
   ]
  },
  {
   "cell_type": "code",
   "execution_count": 298,
   "metadata": {},
   "outputs": [
    {
     "name": "stdout",
     "output_type": "stream",
     "text": [
      "正例に関する適合率 : 0.8732367876622156\n"
     ]
    }
   ],
   "source": [
    "print(\"正例に関する適合率 : {}\".format(precision_rate))"
   ]
  },
  {
   "cell_type": "markdown",
   "metadata": {},
   "source": [
    "##### 正例に関する再現率 (recall rate)"
   ]
  },
  {
   "cell_type": "markdown",
   "metadata": {},
   "source": [
    "実際に肯定的なレビューの中で、肯定的と予測できたものの割合"
   ]
  },
  {
   "cell_type": "code",
   "execution_count": 293,
   "metadata": {},
   "outputs": [],
   "source": [
    "recall_rate = TP / (TP + FN)"
   ]
  },
  {
   "cell_type": "code",
   "execution_count": 295,
   "metadata": {},
   "outputs": [
    {
     "name": "stdout",
     "output_type": "stream",
     "text": [
      "正例に関する再現率 : 0.8709435377977865\n"
     ]
    }
   ],
   "source": [
    "print(\"正例に関する再現率 : {}\".format(recall_rate))"
   ]
  },
  {
   "cell_type": "markdown",
   "metadata": {},
   "source": [
    "##### 正例に関するF1スコア"
   ]
  },
  {
   "cell_type": "markdown",
   "metadata": {},
   "source": [
    "F1スコア（Fスコア、F値、F-尺度などとも呼ばれます）は適合率と再現率のバランスを定量化したもの"
   ]
  },
  {
   "cell_type": "code",
   "execution_count": 299,
   "metadata": {},
   "outputs": [],
   "source": [
    "F1  =  2 * precision_rate * recall_rate / (precision_rate + recall_rate)"
   ]
  },
  {
   "cell_type": "code",
   "execution_count": 300,
   "metadata": {},
   "outputs": [
    {
     "name": "stdout",
     "output_type": "stream",
     "text": [
      "F1 score : 0.8720886551465064\n"
     ]
    }
   ],
   "source": [
    "print(\"F1 score : {}\".format(F1))"
   ]
  },
  {
   "cell_type": "markdown",
   "metadata": {},
   "source": [
    "##### python の &はビット演算なので使っちゃダメ！ and orをつかうべき"
   ]
  },
  {
   "cell_type": "markdown",
   "metadata": {},
   "source": [
    "\n",
    "https://www.pythonweb.jp/tutorial/num/index4.html"
   ]
  },
  {
   "cell_type": "code",
   "execution_count": 271,
   "metadata": {},
   "outputs": [
    {
     "data": {
      "text/plain": [
       "True"
      ]
     },
     "execution_count": 271,
     "metadata": {},
     "output_type": "execute_result"
    }
   ],
   "source": [
    "True and True"
   ]
  },
  {
   "cell_type": "markdown",
   "metadata": {},
   "source": [
    "####  5分割交差検定\n",
    "76-77の実験では，学習に用いた事例を評価にも用いたため，正当な評価とは言えない．\n",
    "\n",
    "すなわち，分類器が訓練事例を丸暗記する際の性能を評価しており，モデルの汎化性能を測定していない．\n",
    "\n",
    "そこで，5分割交差検定により，極性分類の正解率，適合率，再現率，F1スコアを求めよ．"
   ]
  },
  {
   "cell_type": "markdown",
   "metadata": {},
   "source": [
    "- 「K-分割交差検定」は、データをK分割して、そのうちの1つを検証用、残りを学習用とする方法\n",
    "- これを検証用のデータを切り替えながらK回繰り返して平均"
   ]
  },
  {
   "cell_type": "code",
   "execution_count": 307,
   "metadata": {},
   "outputs": [],
   "source": [
    "from sklearn.model_selection import cross_validate , cross_val_score"
   ]
  },
  {
   "cell_type": "code",
   "execution_count": 316,
   "metadata": {},
   "outputs": [],
   "source": [
    "from sklearn.model_selection import KFold\n"
   ]
  },
  {
   "cell_type": "code",
   "execution_count": 322,
   "metadata": {},
   "outputs": [],
   "source": [
    "kf = KFold(n_splits = 5)"
   ]
  },
  {
   "cell_type": "code",
   "execution_count": 321,
   "metadata": {},
   "outputs": [
    {
     "data": {
      "text/plain": [
       "5"
      ]
     },
     "execution_count": 321,
     "metadata": {},
     "output_type": "execute_result"
    }
   ],
   "source": [
    "kf.get_n_splits(X = token_sum_matrix , y = y)"
   ]
  },
  {
   "cell_type": "code",
   "execution_count": 343,
   "metadata": {},
   "outputs": [],
   "source": [
    "coefs = np.empty(shape = [5,token_sum_matrix.shape[1]])"
   ]
  },
  {
   "cell_type": "code",
   "execution_count": 392,
   "metadata": {},
   "outputs": [],
   "source": [
    "coefs = list()"
   ]
  },
  {
   "cell_type": "code",
   "execution_count": 393,
   "metadata": {},
   "outputs": [],
   "source": [
    "for train_index , test_index in kf.split(X=token_sum_matrix , y = y):\n",
    "    lr.fit(X = token_sum_matrix[train_index] , y = y[train_index])\n",
    "    run_coefs =  [lr.intercept_[0]]\n",
    "    run_coefs.extend(lr.coef_.tolist()[0])\n",
    "    coefs.append(run_coefs)\n",
    "    #coefs.append(lr.coef_.tolist()[0])\n",
    "    #coefs[i] = lr.coef_\n"
   ]
  },
  {
   "cell_type": "code",
   "execution_count": 375,
   "metadata": {},
   "outputs": [
    {
     "data": {
      "text/plain": [
       "[-0.37711610106086674,\n",
       " 0.5297047016088937,\n",
       " -0.09479860525923638,\n",
       " -0.3489697188567435,\n",
       " -0.007989790384911193,\n",
       " -0.0519774530876831,\n",
       " -0.04524665856217659,\n",
       " -0.7047377149674512,\n",
       " 0.7793685295343149,\n",
       " -1.2090238170628802,\n",
       " -1.6162898489499007,\n",
       " -0.1297772283998882,\n",
       " -0.9155900841702906,\n",
       " 0.0,\n",
       " -0.37827567991678623,\n",
       " 0.15416294299074212,\n",
       " 0.0581039257415934,\n",
       " -0.2241173638326022,\n",
       " -1.289528097378563,\n",
       " -0.046338621230901066,\n",
       " -0.0905035660776834,\n",
       " 0.02245050330300431,\n",
       " 0.8679007699368997,\n",
       " 0.18938485342038905,\n",
       " 0.26441478736672885,\n",
       " 0.21754397304026757,\n",
       " 0.12202263614891029,\n",
       " -0.23841467690526413,\n",
       " -0.39759880623734273,\n",
       " 0.03304751710927885,\n",
       " -0.2689380058222746,\n",
       " 0.392961094313234,\n",
       " 0.09983069941232808,\n",
       " 0.08700561767926977,\n",
       " -0.6007432479022705,\n",
       " 0.42096230765205533,\n",
       " 0.25809912610413466,\n",
       " 0.1787948501662123,\n",
       " 0.5376251106811913,\n",
       " 0.035334336660525476,\n",
       " -0.25158123980842634,\n",
       " -0.9359234445566432,\n",
       " 0.7597291685898395,\n",
       " -0.010932777829600797,\n",
       " -0.23989539223871625,\n",
       " 0.39786554721765854,\n",
       " -0.10832474394781044,\n",
       " -0.49249027007872764,\n",
       " 0.6400118783556681,\n",
       " 0.12486088648890152,\n",
       " 0.3255266891135895,\n",
       " 0.5324808327574155,\n",
       " -0.48984564135183656,\n",
       " -0.33680997051486333,\n",
       " -0.28562482206899564,\n",
       " -0.2956093662567895,\n",
       " 0.5581254795093987,\n",
       " 0.006536084794812475,\n",
       " 0.03261058896672914,\n",
       " 0.2060218195423007,\n",
       " 1.2766160400036244,\n",
       " 0.7080857829220647,\n",
       " -0.5086636331781723,\n",
       " 1.0562552607982827,\n",
       " -0.5390369011931969,\n",
       " -0.3417295824298354,\n",
       " -0.7321180858589558,\n",
       " -1.4233827673876822,\n",
       " 0.4495392459390248,\n",
       " 0.3968086535300705,\n",
       " 0.761480802045569,\n",
       " -0.17996847914884456,\n",
       " -0.3166213846113387,\n",
       " -0.48353595035501046,\n",
       " 0.4306414204762711,\n",
       " 0.11181979989113495,\n",
       " 0.4892489623587824,\n",
       " -0.45627629621514215,\n",
       " 0.20657610564074072,\n",
       " 0.4452149887191956,\n",
       " -0.31981806755928993,\n",
       " -0.6772488189293988,\n",
       " -1.0000948208128502,\n",
       " -0.010366266829098053,\n",
       " 0.7361440660397263,\n",
       " 0.675757236799754,\n",
       " -0.7054692702588315,\n",
       " -0.827928795232803,\n",
       " 0.6044315438799592,\n",
       " 0.9237473176470152,\n",
       " 0.6082160128924055,\n",
       " 0.5096084710315958,\n",
       " -0.007404000398155964,\n",
       " 0.40820517042773946,\n",
       " 0.16516204225249292,\n",
       " 0.17599579405568144,\n",
       " -0.4587017470113808,\n",
       " 1.0227606993962055,\n",
       " 0.5456891768005956,\n",
       " 0.37833270172557476,\n",
       " 1.9539440040410092,\n",
       " -0.7034197488937187,\n",
       " -0.3578180546878254,\n",
       " 0.5672275741842249,\n",
       " 0.9080725030736916,\n",
       " 0.7404682924331611,\n",
       " -0.7549161327034051,\n",
       " 0.0,\n",
       " -0.0290250031427867,\n",
       " -0.44478408972518746,\n",
       " -0.16425496949215834,\n",
       " 0.5245843946981245,\n",
       " 0.6203594997034572,\n",
       " 0.7671448078604938,\n",
       " 0.09646201104864792,\n",
       " -0.05676371349236419,\n",
       " 1.3850035965056788,\n",
       " -0.8380955858535672,\n",
       " -1.3300591628243705,\n",
       " 0.4194312803656139,\n",
       " -0.12833897675146544,\n",
       " 0.6438710159460721,\n",
       " -0.3091264200615702,\n",
       " -0.187304578515401,\n",
       " -1.7669591197531325,\n",
       " 0.23028392679643442,\n",
       " 0.04824865082091941,\n",
       " -0.023152338296233997,\n",
       " 0.4311053147975236,\n",
       " 0.09395528139968988,\n",
       " -0.14882347907140817,\n",
       " 0.46243668665774956,\n",
       " 0.07481543198458916,\n",
       " 0.7822275218585752,\n",
       " 0.4717036937421566,\n",
       " 0.2990066530880251,\n",
       " 0.3063433596922745,\n",
       " -1.0856787839072342,\n",
       " 0.08949579363318425,\n",
       " -0.4019944865730352,\n",
       " -0.039102643682186175,\n",
       " -0.3293709186118692,\n",
       " -0.09076886241108655,\n",
       " -0.4674088871760562,\n",
       " -0.32254212109773855,\n",
       " -0.45604659731519964,\n",
       " -0.05438379223810361,\n",
       " 0.5786335221023498,\n",
       " 0.06333671336975896,\n",
       " 0.24537781958108523,\n",
       " 0.18162618091129654,\n",
       " -0.35288135256224273,\n",
       " 0.07081829727911351,\n",
       " -0.15916041702405323,\n",
       " -1.502361064333373,\n",
       " -0.40925693806014163,\n",
       " -0.035872538081686535,\n",
       " 0.46083379213068354,\n",
       " -0.6126426463045537,\n",
       " 0.4940489381738476,\n",
       " -0.5040323005129934,\n",
       " 0.0,\n",
       " -0.7524292447022841,\n",
       " 0.6265749341097692,\n",
       " -1.0332929097832344,\n",
       " 0.627282989542092,\n",
       " 0.41189260031244534,\n",
       " -0.606697754469037,\n",
       " 0.879146384533851,\n",
       " 0.6199574907728859,\n",
       " 0.3444712717518871,\n",
       " 0.11929636799675024,\n",
       " 0.7543097872907886,\n",
       " 0.7009860134663222,\n",
       " 0.0882886199870334,\n",
       " -0.27631443549420387,\n",
       " 0.37818135751324594,\n",
       " -0.3050457831087387,\n",
       " 0.15960287628216768,\n",
       " 0.8689177544277734,\n",
       " -0.42263629891305265,\n",
       " -0.10353018956437998,\n",
       " -0.05724410441417542,\n",
       " -0.7481957358930226,\n",
       " -0.08309539870721194,\n",
       " 0.8969261419424694,\n",
       " -0.9318016917701119,\n",
       " -0.01162655966663921,\n",
       " 0.7955331559892119,\n",
       " -0.47992525881792564,\n",
       " -0.20453674825782545,\n",
       " 0.042425928619384365,\n",
       " -0.40088798012229654,\n",
       " 0.302215399078651,\n",
       " 0.10293942081020367,\n",
       " 0.5526523143629672,\n",
       " 0.5825409053991606,\n",
       " -0.8214878329907708,\n",
       " -0.47366962892280684,\n",
       " -1.444095974882492,\n",
       " 0.3574174192080227,\n",
       " 0.46348806702190304,\n",
       " -0.6137166195608019,\n",
       " 0.29259095145706626,\n",
       " -0.38963477654553286,\n",
       " 0.2867564085061347,\n",
       " 0.27392644212124134,\n",
       " -1.3327969662940393,\n",
       " -0.9795945162485239,\n",
       " -0.7155819900235644,\n",
       " 0.2237165831210878,\n",
       " 0.19358865236101658,\n",
       " 0.34276042929913836,\n",
       " 0.15889103627702023,\n",
       " 0.23168188551980942,\n",
       " -1.2414729014538688,\n",
       " 0.8776576361142814,\n",
       " -0.11293666041089345,\n",
       " -0.3206806957664475,\n",
       " -0.7715415590292914,\n",
       " 0.0,\n",
       " -0.6549812114755931,\n",
       " -0.8007117793976288,\n",
       " -0.22125378518521752,\n",
       " -0.1704971440783144,\n",
       " 0.4506082875924645,\n",
       " 0.5763557695143275,\n",
       " 0.36994202344557553,\n",
       " -0.2448952435456569,\n",
       " 0.6573067211959472,\n",
       " -0.8060621989380506,\n",
       " 0.09001128545983855,\n",
       " 0.06069763240500025,\n",
       " -0.28682612348385295,\n",
       " -0.1435804595625092,\n",
       " 0.4398124240090131,\n",
       " -0.04622505195635567,\n",
       " 0.01618216371903557,\n",
       " 0.540558666510613,\n",
       " -1.136043969429022,\n",
       " -0.8245174239594034,\n",
       " 0.005661855210192835,\n",
       " -0.8479069565640779,\n",
       " -0.5718810289596229,\n",
       " -0.13465803982053942,\n",
       " 0.9533226180182942,\n",
       " -0.8928104489001082,\n",
       " -0.4586115603467003,\n",
       " 0.3351289024027622,\n",
       " 0.48810020641256985,\n",
       " 0.5724159961780461,\n",
       " -0.0009274331401568904,\n",
       " 0.850811920392623,\n",
       " -0.7712223828399817,\n",
       " 0.3060475366507139,\n",
       " 0.04072777817618161,\n",
       " -0.6004916952631465,\n",
       " -0.07418529624269807,\n",
       " -0.44381584136377605,\n",
       " 0.0520081786947286,\n",
       " 0.2135943762279959,\n",
       " -1.299297719100499,\n",
       " -0.14601809792582948,\n",
       " 0.6044623809854579,\n",
       " -0.8049016557816856,\n",
       " -0.18565933107069604,\n",
       " -0.42258375234120404,\n",
       " -0.9574115279003146,\n",
       " 0.9318565045404713,\n",
       " -0.007050274304956227,\n",
       " -0.23303853975171993,\n",
       " 0.7138945389380107,\n",
       " -0.46464807956808746,\n",
       " -0.2031841062920496,\n",
       " 0.09765112361604167,\n",
       " -1.389406577939009,\n",
       " 0.74156612207761,\n",
       " -0.06333487933503956,\n",
       " -0.3371080482161142,\n",
       " -0.19985984252998756,\n",
       " 0.3095006811226531,\n",
       " 0.2284949475461867,\n",
       " 0.3328233741241175,\n",
       " -0.5339453870251987,\n",
       " -0.4705107772379218,\n",
       " -0.5396326628534694,\n",
       " 0.14848145074030766,\n",
       " -0.13886813983108356,\n",
       " 0.4769915487269102,\n",
       " 0.7894205978493306,\n",
       " 0.703295111483896,\n",
       " 0.05272243412282577,\n",
       " 0.4287182106375384,\n",
       " -0.6984196177707315,\n",
       " -0.11844985997427745,\n",
       " 0.7201715406605738,\n",
       " 0.2966944408622419,\n",
       " -0.35402857927108783,\n",
       " 1.7650135735744605,\n",
       " -0.47886324158818666,\n",
       " -0.25313801205846637,\n",
       " 0.09822666555076971,\n",
       " -0.9171689745106885,\n",
       " -0.18243428750179508,\n",
       " 0.3353787552477748,\n",
       " 0.887015238314258,\n",
       " 0.6738470382602223,\n",
       " 0.1171218359652879,\n",
       " -0.3359790923219235,\n",
       " -1.1230086493835187,\n",
       " 1.361557920767356,\n",
       " 0.3223248011287851,\n",
       " -0.6521594867138499,\n",
       " -0.37807840532237674,\n",
       " 0.4913506634743702,\n",
       " 0.16529872628862566,\n",
       " 0.5857447246060805,\n",
       " 0.13019498415867867,\n",
       " -0.7555398324494266,\n",
       " -0.8077000056279896,\n",
       " 0.07521745419406585,\n",
       " 0.4153255676151257,\n",
       " -0.08315083002522324,\n",
       " 0.008134965938023472,\n",
       " -0.21626614013329154,\n",
       " -0.12553403463724755,\n",
       " -1.025215154316624,\n",
       " 1.008075628030834,\n",
       " -1.8982029511739222,\n",
       " -0.674847348848166,\n",
       " -0.511288626997389,\n",
       " -0.4413172916396825,\n",
       " -0.8600807820900506,\n",
       " 0.7999111439402729,\n",
       " -0.6888944148906,\n",
       " -0.7177657026561498,\n",
       " -0.6161045244158754,\n",
       " -0.02217295152019645,\n",
       " -0.5013678409943982,\n",
       " 1.0144051808958474,\n",
       " -0.33991769727069615,\n",
       " -1.7122695775865064,\n",
       " 0.21068281116030627,\n",
       " 0.6996709940906533,\n",
       " -0.0895564420321578,\n",
       " -0.4662913937239704,\n",
       " 0.2778267915198472,\n",
       " 0.8997475340764083,\n",
       " -0.3241289150781067,\n",
       " 0.5615239845004018,\n",
       " -0.20185392912417155,\n",
       " -0.13382143223495652,\n",
       " 0.47471875351650467,\n",
       " 0.35275675122680605,\n",
       " 0.0,\n",
       " 0.1550953059528825,\n",
       " 0.20265231267991657,\n",
       " -0.4289594114950596,\n",
       " 0.38871352341248144,\n",
       " 0.8847130420062265,\n",
       " -0.1548911981030722,\n",
       " 0.2970314350398167,\n",
       " -0.41968964651231566,\n",
       " 0.6418116111806152,\n",
       " 0.49374220288390935,\n",
       " 0.09531772401607666,\n",
       " 0.5363906001566987,\n",
       " 0.06109548963257882,\n",
       " 0.9132816295843058,\n",
       " 0.7195890720123628,\n",
       " 0.9747251077565009,\n",
       " -0.15714320193469733,\n",
       " 0.5522079501461079,\n",
       " 0.7723551049824333,\n",
       " 0.16902742062054654,\n",
       " -0.23412080494419266,\n",
       " 0.059469814391308246,\n",
       " -0.5889610341910585,\n",
       " 0.32274800445668056,\n",
       " 0.44793121872399555,\n",
       " 0.07821783785418637,\n",
       " 0.556332584416847,\n",
       " 0.33716274889637127,\n",
       " 0.0,\n",
       " 0.42132552382843214,\n",
       " -0.2554342269913915,\n",
       " 0.49423743873832976,\n",
       " 0.2037329726007699,\n",
       " -0.3496141427561108,\n",
       " 0.15442256615120403,\n",
       " -0.1470548883009689,\n",
       " 1.1189571525323785,\n",
       " 0.06589813943883495,\n",
       " -0.36454796184894706,\n",
       " 0.7557737354304402,\n",
       " 0.6321150254643357,\n",
       " 0.8182331180025356,\n",
       " 0.8240210296264114,\n",
       " -1.372756746942874,\n",
       " 0.6518448774234012,\n",
       " -0.8135211377758769,\n",
       " -1.1050171605293515,\n",
       " 0.28880114502941145,\n",
       " 0.04789791032810482,\n",
       " 0.4586446317984878,\n",
       " -0.044239551826379606,\n",
       " -0.6926335629265395,\n",
       " 0.02055665902686497,\n",
       " 0.3026267234525268,\n",
       " -0.5855999435802963,\n",
       " 0.4530225346219013,\n",
       " -0.4675591421537594,\n",
       " 0.5552550446793161,\n",
       " 0.9021087970495598,\n",
       " -0.39550888773860615,\n",
       " 0.0915630531372125,\n",
       " 0.21787475257237876,\n",
       " 1.247909798461065,\n",
       " -0.14700124031443726,\n",
       " -0.17071766804455973,\n",
       " -0.15757114177024184,\n",
       " -0.5117813104667569,\n",
       " 0.34394912874834904,\n",
       " -0.040072660254523114,\n",
       " 0.5024617226525002,\n",
       " 0.49800533508755573,\n",
       " 0.8329129950344477,\n",
       " 0.6284899418929408,\n",
       " 0.9907388142748428,\n",
       " -0.2607370144885241,\n",
       " 0.730380161819952,\n",
       " -0.8536027073241751,\n",
       " 1.0040611719056751,\n",
       " -0.3867321991205164,\n",
       " 0.1355880342153627,\n",
       " -0.18793613663839803,\n",
       " 0.0,\n",
       " -0.3922874657014753,\n",
       " 0.402051557823547,\n",
       " -0.3626994137417745,\n",
       " -0.5748351351808267,\n",
       " 0.5861632259925118,\n",
       " 0.09237610825030469,\n",
       " -0.2588920359027628,\n",
       " -0.8581719594649675,\n",
       " 0.8894845788004299,\n",
       " -0.27324099235609445,\n",
       " -1.459514035135405,\n",
       " -1.7155892344237795,\n",
       " 0.2259030645970167,\n",
       " 0.5778068513718753,\n",
       " 1.1222098417200144,\n",
       " -0.09892061034532841,\n",
       " -0.6103997430158963,\n",
       " 0.0770309115325995,\n",
       " 0.5303992563295677,\n",
       " 0.020331753599944838,\n",
       " -0.541879916047008,\n",
       " -0.6492990737150135,\n",
       " -0.6096873209907802,\n",
       " -0.04827057660161829,\n",
       " -0.35041786750935194,\n",
       " 0.9707231160397176,\n",
       " -0.2924453151391958,\n",
       " -0.3583833835945406,\n",
       " -0.17340303170795152,\n",
       " 0.80333243375661,\n",
       " 0.4532909296866118,\n",
       " -0.10666693101715018,\n",
       " -0.30047653348492714,\n",
       " -0.21805077881696458,\n",
       " -0.07635169154264038,\n",
       " -0.6339710729634437,\n",
       " 0.40010037867608844,\n",
       " -0.2850847742950982,\n",
       " -0.04115084670969306,\n",
       " 0.48778596698088694,\n",
       " -0.3891950335381476,\n",
       " -0.1444058669918272,\n",
       " 0.0,\n",
       " 1.0522035402299785,\n",
       " -1.0368280308923505,\n",
       " -0.5590721554529072,\n",
       " 0.0,\n",
       " -0.4295328559517994,\n",
       " 0.8114798888710985,\n",
       " 0.10410927208304865,\n",
       " -0.6740487037499774,\n",
       " -0.8799898116240679,\n",
       " 0.8798872037693553,\n",
       " -0.1813172921779328,\n",
       " 0.6300827372352186,\n",
       " 0.14288702820092664,\n",
       " -0.008594689241932466,\n",
       " 0.19924283399282428,\n",
       " -1.0735121143177417,\n",
       " 1.236419318664666,\n",
       " -0.7877214196152279,\n",
       " 0.03782769360831013,\n",
       " -0.49271865138314086,\n",
       " 0.8453424858616178,\n",
       " -0.08927032079835256,\n",
       " -0.3327864205068883,\n",
       " -0.4965213639076529,\n",
       " 0.20816498762367913,\n",
       " 0.7493326242169276,\n",
       " 0.3297658945888779,\n",
       " -0.004843567191329869,\n",
       " 0.29795214557840605,\n",
       " -0.6188521013252938,\n",
       " -0.4579230788606107,\n",
       " 0.0,\n",
       " 0.26975228253167827,\n",
       " -0.584394566246585,\n",
       " 1.4017028357926893,\n",
       " 0.8820888059358564,\n",
       " -0.5875762399551483,\n",
       " -0.6678933190221489,\n",
       " 0.8747584436099827,\n",
       " -0.8205112404410929,\n",
       " -1.3024222189609298,\n",
       " 0.28324488459805286,\n",
       " 0.1595450460546138,\n",
       " 0.8473047473498184,\n",
       " -0.5994149664547967,\n",
       " -0.19102316586084453,\n",
       " -0.43178587524005996,\n",
       " 0.10860093260767036,\n",
       " 0.7113249002109261,\n",
       " -0.27095456965190295,\n",
       " -0.5633077763187052,\n",
       " 0.14261156455260976,\n",
       " 0.43976572994806856,\n",
       " 0.3751812861889002,\n",
       " 0.4249109157594557,\n",
       " 0.622079418179483,\n",
       " -0.25932056282513566,\n",
       " 0.5199049031900346,\n",
       " -0.20978513193112241,\n",
       " 0.14685210002441376,\n",
       " 0.3927201409650595,\n",
       " -0.8075688237424026,\n",
       " 0.06678864395428061,\n",
       " 0.7282319336963903,\n",
       " -0.7141265470357405,\n",
       " -0.46587643745985785,\n",
       " 0.4253773708307145,\n",
       " 0.0,\n",
       " 0.7346964138051247,\n",
       " -0.3471903883465376,\n",
       " 0.017354468625943746,\n",
       " -0.09115003717879878,\n",
       " 0.4600340521707665,\n",
       " -0.6423961602531543,\n",
       " 0.10749336491147193,\n",
       " 0.5864812162533353,\n",
       " -0.03590306178572414,\n",
       " 0.11372880843059446,\n",
       " -0.6634455111838816,\n",
       " 1.2420767289128682,\n",
       " 0.19998384723805493,\n",
       " -0.35273130315065226,\n",
       " 0.44471377188410055,\n",
       " 0.0,\n",
       " 0.5849787304306083,\n",
       " -0.05841783330568448,\n",
       " 0.817154990133864,\n",
       " -0.8105501495306773,\n",
       " 0.23401958339909407,\n",
       " 0.9065571436421124,\n",
       " -0.20991725918310347,\n",
       " -0.5714346834573155,\n",
       " 0.4325199063143747,\n",
       " -0.040457474742750174,\n",
       " 0.10065794994785357,\n",
       " 0.05758657038131289,\n",
       " 0.2606716634948017,\n",
       " -0.1246539966024397,\n",
       " 0.8771472763932061,\n",
       " -0.18884691302319054,\n",
       " -0.5122079585261601,\n",
       " -0.2977466353489078,\n",
       " 0.6673117000370695,\n",
       " -0.2262317462589523,\n",
       " -0.4179593666747282,\n",
       " -0.14700629579100288,\n",
       " 0.08183698646239947,\n",
       " -0.1914572284989972,\n",
       " -1.103750073944274,\n",
       " 0.21632313501737493,\n",
       " -0.08785437034067681,\n",
       " 0.0,\n",
       " 0.8081106853333541,\n",
       " 0.024665832209888043,\n",
       " 0.11102640247184575,\n",
       " -0.6489561393100952,\n",
       " 0.2767004402648311,\n",
       " -0.19822154369518197,\n",
       " 0.8252757747306014,\n",
       " 0.02762675062200126,\n",
       " -0.06713913130296911,\n",
       " -0.5171861807384271,\n",
       " 0.09083481482594262,\n",
       " 1.0845490456807279,\n",
       " 0.9328270214681267,\n",
       " -0.5625911467198113,\n",
       " -0.598778672921463,\n",
       " 0.6728128239794345,\n",
       " 0.9381130754414767,\n",
       " 1.001702246271681,\n",
       " 0.20084133356435452,\n",
       " -0.23554268993304994,\n",
       " -0.46597528406150035,\n",
       " 0.8223989568973714,\n",
       " 1.134952588338386,\n",
       " 0.40993047124819537,\n",
       " 0.20945111659244647,\n",
       " -1.182375343161785,\n",
       " -0.21015158573667542,\n",
       " 1.0534288540906438,\n",
       " -1.0671517254492453,\n",
       " -0.8106081319370816,\n",
       " -1.0197522444565237,\n",
       " 0.43905685964511,\n",
       " 0.27775492670064134,\n",
       " 0.7044219334686936,\n",
       " 0.0,\n",
       " -0.0023921961640024376,\n",
       " 0.592968047126899,\n",
       " -0.010913553193438535,\n",
       " 0.0,\n",
       " -0.20433076312149712,\n",
       " -0.7556176714254975,\n",
       " 0.06799033540761189,\n",
       " -0.009738741652897226,\n",
       " 1.0076464063376425,\n",
       " 0.7977981238017822,\n",
       " -0.8763505365870045,\n",
       " -0.1313847376278985,\n",
       " -0.7561821700918989,\n",
       " -1.0222423961239935,\n",
       " 0.5738080699433219,\n",
       " -0.5835180427322602,\n",
       " 0.2665617870700995,\n",
       " 0.6101418131224923,\n",
       " 0.4275043123266447,\n",
       " 0.0,\n",
       " -0.35223806946440983,\n",
       " 0.015085350271714986,\n",
       " -0.6211937950489321,\n",
       " -0.21503781216000392,\n",
       " -0.12898922541047028,\n",
       " 0.25866987303165456,\n",
       " -0.7766428838103702,\n",
       " 0.34165856501397157,\n",
       " 0.3430208218219255,\n",
       " -0.46714014683042976,\n",
       " 0.0,\n",
       " 0.43462409223032145,\n",
       " 0.1477052668838858,\n",
       " -0.30876826719109707,\n",
       " 0.032730548427190184,\n",
       " 0.1658553538224917,\n",
       " 0.10768260704811868,\n",
       " -0.5829844291020321,\n",
       " -0.03551657827329059,\n",
       " -1.1088310697808057,\n",
       " -0.028623663318700844,\n",
       " -0.4267519187092901,\n",
       " -0.8081134457100952,\n",
       " -0.24886867593600737,\n",
       " 0.16067722526907846,\n",
       " -0.09801669929486166,\n",
       " -0.5103534054312856,\n",
       " -1.032521111009258,\n",
       " 0.1222381131520806,\n",
       " 0.0801581837310064,\n",
       " 1.105746265874379,\n",
       " 0.867131177899562,\n",
       " 0.22333247791730437,\n",
       " -0.5093391875566162,\n",
       " -0.29061398116321485,\n",
       " 1.041357666021159,\n",
       " 0.5559457581930514,\n",
       " -0.5376928779564525,\n",
       " 0.0,\n",
       " -0.16032398002593434,\n",
       " 1.0288714504108243,\n",
       " -0.020602230323325536,\n",
       " 0.6401598881031646,\n",
       " 0.21635022145005967,\n",
       " 0.5135501562186097,\n",
       " 0.8213788870244464,\n",
       " -0.5187616347144958,\n",
       " 0.38838185644965806,\n",
       " 0.27985920290963295,\n",
       " 0.13422789342955446,\n",
       " -0.41040372116019586,\n",
       " -0.4138444876459127,\n",
       " -0.5624774089003484,\n",
       " 0.5082896252496887,\n",
       " 0.2713577111803562,\n",
       " 1.0355364967497538,\n",
       " 0.23311879890120452,\n",
       " -0.42245235954663857,\n",
       " 0.4302368115054199,\n",
       " 1.1656655388789916,\n",
       " 0.7078405139322214,\n",
       " 0.13437854172999436,\n",
       " -1.2035988689741206,\n",
       " 0.489140411708285,\n",
       " -0.3161161956649347,\n",
       " 0.8248292981681167,\n",
       " 0.3997590619234406,\n",
       " -0.9827729169345303,\n",
       " -0.30746234787330734,\n",
       " 1.0044996670840591,\n",
       " 0.2353914688918797,\n",
       " -0.45430445857730745,\n",
       " 0.005297430289586132,\n",
       " -1.4864941413415633,\n",
       " -0.789835284983888,\n",
       " 0.8008335809699294,\n",
       " -0.8744268693380397,\n",
       " 0.0,\n",
       " -0.4781157816534575,\n",
       " 0.2629073204230927,\n",
       " -0.463503362096925,\n",
       " 0.11453705585058091,\n",
       " 0.0676704031504697,\n",
       " 0.1338640124496773,\n",
       " -0.9803103950380668,\n",
       " 0.5455178718489633,\n",
       " -0.33717614799761497,\n",
       " 0.33651490387986593,\n",
       " 0.6097280054314416,\n",
       " 1.4363405260198023,\n",
       " 0.19635645554477119,\n",
       " -0.28918801875275835,\n",
       " 0.33453375818838815,\n",
       " -0.17887813334075608,\n",
       " -0.7909178254787131,\n",
       " -0.3614085942725674,\n",
       " 0.483327796024853,\n",
       " -0.8469810060201001,\n",
       " 0.22059778013085066,\n",
       " 0.15511004008156554,\n",
       " 0.45700320397980476,\n",
       " -0.6755391134932176,\n",
       " -0.11362717321888968,\n",
       " -0.5744772532748162,\n",
       " -0.3448672975700729,\n",
       " 0.0,\n",
       " 0.39933791845821726,\n",
       " -0.37977140199796533,\n",
       " -0.30906346891430053,\n",
       " 0.4720542625847382,\n",
       " -0.4078548331200749,\n",
       " 0.050502158370436666,\n",
       " -0.5197071945287203,\n",
       " 0.23495945035836485,\n",
       " 0.9229155038905696,\n",
       " 0.47454342322572723,\n",
       " 0.0,\n",
       " 0.10258211289403422,\n",
       " -0.5548940589799697,\n",
       " 0.5041265282698515,\n",
       " -0.2723114425022945,\n",
       " -0.4805656407671981,\n",
       " 1.0486147193474271,\n",
       " 0.5647576527556284,\n",
       " 0.4281686840546319,\n",
       " -0.5595986353491104,\n",
       " 1.2986759984293388,\n",
       " 0.794357174894975,\n",
       " -0.24153070739622096,\n",
       " 0.19043183508237335,\n",
       " -1.3767506113908594,\n",
       " 0.9217335460730778,\n",
       " 1.2111266770351599,\n",
       " -0.2221418142231144,\n",
       " 0.6279986276888855,\n",
       " -0.4289489692069099,\n",
       " -0.6061630941512878,\n",
       " 0.7568598415441582,\n",
       " -1.1049815941711219,\n",
       " -0.2538887181984145,\n",
       " 0.40821405423202634,\n",
       " 0.4069365122589236,\n",
       " 0.0,\n",
       " -0.7581878971472853,\n",
       " 0.3897256227751044,\n",
       " -0.3671379144439386,\n",
       " -0.3231612966700115,\n",
       " 0.13819688203503847,\n",
       " -0.7736118871787926,\n",
       " -0.11666308046607743,\n",
       " 0.9419549575071524,\n",
       " 0.33206532370588127,\n",
       " 1.2760701958271867,\n",
       " 0.3227328362031391,\n",
       " -0.044309766703765976,\n",
       " 0.14430151236631644,\n",
       " 0.42156088274133935,\n",
       " -0.22203050764576646,\n",
       " -0.4816144291358697,\n",
       " 0.6461081912582267,\n",
       " -0.8990707535683434,\n",
       " -0.21259366263676036,\n",
       " -0.27302445538066544,\n",
       " 0.35054769477347003,\n",
       " -0.5128123133059441,\n",
       " 0.3405864417262556,\n",
       " -0.1381036621690742,\n",
       " 0.8029665049500515,\n",
       " 0.09393858900811398,\n",
       " 0.1947597397909172,\n",
       " 0.001898371928743953,\n",
       " -0.848190664064824,\n",
       " -0.4472473462680554,\n",
       " -0.04185343932081027,\n",
       " 0.5838005008073726,\n",
       " -0.16913563036122053,\n",
       " 0.34801037262565826,\n",
       " -0.8500800026433417,\n",
       " -0.595639625898746,\n",
       " 0.9558173759537353,\n",
       " 1.0784877700653783,\n",
       " -0.8533246928436597,\n",
       " -0.2133131960372357,\n",
       " 0.6124954527960279,\n",
       " -0.6548667109362061,\n",
       " 0.24506207642165748,\n",
       " -1.2059917874214803,\n",
       " 0.6746973199818745,\n",
       " -0.09111542358089218,\n",
       " -0.25809523633461956,\n",
       " -0.5036387446317881,\n",
       " 0.052842765933287225,\n",
       " -0.6740618099374315,\n",
       " -0.5502051916643521,\n",
       " -0.35060901458446414,\n",
       " -0.7801489994509463,\n",
       " -0.43177597319118477,\n",
       " 0.0,\n",
       " -0.3820709219217124,\n",
       " -0.9637275450063955,\n",
       " 0.24847067632372688,\n",
       " 0.6201379767936112,\n",
       " -0.1343706903608043,\n",
       " 1.1243736268044633,\n",
       " -0.9235832603828333,\n",
       " 1.290035315822404,\n",
       " -0.821058950491156,\n",
       " 1.3161457275726591,\n",
       " 0.4686500585958539,\n",
       " -0.3747914341956027,\n",
       " -0.9176119594653583,\n",
       " -0.352845982468526,\n",
       " 0.7124921441638874,\n",
       " 1.260380558917809,\n",
       " 0.720050375177428,\n",
       " -0.5899609841516432,\n",
       " 0.2354973351571237,\n",
       " 0.5425442153796552,\n",
       " -0.4063338842464615,\n",
       " -0.4104157476917722,\n",
       " -1.1290230874301308,\n",
       " 0.29149444040149836,\n",
       " -0.21180020544213063,\n",
       " 0.49800621668058476,\n",
       " 0.04688680818221699,\n",
       " -0.18441286358598444,\n",
       " 0.6917659354509903,\n",
       " 0.20916646483439671,\n",
       " 0.06901858015413659,\n",
       " -0.04851924359339176,\n",
       " -0.00453004298169787,\n",
       " 0.4754532710607063,\n",
       " -0.054219860629868326,\n",
       " 0.0,\n",
       " 0.7026861612347752,\n",
       " -0.04946993756280359,\n",
       " -0.5558431391291451,\n",
       " 0.7977578878647145,\n",
       " -0.8052732090920645,\n",
       " 0.3804824262378505,\n",
       " -0.07181786733356704,\n",
       " 0.993326098365944,\n",
       " -0.8044206782748188,\n",
       " -0.11009689245663898,\n",
       " 0.10147667601754132,\n",
       " -0.11626090628020967,\n",
       " -0.4023452429449705,\n",
       " 0.12695802183989074,\n",
       " -0.010345699412741867,\n",
       " -0.15193395223309963,\n",
       " -0.07110861999714749,\n",
       " -0.40773107583548945,\n",
       " -1.0984819866221187,\n",
       " -0.2974078517288737,\n",
       " 0.4418249214170386,\n",
       " 0.6866286472264471,\n",
       " 0.5111013480212356,\n",
       " 0.7146285770499049,\n",
       " 0.0,\n",
       " -1.4087791744995446,\n",
       " -0.11815782219639973,\n",
       " 0.0627463771669341,\n",
       " -0.31491149510727473,\n",
       " 0.15151433983206072,\n",
       " -0.17292286776447685,\n",
       " -0.1407717790067455,\n",
       " -0.8045500135079557,\n",
       " 0.05868489226950096,\n",
       " 0.37676652853629594,\n",
       " -0.019412943303913327,\n",
       " 0.07704529716907403,\n",
       " -0.6553910303722499,\n",
       " -0.7253254508654992,\n",
       " 0.05183113556747856,\n",
       " 0.0712929730873084,\n",
       " 0.3252816206622038,\n",
       " 0.14453008166436537,\n",
       " -0.5577577102599932,\n",
       " -0.2157292534519011,\n",
       " 0.06660771474599753,\n",
       " -0.25731944147896546,\n",
       " 0.19872355630716726,\n",
       " 0.23299162762013562,\n",
       " 0.7080058204668109,\n",
       " -0.8649759781055633,\n",
       " 0.0,\n",
       " 0.06170498124445401,\n",
       " -0.3813854259651499,\n",
       " 0.27857768954189377,\n",
       " -0.030954642449977927,\n",
       " -0.5611930917624662,\n",
       " -0.5288788481560368,\n",
       " -0.28649717825319954,\n",
       " -0.20545473444492826,\n",
       " 0.1881453733417307,\n",
       " 0.5007884026652318,\n",
       " -0.24200239766080342,\n",
       " -1.4071956877324974,\n",
       " -0.332878941702554,\n",
       " -0.20482095366715156,\n",
       " -0.17246004980486687,\n",
       " 0.1536738189526111,\n",
       " 0.20856215702514647,\n",
       " -0.18728116988938004,\n",
       " 0.5823031078019181,\n",
       " 0.9476761837561891,\n",
       " -0.11527775087693476,\n",
       " -0.30480450747456617,\n",
       " 0.1200718103778702,\n",
       " -0.000418370626668336,\n",
       " -0.7380751339272005,\n",
       " -0.12743216675627783,\n",
       " 0.3562768251515547,\n",
       " -0.2775546360386846,\n",
       " -1.1362266585250043,\n",
       " 0.29035733054790563,\n",
       " -0.21156053389283447,\n",
       " 0.19011388372884808,\n",
       " 0.5434234393365076,\n",
       " 0.2477847763029633,\n",
       " 1.0676510447249457,\n",
       " -1.1768122642034486,\n",
       " -0.12041164964076598,\n",
       " -0.1925221201280325,\n",
       " -0.2789811478406005,\n",
       " 0.606909129121499,\n",
       " 0.8114262578861505,\n",
       " 0.501397188614834,\n",
       " 0.6619237716870795,\n",
       " -1.1419453432223161,\n",
       " -0.41540568860932847,\n",
       " -0.9649186608863315,\n",
       " 0.19736371979346914,\n",
       " -1.783538779158351,\n",
       " -0.7493617772697312,\n",
       " 0.13352306838709202,\n",
       " -0.5487744231951157,\n",
       " -0.28939256931211155,\n",
       " 0.448947530864465,\n",
       " -0.24280328352471495,\n",
       " -0.29981391648492833,\n",
       " -0.1437762220693819,\n",
       " -0.1307807620834622,\n",
       " 0.39522100982116043,\n",
       " -0.029335276567517006,\n",
       " 0.7019360566242296,\n",
       " -0.21961424291778148,\n",
       " -0.09117317421928574,\n",
       " -0.04709694013601041,\n",
       " -0.6072279489779692,\n",
       " -0.056664522461914495,\n",
       " -0.45234065092377984,\n",
       " 0.27072237011936445,\n",
       " ...]"
      ]
     },
     "execution_count": 375,
     "metadata": {},
     "output_type": "execute_result"
    }
   ],
   "source": [
    "lr.coef_.tolist()[0]"
   ]
  },
  {
   "cell_type": "code",
   "execution_count": 395,
   "metadata": {},
   "outputs": [],
   "source": [
    "coefs = np.array(coefs)"
   ]
  },
  {
   "cell_type": "code",
   "execution_count": 396,
   "metadata": {},
   "outputs": [
    {
     "data": {
      "text/plain": [
       "(5, 3440)"
      ]
     },
     "execution_count": 396,
     "metadata": {},
     "output_type": "execute_result"
    }
   ],
   "source": [
    "coefs.shape"
   ]
  },
  {
   "cell_type": "markdown",
   "metadata": {},
   "source": [
    "##### 多数決を用いる場合"
   ]
  },
  {
   "cell_type": "code",
   "execution_count": 476,
   "metadata": {},
   "outputs": [],
   "source": [
    "fy_pred8v = 1/(1+np.exp(-token_sum_matrix.dot(coefs[:,1:].transpose()) - coefs[:,0]))"
   ]
  },
  {
   "cell_type": "code",
   "execution_count": 483,
   "metadata": {},
   "outputs": [],
   "source": [
    "y_pred8v = np.where(fy_pred8v > 0.5 , 1, -1)"
   ]
  },
  {
   "cell_type": "code",
   "execution_count": 484,
   "metadata": {},
   "outputs": [
    {
     "data": {
      "text/plain": [
       "array([[ 1, -1, -1, -1, -1],\n",
       "       [ 1,  1,  1,  1,  1],\n",
       "       [ 1, -1, -1, -1, -1],\n",
       "       [-1, -1, -1, -1, -1],\n",
       "       [-1, -1, -1, -1, -1]])"
      ]
     },
     "execution_count": 484,
     "metadata": {},
     "output_type": "execute_result"
    }
   ],
   "source": [
    "y_pred8v[0:5,0:5]"
   ]
  },
  {
   "cell_type": "markdown",
   "metadata": {},
   "source": [
    "##### 平均スコアを用いる場合"
   ]
  },
  {
   "cell_type": "code",
   "execution_count": 399,
   "metadata": {},
   "outputs": [],
   "source": [
    "mean_coefs = coefs.mean(axis= 0)"
   ]
  },
  {
   "cell_type": "code",
   "execution_count": 407,
   "metadata": {},
   "outputs": [
    {
     "data": {
      "text/plain": [
       "array([-0.49162227,  0.21856508, -0.52992779, ...,  1.08741456,\n",
       "        0.40383069, -0.38518064])"
      ]
     },
     "execution_count": 407,
     "metadata": {},
     "output_type": "execute_result"
    }
   ],
   "source": [
    "token_sum_matrix.dot(mean_coefs[1:])+mean_coefs[0]"
   ]
  },
  {
   "cell_type": "code",
   "execution_count": 444,
   "metadata": {},
   "outputs": [],
   "source": [
    "fy_pred8 = 1/ (1+ np.exp(-token_sum_matrix.dot(mean_coefs[1:])-mean_coefs[0]))"
   ]
  },
  {
   "cell_type": "code",
   "execution_count": 445,
   "metadata": {},
   "outputs": [],
   "source": [
    "y_pred8 = [1 if x > 0.5 else -1 for x in fy_pred8]"
   ]
  },
  {
   "cell_type": "code",
   "execution_count": 463,
   "metadata": {},
   "outputs": [],
   "source": [
    "out8 = [\"{}\\t{}\\t{}\".format(y_correct[i] , y_pred8[i] , max(fy_pred8[i,] , 1-fy_pred8[i,])) for i in range(len(y))]"
   ]
  },
  {
   "cell_type": "code",
   "execution_count": 464,
   "metadata": {},
   "outputs": [
    {
     "data": {
      "text/plain": [
       "[-1, 1, -1, -1, -1, 1, -1, 1, -1, -1]"
      ]
     },
     "execution_count": 464,
     "metadata": {},
     "output_type": "execute_result"
    }
   ],
   "source": [
    "y_pred8[0:10]"
   ]
  },
  {
   "cell_type": "code",
   "execution_count": 465,
   "metadata": {},
   "outputs": [],
   "source": [
    "TP8 = 0\n",
    "FP8 = 0\n",
    "FN8 = 0\n",
    "TN8 = 0\n"
   ]
  },
  {
   "cell_type": "code",
   "execution_count": 466,
   "metadata": {},
   "outputs": [],
   "source": [
    "for y in out8:\n",
    "    x = y.split('\\t')\n",
    "    p = float(x[1])\n",
    "    c = float(x[0])\n",
    "    if p > 0 and c > 0:\n",
    "        TP8 += 1\n",
    "    if p > 0 and c < 0:\n",
    "        FP8 += 1\n",
    "    if p < 0 and c > 0:\n",
    "        FN8 += 1\n",
    "    if p < 0 and c < 0:\n",
    "        TN8 += 1   "
   ]
  },
  {
   "cell_type": "markdown",
   "metadata": {},
   "source": [
    "##### 正答率 : TP or TN の割合"
   ]
  },
  {
   "cell_type": "code",
   "execution_count": 468,
   "metadata": {},
   "outputs": [
    {
     "name": "stdout",
     "output_type": "stream",
     "text": [
      "正答率：0.864284374413806\n"
     ]
    }
   ],
   "source": [
    "print(\"正答率：{}\".format((TP8 + TN8) / (TP8 + FP8 + FN8 + TN8)))"
   ]
  },
  {
   "cell_type": "markdown",
   "metadata": {},
   "source": [
    "##### 正例に関する適合率（precision rate）\n",
    "\n",
    "肯定的と予測したレビューの中で、実際に肯定的だったものの割合"
   ]
  },
  {
   "cell_type": "code",
   "execution_count": 469,
   "metadata": {},
   "outputs": [],
   "source": [
    "precision_rate = TP8 / (TP8 + FP8)"
   ]
  },
  {
   "cell_type": "code",
   "execution_count": 470,
   "metadata": {},
   "outputs": [
    {
     "name": "stdout",
     "output_type": "stream",
     "text": [
      "正例に関する適合率 : 0.8661387631975868\n"
     ]
    }
   ],
   "source": [
    "print(\"正例に関する適合率 : {}\".format(precision_rate))"
   ]
  },
  {
   "cell_type": "markdown",
   "metadata": {},
   "source": [
    "##### 正例に関する再現率 (recall rate)"
   ]
  },
  {
   "cell_type": "markdown",
   "metadata": {},
   "source": [
    "実際に肯定的なレビューの中で、肯定的と予測できたものの割合"
   ]
  },
  {
   "cell_type": "code",
   "execution_count": 471,
   "metadata": {},
   "outputs": [],
   "source": [
    "recall_rate = TP8 / (TP8 + FN8)"
   ]
  },
  {
   "cell_type": "code",
   "execution_count": 472,
   "metadata": {},
   "outputs": [
    {
     "name": "stdout",
     "output_type": "stream",
     "text": [
      "正例に関する再現率 : 0.8617520165072219\n"
     ]
    }
   ],
   "source": [
    "print(\"正例に関する再現率 : {}\".format(recall_rate))"
   ]
  },
  {
   "cell_type": "markdown",
   "metadata": {},
   "source": [
    "##### 正例に関するF1スコア"
   ]
  },
  {
   "cell_type": "markdown",
   "metadata": {},
   "source": [
    "F1スコア（Fスコア、F値、F-尺度などとも呼ばれます）は適合率と再現率のバランスを定量化したもの"
   ]
  },
  {
   "cell_type": "code",
   "execution_count": 473,
   "metadata": {},
   "outputs": [],
   "source": [
    "F1  =  2 * precision_rate * recall_rate / (precision_rate + recall_rate)"
   ]
  },
  {
   "cell_type": "code",
   "execution_count": 474,
   "metadata": {},
   "outputs": [
    {
     "name": "stdout",
     "output_type": "stream",
     "text": [
      "F1 score : 0.8639398213446168\n"
     ]
    }
   ],
   "source": [
    "print(\"F1 score : {}\".format(F1))"
   ]
  },
  {
   "cell_type": "code",
   "execution_count": 420,
   "metadata": {},
   "outputs": [
    {
     "name": "stdout",
     "output_type": "stream",
     "text": [
      "正答率：0.8722566122678672\n"
     ]
    }
   ],
   "source": [
    "print(\"正答率：{}\".format((TP + TN) / (TP + FP + FN + TN)))"
   ]
  },
  {
   "cell_type": "code",
   "execution_count": 419,
   "metadata": {},
   "outputs": [],
   "source": [
    "precision_rate = TP / (TP + FP)"
   ]
  },
  {
   "cell_type": "code",
   "execution_count": null,
   "metadata": {},
   "outputs": [],
   "source": []
  },
  {
   "cell_type": "code",
   "execution_count": 331,
   "metadata": {},
   "outputs": [
    {
     "data": {
      "text/plain": [
       "(8530, 3439)"
      ]
     },
     "execution_count": 331,
     "metadata": {},
     "output_type": "execute_result"
    }
   ],
   "source": [
    "token_sum_matrix[train_index].shape"
   ]
  },
  {
   "cell_type": "code",
   "execution_count": 312,
   "metadata": {},
   "outputs": [
    {
     "data": {
      "text/plain": [
       "array([ 0.73888576,  0.73410242,  0.74423185])"
      ]
     },
     "execution_count": 312,
     "metadata": {},
     "output_type": "execute_result"
    }
   ],
   "source": [
    "cross_val_score(lr, X = token_sum_matrix , y = y)"
   ]
  },
  {
   "cell_type": "code",
   "execution_count": 315,
   "metadata": {},
   "outputs": [
    {
     "name": "stderr",
     "output_type": "stream",
     "text": [
      "/home/toshinao/anaconda3/lib/python3.5/site-packages/sklearn/utils/deprecation.py:122: FutureWarning: You are accessing a training score ('train_score'), which will not be available by default any more in 0.21. If you need training scores, please set return_train_score=True\n",
      "  warnings.warn(*warn_args, **warn_kwargs)\n"
     ]
    },
    {
     "data": {
      "text/plain": [
       "{'fit_time': array([ 0.17726398,  0.16829109,  0.17089844,  0.18771553,  0.17004704]),\n",
       " 'score_time': array([ 0.00729036,  0.00606251,  0.00604868,  0.00667644,  0.00606966]),\n",
       " 'test_score': array([ 0.75351453,  0.73030019,  0.74718574,  0.73780488,  0.74530957]),\n",
       " 'train_score': array([ 0.88555347,  0.88440797,  0.88335287,  0.88780774,  0.88464244])}"
      ]
     },
     "execution_count": 315,
     "metadata": {},
     "output_type": "execute_result"
    }
   ],
   "source": [
    "cross_validate(lr, X = token_sum_matrix , y = y , cv = 5)"
   ]
  },
  {
   "cell_type": "code",
   "execution_count": 314,
   "metadata": {},
   "outputs": [],
   "source": [
    "cross_validate?"
   ]
  },
  {
   "cell_type": "code",
   "execution_count": 429,
   "metadata": {},
   "outputs": [
    {
     "name": "stdout",
     "output_type": "stream",
     "text": [
      "[master a6c5182] snapshot\n",
      " 1 file changed, 257 insertions(+), 5 deletions(-)\n"
     ]
    }
   ],
   "source": [
    "%%bash\n",
    "git commit -a -m \"snapshot\""
   ]
  },
  {
   "cell_type": "markdown",
   "metadata": {},
   "source": [
    "#### 適合率-再現率グラフの描画\n",
    "ロジスティック回帰モデルの分類の閾値を変化させることで，適合率-再現率グラフを描画せよ"
   ]
  },
  {
   "cell_type": "code",
   "execution_count": null,
   "metadata": {},
   "outputs": [],
   "source": []
  }
 ],
 "metadata": {
  "kernelspec": {
   "display_name": "Python [default]",
   "language": "python",
   "name": "python3"
  },
  "language_info": {
   "codemirror_mode": {
    "name": "ipython",
    "version": 3
   },
   "file_extension": ".py",
   "mimetype": "text/x-python",
   "name": "python",
   "nbconvert_exporter": "python",
   "pygments_lexer": "ipython3",
   "version": "3.5.4"
  },
  "toc": {
   "colors": {
    "hover_highlight": "#DAA520",
    "navigate_num": "#000000",
    "navigate_text": "#333333",
    "running_highlight": "#FF0000",
    "selected_highlight": "#FFD700",
    "sidebar_border": "#EEEEEE",
    "wrapper_background": "#FFFFFF"
   },
   "moveMenuLeft": true,
   "nav_menu": {
    "height": "48px",
    "width": "252px"
   },
   "navigate_menu": true,
   "number_sections": true,
   "sideBar": false,
   "threshold": 4,
   "toc_cell": false,
   "toc_position": {
    "height": "1509px",
    "left": "2px",
    "right": "20px",
    "top": "111px",
    "width": "212px"
   },
   "toc_section_display": "block",
   "toc_window_display": false,
   "widenNotebook": false
  }
 },
 "nbformat": 4,
 "nbformat_minor": 2
}
