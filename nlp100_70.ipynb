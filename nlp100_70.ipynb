{
 "cells": [
  {
   "cell_type": "markdown",
   "metadata": {},
   "source": [
    "**** データの入手・整形 ****\n",
    "\n",
    "文に関する極性分析の正解データを用い，以下の要領で正解データ（sentiment.txt）を作成せよ．\n",
    "\n",
    "rt-polarity.posの各行の先頭に\"+1 \"という文字列を追加する（極性ラベル\"+1\"とスペースに続けて肯定的な文の内容が続く）\n",
    "rt-polarity.negの各行の先頭に\"-1 \"という文字列を追加する（極性ラベル\"-1\"とスペースに続けて否定的な文の内容が続く）\n",
    "上述1と2の内容を結合（concatenate）し，行をランダムに並び替える\n",
    "\n",
    "sentiment.txtを作成したら，正例（肯定的な文）の数と負例（否定的な文）の数を確認せよ．"
   ]
  },
  {
   "cell_type": "code",
   "execution_count": 1,
   "metadata": {},
   "outputs": [],
   "source": [
    "# coding: utf-8\n",
    "import codecs\n",
    "import random\n",
    "\n",
    "fname_pos = 'nlp100data/rt-polaritydata/rt-polarity.pos'\n",
    "fname_neg = 'nlp100data/rt-polaritydata/rt-polarity.neg'\n",
    "fname_smt = 'nlp100data/sentiment.txt'\n",
    "fencoding = 'cp1252'        # Windows-1252らしい"
   ]
  },
  {
   "cell_type": "code",
   "execution_count": null,
   "metadata": {},
   "outputs": [],
   "source": [
    "result = []"
   ]
  },
  {
   "cell_type": "markdown",
   "metadata": {},
   "source": [
    "ポジティブデータの読み込み"
   ]
  },
  {
   "cell_type": "code",
   "execution_count": null,
   "metadata": {},
   "outputs": [],
   "source": [
    "with codecs.open(fname_pos, 'r', fencoding) as file_pos:\n",
    "    result.extend(['+1 {}'.format(line.strip()) for line in file_pos])"
   ]
  },
  {
   "cell_type": "code",
   "execution_count": null,
   "metadata": {},
   "outputs": [],
   "source": [
    "print(\"number of postive sentences is {}\".format(len(result)))"
   ]
  },
  {
   "cell_type": "code",
   "execution_count": null,
   "metadata": {},
   "outputs": [],
   "source": [
    "result_neg = []\n",
    "with codecs.open(fname_neg, 'r', fencoding) as file_neg:\n",
    "    result_neg.extend(['-1 {}'.format(line.strip()) for line in file_neg])\n"
   ]
  },
  {
   "cell_type": "code",
   "execution_count": null,
   "metadata": {},
   "outputs": [],
   "source": [
    "print(\"number of negative sentences is {}\".format(len(result_neg)))"
   ]
  },
  {
   "cell_type": "code",
   "execution_count": null,
   "metadata": {},
   "outputs": [],
   "source": [
    "result.extend(result_neg)"
   ]
  },
  {
   "cell_type": "code",
   "execution_count": null,
   "metadata": {},
   "outputs": [],
   "source": [
    "print(\"total number of sentences is {}\".format(len(result)))"
   ]
  },
  {
   "cell_type": "markdown",
   "metadata": {},
   "source": [
    "シャッフル"
   ]
  },
  {
   "cell_type": "code",
   "execution_count": null,
   "metadata": {},
   "outputs": [],
   "source": [
    "random.shuffle(result)"
   ]
  },
  {
   "cell_type": "markdown",
   "metadata": {},
   "source": [
    "書き出し"
   ]
  },
  {
   "cell_type": "code",
   "execution_count": null,
   "metadata": {},
   "outputs": [],
   "source": [
    "with codecs.open(fname_smt, 'w', fencoding) as file_out:\n",
    "    print(*result, sep='\\n', file=file_out)"
   ]
  },
  {
   "cell_type": "markdown",
   "metadata": {},
   "source": [
    "####  ストップワード\n",
    "\n",
    "英語のストップワードのリスト（ストップリスト）を適当に作成せよ．\n",
    "\n",
    "さらに，引数に与えられた単語（文字列）がストップリストに含まれている場合は真，それ以外は偽を返す関数を実装せよ．\n",
    "\n",
    "さらに，その関数に対するテストを記述せよ．"
   ]
  },
  {
   "cell_type": "markdown",
   "metadata": {},
   "source": [
    "ストップワードのリスト  http://xpo6.com/list-of-english-stop-words/ のCSV Formatより"
   ]
  },
  {
   "cell_type": "code",
   "execution_count": 2,
   "metadata": {},
   "outputs": [],
   "source": [
    "stop_words = (\n",
    "    'a,able,about,across,after,all,almost,also,am,among,an,and,any,are,'\n",
    "    'as,at,be,because,been,but,by,can,cannot,could,dear,did,do,does,'\n",
    "    'either,else,ever,every,for,from,get,got,had,has,have,he,her,hers,'\n",
    "    'him,his,how,however,i,if,in,into,is,it,its,just,least,let,like,'\n",
    "    'likely,may,me,might,most,must,my,neither,no,nor,not,of,off,often,'\n",
    "    'on,only,or,other,our,own,rather,said,say,says,she,should,since,so,'\n",
    "    'some,than,that,the,their,them,then,there,these,they,this,tis,to,too,'\n",
    "    'twas,us,wants,was,we,were,what,when,where,which,while,who,whom,why,'\n",
    "    'will,with,would,yet,you,your').lower().split(',')"
   ]
  },
  {
   "cell_type": "code",
   "execution_count": 3,
   "metadata": {},
   "outputs": [],
   "source": [
    "def is_stopword(str):\n",
    "    '''文字がストップワードかどうかを返す\n",
    "    大小文字は同一視する\n",
    "\n",
    "    戻り値：\n",
    "    ストップワードならTrue、違う場合はFalse\n",
    "    '''\n",
    "    return str.lower() in stop_words\n"
   ]
  },
  {
   "cell_type": "code",
   "execution_count": 4,
   "metadata": {},
   "outputs": [
    {
     "ename": "AssertionError",
     "evalue": "",
     "output_type": "error",
     "traceback": [
      "\u001b[0;31m---------------------------------------------------------------------------\u001b[0m",
      "\u001b[0;31mAssertionError\u001b[0m                            Traceback (most recent call last)",
      "\u001b[0;32m<ipython-input-4-14282b1f4af6>\u001b[0m in \u001b[0;36m<module>\u001b[0;34m()\u001b[0m\n\u001b[0;32m----> 1\u001b[0;31m \u001b[0;32massert\u001b[0m \u001b[0mis_stopword\u001b[0m\u001b[0;34m(\u001b[0m\u001b[0;34m\"Tokyo\"\u001b[0m\u001b[0;34m)\u001b[0m\u001b[0;34m\u001b[0m\u001b[0m\n\u001b[0m",
      "\u001b[0;31mAssertionError\u001b[0m: "
     ]
    }
   ],
   "source": [
    "assert is_stopword(\"Tokyo\")"
   ]
  },
  {
   "cell_type": "code",
   "execution_count": 5,
   "metadata": {},
   "outputs": [],
   "source": [
    "assert is_stopword(\"a\")"
   ]
  },
  {
   "cell_type": "markdown",
   "metadata": {},
   "source": [
    "#### 素性抽出\n",
    "\n",
    "極性分析に有用そうな素性を各自で設計し，学習データから素性を抽出せよ．\n",
    "\n",
    "素性としては，レビューからストップワードを除去し，各単語をステミング処理したものが最低限のベースラインとなるであろう．"
   ]
  },
  {
   "cell_type": "markdown",
   "metadata": {},
   "source": [
    "**** coreNLPを使ったほうがよさそう。nlp100_50.ipynbの先頭を踏襲すればよい（？）****\n",
    "\n",
    "https://github.com/Lynten/stanford-corenlp"
   ]
  },
  {
   "cell_type": "code",
   "execution_count": null,
   "metadata": {},
   "outputs": [],
   "source": [
    "with codecs.open(fname_smt, 'r', fencoding) as rf:\n",
    "    for i , l in enumerate(rf):\n",
    "        for w in l[3:].split(\" \"):\n",
    "            print(w.strip())\n",
    "            \n",
    "            \n",
    "        "
   ]
  },
  {
   "cell_type": "code",
   "execution_count": 7,
   "metadata": {},
   "outputs": [],
   "source": [
    "from stanfordcorenlp import StanfordCoreNLP"
   ]
  },
  {
   "cell_type": "code",
   "execution_count": 8,
   "metadata": {},
   "outputs": [],
   "source": [
    "corenlp = StanfordCoreNLP(r'/home/toshinao/Tools/stanford-corenlp-full-2018-02-27')"
   ]
  },
  {
   "cell_type": "code",
   "execution_count": 9,
   "metadata": {},
   "outputs": [],
   "source": [
    "from bs4 import BeautifulSoup"
   ]
  },
  {
   "cell_type": "code",
   "execution_count": 10,
   "metadata": {},
   "outputs": [],
   "source": [
    "props={'annotators': 'lemma','pipelineLanguage':'en','outputFormat':'xml'}"
   ]
  },
  {
   "cell_type": "code",
   "execution_count": 135,
   "metadata": {},
   "outputs": [],
   "source": [
    "xmls = list()\n",
    "with codecs.open(fname_smt, 'r', fencoding) as rf:\n",
    "    for l in rf:\n",
    "        run_xml = corenlp.annotate(l[3:] , properties=props)\n",
    "        xmls.append(run_xml)\n",
    "            \n",
    "        "
   ]
  },
  {
   "cell_type": "code",
   "execution_count": null,
   "metadata": {},
   "outputs": [],
   "source": [
    "len(xmls)"
   ]
  },
  {
   "cell_type": "code",
   "execution_count": null,
   "metadata": {},
   "outputs": [],
   "source": [
    "\"x\" not in stop_words"
   ]
  },
  {
   "cell_type": "code",
   "execution_count": 138,
   "metadata": {},
   "outputs": [],
   "source": [
    "from collections import Counter"
   ]
  },
  {
   "cell_type": "code",
   "execution_count": 139,
   "metadata": {},
   "outputs": [],
   "source": [
    "word_counter = Counter()"
   ]
  },
  {
   "cell_type": "code",
   "execution_count": 140,
   "metadata": {},
   "outputs": [],
   "source": [
    "for x in xmls:\n",
    "    soup = BeautifulSoup(x, 'lxml')\n",
    "    for x in soup.find_all(\"lemma\"):\n",
    "        y = x.get_text()\n",
    "        if y not in stop_words:\n",
    "            word_counter.update([y])\n",
    "            "
   ]
  },
  {
   "cell_type": "code",
   "execution_count": 141,
   "metadata": {},
   "outputs": [],
   "source": [
    "features = [word for word, count in word_counter.items() if count >= 6]"
   ]
  },
  {
   "cell_type": "code",
   "execution_count": 142,
   "metadata": {},
   "outputs": [
    {
     "name": "stdout",
     "output_type": "stream",
     "text": [
      "number of seletcted features is 3439\n"
     ]
    }
   ],
   "source": [
    "print(\"number of seletcted features is {}\".format(len(features)))"
   ]
  },
  {
   "cell_type": "code",
   "execution_count": 143,
   "metadata": {},
   "outputs": [
    {
     "data": {
      "text/plain": [
       "['play',\n",
       " 'droll',\n",
       " 'hear',\n",
       " 'worry',\n",
       " 'promise',\n",
       " 'conclusion',\n",
       " 'nonsense',\n",
       " 'pumpkin',\n",
       " 'minor',\n",
       " 'unintentionally']"
      ]
     },
     "execution_count": 143,
     "metadata": {},
     "output_type": "execute_result"
    }
   ],
   "source": [
    "features[0:10]"
   ]
  },
  {
   "cell_type": "code",
   "execution_count": 16,
   "metadata": {},
   "outputs": [],
   "source": [
    "fname_features = \"nlp100data/features.txt\""
   ]
  },
  {
   "cell_type": "code",
   "execution_count": 144,
   "metadata": {},
   "outputs": [],
   "source": [
    "with codecs.open(fname_features, 'w', fencoding) as file_out:\n",
    "    print(*features, sep='\\n', file=file_out)"
   ]
  },
  {
   "cell_type": "code",
   "execution_count": 145,
   "metadata": {},
   "outputs": [],
   "source": [
    "def load_dict_features():\n",
    "    '''features.txtを読み込み、素性をインデックスに変換するための辞書を作成\n",
    "    インデックスの値は1ベースで、features.txtにおける行番号と一致する。\n",
    "\n",
    "    戻り値：\n",
    "    素性をインデックスに変換する辞書\n",
    "    '''\n",
    "    with codecs.open(fname_features, 'r', fencoding) as file_in:\n",
    "        return [l.strip() for l in file_in]"
   ]
  },
  {
   "cell_type": "markdown",
   "metadata": {},
   "source": [
    "##### sandbox"
   ]
  },
  {
   "cell_type": "code",
   "execution_count": null,
   "metadata": {},
   "outputs": [],
   "source": [
    "fname_features"
   ]
  },
  {
   "cell_type": "code",
   "execution_count": null,
   "metadata": {},
   "outputs": [],
   "source": [
    "print(soup.prettify())"
   ]
  },
  {
   "cell_type": "code",
   "execution_count": null,
   "metadata": {},
   "outputs": [],
   "source": [
    "%%bash\n",
    "git commit -a -m \"from notebook\""
   ]
  },
  {
   "cell_type": "code",
   "execution_count": null,
   "metadata": {},
   "outputs": [],
   "source": [
    "features = set()\n",
    "\n",
    "for x in xmls:\n",
    "    soup = BeautifulSoup(x, 'lxml')\n",
    "    for x in soup.find_all(\"lemma\"):\n",
    "        y = x.get_text()\n",
    "        if y not in stop_words:\n",
    "            features.add(y)\n",
    "            "
   ]
  },
  {
   "cell_type": "code",
   "execution_count": null,
   "metadata": {},
   "outputs": [],
   "source": [
    "for x in soup.find_all(\"lemma\"):\n",
    "    print(x.get_text())"
   ]
  },
  {
   "cell_type": "code",
   "execution_count": null,
   "metadata": {},
   "outputs": [],
   "source": [
    "run_xml = corenlp.annotate(l, properties=props)"
   ]
  },
  {
   "cell_type": "code",
   "execution_count": null,
   "metadata": {},
   "outputs": [],
   "source": [
    "corenlp.parse(l)"
   ]
  },
  {
   "cell_type": "markdown",
   "metadata": {},
   "source": [
    "https://github.com/Lynten/stanford-corenlp"
   ]
  },
  {
   "cell_type": "code",
   "execution_count": null,
   "metadata": {
    "scrolled": false
   },
   "outputs": [],
   "source": [
    "props={'annotators': 'tokenize,ssplit,pos','pipelineLanguage':'en','outputFormat':'xml'}\n",
    "print(corenlp.annotate(l, properties=props))"
   ]
  },
  {
   "cell_type": "markdown",
   "metadata": {},
   "source": [
    "#### 学習\n",
    "72で抽出した素性を用いて，ロジスティック回帰モデルを学習せよ．"
   ]
  },
  {
   "cell_type": "code",
   "execution_count": 146,
   "metadata": {},
   "outputs": [],
   "source": [
    "import numpy as np"
   ]
  },
  {
   "cell_type": "code",
   "execution_count": 147,
   "metadata": {},
   "outputs": [],
   "source": [
    "from sklearn.feature_extraction.text import CountVectorizer as CV"
   ]
  },
  {
   "cell_type": "code",
   "execution_count": 148,
   "metadata": {},
   "outputs": [],
   "source": [
    "features = load_dict_features()"
   ]
  },
  {
   "cell_type": "code",
   "execution_count": 149,
   "metadata": {},
   "outputs": [],
   "source": [
    "cv = CV(vocabulary=features)"
   ]
  },
  {
   "cell_type": "code",
   "execution_count": 150,
   "metadata": {},
   "outputs": [
    {
     "data": {
      "text/plain": [
       "<3x3439 sparse matrix of type '<class 'numpy.int64'>'\n",
       "\twith 3 stored elements in Compressed Sparse Row format>"
      ]
     },
     "execution_count": 150,
     "metadata": {},
     "output_type": "execute_result"
    }
   ],
   "source": [
    "cv.transform(features[0:3])\n"
   ]
  },
  {
   "cell_type": "code",
   "execution_count": 151,
   "metadata": {},
   "outputs": [
    {
     "data": {
      "text/plain": [
       "0"
      ]
     },
     "execution_count": 151,
     "metadata": {},
     "output_type": "execute_result"
    }
   ],
   "source": [
    "np.sum(cv.transform([\"shibuya\"]).toarray())"
   ]
  },
  {
   "cell_type": "code",
   "execution_count": 152,
   "metadata": {},
   "outputs": [],
   "source": [
    "token_sum_list = []\n",
    "for x in xmls:\n",
    "    soup = BeautifulSoup(x, 'lxml')\n",
    "    lemmas = list()\n",
    "    for x in soup.find_all(\"lemma\"):\n",
    "        xt = x.get_text()\n",
    "        if xt not in stop_words:\n",
    "            lemmas.append(xt)\n",
    "    token_matrix = cv.transform(lemmas).toarray()\n",
    "    token_sum = token_matrix.sum(axis = 0).astype(float)\n",
    "    token_sum_list.append(token_sum.tolist())"
   ]
  },
  {
   "cell_type": "code",
   "execution_count": 153,
   "metadata": {},
   "outputs": [],
   "source": [
    "token_sum_matrix = np.array(token_sum_list)"
   ]
  },
  {
   "cell_type": "code",
   "execution_count": 154,
   "metadata": {},
   "outputs": [
    {
     "data": {
      "text/plain": [
       "(10662, 3439)"
      ]
     },
     "execution_count": 154,
     "metadata": {},
     "output_type": "execute_result"
    }
   ],
   "source": [
    "token_sum_matrix.shape"
   ]
  },
  {
   "cell_type": "code",
   "execution_count": 458,
   "metadata": {},
   "outputs": [],
   "source": [
    "with codecs.open(fname_smt, 'r', fencoding) as rf:\n",
    "    y = [float(l[0:2]) for l in rf ]"
   ]
  },
  {
   "cell_type": "code",
   "execution_count": 459,
   "metadata": {},
   "outputs": [],
   "source": [
    "y = np.array(y)"
   ]
  },
  {
   "cell_type": "code",
   "execution_count": 462,
   "metadata": {},
   "outputs": [],
   "source": [
    "y_correct = y"
   ]
  },
  {
   "cell_type": "code",
   "execution_count": 460,
   "metadata": {},
   "outputs": [
    {
     "data": {
      "text/plain": [
       "(10662,)"
      ]
     },
     "execution_count": 460,
     "metadata": {},
     "output_type": "execute_result"
    }
   ],
   "source": [
    "y.shape"
   ]
  },
  {
   "cell_type": "code",
   "execution_count": 231,
   "metadata": {},
   "outputs": [],
   "source": [
    "feature_names = cv.get_feature_names()"
   ]
  },
  {
   "cell_type": "markdown",
   "metadata": {},
   "source": [
    "##### 回帰"
   ]
  },
  {
   "cell_type": "markdown",
   "metadata": {},
   "source": [
    "http://ailaby.com/logistic_reg/"
   ]
  },
  {
   "cell_type": "code",
   "execution_count": 159,
   "metadata": {},
   "outputs": [],
   "source": [
    "from sklearn.linear_model import LogisticRegression\n",
    " "
   ]
  },
  {
   "cell_type": "code",
   "execution_count": 160,
   "metadata": {},
   "outputs": [],
   "source": [
    "lr = LogisticRegression()"
   ]
  },
  {
   "cell_type": "code",
   "execution_count": 161,
   "metadata": {},
   "outputs": [
    {
     "data": {
      "text/plain": [
       "LogisticRegression(C=1.0, class_weight=None, dual=False, fit_intercept=True,\n",
       "          intercept_scaling=1, max_iter=100, multi_class='ovr', n_jobs=1,\n",
       "          penalty='l2', random_state=None, solver='liblinear', tol=0.0001,\n",
       "          verbose=0, warm_start=False)"
      ]
     },
     "execution_count": 161,
     "metadata": {},
     "output_type": "execute_result"
    }
   ],
   "source": [
    "lr.fit(X = token_sum_matrix , y = y)"
   ]
  },
  {
   "cell_type": "code",
   "execution_count": 163,
   "metadata": {},
   "outputs": [
    {
     "data": {
      "text/plain": [
       "0.87225661226786722"
      ]
     },
     "execution_count": 163,
     "metadata": {},
     "output_type": "execute_result"
    }
   ],
   "source": [
    "lr.score(X=token_sum_matrix , y = y)"
   ]
  },
  {
   "cell_type": "markdown",
   "metadata": {},
   "source": [
    "#### 予測\n",
    "\n",
    "73で学習したロジスティック回帰モデルを用い，与えられた文の極性ラベル（正例なら\"+1\"，負例なら\"-1\"）と，その予測確率を計算するプログラムを実装せよ．"
   ]
  },
  {
   "cell_type": "code",
   "execution_count": 190,
   "metadata": {},
   "outputs": [],
   "source": [
    "y_pred1 = lr.predict(X = token_sum_matrix)"
   ]
  },
  {
   "cell_type": "code",
   "execution_count": 169,
   "metadata": {},
   "outputs": [
    {
     "data": {
      "text/plain": [
       "array([-1., -1., -1., -1., -1.,  1.,  1.,  1.,  1., -1.])"
      ]
     },
     "execution_count": 169,
     "metadata": {},
     "output_type": "execute_result"
    }
   ],
   "source": [
    "y[0:10]"
   ]
  },
  {
   "cell_type": "code",
   "execution_count": 172,
   "metadata": {
    "scrolled": true
   },
   "outputs": [
    {
     "data": {
      "text/plain": [
       "{'C': 1.0,\n",
       " 'class_weight': None,\n",
       " 'dual': False,\n",
       " 'fit_intercept': True,\n",
       " 'intercept_scaling': 1,\n",
       " 'max_iter': 100,\n",
       " 'multi_class': 'ovr',\n",
       " 'n_jobs': 1,\n",
       " 'penalty': 'l2',\n",
       " 'random_state': None,\n",
       " 'solver': 'liblinear',\n",
       " 'tol': 0.0001,\n",
       " 'verbose': 0,\n",
       " 'warm_start': False}"
      ]
     },
     "execution_count": 172,
     "metadata": {},
     "output_type": "execute_result"
    }
   ],
   "source": [
    "lr.get_params()"
   ]
  },
  {
   "cell_type": "code",
   "execution_count": 204,
   "metadata": {},
   "outputs": [
    {
     "data": {
      "text/plain": [
       "array([[-0.35716411,  0.550107  , -0.22356707, ..., -0.38271609,\n",
       "        -0.82514424,  0.50568172]])"
      ]
     },
     "execution_count": 204,
     "metadata": {},
     "output_type": "execute_result"
    }
   ],
   "source": [
    "lr.coef_"
   ]
  },
  {
   "cell_type": "code",
   "execution_count": 174,
   "metadata": {},
   "outputs": [
    {
     "data": {
      "text/plain": [
       "array([-0.27312972])"
      ]
     },
     "execution_count": 174,
     "metadata": {},
     "output_type": "execute_result"
    }
   ],
   "source": [
    "lr.intercept_"
   ]
  },
  {
   "cell_type": "code",
   "execution_count": 198,
   "metadata": {},
   "outputs": [],
   "source": [
    "fy_pred2 = 1/ ( 1 + np.exp(-lr.intercept_ -token_sum_matrix.dot(np.transpose(lr.coef_))))"
   ]
  },
  {
   "cell_type": "code",
   "execution_count": 199,
   "metadata": {},
   "outputs": [],
   "source": [
    "y_pred2 = [1 if x > 0.5 else -1 for x in fy_pred2]"
   ]
  },
  {
   "cell_type": "code",
   "execution_count": 200,
   "metadata": {},
   "outputs": [
    {
     "data": {
      "text/plain": [
       "[]"
      ]
     },
     "execution_count": 200,
     "metadata": {},
     "output_type": "execute_result"
    }
   ],
   "source": [
    "[(y_pred1[i] , fy_pred2[i]) for i in range(len(y_pred2)) if y_pred2[i] != y_pred1[i]]"
   ]
  },
  {
   "cell_type": "markdown",
   "metadata": {},
   "source": [
    "#####  sandbox"
   ]
  },
  {
   "cell_type": "code",
   "execution_count": null,
   "metadata": {},
   "outputs": [],
   "source": [
    "lr.fit?\n"
   ]
  },
  {
   "cell_type": "code",
   "execution_count": 50,
   "metadata": {},
   "outputs": [],
   "source": [
    "from sklearn.cross_validation import train_test_split\n",
    "from sklearn.preprocessing import StandardScaler"
   ]
  },
  {
   "cell_type": "code",
   "execution_count": 54,
   "metadata": {},
   "outputs": [],
   "source": [
    "np.random.seed(seed=0)\n",
    "X_0 = np.random.multivariate_normal( [2,2],  [[2,0],[0,2]],  50 )\n",
    "y_0 = np.zeros(len(X_0))\n",
    " \n",
    "X_1 = np.random.multivariate_normal( [6,7],  [[3,0],[0,3]],  50 )\n",
    "y_1 = np.ones(len(X_1))\n",
    " \n",
    "X = np.vstack((X_0, X_1))\n",
    "ytmp = np.append(y_0, y_1)\n",
    " \n",
    "X_train, X_test, y_train, y_test = train_test_split(X, ytmp, test_size=0.3)\n",
    " \n",
    "# 特徴データを標準化(平均 0、標準偏差 1)\n",
    "sc = StandardScaler()\n",
    "X_train_std = sc.fit_transform(X_train)\n",
    "X_test_std = sc.transform(X_test)"
   ]
  },
  {
   "cell_type": "markdown",
   "metadata": {},
   "source": [
    "https://note.nkmk.me/python-numpy-eye-identity-one-hot/"
   ]
  },
  {
   "cell_type": "code",
   "execution_count": null,
   "metadata": {},
   "outputs": [],
   "source": [
    "np.eye(10)[[1,2]]"
   ]
  },
  {
   "cell_type": "code",
   "execution_count": null,
   "metadata": {},
   "outputs": [],
   "source": [
    "tmp = np.empty()"
   ]
  },
  {
   "cell_type": "code",
   "execution_count": null,
   "metadata": {},
   "outputs": [],
   "source": [
    "x = xmls[1]"
   ]
  },
  {
   "cell_type": "code",
   "execution_count": null,
   "metadata": {},
   "outputs": [],
   "source": [
    "soup = BeautifulSoup(x, 'lxml')\n",
    "lemmas = list()\n",
    "for x in soup.find_all(\"lemma\"):\n",
    "    y = x.get_text()\n",
    "    if y not in stop_words:\n",
    "        lemmas.append(y)"
   ]
  },
  {
   "cell_type": "code",
   "execution_count": null,
   "metadata": {},
   "outputs": [],
   "source": [
    "tmp = cv.transform(lemmas).toarray()"
   ]
  },
  {
   "cell_type": "code",
   "execution_count": null,
   "metadata": {},
   "outputs": [],
   "source": [
    "tmp.sum(axis = 0).tolist()"
   ]
  },
  {
   "cell_type": "code",
   "execution_count": 211,
   "metadata": {},
   "outputs": [
    {
     "data": {
      "text/plain": [
       "2"
      ]
     },
     "execution_count": 211,
     "metadata": {},
     "output_type": "execute_result"
    }
   ],
   "source": [
    "1+1"
   ]
  },
  {
   "cell_type": "code",
   "execution_count": 212,
   "metadata": {},
   "outputs": [
    {
     "name": "stdout",
     "output_type": "stream",
     "text": [
      "[master b352032] from notebook\n",
      " 1 file changed, 142 insertions(+), 94 deletions(-)\n"
     ]
    }
   ],
   "source": [
    "%%bash \n",
    "git commit -a -m\"from notebook\""
   ]
  },
  {
   "cell_type": "code",
   "execution_count": 207,
   "metadata": {},
   "outputs": [
    {
     "name": "stderr",
     "output_type": "stream",
     "text": [
      "warning: push.default is unset; its implicit value has changed in\n",
      "Git 2.0 from 'matching' to 'simple'. To squelch this message\n",
      "and maintain the traditional behavior, use:\n",
      "\n",
      "  git config --global push.default matching\n",
      "\n",
      "To squelch this message and adopt the new behavior now, use:\n",
      "\n",
      "  git config --global push.default simple\n",
      "\n",
      "When push.default is set to 'matching', git will push local branches\n",
      "to the remote branches that already exist with the same name.\n",
      "\n",
      "Since Git 2.0, Git defaults to the more conservative 'simple'\n",
      "behavior, which only pushes the current branch to the corresponding\n",
      "remote branch that 'git pull' uses to update the current branch.\n",
      "\n",
      "See 'git help config' and search for 'push.default' for further information.\n",
      "(the 'simple' mode was introduced in Git 1.7.11. Use the similar mode\n",
      "'current' instead of 'simple' if you sometimes use older versions of Git)\n",
      "\n",
      "fatal: could not read Username for 'https://github.com': No such device or address\n"
     ]
    }
   ],
   "source": [
    "%%bash \n",
    "git push"
   ]
  },
  {
   "cell_type": "markdown",
   "metadata": {},
   "source": [
    "#### 素性の重み\n",
    "73で学習したロジスティック回帰モデルの中で，重みの高い素性トップ10と，重みの低い素性トップ10を確認せよ．"
   ]
  },
  {
   "cell_type": "code",
   "execution_count": 213,
   "metadata": {},
   "outputs": [
    {
     "data": {
      "text/plain": [
       "(10662, 3439)"
      ]
     },
     "execution_count": 213,
     "metadata": {},
     "output_type": "execute_result"
    }
   ],
   "source": [
    "token_sum_matrix.shape"
   ]
  },
  {
   "cell_type": "code",
   "execution_count": 215,
   "metadata": {},
   "outputs": [],
   "source": [
    "token_sum_summary = token_sum_matrix.sum(axis = 0)"
   ]
  },
  {
   "cell_type": "code",
   "execution_count": 225,
   "metadata": {},
   "outputs": [],
   "source": [
    "token_order = token_sum_summary.argsort()"
   ]
  },
  {
   "cell_type": "code",
   "execution_count": 242,
   "metadata": {},
   "outputs": [],
   "source": [
    "sorted_features = [feature_names[i] for i in token_order.tolist()]"
   ]
  },
  {
   "cell_type": "code",
   "execution_count": 243,
   "metadata": {},
   "outputs": [
    {
     "data": {
      "text/plain": [
       "['-',\n",
       " 'well-intentioned',\n",
       " 'so-so',\n",
       " 'fast-paced',\n",
       " 'gross-out',\n",
       " 'u',\n",
       " 'self-indulgent',\n",
       " \"'70s\",\n",
       " '!',\n",
       " \"''\"]"
      ]
     },
     "execution_count": 243,
     "metadata": {},
     "output_type": "execute_result"
    }
   ],
   "source": [
    "\n",
    "sorted_features[:10]"
   ]
  },
  {
   "cell_type": "code",
   "execution_count": 244,
   "metadata": {},
   "outputs": [
    {
     "data": {
      "text/plain": [
       "['up',\n",
       " 'out',\n",
       " 'time',\n",
       " 'character',\n",
       " 'story',\n",
       " 'more',\n",
       " 'one',\n",
       " 'make',\n",
       " 'movie',\n",
       " 'film']"
      ]
     },
     "execution_count": 244,
     "metadata": {},
     "output_type": "execute_result"
    }
   ],
   "source": [
    "sorted_features[-10:]"
   ]
  },
  {
   "cell_type": "code",
   "execution_count": 226,
   "metadata": {},
   "outputs": [
    {
     "data": {
      "text/plain": [
       "array([    0.,     0.,     0., ...,   797.,  1602.,  1802.])"
      ]
     },
     "execution_count": 226,
     "metadata": {},
     "output_type": "execute_result"
    }
   ],
   "source": [
    "token_sum_summary[token_sum_summary.argsort()]\n"
   ]
  },
  {
   "cell_type": "markdown",
   "metadata": {},
   "source": [
    "#### ラベル付け\n",
    "学習データに対してロジスティック回帰モデルを適用し，正解のラベル，予測されたラベル，予測確率をタブ区切り形式で出力せよ．"
   ]
  },
  {
   "cell_type": "code",
   "execution_count": 263,
   "metadata": {},
   "outputs": [],
   "source": [
    "out6 = [\"{}\\t{}\\t{}\".format(y[i] , y_pred2[i] , max(fy_pred2[i,0] , 1-fy_pred2[i,0])) for i in range(len(y))]"
   ]
  },
  {
   "cell_type": "code",
   "execution_count": 265,
   "metadata": {},
   "outputs": [
    {
     "name": "stdout",
     "output_type": "stream",
     "text": [
      "-1.0\t-1\t0.633762083074387\n",
      "-1.0\t1\t0.525303131220722\n",
      "-1.0\t-1\t0.6472735732404634\n",
      "-1.0\t-1\t0.8835594420620706\n",
      "-1.0\t-1\t0.8016856898511299\n",
      "1.0\t1\t0.9010667407594842\n",
      "1.0\t-1\t0.7583124365637459\n",
      "1.0\t1\t0.5558477883619057\n",
      "1.0\t-1\t0.5214795540802553\n",
      "-1.0\t-1\t0.8734910496169361\n"
     ]
    },
    {
     "data": {
      "text/plain": [
       "[None, None, None, None, None, None, None, None, None, None]"
      ]
     },
     "execution_count": 265,
     "metadata": {},
     "output_type": "execute_result"
    }
   ],
   "source": [
    "[print(x) for  x in out6[0:10]]"
   ]
  },
  {
   "cell_type": "markdown",
   "metadata": {},
   "source": [
    "#### 正解率の計測\n",
    "76の出力を受け取り，予測の正解率，正例に関する適合率，再現率，F1スコアを求めるプログラムを作成せよ．"
   ]
  },
  {
   "cell_type": "code",
   "execution_count": 269,
   "metadata": {},
   "outputs": [],
   "source": [
    "TP = 0      # True-Positive     予想が+1、正解も+1\n",
    "FP = 0      # False-Positive    予想が+1、正解は-1\n",
    "FN = 0      # False-Negative    予想が-1、正解は+1\n",
    "TN = 0      # True-Negative     予想が-1、正解も-1"
   ]
  },
  {
   "cell_type": "code",
   "execution_count": 286,
   "metadata": {},
   "outputs": [],
   "source": [
    "for y in out6:\n",
    "    x = y.split('\\t')\n",
    "    p = float(x[1])\n",
    "    c = float(x[0])\n",
    "    if p > 0 and c > 0:\n",
    "        TP += 1\n",
    "    if p > 0 and c < 0:\n",
    "        FP += 1\n",
    "    if p < 0 and c > 0:\n",
    "        FN += 1\n",
    "    if p < 0 and c < 0:\n",
    "        TN += 1   "
   ]
  },
  {
   "cell_type": "code",
   "execution_count": 287,
   "metadata": {},
   "outputs": [
    {
     "data": {
      "text/plain": [
       "10662"
      ]
     },
     "execution_count": 287,
     "metadata": {},
     "output_type": "execute_result"
    }
   ],
   "source": [
    "TP+FP+FN+TN"
   ]
  },
  {
   "cell_type": "markdown",
   "metadata": {},
   "source": [
    "##### 正答率 : TP or TN の割合"
   ]
  },
  {
   "cell_type": "code",
   "execution_count": 288,
   "metadata": {},
   "outputs": [
    {
     "name": "stdout",
     "output_type": "stream",
     "text": [
      "正答率：0.8722566122678672\n"
     ]
    }
   ],
   "source": [
    "print(\"正答率：{}\".format((TP + TN) / (TP + FP + FN + TN)))"
   ]
  },
  {
   "cell_type": "markdown",
   "metadata": {},
   "source": [
    "##### 正例に関する適合率（precision rate）\n",
    "\n",
    "肯定的と予測したレビューの中で、実際に肯定的だったものの割合"
   ]
  },
  {
   "cell_type": "code",
   "execution_count": 296,
   "metadata": {},
   "outputs": [],
   "source": [
    "precision_rate = TP / (TP + FP)"
   ]
  },
  {
   "cell_type": "code",
   "execution_count": 298,
   "metadata": {},
   "outputs": [
    {
     "name": "stdout",
     "output_type": "stream",
     "text": [
      "正例に関する適合率 : 0.8732367876622156\n"
     ]
    }
   ],
   "source": [
    "print(\"正例に関する適合率 : {}\".format(precision_rate))"
   ]
  },
  {
   "cell_type": "markdown",
   "metadata": {},
   "source": [
    "##### 正例に関する再現率 (recall rate)"
   ]
  },
  {
   "cell_type": "markdown",
   "metadata": {},
   "source": [
    "実際に肯定的なレビューの中で、肯定的と予測できたものの割合"
   ]
  },
  {
   "cell_type": "code",
   "execution_count": 293,
   "metadata": {},
   "outputs": [],
   "source": [
    "recall_rate = TP / (TP + FN)"
   ]
  },
  {
   "cell_type": "code",
   "execution_count": 295,
   "metadata": {},
   "outputs": [
    {
     "name": "stdout",
     "output_type": "stream",
     "text": [
      "正例に関する再現率 : 0.8709435377977865\n"
     ]
    }
   ],
   "source": [
    "print(\"正例に関する再現率 : {}\".format(recall_rate))"
   ]
  },
  {
   "cell_type": "markdown",
   "metadata": {},
   "source": [
    "##### 正例に関するF1スコア"
   ]
  },
  {
   "cell_type": "markdown",
   "metadata": {},
   "source": [
    "F1スコア（Fスコア、F値、F-尺度などとも呼ばれます）は適合率と再現率のバランスを定量化したもの"
   ]
  },
  {
   "cell_type": "code",
   "execution_count": 299,
   "metadata": {},
   "outputs": [],
   "source": [
    "F1  =  2 * precision_rate * recall_rate / (precision_rate + recall_rate)"
   ]
  },
  {
   "cell_type": "code",
   "execution_count": 300,
   "metadata": {},
   "outputs": [
    {
     "name": "stdout",
     "output_type": "stream",
     "text": [
      "F1 score : 0.8720886551465064\n"
     ]
    }
   ],
   "source": [
    "print(\"F1 score : {}\".format(F1))"
   ]
  },
  {
   "cell_type": "markdown",
   "metadata": {},
   "source": [
    "##### python の &はビット演算なので使っちゃダメ！ and orをつかうべき"
   ]
  },
  {
   "cell_type": "markdown",
   "metadata": {},
   "source": [
    "\n",
    "https://www.pythonweb.jp/tutorial/num/index4.html"
   ]
  },
  {
   "cell_type": "code",
   "execution_count": 271,
   "metadata": {},
   "outputs": [
    {
     "data": {
      "text/plain": [
       "True"
      ]
     },
     "execution_count": 271,
     "metadata": {},
     "output_type": "execute_result"
    }
   ],
   "source": [
    "True and True"
   ]
  },
  {
   "cell_type": "markdown",
   "metadata": {},
   "source": [
    "####  5分割交差検定\n",
    "76-77の実験では，学習に用いた事例を評価にも用いたため，正当な評価とは言えない．\n",
    "\n",
    "すなわち，分類器が訓練事例を丸暗記する際の性能を評価しており，モデルの汎化性能を測定していない．\n",
    "\n",
    "そこで，5分割交差検定により，極性分類の正解率，適合率，再現率，F1スコアを求めよ．"
   ]
  },
  {
   "cell_type": "markdown",
   "metadata": {},
   "source": [
    "- 「K-分割交差検定」は、データをK分割して、そのうちの1つを検証用、残りを学習用とする方法\n",
    "- これを検証用のデータを切り替えながらK回繰り返して平均"
   ]
  },
  {
   "cell_type": "code",
   "execution_count": 307,
   "metadata": {},
   "outputs": [],
   "source": [
    "from sklearn.model_selection import cross_validate , cross_val_score"
   ]
  },
  {
   "cell_type": "code",
   "execution_count": 316,
   "metadata": {},
   "outputs": [],
   "source": [
    "from sklearn.model_selection import KFold\n"
   ]
  },
  {
   "cell_type": "code",
   "execution_count": 322,
   "metadata": {},
   "outputs": [],
   "source": [
    "kf = KFold(n_splits = 5)"
   ]
  },
  {
   "cell_type": "code",
   "execution_count": 321,
   "metadata": {},
   "outputs": [
    {
     "data": {
      "text/plain": [
       "5"
      ]
     },
     "execution_count": 321,
     "metadata": {},
     "output_type": "execute_result"
    }
   ],
   "source": [
    "kf.get_n_splits(X = token_sum_matrix , y = y)"
   ]
  },
  {
   "cell_type": "code",
   "execution_count": 343,
   "metadata": {},
   "outputs": [],
   "source": [
    "coefs = np.empty(shape = [5,token_sum_matrix.shape[1]])"
   ]
  },
  {
   "cell_type": "code",
   "execution_count": 392,
   "metadata": {},
   "outputs": [],
   "source": [
    "coefs = list()"
   ]
  },
  {
   "cell_type": "code",
   "execution_count": 393,
   "metadata": {},
   "outputs": [],
   "source": [
    "for train_index , test_index in kf.split(X=token_sum_matrix , y = y):\n",
    "    lr.fit(X = token_sum_matrix[train_index] , y = y[train_index])\n",
    "    run_coefs =  [lr.intercept_[0]]\n",
    "    run_coefs.extend(lr.coef_.tolist()[0])\n",
    "    coefs.append(run_coefs)\n",
    "    #coefs.append(lr.coef_.tolist()[0])\n",
    "    #coefs[i] = lr.coef_\n"
   ]
  },
  {
   "cell_type": "code",
   "execution_count": 375,
   "metadata": {},
   "outputs": [
    {
     "data": {
      "text/plain": [
       "[-0.37711610106086674,\n",
       " 0.5297047016088937,\n",
       " -0.09479860525923638,\n",
       " -0.3489697188567435,\n",
       " -0.007989790384911193,\n",
       " -0.0519774530876831,\n",
       " -0.04524665856217659,\n",
       " -0.7047377149674512,\n",
       " 0.7793685295343149,\n",
       " -1.2090238170628802,\n",
       " -1.6162898489499007,\n",
       " -0.1297772283998882,\n",
       " -0.9155900841702906,\n",
       " 0.0,\n",
       " -0.37827567991678623,\n",
       " 0.15416294299074212,\n",
       " 0.0581039257415934,\n",
       " -0.2241173638326022,\n",
       " -1.289528097378563,\n",
       " -0.046338621230901066,\n",
       " -0.0905035660776834,\n",
       " 0.02245050330300431,\n",
       " 0.8679007699368997,\n",
       " 0.18938485342038905,\n",
       " 0.26441478736672885,\n",
       " 0.21754397304026757,\n",
       " 0.12202263614891029,\n",
       " -0.23841467690526413,\n",
       " -0.39759880623734273,\n",
       " 0.03304751710927885,\n",
       " -0.2689380058222746,\n",
       " 0.392961094313234,\n",
       " 0.09983069941232808,\n",
       " 0.08700561767926977,\n",
       " -0.6007432479022705,\n",
       " 0.42096230765205533,\n",
       " 0.25809912610413466,\n",
       " 0.1787948501662123,\n",
       " 0.5376251106811913,\n",
       " 0.035334336660525476,\n",
       " -0.25158123980842634,\n",
       " -0.9359234445566432,\n",
       " 0.7597291685898395,\n",
       " -0.010932777829600797,\n",
       " -0.23989539223871625,\n",
       " 0.39786554721765854,\n",
       " -0.10832474394781044,\n",
       " -0.49249027007872764,\n",
       " 0.6400118783556681,\n",
       " 0.12486088648890152,\n",
       " 0.3255266891135895,\n",
       " 0.5324808327574155,\n",
       " -0.48984564135183656,\n",
       " -0.33680997051486333,\n",
       " -0.28562482206899564,\n",
       " -0.2956093662567895,\n",
       " 0.5581254795093987,\n",
       " 0.006536084794812475,\n",
       " 0.03261058896672914,\n",
       " 0.2060218195423007,\n",
       " 1.2766160400036244,\n",
       " 0.7080857829220647,\n",
       " -0.5086636331781723,\n",
       " 1.0562552607982827,\n",
       " -0.5390369011931969,\n",
       " -0.3417295824298354,\n",
       " -0.7321180858589558,\n",
       " -1.4233827673876822,\n",
       " 0.4495392459390248,\n",
       " 0.3968086535300705,\n",
       " 0.761480802045569,\n",
       " -0.17996847914884456,\n",
       " -0.3166213846113387,\n",
       " -0.48353595035501046,\n",
       " 0.4306414204762711,\n",
       " 0.11181979989113495,\n",
       " 0.4892489623587824,\n",
       " -0.45627629621514215,\n",
       " 0.20657610564074072,\n",
       " 0.4452149887191956,\n",
       " -0.31981806755928993,\n",
       " -0.6772488189293988,\n",
       " -1.0000948208128502,\n",
       " -0.010366266829098053,\n",
       " 0.7361440660397263,\n",
       " 0.675757236799754,\n",
       " -0.7054692702588315,\n",
       " -0.827928795232803,\n",
       " 0.6044315438799592,\n",
       " 0.9237473176470152,\n",
       " 0.6082160128924055,\n",
       " 0.5096084710315958,\n",
       " -0.007404000398155964,\n",
       " 0.40820517042773946,\n",
       " 0.16516204225249292,\n",
       " 0.17599579405568144,\n",
       " -0.4587017470113808,\n",
       " 1.0227606993962055,\n",
       " 0.5456891768005956,\n",
       " 0.37833270172557476,\n",
       " 1.9539440040410092,\n",
       " -0.7034197488937187,\n",
       " -0.3578180546878254,\n",
       " 0.5672275741842249,\n",
       " 0.9080725030736916,\n",
       " 0.7404682924331611,\n",
       " -0.7549161327034051,\n",
       " 0.0,\n",
       " -0.0290250031427867,\n",
       " -0.44478408972518746,\n",
       " -0.16425496949215834,\n",
       " 0.5245843946981245,\n",
       " 0.6203594997034572,\n",
       " 0.7671448078604938,\n",
       " 0.09646201104864792,\n",
       " -0.05676371349236419,\n",
       " 1.3850035965056788,\n",
       " -0.8380955858535672,\n",
       " -1.3300591628243705,\n",
       " 0.4194312803656139,\n",
       " -0.12833897675146544,\n",
       " 0.6438710159460721,\n",
       " -0.3091264200615702,\n",
       " -0.187304578515401,\n",
       " -1.7669591197531325,\n",
       " 0.23028392679643442,\n",
       " 0.04824865082091941,\n",
       " -0.023152338296233997,\n",
       " 0.4311053147975236,\n",
       " 0.09395528139968988,\n",
       " -0.14882347907140817,\n",
       " 0.46243668665774956,\n",
       " 0.07481543198458916,\n",
       " 0.7822275218585752,\n",
       " 0.4717036937421566,\n",
       " 0.2990066530880251,\n",
       " 0.3063433596922745,\n",
       " -1.0856787839072342,\n",
       " 0.08949579363318425,\n",
       " -0.4019944865730352,\n",
       " -0.039102643682186175,\n",
       " -0.3293709186118692,\n",
       " -0.09076886241108655,\n",
       " -0.4674088871760562,\n",
       " -0.32254212109773855,\n",
       " -0.45604659731519964,\n",
       " -0.05438379223810361,\n",
       " 0.5786335221023498,\n",
       " 0.06333671336975896,\n",
       " 0.24537781958108523,\n",
       " 0.18162618091129654,\n",
       " -0.35288135256224273,\n",
       " 0.07081829727911351,\n",
       " -0.15916041702405323,\n",
       " -1.502361064333373,\n",
       " -0.40925693806014163,\n",
       " -0.035872538081686535,\n",
       " 0.46083379213068354,\n",
       " -0.6126426463045537,\n",
       " 0.4940489381738476,\n",
       " -0.5040323005129934,\n",
       " 0.0,\n",
       " -0.7524292447022841,\n",
       " 0.6265749341097692,\n",
       " -1.0332929097832344,\n",
       " 0.627282989542092,\n",
       " 0.41189260031244534,\n",
       " -0.606697754469037,\n",
       " 0.879146384533851,\n",
       " 0.6199574907728859,\n",
       " 0.3444712717518871,\n",
       " 0.11929636799675024,\n",
       " 0.7543097872907886,\n",
       " 0.7009860134663222,\n",
       " 0.0882886199870334,\n",
       " -0.27631443549420387,\n",
       " 0.37818135751324594,\n",
       " -0.3050457831087387,\n",
       " 0.15960287628216768,\n",
       " 0.8689177544277734,\n",
       " -0.42263629891305265,\n",
       " -0.10353018956437998,\n",
       " -0.05724410441417542,\n",
       " -0.7481957358930226,\n",
       " -0.08309539870721194,\n",
       " 0.8969261419424694,\n",
       " -0.9318016917701119,\n",
       " -0.01162655966663921,\n",
       " 0.7955331559892119,\n",
       " -0.47992525881792564,\n",
       " -0.20453674825782545,\n",
       " 0.042425928619384365,\n",
       " -0.40088798012229654,\n",
       " 0.302215399078651,\n",
       " 0.10293942081020367,\n",
       " 0.5526523143629672,\n",
       " 0.5825409053991606,\n",
       " -0.8214878329907708,\n",
       " -0.47366962892280684,\n",
       " -1.444095974882492,\n",
       " 0.3574174192080227,\n",
       " 0.46348806702190304,\n",
       " -0.6137166195608019,\n",
       " 0.29259095145706626,\n",
       " -0.38963477654553286,\n",
       " 0.2867564085061347,\n",
       " 0.27392644212124134,\n",
       " -1.3327969662940393,\n",
       " -0.9795945162485239,\n",
       " -0.7155819900235644,\n",
       " 0.2237165831210878,\n",
       " 0.19358865236101658,\n",
       " 0.34276042929913836,\n",
       " 0.15889103627702023,\n",
       " 0.23168188551980942,\n",
       " -1.2414729014538688,\n",
       " 0.8776576361142814,\n",
       " -0.11293666041089345,\n",
       " -0.3206806957664475,\n",
       " -0.7715415590292914,\n",
       " 0.0,\n",
       " -0.6549812114755931,\n",
       " -0.8007117793976288,\n",
       " -0.22125378518521752,\n",
       " -0.1704971440783144,\n",
       " 0.4506082875924645,\n",
       " 0.5763557695143275,\n",
       " 0.36994202344557553,\n",
       " -0.2448952435456569,\n",
       " 0.6573067211959472,\n",
       " -0.8060621989380506,\n",
       " 0.09001128545983855,\n",
       " 0.06069763240500025,\n",
       " -0.28682612348385295,\n",
       " -0.1435804595625092,\n",
       " 0.4398124240090131,\n",
       " -0.04622505195635567,\n",
       " 0.01618216371903557,\n",
       " 0.540558666510613,\n",
       " -1.136043969429022,\n",
       " -0.8245174239594034,\n",
       " 0.005661855210192835,\n",
       " -0.8479069565640779,\n",
       " -0.5718810289596229,\n",
       " -0.13465803982053942,\n",
       " 0.9533226180182942,\n",
       " -0.8928104489001082,\n",
       " -0.4586115603467003,\n",
       " 0.3351289024027622,\n",
       " 0.48810020641256985,\n",
       " 0.5724159961780461,\n",
       " -0.0009274331401568904,\n",
       " 0.850811920392623,\n",
       " -0.7712223828399817,\n",
       " 0.3060475366507139,\n",
       " 0.04072777817618161,\n",
       " -0.6004916952631465,\n",
       " -0.07418529624269807,\n",
       " -0.44381584136377605,\n",
       " 0.0520081786947286,\n",
       " 0.2135943762279959,\n",
       " -1.299297719100499,\n",
       " -0.14601809792582948,\n",
       " 0.6044623809854579,\n",
       " -0.8049016557816856,\n",
       " -0.18565933107069604,\n",
       " -0.42258375234120404,\n",
       " -0.9574115279003146,\n",
       " 0.9318565045404713,\n",
       " -0.007050274304956227,\n",
       " -0.23303853975171993,\n",
       " 0.7138945389380107,\n",
       " -0.46464807956808746,\n",
       " -0.2031841062920496,\n",
       " 0.09765112361604167,\n",
       " -1.389406577939009,\n",
       " 0.74156612207761,\n",
       " -0.06333487933503956,\n",
       " -0.3371080482161142,\n",
       " -0.19985984252998756,\n",
       " 0.3095006811226531,\n",
       " 0.2284949475461867,\n",
       " 0.3328233741241175,\n",
       " -0.5339453870251987,\n",
       " -0.4705107772379218,\n",
       " -0.5396326628534694,\n",
       " 0.14848145074030766,\n",
       " -0.13886813983108356,\n",
       " 0.4769915487269102,\n",
       " 0.7894205978493306,\n",
       " 0.703295111483896,\n",
       " 0.05272243412282577,\n",
       " 0.4287182106375384,\n",
       " -0.6984196177707315,\n",
       " -0.11844985997427745,\n",
       " 0.7201715406605738,\n",
       " 0.2966944408622419,\n",
       " -0.35402857927108783,\n",
       " 1.7650135735744605,\n",
       " -0.47886324158818666,\n",
       " -0.25313801205846637,\n",
       " 0.09822666555076971,\n",
       " -0.9171689745106885,\n",
       " -0.18243428750179508,\n",
       " 0.3353787552477748,\n",
       " 0.887015238314258,\n",
       " 0.6738470382602223,\n",
       " 0.1171218359652879,\n",
       " -0.3359790923219235,\n",
       " -1.1230086493835187,\n",
       " 1.361557920767356,\n",
       " 0.3223248011287851,\n",
       " -0.6521594867138499,\n",
       " -0.37807840532237674,\n",
       " 0.4913506634743702,\n",
       " 0.16529872628862566,\n",
       " 0.5857447246060805,\n",
       " 0.13019498415867867,\n",
       " -0.7555398324494266,\n",
       " -0.8077000056279896,\n",
       " 0.07521745419406585,\n",
       " 0.4153255676151257,\n",
       " -0.08315083002522324,\n",
       " 0.008134965938023472,\n",
       " -0.21626614013329154,\n",
       " -0.12553403463724755,\n",
       " -1.025215154316624,\n",
       " 1.008075628030834,\n",
       " -1.8982029511739222,\n",
       " -0.674847348848166,\n",
       " -0.511288626997389,\n",
       " -0.4413172916396825,\n",
       " -0.8600807820900506,\n",
       " 0.7999111439402729,\n",
       " -0.6888944148906,\n",
       " -0.7177657026561498,\n",
       " -0.6161045244158754,\n",
       " -0.02217295152019645,\n",
       " -0.5013678409943982,\n",
       " 1.0144051808958474,\n",
       " -0.33991769727069615,\n",
       " -1.7122695775865064,\n",
       " 0.21068281116030627,\n",
       " 0.6996709940906533,\n",
       " -0.0895564420321578,\n",
       " -0.4662913937239704,\n",
       " 0.2778267915198472,\n",
       " 0.8997475340764083,\n",
       " -0.3241289150781067,\n",
       " 0.5615239845004018,\n",
       " -0.20185392912417155,\n",
       " -0.13382143223495652,\n",
       " 0.47471875351650467,\n",
       " 0.35275675122680605,\n",
       " 0.0,\n",
       " 0.1550953059528825,\n",
       " 0.20265231267991657,\n",
       " -0.4289594114950596,\n",
       " 0.38871352341248144,\n",
       " 0.8847130420062265,\n",
       " -0.1548911981030722,\n",
       " 0.2970314350398167,\n",
       " -0.41968964651231566,\n",
       " 0.6418116111806152,\n",
       " 0.49374220288390935,\n",
       " 0.09531772401607666,\n",
       " 0.5363906001566987,\n",
       " 0.06109548963257882,\n",
       " 0.9132816295843058,\n",
       " 0.7195890720123628,\n",
       " 0.9747251077565009,\n",
       " -0.15714320193469733,\n",
       " 0.5522079501461079,\n",
       " 0.7723551049824333,\n",
       " 0.16902742062054654,\n",
       " -0.23412080494419266,\n",
       " 0.059469814391308246,\n",
       " -0.5889610341910585,\n",
       " 0.32274800445668056,\n",
       " 0.44793121872399555,\n",
       " 0.07821783785418637,\n",
       " 0.556332584416847,\n",
       " 0.33716274889637127,\n",
       " 0.0,\n",
       " 0.42132552382843214,\n",
       " -0.2554342269913915,\n",
       " 0.49423743873832976,\n",
       " 0.2037329726007699,\n",
       " -0.3496141427561108,\n",
       " 0.15442256615120403,\n",
       " -0.1470548883009689,\n",
       " 1.1189571525323785,\n",
       " 0.06589813943883495,\n",
       " -0.36454796184894706,\n",
       " 0.7557737354304402,\n",
       " 0.6321150254643357,\n",
       " 0.8182331180025356,\n",
       " 0.8240210296264114,\n",
       " -1.372756746942874,\n",
       " 0.6518448774234012,\n",
       " -0.8135211377758769,\n",
       " -1.1050171605293515,\n",
       " 0.28880114502941145,\n",
       " 0.04789791032810482,\n",
       " 0.4586446317984878,\n",
       " -0.044239551826379606,\n",
       " -0.6926335629265395,\n",
       " 0.02055665902686497,\n",
       " 0.3026267234525268,\n",
       " -0.5855999435802963,\n",
       " 0.4530225346219013,\n",
       " -0.4675591421537594,\n",
       " 0.5552550446793161,\n",
       " 0.9021087970495598,\n",
       " -0.39550888773860615,\n",
       " 0.0915630531372125,\n",
       " 0.21787475257237876,\n",
       " 1.247909798461065,\n",
       " -0.14700124031443726,\n",
       " -0.17071766804455973,\n",
       " -0.15757114177024184,\n",
       " -0.5117813104667569,\n",
       " 0.34394912874834904,\n",
       " -0.040072660254523114,\n",
       " 0.5024617226525002,\n",
       " 0.49800533508755573,\n",
       " 0.8329129950344477,\n",
       " 0.6284899418929408,\n",
       " 0.9907388142748428,\n",
       " -0.2607370144885241,\n",
       " 0.730380161819952,\n",
       " -0.8536027073241751,\n",
       " 1.0040611719056751,\n",
       " -0.3867321991205164,\n",
       " 0.1355880342153627,\n",
       " -0.18793613663839803,\n",
       " 0.0,\n",
       " -0.3922874657014753,\n",
       " 0.402051557823547,\n",
       " -0.3626994137417745,\n",
       " -0.5748351351808267,\n",
       " 0.5861632259925118,\n",
       " 0.09237610825030469,\n",
       " -0.2588920359027628,\n",
       " -0.8581719594649675,\n",
       " 0.8894845788004299,\n",
       " -0.27324099235609445,\n",
       " -1.459514035135405,\n",
       " -1.7155892344237795,\n",
       " 0.2259030645970167,\n",
       " 0.5778068513718753,\n",
       " 1.1222098417200144,\n",
       " -0.09892061034532841,\n",
       " -0.6103997430158963,\n",
       " 0.0770309115325995,\n",
       " 0.5303992563295677,\n",
       " 0.020331753599944838,\n",
       " -0.541879916047008,\n",
       " -0.6492990737150135,\n",
       " -0.6096873209907802,\n",
       " -0.04827057660161829,\n",
       " -0.35041786750935194,\n",
       " 0.9707231160397176,\n",
       " -0.2924453151391958,\n",
       " -0.3583833835945406,\n",
       " -0.17340303170795152,\n",
       " 0.80333243375661,\n",
       " 0.4532909296866118,\n",
       " -0.10666693101715018,\n",
       " -0.30047653348492714,\n",
       " -0.21805077881696458,\n",
       " -0.07635169154264038,\n",
       " -0.6339710729634437,\n",
       " 0.40010037867608844,\n",
       " -0.2850847742950982,\n",
       " -0.04115084670969306,\n",
       " 0.48778596698088694,\n",
       " -0.3891950335381476,\n",
       " -0.1444058669918272,\n",
       " 0.0,\n",
       " 1.0522035402299785,\n",
       " -1.0368280308923505,\n",
       " -0.5590721554529072,\n",
       " 0.0,\n",
       " -0.4295328559517994,\n",
       " 0.8114798888710985,\n",
       " 0.10410927208304865,\n",
       " -0.6740487037499774,\n",
       " -0.8799898116240679,\n",
       " 0.8798872037693553,\n",
       " -0.1813172921779328,\n",
       " 0.6300827372352186,\n",
       " 0.14288702820092664,\n",
       " -0.008594689241932466,\n",
       " 0.19924283399282428,\n",
       " -1.0735121143177417,\n",
       " 1.236419318664666,\n",
       " -0.7877214196152279,\n",
       " 0.03782769360831013,\n",
       " -0.49271865138314086,\n",
       " 0.8453424858616178,\n",
       " -0.08927032079835256,\n",
       " -0.3327864205068883,\n",
       " -0.4965213639076529,\n",
       " 0.20816498762367913,\n",
       " 0.7493326242169276,\n",
       " 0.3297658945888779,\n",
       " -0.004843567191329869,\n",
       " 0.29795214557840605,\n",
       " -0.6188521013252938,\n",
       " -0.4579230788606107,\n",
       " 0.0,\n",
       " 0.26975228253167827,\n",
       " -0.584394566246585,\n",
       " 1.4017028357926893,\n",
       " 0.8820888059358564,\n",
       " -0.5875762399551483,\n",
       " -0.6678933190221489,\n",
       " 0.8747584436099827,\n",
       " -0.8205112404410929,\n",
       " -1.3024222189609298,\n",
       " 0.28324488459805286,\n",
       " 0.1595450460546138,\n",
       " 0.8473047473498184,\n",
       " -0.5994149664547967,\n",
       " -0.19102316586084453,\n",
       " -0.43178587524005996,\n",
       " 0.10860093260767036,\n",
       " 0.7113249002109261,\n",
       " -0.27095456965190295,\n",
       " -0.5633077763187052,\n",
       " 0.14261156455260976,\n",
       " 0.43976572994806856,\n",
       " 0.3751812861889002,\n",
       " 0.4249109157594557,\n",
       " 0.622079418179483,\n",
       " -0.25932056282513566,\n",
       " 0.5199049031900346,\n",
       " -0.20978513193112241,\n",
       " 0.14685210002441376,\n",
       " 0.3927201409650595,\n",
       " -0.8075688237424026,\n",
       " 0.06678864395428061,\n",
       " 0.7282319336963903,\n",
       " -0.7141265470357405,\n",
       " -0.46587643745985785,\n",
       " 0.4253773708307145,\n",
       " 0.0,\n",
       " 0.7346964138051247,\n",
       " -0.3471903883465376,\n",
       " 0.017354468625943746,\n",
       " -0.09115003717879878,\n",
       " 0.4600340521707665,\n",
       " -0.6423961602531543,\n",
       " 0.10749336491147193,\n",
       " 0.5864812162533353,\n",
       " -0.03590306178572414,\n",
       " 0.11372880843059446,\n",
       " -0.6634455111838816,\n",
       " 1.2420767289128682,\n",
       " 0.19998384723805493,\n",
       " -0.35273130315065226,\n",
       " 0.44471377188410055,\n",
       " 0.0,\n",
       " 0.5849787304306083,\n",
       " -0.05841783330568448,\n",
       " 0.817154990133864,\n",
       " -0.8105501495306773,\n",
       " 0.23401958339909407,\n",
       " 0.9065571436421124,\n",
       " -0.20991725918310347,\n",
       " -0.5714346834573155,\n",
       " 0.4325199063143747,\n",
       " -0.040457474742750174,\n",
       " 0.10065794994785357,\n",
       " 0.05758657038131289,\n",
       " 0.2606716634948017,\n",
       " -0.1246539966024397,\n",
       " 0.8771472763932061,\n",
       " -0.18884691302319054,\n",
       " -0.5122079585261601,\n",
       " -0.2977466353489078,\n",
       " 0.6673117000370695,\n",
       " -0.2262317462589523,\n",
       " -0.4179593666747282,\n",
       " -0.14700629579100288,\n",
       " 0.08183698646239947,\n",
       " -0.1914572284989972,\n",
       " -1.103750073944274,\n",
       " 0.21632313501737493,\n",
       " -0.08785437034067681,\n",
       " 0.0,\n",
       " 0.8081106853333541,\n",
       " 0.024665832209888043,\n",
       " 0.11102640247184575,\n",
       " -0.6489561393100952,\n",
       " 0.2767004402648311,\n",
       " -0.19822154369518197,\n",
       " 0.8252757747306014,\n",
       " 0.02762675062200126,\n",
       " -0.06713913130296911,\n",
       " -0.5171861807384271,\n",
       " 0.09083481482594262,\n",
       " 1.0845490456807279,\n",
       " 0.9328270214681267,\n",
       " -0.5625911467198113,\n",
       " -0.598778672921463,\n",
       " 0.6728128239794345,\n",
       " 0.9381130754414767,\n",
       " 1.001702246271681,\n",
       " 0.20084133356435452,\n",
       " -0.23554268993304994,\n",
       " -0.46597528406150035,\n",
       " 0.8223989568973714,\n",
       " 1.134952588338386,\n",
       " 0.40993047124819537,\n",
       " 0.20945111659244647,\n",
       " -1.182375343161785,\n",
       " -0.21015158573667542,\n",
       " 1.0534288540906438,\n",
       " -1.0671517254492453,\n",
       " -0.8106081319370816,\n",
       " -1.0197522444565237,\n",
       " 0.43905685964511,\n",
       " 0.27775492670064134,\n",
       " 0.7044219334686936,\n",
       " 0.0,\n",
       " -0.0023921961640024376,\n",
       " 0.592968047126899,\n",
       " -0.010913553193438535,\n",
       " 0.0,\n",
       " -0.20433076312149712,\n",
       " -0.7556176714254975,\n",
       " 0.06799033540761189,\n",
       " -0.009738741652897226,\n",
       " 1.0076464063376425,\n",
       " 0.7977981238017822,\n",
       " -0.8763505365870045,\n",
       " -0.1313847376278985,\n",
       " -0.7561821700918989,\n",
       " -1.0222423961239935,\n",
       " 0.5738080699433219,\n",
       " -0.5835180427322602,\n",
       " 0.2665617870700995,\n",
       " 0.6101418131224923,\n",
       " 0.4275043123266447,\n",
       " 0.0,\n",
       " -0.35223806946440983,\n",
       " 0.015085350271714986,\n",
       " -0.6211937950489321,\n",
       " -0.21503781216000392,\n",
       " -0.12898922541047028,\n",
       " 0.25866987303165456,\n",
       " -0.7766428838103702,\n",
       " 0.34165856501397157,\n",
       " 0.3430208218219255,\n",
       " -0.46714014683042976,\n",
       " 0.0,\n",
       " 0.43462409223032145,\n",
       " 0.1477052668838858,\n",
       " -0.30876826719109707,\n",
       " 0.032730548427190184,\n",
       " 0.1658553538224917,\n",
       " 0.10768260704811868,\n",
       " -0.5829844291020321,\n",
       " -0.03551657827329059,\n",
       " -1.1088310697808057,\n",
       " -0.028623663318700844,\n",
       " -0.4267519187092901,\n",
       " -0.8081134457100952,\n",
       " -0.24886867593600737,\n",
       " 0.16067722526907846,\n",
       " -0.09801669929486166,\n",
       " -0.5103534054312856,\n",
       " -1.032521111009258,\n",
       " 0.1222381131520806,\n",
       " 0.0801581837310064,\n",
       " 1.105746265874379,\n",
       " 0.867131177899562,\n",
       " 0.22333247791730437,\n",
       " -0.5093391875566162,\n",
       " -0.29061398116321485,\n",
       " 1.041357666021159,\n",
       " 0.5559457581930514,\n",
       " -0.5376928779564525,\n",
       " 0.0,\n",
       " -0.16032398002593434,\n",
       " 1.0288714504108243,\n",
       " -0.020602230323325536,\n",
       " 0.6401598881031646,\n",
       " 0.21635022145005967,\n",
       " 0.5135501562186097,\n",
       " 0.8213788870244464,\n",
       " -0.5187616347144958,\n",
       " 0.38838185644965806,\n",
       " 0.27985920290963295,\n",
       " 0.13422789342955446,\n",
       " -0.41040372116019586,\n",
       " -0.4138444876459127,\n",
       " -0.5624774089003484,\n",
       " 0.5082896252496887,\n",
       " 0.2713577111803562,\n",
       " 1.0355364967497538,\n",
       " 0.23311879890120452,\n",
       " -0.42245235954663857,\n",
       " 0.4302368115054199,\n",
       " 1.1656655388789916,\n",
       " 0.7078405139322214,\n",
       " 0.13437854172999436,\n",
       " -1.2035988689741206,\n",
       " 0.489140411708285,\n",
       " -0.3161161956649347,\n",
       " 0.8248292981681167,\n",
       " 0.3997590619234406,\n",
       " -0.9827729169345303,\n",
       " -0.30746234787330734,\n",
       " 1.0044996670840591,\n",
       " 0.2353914688918797,\n",
       " -0.45430445857730745,\n",
       " 0.005297430289586132,\n",
       " -1.4864941413415633,\n",
       " -0.789835284983888,\n",
       " 0.8008335809699294,\n",
       " -0.8744268693380397,\n",
       " 0.0,\n",
       " -0.4781157816534575,\n",
       " 0.2629073204230927,\n",
       " -0.463503362096925,\n",
       " 0.11453705585058091,\n",
       " 0.0676704031504697,\n",
       " 0.1338640124496773,\n",
       " -0.9803103950380668,\n",
       " 0.5455178718489633,\n",
       " -0.33717614799761497,\n",
       " 0.33651490387986593,\n",
       " 0.6097280054314416,\n",
       " 1.4363405260198023,\n",
       " 0.19635645554477119,\n",
       " -0.28918801875275835,\n",
       " 0.33453375818838815,\n",
       " -0.17887813334075608,\n",
       " -0.7909178254787131,\n",
       " -0.3614085942725674,\n",
       " 0.483327796024853,\n",
       " -0.8469810060201001,\n",
       " 0.22059778013085066,\n",
       " 0.15511004008156554,\n",
       " 0.45700320397980476,\n",
       " -0.6755391134932176,\n",
       " -0.11362717321888968,\n",
       " -0.5744772532748162,\n",
       " -0.3448672975700729,\n",
       " 0.0,\n",
       " 0.39933791845821726,\n",
       " -0.37977140199796533,\n",
       " -0.30906346891430053,\n",
       " 0.4720542625847382,\n",
       " -0.4078548331200749,\n",
       " 0.050502158370436666,\n",
       " -0.5197071945287203,\n",
       " 0.23495945035836485,\n",
       " 0.9229155038905696,\n",
       " 0.47454342322572723,\n",
       " 0.0,\n",
       " 0.10258211289403422,\n",
       " -0.5548940589799697,\n",
       " 0.5041265282698515,\n",
       " -0.2723114425022945,\n",
       " -0.4805656407671981,\n",
       " 1.0486147193474271,\n",
       " 0.5647576527556284,\n",
       " 0.4281686840546319,\n",
       " -0.5595986353491104,\n",
       " 1.2986759984293388,\n",
       " 0.794357174894975,\n",
       " -0.24153070739622096,\n",
       " 0.19043183508237335,\n",
       " -1.3767506113908594,\n",
       " 0.9217335460730778,\n",
       " 1.2111266770351599,\n",
       " -0.2221418142231144,\n",
       " 0.6279986276888855,\n",
       " -0.4289489692069099,\n",
       " -0.6061630941512878,\n",
       " 0.7568598415441582,\n",
       " -1.1049815941711219,\n",
       " -0.2538887181984145,\n",
       " 0.40821405423202634,\n",
       " 0.4069365122589236,\n",
       " 0.0,\n",
       " -0.7581878971472853,\n",
       " 0.3897256227751044,\n",
       " -0.3671379144439386,\n",
       " -0.3231612966700115,\n",
       " 0.13819688203503847,\n",
       " -0.7736118871787926,\n",
       " -0.11666308046607743,\n",
       " 0.9419549575071524,\n",
       " 0.33206532370588127,\n",
       " 1.2760701958271867,\n",
       " 0.3227328362031391,\n",
       " -0.044309766703765976,\n",
       " 0.14430151236631644,\n",
       " 0.42156088274133935,\n",
       " -0.22203050764576646,\n",
       " -0.4816144291358697,\n",
       " 0.6461081912582267,\n",
       " -0.8990707535683434,\n",
       " -0.21259366263676036,\n",
       " -0.27302445538066544,\n",
       " 0.35054769477347003,\n",
       " -0.5128123133059441,\n",
       " 0.3405864417262556,\n",
       " -0.1381036621690742,\n",
       " 0.8029665049500515,\n",
       " 0.09393858900811398,\n",
       " 0.1947597397909172,\n",
       " 0.001898371928743953,\n",
       " -0.848190664064824,\n",
       " -0.4472473462680554,\n",
       " -0.04185343932081027,\n",
       " 0.5838005008073726,\n",
       " -0.16913563036122053,\n",
       " 0.34801037262565826,\n",
       " -0.8500800026433417,\n",
       " -0.595639625898746,\n",
       " 0.9558173759537353,\n",
       " 1.0784877700653783,\n",
       " -0.8533246928436597,\n",
       " -0.2133131960372357,\n",
       " 0.6124954527960279,\n",
       " -0.6548667109362061,\n",
       " 0.24506207642165748,\n",
       " -1.2059917874214803,\n",
       " 0.6746973199818745,\n",
       " -0.09111542358089218,\n",
       " -0.25809523633461956,\n",
       " -0.5036387446317881,\n",
       " 0.052842765933287225,\n",
       " -0.6740618099374315,\n",
       " -0.5502051916643521,\n",
       " -0.35060901458446414,\n",
       " -0.7801489994509463,\n",
       " -0.43177597319118477,\n",
       " 0.0,\n",
       " -0.3820709219217124,\n",
       " -0.9637275450063955,\n",
       " 0.24847067632372688,\n",
       " 0.6201379767936112,\n",
       " -0.1343706903608043,\n",
       " 1.1243736268044633,\n",
       " -0.9235832603828333,\n",
       " 1.290035315822404,\n",
       " -0.821058950491156,\n",
       " 1.3161457275726591,\n",
       " 0.4686500585958539,\n",
       " -0.3747914341956027,\n",
       " -0.9176119594653583,\n",
       " -0.352845982468526,\n",
       " 0.7124921441638874,\n",
       " 1.260380558917809,\n",
       " 0.720050375177428,\n",
       " -0.5899609841516432,\n",
       " 0.2354973351571237,\n",
       " 0.5425442153796552,\n",
       " -0.4063338842464615,\n",
       " -0.4104157476917722,\n",
       " -1.1290230874301308,\n",
       " 0.29149444040149836,\n",
       " -0.21180020544213063,\n",
       " 0.49800621668058476,\n",
       " 0.04688680818221699,\n",
       " -0.18441286358598444,\n",
       " 0.6917659354509903,\n",
       " 0.20916646483439671,\n",
       " 0.06901858015413659,\n",
       " -0.04851924359339176,\n",
       " -0.00453004298169787,\n",
       " 0.4754532710607063,\n",
       " -0.054219860629868326,\n",
       " 0.0,\n",
       " 0.7026861612347752,\n",
       " -0.04946993756280359,\n",
       " -0.5558431391291451,\n",
       " 0.7977578878647145,\n",
       " -0.8052732090920645,\n",
       " 0.3804824262378505,\n",
       " -0.07181786733356704,\n",
       " 0.993326098365944,\n",
       " -0.8044206782748188,\n",
       " -0.11009689245663898,\n",
       " 0.10147667601754132,\n",
       " -0.11626090628020967,\n",
       " -0.4023452429449705,\n",
       " 0.12695802183989074,\n",
       " -0.010345699412741867,\n",
       " -0.15193395223309963,\n",
       " -0.07110861999714749,\n",
       " -0.40773107583548945,\n",
       " -1.0984819866221187,\n",
       " -0.2974078517288737,\n",
       " 0.4418249214170386,\n",
       " 0.6866286472264471,\n",
       " 0.5111013480212356,\n",
       " 0.7146285770499049,\n",
       " 0.0,\n",
       " -1.4087791744995446,\n",
       " -0.11815782219639973,\n",
       " 0.0627463771669341,\n",
       " -0.31491149510727473,\n",
       " 0.15151433983206072,\n",
       " -0.17292286776447685,\n",
       " -0.1407717790067455,\n",
       " -0.8045500135079557,\n",
       " 0.05868489226950096,\n",
       " 0.37676652853629594,\n",
       " -0.019412943303913327,\n",
       " 0.07704529716907403,\n",
       " -0.6553910303722499,\n",
       " -0.7253254508654992,\n",
       " 0.05183113556747856,\n",
       " 0.0712929730873084,\n",
       " 0.3252816206622038,\n",
       " 0.14453008166436537,\n",
       " -0.5577577102599932,\n",
       " -0.2157292534519011,\n",
       " 0.06660771474599753,\n",
       " -0.25731944147896546,\n",
       " 0.19872355630716726,\n",
       " 0.23299162762013562,\n",
       " 0.7080058204668109,\n",
       " -0.8649759781055633,\n",
       " 0.0,\n",
       " 0.06170498124445401,\n",
       " -0.3813854259651499,\n",
       " 0.27857768954189377,\n",
       " -0.030954642449977927,\n",
       " -0.5611930917624662,\n",
       " -0.5288788481560368,\n",
       " -0.28649717825319954,\n",
       " -0.20545473444492826,\n",
       " 0.1881453733417307,\n",
       " 0.5007884026652318,\n",
       " -0.24200239766080342,\n",
       " -1.4071956877324974,\n",
       " -0.332878941702554,\n",
       " -0.20482095366715156,\n",
       " -0.17246004980486687,\n",
       " 0.1536738189526111,\n",
       " 0.20856215702514647,\n",
       " -0.18728116988938004,\n",
       " 0.5823031078019181,\n",
       " 0.9476761837561891,\n",
       " -0.11527775087693476,\n",
       " -0.30480450747456617,\n",
       " 0.1200718103778702,\n",
       " -0.000418370626668336,\n",
       " -0.7380751339272005,\n",
       " -0.12743216675627783,\n",
       " 0.3562768251515547,\n",
       " -0.2775546360386846,\n",
       " -1.1362266585250043,\n",
       " 0.29035733054790563,\n",
       " -0.21156053389283447,\n",
       " 0.19011388372884808,\n",
       " 0.5434234393365076,\n",
       " 0.2477847763029633,\n",
       " 1.0676510447249457,\n",
       " -1.1768122642034486,\n",
       " -0.12041164964076598,\n",
       " -0.1925221201280325,\n",
       " -0.2789811478406005,\n",
       " 0.606909129121499,\n",
       " 0.8114262578861505,\n",
       " 0.501397188614834,\n",
       " 0.6619237716870795,\n",
       " -1.1419453432223161,\n",
       " -0.41540568860932847,\n",
       " -0.9649186608863315,\n",
       " 0.19736371979346914,\n",
       " -1.783538779158351,\n",
       " -0.7493617772697312,\n",
       " 0.13352306838709202,\n",
       " -0.5487744231951157,\n",
       " -0.28939256931211155,\n",
       " 0.448947530864465,\n",
       " -0.24280328352471495,\n",
       " -0.29981391648492833,\n",
       " -0.1437762220693819,\n",
       " -0.1307807620834622,\n",
       " 0.39522100982116043,\n",
       " -0.029335276567517006,\n",
       " 0.7019360566242296,\n",
       " -0.21961424291778148,\n",
       " -0.09117317421928574,\n",
       " -0.04709694013601041,\n",
       " -0.6072279489779692,\n",
       " -0.056664522461914495,\n",
       " -0.45234065092377984,\n",
       " 0.27072237011936445,\n",
       " ...]"
      ]
     },
     "execution_count": 375,
     "metadata": {},
     "output_type": "execute_result"
    }
   ],
   "source": [
    "lr.coef_.tolist()[0]"
   ]
  },
  {
   "cell_type": "code",
   "execution_count": 395,
   "metadata": {},
   "outputs": [],
   "source": [
    "coefs = np.array(coefs)"
   ]
  },
  {
   "cell_type": "code",
   "execution_count": 396,
   "metadata": {},
   "outputs": [
    {
     "data": {
      "text/plain": [
       "(5, 3440)"
      ]
     },
     "execution_count": 396,
     "metadata": {},
     "output_type": "execute_result"
    }
   ],
   "source": [
    "coefs.shape"
   ]
  },
  {
   "cell_type": "markdown",
   "metadata": {},
   "source": [
    "##### 多数決を用いる場合"
   ]
  },
  {
   "cell_type": "markdown",
   "metadata": {},
   "source": [
    "http://st-hakky.hatenablog.com/entry/2017/08/07/162938\n",
    "によるとhard votingとsoft votingがあるらしいが、前者を試みる"
   ]
  },
  {
   "cell_type": "code",
   "execution_count": 476,
   "metadata": {},
   "outputs": [],
   "source": [
    "fy_pred8v = 1/(1+np.exp(-token_sum_matrix.dot(coefs[:,1:].transpose()) - coefs[:,0]))"
   ]
  },
  {
   "cell_type": "code",
   "execution_count": 488,
   "metadata": {},
   "outputs": [],
   "source": [
    "fy_pred8vb = np.where(fy_pred8v > 0.5 , 1, -1)"
   ]
  },
  {
   "cell_type": "code",
   "execution_count": 497,
   "metadata": {},
   "outputs": [
    {
     "data": {
      "text/plain": [
       "(10662, 5)"
      ]
     },
     "execution_count": 497,
     "metadata": {},
     "output_type": "execute_result"
    }
   ],
   "source": [
    "fy_pred8vb.shape"
   ]
  },
  {
   "cell_type": "code",
   "execution_count": 498,
   "metadata": {},
   "outputs": [],
   "source": [
    "fy_pred8vc = fy_pred8vb.mean(axis = 1)"
   ]
  },
  {
   "cell_type": "code",
   "execution_count": 499,
   "metadata": {},
   "outputs": [],
   "source": [
    "y_pred8v = np.where(fy_pred8vc > 0  , 1, -1)"
   ]
  },
  {
   "cell_type": "code",
   "execution_count": 500,
   "metadata": {},
   "outputs": [
    {
     "data": {
      "text/plain": [
       "(10662,)"
      ]
     },
     "execution_count": 500,
     "metadata": {},
     "output_type": "execute_result"
    }
   ],
   "source": [
    "y_pred8v.shape"
   ]
  },
  {
   "cell_type": "code",
   "execution_count": 501,
   "metadata": {},
   "outputs": [],
   "source": [
    "out8v= [\"{}\\t{}\".format(y_correct[i] , y_pred8v[i]) for i in range(len(y))]"
   ]
  },
  {
   "cell_type": "code",
   "execution_count": 502,
   "metadata": {},
   "outputs": [],
   "source": [
    "TP8v = 0\n",
    "FP8v = 0\n",
    "FN8v = 0\n",
    "TN8v = 0\n"
   ]
  },
  {
   "cell_type": "code",
   "execution_count": 503,
   "metadata": {},
   "outputs": [],
   "source": [
    "for y in out8v:\n",
    "    x = y.split('\\t')\n",
    "    p = float(x[1])\n",
    "    c = float(x[0])\n",
    "    if p > 0 and c > 0:\n",
    "        TP8v += 1\n",
    "    if p > 0 and c < 0:\n",
    "        FP8v += 1\n",
    "    if p < 0 and c > 0:\n",
    "        FN8v += 1\n",
    "    if p < 0 and c < 0:\n",
    "        TN8v += 1   "
   ]
  },
  {
   "cell_type": "markdown",
   "metadata": {},
   "source": [
    "###### 正答率 : TP or TN の割合"
   ]
  },
  {
   "cell_type": "code",
   "execution_count": 504,
   "metadata": {},
   "outputs": [
    {
     "name": "stdout",
     "output_type": "stream",
     "text": [
      "正答率：0.7692307692307693\n"
     ]
    }
   ],
   "source": [
    "print(\"正答率：{}\".format((TP8v + TN8v) / (TP8v + FP8v + FN8v + TN8v)))"
   ]
  },
  {
   "cell_type": "markdown",
   "metadata": {},
   "source": [
    "###### 正例に関する適合率（precision rate）\n",
    "\n",
    "肯定的と予測したレビューの中で、実際に肯定的だったものの割合"
   ]
  },
  {
   "cell_type": "code",
   "execution_count": 506,
   "metadata": {},
   "outputs": [],
   "source": [
    "precision_ratev = TP8v / (TP8v + FP8v)"
   ]
  },
  {
   "cell_type": "code",
   "execution_count": 507,
   "metadata": {},
   "outputs": [
    {
     "name": "stdout",
     "output_type": "stream",
     "text": [
      "正例に関する適合率 : 0.8888888888888888\n"
     ]
    }
   ],
   "source": [
    "print(\"正例に関する適合率 : {}\".format(precision_ratev))"
   ]
  },
  {
   "cell_type": "markdown",
   "metadata": {},
   "source": [
    "###### 正例に関する再現率 (recall rate)"
   ]
  },
  {
   "cell_type": "markdown",
   "metadata": {},
   "source": [
    "実際に肯定的なレビューの中で、肯定的と予測できたものの割合"
   ]
  },
  {
   "cell_type": "code",
   "execution_count": 508,
   "metadata": {},
   "outputs": [],
   "source": [
    "recall_ratev = TP8v / (TP8v + FN8v)"
   ]
  },
  {
   "cell_type": "code",
   "execution_count": 509,
   "metadata": {
    "scrolled": true
   },
   "outputs": [
    {
     "name": "stdout",
     "output_type": "stream",
     "text": [
      "正例に関する再現率 : 0.6153846153846154\n"
     ]
    }
   ],
   "source": [
    "print(\"正例に関する再現率 : {}\".format(recall_ratev))"
   ]
  },
  {
   "cell_type": "markdown",
   "metadata": {},
   "source": [
    "##### 平均スコアを用いる場合"
   ]
  },
  {
   "cell_type": "code",
   "execution_count": 399,
   "metadata": {},
   "outputs": [],
   "source": [
    "mean_coefs = coefs.mean(axis= 0)"
   ]
  },
  {
   "cell_type": "code",
   "execution_count": 407,
   "metadata": {},
   "outputs": [
    {
     "data": {
      "text/plain": [
       "array([-0.49162227,  0.21856508, -0.52992779, ...,  1.08741456,\n",
       "        0.40383069, -0.38518064])"
      ]
     },
     "execution_count": 407,
     "metadata": {},
     "output_type": "execute_result"
    }
   ],
   "source": [
    "token_sum_matrix.dot(mean_coefs[1:])+mean_coefs[0]"
   ]
  },
  {
   "cell_type": "code",
   "execution_count": 444,
   "metadata": {},
   "outputs": [],
   "source": [
    "fy_pred8 = 1/ (1+ np.exp(-token_sum_matrix.dot(mean_coefs[1:])-mean_coefs[0]))"
   ]
  },
  {
   "cell_type": "code",
   "execution_count": 445,
   "metadata": {},
   "outputs": [],
   "source": [
    "y_pred8 = [1 if x > 0.5 else -1 for x in fy_pred8]"
   ]
  },
  {
   "cell_type": "code",
   "execution_count": 463,
   "metadata": {},
   "outputs": [],
   "source": [
    "out8 = [\"{}\\t{}\\t{}\".format(y_correct[i] , y_pred8[i] , max(fy_pred8[i,] , 1-fy_pred8[i,])) for i in range(len(y))]"
   ]
  },
  {
   "cell_type": "code",
   "execution_count": 464,
   "metadata": {},
   "outputs": [
    {
     "data": {
      "text/plain": [
       "[-1, 1, -1, -1, -1, 1, -1, 1, -1, -1]"
      ]
     },
     "execution_count": 464,
     "metadata": {},
     "output_type": "execute_result"
    }
   ],
   "source": [
    "y_pred8[0:10]"
   ]
  },
  {
   "cell_type": "code",
   "execution_count": 465,
   "metadata": {},
   "outputs": [],
   "source": [
    "TP8 = 0\n",
    "FP8 = 0\n",
    "FN8 = 0\n",
    "TN8 = 0\n"
   ]
  },
  {
   "cell_type": "code",
   "execution_count": 466,
   "metadata": {},
   "outputs": [],
   "source": [
    "for y in out8:\n",
    "    x = y.split('\\t')\n",
    "    p = float(x[1])\n",
    "    c = float(x[0])\n",
    "    if p > 0 and c > 0:\n",
    "        TP8 += 1\n",
    "    if p > 0 and c < 0:\n",
    "        FP8 += 1\n",
    "    if p < 0 and c > 0:\n",
    "        FN8 += 1\n",
    "    if p < 0 and c < 0:\n",
    "        TN8 += 1   "
   ]
  },
  {
   "cell_type": "code",
   "execution_count": null,
   "metadata": {},
   "outputs": [],
   "source": []
  },
  {
   "cell_type": "markdown",
   "metadata": {},
   "source": [
    "###### 正答率 : TP or TN の割合"
   ]
  },
  {
   "cell_type": "code",
   "execution_count": 468,
   "metadata": {},
   "outputs": [
    {
     "name": "stdout",
     "output_type": "stream",
     "text": [
      "正答率：0.864284374413806\n"
     ]
    }
   ],
   "source": [
    "print(\"正答率：{}\".format((TP8 + TN8) / (TP8 + FP8 + FN8 + TN8)))"
   ]
  },
  {
   "cell_type": "markdown",
   "metadata": {},
   "source": [
    "###### 正例に関する適合率（precision rate）\n",
    "\n",
    "肯定的と予測したレビューの中で、実際に肯定的だったものの割合"
   ]
  },
  {
   "cell_type": "code",
   "execution_count": 469,
   "metadata": {},
   "outputs": [],
   "source": [
    "precision_rate = TP8 / (TP8 + FP8)"
   ]
  },
  {
   "cell_type": "code",
   "execution_count": 470,
   "metadata": {},
   "outputs": [
    {
     "name": "stdout",
     "output_type": "stream",
     "text": [
      "正例に関する適合率 : 0.8661387631975868\n"
     ]
    }
   ],
   "source": [
    "print(\"正例に関する適合率 : {}\".format(precision_rate))"
   ]
  },
  {
   "cell_type": "markdown",
   "metadata": {},
   "source": [
    "###### 正例に関する再現率 (recall rate)"
   ]
  },
  {
   "cell_type": "markdown",
   "metadata": {},
   "source": [
    "実際に肯定的なレビューの中で、肯定的と予測できたものの割合"
   ]
  },
  {
   "cell_type": "code",
   "execution_count": 471,
   "metadata": {},
   "outputs": [],
   "source": [
    "recall_rate = TP8 / (TP8 + FN8)"
   ]
  },
  {
   "cell_type": "code",
   "execution_count": 472,
   "metadata": {},
   "outputs": [
    {
     "name": "stdout",
     "output_type": "stream",
     "text": [
      "正例に関する再現率 : 0.8617520165072219\n"
     ]
    }
   ],
   "source": [
    "print(\"正例に関する再現率 : {}\".format(recall_rate))"
   ]
  },
  {
   "cell_type": "markdown",
   "metadata": {},
   "source": [
    "###### 正例に関するF1スコア"
   ]
  },
  {
   "cell_type": "markdown",
   "metadata": {},
   "source": [
    "F1スコア（Fスコア、F値、F-尺度などとも呼ばれます）は適合率と再現率のバランスを定量化したもの"
   ]
  },
  {
   "cell_type": "code",
   "execution_count": 473,
   "metadata": {},
   "outputs": [],
   "source": [
    "F1  =  2 * precision_rate * recall_rate / (precision_rate + recall_rate)"
   ]
  },
  {
   "cell_type": "code",
   "execution_count": 474,
   "metadata": {},
   "outputs": [
    {
     "name": "stdout",
     "output_type": "stream",
     "text": [
      "F1 score : 0.8639398213446168\n"
     ]
    }
   ],
   "source": [
    "print(\"F1 score : {}\".format(F1))"
   ]
  },
  {
   "cell_type": "code",
   "execution_count": 420,
   "metadata": {},
   "outputs": [
    {
     "name": "stdout",
     "output_type": "stream",
     "text": [
      "正答率：0.8722566122678672\n"
     ]
    }
   ],
   "source": [
    "print(\"正答率：{}\".format((TP + TN) / (TP + FP + FN + TN)))"
   ]
  },
  {
   "cell_type": "code",
   "execution_count": 419,
   "metadata": {},
   "outputs": [],
   "source": [
    "precision_rate = TP / (TP + FP)"
   ]
  },
  {
   "cell_type": "code",
   "execution_count": null,
   "metadata": {},
   "outputs": [],
   "source": []
  },
  {
   "cell_type": "code",
   "execution_count": 331,
   "metadata": {},
   "outputs": [
    {
     "data": {
      "text/plain": [
       "(8530, 3439)"
      ]
     },
     "execution_count": 331,
     "metadata": {},
     "output_type": "execute_result"
    }
   ],
   "source": [
    "token_sum_matrix[train_index].shape"
   ]
  },
  {
   "cell_type": "code",
   "execution_count": 312,
   "metadata": {},
   "outputs": [
    {
     "data": {
      "text/plain": [
       "array([ 0.73888576,  0.73410242,  0.74423185])"
      ]
     },
     "execution_count": 312,
     "metadata": {},
     "output_type": "execute_result"
    }
   ],
   "source": [
    "cross_val_score(lr, X = token_sum_matrix , y = y)"
   ]
  },
  {
   "cell_type": "code",
   "execution_count": 315,
   "metadata": {},
   "outputs": [
    {
     "name": "stderr",
     "output_type": "stream",
     "text": [
      "/home/toshinao/anaconda3/lib/python3.5/site-packages/sklearn/utils/deprecation.py:122: FutureWarning: You are accessing a training score ('train_score'), which will not be available by default any more in 0.21. If you need training scores, please set return_train_score=True\n",
      "  warnings.warn(*warn_args, **warn_kwargs)\n"
     ]
    },
    {
     "data": {
      "text/plain": [
       "{'fit_time': array([ 0.17726398,  0.16829109,  0.17089844,  0.18771553,  0.17004704]),\n",
       " 'score_time': array([ 0.00729036,  0.00606251,  0.00604868,  0.00667644,  0.00606966]),\n",
       " 'test_score': array([ 0.75351453,  0.73030019,  0.74718574,  0.73780488,  0.74530957]),\n",
       " 'train_score': array([ 0.88555347,  0.88440797,  0.88335287,  0.88780774,  0.88464244])}"
      ]
     },
     "execution_count": 315,
     "metadata": {},
     "output_type": "execute_result"
    }
   ],
   "source": [
    "cross_validate(lr, X = token_sum_matrix , y = y , cv = 5)"
   ]
  },
  {
   "cell_type": "code",
   "execution_count": 314,
   "metadata": {},
   "outputs": [],
   "source": [
    "cross_validate?"
   ]
  },
  {
   "cell_type": "code",
   "execution_count": 510,
   "metadata": {},
   "outputs": [
    {
     "name": "stdout",
     "output_type": "stream",
     "text": [
      "[master 695d20b] snapshot\n",
      " 1 file changed, 209 insertions(+), 18 deletions(-)\n"
     ]
    }
   ],
   "source": [
    "%%bash\n",
    "git commit -a -m \"snapshot\""
   ]
  },
  {
   "cell_type": "markdown",
   "metadata": {},
   "source": [
    "#### 適合率-再現率グラフの描画\n",
    "ロジスティック回帰モデルの分類の閾値を変化させることで，適合率-再現率グラフを描画せよ"
   ]
  },
  {
   "cell_type": "code",
   "execution_count": 589,
   "metadata": {},
   "outputs": [],
   "source": [
    "def thresh2TP(fy , y_correct ,thresh):\n",
    "    y_pred = np.array([1 if x > thresh else -1 for x in fy])\n",
    "    N = y_pred.shape[0]\n",
    "    T = np.where(y_pred == y_correct , 1 , 0)\n",
    "    P = np.where(y_pred == 1 , 1, 0)\n",
    "    TP = np.sum(T * P)\n",
    "    FP = np.sum((1-T) * P)\n",
    "    FN = np.sum((1-T) * (1-P))\n",
    "    TN = np.sum(T * (1-P))\n",
    "    precision_rate_P = TP / np.sum(P)\n",
    "    recall_rate_P = TP / np.sum(np.where(y_correct == 1 , 1 , 0))\n",
    "    \n",
    "    precision_rate_N = TN / np.sum(1- P)\n",
    "    recall_rate_N = TN / np.sum(np.where(y_correct == -1 , 1, 0))\n",
    "    return [TP , FP , FN , TN , precision_rate_P , recall_rate_P , precision_rate_N , recall_rate_N]\n",
    "        "
   ]
  },
  {
   "cell_type": "code",
   "execution_count": 585,
   "metadata": {},
   "outputs": [],
   "source": [
    "threshes = np.arange(0.05,0.95,0.05)"
   ]
  },
  {
   "cell_type": "code",
   "execution_count": 586,
   "metadata": {},
   "outputs": [],
   "source": [
    "import pandas as pd"
   ]
  },
  {
   "cell_type": "code",
   "execution_count": 590,
   "metadata": {},
   "outputs": [],
   "source": [
    "df = pd.DataFrame([thresh2TP(fy_pred8 , y_correct , thresh) for thresh in threshes] )"
   ]
  },
  {
   "cell_type": "code",
   "execution_count": 592,
   "metadata": {},
   "outputs": [],
   "source": [
    "df.columns = [\"TP\" ,\"FP\" , \"FN\" , \"TN\" ,\"PRP\" , \"RRP\" ,\"PRN\" , \"RRN\"]"
   ]
  },
  {
   "cell_type": "code",
   "execution_count": 593,
   "metadata": {},
   "outputs": [],
   "source": [
    "df[\"thresh\"] = threshes"
   ]
  },
  {
   "cell_type": "code",
   "execution_count": 618,
   "metadata": {},
   "outputs": [
    {
     "data": {
      "text/html": [
       "<div>\n",
       "<style scoped>\n",
       "    .dataframe tbody tr th:only-of-type {\n",
       "        vertical-align: middle;\n",
       "    }\n",
       "\n",
       "    .dataframe tbody tr th {\n",
       "        vertical-align: top;\n",
       "    }\n",
       "\n",
       "    .dataframe thead th {\n",
       "        text-align: right;\n",
       "    }\n",
       "</style>\n",
       "<table border=\"1\" class=\"dataframe\">\n",
       "  <thead>\n",
       "    <tr style=\"text-align: right;\">\n",
       "      <th></th>\n",
       "      <th>TP</th>\n",
       "      <th>FP</th>\n",
       "      <th>FN</th>\n",
       "      <th>TN</th>\n",
       "      <th>PRP</th>\n",
       "      <th>RRP</th>\n",
       "      <th>PRN</th>\n",
       "      <th>RRN</th>\n",
       "      <th>thresh</th>\n",
       "    </tr>\n",
       "  </thead>\n",
       "  <tbody>\n",
       "    <tr>\n",
       "      <th>0</th>\n",
       "      <td>5328</td>\n",
       "      <td>4621</td>\n",
       "      <td>3</td>\n",
       "      <td>710</td>\n",
       "      <td>0.535531</td>\n",
       "      <td>0.999437</td>\n",
       "      <td>0.995792</td>\n",
       "      <td>0.133183</td>\n",
       "      <td>0.05</td>\n",
       "    </tr>\n",
       "    <tr>\n",
       "      <th>1</th>\n",
       "      <td>5321</td>\n",
       "      <td>3977</td>\n",
       "      <td>10</td>\n",
       "      <td>1354</td>\n",
       "      <td>0.572274</td>\n",
       "      <td>0.998124</td>\n",
       "      <td>0.992669</td>\n",
       "      <td>0.253986</td>\n",
       "      <td>0.10</td>\n",
       "    </tr>\n",
       "    <tr>\n",
       "      <th>2</th>\n",
       "      <td>5303</td>\n",
       "      <td>3341</td>\n",
       "      <td>28</td>\n",
       "      <td>1990</td>\n",
       "      <td>0.613489</td>\n",
       "      <td>0.994748</td>\n",
       "      <td>0.986125</td>\n",
       "      <td>0.373288</td>\n",
       "      <td>0.15</td>\n",
       "    </tr>\n",
       "    <tr>\n",
       "      <th>3</th>\n",
       "      <td>5270</td>\n",
       "      <td>2812</td>\n",
       "      <td>61</td>\n",
       "      <td>2519</td>\n",
       "      <td>0.652066</td>\n",
       "      <td>0.988557</td>\n",
       "      <td>0.976357</td>\n",
       "      <td>0.472519</td>\n",
       "      <td>0.20</td>\n",
       "    </tr>\n",
       "    <tr>\n",
       "      <th>4</th>\n",
       "      <td>5219</td>\n",
       "      <td>2295</td>\n",
       "      <td>112</td>\n",
       "      <td>3036</td>\n",
       "      <td>0.694570</td>\n",
       "      <td>0.978991</td>\n",
       "      <td>0.964422</td>\n",
       "      <td>0.569499</td>\n",
       "      <td>0.25</td>\n",
       "    </tr>\n",
       "    <tr>\n",
       "      <th>5</th>\n",
       "      <td>5162</td>\n",
       "      <td>1903</td>\n",
       "      <td>169</td>\n",
       "      <td>3428</td>\n",
       "      <td>0.730644</td>\n",
       "      <td>0.968299</td>\n",
       "      <td>0.953016</td>\n",
       "      <td>0.643031</td>\n",
       "      <td>0.30</td>\n",
       "    </tr>\n",
       "    <tr>\n",
       "      <th>6</th>\n",
       "      <td>5068</td>\n",
       "      <td>1526</td>\n",
       "      <td>263</td>\n",
       "      <td>3805</td>\n",
       "      <td>0.768577</td>\n",
       "      <td>0.950666</td>\n",
       "      <td>0.935349</td>\n",
       "      <td>0.713750</td>\n",
       "      <td>0.35</td>\n",
       "    </tr>\n",
       "    <tr>\n",
       "      <th>7</th>\n",
       "      <td>4945</td>\n",
       "      <td>1215</td>\n",
       "      <td>386</td>\n",
       "      <td>4116</td>\n",
       "      <td>0.802760</td>\n",
       "      <td>0.927593</td>\n",
       "      <td>0.914260</td>\n",
       "      <td>0.772088</td>\n",
       "      <td>0.40</td>\n",
       "    </tr>\n",
       "    <tr>\n",
       "      <th>8</th>\n",
       "      <td>4797</td>\n",
       "      <td>919</td>\n",
       "      <td>534</td>\n",
       "      <td>4412</td>\n",
       "      <td>0.839223</td>\n",
       "      <td>0.899831</td>\n",
       "      <td>0.892034</td>\n",
       "      <td>0.827612</td>\n",
       "      <td>0.45</td>\n",
       "    </tr>\n",
       "    <tr>\n",
       "      <th>9</th>\n",
       "      <td>4594</td>\n",
       "      <td>710</td>\n",
       "      <td>737</td>\n",
       "      <td>4621</td>\n",
       "      <td>0.866139</td>\n",
       "      <td>0.861752</td>\n",
       "      <td>0.862449</td>\n",
       "      <td>0.866817</td>\n",
       "      <td>0.50</td>\n",
       "    </tr>\n",
       "    <tr>\n",
       "      <th>10</th>\n",
       "      <td>4379</td>\n",
       "      <td>539</td>\n",
       "      <td>952</td>\n",
       "      <td>4792</td>\n",
       "      <td>0.890403</td>\n",
       "      <td>0.821422</td>\n",
       "      <td>0.834262</td>\n",
       "      <td>0.898893</td>\n",
       "      <td>0.55</td>\n",
       "    </tr>\n",
       "    <tr>\n",
       "      <th>11</th>\n",
       "      <td>4097</td>\n",
       "      <td>380</td>\n",
       "      <td>1234</td>\n",
       "      <td>4951</td>\n",
       "      <td>0.915122</td>\n",
       "      <td>0.768524</td>\n",
       "      <td>0.800485</td>\n",
       "      <td>0.928719</td>\n",
       "      <td>0.60</td>\n",
       "    </tr>\n",
       "    <tr>\n",
       "      <th>12</th>\n",
       "      <td>3791</td>\n",
       "      <td>249</td>\n",
       "      <td>1540</td>\n",
       "      <td>5082</td>\n",
       "      <td>0.938366</td>\n",
       "      <td>0.711124</td>\n",
       "      <td>0.767442</td>\n",
       "      <td>0.953292</td>\n",
       "      <td>0.65</td>\n",
       "    </tr>\n",
       "    <tr>\n",
       "      <th>13</th>\n",
       "      <td>3422</td>\n",
       "      <td>158</td>\n",
       "      <td>1909</td>\n",
       "      <td>5173</td>\n",
       "      <td>0.955866</td>\n",
       "      <td>0.641906</td>\n",
       "      <td>0.730443</td>\n",
       "      <td>0.970362</td>\n",
       "      <td>0.70</td>\n",
       "    </tr>\n",
       "    <tr>\n",
       "      <th>14</th>\n",
       "      <td>3031</td>\n",
       "      <td>89</td>\n",
       "      <td>2300</td>\n",
       "      <td>5242</td>\n",
       "      <td>0.971474</td>\n",
       "      <td>0.568561</td>\n",
       "      <td>0.695041</td>\n",
       "      <td>0.983305</td>\n",
       "      <td>0.75</td>\n",
       "    </tr>\n",
       "    <tr>\n",
       "      <th>15</th>\n",
       "      <td>2530</td>\n",
       "      <td>50</td>\n",
       "      <td>2801</td>\n",
       "      <td>5281</td>\n",
       "      <td>0.980620</td>\n",
       "      <td>0.474583</td>\n",
       "      <td>0.653427</td>\n",
       "      <td>0.990621</td>\n",
       "      <td>0.80</td>\n",
       "    </tr>\n",
       "    <tr>\n",
       "      <th>16</th>\n",
       "      <td>2029</td>\n",
       "      <td>14</td>\n",
       "      <td>3302</td>\n",
       "      <td>5317</td>\n",
       "      <td>0.993147</td>\n",
       "      <td>0.380604</td>\n",
       "      <td>0.616893</td>\n",
       "      <td>0.997374</td>\n",
       "      <td>0.85</td>\n",
       "    </tr>\n",
       "    <tr>\n",
       "      <th>17</th>\n",
       "      <td>1450</td>\n",
       "      <td>2</td>\n",
       "      <td>3881</td>\n",
       "      <td>5329</td>\n",
       "      <td>0.998623</td>\n",
       "      <td>0.271994</td>\n",
       "      <td>0.578610</td>\n",
       "      <td>0.999625</td>\n",
       "      <td>0.90</td>\n",
       "    </tr>\n",
       "  </tbody>\n",
       "</table>\n",
       "</div>"
      ],
      "text/plain": [
       "      TP    FP    FN    TN       PRP       RRP       PRN       RRN  thresh\n",
       "0   5328  4621     3   710  0.535531  0.999437  0.995792  0.133183    0.05\n",
       "1   5321  3977    10  1354  0.572274  0.998124  0.992669  0.253986    0.10\n",
       "2   5303  3341    28  1990  0.613489  0.994748  0.986125  0.373288    0.15\n",
       "3   5270  2812    61  2519  0.652066  0.988557  0.976357  0.472519    0.20\n",
       "4   5219  2295   112  3036  0.694570  0.978991  0.964422  0.569499    0.25\n",
       "5   5162  1903   169  3428  0.730644  0.968299  0.953016  0.643031    0.30\n",
       "6   5068  1526   263  3805  0.768577  0.950666  0.935349  0.713750    0.35\n",
       "7   4945  1215   386  4116  0.802760  0.927593  0.914260  0.772088    0.40\n",
       "8   4797   919   534  4412  0.839223  0.899831  0.892034  0.827612    0.45\n",
       "9   4594   710   737  4621  0.866139  0.861752  0.862449  0.866817    0.50\n",
       "10  4379   539   952  4792  0.890403  0.821422  0.834262  0.898893    0.55\n",
       "11  4097   380  1234  4951  0.915122  0.768524  0.800485  0.928719    0.60\n",
       "12  3791   249  1540  5082  0.938366  0.711124  0.767442  0.953292    0.65\n",
       "13  3422   158  1909  5173  0.955866  0.641906  0.730443  0.970362    0.70\n",
       "14  3031    89  2300  5242  0.971474  0.568561  0.695041  0.983305    0.75\n",
       "15  2530    50  2801  5281  0.980620  0.474583  0.653427  0.990621    0.80\n",
       "16  2029    14  3302  5317  0.993147  0.380604  0.616893  0.997374    0.85\n",
       "17  1450     2  3881  5329  0.998623  0.271994  0.578610  0.999625    0.90"
      ]
     },
     "execution_count": 618,
     "metadata": {},
     "output_type": "execute_result"
    }
   ],
   "source": [
    "df"
   ]
  },
  {
   "cell_type": "code",
   "execution_count": 640,
   "metadata": {},
   "outputs": [
    {
     "data": {
      "text/html": [
       "\n",
       "    <div class=\"bk-root\">\n",
       "        <a href=\"https://bokeh.pydata.org\" target=\"_blank\" class=\"bk-logo bk-logo-small bk-logo-notebook\"></a>\n",
       "        <span id=\"a1ebd4de-61f0-484f-a6f3-a9bd4cbe18d2\">Loading BokehJS ...</span>\n",
       "    </div>"
      ]
     },
     "metadata": {},
     "output_type": "display_data"
    },
    {
     "data": {
      "application/javascript": [
       "\n",
       "(function(root) {\n",
       "  function now() {\n",
       "    return new Date();\n",
       "  }\n",
       "\n",
       "  var force = true;\n",
       "\n",
       "  if (typeof (root._bokeh_onload_callbacks) === \"undefined\" || force === true) {\n",
       "    root._bokeh_onload_callbacks = [];\n",
       "    root._bokeh_is_loading = undefined;\n",
       "  }\n",
       "\n",
       "  var JS_MIME_TYPE = 'application/javascript';\n",
       "  var HTML_MIME_TYPE = 'text/html';\n",
       "  var EXEC_MIME_TYPE = 'application/vnd.bokehjs_exec.v0+json';\n",
       "  var CLASS_NAME = 'output_bokeh rendered_html';\n",
       "\n",
       "  /**\n",
       "   * Render data to the DOM node\n",
       "   */\n",
       "  function render(props, node) {\n",
       "    var script = document.createElement(\"script\");\n",
       "    node.appendChild(script);\n",
       "  }\n",
       "\n",
       "  /**\n",
       "   * Handle when an output is cleared or removed\n",
       "   */\n",
       "  function handleClearOutput(event, handle) {\n",
       "    var cell = handle.cell;\n",
       "\n",
       "    var id = cell.output_area._bokeh_element_id;\n",
       "    var server_id = cell.output_area._bokeh_server_id;\n",
       "    // Clean up Bokeh references\n",
       "    if (id !== undefined) {\n",
       "      Bokeh.index[id].model.document.clear();\n",
       "      delete Bokeh.index[id];\n",
       "    }\n",
       "\n",
       "    if (server_id !== undefined) {\n",
       "      // Clean up Bokeh references\n",
       "      var cmd = \"from bokeh.io.state import curstate; print(curstate().uuid_to_server['\" + server_id + \"'].get_sessions()[0].document.roots[0]._id)\";\n",
       "      cell.notebook.kernel.execute(cmd, {\n",
       "        iopub: {\n",
       "          output: function(msg) {\n",
       "            var element_id = msg.content.text.trim();\n",
       "            Bokeh.index[element_id].model.document.clear();\n",
       "            delete Bokeh.index[element_id];\n",
       "          }\n",
       "        }\n",
       "      });\n",
       "      // Destroy server and session\n",
       "      var cmd = \"import bokeh.io.notebook as ion; ion.destroy_server('\" + server_id + \"')\";\n",
       "      cell.notebook.kernel.execute(cmd);\n",
       "    }\n",
       "  }\n",
       "\n",
       "  /**\n",
       "   * Handle when a new output is added\n",
       "   */\n",
       "  function handleAddOutput(event, handle) {\n",
       "    var output_area = handle.output_area;\n",
       "    var output = handle.output;\n",
       "\n",
       "    // limit handleAddOutput to display_data with EXEC_MIME_TYPE content only\n",
       "    if ((output.output_type != \"display_data\") || (!output.data.hasOwnProperty(EXEC_MIME_TYPE))) {\n",
       "      return\n",
       "    }\n",
       "\n",
       "    var toinsert = output_area.element.find(\".\" + CLASS_NAME.split(' ')[0]);\n",
       "\n",
       "    if (output.metadata[EXEC_MIME_TYPE][\"id\"] !== undefined) {\n",
       "      toinsert[0].firstChild.textContent = output.data[JS_MIME_TYPE];\n",
       "      // store reference to embed id on output_area\n",
       "      output_area._bokeh_element_id = output.metadata[EXEC_MIME_TYPE][\"id\"];\n",
       "    }\n",
       "    if (output.metadata[EXEC_MIME_TYPE][\"server_id\"] !== undefined) {\n",
       "      var bk_div = document.createElement(\"div\");\n",
       "      bk_div.innerHTML = output.data[HTML_MIME_TYPE];\n",
       "      var script_attrs = bk_div.children[0].attributes;\n",
       "      for (var i = 0; i < script_attrs.length; i++) {\n",
       "        toinsert[0].firstChild.setAttribute(script_attrs[i].name, script_attrs[i].value);\n",
       "      }\n",
       "      // store reference to server id on output_area\n",
       "      output_area._bokeh_server_id = output.metadata[EXEC_MIME_TYPE][\"server_id\"];\n",
       "    }\n",
       "  }\n",
       "\n",
       "  function register_renderer(events, OutputArea) {\n",
       "\n",
       "    function append_mime(data, metadata, element) {\n",
       "      // create a DOM node to render to\n",
       "      var toinsert = this.create_output_subarea(\n",
       "        metadata,\n",
       "        CLASS_NAME,\n",
       "        EXEC_MIME_TYPE\n",
       "      );\n",
       "      this.keyboard_manager.register_events(toinsert);\n",
       "      // Render to node\n",
       "      var props = {data: data, metadata: metadata[EXEC_MIME_TYPE]};\n",
       "      render(props, toinsert[0]);\n",
       "      element.append(toinsert);\n",
       "      return toinsert\n",
       "    }\n",
       "\n",
       "    /* Handle when an output is cleared or removed */\n",
       "    events.on('clear_output.CodeCell', handleClearOutput);\n",
       "    events.on('delete.Cell', handleClearOutput);\n",
       "\n",
       "    /* Handle when a new output is added */\n",
       "    events.on('output_added.OutputArea', handleAddOutput);\n",
       "\n",
       "    /**\n",
       "     * Register the mime type and append_mime function with output_area\n",
       "     */\n",
       "    OutputArea.prototype.register_mime_type(EXEC_MIME_TYPE, append_mime, {\n",
       "      /* Is output safe? */\n",
       "      safe: true,\n",
       "      /* Index of renderer in `output_area.display_order` */\n",
       "      index: 0\n",
       "    });\n",
       "  }\n",
       "\n",
       "  // register the mime type if in Jupyter Notebook environment and previously unregistered\n",
       "  if (root.Jupyter !== undefined) {\n",
       "    var events = require('base/js/events');\n",
       "    var OutputArea = require('notebook/js/outputarea').OutputArea;\n",
       "\n",
       "    if (OutputArea.prototype.mime_types().indexOf(EXEC_MIME_TYPE) == -1) {\n",
       "      register_renderer(events, OutputArea);\n",
       "    }\n",
       "  }\n",
       "\n",
       "  \n",
       "  if (typeof (root._bokeh_timeout) === \"undefined\" || force === true) {\n",
       "    root._bokeh_timeout = Date.now() + 5000;\n",
       "    root._bokeh_failed_load = false;\n",
       "  }\n",
       "\n",
       "  var NB_LOAD_WARNING = {'data': {'text/html':\n",
       "     \"<div style='background-color: #fdd'>\\n\"+\n",
       "     \"<p>\\n\"+\n",
       "     \"BokehJS does not appear to have successfully loaded. If loading BokehJS from CDN, this \\n\"+\n",
       "     \"may be due to a slow or bad network connection. Possible fixes:\\n\"+\n",
       "     \"</p>\\n\"+\n",
       "     \"<ul>\\n\"+\n",
       "     \"<li>re-rerun `output_notebook()` to attempt to load from CDN again, or</li>\\n\"+\n",
       "     \"<li>use INLINE resources instead, as so:</li>\\n\"+\n",
       "     \"</ul>\\n\"+\n",
       "     \"<code>\\n\"+\n",
       "     \"from bokeh.resources import INLINE\\n\"+\n",
       "     \"output_notebook(resources=INLINE)\\n\"+\n",
       "     \"</code>\\n\"+\n",
       "     \"</div>\"}};\n",
       "\n",
       "  function display_loaded() {\n",
       "    var el = document.getElementById(\"a1ebd4de-61f0-484f-a6f3-a9bd4cbe18d2\");\n",
       "    if (el != null) {\n",
       "      el.textContent = \"BokehJS is loading...\";\n",
       "    }\n",
       "    if (root.Bokeh !== undefined) {\n",
       "      if (el != null) {\n",
       "        el.textContent = \"BokehJS \" + root.Bokeh.version + \" successfully loaded.\";\n",
       "      }\n",
       "    } else if (Date.now() < root._bokeh_timeout) {\n",
       "      setTimeout(display_loaded, 100)\n",
       "    }\n",
       "  }\n",
       "\n",
       "\n",
       "  function run_callbacks() {\n",
       "    try {\n",
       "      root._bokeh_onload_callbacks.forEach(function(callback) { callback() });\n",
       "    }\n",
       "    finally {\n",
       "      delete root._bokeh_onload_callbacks\n",
       "    }\n",
       "    console.info(\"Bokeh: all callbacks have finished\");\n",
       "  }\n",
       "\n",
       "  function load_libs(js_urls, callback) {\n",
       "    root._bokeh_onload_callbacks.push(callback);\n",
       "    if (root._bokeh_is_loading > 0) {\n",
       "      console.log(\"Bokeh: BokehJS is being loaded, scheduling callback at\", now());\n",
       "      return null;\n",
       "    }\n",
       "    if (js_urls == null || js_urls.length === 0) {\n",
       "      run_callbacks();\n",
       "      return null;\n",
       "    }\n",
       "    console.log(\"Bokeh: BokehJS not loaded, scheduling load and callback at\", now());\n",
       "    root._bokeh_is_loading = js_urls.length;\n",
       "    for (var i = 0; i < js_urls.length; i++) {\n",
       "      var url = js_urls[i];\n",
       "      var s = document.createElement('script');\n",
       "      s.src = url;\n",
       "      s.async = false;\n",
       "      s.onreadystatechange = s.onload = function() {\n",
       "        root._bokeh_is_loading--;\n",
       "        if (root._bokeh_is_loading === 0) {\n",
       "          console.log(\"Bokeh: all BokehJS libraries loaded\");\n",
       "          run_callbacks()\n",
       "        }\n",
       "      };\n",
       "      s.onerror = function() {\n",
       "        console.warn(\"failed to load library \" + url);\n",
       "      };\n",
       "      console.log(\"Bokeh: injecting script tag for BokehJS library: \", url);\n",
       "      document.getElementsByTagName(\"head\")[0].appendChild(s);\n",
       "    }\n",
       "  };var element = document.getElementById(\"a1ebd4de-61f0-484f-a6f3-a9bd4cbe18d2\");\n",
       "  if (element == null) {\n",
       "    console.log(\"Bokeh: ERROR: autoload.js configured with elementid 'a1ebd4de-61f0-484f-a6f3-a9bd4cbe18d2' but no matching script tag was found. \")\n",
       "    return false;\n",
       "  }\n",
       "\n",
       "  var js_urls = [\"https://cdn.pydata.org/bokeh/release/bokeh-0.12.13.min.js\", \"https://cdn.pydata.org/bokeh/release/bokeh-widgets-0.12.13.min.js\", \"https://cdn.pydata.org/bokeh/release/bokeh-tables-0.12.13.min.js\", \"https://cdn.pydata.org/bokeh/release/bokeh-gl-0.12.13.min.js\"];\n",
       "\n",
       "  var inline_js = [\n",
       "    function(Bokeh) {\n",
       "      Bokeh.set_log_level(\"info\");\n",
       "    },\n",
       "    \n",
       "    function(Bokeh) {\n",
       "      \n",
       "    },\n",
       "    function(Bokeh) {\n",
       "      console.log(\"Bokeh: injecting CSS: https://cdn.pydata.org/bokeh/release/bokeh-0.12.13.min.css\");\n",
       "      Bokeh.embed.inject_css(\"https://cdn.pydata.org/bokeh/release/bokeh-0.12.13.min.css\");\n",
       "      console.log(\"Bokeh: injecting CSS: https://cdn.pydata.org/bokeh/release/bokeh-widgets-0.12.13.min.css\");\n",
       "      Bokeh.embed.inject_css(\"https://cdn.pydata.org/bokeh/release/bokeh-widgets-0.12.13.min.css\");\n",
       "      console.log(\"Bokeh: injecting CSS: https://cdn.pydata.org/bokeh/release/bokeh-tables-0.12.13.min.css\");\n",
       "      Bokeh.embed.inject_css(\"https://cdn.pydata.org/bokeh/release/bokeh-tables-0.12.13.min.css\");\n",
       "    }\n",
       "  ];\n",
       "\n",
       "  function run_inline_js() {\n",
       "    \n",
       "    if ((root.Bokeh !== undefined) || (force === true)) {\n",
       "      for (var i = 0; i < inline_js.length; i++) {\n",
       "        inline_js[i].call(root, root.Bokeh);\n",
       "      }if (force === true) {\n",
       "        display_loaded();\n",
       "      }} else if (Date.now() < root._bokeh_timeout) {\n",
       "      setTimeout(run_inline_js, 100);\n",
       "    } else if (!root._bokeh_failed_load) {\n",
       "      console.log(\"Bokeh: BokehJS failed to load within specified timeout.\");\n",
       "      root._bokeh_failed_load = true;\n",
       "    } else if (force !== true) {\n",
       "      var cell = $(document.getElementById(\"a1ebd4de-61f0-484f-a6f3-a9bd4cbe18d2\")).parents('.cell').data().cell;\n",
       "      cell.output_area.append_execute_result(NB_LOAD_WARNING)\n",
       "    }\n",
       "\n",
       "  }\n",
       "\n",
       "  if (root._bokeh_is_loading === 0) {\n",
       "    console.log(\"Bokeh: BokehJS loaded, going straight to plotting\");\n",
       "    run_inline_js();\n",
       "  } else {\n",
       "    load_libs(js_urls, function() {\n",
       "      console.log(\"Bokeh: BokehJS plotting callback run at\", now());\n",
       "      run_inline_js();\n",
       "    });\n",
       "  }\n",
       "}(window));"
      ],
      "application/vnd.bokehjs_load.v0+json": "\n(function(root) {\n  function now() {\n    return new Date();\n  }\n\n  var force = true;\n\n  if (typeof (root._bokeh_onload_callbacks) === \"undefined\" || force === true) {\n    root._bokeh_onload_callbacks = [];\n    root._bokeh_is_loading = undefined;\n  }\n\n  \n\n  \n  if (typeof (root._bokeh_timeout) === \"undefined\" || force === true) {\n    root._bokeh_timeout = Date.now() + 5000;\n    root._bokeh_failed_load = false;\n  }\n\n  var NB_LOAD_WARNING = {'data': {'text/html':\n     \"<div style='background-color: #fdd'>\\n\"+\n     \"<p>\\n\"+\n     \"BokehJS does not appear to have successfully loaded. If loading BokehJS from CDN, this \\n\"+\n     \"may be due to a slow or bad network connection. Possible fixes:\\n\"+\n     \"</p>\\n\"+\n     \"<ul>\\n\"+\n     \"<li>re-rerun `output_notebook()` to attempt to load from CDN again, or</li>\\n\"+\n     \"<li>use INLINE resources instead, as so:</li>\\n\"+\n     \"</ul>\\n\"+\n     \"<code>\\n\"+\n     \"from bokeh.resources import INLINE\\n\"+\n     \"output_notebook(resources=INLINE)\\n\"+\n     \"</code>\\n\"+\n     \"</div>\"}};\n\n  function display_loaded() {\n    var el = document.getElementById(\"a1ebd4de-61f0-484f-a6f3-a9bd4cbe18d2\");\n    if (el != null) {\n      el.textContent = \"BokehJS is loading...\";\n    }\n    if (root.Bokeh !== undefined) {\n      if (el != null) {\n        el.textContent = \"BokehJS \" + root.Bokeh.version + \" successfully loaded.\";\n      }\n    } else if (Date.now() < root._bokeh_timeout) {\n      setTimeout(display_loaded, 100)\n    }\n  }\n\n\n  function run_callbacks() {\n    try {\n      root._bokeh_onload_callbacks.forEach(function(callback) { callback() });\n    }\n    finally {\n      delete root._bokeh_onload_callbacks\n    }\n    console.info(\"Bokeh: all callbacks have finished\");\n  }\n\n  function load_libs(js_urls, callback) {\n    root._bokeh_onload_callbacks.push(callback);\n    if (root._bokeh_is_loading > 0) {\n      console.log(\"Bokeh: BokehJS is being loaded, scheduling callback at\", now());\n      return null;\n    }\n    if (js_urls == null || js_urls.length === 0) {\n      run_callbacks();\n      return null;\n    }\n    console.log(\"Bokeh: BokehJS not loaded, scheduling load and callback at\", now());\n    root._bokeh_is_loading = js_urls.length;\n    for (var i = 0; i < js_urls.length; i++) {\n      var url = js_urls[i];\n      var s = document.createElement('script');\n      s.src = url;\n      s.async = false;\n      s.onreadystatechange = s.onload = function() {\n        root._bokeh_is_loading--;\n        if (root._bokeh_is_loading === 0) {\n          console.log(\"Bokeh: all BokehJS libraries loaded\");\n          run_callbacks()\n        }\n      };\n      s.onerror = function() {\n        console.warn(\"failed to load library \" + url);\n      };\n      console.log(\"Bokeh: injecting script tag for BokehJS library: \", url);\n      document.getElementsByTagName(\"head\")[0].appendChild(s);\n    }\n  };var element = document.getElementById(\"a1ebd4de-61f0-484f-a6f3-a9bd4cbe18d2\");\n  if (element == null) {\n    console.log(\"Bokeh: ERROR: autoload.js configured with elementid 'a1ebd4de-61f0-484f-a6f3-a9bd4cbe18d2' but no matching script tag was found. \")\n    return false;\n  }\n\n  var js_urls = [\"https://cdn.pydata.org/bokeh/release/bokeh-0.12.13.min.js\", \"https://cdn.pydata.org/bokeh/release/bokeh-widgets-0.12.13.min.js\", \"https://cdn.pydata.org/bokeh/release/bokeh-tables-0.12.13.min.js\", \"https://cdn.pydata.org/bokeh/release/bokeh-gl-0.12.13.min.js\"];\n\n  var inline_js = [\n    function(Bokeh) {\n      Bokeh.set_log_level(\"info\");\n    },\n    \n    function(Bokeh) {\n      \n    },\n    function(Bokeh) {\n      console.log(\"Bokeh: injecting CSS: https://cdn.pydata.org/bokeh/release/bokeh-0.12.13.min.css\");\n      Bokeh.embed.inject_css(\"https://cdn.pydata.org/bokeh/release/bokeh-0.12.13.min.css\");\n      console.log(\"Bokeh: injecting CSS: https://cdn.pydata.org/bokeh/release/bokeh-widgets-0.12.13.min.css\");\n      Bokeh.embed.inject_css(\"https://cdn.pydata.org/bokeh/release/bokeh-widgets-0.12.13.min.css\");\n      console.log(\"Bokeh: injecting CSS: https://cdn.pydata.org/bokeh/release/bokeh-tables-0.12.13.min.css\");\n      Bokeh.embed.inject_css(\"https://cdn.pydata.org/bokeh/release/bokeh-tables-0.12.13.min.css\");\n    }\n  ];\n\n  function run_inline_js() {\n    \n    if ((root.Bokeh !== undefined) || (force === true)) {\n      for (var i = 0; i < inline_js.length; i++) {\n        inline_js[i].call(root, root.Bokeh);\n      }if (force === true) {\n        display_loaded();\n      }} else if (Date.now() < root._bokeh_timeout) {\n      setTimeout(run_inline_js, 100);\n    } else if (!root._bokeh_failed_load) {\n      console.log(\"Bokeh: BokehJS failed to load within specified timeout.\");\n      root._bokeh_failed_load = true;\n    } else if (force !== true) {\n      var cell = $(document.getElementById(\"a1ebd4de-61f0-484f-a6f3-a9bd4cbe18d2\")).parents('.cell').data().cell;\n      cell.output_area.append_execute_result(NB_LOAD_WARNING)\n    }\n\n  }\n\n  if (root._bokeh_is_loading === 0) {\n    console.log(\"Bokeh: BokehJS loaded, going straight to plotting\");\n    run_inline_js();\n  } else {\n    load_libs(js_urls, function() {\n      console.log(\"Bokeh: BokehJS plotting callback run at\", now());\n      run_inline_js();\n    });\n  }\n}(window));"
     },
     "metadata": {},
     "output_type": "display_data"
    }
   ],
   "source": [
    "import bokeh.plotting as bp\n",
    "\n",
    "bp.output_notebook()\n",
    "\n",
    "from bokeh.models import ColumnDataSource\n",
    "\n",
    "from bokeh.plotting import figure, output_file, show\n",
    "\n",
    "from bokeh.palettes import Paired12 , Dark2"
   ]
  },
  {
   "cell_type": "code",
   "execution_count": 641,
   "metadata": {},
   "outputs": [],
   "source": [
    "myPalette = Dark2"
   ]
  },
  {
   "cell_type": "code",
   "execution_count": 614,
   "metadata": {},
   "outputs": [],
   "source": [
    "source = ColumnDataSource(df)"
   ]
  },
  {
   "cell_type": "code",
   "execution_count": 600,
   "metadata": {},
   "outputs": [],
   "source": [
    "ColumnDataSource?"
   ]
  },
  {
   "cell_type": "code",
   "execution_count": 603,
   "metadata": {},
   "outputs": [
    {
     "data": {
      "text/plain": [
       "'aa'"
      ]
     },
     "execution_count": 603,
     "metadata": {},
     "output_type": "execute_result"
    }
   ],
   "source": [
    "\"a\" * 2"
   ]
  },
  {
   "cell_type": "code",
   "execution_count": 621,
   "metadata": {},
   "outputs": [],
   "source": [
    "ys  = [\"PRP\" , \"RRP\" ,\"PRN\" , \"RRN\"]"
   ]
  },
  {
   "cell_type": "code",
   "execution_count": 648,
   "metadata": {},
   "outputs": [],
   "source": [
    "p = figure()\n",
    "\n",
    "for i , c in enumerate(ys):\n",
    "    p.line(x = \"thresh\" , y = c , color = myPalette[8][i], source = source , legend = c + \" \")"
   ]
  },
  {
   "cell_type": "code",
   "execution_count": 650,
   "metadata": {},
   "outputs": [],
   "source": [
    "p.legend.location = \"top_left\"\n",
    "p.legend.click_policy=\"hide\""
   ]
  },
  {
   "cell_type": "code",
   "execution_count": 646,
   "metadata": {},
   "outputs": [
    {
     "data": {
      "text/plain": [
       "['#1b9e77', '#d95f02', '#7570b3']"
      ]
     },
     "execution_count": 646,
     "metadata": {},
     "output_type": "execute_result"
    }
   ],
   "source": [
    "myPalette[3]"
   ]
  },
  {
   "cell_type": "code",
   "execution_count": 651,
   "metadata": {
    "scrolled": true
   },
   "outputs": [
    {
     "data": {
      "text/html": [
       "\n",
       "<div class=\"bk-root\">\n",
       "    <div class=\"bk-plotdiv\" id=\"d53b9202-7089-4f94-9db8-1d527ea7f363\"></div>\n",
       "</div>"
      ]
     },
     "metadata": {},
     "output_type": "display_data"
    },
    {
     "data": {
      "application/javascript": [
       "(function(root) {\n",
       "  function embed_document(root) {\n",
       "    \n",
       "  var docs_json = {\"b7a5b0ca-1561-4326-a831-034380591199\":{\"roots\":{\"references\":[{\"attributes\":{\"line_color\":\"#e7298a\",\"x\":{\"field\":\"thresh\"},\"y\":{\"field\":\"RRN\"}},\"id\":\"1fd998bb-949b-4353-a682-a24189febb7b\",\"type\":\"Line\"},{\"attributes\":{\"dimension\":1,\"plot\":{\"id\":\"f625ab6b-72a5-479d-bb2e-079625f14081\",\"subtype\":\"Figure\",\"type\":\"Plot\"},\"ticker\":{\"id\":\"994542e0-c589-431d-8f50-60d0f3ffb9c4\",\"type\":\"BasicTicker\"}},\"id\":\"49b202b5-1844-4794-b13a-4ad35e434970\",\"type\":\"Grid\"},{\"attributes\":{\"plot\":null,\"text\":\"\"},\"id\":\"7c4bb995-7aa2-4235-80d6-9c63b91a7798\",\"type\":\"Title\"},{\"attributes\":{\"callback\":null,\"column_names\":[\"PRP\",\"RRP\",\"TP\",\"FP\",\"FN\",\"thresh\",\"RRN\",\"index\",\"TN\",\"PRN\"],\"data\":{\"FN\":[3,10,28,61,112,169,263,386,534,737,952,1234,1540,1909,2300,2801,3302,3881],\"FP\":[4621,3977,3341,2812,2295,1903,1526,1215,919,710,539,380,249,158,89,50,14,2],\"PRN\":{\"__ndarray__\":\"m0kbFIjd7z/EDz/88MPvP03ylcFVju8/A+VzLFA+7z/izuw4i9zuP8MtMUEcf+4/vZAJKmHu7T/fX3/gnkHtP/g5UNGKi+w/yaOi9i2Z6z/t1QziRbLqP6Hm3M+Snek/JO6IO+KO6D/QukjKyl/nPxC97dbGPeY/CvXEg+Do5D80lr0zlr3jPy6/JY35g+I/\",\"dtype\":\"float64\",\"shape\":[18]},\"PRP\":{\"__ndarray__\":\"EXmrWBIj4T+P+Wy9EFDiP00aQvKzoeM/bBEFMLrd5D8m6zkm6znmP+MVRJFvYec/tp6E1C+Y6D/VwN4xNbDpP0kLfa7q2uo/pGi3o2i36z/uolmZLX7sPwq5jF+tSO0//0jw1hgH7j8oDS4hdJbuP2VRFmVRFu8/2BP2hD1h7z9vSxLq3MfvP5i7Yly39O8/\",\"dtype\":\"float64\",\"shape\":[18]},\"RRN\":{\"__ndarray__\":\"n3eHOSYMwT/2fZv+TkHQP+BAw6r049c/Eg7ZSME93j81bjNLVjniP2Jbi262k+Q/SEmOvwnX5j9YOhtz8bToPyIsU1TMe+o/GCKecfa86z/iGWfPu8PsPz8S7IQQuO0/9Qt9XF6B7j+WB9atNA3vP0YEXXU8d+8/ZwI6mCqz7z+sAAaRfOrvPxkASjnt/O8/\",\"dtype\":\"float64\",\"shape\":[18]},\"RRP\":{\"__ndarray__\":\"JQDv1WP77z97AHIeovDvP1gBDCL51O8/7gJRU0Oi7z9hBTCI5FPvPx4I7WhN/O4/oQyD7dpr7j+JEsow2K7tP6UZLsBqy+w/ZCMF93iT6z+3LZiFFknqP0I7WhO/l+g/9EmUUIbB5j+sW2kaforkP3NubFqnMeI/BA2r0o9f3j8hPX3w0FvYP71024JZaNE/\",\"dtype\":\"float64\",\"shape\":[18]},\"TN\":[710,1354,1990,2519,3036,3428,3805,4116,4412,4621,4792,4951,5082,5173,5242,5281,5317,5329],\"TP\":[5328,5321,5303,5270,5219,5162,5068,4945,4797,4594,4379,4097,3791,3422,3031,2530,2029,1450],\"index\":[0,1,2,3,4,5,6,7,8,9,10,11,12,13,14,15,16,17],\"thresh\":{\"__ndarray__\":\"mpmZmZmZqT+amZmZmZm5PzQzMzMzM8M/mpmZmZmZyT8AAAAAAADQPzMzMzMzM9M/Z2ZmZmZm1j+amZmZmZnZP83MzMzMzNw/AAAAAAAA4D+amZmZmZnhPzQzMzMzM+M/zszMzMzM5D9nZmZmZmbmPwEAAAAAAOg/mpmZmZmZ6T80MzMzMzPrP87MzMzMzOw/\",\"dtype\":\"float64\",\"shape\":[18]}}},\"id\":\"eda9dedd-5b8f-4719-a95f-f2814a68dd9c\",\"type\":\"ColumnDataSource\"},{\"attributes\":{\"line_alpha\":0.1,\"line_color\":\"#1f77b4\",\"x\":{\"field\":\"thresh\"},\"y\":{\"field\":\"RRN\"}},\"id\":\"8eec802f-8881-4e10-8570-ccd481451238\",\"type\":\"Line\"},{\"attributes\":{},\"id\":\"3038e5ca-b1d5-464c-9e9d-d4a47ce72870\",\"type\":\"ResetTool\"},{\"attributes\":{},\"id\":\"db155d7d-fb6b-4c37-b895-eaa857b6ed0f\",\"type\":\"SaveTool\"},{\"attributes\":{\"label\":{\"value\":\"PRP \"},\"renderers\":[{\"id\":\"4eda308a-354e-40d2-8168-c1ecf6e3b22f\",\"type\":\"GlyphRenderer\"}]},\"id\":\"2da87586-4ea8-4619-89c4-9a907d9bac7d\",\"type\":\"LegendItem\"},{\"attributes\":{\"formatter\":{\"id\":\"5fb5dbaa-5c5d-4409-bc7a-2a80217b38e0\",\"type\":\"BasicTickFormatter\"},\"plot\":{\"id\":\"f625ab6b-72a5-479d-bb2e-079625f14081\",\"subtype\":\"Figure\",\"type\":\"Plot\"},\"ticker\":{\"id\":\"fdfa24eb-bfa6-4887-9166-7a4a191ff043\",\"type\":\"BasicTicker\"}},\"id\":\"cafde7d6-cdb8-44be-aa47-61d38524890d\",\"type\":\"LinearAxis\"},{\"attributes\":{\"label\":{\"value\":\"RRP \"},\"renderers\":[{\"id\":\"55ce6b14-b1f8-4388-a75b-fa92164cd955\",\"type\":\"GlyphRenderer\"}]},\"id\":\"37ab1e6f-43f7-4ab3-9ae6-eacb399ea79d\",\"type\":\"LegendItem\"},{\"attributes\":{\"data_source\":{\"id\":\"eda9dedd-5b8f-4719-a95f-f2814a68dd9c\",\"type\":\"ColumnDataSource\"},\"glyph\":{\"id\":\"be684da0-2d2e-4be7-aa1e-9ab917ad7a9b\",\"type\":\"Line\"},\"hover_glyph\":null,\"muted_glyph\":null,\"nonselection_glyph\":{\"id\":\"9f55a74b-f743-4da3-bcb2-adac69aca3bf\",\"type\":\"Line\"},\"selection_glyph\":null,\"view\":{\"id\":\"c8ad51be-5f34-4b27-8a38-b3e53d81e931\",\"type\":\"CDSView\"}},\"id\":\"4eda308a-354e-40d2-8168-c1ecf6e3b22f\",\"type\":\"GlyphRenderer\"},{\"attributes\":{},\"id\":\"9c872eb8-ef7c-46e8-8a9a-267f813639d6\",\"type\":\"HelpTool\"},{\"attributes\":{},\"id\":\"994542e0-c589-431d-8f50-60d0f3ffb9c4\",\"type\":\"BasicTicker\"},{\"attributes\":{\"source\":{\"id\":\"eda9dedd-5b8f-4719-a95f-f2814a68dd9c\",\"type\":\"ColumnDataSource\"}},\"id\":\"f6d16ee5-851a-4e1b-9af0-7acc78169621\",\"type\":\"CDSView\"},{\"attributes\":{},\"id\":\"fdfa24eb-bfa6-4887-9166-7a4a191ff043\",\"type\":\"BasicTicker\"},{\"attributes\":{\"line_alpha\":0.1,\"line_color\":\"#1f77b4\",\"x\":{\"field\":\"thresh\"},\"y\":{\"field\":\"RRP\"}},\"id\":\"6666b651-aaf6-4272-952a-c761c71a7218\",\"type\":\"Line\"},{\"attributes\":{},\"id\":\"309be3b6-dd19-459f-83ab-0bb8ac29e655\",\"type\":\"LinearScale\"},{\"attributes\":{\"overlay\":{\"id\":\"0c727657-af52-4d76-b870-6e692e0ff146\",\"type\":\"BoxAnnotation\"}},\"id\":\"a2ee4048-a823-4efd-a9ca-17411af0b722\",\"type\":\"BoxZoomTool\"},{\"attributes\":{\"plot\":{\"id\":\"f625ab6b-72a5-479d-bb2e-079625f14081\",\"subtype\":\"Figure\",\"type\":\"Plot\"},\"ticker\":{\"id\":\"fdfa24eb-bfa6-4887-9166-7a4a191ff043\",\"type\":\"BasicTicker\"}},\"id\":\"2d3c1147-26bf-49d0-bb34-a6dde4a1fb55\",\"type\":\"Grid\"},{\"attributes\":{\"active_drag\":\"auto\",\"active_inspect\":\"auto\",\"active_scroll\":\"auto\",\"active_tap\":\"auto\",\"tools\":[{\"id\":\"5e340a96-766e-4f23-b238-82fb6b30009e\",\"type\":\"PanTool\"},{\"id\":\"cf4ed6ee-ecb6-49a1-9a1f-dfe6bb342837\",\"type\":\"WheelZoomTool\"},{\"id\":\"a2ee4048-a823-4efd-a9ca-17411af0b722\",\"type\":\"BoxZoomTool\"},{\"id\":\"db155d7d-fb6b-4c37-b895-eaa857b6ed0f\",\"type\":\"SaveTool\"},{\"id\":\"3038e5ca-b1d5-464c-9e9d-d4a47ce72870\",\"type\":\"ResetTool\"},{\"id\":\"9c872eb8-ef7c-46e8-8a9a-267f813639d6\",\"type\":\"HelpTool\"}]},\"id\":\"97b1b998-90d9-4d40-a9f3-41ad88e34515\",\"type\":\"Toolbar\"},{\"attributes\":{\"line_color\":\"#1b9e77\",\"x\":{\"field\":\"thresh\"},\"y\":{\"field\":\"PRP\"}},\"id\":\"be684da0-2d2e-4be7-aa1e-9ab917ad7a9b\",\"type\":\"Line\"},{\"attributes\":{\"formatter\":{\"id\":\"f4d6e11f-988a-4466-80b7-75e1ba1ed6cc\",\"type\":\"BasicTickFormatter\"},\"plot\":{\"id\":\"f625ab6b-72a5-479d-bb2e-079625f14081\",\"subtype\":\"Figure\",\"type\":\"Plot\"},\"ticker\":{\"id\":\"994542e0-c589-431d-8f50-60d0f3ffb9c4\",\"type\":\"BasicTicker\"}},\"id\":\"edef74e2-655c-4a31-8634-857be1b49acc\",\"type\":\"LinearAxis\"},{\"attributes\":{\"click_policy\":\"hide\",\"items\":[{\"id\":\"2da87586-4ea8-4619-89c4-9a907d9bac7d\",\"type\":\"LegendItem\"},{\"id\":\"37ab1e6f-43f7-4ab3-9ae6-eacb399ea79d\",\"type\":\"LegendItem\"},{\"id\":\"370323b8-2ab0-4258-aebc-e8af1b436762\",\"type\":\"LegendItem\"},{\"id\":\"776dec90-3bad-4a3d-8b17-f0a13b4bead7\",\"type\":\"LegendItem\"}],\"location\":\"top_left\",\"plot\":{\"id\":\"f625ab6b-72a5-479d-bb2e-079625f14081\",\"subtype\":\"Figure\",\"type\":\"Plot\"}},\"id\":\"dc7d07d3-e91a-4f3c-8515-8a1840790ac7\",\"type\":\"Legend\"},{\"attributes\":{\"data_source\":{\"id\":\"eda9dedd-5b8f-4719-a95f-f2814a68dd9c\",\"type\":\"ColumnDataSource\"},\"glyph\":{\"id\":\"1fd998bb-949b-4353-a682-a24189febb7b\",\"type\":\"Line\"},\"hover_glyph\":null,\"muted_glyph\":null,\"nonselection_glyph\":{\"id\":\"8eec802f-8881-4e10-8570-ccd481451238\",\"type\":\"Line\"},\"selection_glyph\":null,\"view\":{\"id\":\"fe7f116d-e76c-4855-b763-90816c00c394\",\"type\":\"CDSView\"}},\"id\":\"d217409f-a055-4f3e-8898-b7f3435ea503\",\"type\":\"GlyphRenderer\"},{\"attributes\":{},\"id\":\"cf4ed6ee-ecb6-49a1-9a1f-dfe6bb342837\",\"type\":\"WheelZoomTool\"},{\"attributes\":{},\"id\":\"5fb5dbaa-5c5d-4409-bc7a-2a80217b38e0\",\"type\":\"BasicTickFormatter\"},{\"attributes\":{\"source\":{\"id\":\"eda9dedd-5b8f-4719-a95f-f2814a68dd9c\",\"type\":\"ColumnDataSource\"}},\"id\":\"c8ad51be-5f34-4b27-8a38-b3e53d81e931\",\"type\":\"CDSView\"},{\"attributes\":{\"source\":{\"id\":\"eda9dedd-5b8f-4719-a95f-f2814a68dd9c\",\"type\":\"ColumnDataSource\"}},\"id\":\"15489b3f-9d5a-43da-874c-0a3fb4777f21\",\"type\":\"CDSView\"},{\"attributes\":{},\"id\":\"5e340a96-766e-4f23-b238-82fb6b30009e\",\"type\":\"PanTool\"},{\"attributes\":{\"label\":{\"value\":\"PRN \"},\"renderers\":[{\"id\":\"b001e2d5-51ab-4150-be3e-a23916992aaa\",\"type\":\"GlyphRenderer\"}]},\"id\":\"370323b8-2ab0-4258-aebc-e8af1b436762\",\"type\":\"LegendItem\"},{\"attributes\":{\"callback\":null},\"id\":\"1d556e3f-a0db-4c36-a0f4-afb557e9f56c\",\"type\":\"DataRange1d\"},{\"attributes\":{\"data_source\":{\"id\":\"eda9dedd-5b8f-4719-a95f-f2814a68dd9c\",\"type\":\"ColumnDataSource\"},\"glyph\":{\"id\":\"42e3e2ce-1b44-427e-b1a2-ebc0d003b2b9\",\"type\":\"Line\"},\"hover_glyph\":null,\"muted_glyph\":null,\"nonselection_glyph\":{\"id\":\"6666b651-aaf6-4272-952a-c761c71a7218\",\"type\":\"Line\"},\"selection_glyph\":null,\"view\":{\"id\":\"f6d16ee5-851a-4e1b-9af0-7acc78169621\",\"type\":\"CDSView\"}},\"id\":\"55ce6b14-b1f8-4388-a75b-fa92164cd955\",\"type\":\"GlyphRenderer\"},{\"attributes\":{\"below\":[{\"id\":\"cafde7d6-cdb8-44be-aa47-61d38524890d\",\"type\":\"LinearAxis\"}],\"left\":[{\"id\":\"edef74e2-655c-4a31-8634-857be1b49acc\",\"type\":\"LinearAxis\"}],\"renderers\":[{\"id\":\"cafde7d6-cdb8-44be-aa47-61d38524890d\",\"type\":\"LinearAxis\"},{\"id\":\"2d3c1147-26bf-49d0-bb34-a6dde4a1fb55\",\"type\":\"Grid\"},{\"id\":\"edef74e2-655c-4a31-8634-857be1b49acc\",\"type\":\"LinearAxis\"},{\"id\":\"49b202b5-1844-4794-b13a-4ad35e434970\",\"type\":\"Grid\"},{\"id\":\"0c727657-af52-4d76-b870-6e692e0ff146\",\"type\":\"BoxAnnotation\"},{\"id\":\"dc7d07d3-e91a-4f3c-8515-8a1840790ac7\",\"type\":\"Legend\"},{\"id\":\"4eda308a-354e-40d2-8168-c1ecf6e3b22f\",\"type\":\"GlyphRenderer\"},{\"id\":\"55ce6b14-b1f8-4388-a75b-fa92164cd955\",\"type\":\"GlyphRenderer\"},{\"id\":\"b001e2d5-51ab-4150-be3e-a23916992aaa\",\"type\":\"GlyphRenderer\"},{\"id\":\"d217409f-a055-4f3e-8898-b7f3435ea503\",\"type\":\"GlyphRenderer\"}],\"title\":{\"id\":\"7c4bb995-7aa2-4235-80d6-9c63b91a7798\",\"type\":\"Title\"},\"toolbar\":{\"id\":\"97b1b998-90d9-4d40-a9f3-41ad88e34515\",\"type\":\"Toolbar\"},\"x_range\":{\"id\":\"1d556e3f-a0db-4c36-a0f4-afb557e9f56c\",\"type\":\"DataRange1d\"},\"x_scale\":{\"id\":\"8e6e4f3c-6d33-4dd2-970c-fe02d4aed7d5\",\"type\":\"LinearScale\"},\"y_range\":{\"id\":\"744e05f3-c83d-489e-8525-9b46bb94ecb0\",\"type\":\"DataRange1d\"},\"y_scale\":{\"id\":\"309be3b6-dd19-459f-83ab-0bb8ac29e655\",\"type\":\"LinearScale\"}},\"id\":\"f625ab6b-72a5-479d-bb2e-079625f14081\",\"subtype\":\"Figure\",\"type\":\"Plot\"},{\"attributes\":{\"label\":{\"value\":\"RRN \"},\"renderers\":[{\"id\":\"d217409f-a055-4f3e-8898-b7f3435ea503\",\"type\":\"GlyphRenderer\"}]},\"id\":\"776dec90-3bad-4a3d-8b17-f0a13b4bead7\",\"type\":\"LegendItem\"},{\"attributes\":{\"line_alpha\":0.1,\"line_color\":\"#1f77b4\",\"x\":{\"field\":\"thresh\"},\"y\":{\"field\":\"PRP\"}},\"id\":\"9f55a74b-f743-4da3-bcb2-adac69aca3bf\",\"type\":\"Line\"},{\"attributes\":{\"line_alpha\":0.1,\"line_color\":\"#1f77b4\",\"x\":{\"field\":\"thresh\"},\"y\":{\"field\":\"PRN\"}},\"id\":\"e529688f-79f6-4d1f-b584-05f48849b127\",\"type\":\"Line\"},{\"attributes\":{},\"id\":\"8e6e4f3c-6d33-4dd2-970c-fe02d4aed7d5\",\"type\":\"LinearScale\"},{\"attributes\":{\"source\":{\"id\":\"eda9dedd-5b8f-4719-a95f-f2814a68dd9c\",\"type\":\"ColumnDataSource\"}},\"id\":\"fe7f116d-e76c-4855-b763-90816c00c394\",\"type\":\"CDSView\"},{\"attributes\":{\"line_color\":\"#d95f02\",\"x\":{\"field\":\"thresh\"},\"y\":{\"field\":\"RRP\"}},\"id\":\"42e3e2ce-1b44-427e-b1a2-ebc0d003b2b9\",\"type\":\"Line\"},{\"attributes\":{\"bottom_units\":\"screen\",\"fill_alpha\":{\"value\":0.5},\"fill_color\":{\"value\":\"lightgrey\"},\"left_units\":\"screen\",\"level\":\"overlay\",\"line_alpha\":{\"value\":1.0},\"line_color\":{\"value\":\"black\"},\"line_dash\":[4,4],\"line_width\":{\"value\":2},\"plot\":null,\"render_mode\":\"css\",\"right_units\":\"screen\",\"top_units\":\"screen\"},\"id\":\"0c727657-af52-4d76-b870-6e692e0ff146\",\"type\":\"BoxAnnotation\"},{\"attributes\":{},\"id\":\"f4d6e11f-988a-4466-80b7-75e1ba1ed6cc\",\"type\":\"BasicTickFormatter\"},{\"attributes\":{\"line_color\":\"#7570b3\",\"x\":{\"field\":\"thresh\"},\"y\":{\"field\":\"PRN\"}},\"id\":\"9832a54b-3131-4420-a5b2-225787f8fb1f\",\"type\":\"Line\"},{\"attributes\":{\"callback\":null},\"id\":\"744e05f3-c83d-489e-8525-9b46bb94ecb0\",\"type\":\"DataRange1d\"},{\"attributes\":{\"data_source\":{\"id\":\"eda9dedd-5b8f-4719-a95f-f2814a68dd9c\",\"type\":\"ColumnDataSource\"},\"glyph\":{\"id\":\"9832a54b-3131-4420-a5b2-225787f8fb1f\",\"type\":\"Line\"},\"hover_glyph\":null,\"muted_glyph\":null,\"nonselection_glyph\":{\"id\":\"e529688f-79f6-4d1f-b584-05f48849b127\",\"type\":\"Line\"},\"selection_glyph\":null,\"view\":{\"id\":\"15489b3f-9d5a-43da-874c-0a3fb4777f21\",\"type\":\"CDSView\"}},\"id\":\"b001e2d5-51ab-4150-be3e-a23916992aaa\",\"type\":\"GlyphRenderer\"}],\"root_ids\":[\"f625ab6b-72a5-479d-bb2e-079625f14081\"]},\"title\":\"Bokeh Application\",\"version\":\"0.12.13\"}};\n",
       "  var render_items = [{\"docid\":\"b7a5b0ca-1561-4326-a831-034380591199\",\"elementid\":\"d53b9202-7089-4f94-9db8-1d527ea7f363\",\"modelid\":\"f625ab6b-72a5-479d-bb2e-079625f14081\"}];\n",
       "  root.Bokeh.embed.embed_items_notebook(docs_json, render_items);\n",
       "\n",
       "  }\n",
       "  if (root.Bokeh !== undefined) {\n",
       "    embed_document(root);\n",
       "  } else {\n",
       "    var attempts = 0;\n",
       "    var timer = setInterval(function(root) {\n",
       "      if (root.Bokeh !== undefined) {\n",
       "        embed_document(root);\n",
       "        clearInterval(timer);\n",
       "      }\n",
       "      attempts++;\n",
       "      if (attempts > 100) {\n",
       "        console.log(\"Bokeh: ERROR: Unable to run BokehJS code because BokehJS library is missing\")\n",
       "        clearInterval(timer);\n",
       "      }\n",
       "    }, 10, root)\n",
       "  }\n",
       "})(window);"
      ],
      "application/vnd.bokehjs_exec.v0+json": ""
     },
     "metadata": {
      "application/vnd.bokehjs_exec.v0+json": {
       "id": "f625ab6b-72a5-479d-bb2e-079625f14081"
      }
     },
     "output_type": "display_data"
    }
   ],
   "source": [
    "show(p)"
   ]
  },
  {
   "cell_type": "markdown",
   "metadata": {},
   "source": [
    "##### sandbox"
   ]
  },
  {
   "cell_type": "code",
   "execution_count": 567,
   "metadata": {},
   "outputs": [
    {
     "data": {
      "text/html": [
       "<div style=\"display: table;\"><div style=\"display: table-row;\"><div style=\"display: table-cell;\"><b title=\"bokeh.models.renderers.GlyphRenderer\">GlyphRenderer</b>(</div><div style=\"display: table-cell;\">id&nbsp;=&nbsp;'0a897fae-7f18-4327-9aa9-56f88228f869', <span id=\"169bffa4-4c5e-42d1-bf2c-e070ff73ac29\" style=\"cursor: pointer;\">&hellip;)</span></div></div><div class=\"b398f115-fc7a-4bb2-949b-6988ce4920ed\" style=\"display: none;\"><div style=\"display: table-cell;\"></div><div style=\"display: table-cell;\">data_source&nbsp;=&nbsp;ColumnDataSource(id='30e9ebbf-f460-4cc2-9775-c31e395ca6e2', ...),</div></div><div class=\"b398f115-fc7a-4bb2-949b-6988ce4920ed\" style=\"display: none;\"><div style=\"display: table-cell;\"></div><div style=\"display: table-cell;\">glyph&nbsp;=&nbsp;Line(id='e5bd6147-5590-47cb-a8d6-2c4458a37a26', ...),</div></div><div class=\"b398f115-fc7a-4bb2-949b-6988ce4920ed\" style=\"display: none;\"><div style=\"display: table-cell;\"></div><div style=\"display: table-cell;\">hover_glyph&nbsp;=&nbsp;None,</div></div><div class=\"b398f115-fc7a-4bb2-949b-6988ce4920ed\" style=\"display: none;\"><div style=\"display: table-cell;\"></div><div style=\"display: table-cell;\">js_event_callbacks&nbsp;=&nbsp;{},</div></div><div class=\"b398f115-fc7a-4bb2-949b-6988ce4920ed\" style=\"display: none;\"><div style=\"display: table-cell;\"></div><div style=\"display: table-cell;\">js_property_callbacks&nbsp;=&nbsp;{},</div></div><div class=\"b398f115-fc7a-4bb2-949b-6988ce4920ed\" style=\"display: none;\"><div style=\"display: table-cell;\"></div><div style=\"display: table-cell;\">level&nbsp;=&nbsp;'glyph',</div></div><div class=\"b398f115-fc7a-4bb2-949b-6988ce4920ed\" style=\"display: none;\"><div style=\"display: table-cell;\"></div><div style=\"display: table-cell;\">muted&nbsp;=&nbsp;False,</div></div><div class=\"b398f115-fc7a-4bb2-949b-6988ce4920ed\" style=\"display: none;\"><div style=\"display: table-cell;\"></div><div style=\"display: table-cell;\">muted_glyph&nbsp;=&nbsp;None,</div></div><div class=\"b398f115-fc7a-4bb2-949b-6988ce4920ed\" style=\"display: none;\"><div style=\"display: table-cell;\"></div><div style=\"display: table-cell;\">name&nbsp;=&nbsp;None,</div></div><div class=\"b398f115-fc7a-4bb2-949b-6988ce4920ed\" style=\"display: none;\"><div style=\"display: table-cell;\"></div><div style=\"display: table-cell;\">nonselection_glyph&nbsp;=&nbsp;Line(id='554f6b6e-9385-4493-a5e5-04e2d0c88926', ...),</div></div><div class=\"b398f115-fc7a-4bb2-949b-6988ce4920ed\" style=\"display: none;\"><div style=\"display: table-cell;\"></div><div style=\"display: table-cell;\">selection_glyph&nbsp;=&nbsp;None,</div></div><div class=\"b398f115-fc7a-4bb2-949b-6988ce4920ed\" style=\"display: none;\"><div style=\"display: table-cell;\"></div><div style=\"display: table-cell;\">subscribed_events&nbsp;=&nbsp;[],</div></div><div class=\"b398f115-fc7a-4bb2-949b-6988ce4920ed\" style=\"display: none;\"><div style=\"display: table-cell;\"></div><div style=\"display: table-cell;\">tags&nbsp;=&nbsp;[],</div></div><div class=\"b398f115-fc7a-4bb2-949b-6988ce4920ed\" style=\"display: none;\"><div style=\"display: table-cell;\"></div><div style=\"display: table-cell;\">view&nbsp;=&nbsp;CDSView(id='127d107d-4d37-4ee5-965e-032765b3993a', ...),</div></div><div class=\"b398f115-fc7a-4bb2-949b-6988ce4920ed\" style=\"display: none;\"><div style=\"display: table-cell;\"></div><div style=\"display: table-cell;\">visible&nbsp;=&nbsp;True,</div></div><div class=\"b398f115-fc7a-4bb2-949b-6988ce4920ed\" style=\"display: none;\"><div style=\"display: table-cell;\"></div><div style=\"display: table-cell;\">x_range_name&nbsp;=&nbsp;'default',</div></div><div class=\"b398f115-fc7a-4bb2-949b-6988ce4920ed\" style=\"display: none;\"><div style=\"display: table-cell;\"></div><div style=\"display: table-cell;\">y_range_name&nbsp;=&nbsp;'default')</div></div></div>\n",
       "<script>\n",
       "(function() {\n",
       "  var expanded = false;\n",
       "  var ellipsis = document.getElementById(\"169bffa4-4c5e-42d1-bf2c-e070ff73ac29\");\n",
       "  ellipsis.addEventListener(\"click\", function() {\n",
       "    var rows = document.getElementsByClassName(\"b398f115-fc7a-4bb2-949b-6988ce4920ed\");\n",
       "    for (var i = 0; i < rows.length; i++) {\n",
       "      var el = rows[i];\n",
       "      el.style.display = expanded ? \"none\" : \"table-row\";\n",
       "    }\n",
       "    ellipsis.innerHTML = expanded ? \"&hellip;)\" : \"&lsaquo;&lsaquo;&lsaquo;\";\n",
       "    expanded = !expanded;\n",
       "  });\n",
       "})();\n",
       "</script>\n"
      ],
      "text/plain": [
       "GlyphRenderer(id='0a897fae-7f18-4327-9aa9-56f88228f869', ...)"
      ]
     },
     "execution_count": 567,
     "metadata": {},
     "output_type": "execute_result"
    }
   ],
   "source": [
    "p.line(x = \"thresh\", y = \"TP\" ,  source = source)"
   ]
  },
  {
   "cell_type": "code",
   "execution_count": 560,
   "metadata": {},
   "outputs": [
    {
     "data": {
      "text/html": [
       "<div>\n",
       "<style scoped>\n",
       "    .dataframe tbody tr th:only-of-type {\n",
       "        vertical-align: middle;\n",
       "    }\n",
       "\n",
       "    .dataframe tbody tr th {\n",
       "        vertical-align: top;\n",
       "    }\n",
       "\n",
       "    .dataframe thead th {\n",
       "        text-align: right;\n",
       "    }\n",
       "</style>\n",
       "<table border=\"1\" class=\"dataframe\">\n",
       "  <thead>\n",
       "    <tr style=\"text-align: right;\">\n",
       "      <th></th>\n",
       "      <th>TP</th>\n",
       "      <th>FP</th>\n",
       "      <th>FN</th>\n",
       "      <th>TN</th>\n",
       "      <th>thresh</th>\n",
       "    </tr>\n",
       "  </thead>\n",
       "  <tbody>\n",
       "    <tr>\n",
       "      <th>0</th>\n",
       "      <td>5328</td>\n",
       "      <td>4621</td>\n",
       "      <td>3</td>\n",
       "      <td>710</td>\n",
       "      <td>0.05</td>\n",
       "    </tr>\n",
       "    <tr>\n",
       "      <th>1</th>\n",
       "      <td>5321</td>\n",
       "      <td>3977</td>\n",
       "      <td>10</td>\n",
       "      <td>1354</td>\n",
       "      <td>0.10</td>\n",
       "    </tr>\n",
       "    <tr>\n",
       "      <th>2</th>\n",
       "      <td>5303</td>\n",
       "      <td>3341</td>\n",
       "      <td>28</td>\n",
       "      <td>1990</td>\n",
       "      <td>0.15</td>\n",
       "    </tr>\n",
       "    <tr>\n",
       "      <th>3</th>\n",
       "      <td>5270</td>\n",
       "      <td>2812</td>\n",
       "      <td>61</td>\n",
       "      <td>2519</td>\n",
       "      <td>0.20</td>\n",
       "    </tr>\n",
       "    <tr>\n",
       "      <th>4</th>\n",
       "      <td>5219</td>\n",
       "      <td>2295</td>\n",
       "      <td>112</td>\n",
       "      <td>3036</td>\n",
       "      <td>0.25</td>\n",
       "    </tr>\n",
       "    <tr>\n",
       "      <th>5</th>\n",
       "      <td>5162</td>\n",
       "      <td>1903</td>\n",
       "      <td>169</td>\n",
       "      <td>3428</td>\n",
       "      <td>0.30</td>\n",
       "    </tr>\n",
       "    <tr>\n",
       "      <th>6</th>\n",
       "      <td>5068</td>\n",
       "      <td>1526</td>\n",
       "      <td>263</td>\n",
       "      <td>3805</td>\n",
       "      <td>0.35</td>\n",
       "    </tr>\n",
       "    <tr>\n",
       "      <th>7</th>\n",
       "      <td>4945</td>\n",
       "      <td>1215</td>\n",
       "      <td>386</td>\n",
       "      <td>4116</td>\n",
       "      <td>0.40</td>\n",
       "    </tr>\n",
       "    <tr>\n",
       "      <th>8</th>\n",
       "      <td>4797</td>\n",
       "      <td>919</td>\n",
       "      <td>534</td>\n",
       "      <td>4412</td>\n",
       "      <td>0.45</td>\n",
       "    </tr>\n",
       "    <tr>\n",
       "      <th>9</th>\n",
       "      <td>4594</td>\n",
       "      <td>710</td>\n",
       "      <td>737</td>\n",
       "      <td>4621</td>\n",
       "      <td>0.50</td>\n",
       "    </tr>\n",
       "    <tr>\n",
       "      <th>10</th>\n",
       "      <td>4379</td>\n",
       "      <td>539</td>\n",
       "      <td>952</td>\n",
       "      <td>4792</td>\n",
       "      <td>0.55</td>\n",
       "    </tr>\n",
       "    <tr>\n",
       "      <th>11</th>\n",
       "      <td>4097</td>\n",
       "      <td>380</td>\n",
       "      <td>1234</td>\n",
       "      <td>4951</td>\n",
       "      <td>0.60</td>\n",
       "    </tr>\n",
       "    <tr>\n",
       "      <th>12</th>\n",
       "      <td>3791</td>\n",
       "      <td>249</td>\n",
       "      <td>1540</td>\n",
       "      <td>5082</td>\n",
       "      <td>0.65</td>\n",
       "    </tr>\n",
       "    <tr>\n",
       "      <th>13</th>\n",
       "      <td>3422</td>\n",
       "      <td>158</td>\n",
       "      <td>1909</td>\n",
       "      <td>5173</td>\n",
       "      <td>0.70</td>\n",
       "    </tr>\n",
       "    <tr>\n",
       "      <th>14</th>\n",
       "      <td>3031</td>\n",
       "      <td>89</td>\n",
       "      <td>2300</td>\n",
       "      <td>5242</td>\n",
       "      <td>0.75</td>\n",
       "    </tr>\n",
       "    <tr>\n",
       "      <th>15</th>\n",
       "      <td>2530</td>\n",
       "      <td>50</td>\n",
       "      <td>2801</td>\n",
       "      <td>5281</td>\n",
       "      <td>0.80</td>\n",
       "    </tr>\n",
       "    <tr>\n",
       "      <th>16</th>\n",
       "      <td>2029</td>\n",
       "      <td>14</td>\n",
       "      <td>3302</td>\n",
       "      <td>5317</td>\n",
       "      <td>0.85</td>\n",
       "    </tr>\n",
       "    <tr>\n",
       "      <th>17</th>\n",
       "      <td>1450</td>\n",
       "      <td>2</td>\n",
       "      <td>3881</td>\n",
       "      <td>5329</td>\n",
       "      <td>0.90</td>\n",
       "    </tr>\n",
       "  </tbody>\n",
       "</table>\n",
       "</div>"
      ],
      "text/plain": [
       "      TP    FP    FN    TN  thresh\n",
       "0   5328  4621     3   710    0.05\n",
       "1   5321  3977    10  1354    0.10\n",
       "2   5303  3341    28  1990    0.15\n",
       "3   5270  2812    61  2519    0.20\n",
       "4   5219  2295   112  3036    0.25\n",
       "5   5162  1903   169  3428    0.30\n",
       "6   5068  1526   263  3805    0.35\n",
       "7   4945  1215   386  4116    0.40\n",
       "8   4797   919   534  4412    0.45\n",
       "9   4594   710   737  4621    0.50\n",
       "10  4379   539   952  4792    0.55\n",
       "11  4097   380  1234  4951    0.60\n",
       "12  3791   249  1540  5082    0.65\n",
       "13  3422   158  1909  5173    0.70\n",
       "14  3031    89  2300  5242    0.75\n",
       "15  2530    50  2801  5281    0.80\n",
       "16  2029    14  3302  5317    0.85\n",
       "17  1450     2  3881  5329    0.90"
      ]
     },
     "execution_count": 560,
     "metadata": {},
     "output_type": "execute_result"
    }
   ],
   "source": [
    "df"
   ]
  },
  {
   "cell_type": "code",
   "execution_count": null,
   "metadata": {},
   "outputs": [],
   "source": [
    "fy = fy_pred8\n",
    "\n",
    "thresh = 0.5\n",
    "y_pred = [1 if x > thresh else -1 for x in fy]"
   ]
  },
  {
   "cell_type": "code",
   "execution_count": 530,
   "metadata": {},
   "outputs": [
    {
     "data": {
      "text/plain": [
       "10662"
      ]
     },
     "execution_count": 530,
     "metadata": {},
     "output_type": "execute_result"
    }
   ],
   "source": [
    "y_correct.shape[0]"
   ]
  },
  {
   "cell_type": "code",
   "execution_count": 551,
   "metadata": {},
   "outputs": [
    {
     "data": {
      "text/plain": [
       "array([ 0.05,  0.1 ,  0.15,  0.2 ,  0.25,  0.3 ,  0.35,  0.4 ,  0.45,\n",
       "        0.5 ,  0.55,  0.6 ,  0.65,  0.7 ,  0.75,  0.8 ,  0.85,  0.9 ])"
      ]
     },
     "execution_count": 551,
     "metadata": {},
     "output_type": "execute_result"
    }
   ],
   "source": []
  },
  {
   "cell_type": "code",
   "execution_count": 547,
   "metadata": {},
   "outputs": [
    {
     "ename": "IndentationError",
     "evalue": "unexpected indent (<ipython-input-547-128ac688bf78>, line 2)",
     "output_type": "error",
     "traceback": [
      "\u001b[0;36m  File \u001b[0;32m\"<ipython-input-547-128ac688bf78>\"\u001b[0;36m, line \u001b[0;32m2\u001b[0m\n\u001b[0;31m    y_pred = np.array([1 if x > thresh else -1 for x in fy])\u001b[0m\n\u001b[0m    ^\u001b[0m\n\u001b[0;31mIndentationError\u001b[0m\u001b[0;31m:\u001b[0m unexpected indent\n"
     ]
    }
   ],
   "source": [
    "?range    \n",
    "    y_pred = np.array([1 if x > thresh else -1 for x in fy])\n",
    "    N = y_pred.shape[0]\n",
    "    T = np.where(y_pred == y_correct , 1 , 0)\n",
    "    P = np.where(y_pred == 1 , 1, 0)"
   ]
  },
  {
   "cell_type": "code",
   "execution_count": 543,
   "metadata": {},
   "outputs": [
    {
     "data": {
      "text/plain": [
       "4621"
      ]
     },
     "execution_count": 543,
     "metadata": {},
     "output_type": "execute_result"
    }
   ],
   "source": [
    "\n",
    "np.sum(T * (1-P))"
   ]
  },
  {
   "cell_type": "code",
   "execution_count": 542,
   "metadata": {},
   "outputs": [
    {
     "data": {
      "text/plain": [
       "4621"
      ]
     },
     "execution_count": 542,
     "metadata": {},
     "output_type": "execute_result"
    }
   ],
   "source": [
    "TN8"
   ]
  },
  {
   "cell_type": "code",
   "execution_count": 652,
   "metadata": {},
   "outputs": [
    {
     "name": "stdout",
     "output_type": "stream",
     "text": [
      "[master 3477f0c] finished 79\n",
      " 1 file changed, 1213 insertions(+), 4 deletions(-)\n"
     ]
    }
   ],
   "source": [
    "%%bash \n",
    "git commit -a -m \"finished 79\""
   ]
  },
  {
   "cell_type": "code",
   "execution_count": null,
   "metadata": {},
   "outputs": [],
   "source": []
  }
 ],
 "metadata": {
  "kernelspec": {
   "display_name": "Python [default]",
   "language": "python",
   "name": "python3"
  },
  "language_info": {
   "codemirror_mode": {
    "name": "ipython",
    "version": 3
   },
   "file_extension": ".py",
   "mimetype": "text/x-python",
   "name": "python",
   "nbconvert_exporter": "python",
   "pygments_lexer": "ipython3",
   "version": "3.5.4"
  },
  "toc": {
   "colors": {
    "hover_highlight": "#DAA520",
    "navigate_num": "#000000",
    "navigate_text": "#333333",
    "running_highlight": "#FF0000",
    "selected_highlight": "#FFD700",
    "sidebar_border": "#EEEEEE",
    "wrapper_background": "#FFFFFF"
   },
   "moveMenuLeft": true,
   "nav_menu": {
    "height": "48px",
    "width": "252px"
   },
   "navigate_menu": true,
   "number_sections": true,
   "sideBar": false,
   "threshold": 4,
   "toc_cell": false,
   "toc_position": {
    "height": "1509px",
    "left": "2px",
    "right": "20px",
    "top": "111px",
    "width": "212px"
   },
   "toc_section_display": "block",
   "toc_window_display": false,
   "widenNotebook": false
  }
 },
 "nbformat": 4,
 "nbformat_minor": 2
}
