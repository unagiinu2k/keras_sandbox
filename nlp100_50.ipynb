{
 "cells": [
  {
   "cell_type": "markdown",
   "metadata": {},
   "source": [
    "英語のテキスト（nlp.txt）に対して，以下の処理を実行せよ．"
   ]
  },
  {
   "cell_type": "markdown",
   "metadata": {},
   "source": [
    "** coreNLP **"
   ]
  },
  {
   "cell_type": "markdown",
   "metadata": {},
   "source": [
    "*** How to run corenlp from python ***"
   ]
  },
  {
   "cell_type": "code",
   "execution_count": 1,
   "metadata": {},
   "outputs": [],
   "source": [
    "import os"
   ]
  },
  {
   "cell_type": "code",
   "execution_count": null,
   "metadata": {},
   "outputs": [],
   "source": [
    "corenlp_path = os.path.expanduser(\"~\") + \"/Tools/stanford-corenlp-full-2018-02-27/*\" "
   ]
  },
  {
   "cell_type": "code",
   "execution_count": null,
   "metadata": {},
   "outputs": [],
   "source": [
    "subprocess_command = 'java -Xmx4g -cp ' + '\"' + corenlp_path + '\"'  + '  edu.stanford.nlp.pipeline.StanfordCoreNLP -annotators tokenize,ssplit,pos,lemma,ner,parse,dcoref -file nlp100data/nlp.txt'"
   ]
  },
  {
   "cell_type": "code",
   "execution_count": null,
   "metadata": {},
   "outputs": [],
   "source": [
    "import subprocess"
   ]
  },
  {
   "cell_type": "code",
   "execution_count": null,
   "metadata": {},
   "outputs": [],
   "source": [
    "subprocess.run(subprocess_command , \n",
    "              shell = True, \n",
    "              check = True)"
   ]
  },
  {
   "cell_type": "markdown",
   "metadata": {},
   "source": [
    "**** sandbox (failed attempts) ****"
   ]
  },
  {
   "cell_type": "code",
   "execution_count": 22,
   "metadata": {},
   "outputs": [],
   "source": [
    "homedir = os.getenv('HOME')"
   ]
  },
  {
   "cell_type": "markdown",
   "metadata": {},
   "source": [
    "bash上でcoreNLPのディレクトリに移動して以下のコマンドはうまくいった。\n",
    "\n",
    "もっともcoreNLPのディレクトリ以下に吐いてしまう"
   ]
  },
  {
   "cell_type": "markdown",
   "metadata": {},
   "source": [
    ":~/Tools/stanford-corenlp-full-2018-02-27$ java -cp \"*\" -Xmx2g edu.stanford.nlp.pipeline.StanfordCoreNLP -annotators tokenize,ssplit,tokenize,pos,lemma,ner -file ~/PycharmProjects/keras_sandbox/nlp100data/nlp.txt\n"
   ]
  },
  {
   "cell_type": "markdown",
   "metadata": {},
   "source": [
    "以下も動きそうで動かない（？）"
   ]
  },
  {
   "cell_type": "code",
   "execution_count": null,
   "metadata": {},
   "outputs": [],
   "source": [
    "%%bash\n",
    "cd ~/Tools/stanford-corenlp-full-2018-02-27/\n",
    "java -cp \"*\" -Xmx2g edu.stanford.nlp.pipeline.StanfordCoreNLP -annotators tokenize,ssplit,pos,lemma,ner,parse,dcoref -file /home/toshinao/PycharmProjects/keras_sandbox/nlp100data/nlp.txt "
   ]
  },
  {
   "cell_type": "markdown",
   "metadata": {},
   "source": [
    "*** formatting xml ***\n"
   ]
  },
  {
   "cell_type": "code",
   "execution_count": null,
   "metadata": {},
   "outputs": [],
   "source": [
    "%%bash\n",
    "xmllint --format nlp.txt.xml --output tmp.xml\n"
   ]
  },
  {
   "cell_type": "markdown",
   "metadata": {},
   "source": [
    "*** server ***"
   ]
  },
  {
   "cell_type": "markdown",
   "metadata": {},
   "source": [
    "起動の仕方は：\n",
    "\n",
    "https://stanfordnlp.github.io/CoreNLP/corenlp-server.html\n",
    "\n"
   ]
  },
  {
   "cell_type": "code",
   "execution_count": null,
   "metadata": {},
   "outputs": [],
   "source": [
    "%%bash\n",
    "pwd"
   ]
  },
  {
   "cell_type": "code",
   "execution_count": null,
   "metadata": {
    "scrolled": true
   },
   "outputs": [],
   "source": [
    "%%bash\n",
    "cd ~/Tools/stanford-corenlp-full-2018-02-27/\n",
    "java -Xmx2g  -cp \"*\" edu.stanford.nlp.pipeline.StanfordCoreNLP -annotators tokenize,ssplit,pos,lemma,ner,parse,dcoref -file input.txt"
   ]
  },
  {
   "cell_type": "markdown",
   "metadata": {},
   "source": [
    "*** python binding ***"
   ]
  },
  {
   "cell_type": "markdown",
   "metadata": {},
   "source": [
    "\n",
    "\n",
    "https://www.khalidalnajjar.com/setup-use-stanford-corenlp-server-python/\n",
    "に従って、\n",
    "\n",
    "https://github.com/Lynten/stanford-corenlp\n",
    "を試してみる"
   ]
  },
  {
   "cell_type": "code",
   "execution_count": null,
   "metadata": {},
   "outputs": [],
   "source": [
    "from stanfordcorenlp import StanfordCoreNLP"
   ]
  },
  {
   "cell_type": "markdown",
   "metadata": {},
   "source": [
    "以下のようにすれば予めサーバを立てておかなくても良い："
   ]
  },
  {
   "cell_type": "code",
   "execution_count": null,
   "metadata": {
    "scrolled": true
   },
   "outputs": [],
   "source": [
    "corenlp = StanfordCoreNLP(r'/home/toshinao/Tools/stanford-corenlp-full-2018-02-27')"
   ]
  },
  {
   "cell_type": "code",
   "execution_count": null,
   "metadata": {},
   "outputs": [],
   "source": [
    "corenlp.parse(r'nlp100data/nlp.txt')"
   ]
  },
  {
   "cell_type": "code",
   "execution_count": null,
   "metadata": {},
   "outputs": [],
   "source": [
    "sentence = 'Guangdong University of Foreign Studies is located in Guangzhou.'"
   ]
  },
  {
   "cell_type": "code",
   "execution_count": null,
   "metadata": {},
   "outputs": [],
   "source": [
    "print(corenlp.word_tokenize(sentence))"
   ]
  },
  {
   "cell_type": "code",
   "execution_count": null,
   "metadata": {},
   "outputs": [],
   "source": [
    "print(corenlp.pos_tag(sentence))"
   ]
  },
  {
   "cell_type": "code",
   "execution_count": null,
   "metadata": {},
   "outputs": [],
   "source": [
    "print(corenlp.ner(sentence))"
   ]
  },
  {
   "cell_type": "code",
   "execution_count": null,
   "metadata": {},
   "outputs": [],
   "source": [
    "print(nlp.parse(sentence))"
   ]
  },
  {
   "cell_type": "code",
   "execution_count": null,
   "metadata": {},
   "outputs": [],
   "source": [
    "print(corenlp.dependency_parse(sentence))"
   ]
  },
  {
   "cell_type": "markdown",
   "metadata": {},
   "source": [
    "** 0. 文区切り **\n",
    "\n",
    "(. or ; or : or ? or !) → 空白文字 → 英大文字というパターンを文の区切りと見なし，入力された文書を1行1文の形式で出力せよ．"
   ]
  },
  {
   "cell_type": "code",
   "execution_count": 2,
   "metadata": {},
   "outputs": [],
   "source": [
    "import codecs"
   ]
  },
  {
   "cell_type": "code",
   "execution_count": 3,
   "metadata": {},
   "outputs": [],
   "source": [
    "import re"
   ]
  },
  {
   "cell_type": "code",
   "execution_count": 4,
   "metadata": {},
   "outputs": [],
   "source": [
    "nlp_txt_path = 'nlp100data/nlp.txt'"
   ]
  },
  {
   "cell_type": "code",
   "execution_count": 5,
   "metadata": {},
   "outputs": [],
   "source": [
    "def nlp_lines(file_path):\n",
    "    r = re.compile(\"(^.*?[\\.|;|:|\\?|!])\\s([A-Z].*)\")\n",
    "    with codecs.open(file_path , 'r', 'utf-8') as rf:\n",
    "        for l in rf:\n",
    "            l = l.strip()\n",
    "            while len(l) > 0:\n",
    "                m = r.match(l)\n",
    "                if m:\n",
    "                    s0 = m.group(1)\n",
    "                    l = m.group(2)\n",
    "                    yield s0\n",
    "                else:\n",
    "                    yield l\n",
    "                    l = \"\"\n",
    "            "
   ]
  },
  {
   "cell_type": "code",
   "execution_count": 6,
   "metadata": {},
   "outputs": [
    {
     "name": "stdout",
     "output_type": "stream",
     "text": [
      "Natural language processing\n",
      "From Wikipedia, the free encyclopedia\n",
      "Natural language processing (NLP) is a field of computer science, artificial intelligence, and linguistics concerned with the interactions between computers and human (natural) languages.\n",
      "As such, NLP is related to the area of humani-computer interaction.\n",
      "Many challenges in NLP involve natural language understanding, that is, enabling computers to derive meaning from human or natural language input, and others involve natural language generation.\n",
      "History\n",
      "The history of NLP generally starts in the 1950s, although work can be found from earlier periods.\n",
      "In 1950, Alan Turing published an article titled \"Computing Machinery and Intelligence\" which proposed what is now called the Turing test as a criterion of intelligence.\n",
      "The Georgetown experiment in 1954 involved fully automatic translation of more than sixty Russian sentences into English.\n",
      "The authors claimed that within three or five years, machine translation would be a solved problem.\n"
     ]
    }
   ],
   "source": [
    "for i, l in enumerate(nlp_lines(nlp_txt_path)):\n",
    "    if i < 10:\n",
    "        print(l)"
   ]
  },
  {
   "cell_type": "markdown",
   "metadata": {},
   "source": [
    "*** sandbox ***"
   ]
  },
  {
   "cell_type": "code",
   "execution_count": null,
   "metadata": {},
   "outputs": [],
   "source": [
    "r = re.compile(\"(^.*?[\\.|;|:|\\?|!])\\s([A-Z].*)\")"
   ]
  },
  {
   "cell_type": "code",
   "execution_count": null,
   "metadata": {},
   "outputs": [],
   "source": [
    "m = r.match(run_list[3])"
   ]
  },
  {
   "cell_type": "code",
   "execution_count": null,
   "metadata": {},
   "outputs": [],
   "source": [
    "m.group(2)"
   ]
  },
  {
   "cell_type": "code",
   "execution_count": 45,
   "metadata": {},
   "outputs": [
    {
     "name": "stdout",
     "output_type": "stream",
     "text": [
      "Natural language processing\n",
      "\n",
      "From Wikipedia, the free encyclopedia\n",
      "\n",
      "\n",
      "\n",
      "Natural language processing (NLP) is a field of computer science, artificial intelligence, and linguistics concerned with the interactions between computers and human (natural) languages. As such, NLP is related to the area of humani-computer interaction. Many challenges in NLP involve natural language understanding, that is, enabling computers to derive meaning from human or natural language input, and others involve natural language generation.\n",
      "\n",
      "\n",
      "\n",
      "History\n",
      "\n",
      "\n",
      "\n",
      "The history of NLP generally starts in the 1950s, although work can be found from earlier periods. In 1950, Alan Turing published an article titled \"Computing Machinery and Intelligence\" which proposed what is now called the Turing test as a criterion of intelligence.\n",
      "\n",
      "\n",
      "\n",
      "The Georgetown experiment in 1954 involved fully automatic translation of more than sixty Russian sentences into English. The authors claimed that within three or five years, machine translation would be a solved problem. However, real progress was much slower, and after the ALPAC report in 1966, which found that ten year long research had failed to fulfill the expectations, funding for machine translation was dramatically reduced. Little further research in machine translation was conducted until the late 1980s, when the first statistical machine translation systems were developed.\n",
      "\n",
      "\n",
      "\n",
      "Some notably successful NLP systems developed in the 1960s were SHRDLU, a natural language system working in restricted \"blocks worlds\" with restricted vocabularies, and ELIZA, a simulation of a Rogerian psychotherapist, written by Joseph Weizenbaum between 1964 to 1966. Using almost no information about human thought or emotion, ELIZA sometimes provided a startlingly human-like interaction. When the \"patient\" exceeded the very small knowledge base, ELIZA might provide a generic response, for example, responding to \"My head hurts\" with \"Why do you say your head hurts?\".\n",
      "\n",
      "\n",
      "\n",
      "During the 1970s many programmers began to write 'conceptual ontologies', which structured real-world information into computer-understandable data. Examples are MARGIE (Schank, 1975), SAM (Cullingford, 1978), PAM (Wilensky, 1978), TaleSpin (Meehan, 1976), QUALM (Lehnert, 1977), Politics (Carbonell, 1979), and Plot Units (Lehnert 1981). During this time, many chatterbots were written including PARRY, Racter, and Jabberwacky.\n",
      "\n",
      "\n",
      "\n",
      "Up to the 1980s, most NLP systems were based on complex sets of hand-written rules. Starting in the late 1980s, however, there was a revolution in NLP with the introduction of machine learning algorithms for language processing. This was due to both the steady increase in computational power resulting from Moore's Law and the gradual lessening of the dominance of Chomskyan theories of linguistics (e.g. transformational grammar), whose theoretical underpinnings discouraged the sort of corpus linguistics that underlies the machine-learning approach to language processing. Some of the earliest-used machine learning algorithms, such as decision trees, produced systems of hard if-then rules similar to existing hand-written rules. However, Part of speech tagging introduced the use of Hidden Markov Models to NLP, and increasingly, research has focused on statistical models, which make soft, probabilistic decisions based on attaching real-valued weights to the features making up the input data. The cache language models upon which many speech recognition systems now rely are examples of such statistical models. Such models are generally more robust when given unfamiliar input, especially input that contains errors (as is very common for real-world data), and produce more reliable results when integrated into a larger system comprising multiple subtasks.\n",
      "\n",
      "\n",
      "\n",
      "Many of the notable early successes occurred in the field of machine translation, due especially to work at IBM Research, where successively more complicated statistical models were developed. These systems were able to take advantage of existing multilingual textual corpora that had been produced by the Parliament of Canada and the European Union as a result of laws calling for the translation of all governmental proceedings into all official languages of the corresponding systems of government. However, most other systems depended on corpora specifically developed for the tasks implemented by these systems, which was (and often continues to be) a major limitation in the success of these systems. As a result, a great deal of research has gone into methods of more effectively learning from limited amounts of data.\n",
      "\n",
      "\n",
      "\n",
      "Recent research has increasingly focused on unsupervised and semi-supervised learning algorithms. Such algorithms are able to learn from data that has not been hand-annotated with the desired answers, or using a combination of annotated and non-annotated data. Generally, this task is much more difficult than supervised learning, and typically produces less accurate results for a given amount of input data. However, there is an enormous amount of non-annotated data available (including, among other things, the entire content of the World Wide Web), which can often make up for the inferior results.\n",
      "\n",
      "\n",
      "\n",
      "NLP using machine learning\n",
      "\n",
      "\n",
      "\n",
      "Modern NLP algorithms are based on machine learning, especially statistical machine learning. The paradigm of machine learning is different from that of most prior attempts at language processing. Prior implementations of language-processing tasks typically involved the direct hand coding of large sets of rules. The machine-learning paradigm calls instead for using general learning algorithms - often, although not always, grounded in statistical inference - to automatically learn such rules through the analysis of large corpora of typical real-world examples. A corpus (plural, \"corpora\") is a set of documents (or sometimes, individual sentences) that have been hand-annotated with the correct values to be learned.\n",
      "\n",
      "\n",
      "\n",
      "Many different classes of machine learning algorithms have been applied to NLP tasks. These algorithms take as input a large set of \"features\" that are generated from the input data. Some of the earliest-used algorithms, such as decision trees, produced systems of hard if-then rules similar to the systems of hand-written rules that were then common. Increasingly, however, research has focused on statistical models, which make soft, probabilistic decisions based on attaching real-valued weights to each input feature. Such models have the advantage that they can express the relative certainty of many different possible answers rather than only one, producing more reliable results when such a model is included as a component of a larger system.\n",
      "\n",
      "\n",
      "\n",
      "Systems based on machine-learning algorithms have many advantages over hand-produced rules:\n",
      "\n",
      "\n",
      "\n",
      "The learning procedures used during machine learning automatically focus on the most common cases, whereas when writing rules by hand it is often not obvious at all where the effort should be directed.\n",
      "\n",
      "Automatic learning procedures can make use of statistical inference algorithms to produce models that are robust to unfamiliar input (e.g. containing words or structures that have not been seen before) and to erroneous input (e.g. with misspelled words or words accidentally omitted). Generally, handling such input gracefully with hand-written rules -- or more generally, creating systems of hand-written rules that make soft decisions -- extremely difficult, error-prone and time-consuming.\n",
      "\n",
      "Systems based on automatically learning the rules can be made more accurate simply by supplying more input data. However, systems based on hand-written rules can only be made more accurate by increasing the complexity of the rules, which is a much more difficult task. In particular, there is a limit to the complexity of systems based on hand-crafted rules, beyond which the systems become more and more unmanageable. However, creating more data to input to machine-learning systems simply requires a corresponding increase in the number of man-hours worked, generally without significant increases in the complexity of the annotation process.\n",
      "\n",
      "The subfield of NLP devoted to learning approaches is known as Natural Language Learning (NLL) and its conference CoNLL and peak body SIGNLL are sponsored by ACL, recognizing also their links with Computational Linguistics and Language Acquisition. When the aims of computational language learning research is to understand more about human language acquisition, or psycholinguistics, NLL overlaps into the related field of Computational Psycholinguistics.\n",
      "\n",
      "\n",
      "\n"
     ]
    }
   ],
   "source": [
    "with codecs.open(nlp_txt_path , 'r' , 'utf-8') as rf:\n",
    "    for i , l in enumerate(rf):\n",
    "        if i < 100:\n",
    "            print(l)"
   ]
  },
  {
   "cell_type": "code",
   "execution_count": null,
   "metadata": {},
   "outputs": [],
   "source": [
    "run_list = []\n",
    "with codecs.open(nlp_txt_path' , 'r' , 'utf-8') as rf:\n",
    "    for l in rf:\n",
    "        run_list.append(l)"
   ]
  },
  {
   "cell_type": "code",
   "execution_count": null,
   "metadata": {
    "scrolled": true
   },
   "outputs": [],
   "source": [
    "run_list[3]"
   ]
  },
  {
   "cell_type": "code",
   "execution_count": 48,
   "metadata": {},
   "outputs": [
    {
     "name": "stdout",
     "output_type": "stream",
     "text": [
      "[master 46868a0] from notebook\n",
      " 1 file changed, 532 insertions(+), 80 deletions(-)\n"
     ]
    }
   ],
   "source": [
    "%%bash\n",
    "git commit -a -m \"from notebook\""
   ]
  },
  {
   "cell_type": "markdown",
   "metadata": {},
   "source": [
    "#### 単語の切り出し\n",
    "空白を単語の区切りとみなし，50の出力を入力として受け取り，1行1単語の形式で出力せよ．ただし，文の終端では空行を出力せよ．"
   ]
  },
  {
   "cell_type": "code",
   "execution_count": 7,
   "metadata": {},
   "outputs": [
    {
     "name": "stdout",
     "output_type": "stream",
     "text": [
      "Natural\n",
      "language\n",
      "processing\n",
      "\n",
      "From\n",
      "Wikipedia,\n",
      "the\n",
      "free\n",
      "encyclopedia\n",
      "\n",
      "Natural\n",
      "language\n",
      "processing\n",
      "(NLP)\n",
      "is\n",
      "a\n",
      "field\n",
      "of\n",
      "computer\n",
      "science,\n",
      "artificial\n",
      "intelligence,\n",
      "and\n",
      "linguistics\n",
      "concerned\n",
      "with\n",
      "the\n",
      "interactions\n",
      "between\n",
      "computers\n",
      "and\n",
      "human\n",
      "(natural)\n",
      "languages.\n",
      "\n",
      "As\n",
      "such,\n",
      "NLP\n",
      "is\n",
      "related\n",
      "to\n",
      "the\n",
      "area\n",
      "of\n",
      "humani-computer\n",
      "interaction.\n",
      "\n",
      "Many\n",
      "challenges\n",
      "in\n",
      "NLP\n",
      "involve\n",
      "natural\n",
      "language\n",
      "understanding,\n",
      "that\n",
      "is,\n",
      "enabling\n",
      "computers\n",
      "to\n",
      "derive\n",
      "meaning\n",
      "from\n",
      "human\n",
      "or\n",
      "natural\n",
      "language\n",
      "input,\n",
      "and\n",
      "others\n",
      "involve\n",
      "natural\n",
      "language\n",
      "generation.\n",
      "\n",
      "History\n",
      "\n",
      "The\n",
      "history\n",
      "of\n",
      "NLP\n",
      "generally\n",
      "starts\n",
      "in\n",
      "the\n",
      "1950s,\n",
      "although\n",
      "work\n",
      "can\n",
      "be\n",
      "found\n",
      "from\n",
      "earlier\n",
      "periods.\n",
      "\n",
      "In\n",
      "1950,\n",
      "Alan\n",
      "Turing\n",
      "published\n",
      "an\n",
      "article\n",
      "titled\n",
      "\"Computing\n",
      "Machinery\n",
      "and\n",
      "Intelligence\"\n",
      "which\n",
      "proposed\n",
      "what\n",
      "is\n",
      "now\n",
      "called\n",
      "the\n",
      "Turing\n",
      "test\n",
      "as\n",
      "a\n",
      "criterion\n",
      "of\n",
      "intelligence.\n",
      "\n",
      "The\n",
      "Georgetown\n",
      "experiment\n",
      "in\n",
      "1954\n",
      "involved\n",
      "fully\n",
      "automatic\n",
      "translation\n",
      "of\n",
      "more\n",
      "than\n",
      "sixty\n",
      "Russian\n",
      "sentences\n",
      "into\n",
      "English.\n",
      "\n",
      "The\n",
      "authors\n",
      "claimed\n",
      "that\n",
      "within\n",
      "three\n",
      "or\n",
      "five\n",
      "years,\n",
      "machine\n",
      "translation\n",
      "would\n",
      "be\n",
      "a\n",
      "solved\n",
      "problem.\n",
      "\n",
      "However,\n",
      "real\n",
      "progress\n",
      "was\n",
      "much\n",
      "slower,\n",
      "and\n",
      "after\n",
      "the\n",
      "ALPAC\n",
      "report\n",
      "in\n",
      "1966,\n",
      "which\n",
      "found\n",
      "that\n",
      "ten\n",
      "year\n",
      "long\n",
      "research\n",
      "had\n",
      "failed\n",
      "to\n",
      "fulfill\n",
      "the\n",
      "expectations,\n",
      "funding\n",
      "for\n",
      "machine\n",
      "translation\n",
      "was\n",
      "dramatically\n",
      "reduced.\n",
      "\n",
      "Little\n",
      "further\n",
      "research\n",
      "in\n",
      "machine\n",
      "translation\n",
      "was\n",
      "conducted\n",
      "until\n",
      "the\n",
      "late\n",
      "1980s,\n",
      "when\n",
      "the\n",
      "first\n",
      "statistical\n",
      "machine\n",
      "translation\n",
      "systems\n",
      "were\n",
      "developed.\n",
      "\n",
      "Some\n",
      "notably\n",
      "successful\n",
      "NLP\n",
      "systems\n",
      "developed\n",
      "in\n",
      "the\n",
      "1960s\n",
      "were\n",
      "SHRDLU,\n",
      "a\n",
      "natural\n",
      "language\n",
      "system\n",
      "working\n",
      "in\n",
      "restricted\n",
      "\"blocks\n",
      "worlds\"\n",
      "with\n",
      "restricted\n",
      "vocabularies,\n",
      "and\n",
      "ELIZA,\n",
      "a\n",
      "simulation\n",
      "of\n",
      "a\n",
      "Rogerian\n",
      "psychotherapist,\n",
      "written\n",
      "by\n",
      "Joseph\n",
      "Weizenbaum\n",
      "between\n",
      "1964\n",
      "to\n",
      "1966.\n",
      "\n",
      "Using\n",
      "almost\n",
      "no\n",
      "information\n",
      "about\n",
      "human\n",
      "thought\n",
      "or\n",
      "emotion,\n",
      "ELIZA\n",
      "sometimes\n",
      "provided\n",
      "a\n",
      "startlingly\n",
      "human-like\n",
      "interaction.\n",
      "\n",
      "When\n",
      "the\n",
      "\"patient\"\n",
      "exceeded\n",
      "the\n",
      "very\n",
      "small\n",
      "knowledge\n",
      "base,\n",
      "ELIZA\n",
      "might\n",
      "provide\n",
      "a\n",
      "generic\n",
      "response,\n",
      "for\n",
      "example,\n",
      "responding\n",
      "to\n",
      "\"My\n",
      "head\n",
      "hurts\"\n",
      "with\n",
      "\"Why\n",
      "do\n",
      "you\n",
      "say\n",
      "your\n",
      "head\n",
      "hurts?\".\n",
      "\n",
      "During\n",
      "the\n",
      "1970s\n",
      "many\n",
      "programmers\n",
      "began\n",
      "to\n",
      "write\n",
      "'conceptual\n",
      "ontologies',\n",
      "which\n",
      "structured\n",
      "real-world\n",
      "information\n",
      "into\n",
      "computer-understandable\n",
      "data.\n",
      "\n",
      "Examples\n",
      "are\n",
      "MARGIE\n",
      "(Schank,\n",
      "1975),\n",
      "SAM\n",
      "(Cullingford,\n",
      "1978),\n",
      "PAM\n",
      "(Wilensky,\n",
      "1978),\n",
      "TaleSpin\n",
      "(Meehan,\n",
      "1976),\n",
      "QUALM\n",
      "(Lehnert,\n",
      "1977),\n",
      "Politics\n",
      "(Carbonell,\n",
      "1979),\n",
      "and\n",
      "Plot\n",
      "Units\n",
      "(Lehnert\n",
      "1981).\n",
      "\n",
      "During\n",
      "this\n",
      "time,\n",
      "many\n",
      "chatterbots\n",
      "were\n",
      "written\n",
      "including\n",
      "PARRY,\n",
      "Racter,\n",
      "and\n",
      "Jabberwacky.\n",
      "\n",
      "Up\n",
      "to\n",
      "the\n",
      "1980s,\n",
      "most\n",
      "NLP\n",
      "systems\n",
      "were\n",
      "based\n",
      "on\n",
      "complex\n",
      "sets\n",
      "of\n",
      "hand-written\n",
      "rules.\n",
      "\n",
      "Starting\n",
      "in\n",
      "the\n",
      "late\n",
      "1980s,\n",
      "however,\n",
      "there\n",
      "was\n",
      "a\n",
      "revolution\n",
      "in\n",
      "NLP\n",
      "with\n",
      "the\n",
      "introduction\n",
      "of\n",
      "machine\n",
      "learning\n",
      "algorithms\n",
      "for\n",
      "language\n",
      "processing.\n",
      "\n",
      "This\n",
      "was\n",
      "due\n",
      "to\n",
      "both\n",
      "the\n",
      "steady\n",
      "increase\n",
      "in\n",
      "computational\n",
      "power\n",
      "resulting\n",
      "from\n",
      "Moore's\n",
      "Law\n",
      "and\n",
      "the\n",
      "gradual\n",
      "lessening\n",
      "of\n",
      "the\n",
      "dominance\n",
      "of\n",
      "Chomskyan\n",
      "theories\n",
      "of\n",
      "linguistics\n",
      "(e.g.\n",
      "transformational\n",
      "grammar),\n",
      "whose\n",
      "theoretical\n",
      "underpinnings\n",
      "discouraged\n",
      "the\n",
      "sort\n",
      "of\n",
      "corpus\n",
      "linguistics\n",
      "that\n",
      "underlies\n",
      "the\n",
      "machine-learning\n",
      "approach\n",
      "to\n",
      "language\n",
      "processing.\n",
      "\n",
      "Some\n",
      "of\n",
      "the\n",
      "earliest-used\n",
      "machine\n",
      "learning\n",
      "algorithms,\n",
      "such\n",
      "as\n",
      "decision\n",
      "trees,\n",
      "produced\n",
      "systems\n",
      "of\n",
      "hard\n",
      "if-then\n",
      "rules\n",
      "similar\n",
      "to\n",
      "existing\n",
      "hand-written\n",
      "rules.\n",
      "\n",
      "However,\n",
      "Part\n",
      "of\n",
      "speech\n",
      "tagging\n",
      "introduced\n",
      "the\n",
      "use\n",
      "of\n",
      "Hidden\n",
      "Markov\n",
      "Models\n",
      "to\n",
      "NLP,\n",
      "and\n",
      "increasingly,\n",
      "research\n",
      "has\n",
      "focused\n",
      "on\n",
      "statistical\n",
      "models,\n",
      "which\n",
      "make\n",
      "soft,\n",
      "probabilistic\n",
      "decisions\n",
      "based\n",
      "on\n",
      "attaching\n",
      "real-valued\n",
      "weights\n",
      "to\n",
      "the\n",
      "features\n",
      "making\n",
      "up\n",
      "the\n",
      "input\n",
      "data.\n",
      "\n",
      "The\n",
      "cache\n",
      "language\n",
      "models\n",
      "upon\n",
      "which\n",
      "many\n",
      "speech\n",
      "recognition\n",
      "systems\n",
      "now\n",
      "rely\n",
      "are\n",
      "examples\n",
      "of\n",
      "such\n",
      "statistical\n",
      "models.\n",
      "\n",
      "Such\n",
      "models\n",
      "are\n",
      "generally\n",
      "more\n",
      "robust\n",
      "when\n",
      "given\n",
      "unfamiliar\n",
      "input,\n",
      "especially\n",
      "input\n",
      "that\n",
      "contains\n",
      "errors\n",
      "(as\n",
      "is\n",
      "very\n",
      "common\n",
      "for\n",
      "real-world\n",
      "data),\n",
      "and\n",
      "produce\n",
      "more\n",
      "reliable\n",
      "results\n",
      "when\n",
      "integrated\n",
      "into\n",
      "a\n",
      "larger\n",
      "system\n",
      "comprising\n",
      "multiple\n",
      "subtasks.\n",
      "\n",
      "Many\n",
      "of\n",
      "the\n",
      "notable\n",
      "early\n",
      "successes\n",
      "occurred\n",
      "in\n",
      "the\n",
      "field\n",
      "of\n",
      "machine\n",
      "translation,\n",
      "due\n",
      "especially\n",
      "to\n",
      "work\n",
      "at\n",
      "IBM\n",
      "Research,\n",
      "where\n",
      "successively\n",
      "more\n",
      "complicated\n",
      "statistical\n",
      "models\n",
      "were\n",
      "developed.\n",
      "\n",
      "These\n",
      "systems\n",
      "were\n",
      "able\n",
      "to\n",
      "take\n",
      "advantage\n",
      "of\n",
      "existing\n",
      "multilingual\n",
      "textual\n",
      "corpora\n",
      "that\n",
      "had\n",
      "been\n",
      "produced\n",
      "by\n",
      "the\n",
      "Parliament\n",
      "of\n",
      "Canada\n",
      "and\n",
      "the\n",
      "European\n",
      "Union\n",
      "as\n",
      "a\n",
      "result\n",
      "of\n",
      "laws\n",
      "calling\n",
      "for\n",
      "the\n",
      "translation\n",
      "of\n",
      "all\n",
      "governmental\n",
      "proceedings\n",
      "into\n",
      "all\n",
      "official\n",
      "languages\n",
      "of\n",
      "the\n",
      "corresponding\n",
      "systems\n",
      "of\n",
      "government.\n",
      "\n",
      "However,\n",
      "most\n",
      "other\n",
      "systems\n",
      "depended\n",
      "on\n",
      "corpora\n",
      "specifically\n",
      "developed\n",
      "for\n",
      "the\n",
      "tasks\n",
      "implemented\n",
      "by\n",
      "these\n",
      "systems,\n",
      "which\n",
      "was\n",
      "(and\n",
      "often\n",
      "continues\n",
      "to\n",
      "be)\n",
      "a\n",
      "major\n",
      "limitation\n",
      "in\n",
      "the\n",
      "success\n",
      "of\n",
      "these\n",
      "systems.\n",
      "\n",
      "As\n",
      "a\n",
      "result,\n",
      "a\n",
      "great\n",
      "deal\n",
      "of\n",
      "research\n",
      "has\n",
      "gone\n",
      "into\n",
      "methods\n",
      "of\n",
      "more\n",
      "effectively\n",
      "learning\n",
      "from\n",
      "limited\n",
      "amounts\n",
      "of\n",
      "data.\n",
      "\n",
      "Recent\n",
      "research\n",
      "has\n",
      "increasingly\n",
      "focused\n",
      "on\n",
      "unsupervised\n",
      "and\n",
      "semi-supervised\n",
      "learning\n",
      "algorithms.\n",
      "\n",
      "Such\n",
      "algorithms\n",
      "are\n",
      "able\n",
      "to\n",
      "learn\n",
      "from\n",
      "data\n",
      "that\n",
      "has\n",
      "not\n",
      "been\n",
      "hand-annotated\n",
      "with\n",
      "the\n",
      "desired\n",
      "answers,\n",
      "or\n",
      "using\n",
      "a\n",
      "combination\n",
      "of\n",
      "annotated\n",
      "and\n",
      "non-annotated\n",
      "data.\n",
      "\n",
      "Generally,\n",
      "this\n",
      "task\n",
      "is\n",
      "much\n",
      "more\n",
      "difficult\n",
      "than\n",
      "supervised\n",
      "learning,\n",
      "and\n",
      "typically\n",
      "produces\n",
      "less\n",
      "accurate\n",
      "results\n",
      "for\n",
      "a\n",
      "given\n",
      "amount\n",
      "of\n",
      "input\n",
      "data.\n",
      "\n",
      "However,\n",
      "there\n",
      "is\n",
      "an\n",
      "enormous\n",
      "amount\n",
      "of\n",
      "non-annotated\n",
      "data\n",
      "available\n",
      "(including,\n",
      "among\n",
      "other\n",
      "things,\n",
      "the\n",
      "entire\n",
      "content\n",
      "of\n",
      "the\n",
      "World\n",
      "Wide\n",
      "Web),\n",
      "which\n",
      "can\n",
      "often\n",
      "make\n",
      "up\n",
      "for\n",
      "the\n",
      "inferior\n",
      "results.\n",
      "\n",
      "NLP\n",
      "using\n",
      "machine\n",
      "learning\n",
      "\n",
      "Modern\n",
      "NLP\n",
      "algorithms\n",
      "are\n",
      "based\n",
      "on\n",
      "machine\n",
      "learning,\n",
      "especially\n",
      "statistical\n",
      "machine\n",
      "learning.\n",
      "\n",
      "The\n",
      "paradigm\n",
      "of\n",
      "machine\n",
      "learning\n",
      "is\n",
      "different\n",
      "from\n",
      "that\n",
      "of\n",
      "most\n",
      "prior\n",
      "attempts\n",
      "at\n",
      "language\n",
      "processing.\n",
      "\n",
      "Prior\n",
      "implementations\n",
      "of\n",
      "language-processing\n",
      "tasks\n",
      "typically\n",
      "involved\n",
      "the\n",
      "direct\n",
      "hand\n",
      "coding\n",
      "of\n",
      "large\n",
      "sets\n",
      "of\n",
      "rules.\n",
      "\n",
      "The\n",
      "machine-learning\n",
      "paradigm\n",
      "calls\n",
      "instead\n",
      "for\n",
      "using\n",
      "general\n",
      "learning\n",
      "algorithms\n",
      "-\n",
      "often,\n",
      "although\n",
      "not\n",
      "always,\n",
      "grounded\n",
      "in\n",
      "statistical\n",
      "inference\n",
      "-\n",
      "to\n",
      "automatically\n",
      "learn\n",
      "such\n",
      "rules\n",
      "through\n",
      "the\n",
      "analysis\n",
      "of\n",
      "large\n",
      "corpora\n",
      "of\n",
      "typical\n",
      "real-world\n",
      "examples.\n",
      "\n",
      "A\n",
      "corpus\n",
      "(plural,\n",
      "\"corpora\")\n",
      "is\n",
      "a\n",
      "set\n",
      "of\n",
      "documents\n",
      "(or\n",
      "sometimes,\n",
      "individual\n",
      "sentences)\n",
      "that\n",
      "have\n",
      "been\n",
      "hand-annotated\n",
      "with\n",
      "the\n",
      "correct\n",
      "values\n",
      "to\n",
      "be\n",
      "learned.\n",
      "\n",
      "Many\n",
      "different\n",
      "classes\n",
      "of\n",
      "machine\n",
      "learning\n",
      "algorithms\n",
      "have\n",
      "been\n",
      "applied\n",
      "to\n",
      "NLP\n",
      "tasks.\n",
      "\n",
      "These\n",
      "algorithms\n",
      "take\n",
      "as\n",
      "input\n",
      "a\n",
      "large\n",
      "set\n",
      "of\n",
      "\"features\"\n",
      "that\n",
      "are\n",
      "generated\n",
      "from\n",
      "the\n",
      "input\n",
      "data.\n",
      "\n",
      "Some\n",
      "of\n",
      "the\n",
      "earliest-used\n",
      "algorithms,\n",
      "such\n",
      "as\n",
      "decision\n",
      "trees,\n",
      "produced\n",
      "systems\n",
      "of\n",
      "hard\n",
      "if-then\n",
      "rules\n",
      "similar\n",
      "to\n",
      "the\n",
      "systems\n",
      "of\n",
      "hand-written\n",
      "rules\n",
      "that\n",
      "were\n",
      "then\n",
      "common.\n",
      "\n",
      "Increasingly,\n",
      "however,\n",
      "research\n",
      "has\n",
      "focused\n",
      "on\n",
      "statistical\n",
      "models,\n",
      "which\n",
      "make\n",
      "soft,\n",
      "probabilistic\n",
      "decisions\n",
      "based\n",
      "on\n",
      "attaching\n",
      "real-valued\n",
      "weights\n",
      "to\n",
      "each\n",
      "input\n",
      "feature.\n",
      "\n",
      "Such\n",
      "models\n",
      "have\n",
      "the\n",
      "advantage\n",
      "that\n",
      "they\n",
      "can\n",
      "express\n",
      "the\n",
      "relative\n",
      "certainty\n",
      "of\n",
      "many\n",
      "different\n",
      "possible\n",
      "answers\n",
      "rather\n",
      "than\n",
      "only\n",
      "one,\n",
      "producing\n",
      "more\n",
      "reliable\n",
      "results\n",
      "when\n",
      "such\n",
      "a\n",
      "model\n",
      "is\n",
      "included\n",
      "as\n",
      "a\n",
      "component\n",
      "of\n",
      "a\n",
      "larger\n",
      "system.\n",
      "\n",
      "Systems\n",
      "based\n",
      "on\n",
      "machine-learning\n",
      "algorithms\n",
      "have\n",
      "many\n",
      "advantages\n",
      "over\n",
      "hand-produced\n",
      "rules:\n",
      "\n",
      "The\n",
      "learning\n",
      "procedures\n",
      "used\n",
      "during\n",
      "machine\n",
      "learning\n",
      "automatically\n",
      "focus\n",
      "on\n",
      "the\n",
      "most\n",
      "common\n",
      "cases,\n",
      "whereas\n",
      "when\n",
      "writing\n",
      "rules\n",
      "by\n",
      "hand\n",
      "it\n",
      "is\n",
      "often\n",
      "not\n",
      "obvious\n",
      "at\n",
      "all\n",
      "where\n",
      "the\n",
      "effort\n",
      "should\n",
      "be\n",
      "directed.\n",
      "\n",
      "Automatic\n",
      "learning\n",
      "procedures\n",
      "can\n",
      "make\n",
      "use\n",
      "of\n",
      "statistical\n",
      "inference\n",
      "algorithms\n",
      "to\n",
      "produce\n",
      "models\n",
      "that\n",
      "are\n",
      "robust\n",
      "to\n",
      "unfamiliar\n",
      "input\n",
      "(e.g.\n",
      "containing\n",
      "words\n",
      "or\n",
      "structures\n",
      "that\n",
      "have\n",
      "not\n",
      "been\n",
      "seen\n",
      "before)\n",
      "and\n",
      "to\n",
      "erroneous\n",
      "input\n",
      "(e.g.\n",
      "with\n",
      "misspelled\n",
      "words\n",
      "or\n",
      "words\n",
      "accidentally\n",
      "omitted).\n",
      "\n",
      "Generally,\n",
      "handling\n",
      "such\n",
      "input\n",
      "gracefully\n",
      "with\n",
      "hand-written\n",
      "rules\n",
      "--\n",
      "or\n",
      "more\n",
      "generally,\n",
      "creating\n",
      "systems\n",
      "of\n",
      "hand-written\n",
      "rules\n",
      "that\n",
      "make\n",
      "soft\n",
      "decisions\n",
      "--\n",
      "extremely\n",
      "difficult,\n",
      "error-prone\n",
      "and\n",
      "time-consuming.\n",
      "\n",
      "Systems\n",
      "based\n",
      "on\n",
      "automatically\n",
      "learning\n",
      "the\n",
      "rules\n",
      "can\n",
      "be\n",
      "made\n",
      "more\n",
      "accurate\n",
      "simply\n",
      "by\n",
      "supplying\n",
      "more\n",
      "input\n",
      "data.\n",
      "\n",
      "However,\n",
      "systems\n",
      "based\n",
      "on\n",
      "hand-written\n",
      "rules\n",
      "can\n",
      "only\n",
      "be\n",
      "made\n",
      "more\n",
      "accurate\n",
      "by\n",
      "increasing\n",
      "the\n",
      "complexity\n",
      "of\n",
      "the\n",
      "rules,\n",
      "which\n",
      "is\n",
      "a\n",
      "much\n",
      "more\n",
      "difficult\n",
      "task.\n",
      "\n",
      "In\n",
      "particular,\n",
      "there\n",
      "is\n",
      "a\n",
      "limit\n",
      "to\n",
      "the\n",
      "complexity\n",
      "of\n",
      "systems\n",
      "based\n",
      "on\n",
      "hand-crafted\n",
      "rules,\n",
      "beyond\n",
      "which\n",
      "the\n",
      "systems\n",
      "become\n",
      "more\n",
      "and\n",
      "more\n",
      "unmanageable.\n",
      "\n",
      "However,\n",
      "creating\n",
      "more\n",
      "data\n",
      "to\n",
      "input\n",
      "to\n",
      "machine-learning\n",
      "systems\n",
      "simply\n",
      "requires\n",
      "a\n",
      "corresponding\n",
      "increase\n",
      "in\n",
      "the\n",
      "number\n",
      "of\n",
      "man-hours\n",
      "worked,\n",
      "generally\n",
      "without\n",
      "significant\n",
      "increases\n",
      "in\n",
      "the\n",
      "complexity\n",
      "of\n",
      "the\n",
      "annotation\n",
      "process.\n",
      "\n",
      "The\n",
      "subfield\n",
      "of\n",
      "NLP\n",
      "devoted\n",
      "to\n",
      "learning\n",
      "approaches\n",
      "is\n",
      "known\n",
      "as\n",
      "Natural\n",
      "Language\n",
      "Learning\n",
      "(NLL)\n",
      "and\n",
      "its\n",
      "conference\n",
      "CoNLL\n",
      "and\n",
      "peak\n",
      "body\n",
      "SIGNLL\n",
      "are\n",
      "sponsored\n",
      "by\n",
      "ACL,\n",
      "recognizing\n",
      "also\n",
      "their\n",
      "links\n",
      "with\n",
      "Computational\n",
      "Linguistics\n",
      "and\n",
      "Language\n",
      "Acquisition.\n",
      "\n",
      "When\n",
      "the\n",
      "aims\n",
      "of\n",
      "computational\n",
      "language\n",
      "learning\n",
      "research\n",
      "is\n",
      "to\n",
      "understand\n",
      "more\n",
      "about\n",
      "human\n",
      "language\n",
      "acquisition,\n",
      "or\n",
      "psycholinguistics,\n",
      "NLL\n",
      "overlaps\n",
      "into\n",
      "the\n",
      "related\n",
      "field\n",
      "of\n",
      "Computational\n",
      "Psycholinguistics.\n",
      "\n"
     ]
    }
   ],
   "source": [
    "for l in nlp_lines(nlp_txt_path):\n",
    "    for x in l.split(\" \"):\n",
    "        print(x)\n",
    "    print('')"
   ]
  },
  {
   "cell_type": "code",
   "execution_count": 8,
   "metadata": {},
   "outputs": [],
   "source": [
    "def nlp_words(nlp_txt_path):\n",
    "    for l in nlp_lines(nlp_txt_path):\n",
    "        for x in l.split(\" \"):\n",
    "            yield x.rstrip('.,;:?!')\n",
    "        yield ''"
   ]
  },
  {
   "cell_type": "markdown",
   "metadata": {},
   "source": [
    "別解"
   ]
  },
  {
   "cell_type": "code",
   "execution_count": 10,
   "metadata": {},
   "outputs": [],
   "source": [
    "def nlp_words(nlp_txt_path):\n",
    "    r = re.compile('[\\.|;|:|?|\\!]')\n",
    "    for l in nlp_lines(nlp_txt_path):\n",
    "        for x in l.split(' '):\n",
    "            yield r.sub(\"\" , x)\n",
    "        yield ''"
   ]
  },
  {
   "cell_type": "code",
   "execution_count": 11,
   "metadata": {},
   "outputs": [
    {
     "name": "stdout",
     "output_type": "stream",
     "text": [
      "Natural\n",
      "language\n",
      "processing\n",
      "\n",
      "From\n",
      "Wikipedia,\n",
      "the\n",
      "free\n",
      "encyclopedia\n",
      "\n"
     ]
    }
   ],
   "source": [
    "for i , w in enumerate(nlp_words(nlp_txt_path)):\n",
    "    if i < 10:\n",
    "        print(w)"
   ]
  },
  {
   "cell_type": "markdown",
   "metadata": {},
   "source": [
    "#### ステミング\n",
    "51の出力を入力として受け取り，Porterのステミングアルゴリズムを適用し，単語と語幹をタブ区切り形式で出力せよ． Pythonでは，Porterのステミングアルゴリズムの実装としてstemmingモジュールを利用するとよい．"
   ]
  },
  {
   "cell_type": "code",
   "execution_count": 12,
   "metadata": {},
   "outputs": [],
   "source": [
    "import re"
   ]
  },
  {
   "cell_type": "code",
   "execution_count": 13,
   "metadata": {},
   "outputs": [],
   "source": [
    "import snowballstemmer"
   ]
  },
  {
   "cell_type": "code",
   "execution_count": 14,
   "metadata": {},
   "outputs": [],
   "source": [
    "stemmer = snowballstemmer.stemmer('english')"
   ]
  },
  {
   "cell_type": "code",
   "execution_count": 15,
   "metadata": {},
   "outputs": [
    {
     "name": "stdout",
     "output_type": "stream",
     "text": [
      "Natural\tNatur\n",
      "language\tlanguag\n",
      "processing\tprocess\n",
      "\t\n",
      "From\tFrom\n",
      "Wikipedia,\tWikipedia,\n",
      "the\tthe\n",
      "free\tfree\n",
      "encyclopedia\tencyclopedia\n",
      "\t\n",
      "Natural\tNatur\n",
      "language\tlanguag\n",
      "processing\tprocess\n",
      "(NLP)\t(NLP)\n",
      "is\tis\n",
      "a\ta\n",
      "field\tfield\n",
      "of\tof\n",
      "computer\tcomput\n",
      "science,\tscience,\n",
      "artificial\tartifici\n",
      "intelligence,\tintelligence,\n",
      "and\tand\n",
      "linguistics\tlinguist\n",
      "concerned\tconcern\n",
      "with\twith\n",
      "the\tthe\n",
      "interactions\tinteract\n",
      "between\tbetween\n",
      "computers\tcomput\n",
      "and\tand\n",
      "human\thuman\n",
      "(natural)\t(natural)\n",
      "languages\tlanguag\n",
      "\t\n",
      "As\tAs\n",
      "such,\tsuch,\n",
      "NLP\tNLP\n",
      "is\tis\n",
      "related\trelat\n",
      "to\tto\n",
      "the\tthe\n",
      "area\tarea\n",
      "of\tof\n",
      "humani-computer\thumani-comput\n",
      "interaction\tinteract\n",
      "\t\n",
      "Many\tMani\n",
      "challenges\tchalleng\n",
      "in\tin\n",
      "NLP\tNLP\n",
      "involve\tinvolv\n",
      "natural\tnatur\n",
      "language\tlanguag\n",
      "understanding,\tunderstanding,\n",
      "that\tthat\n",
      "is,\tis,\n",
      "enabling\tenabl\n",
      "computers\tcomput\n",
      "to\tto\n",
      "derive\tderiv\n",
      "meaning\tmean\n",
      "from\tfrom\n",
      "human\thuman\n",
      "or\tor\n",
      "natural\tnatur\n",
      "language\tlanguag\n",
      "input,\tinput,\n",
      "and\tand\n",
      "others\tother\n",
      "involve\tinvolv\n",
      "natural\tnatur\n",
      "language\tlanguag\n",
      "generation\tgenerat\n",
      "\t\n",
      "History\tHistori\n",
      "\t\n",
      "The\tThe\n",
      "history\thistori\n",
      "of\tof\n",
      "NLP\tNLP\n",
      "generally\tgeneral\n",
      "starts\tstart\n",
      "in\tin\n",
      "the\tthe\n",
      "1950s,\t1950s,\n",
      "although\talthough\n",
      "work\twork\n",
      "can\tcan\n",
      "be\tbe\n",
      "found\tfound\n",
      "from\tfrom\n",
      "earlier\tearlier\n",
      "periods\tperiod\n",
      "\t\n",
      "In\tIn\n",
      "1950,\t1950,\n",
      "Alan\tAlan\n",
      "Turing\tTure\n",
      "published\tpublish\n"
     ]
    }
   ],
   "source": [
    "for i , w in enumerate(nlp_words(nlp_txt_path)):\n",
    "    if i <100:\n",
    "        print('{}\\t{}'.format(w , stemmer.stemWord(w)))"
   ]
  },
  {
   "cell_type": "markdown",
   "metadata": {},
   "source": [
    "##### sandbox : stemmerはあんまり使えないね"
   ]
  },
  {
   "cell_type": "code",
   "execution_count": 16,
   "metadata": {},
   "outputs": [
    {
     "data": {
      "text/plain": [
       "'verifi'"
      ]
     },
     "execution_count": 16,
     "metadata": {},
     "output_type": "execute_result"
    }
   ],
   "source": [
    "stemmer.stemWord(\"verified\")"
   ]
  },
  {
   "cell_type": "code",
   "execution_count": 17,
   "metadata": {},
   "outputs": [],
   "source": [
    "l.rstrip?"
   ]
  },
  {
   "cell_type": "code",
   "execution_count": null,
   "metadata": {},
   "outputs": [],
   "source": [
    "r = re.compile('[\\.|;|:|?|\\!]')\n",
    "r.sub(\"\" , \"what?\")"
   ]
  },
  {
   "cell_type": "code",
   "execution_count": 20,
   "metadata": {},
   "outputs": [
    {
     "name": "stdout",
     "output_type": "stream",
     "text": [
      "[master 2666059] from notebook\n",
      " 1 file changed, 2726 insertions(+), 57036 deletions(-)\n",
      " rewrite nlp100_50.ipynb (97%)\n"
     ]
    }
   ],
   "source": [
    "%%bash\n",
    "git commit -a -m \"from notebook\""
   ]
  },
  {
   "cell_type": "markdown",
   "metadata": {},
   "source": [
    "#### Tokenization\n",
    "\n",
    "Stanford Core NLPを用い，入力テキストの解析結果をXML形式で得よ．\n",
    "\n",
    "また，このXMLファイルを読み込み，入力テキストを1行1単語の形式で出力せよ．"
   ]
  },
  {
   "cell_type": "markdown",
   "metadata": {},
   "source": [
    "ElemenTreeとbeautifulsoupどちらでも良いか\n",
    "https://www.lifewithpython.com/2013/06/BeautifulSoup-BeautifulStoneSoup.html"
   ]
  },
  {
   "cell_type": "code",
   "execution_count": 18,
   "metadata": {},
   "outputs": [],
   "source": [
    "nlp_xml_path = \"nlp100data/nlp.txt.xml\""
   ]
  },
  {
   "cell_type": "markdown",
   "metadata": {},
   "source": [
    "##### checking the xml file and the txt file (again)"
   ]
  },
  {
   "cell_type": "code",
   "execution_count": 35,
   "metadata": {},
   "outputs": [
    {
     "name": "stdout",
     "output_type": "stream",
     "text": [
      "<?xml version=\"1.0\" encoding=\"UTF-8\"?>\n",
      "<?xml-stylesheet href=\"CoreNLP-to-HTML.xsl\" type=\"text/xsl\"?>\n",
      "<root>\n",
      "  <document>\n",
      "    <docId>nlp.txt</docId>\n",
      "    <sentences>\n",
      "      <sentence id=\"1\">\n",
      "        <tokens>\n",
      "          <token id=\"1\">\n",
      "            <word>Natural</word>\n",
      "            <lemma>natural</lemma>\n",
      "            <CharacterOffsetBegin>0</CharacterOffsetBegin>\n",
      "            <CharacterOffsetEnd>7</CharacterOffsetEnd>\n",
      "            <POS>JJ</POS>\n",
      "            <NER>O</NER>\n",
      "            <Speaker>PER0</Speaker>\n",
      "          </token>\n",
      "          <token id=\"2\">\n",
      "            <word>language</word>\n",
      "            <lemma>language</lemma>\n",
      "            <CharacterOffsetBegin>8</CharacterOffsetBegin>\n",
      "            <CharacterOffsetEnd>16</CharacterOffsetEnd>\n",
      "            <POS>NN</POS>\n",
      "            <NER>O</NER>\n",
      "            <Speaker>PER0</Speaker>\n",
      "          </token>\n",
      "          <token id=\"3\">\n",
      "            <word>processing</word>\n",
      "            <lemma>processing</lemma>\n",
      "            <CharacterOffsetBegin>17</CharacterOffsetBegin>\n",
      "            <CharacterOffsetEnd>27</CharacterOffsetEnd>\n",
      "            <POS>NN</POS>\n",
      "            <NER>O</NER>\n",
      "            <Speaker>PER0</Speaker>\n",
      "          </token>\n",
      "          <token id=\"4\">\n",
      "            <word>From</word>\n",
      "            <lemma>from</lemma>\n",
      "            <CharacterOffsetBegin>28</CharacterOffsetBegin>\n",
      "            <CharacterOffsetEnd>32</CharacterOffsetEnd>\n",
      "            <POS>IN</POS>\n",
      "            <NER>O</NER>\n",
      "            <Speaker>PER0</Speaker>\n",
      "          </token>\n",
      "          <token id=\"5\">\n",
      "            <word>Wikipedia</word>\n",
      "            <lemma>Wikipedia</lemma>\n",
      "            <CharacterOffsetBegin>33</CharacterOffsetBegin>\n",
      "            <CharacterOffsetEnd>42</CharacterOffsetEnd>\n",
      "            <POS>NNP</POS>\n",
      "            <NER>ORGANIZATION</NER>\n",
      "            <Speaker>PER0</Speaker>\n",
      "          </token>\n",
      "          <token id=\"6\">\n",
      "            <word>,</word>\n",
      "            <lemma>,</lemma>\n",
      "            <CharacterOffsetBegin>42</CharacterOffsetBegin>\n",
      "            <CharacterOffsetEnd>43</CharacterOffsetEnd>\n",
      "            <POS>,</POS>\n",
      "            <NER>O</NER>\n",
      "            <Speaker>PER0</Speaker>\n",
      "          </token>\n",
      "          <token id=\"7\">\n",
      "            <word>the</word>\n",
      "            <lemma>the</lemma>\n",
      "            <CharacterOffsetBegin>44</CharacterOffsetBegin>\n",
      "            <CharacterOffsetEnd>47</CharacterOffsetEnd>\n",
      "            <POS>DT</POS>\n",
      "            <NER>O</NER>\n",
      "            <Speaker>PER0</Speaker>\n",
      "          </token>\n",
      "          <token id=\"8\">\n",
      "            <word>free</word>\n",
      "            <lemma>free</lemma>\n",
      "            <CharacterOffsetBegin>48</CharacterOffsetBegin>\n",
      "            <CharacterOffsetEnd>52</CharacterOffsetEnd>\n",
      "            <POS>JJ</POS>\n",
      "            <NER>O</NER>\n",
      "            <Speaker>PER0</Speaker>\n",
      "          </token>\n",
      "          <token id=\"9\">\n",
      "            <word>encyclopedia</word>\n",
      "            <lemma>encyclopedia</lemma>\n",
      "            <CharacterOffsetBegin>53</CharacterOffsetBegin>\n",
      "            <CharacterOffsetEnd>65</CharacterOffsetEnd>\n",
      "            <POS>NN</POS>\n",
      "            <NER>O</NER>\n",
      "            <Speaker>PER0</Speaker>\n",
      "          </token>\n",
      "          <token id=\"10\">\n",
      "            <word>Natural</word>\n",
      "            <lemma>natural</lemma>\n",
      "            <CharacterOffsetBegin>67</CharacterOffsetBegin>\n",
      "            <CharacterOffsetEnd>74</CharacterOffsetEnd>\n",
      "            <POS>JJ</POS>\n",
      "            <NER>MISC</NER>\n",
      "            <Speaker>PER0</Speaker>\n",
      "          </token>\n",
      "          <token id=\"11\">\n",
      "            <word>language</word>\n"
     ]
    }
   ],
   "source": [
    "%%bash\n",
    "head -100 nlp100data/nlp.txt.formatted.xml"
   ]
  },
  {
   "cell_type": "code",
   "execution_count": 29,
   "metadata": {},
   "outputs": [
    {
     "name": "stdout",
     "output_type": "stream",
     "text": [
      "Natural language processing\n",
      "From Wikipedia, the free encyclopedia\n",
      "\n",
      "Natural language processing (NLP) is a field of computer science, artificial intelligence, and linguistics concerned with the interactions between computers and human (natural) languages. As such, NLP is related to the area of humani-computer interaction. Many challenges in NLP involve natural language understanding, that is, enabling computers to derive meaning from human or natural language input, and others involve natural language generation.\n",
      "\n",
      "History\n",
      "\n",
      "The history of NLP generally starts in the 1950s, although work can be found from earlier periods. In 1950, Alan Turing published an article titled \"Computing Machinery and Intelligence\" which proposed what is now called the Turing test as a criterion of intelligence.\n",
      "\n",
      "The Georgetown experiment in 1954 involved fully automatic translation of more than sixty Russian sentences into English. The authors claimed that within three or five years, machine translation would be a solved problem. However, real progress was much slower, and after the ALPAC report in 1966, which found that ten year long research had failed to fulfill the expectations, funding for machine translation was dramatically reduced. Little further research in machine translation was conducted until the late 1980s, when the first statistical machine translation systems were developed.\n"
     ]
    }
   ],
   "source": [
    "%%bash\n",
    "head -10 nlp100data/nlp.txt"
   ]
  },
  {
   "cell_type": "markdown",
   "metadata": {},
   "source": [
    "##### parsing xml"
   ]
  },
  {
   "cell_type": "code",
   "execution_count": 36,
   "metadata": {},
   "outputs": [],
   "source": [
    "from bs4 import BeautifulSoup"
   ]
  },
  {
   "cell_type": "code",
   "execution_count": 39,
   "metadata": {},
   "outputs": [],
   "source": [
    "with codecs.open(nlp_xml_path , 'r' , 'utf-8') as rf:\n",
    "    soup = BeautifulSoup(rf , 'xml')"
   ]
  },
  {
   "cell_type": "code",
   "execution_count": 40,
   "metadata": {},
   "outputs": [
    {
     "name": "stdout",
     "output_type": "stream",
     "text": [
      "Natural\n",
      "language\n",
      "processing\n",
      "From\n",
      "Wikipedia\n",
      ",\n",
      "the\n",
      "free\n",
      "encyclopedia\n",
      "Natural\n",
      "language\n",
      "processing\n",
      "-LRB-\n",
      "NLP\n",
      "-RRB-\n",
      "is\n",
      "a\n",
      "field\n",
      "of\n",
      "computer\n",
      "science\n",
      ",\n",
      "artificial\n",
      "intelligence\n",
      ",\n",
      "and\n",
      "linguistics\n",
      "concerned\n",
      "with\n",
      "the\n",
      "interactions\n",
      "between\n",
      "computers\n",
      "and\n",
      "human\n",
      "-LRB-\n",
      "natural\n",
      "-RRB-\n",
      "languages\n",
      ".\n",
      "As\n",
      "such\n",
      ",\n",
      "NLP\n",
      "is\n",
      "related\n",
      "to\n",
      "the\n",
      "area\n",
      "of\n",
      "humani-computer\n",
      "interaction\n",
      ".\n",
      "Many\n",
      "challenges\n",
      "in\n",
      "NLP\n",
      "involve\n",
      "natural\n",
      "language\n",
      "understanding\n",
      ",\n",
      "that\n",
      "is\n",
      ",\n",
      "enabling\n",
      "computers\n",
      "to\n",
      "derive\n",
      "meaning\n",
      "from\n",
      "human\n",
      "or\n",
      "natural\n",
      "language\n",
      "input\n",
      ",\n",
      "and\n",
      "others\n",
      "involve\n",
      "natural\n",
      "language\n",
      "generation\n",
      ".\n",
      "History\n",
      "The\n",
      "history\n",
      "of\n",
      "NLP\n",
      "generally\n",
      "starts\n",
      "in\n",
      "the\n",
      "1950s\n",
      ",\n",
      "although\n",
      "work\n",
      "can\n",
      "be\n",
      "found\n"
     ]
    }
   ],
   "source": [
    "for i , x in enumerate(soup.find_all('word')):\n",
    "    if i < 100:\n",
    "        print(x.get_text())"
   ]
  },
  {
   "cell_type": "markdown",
   "metadata": {},
   "source": [
    "##### 品詞の記号の説明\n",
    "\n",
    "https://www.ling.upenn.edu/courses/Fall_2003/ling001/penn_treebank_pos.html"
   ]
  },
  {
   "cell_type": "markdown",
   "metadata": {},
   "source": [
    "##### sandbox"
   ]
  },
  {
   "cell_type": "code",
   "execution_count": 48,
   "metadata": {},
   "outputs": [
    {
     "name": "stdout",
     "output_type": "stream",
     "text": [
      "[master f7b3a34] from notebook\n",
      " 1 file changed, 95 insertions(+), 6 deletions(-)\n"
     ]
    }
   ],
   "source": [
    "%%bash\n",
    "git commit -a -m 'from notebook'"
   ]
  },
  {
   "cell_type": "markdown",
   "metadata": {},
   "source": [
    "###### stringからdirectにparseする方法\n",
    "\n",
    "https://docs.python.org/3.4/library/xml.etree.elementtree.html"
   ]
  },
  {
   "cell_type": "code",
   "execution_count": null,
   "metadata": {},
   "outputs": [],
   "source": [
    "root = ET.fromstring(cnlp_list[0])"
   ]
  },
  {
   "cell_type": "code",
   "execution_count": null,
   "metadata": {},
   "outputs": [],
   "source": [
    "for c in root:\n",
    "    print(c.tag)"
   ]
  },
  {
   "cell_type": "code",
   "execution_count": null,
   "metadata": {},
   "outputs": [],
   "source": [
    "props={'annotators': 'tokenize,lemma,pos','pipelineLanguage':'en','outputFormat':'text'}"
   ]
  },
  {
   "cell_type": "code",
   "execution_count": null,
   "metadata": {},
   "outputs": [],
   "source": [
    "for l in nlp_lines(nlp_txt_path):\n",
    "    print(corenlp.annotate(l , properties = props))"
   ]
  },
  {
   "cell_type": "code",
   "execution_count": 41,
   "metadata": {},
   "outputs": [],
   "source": [
    "props_xml={'annotators': 'tokenize,lemma,pos','pipelineLanguage':'en','outputFormat':'xml'}"
   ]
  },
  {
   "cell_type": "code",
   "execution_count": 42,
   "metadata": {},
   "outputs": [
    {
     "ename": "NameError",
     "evalue": "name 'corenlp' is not defined",
     "output_type": "error",
     "traceback": [
      "\u001b[0;31m---------------------------------------------------------------------------\u001b[0m",
      "\u001b[0;31mNameError\u001b[0m                                 Traceback (most recent call last)",
      "\u001b[0;32m<ipython-input-42-e6068ec8c953>\u001b[0m in \u001b[0;36m<module>\u001b[0;34m()\u001b[0m\n\u001b[1;32m      1\u001b[0m \u001b[0mcnlp_list\u001b[0m \u001b[0;34m=\u001b[0m \u001b[0;34m[\u001b[0m\u001b[0;34m]\u001b[0m\u001b[0;34m\u001b[0m\u001b[0m\n\u001b[1;32m      2\u001b[0m \u001b[0;32mfor\u001b[0m \u001b[0ml\u001b[0m \u001b[0;32min\u001b[0m \u001b[0mnlp_lines\u001b[0m\u001b[0;34m(\u001b[0m\u001b[0mnlp_txt_path\u001b[0m\u001b[0;34m)\u001b[0m\u001b[0;34m:\u001b[0m\u001b[0;34m\u001b[0m\u001b[0m\n\u001b[0;32m----> 3\u001b[0;31m     \u001b[0mcnlp_list\u001b[0m\u001b[0;34m.\u001b[0m\u001b[0mappend\u001b[0m\u001b[0;34m(\u001b[0m\u001b[0mcorenlp\u001b[0m\u001b[0;34m.\u001b[0m\u001b[0mannotate\u001b[0m\u001b[0;34m(\u001b[0m\u001b[0ml\u001b[0m \u001b[0;34m,\u001b[0m \u001b[0mproperties\u001b[0m \u001b[0;34m=\u001b[0m \u001b[0mprops_xml\u001b[0m\u001b[0;34m)\u001b[0m\u001b[0;34m)\u001b[0m\u001b[0;34m\u001b[0m\u001b[0m\n\u001b[0m",
      "\u001b[0;31mNameError\u001b[0m: name 'corenlp' is not defined"
     ]
    }
   ],
   "source": [
    "cnlp_list = []\n",
    "for l in nlp_lines(nlp_txt_path):\n",
    "    cnlp_list.append(corenlp.annotate(l , properties = props_xml))"
   ]
  },
  {
   "cell_type": "code",
   "execution_count": null,
   "metadata": {},
   "outputs": [],
   "source": [
    "import xml.etree.ElementTree as ET"
   ]
  },
  {
   "cell_type": "code",
   "execution_count": null,
   "metadata": {},
   "outputs": [],
   "source": [
    "ET.parse"
   ]
  },
  {
   "cell_type": "code",
   "execution_count": null,
   "metadata": {},
   "outputs": [],
   "source": [
    "corenlp.url('nlp100data/nlp.txt')"
   ]
  },
  {
   "cell_type": "code",
   "execution_count": null,
   "metadata": {},
   "outputs": [],
   "source": [
    "for l in nlp_lines(nlp_txt_path):\n",
    "    print(corenlp.word_tokenize(l))"
   ]
  },
  {
   "cell_type": "code",
   "execution_count": null,
   "metadata": {},
   "outputs": [],
   "source": [
    "%%bash\n",
    "#cd ~/Tools/stanford-corenlp-full-2018-02-27/\n",
    "java  -Xmx4g　-cp \"/home/toshinao/Tools/stanford-corenlp-full-2018-02-27/*\" edu.stanford.nlp.pipeline.StanfordCoreNLP -annotators tokenize,ssplit,pos,lemma,ner,parse,dcoref -file nlp100data/nlp.txt "
   ]
  },
  {
   "cell_type": "code",
   "execution_count": null,
   "metadata": {},
   "outputs": [],
   "source": [
    "tmp = [s for i , s in enumerate(nlp_lines(nlp_txt_path)) if i < 10]"
   ]
  },
  {
   "cell_type": "code",
   "execution_count": null,
   "metadata": {},
   "outputs": [],
   "source": [
    "print(nlp.annotate(tmp[2] , properties = props))"
   ]
  },
  {
   "cell_type": "code",
   "execution_count": null,
   "metadata": {
    "scrolled": true
   },
   "outputs": [],
   "source": [
    "print(nlp.parse(tmp[2]))"
   ]
  },
  {
   "cell_type": "code",
   "execution_count": null,
   "metadata": {},
   "outputs": [],
   "source": [
    "import os"
   ]
  },
  {
   "cell_type": "code",
   "execution_count": null,
   "metadata": {},
   "outputs": [],
   "source": [
    "import as ET"
   ]
  },
  {
   "cell_type": "code",
   "execution_count": null,
   "metadata": {},
   "outputs": [],
   "source": [
    "root = ET.parse(nlp_xml_path)"
   ]
  },
  {
   "cell_type": "markdown",
   "metadata": {},
   "source": [
    "ホームディレクトリ取得方法: \n",
    "https://www.lifewithpython.com/2015/10/python-get-current-user-home-directory-path.html\n"
   ]
  },
  {
   "cell_type": "code",
   "execution_count": null,
   "metadata": {},
   "outputs": [],
   "source": [
    "%%bash\n",
    "less nlp.txt.xml|grep coreference"
   ]
  },
  {
   "cell_type": "code",
   "execution_count": null,
   "metadata": {},
   "outputs": [],
   "source": [
    "subprocess.run(\"pwd > tmp.txxt\" , shell = True)"
   ]
  },
  {
   "cell_type": "code",
   "execution_count": null,
   "metadata": {},
   "outputs": [],
   "source": [
    "%%bash\n",
    "java -Xmx2g -cp \"home/toshinao/Tools/stanford-corenlp-full-2018-02-27/*\"  edu.stanford.nlp.pipeline.StanfordCoreNLP -annotators tokenize,ssplit,pos,lemma,ner,parse,dcoref -file nlp100data/nlp.txt > error.txt"
   ]
  },
  {
   "cell_type": "markdown",
   "metadata": {},
   "source": [
    "####  品詞タグ付け\n",
    "\n",
    "Stanford Core NLPの解析結果XMLを読み込み，単語，レンマ，品詞をタブ区切り形式で出力せよ．"
   ]
  },
  {
   "cell_type": "code",
   "execution_count": 45,
   "metadata": {},
   "outputs": [],
   "source": [
    "def my_tagger():\n",
    "        for x in soup.find_all('token'):\n",
    "            word = x.find('word').get_text()\n",
    "            lemma = x.find('lemma').get_text()\n",
    "            pos = x.find('POS').get_text()\n",
    "            yield('{}\\t{}\\t{}'.format(word , lemma , pos))\n",
    "    "
   ]
  },
  {
   "cell_type": "code",
   "execution_count": 47,
   "metadata": {},
   "outputs": [
    {
     "name": "stdout",
     "output_type": "stream",
     "text": [
      "Natural\tnatural\tJJ\n",
      "language\tlanguage\tNN\n",
      "processing\tprocessing\tNN\n",
      "From\tfrom\tIN\n",
      "Wikipedia\tWikipedia\tNNP\n",
      ",\t,\t,\n",
      "the\tthe\tDT\n",
      "free\tfree\tJJ\n",
      "encyclopedia\tencyclopedia\tNN\n",
      "Natural\tnatural\tJJ\n",
      "language\tlanguage\tNN\n",
      "processing\tprocessing\tNN\n",
      "-LRB-\t-lrb-\t-LRB-\n",
      "NLP\tnlp\tNN\n",
      "-RRB-\t-rrb-\t-RRB-\n",
      "is\tbe\tVBZ\n",
      "a\ta\tDT\n",
      "field\tfield\tNN\n",
      "of\tof\tIN\n",
      "computer\tcomputer\tNN\n",
      "science\tscience\tNN\n",
      ",\t,\t,\n",
      "artificial\tartificial\tJJ\n",
      "intelligence\tintelligence\tNN\n",
      ",\t,\t,\n",
      "and\tand\tCC\n",
      "linguistics\tlinguistics\tNNS\n",
      "concerned\tconcern\tVBN\n",
      "with\twith\tIN\n",
      "the\tthe\tDT\n"
     ]
    }
   ],
   "source": [
    "for i ,x in enumerate(my_tagger()):\n",
    "    if i < 30:\n",
    "        print(x)"
   ]
  },
  {
   "cell_type": "markdown",
   "metadata": {},
   "source": [
    "##### sandbox"
   ]
  },
  {
   "cell_type": "code",
   "execution_count": null,
   "metadata": {},
   "outputs": [],
   "source": [
    "for x in soup.find_all('token'):\n",
    "    word = x.find('word').get_text()\n",
    "    lemma = x.find('lemma').get_text()\n",
    "    pos = x.find('POS').get_text()\n",
    "    print('{}\\t{}\\t{}'.format(word , lemma , pos))\n",
    "    "
   ]
  },
  {
   "cell_type": "code",
   "execution_count": null,
   "metadata": {},
   "outputs": [],
   "source": [
    "x = soup.find(\"token\")"
   ]
  },
  {
   "cell_type": "code",
   "execution_count": null,
   "metadata": {},
   "outputs": [],
   "source": [
    "x.find('lemma').get_text()"
   ]
  },
  {
   "cell_type": "markdown",
   "metadata": {},
   "source": [
    "####  固有表現抽出\n",
    "\n",
    "入力文中の人名をすべて抜き出せ．"
   ]
  },
  {
   "cell_type": "markdown",
   "metadata": {},
   "source": [
    "\n",
    "**** NERとは? ****\n",
    "named entity recognition"
   ]
  },
  {
   "cell_type": "code",
   "execution_count": 49,
   "metadata": {},
   "outputs": [],
   "source": [
    "def my_ner():\n",
    "    for x in soup.find_all('token'):\n",
    "        y = x.find('NER')\n",
    "        if y is not None and y != -1:\n",
    "            if y.get_text() == 'PERSON':\n",
    "                yield(x.find('word').get_text())"
   ]
  },
  {
   "cell_type": "code",
   "execution_count": 50,
   "metadata": {},
   "outputs": [
    {
     "name": "stdout",
     "output_type": "stream",
     "text": [
      "Alan\n",
      "Turing\n",
      "Joseph\n",
      "Weizenbaum\n",
      "MARGIE\n",
      "Schank\n",
      "Wilensky\n",
      "Meehan\n",
      "Lehnert\n",
      "Carbonell\n",
      "Lehnert\n",
      "Racter\n",
      "Jabberwacky\n",
      "Moore\n"
     ]
    }
   ],
   "source": [
    "for i , x in enumerate(my_ner()):\n",
    "    print(x)"
   ]
  },
  {
   "cell_type": "markdown",
   "metadata": {},
   "source": [
    "##### sandbox"
   ]
  },
  {
   "cell_type": "code",
   "execution_count": 51,
   "metadata": {
    "scrolled": true
   },
   "outputs": [
    {
     "name": "stdout",
     "output_type": "stream",
     "text": [
      "Alan\n",
      "Turing\n",
      "Joseph\n",
      "Weizenbaum\n",
      "MARGIE\n",
      "Schank\n",
      "Wilensky\n",
      "Meehan\n",
      "Lehnert\n",
      "Carbonell\n",
      "Lehnert\n",
      "Racter\n",
      "Jabberwacky\n",
      "Moore\n"
     ]
    }
   ],
   "source": [
    "for x in soup.find_all('token'):\n",
    "    y = x.find('NER')\n",
    "    if y is not None and y != -1:\n",
    "        if y.get_text() == 'PERSON':\n",
    "            print(x.find('word').get_text())"
   ]
  },
  {
   "cell_type": "markdown",
   "metadata": {},
   "source": [
    "#### 共参照解析\n",
    "\n",
    "Stanford Core NLPの共参照解析の結果に基づき，文中の参照表現（mention）を代表参照表現（representative mention）に置換せよ．\n",
    "\n",
    "ただし，置換するときは，「代表参照表現（参照表現）」のように，元の参照表現が分かるように配慮せよ．"
   ]
  },
  {
   "cell_type": "markdown",
   "metadata": {},
   "source": [
    "共参照（Coreference）とは、2つ以上の名詞が同一のものを指すこと\n",
    "\n",
    "https://qiita.com/segavvy/items/0340d3d71c9151265bcb"
   ]
  },
  {
   "cell_type": "markdown",
   "metadata": {},
   "source": [
    "*** coreNLPのxmlの構造 ***"
   ]
  },
  {
   "cell_type": "markdown",
   "metadata": {},
   "source": [
    "\n",
    "    <sentences>\n",
    "      <sentence id=\"1\">\n",
    "        <tokens>\n",
    "          <token id=\"1\">\n",
    "            <word>Natural</word>\n",
    "            <lemma>natural</lemma>\n",
    "            <CharacterOffsetBegin>0</CharacterOffsetBegin>\n",
    "            <CharacterOffsetEnd>7</CharacterOffsetEnd>\n",
    "            <POS>JJ</POS>\n",
    "            <NER>O</NER>\n",
    "            <Speaker>PER0</Speaker>\n",
    "          </token>\n",
    "          <token id=\"2\">\n",
    "            <word>language</word>\n",
    "            <lemma>language</lemma>\n",
    "            <CharacterOffsetBegin>8</CharacterOffsetBegin>\n",
    "            <CharacterOffsetEnd>16</CharacterOffsetEnd>\n",
    "            <POS>NN</POS>\n",
    "            <NER>O</NER>\n",
    "            <Speaker>PER0</Speaker>\n",
    "          </token>\n",
    "\n",
    "\n"
   ]
  },
  {
   "cell_type": "markdown",
   "metadata": {},
   "source": [
    "*** xmlのcoreferenceの構造 ***"
   ]
  },
  {
   "cell_type": "markdown",
   "metadata": {},
   "source": [
    "\n",
    "    <coreference>\n",
    "      <coreference>\n",
    "        <mention representative=\"true\">\n",
    "          <sentence>1</sentence>\n",
    "          <start>7</start>\n",
    "          <end>16</end>\n",
    "          <head>12</head>\n",
    "          <text>the free encyclopedia Natural language processing -LRB- NLP -RRB-</text>\n",
    "        </mention>\n",
    "        <mention>\n",
    "          <sentence>1</sentence>\n",
    "          <start>17</start>\n",
    "          <end>22</end>\n",
    "          <head>18</head>\n",
    "          <text>a field of computer science</text>\n",
    "        </mention>\n",
    "        <mention>\n",
    "          <sentence>18</sentence>\n",
    "          <start>23</start>\n",
    "          <end>25</end>\n",
    "          <head>24</head>\n",
    "          <text>language processing</text>\n",
    "        </mention>\n",
    "      \n",
    "      </coreference>\n"
   ]
  },
  {
   "cell_type": "code",
   "execution_count": 59,
   "metadata": {},
   "outputs": [],
   "source": [
    "coref_all = soup.find('coreference')"
   ]
  },
  {
   "cell_type": "code",
   "execution_count": 90,
   "metadata": {},
   "outputs": [],
   "source": [
    "coref_map = dict()\n",
    "for c in coref_all.findAll(\"coreference\"):\n",
    "    run_representative = c.find(\"mention\", attrs={\"representative\":\"true\"}) \n",
    "    value_text = run_representative.find('text').get_text()\n",
    "    for m in c.findAll('mention'):\n",
    "        if m.attrs.get('representative') != 'true':\n",
    "            #value = m.find('text').get_text()\n",
    "            key_text = m.find('text').get_text()\n",
    "            key_sentence = m.find('sentence').get_text()\n",
    "            key_start = m.find('start').get_text()\n",
    "            value_end = m.find('end').get_text()\n",
    "            coref_map[(key_sentence, key_start)] = (value_end , value_text)\n",
    "            \n",
    "            \n",
    "\n",
    "\n",
    "    pass"
   ]
  },
  {
   "cell_type": "code",
   "execution_count": 94,
   "metadata": {},
   "outputs": [
    {
     "data": {
      "text/plain": [
       "{('1', '17'): ('22',\n",
       "  'the free encyclopedia Natural language processing -LRB- NLP -RRB-'),\n",
       " ('10', '13'): ('27', 'SHRDLU'),\n",
       " ('12', '13'): ('14', 'ELIZA'),\n",
       " ('12', '26'): ('27', \"the `` patient ''\"),\n",
       " ('12', '36'): ('37', 'you'),\n",
       " ('15', '21'): ('22', '1978'),\n",
       " ('15', '49'): ('51', 'Lehnert'),\n",
       " ('17', '3'): ('5', 'the late 1980s'),\n",
       " ('17', '7'): ('8', 'NLP'),\n",
       " ('18', '23'): ('25',\n",
       "  'the free encyclopedia Natural language processing -LRB- NLP -RRB-'),\n",
       " ('18', '3'): ('6', 'the late 1980s'),\n",
       " ('19', '50'): ('52',\n",
       "  'the free encyclopedia Natural language processing -LRB- NLP -RRB-'),\n",
       " ('20', '7'): ('8', 'machine learning algorithms for language processing'),\n",
       " ('21', '15'): ('16', 'NLP'),\n",
       " ('21', '24'): ('26',\n",
       "  'statistical models , which make soft , probabilistic decisions based on attaching real-valued weights to the features making up the input data'),\n",
       " ('22', '14'): ('19',\n",
       "  'The cache language models upon which many speech recognition systems now rely'),\n",
       " ('23', '13'): ('26', 'as input'),\n",
       " ('24', '12'): ('14', 'a solved problem'),\n",
       " ('25', '1'): ('3', 'many speech recognition systems'),\n",
       " ('25', '7'): ('49', 'the advantage'),\n",
       " ('26', '16'): ('18', 'many speech recognition systems'),\n",
       " ('26', '35'): ('37', 'many speech recognition systems'),\n",
       " ('29', '8'): ('18', 'data'),\n",
       " ('3', '14'): ('15', 'computers'),\n",
       " ('32', '11'): ('18', 'machine learning'),\n",
       " ('33', '15'): ('17',\n",
       "  'the free encyclopedia Natural language processing -LRB- NLP -RRB-'),\n",
       " ('33', '4'): ('6', 'machine learning'),\n",
       " ('34', '16'): ('17',\n",
       "  'hard if-then rules similar to existing hand-written rules'),\n",
       " ('36', '11'): ('33', \"A corpus -LRB- plural , `` corpora '' -RRB-\"),\n",
       " ('36', '6'): ('9',\n",
       "  'existing multilingual textual corpora that had been produced by the Parliament of Canada and the European Union as a result of laws calling for the translation of all governmental proceedings into all official languages of the corresponding systems of government'),\n",
       " ('37', '5'): ('8', 'machine learning Modern NLP algorithms'),\n",
       " ('38', '1'): ('3', 'machine learning Modern NLP algorithms'),\n",
       " ('38', '17'): ('20', 'the input data'),\n",
       " ('39', '23'): ('25', 'hand-written rules'),\n",
       " ('39', '9'): ('11', 'decision trees'),\n",
       " ('40', '14'): ('18', 'soft , probabilistic decisions'),\n",
       " ('40', '21'): ('23', 'real-valued weights'),\n",
       " ('40', '9'): ('11',\n",
       "  'statistical models , which make soft , probabilistic decisions based on attaching real-valued weights to the features making up the input data'),\n",
       " ('41', '7'): ('8',\n",
       "  'Some of the earliest-used algorithms , such as decision trees'),\n",
       " ('42', '18'): ('20', 'machine learning'),\n",
       " ('42', '31'): ('32',\n",
       "  'hard if-then rules similar to existing hand-written rules'),\n",
       " ('43', '3'): ('4', 'The learning procedures used during machine learning'),\n",
       " ('44', '18'): ('20', 'hand-written rules'),\n",
       " ('44', '8'): ('10', 'hand-written rules'),\n",
       " ('46', '19'): ('21', 'the rules'),\n",
       " ('46', '3'): ('8', 'the systems'),\n",
       " ('46', '6'): ('8', 'hand-written rules'),\n",
       " ('48', '9'): ('11', 'Systems based on machine-learning algorithms'),\n",
       " ('49', '19'): ('20', 'Natural Language Learning -LRB- NLL -RRB-'),\n",
       " ('5', '23'): ('24', 'Alan Turing'),\n",
       " ('7', '11'): ('13', 'a solved problem'),\n",
       " ('9', '5'): ('7', 'a solved problem')}"
      ]
     },
     "execution_count": 94,
     "metadata": {},
     "output_type": "execute_result"
    }
   ],
   "source": [
    "coref_map"
   ]
  },
  {
   "cell_type": "code",
   "execution_count": 85,
   "metadata": {},
   "outputs": [
    {
     "data": {
      "text/plain": [
       "\"the `` patient ''\""
      ]
     },
     "execution_count": 85,
     "metadata": {},
     "output_type": "execute_result"
    }
   ],
   "source": [
    "coref_map['My']"
   ]
  },
  {
   "cell_type": "code",
   "execution_count": 82,
   "metadata": {},
   "outputs": [
    {
     "data": {
      "text/plain": [
       "'Natural Language Learning -LRB- NLL -RRB-'"
      ]
     },
     "execution_count": 82,
     "metadata": {},
     "output_type": "execute_result"
    }
   ],
   "source": [
    "value"
   ]
  },
  {
   "cell_type": "code",
   "execution_count": 77,
   "metadata": {},
   "outputs": [],
   "source": [
    "coref_map = dict()\n",
    "for c in coref_all.findAll(\"coreference\"):\n",
    "    run_representative = c.find(\"mention\", attrs={\"representative\":\"true\"}) \n",
    "    value = run_representative.find('text').get_text()\n",
    "    for m in c.findAll('mention'):\n",
    "        if c.find(\"mention\", attrs={\"representative\":\"true\"}) is not None:\n",
    "            value = m.find('text').get_text()\n",
    "\n",
    "\n",
    "    pass"
   ]
  },
  {
   "cell_type": "code",
   "execution_count": 80,
   "metadata": {},
   "outputs": [],
   "source": [
    "run_representative.attrs.get('represenatative')"
   ]
  },
  {
   "cell_type": "code",
   "execution_count": 73,
   "metadata": {},
   "outputs": [
    {
     "data": {
      "text/plain": [
       "NoneType"
      ]
     },
     "execution_count": 73,
     "metadata": {},
     "output_type": "execute_result"
    }
   ],
   "source": [
    "type(x.find(\"mention\", attrs={\"representative\":\"false\"}))"
   ]
  },
  {
   "cell_type": "code",
   "execution_count": 71,
   "metadata": {},
   "outputs": [
    {
     "data": {
      "text/plain": [
       "'Natural Language Learning -LRB- NLL -RRB-'"
      ]
     },
     "execution_count": 71,
     "metadata": {},
     "output_type": "execute_result"
    }
   ],
   "source": []
  },
  {
   "cell_type": "code",
   "execution_count": 55,
   "metadata": {},
   "outputs": [],
   "source": [
    "x = soup.find('coreference/coreference')"
   ]
  },
  {
   "cell_type": "code",
   "execution_count": 57,
   "metadata": {},
   "outputs": [
    {
     "data": {
      "text/plain": [
       "NoneType"
      ]
     },
     "execution_count": 57,
     "metadata": {},
     "output_type": "execute_result"
    }
   ],
   "source": [
    "type(x)"
   ]
  },
  {
   "cell_type": "markdown",
   "metadata": {},
   "source": [
    "'''    \n",
    "    <coreference>\n",
    "      <coreference>\n",
    "        <mention representative=\"true\">\n",
    "          <sentence>1</sentence>\n",
    "          <start>7</start>\n",
    "          <end>16</end>\n",
    "          <head>12</head>\n",
    "          <text>the free encyclopedia Natural language processing -LRB- NLP -RRB-</text>\n",
    "        </mention>\n",
    "        <mention>\n",
    "          <sentence>1</sentence>\n",
    "          <start>17</start>\n",
    "          <end>22</end>\n",
    "          <head>18</head>\n",
    "          <text>a field of computer science</text>\n",
    "        </mention>\n",
    "        <mention>\n",
    "          <sentence>18</sentence>\n",
    "          <start>23</start>\n",
    "          <end>25</end>\n",
    "          <head>24</head>\n",
    "          <text>language processing</text>\n",
    "        </mention>\n",
    "        <mention>\n",
    "          <sentence>19</sentence>\n",
    "          <start>50</start>\n",
    "          <end>52</end>\n",
    "          <head>51</head>\n",
    "          <text>language processing</text>\n",
    "        </mention>\n",
    "        <mention>\n",
    "          <sentence>33</sentence>\n",
    "          <start>15</start>\n",
    "          <end>17</end>\n",
    "          <head>16</head>\n",
    "          <text>language processing</text>\n",
    "        </mention>\n",
    "      </coreference>\n",
    "'''"
   ]
  },
  {
   "cell_type": "code",
   "execution_count": 53,
   "metadata": {},
   "outputs": [
    {
     "data": {
      "text/plain": [
       "<coreference>\n",
       "<mention representative=\"true\">\n",
       "<sentence>1</sentence>\n",
       "<start>7</start>\n",
       "<end>16</end>\n",
       "<head>12</head>\n",
       "<text>the free encyclopedia Natural language processing -LRB- NLP -RRB-</text>\n",
       "</mention>\n",
       "<mention>\n",
       "<sentence>1</sentence>\n",
       "<start>17</start>\n",
       "<end>22</end>\n",
       "<head>18</head>\n",
       "<text>a field of computer science</text>\n",
       "</mention>\n",
       "<mention>\n",
       "<sentence>18</sentence>\n",
       "<start>23</start>\n",
       "<end>25</end>\n",
       "<head>24</head>\n",
       "<text>language processing</text>\n",
       "</mention>\n",
       "<mention>\n",
       "<sentence>19</sentence>\n",
       "<start>50</start>\n",
       "<end>52</end>\n",
       "<head>51</head>\n",
       "<text>language processing</text>\n",
       "</mention>\n",
       "<mention>\n",
       "<sentence>33</sentence>\n",
       "<start>15</start>\n",
       "<end>17</end>\n",
       "<head>16</head>\n",
       "<text>language processing</text>\n",
       "</mention>\n",
       "</coreference>"
      ]
     },
     "execution_count": 53,
     "metadata": {},
     "output_type": "execute_result"
    }
   ],
   "source": [
    "x.find('coreference')"
   ]
  },
  {
   "cell_type": "code",
   "execution_count": null,
   "metadata": {},
   "outputs": [],
   "source": [
    "x.find(\"mention\", attrs={\"representative\":\"true\"})"
   ]
  },
  {
   "cell_type": "code",
   "execution_count": null,
   "metadata": {},
   "outputs": [],
   "source": [
    "y = x.find(\"mention\")"
   ]
  },
  {
   "cell_type": "code",
   "execution_count": null,
   "metadata": {},
   "outputs": [],
   "source": [
    "type(y.attrs)"
   ]
  },
  {
   "cell_type": "code",
   "execution_count": null,
   "metadata": {},
   "outputs": [],
   "source": [
    "x.find(\"mention\", attrs={\"representative\":\"false\"})"
   ]
  },
  {
   "cell_type": "code",
   "execution_count": null,
   "metadata": {},
   "outputs": [],
   "source": [
    "x.get_text()"
   ]
  },
  {
   "cell_type": "code",
   "execution_count": null,
   "metadata": {},
   "outputs": [],
   "source": [
    "soup.find?"
   ]
  },
  {
   "cell_type": "code",
   "execution_count": null,
   "metadata": {},
   "outputs": [],
   "source": [
    "for x in soup.find_all('token'):\n",
    "    word = x.find('word').get_text()\n",
    "    lemma = x.find('lemma').get_text()\n",
    "    pos = x.find('NER').get_text()\n",
    "    print('{}\\t{}\\t{}'.format(word , lemma , pos))\n",
    "    "
   ]
  },
  {
   "cell_type": "code",
   "execution_count": null,
   "metadata": {},
   "outputs": [],
   "source": [
    "soup"
   ]
  },
  {
   "cell_type": "code",
   "execution_count": null,
   "metadata": {},
   "outputs": [],
   "source": [
    "%%bash\n",
    "git commit -a -m 'from notebook'"
   ]
  },
  {
   "cell_type": "code",
   "execution_count": null,
   "metadata": {},
   "outputs": [],
   "source": []
  }
 ],
 "metadata": {
  "kernelspec": {
   "display_name": "Python [default]",
   "language": "python",
   "name": "python3"
  },
  "language_info": {
   "codemirror_mode": {
    "name": "ipython",
    "version": 3
   },
   "file_extension": ".py",
   "mimetype": "text/x-python",
   "name": "python",
   "nbconvert_exporter": "python",
   "pygments_lexer": "ipython3",
   "version": "3.5.4"
  },
  "toc": {
   "colors": {
    "hover_highlight": "#DAA520",
    "navigate_num": "#000000",
    "navigate_text": "#333333",
    "running_highlight": "#FF0000",
    "selected_highlight": "#FFD700",
    "sidebar_border": "#EEEEEE",
    "wrapper_background": "#FFFFFF"
   },
   "moveMenuLeft": true,
   "nav_menu": {
    "height": "12px",
    "width": "252px"
   },
   "navigate_menu": true,
   "number_sections": true,
   "sideBar": true,
   "threshold": 4,
   "toc_cell": false,
   "toc_position": {
    "height": "723px",
    "left": "0px",
    "right": "1338.91px",
    "top": "66px",
    "width": "212px"
   },
   "toc_section_display": "block",
   "toc_window_display": true,
   "widenNotebook": false
  }
 },
 "nbformat": 4,
 "nbformat_minor": 2
}
