{
 "cells": [
  {
   "cell_type": "code",
   "execution_count": 1,
   "metadata": {},
   "outputs": [
    {
     "data": {
      "text/plain": [
       "1"
      ]
     },
     "execution_count": 1,
     "metadata": {},
     "output_type": "execute_result"
    }
   ],
   "source": [
    "1\n"
   ]
  },
  {
   "cell_type": "markdown",
   "metadata": {},
   "source": [
    "英語のテキスト（nlp.txt）に対して，以下の処理を実行せよ．"
   ]
  },
  {
   "cell_type": "markdown",
   "metadata": {},
   "source": [
    "** coreNLP **"
   ]
  },
  {
   "cell_type": "markdown",
   "metadata": {},
   "source": [
    "*** How to run corenlp from python ***"
   ]
  },
  {
   "cell_type": "code",
   "execution_count": 2,
   "metadata": {},
   "outputs": [],
   "source": [
    "import os"
   ]
  },
  {
   "cell_type": "code",
   "execution_count": null,
   "metadata": {},
   "outputs": [],
   "source": [
    "corenlp_path = os.path.expanduser(\"~\") + \"/Tools/stanford-corenlp-full-2018-02-27/*\" "
   ]
  },
  {
   "cell_type": "code",
   "execution_count": null,
   "metadata": {},
   "outputs": [],
   "source": [
    "subprocess_command = 'java -Xmx4g -cp ' + '\"' + corenlp_path + '\"'  + '  edu.stanford.nlp.pipeline.StanfordCoreNLP -annotators tokenize,ssplit,pos,lemma,ner,parse,dcoref -file nlp100data/nlp.txt'"
   ]
  },
  {
   "cell_type": "code",
   "execution_count": 7,
   "metadata": {},
   "outputs": [],
   "source": [
    "import subprocess"
   ]
  },
  {
   "cell_type": "code",
   "execution_count": 8,
   "metadata": {},
   "outputs": [],
   "source": [
    "import codecs"
   ]
  },
  {
   "cell_type": "code",
   "execution_count": null,
   "metadata": {},
   "outputs": [],
   "source": [
    "subprocess.run(subprocess_command , \n",
    "              shell = True, \n",
    "              check = True)"
   ]
  },
  {
   "cell_type": "markdown",
   "metadata": {},
   "source": [
    "**** sandbox (failed attempts) ****"
   ]
  },
  {
   "cell_type": "code",
   "execution_count": 22,
   "metadata": {},
   "outputs": [],
   "source": [
    "homedir = os.getenv('HOME')"
   ]
  },
  {
   "cell_type": "markdown",
   "metadata": {},
   "source": [
    "bash上でcoreNLPのディレクトリに移動して以下のコマンドはうまくいった。\n",
    "\n",
    "もっともcoreNLPのディレクトリ以下に吐いてしまう"
   ]
  },
  {
   "cell_type": "markdown",
   "metadata": {},
   "source": [
    ":~/Tools/stanford-corenlp-full-2018-02-27$ java -cp \"*\" -Xmx2g edu.stanford.nlp.pipeline.StanfordCoreNLP -annotators tokenize,ssplit,tokenize,pos,lemma,ner -file ~/PycharmProjects/keras_sandbox/nlp100data/nlp.txt\n"
   ]
  },
  {
   "cell_type": "markdown",
   "metadata": {},
   "source": [
    "以下も動きそうで動かない（？）"
   ]
  },
  {
   "cell_type": "code",
   "execution_count": null,
   "metadata": {},
   "outputs": [],
   "source": [
    "%%bash\n",
    "cd ~/Tools/stanford-corenlp-full-2018-02-27/\n",
    "java -cp \"*\" -Xmx2g edu.stanford.nlp.pipeline.StanfordCoreNLP -annotators tokenize,ssplit,pos,lemma,ner,parse,dcoref -file /home/toshinao/PycharmProjects/keras_sandbox/nlp100data/nlp.txt "
   ]
  },
  {
   "cell_type": "markdown",
   "metadata": {},
   "source": [
    "*** formatting xml ***\n"
   ]
  },
  {
   "cell_type": "code",
   "execution_count": null,
   "metadata": {},
   "outputs": [],
   "source": [
    "%%bash\n",
    "xmllint --format nlp.txt.xml --output tmp.xml\n"
   ]
  },
  {
   "cell_type": "markdown",
   "metadata": {},
   "source": [
    "*** server ***"
   ]
  },
  {
   "cell_type": "markdown",
   "metadata": {},
   "source": [
    "起動の仕方は：\n",
    "\n",
    "https://stanfordnlp.github.io/CoreNLP/corenlp-server.html\n",
    "\n"
   ]
  },
  {
   "cell_type": "code",
   "execution_count": null,
   "metadata": {},
   "outputs": [],
   "source": [
    "%%bash\n",
    "pwd"
   ]
  },
  {
   "cell_type": "code",
   "execution_count": null,
   "metadata": {
    "scrolled": true
   },
   "outputs": [],
   "source": [
    "%%bash\n",
    "cd ~/Tools/stanford-corenlp-full-2018-02-27/\n",
    "java -Xmx2g  -cp \"*\" edu.stanford.nlp.pipeline.StanfordCoreNLP -annotators tokenize,ssplit,pos,lemma,ner,parse,dcoref -file input.txt"
   ]
  },
  {
   "cell_type": "markdown",
   "metadata": {},
   "source": [
    "*** python binding ***"
   ]
  },
  {
   "cell_type": "markdown",
   "metadata": {},
   "source": [
    "\n",
    "\n",
    "https://www.khalidalnajjar.com/setup-use-stanford-corenlp-server-python/\n",
    "に従って、\n",
    "\n",
    "https://github.com/Lynten/stanford-corenlp\n",
    "を試してみる"
   ]
  },
  {
   "cell_type": "code",
   "execution_count": null,
   "metadata": {},
   "outputs": [],
   "source": [
    "from stanfordcorenlp import StanfordCoreNLP"
   ]
  },
  {
   "cell_type": "markdown",
   "metadata": {},
   "source": [
    "以下のようにすれば予めサーバを立てておかなくても良い："
   ]
  },
  {
   "cell_type": "code",
   "execution_count": null,
   "metadata": {
    "scrolled": true
   },
   "outputs": [],
   "source": [
    "corenlp = StanfordCoreNLP(r'/home/toshinao/Tools/stanford-corenlp-full-2018-02-27')"
   ]
  },
  {
   "cell_type": "code",
   "execution_count": null,
   "metadata": {},
   "outputs": [],
   "source": [
    "corenlp.parse(r'nlp100data/nlp.txt')"
   ]
  },
  {
   "cell_type": "code",
   "execution_count": null,
   "metadata": {},
   "outputs": [],
   "source": [
    "sentence = 'Guangdong University of Foreign Studies is located in Guangzhou.'"
   ]
  },
  {
   "cell_type": "code",
   "execution_count": null,
   "metadata": {},
   "outputs": [],
   "source": [
    "print(corenlp.word_tokenize(sentence))"
   ]
  },
  {
   "cell_type": "code",
   "execution_count": null,
   "metadata": {},
   "outputs": [],
   "source": [
    "print(corenlp.pos_tag(sentence))"
   ]
  },
  {
   "cell_type": "code",
   "execution_count": null,
   "metadata": {},
   "outputs": [],
   "source": [
    "print(corenlp.ner(sentence))"
   ]
  },
  {
   "cell_type": "code",
   "execution_count": null,
   "metadata": {},
   "outputs": [],
   "source": [
    "print(nlp.parse(sentence))"
   ]
  },
  {
   "cell_type": "code",
   "execution_count": null,
   "metadata": {},
   "outputs": [],
   "source": [
    "print(corenlp.dependency_parse(sentence))"
   ]
  },
  {
   "cell_type": "markdown",
   "metadata": {},
   "source": [
    "** 0. 文区切り **\n",
    "\n",
    "(. or ; or : or ? or !) → 空白文字 → 英大文字というパターンを文の区切りと見なし，入力された文書を1行1文の形式で出力せよ．"
   ]
  },
  {
   "cell_type": "code",
   "execution_count": 1,
   "metadata": {},
   "outputs": [],
   "source": [
    "import codecs"
   ]
  },
  {
   "cell_type": "code",
   "execution_count": 2,
   "metadata": {},
   "outputs": [],
   "source": [
    "import re"
   ]
  },
  {
   "cell_type": "code",
   "execution_count": 3,
   "metadata": {},
   "outputs": [],
   "source": [
    "nlp_txt_path = 'nlp100data/nlp.txt'"
   ]
  },
  {
   "cell_type": "code",
   "execution_count": 4,
   "metadata": {},
   "outputs": [],
   "source": [
    "def nlp_lines(file_path):\n",
    "    r = re.compile(\"(^.*?[\\.|;|:|\\?|!])\\s([A-Z].*)\")\n",
    "    with codecs.open(file_path , 'r', 'utf-8') as rf:\n",
    "        for l in rf:\n",
    "            l = l.strip()\n",
    "            while len(l) > 0:\n",
    "                m = r.match(l)\n",
    "                if m:\n",
    "                    s0 = m.group(1)\n",
    "                    l = m.group(2)\n",
    "                    yield s0\n",
    "                else:\n",
    "                    yield l\n",
    "                    l = \"\"\n",
    "            "
   ]
  },
  {
   "cell_type": "code",
   "execution_count": 5,
   "metadata": {},
   "outputs": [
    {
     "name": "stdout",
     "output_type": "stream",
     "text": [
      "Natural language processing\n",
      "From Wikipedia, the free encyclopedia\n",
      "Natural language processing (NLP) is a field of computer science, artificial intelligence, and linguistics concerned with the interactions between computers and human (natural) languages.\n",
      "As such, NLP is related to the area of humani-computer interaction.\n",
      "Many challenges in NLP involve natural language understanding, that is, enabling computers to derive meaning from human or natural language input, and others involve natural language generation.\n",
      "History\n",
      "The history of NLP generally starts in the 1950s, although work can be found from earlier periods.\n",
      "In 1950, Alan Turing published an article titled \"Computing Machinery and Intelligence\" which proposed what is now called the Turing test as a criterion of intelligence.\n",
      "The Georgetown experiment in 1954 involved fully automatic translation of more than sixty Russian sentences into English.\n",
      "The authors claimed that within three or five years, machine translation would be a solved problem.\n"
     ]
    }
   ],
   "source": [
    "for i, l in enumerate(nlp_lines(nlp_txt_path)):\n",
    "    if i < 10:\n",
    "        print(l)"
   ]
  },
  {
   "cell_type": "markdown",
   "metadata": {},
   "source": [
    "*** sandbox ***"
   ]
  },
  {
   "cell_type": "code",
   "execution_count": null,
   "metadata": {},
   "outputs": [],
   "source": [
    "r = re.compile(\"(^.*?[\\.|;|:|\\?|!])\\s([A-Z].*)\")"
   ]
  },
  {
   "cell_type": "code",
   "execution_count": null,
   "metadata": {},
   "outputs": [],
   "source": [
    "m = r.match(run_list[3])"
   ]
  },
  {
   "cell_type": "code",
   "execution_count": null,
   "metadata": {},
   "outputs": [],
   "source": [
    "m.group(2)"
   ]
  },
  {
   "cell_type": "code",
   "execution_count": 45,
   "metadata": {},
   "outputs": [
    {
     "name": "stdout",
     "output_type": "stream",
     "text": [
      "Natural language processing\n",
      "\n",
      "From Wikipedia, the free encyclopedia\n",
      "\n",
      "\n",
      "\n",
      "Natural language processing (NLP) is a field of computer science, artificial intelligence, and linguistics concerned with the interactions between computers and human (natural) languages. As such, NLP is related to the area of humani-computer interaction. Many challenges in NLP involve natural language understanding, that is, enabling computers to derive meaning from human or natural language input, and others involve natural language generation.\n",
      "\n",
      "\n",
      "\n",
      "History\n",
      "\n",
      "\n",
      "\n",
      "The history of NLP generally starts in the 1950s, although work can be found from earlier periods. In 1950, Alan Turing published an article titled \"Computing Machinery and Intelligence\" which proposed what is now called the Turing test as a criterion of intelligence.\n",
      "\n",
      "\n",
      "\n",
      "The Georgetown experiment in 1954 involved fully automatic translation of more than sixty Russian sentences into English. The authors claimed that within three or five years, machine translation would be a solved problem. However, real progress was much slower, and after the ALPAC report in 1966, which found that ten year long research had failed to fulfill the expectations, funding for machine translation was dramatically reduced. Little further research in machine translation was conducted until the late 1980s, when the first statistical machine translation systems were developed.\n",
      "\n",
      "\n",
      "\n",
      "Some notably successful NLP systems developed in the 1960s were SHRDLU, a natural language system working in restricted \"blocks worlds\" with restricted vocabularies, and ELIZA, a simulation of a Rogerian psychotherapist, written by Joseph Weizenbaum between 1964 to 1966. Using almost no information about human thought or emotion, ELIZA sometimes provided a startlingly human-like interaction. When the \"patient\" exceeded the very small knowledge base, ELIZA might provide a generic response, for example, responding to \"My head hurts\" with \"Why do you say your head hurts?\".\n",
      "\n",
      "\n",
      "\n",
      "During the 1970s many programmers began to write 'conceptual ontologies', which structured real-world information into computer-understandable data. Examples are MARGIE (Schank, 1975), SAM (Cullingford, 1978), PAM (Wilensky, 1978), TaleSpin (Meehan, 1976), QUALM (Lehnert, 1977), Politics (Carbonell, 1979), and Plot Units (Lehnert 1981). During this time, many chatterbots were written including PARRY, Racter, and Jabberwacky.\n",
      "\n",
      "\n",
      "\n",
      "Up to the 1980s, most NLP systems were based on complex sets of hand-written rules. Starting in the late 1980s, however, there was a revolution in NLP with the introduction of machine learning algorithms for language processing. This was due to both the steady increase in computational power resulting from Moore's Law and the gradual lessening of the dominance of Chomskyan theories of linguistics (e.g. transformational grammar), whose theoretical underpinnings discouraged the sort of corpus linguistics that underlies the machine-learning approach to language processing. Some of the earliest-used machine learning algorithms, such as decision trees, produced systems of hard if-then rules similar to existing hand-written rules. However, Part of speech tagging introduced the use of Hidden Markov Models to NLP, and increasingly, research has focused on statistical models, which make soft, probabilistic decisions based on attaching real-valued weights to the features making up the input data. The cache language models upon which many speech recognition systems now rely are examples of such statistical models. Such models are generally more robust when given unfamiliar input, especially input that contains errors (as is very common for real-world data), and produce more reliable results when integrated into a larger system comprising multiple subtasks.\n",
      "\n",
      "\n",
      "\n",
      "Many of the notable early successes occurred in the field of machine translation, due especially to work at IBM Research, where successively more complicated statistical models were developed. These systems were able to take advantage of existing multilingual textual corpora that had been produced by the Parliament of Canada and the European Union as a result of laws calling for the translation of all governmental proceedings into all official languages of the corresponding systems of government. However, most other systems depended on corpora specifically developed for the tasks implemented by these systems, which was (and often continues to be) a major limitation in the success of these systems. As a result, a great deal of research has gone into methods of more effectively learning from limited amounts of data.\n",
      "\n",
      "\n",
      "\n",
      "Recent research has increasingly focused on unsupervised and semi-supervised learning algorithms. Such algorithms are able to learn from data that has not been hand-annotated with the desired answers, or using a combination of annotated and non-annotated data. Generally, this task is much more difficult than supervised learning, and typically produces less accurate results for a given amount of input data. However, there is an enormous amount of non-annotated data available (including, among other things, the entire content of the World Wide Web), which can often make up for the inferior results.\n",
      "\n",
      "\n",
      "\n",
      "NLP using machine learning\n",
      "\n",
      "\n",
      "\n",
      "Modern NLP algorithms are based on machine learning, especially statistical machine learning. The paradigm of machine learning is different from that of most prior attempts at language processing. Prior implementations of language-processing tasks typically involved the direct hand coding of large sets of rules. The machine-learning paradigm calls instead for using general learning algorithms - often, although not always, grounded in statistical inference - to automatically learn such rules through the analysis of large corpora of typical real-world examples. A corpus (plural, \"corpora\") is a set of documents (or sometimes, individual sentences) that have been hand-annotated with the correct values to be learned.\n",
      "\n",
      "\n",
      "\n",
      "Many different classes of machine learning algorithms have been applied to NLP tasks. These algorithms take as input a large set of \"features\" that are generated from the input data. Some of the earliest-used algorithms, such as decision trees, produced systems of hard if-then rules similar to the systems of hand-written rules that were then common. Increasingly, however, research has focused on statistical models, which make soft, probabilistic decisions based on attaching real-valued weights to each input feature. Such models have the advantage that they can express the relative certainty of many different possible answers rather than only one, producing more reliable results when such a model is included as a component of a larger system.\n",
      "\n",
      "\n",
      "\n",
      "Systems based on machine-learning algorithms have many advantages over hand-produced rules:\n",
      "\n",
      "\n",
      "\n",
      "The learning procedures used during machine learning automatically focus on the most common cases, whereas when writing rules by hand it is often not obvious at all where the effort should be directed.\n",
      "\n",
      "Automatic learning procedures can make use of statistical inference algorithms to produce models that are robust to unfamiliar input (e.g. containing words or structures that have not been seen before) and to erroneous input (e.g. with misspelled words or words accidentally omitted). Generally, handling such input gracefully with hand-written rules -- or more generally, creating systems of hand-written rules that make soft decisions -- extremely difficult, error-prone and time-consuming.\n",
      "\n",
      "Systems based on automatically learning the rules can be made more accurate simply by supplying more input data. However, systems based on hand-written rules can only be made more accurate by increasing the complexity of the rules, which is a much more difficult task. In particular, there is a limit to the complexity of systems based on hand-crafted rules, beyond which the systems become more and more unmanageable. However, creating more data to input to machine-learning systems simply requires a corresponding increase in the number of man-hours worked, generally without significant increases in the complexity of the annotation process.\n",
      "\n",
      "The subfield of NLP devoted to learning approaches is known as Natural Language Learning (NLL) and its conference CoNLL and peak body SIGNLL are sponsored by ACL, recognizing also their links with Computational Linguistics and Language Acquisition. When the aims of computational language learning research is to understand more about human language acquisition, or psycholinguistics, NLL overlaps into the related field of Computational Psycholinguistics.\n",
      "\n",
      "\n",
      "\n"
     ]
    }
   ],
   "source": [
    "with codecs.open(nlp_txt_path , 'r' , 'utf-8') as rf:\n",
    "    for i , l in enumerate(rf):\n",
    "        if i < 100:\n",
    "            print(l)"
   ]
  },
  {
   "cell_type": "code",
   "execution_count": null,
   "metadata": {},
   "outputs": [],
   "source": [
    "run_list = []\n",
    "with codecs.open(nlp_txt_path' , 'r' , 'utf-8') as rf:\n",
    "    for l in rf:\n",
    "        run_list.append(l)"
   ]
  },
  {
   "cell_type": "code",
   "execution_count": null,
   "metadata": {
    "scrolled": true
   },
   "outputs": [],
   "source": [
    "run_list[3]"
   ]
  },
  {
   "cell_type": "code",
   "execution_count": 48,
   "metadata": {},
   "outputs": [
    {
     "name": "stdout",
     "output_type": "stream",
     "text": [
      "[master 46868a0] from notebook\n",
      " 1 file changed, 532 insertions(+), 80 deletions(-)\n"
     ]
    }
   ],
   "source": [
    "%%bash\n",
    "git commit -a -m \"from notebook\""
   ]
  },
  {
   "cell_type": "markdown",
   "metadata": {},
   "source": [
    "#### 単語の切り出し\n",
    "空白を単語の区切りとみなし，50の出力を入力として受け取り，1行1単語の形式で出力せよ．ただし，文の終端では空行を出力せよ．"
   ]
  },
  {
   "cell_type": "code",
   "execution_count": 7,
   "metadata": {},
   "outputs": [],
   "source": [
    "def nlp_words(nlp_txt_path):\n",
    "    for l in nlp_lines(nlp_txt_path):\n",
    "        for x in l.split(\" \"):\n",
    "            yield x.rstrip('.,;:?!')\n",
    "        yield ''"
   ]
  },
  {
   "cell_type": "markdown",
   "metadata": {},
   "source": [
    "別解"
   ]
  },
  {
   "cell_type": "code",
   "execution_count": 10,
   "metadata": {},
   "outputs": [],
   "source": [
    "def nlp_words(nlp_txt_path):\n",
    "    r = re.compile('[\\.|;|:|?|\\!]')\n",
    "    for l in nlp_lines(nlp_txt_path):\n",
    "        for x in l.split(' '):\n",
    "            yield r.sub(\"\" , x)\n",
    "        yield ''"
   ]
  },
  {
   "cell_type": "code",
   "execution_count": 8,
   "metadata": {},
   "outputs": [
    {
     "name": "stdout",
     "output_type": "stream",
     "text": [
      "Natural\n",
      "language\n",
      "processing\n",
      "\n",
      "From\n",
      "Wikipedia\n",
      "the\n",
      "free\n",
      "encyclopedia\n",
      "\n"
     ]
    }
   ],
   "source": [
    "for i , w in enumerate(nlp_words(nlp_txt_path)):\n",
    "    if i < 10:\n",
    "        print(w)"
   ]
  },
  {
   "cell_type": "markdown",
   "metadata": {},
   "source": [
    "##### sandbox\n"
   ]
  },
  {
   "cell_type": "code",
   "execution_count": 6,
   "metadata": {},
   "outputs": [
    {
     "ename": "IndentationError",
     "evalue": "unexpected indent (<ipython-input-6-d49f05252ab6>, line 3)",
     "output_type": "error",
     "traceback": [
      "\u001b[0;36m  File \u001b[0;32m\"<ipython-input-6-d49f05252ab6>\"\u001b[0;36m, line \u001b[0;32m3\u001b[0m\n\u001b[0;31m    print(x)\u001b[0m\n\u001b[0m    ^\u001b[0m\n\u001b[0;31mIndentationError\u001b[0m\u001b[0;31m:\u001b[0m unexpected indent\n"
     ]
    }
   ],
   "source": [
    "for l in nlp_lines(nlp_txt_path):\n",
    "    for x in l.split(\" \"):\n",
    "        print(x)\n",
    "    print('')"
   ]
  },
  {
   "cell_type": "markdown",
   "metadata": {},
   "source": [
    "#### ステミング\n",
    "51の出力を入力として受け取り，Porterのステミングアルゴリズムを適用し，単語と語幹をタブ区切り形式で出力せよ． Pythonでは，Porterのステミングアルゴリズムの実装としてstemmingモジュールを利用するとよい．"
   ]
  },
  {
   "cell_type": "code",
   "execution_count": 3,
   "metadata": {},
   "outputs": [],
   "source": [
    "import re"
   ]
  },
  {
   "cell_type": "code",
   "execution_count": 13,
   "metadata": {},
   "outputs": [],
   "source": [
    "import snowballstemmer"
   ]
  },
  {
   "cell_type": "code",
   "execution_count": 14,
   "metadata": {},
   "outputs": [],
   "source": [
    "stemmer = snowballstemmer.stemmer('english')"
   ]
  },
  {
   "cell_type": "code",
   "execution_count": 15,
   "metadata": {},
   "outputs": [
    {
     "name": "stdout",
     "output_type": "stream",
     "text": [
      "Natural\tNatur\n",
      "language\tlanguag\n",
      "processing\tprocess\n",
      "\t\n",
      "From\tFrom\n",
      "Wikipedia,\tWikipedia,\n",
      "the\tthe\n",
      "free\tfree\n",
      "encyclopedia\tencyclopedia\n",
      "\t\n",
      "Natural\tNatur\n",
      "language\tlanguag\n",
      "processing\tprocess\n",
      "(NLP)\t(NLP)\n",
      "is\tis\n",
      "a\ta\n",
      "field\tfield\n",
      "of\tof\n",
      "computer\tcomput\n",
      "science,\tscience,\n",
      "artificial\tartifici\n",
      "intelligence,\tintelligence,\n",
      "and\tand\n",
      "linguistics\tlinguist\n",
      "concerned\tconcern\n",
      "with\twith\n",
      "the\tthe\n",
      "interactions\tinteract\n",
      "between\tbetween\n",
      "computers\tcomput\n",
      "and\tand\n",
      "human\thuman\n",
      "(natural)\t(natural)\n",
      "languages\tlanguag\n",
      "\t\n",
      "As\tAs\n",
      "such,\tsuch,\n",
      "NLP\tNLP\n",
      "is\tis\n",
      "related\trelat\n",
      "to\tto\n",
      "the\tthe\n",
      "area\tarea\n",
      "of\tof\n",
      "humani-computer\thumani-comput\n",
      "interaction\tinteract\n",
      "\t\n",
      "Many\tMani\n",
      "challenges\tchalleng\n",
      "in\tin\n",
      "NLP\tNLP\n",
      "involve\tinvolv\n",
      "natural\tnatur\n",
      "language\tlanguag\n",
      "understanding,\tunderstanding,\n",
      "that\tthat\n",
      "is,\tis,\n",
      "enabling\tenabl\n",
      "computers\tcomput\n",
      "to\tto\n",
      "derive\tderiv\n",
      "meaning\tmean\n",
      "from\tfrom\n",
      "human\thuman\n",
      "or\tor\n",
      "natural\tnatur\n",
      "language\tlanguag\n",
      "input,\tinput,\n",
      "and\tand\n",
      "others\tother\n",
      "involve\tinvolv\n",
      "natural\tnatur\n",
      "language\tlanguag\n",
      "generation\tgenerat\n",
      "\t\n",
      "History\tHistori\n",
      "\t\n",
      "The\tThe\n",
      "history\thistori\n",
      "of\tof\n",
      "NLP\tNLP\n",
      "generally\tgeneral\n",
      "starts\tstart\n",
      "in\tin\n",
      "the\tthe\n",
      "1950s,\t1950s,\n",
      "although\talthough\n",
      "work\twork\n",
      "can\tcan\n",
      "be\tbe\n",
      "found\tfound\n",
      "from\tfrom\n",
      "earlier\tearlier\n",
      "periods\tperiod\n",
      "\t\n",
      "In\tIn\n",
      "1950,\t1950,\n",
      "Alan\tAlan\n",
      "Turing\tTure\n",
      "published\tpublish\n"
     ]
    }
   ],
   "source": [
    "for i , w in enumerate(nlp_words(nlp_txt_path)):\n",
    "    if i <100:\n",
    "        print('{}\\t{}'.format(w , stemmer.stemWord(w)))"
   ]
  },
  {
   "cell_type": "markdown",
   "metadata": {},
   "source": [
    "##### sandbox : stemmerはあんまり使えないね"
   ]
  },
  {
   "cell_type": "code",
   "execution_count": 16,
   "metadata": {},
   "outputs": [
    {
     "data": {
      "text/plain": [
       "'verifi'"
      ]
     },
     "execution_count": 16,
     "metadata": {},
     "output_type": "execute_result"
    }
   ],
   "source": [
    "stemmer.stemWord(\"verified\")"
   ]
  },
  {
   "cell_type": "code",
   "execution_count": 17,
   "metadata": {},
   "outputs": [],
   "source": [
    "l.rstrip?"
   ]
  },
  {
   "cell_type": "code",
   "execution_count": null,
   "metadata": {},
   "outputs": [],
   "source": [
    "r = re.compile('[\\.|;|:|?|\\!]')\n",
    "r.sub(\"\" , \"what?\")"
   ]
  },
  {
   "cell_type": "code",
   "execution_count": 20,
   "metadata": {},
   "outputs": [
    {
     "name": "stdout",
     "output_type": "stream",
     "text": [
      "[master 2666059] from notebook\n",
      " 1 file changed, 2726 insertions(+), 57036 deletions(-)\n",
      " rewrite nlp100_50.ipynb (97%)\n"
     ]
    }
   ],
   "source": [
    "%%bash\n",
    "git commit -a -m \"from notebook\""
   ]
  },
  {
   "cell_type": "markdown",
   "metadata": {},
   "source": [
    "#### Tokenization\n",
    "\n",
    "Stanford Core NLPを用い，入力テキストの解析結果をXML形式で得よ．\n",
    "\n",
    "また，このXMLファイルを読み込み，入力テキストを1行1単語の形式で出力せよ．"
   ]
  },
  {
   "cell_type": "markdown",
   "metadata": {},
   "source": [
    "ElemenTreeとbeautifulsoupどちらでも良いか\n",
    "https://www.lifewithpython.com/2013/06/BeautifulSoup-BeautifulStoneSoup.html"
   ]
  },
  {
   "cell_type": "code",
   "execution_count": 4,
   "metadata": {},
   "outputs": [],
   "source": [
    "nlp_xml_path = \"nlp100data/nlp.txt.xml\""
   ]
  },
  {
   "cell_type": "markdown",
   "metadata": {},
   "source": [
    "##### checking the xml file and the txt file (again)"
   ]
  },
  {
   "cell_type": "code",
   "execution_count": 35,
   "metadata": {},
   "outputs": [
    {
     "name": "stdout",
     "output_type": "stream",
     "text": [
      "<?xml version=\"1.0\" encoding=\"UTF-8\"?>\n",
      "<?xml-stylesheet href=\"CoreNLP-to-HTML.xsl\" type=\"text/xsl\"?>\n",
      "<root>\n",
      "  <document>\n",
      "    <docId>nlp.txt</docId>\n",
      "    <sentences>\n",
      "      <sentence id=\"1\">\n",
      "        <tokens>\n",
      "          <token id=\"1\">\n",
      "            <word>Natural</word>\n",
      "            <lemma>natural</lemma>\n",
      "            <CharacterOffsetBegin>0</CharacterOffsetBegin>\n",
      "            <CharacterOffsetEnd>7</CharacterOffsetEnd>\n",
      "            <POS>JJ</POS>\n",
      "            <NER>O</NER>\n",
      "            <Speaker>PER0</Speaker>\n",
      "          </token>\n",
      "          <token id=\"2\">\n",
      "            <word>language</word>\n",
      "            <lemma>language</lemma>\n",
      "            <CharacterOffsetBegin>8</CharacterOffsetBegin>\n",
      "            <CharacterOffsetEnd>16</CharacterOffsetEnd>\n",
      "            <POS>NN</POS>\n",
      "            <NER>O</NER>\n",
      "            <Speaker>PER0</Speaker>\n",
      "          </token>\n",
      "          <token id=\"3\">\n",
      "            <word>processing</word>\n",
      "            <lemma>processing</lemma>\n",
      "            <CharacterOffsetBegin>17</CharacterOffsetBegin>\n",
      "            <CharacterOffsetEnd>27</CharacterOffsetEnd>\n",
      "            <POS>NN</POS>\n",
      "            <NER>O</NER>\n",
      "            <Speaker>PER0</Speaker>\n",
      "          </token>\n",
      "          <token id=\"4\">\n",
      "            <word>From</word>\n",
      "            <lemma>from</lemma>\n",
      "            <CharacterOffsetBegin>28</CharacterOffsetBegin>\n",
      "            <CharacterOffsetEnd>32</CharacterOffsetEnd>\n",
      "            <POS>IN</POS>\n",
      "            <NER>O</NER>\n",
      "            <Speaker>PER0</Speaker>\n",
      "          </token>\n",
      "          <token id=\"5\">\n",
      "            <word>Wikipedia</word>\n",
      "            <lemma>Wikipedia</lemma>\n",
      "            <CharacterOffsetBegin>33</CharacterOffsetBegin>\n",
      "            <CharacterOffsetEnd>42</CharacterOffsetEnd>\n",
      "            <POS>NNP</POS>\n",
      "            <NER>ORGANIZATION</NER>\n",
      "            <Speaker>PER0</Speaker>\n",
      "          </token>\n",
      "          <token id=\"6\">\n",
      "            <word>,</word>\n",
      "            <lemma>,</lemma>\n",
      "            <CharacterOffsetBegin>42</CharacterOffsetBegin>\n",
      "            <CharacterOffsetEnd>43</CharacterOffsetEnd>\n",
      "            <POS>,</POS>\n",
      "            <NER>O</NER>\n",
      "            <Speaker>PER0</Speaker>\n",
      "          </token>\n",
      "          <token id=\"7\">\n",
      "            <word>the</word>\n",
      "            <lemma>the</lemma>\n",
      "            <CharacterOffsetBegin>44</CharacterOffsetBegin>\n",
      "            <CharacterOffsetEnd>47</CharacterOffsetEnd>\n",
      "            <POS>DT</POS>\n",
      "            <NER>O</NER>\n",
      "            <Speaker>PER0</Speaker>\n",
      "          </token>\n",
      "          <token id=\"8\">\n",
      "            <word>free</word>\n",
      "            <lemma>free</lemma>\n",
      "            <CharacterOffsetBegin>48</CharacterOffsetBegin>\n",
      "            <CharacterOffsetEnd>52</CharacterOffsetEnd>\n",
      "            <POS>JJ</POS>\n",
      "            <NER>O</NER>\n",
      "            <Speaker>PER0</Speaker>\n",
      "          </token>\n",
      "          <token id=\"9\">\n",
      "            <word>encyclopedia</word>\n",
      "            <lemma>encyclopedia</lemma>\n",
      "            <CharacterOffsetBegin>53</CharacterOffsetBegin>\n",
      "            <CharacterOffsetEnd>65</CharacterOffsetEnd>\n",
      "            <POS>NN</POS>\n",
      "            <NER>O</NER>\n",
      "            <Speaker>PER0</Speaker>\n",
      "          </token>\n",
      "          <token id=\"10\">\n",
      "            <word>Natural</word>\n",
      "            <lemma>natural</lemma>\n",
      "            <CharacterOffsetBegin>67</CharacterOffsetBegin>\n",
      "            <CharacterOffsetEnd>74</CharacterOffsetEnd>\n",
      "            <POS>JJ</POS>\n",
      "            <NER>MISC</NER>\n",
      "            <Speaker>PER0</Speaker>\n",
      "          </token>\n",
      "          <token id=\"11\">\n",
      "            <word>language</word>\n"
     ]
    }
   ],
   "source": [
    "%%bash\n",
    "head -100 nlp100data/nlp.txt.formatted.xml"
   ]
  },
  {
   "cell_type": "code",
   "execution_count": 29,
   "metadata": {},
   "outputs": [
    {
     "name": "stdout",
     "output_type": "stream",
     "text": [
      "Natural language processing\n",
      "From Wikipedia, the free encyclopedia\n",
      "\n",
      "Natural language processing (NLP) is a field of computer science, artificial intelligence, and linguistics concerned with the interactions between computers and human (natural) languages. As such, NLP is related to the area of humani-computer interaction. Many challenges in NLP involve natural language understanding, that is, enabling computers to derive meaning from human or natural language input, and others involve natural language generation.\n",
      "\n",
      "History\n",
      "\n",
      "The history of NLP generally starts in the 1950s, although work can be found from earlier periods. In 1950, Alan Turing published an article titled \"Computing Machinery and Intelligence\" which proposed what is now called the Turing test as a criterion of intelligence.\n",
      "\n",
      "The Georgetown experiment in 1954 involved fully automatic translation of more than sixty Russian sentences into English. The authors claimed that within three or five years, machine translation would be a solved problem. However, real progress was much slower, and after the ALPAC report in 1966, which found that ten year long research had failed to fulfill the expectations, funding for machine translation was dramatically reduced. Little further research in machine translation was conducted until the late 1980s, when the first statistical machine translation systems were developed.\n"
     ]
    }
   ],
   "source": [
    "%%bash\n",
    "head -10 nlp100data/nlp.txt"
   ]
  },
  {
   "cell_type": "markdown",
   "metadata": {},
   "source": [
    "##### parsing xml"
   ]
  },
  {
   "cell_type": "code",
   "execution_count": 5,
   "metadata": {},
   "outputs": [],
   "source": [
    "from bs4 import BeautifulSoup"
   ]
  },
  {
   "cell_type": "code",
   "execution_count": 9,
   "metadata": {},
   "outputs": [],
   "source": [
    "with codecs.open(nlp_xml_path , 'r' , 'utf-8') as rf:\n",
    "    soup = BeautifulSoup(rf , 'xml')"
   ]
  },
  {
   "cell_type": "code",
   "execution_count": 10,
   "metadata": {},
   "outputs": [
    {
     "name": "stdout",
     "output_type": "stream",
     "text": [
      "Natural\n",
      "language\n",
      "processing\n",
      "From\n",
      "Wikipedia\n",
      ",\n",
      "the\n",
      "free\n",
      "encyclopedia\n",
      "Natural\n",
      "language\n",
      "processing\n",
      "-LRB-\n",
      "NLP\n",
      "-RRB-\n",
      "is\n",
      "a\n",
      "field\n",
      "of\n",
      "computer\n",
      "science\n",
      ",\n",
      "artificial\n",
      "intelligence\n",
      ",\n",
      "and\n",
      "linguistics\n",
      "concerned\n",
      "with\n",
      "the\n",
      "interactions\n",
      "between\n",
      "computers\n",
      "and\n",
      "human\n",
      "-LRB-\n",
      "natural\n",
      "-RRB-\n",
      "languages\n",
      ".\n",
      "As\n",
      "such\n",
      ",\n",
      "NLP\n",
      "is\n",
      "related\n",
      "to\n",
      "the\n",
      "area\n",
      "of\n",
      "humani-computer\n",
      "interaction\n",
      ".\n",
      "Many\n",
      "challenges\n",
      "in\n",
      "NLP\n",
      "involve\n",
      "natural\n",
      "language\n",
      "understanding\n",
      ",\n",
      "that\n",
      "is\n",
      ",\n",
      "enabling\n",
      "computers\n",
      "to\n",
      "derive\n",
      "meaning\n",
      "from\n",
      "human\n",
      "or\n",
      "natural\n",
      "language\n",
      "input\n",
      ",\n",
      "and\n",
      "others\n",
      "involve\n",
      "natural\n",
      "language\n",
      "generation\n",
      ".\n",
      "History\n",
      "The\n",
      "history\n",
      "of\n",
      "NLP\n",
      "generally\n",
      "starts\n",
      "in\n",
      "the\n",
      "1950s\n",
      ",\n",
      "although\n",
      "work\n",
      "can\n",
      "be\n",
      "found\n"
     ]
    }
   ],
   "source": [
    "for i , x in enumerate(soup.find_all('word')):\n",
    "    if i < 100:\n",
    "        print(x.get_text())"
   ]
  },
  {
   "cell_type": "markdown",
   "metadata": {},
   "source": [
    "##### 品詞の記号の説明\n",
    "\n",
    "https://www.ling.upenn.edu/courses/Fall_2003/ling001/penn_treebank_pos.html"
   ]
  },
  {
   "cell_type": "markdown",
   "metadata": {},
   "source": [
    "##### parserの選択について（beautifulsoupはxpath指定ができない？）"
   ]
  },
  {
   "cell_type": "markdown",
   "metadata": {},
   "source": [
    "##### sandbox"
   ]
  },
  {
   "cell_type": "code",
   "execution_count": null,
   "metadata": {},
   "outputs": [],
   "source": [
    "%%bash\n",
    "git commit -a -m 'from notebook'\n"
   ]
  },
  {
   "cell_type": "markdown",
   "metadata": {},
   "source": [
    "###### stringからdirectにparseする方法\n",
    "\n",
    "https://docs.python.org/3.4/library/xml.etree.elementtree.html"
   ]
  },
  {
   "cell_type": "code",
   "execution_count": null,
   "metadata": {},
   "outputs": [],
   "source": [
    "root = ET.fromstring(cnlp_list[0])"
   ]
  },
  {
   "cell_type": "code",
   "execution_count": null,
   "metadata": {},
   "outputs": [],
   "source": [
    "for c in root:\n",
    "    print(c.tag)"
   ]
  },
  {
   "cell_type": "code",
   "execution_count": null,
   "metadata": {},
   "outputs": [],
   "source": [
    "props={'annotators': 'tokenize,lemma,pos','pipelineLanguage':'en','outputFormat':'text'}"
   ]
  },
  {
   "cell_type": "code",
   "execution_count": null,
   "metadata": {},
   "outputs": [],
   "source": [
    "for l in nlp_lines(nlp_txt_path):\n",
    "    print(corenlp.annotate(l , properties = props))"
   ]
  },
  {
   "cell_type": "code",
   "execution_count": 41,
   "metadata": {},
   "outputs": [],
   "source": [
    "props_xml={'annotators': 'tokenize,lemma,pos','pipelineLanguage':'en','outputFormat':'xml'}"
   ]
  },
  {
   "cell_type": "code",
   "execution_count": 42,
   "metadata": {},
   "outputs": [
    {
     "ename": "NameError",
     "evalue": "name 'corenlp' is not defined",
     "output_type": "error",
     "traceback": [
      "\u001b[0;31m---------------------------------------------------------------------------\u001b[0m",
      "\u001b[0;31mNameError\u001b[0m                                 Traceback (most recent call last)",
      "\u001b[0;32m<ipython-input-42-e6068ec8c953>\u001b[0m in \u001b[0;36m<module>\u001b[0;34m()\u001b[0m\n\u001b[1;32m      1\u001b[0m \u001b[0mcnlp_list\u001b[0m \u001b[0;34m=\u001b[0m \u001b[0;34m[\u001b[0m\u001b[0;34m]\u001b[0m\u001b[0;34m\u001b[0m\u001b[0m\n\u001b[1;32m      2\u001b[0m \u001b[0;32mfor\u001b[0m \u001b[0ml\u001b[0m \u001b[0;32min\u001b[0m \u001b[0mnlp_lines\u001b[0m\u001b[0;34m(\u001b[0m\u001b[0mnlp_txt_path\u001b[0m\u001b[0;34m)\u001b[0m\u001b[0;34m:\u001b[0m\u001b[0;34m\u001b[0m\u001b[0m\n\u001b[0;32m----> 3\u001b[0;31m     \u001b[0mcnlp_list\u001b[0m\u001b[0;34m.\u001b[0m\u001b[0mappend\u001b[0m\u001b[0;34m(\u001b[0m\u001b[0mcorenlp\u001b[0m\u001b[0;34m.\u001b[0m\u001b[0mannotate\u001b[0m\u001b[0;34m(\u001b[0m\u001b[0ml\u001b[0m \u001b[0;34m,\u001b[0m \u001b[0mproperties\u001b[0m \u001b[0;34m=\u001b[0m \u001b[0mprops_xml\u001b[0m\u001b[0;34m)\u001b[0m\u001b[0;34m)\u001b[0m\u001b[0;34m\u001b[0m\u001b[0m\n\u001b[0m",
      "\u001b[0;31mNameError\u001b[0m: name 'corenlp' is not defined"
     ]
    }
   ],
   "source": [
    "cnlp_list = []\n",
    "for l in nlp_lines(nlp_txt_path):\n",
    "    cnlp_list.append(corenlp.annotate(l , properties = props_xml))"
   ]
  },
  {
   "cell_type": "code",
   "execution_count": null,
   "metadata": {},
   "outputs": [],
   "source": [
    "import xml.etree.ElementTree as ET"
   ]
  },
  {
   "cell_type": "code",
   "execution_count": null,
   "metadata": {},
   "outputs": [],
   "source": [
    "ET.parse"
   ]
  },
  {
   "cell_type": "code",
   "execution_count": null,
   "metadata": {},
   "outputs": [],
   "source": [
    "corenlp.url('nlp100data/nlp.txt')"
   ]
  },
  {
   "cell_type": "code",
   "execution_count": null,
   "metadata": {},
   "outputs": [],
   "source": [
    "for l in nlp_lines(nlp_txt_path):\n",
    "    print(corenlp.word_tokenize(l))"
   ]
  },
  {
   "cell_type": "code",
   "execution_count": null,
   "metadata": {},
   "outputs": [],
   "source": [
    "%%bash\n",
    "#cd ~/Tools/stanford-corenlp-full-2018-02-27/\n",
    "java  -Xmx4g　-cp \"/home/toshinao/Tools/stanford-corenlp-full-2018-02-27/*\" edu.stanford.nlp.pipeline.StanfordCoreNLP -annotators tokenize,ssplit,pos,lemma,ner,parse,dcoref -file nlp100data/nlp.txt "
   ]
  },
  {
   "cell_type": "code",
   "execution_count": null,
   "metadata": {},
   "outputs": [],
   "source": [
    "tmp = [s for i , s in enumerate(nlp_lines(nlp_txt_path)) if i < 10]"
   ]
  },
  {
   "cell_type": "code",
   "execution_count": null,
   "metadata": {},
   "outputs": [],
   "source": [
    "print(nlp.annotate(tmp[2] , properties = props))"
   ]
  },
  {
   "cell_type": "code",
   "execution_count": null,
   "metadata": {
    "scrolled": true
   },
   "outputs": [],
   "source": [
    "print(nlp.parse(tmp[2]))"
   ]
  },
  {
   "cell_type": "code",
   "execution_count": null,
   "metadata": {},
   "outputs": [],
   "source": [
    "import os"
   ]
  },
  {
   "cell_type": "code",
   "execution_count": null,
   "metadata": {},
   "outputs": [],
   "source": [
    "import as ET"
   ]
  },
  {
   "cell_type": "code",
   "execution_count": null,
   "metadata": {},
   "outputs": [],
   "source": [
    "root = ET.parse(nlp_xml_path)"
   ]
  },
  {
   "cell_type": "markdown",
   "metadata": {},
   "source": [
    "ホームディレクトリ取得方法: \n",
    "https://www.lifewithpython.com/2015/10/python-get-current-user-home-directory-path.html\n"
   ]
  },
  {
   "cell_type": "code",
   "execution_count": null,
   "metadata": {},
   "outputs": [],
   "source": [
    "%%bash\n",
    "less nlp.txt.xml|grep coreference"
   ]
  },
  {
   "cell_type": "code",
   "execution_count": null,
   "metadata": {},
   "outputs": [],
   "source": [
    "subprocess.run(\"pwd > tmp.txxt\" , shell = True)"
   ]
  },
  {
   "cell_type": "code",
   "execution_count": null,
   "metadata": {},
   "outputs": [],
   "source": [
    "%%bash\n",
    "java -Xmx2g -cp \"home/toshinao/Tools/stanford-corenlp-full-2018-02-27/*\"  edu.stanford.nlp.pipeline.StanfordCoreNLP -annotators tokenize,ssplit,pos,lemma,ner,parse,dcoref -file nlp100data/nlp.txt > error.txt"
   ]
  },
  {
   "cell_type": "markdown",
   "metadata": {},
   "source": [
    "####  品詞タグ付け\n",
    "\n",
    "Stanford Core NLPの解析結果XMLを読み込み，単語，レンマ，品詞をタブ区切り形式で出力せよ．"
   ]
  },
  {
   "cell_type": "code",
   "execution_count": 11,
   "metadata": {},
   "outputs": [],
   "source": [
    "def my_tagger():\n",
    "        for x in soup.find_all('token'):\n",
    "            word = x.find('word').get_text()\n",
    "            lemma = x.find('lemma').get_text()\n",
    "            pos = x.find('POS').get_text()\n",
    "            yield('{}\\t{}\\t{}'.format(word , lemma , pos))\n",
    "    "
   ]
  },
  {
   "cell_type": "code",
   "execution_count": 12,
   "metadata": {},
   "outputs": [
    {
     "name": "stdout",
     "output_type": "stream",
     "text": [
      "Natural\tnatural\tJJ\n",
      "language\tlanguage\tNN\n",
      "processing\tprocessing\tNN\n",
      "From\tfrom\tIN\n",
      "Wikipedia\tWikipedia\tNNP\n",
      ",\t,\t,\n",
      "the\tthe\tDT\n",
      "free\tfree\tJJ\n",
      "encyclopedia\tencyclopedia\tNN\n",
      "Natural\tnatural\tJJ\n",
      "language\tlanguage\tNN\n",
      "processing\tprocessing\tNN\n",
      "-LRB-\t-lrb-\t-LRB-\n",
      "NLP\tnlp\tNN\n",
      "-RRB-\t-rrb-\t-RRB-\n",
      "is\tbe\tVBZ\n",
      "a\ta\tDT\n",
      "field\tfield\tNN\n",
      "of\tof\tIN\n",
      "computer\tcomputer\tNN\n",
      "science\tscience\tNN\n",
      ",\t,\t,\n",
      "artificial\tartificial\tJJ\n",
      "intelligence\tintelligence\tNN\n",
      ",\t,\t,\n",
      "and\tand\tCC\n",
      "linguistics\tlinguistics\tNNS\n",
      "concerned\tconcern\tVBN\n",
      "with\twith\tIN\n",
      "the\tthe\tDT\n"
     ]
    }
   ],
   "source": [
    "for i ,x in enumerate(my_tagger()):\n",
    "    if i < 30:\n",
    "        print(x)"
   ]
  },
  {
   "cell_type": "markdown",
   "metadata": {},
   "source": [
    "##### sandbox"
   ]
  },
  {
   "cell_type": "code",
   "execution_count": null,
   "metadata": {},
   "outputs": [],
   "source": [
    "for x in soup.find_all('token'):\n",
    "    word = x.find('word').get_text()\n",
    "    lemma = x.find('lemma').get_text()\n",
    "    pos = x.find('POS').get_text()\n",
    "    print('{}\\t{}\\t{}'.format(word , lemma , pos))\n",
    "    "
   ]
  },
  {
   "cell_type": "code",
   "execution_count": null,
   "metadata": {},
   "outputs": [],
   "source": [
    "x = soup.find(\"token\")"
   ]
  },
  {
   "cell_type": "code",
   "execution_count": null,
   "metadata": {},
   "outputs": [],
   "source": [
    "x.find('lemma').get_text()"
   ]
  },
  {
   "cell_type": "markdown",
   "metadata": {},
   "source": [
    "####  固有表現抽出\n",
    "\n",
    "入力文中の人名をすべて抜き出せ．"
   ]
  },
  {
   "cell_type": "markdown",
   "metadata": {},
   "source": [
    "\n",
    "**** NERとは? ****\n",
    "named entity recognition"
   ]
  },
  {
   "cell_type": "code",
   "execution_count": 13,
   "metadata": {},
   "outputs": [],
   "source": [
    "def my_ner():\n",
    "    for x in soup.find_all('token'):\n",
    "        y = x.find('NER')\n",
    "        if y is not None and y != -1:\n",
    "            if y.get_text() == 'PERSON':\n",
    "                yield(x.find('word').get_text())"
   ]
  },
  {
   "cell_type": "code",
   "execution_count": 14,
   "metadata": {},
   "outputs": [
    {
     "name": "stdout",
     "output_type": "stream",
     "text": [
      "Alan\n",
      "Turing\n",
      "Joseph\n",
      "Weizenbaum\n",
      "MARGIE\n",
      "Schank\n",
      "Wilensky\n",
      "Meehan\n",
      "Lehnert\n",
      "Carbonell\n",
      "Lehnert\n",
      "Racter\n",
      "Jabberwacky\n",
      "Moore\n"
     ]
    }
   ],
   "source": [
    "for i , x in enumerate(my_ner()):\n",
    "    print(x)"
   ]
  },
  {
   "cell_type": "markdown",
   "metadata": {},
   "source": [
    "##### sandbox"
   ]
  },
  {
   "cell_type": "code",
   "execution_count": 51,
   "metadata": {
    "scrolled": true
   },
   "outputs": [
    {
     "name": "stdout",
     "output_type": "stream",
     "text": [
      "Alan\n",
      "Turing\n",
      "Joseph\n",
      "Weizenbaum\n",
      "MARGIE\n",
      "Schank\n",
      "Wilensky\n",
      "Meehan\n",
      "Lehnert\n",
      "Carbonell\n",
      "Lehnert\n",
      "Racter\n",
      "Jabberwacky\n",
      "Moore\n"
     ]
    }
   ],
   "source": [
    "for x in soup.find_all('token'):\n",
    "    y = x.find('NER')\n",
    "    if y is not None and y != -1:\n",
    "        if y.get_text() == 'PERSON':\n",
    "            print(x.find('word').get_text())"
   ]
  },
  {
   "cell_type": "markdown",
   "metadata": {},
   "source": [
    "#### 共参照解析\n",
    "\n",
    "Stanford Core NLPの共参照解析の結果に基づき，文中の参照表現（mention）を代表参照表現（representative mention）に置換せよ．\n",
    "\n",
    "ただし，置換するときは，「代表参照表現（参照表現）」のように，元の参照表現が分かるように配慮せよ．"
   ]
  },
  {
   "cell_type": "markdown",
   "metadata": {},
   "source": [
    "共参照（Coreference）とは、2つ以上の名詞が同一のものを指すこと\n",
    "\n",
    "https://qiita.com/segavvy/items/0340d3d71c9151265bcb"
   ]
  },
  {
   "cell_type": "markdown",
   "metadata": {},
   "source": [
    "##### checking xml structure"
   ]
  },
  {
   "cell_type": "markdown",
   "metadata": {},
   "source": [
    "*** coreNLPのxmlの構造 ***"
   ]
  },
  {
   "cell_type": "markdown",
   "metadata": {},
   "source": [
    "\n",
    "    <sentences>\n",
    "      <sentence id=\"1\">\n",
    "        <tokens>\n",
    "          <token id=\"1\">\n",
    "            <word>Natural</word>\n",
    "            <lemma>natural</lemma>\n",
    "            <CharacterOffsetBegin>0</CharacterOffsetBegin>\n",
    "            <CharacterOffsetEnd>7</CharacterOffsetEnd>\n",
    "            <POS>JJ</POS>\n",
    "            <NER>O</NER>\n",
    "            <Speaker>PER0</Speaker>\n",
    "          </token>\n",
    "          <token id=\"2\">\n",
    "            <word>language</word>\n",
    "            <lemma>language</lemma>\n",
    "            <CharacterOffsetBegin>8</CharacterOffsetBegin>\n",
    "            <CharacterOffsetEnd>16</CharacterOffsetEnd>\n",
    "            <POS>NN</POS>\n",
    "            <NER>O</NER>\n",
    "            <Speaker>PER0</Speaker>\n",
    "          </token>\n",
    "\n",
    "\n"
   ]
  },
  {
   "cell_type": "markdown",
   "metadata": {},
   "source": [
    "*** xmlのcoreferenceの構造 ***"
   ]
  },
  {
   "cell_type": "markdown",
   "metadata": {},
   "source": [
    "\n",
    "    <coreference>\n",
    "      <coreference>\n",
    "        <mention representative=\"true\">\n",
    "          <sentence>1</sentence>\n",
    "          <start>7</start>\n",
    "          <end>16</end>\n",
    "          <head>12</head>\n",
    "          <text>the free encyclopedia Natural language processing -LRB- NLP -RRB-</text>\n",
    "        </mention>\n",
    "        <mention>\n",
    "          <sentence>1</sentence>\n",
    "          <start>17</start>\n",
    "          <end>22</end>\n",
    "          <head>18</head>\n",
    "          <text>a field of computer science</text>\n",
    "        </mention>\n",
    "        <mention>\n",
    "          <sentence>18</sentence>\n",
    "          <start>23</start>\n",
    "          <end>25</end>\n",
    "          <head>24</head>\n",
    "          <text>language processing</text>\n",
    "        </mention>\n",
    "      \n",
    "      </coreference>\n"
   ]
  },
  {
   "cell_type": "code",
   "execution_count": 42,
   "metadata": {},
   "outputs": [
    {
     "name": "stdout",
     "output_type": "stream",
     "text": [
      "<coreference>\n",
      " <coreference>\n",
      "  <mention representative=\"true\">\n",
      "   <sentence>\n",
      "    1\n",
      "   </sentence>\n",
      "   <start>\n",
      "    7\n",
      "   </start>\n",
      "   <end>\n",
      "    16\n",
      "   </end>\n",
      "   <head>\n",
      "    12\n",
      "   </head>\n",
      "   <text>\n",
      "    the free encyclopedia Natural language processing -LRB- NLP -RRB-\n",
      "   </text>\n",
      "  </mention>\n",
      "  <mention>\n",
      "   <sentence>\n",
      "    1\n",
      "   </sentence>\n",
      "   <start>\n",
      "    17\n",
      "   </start>\n",
      "   <end>\n",
      "    22\n",
      "   </end>\n",
      "   <head>\n",
      "    18\n",
      "   </head>\n",
      "   <text>\n",
      "    a field of computer science\n",
      "   </text>\n",
      "  </mention>\n",
      "  <mention>\n",
      "   <sentence>\n",
      "    18\n",
      "   </sentence>\n",
      "   <start>\n",
      "    23\n",
      "   </start>\n",
      "   <end>\n",
      "    25\n",
      "   </end>\n",
      "   <head>\n",
      "    24\n",
      "   </head>\n",
      "   <text>\n",
      "    language processing\n",
      "   </text>\n",
      "  </mention>\n",
      "  <mention>\n",
      "   <sentence>\n",
      "    19\n",
      "   </sentence>\n",
      "   <start>\n",
      "    50\n",
      "   </start>\n",
      "   <end>\n",
      "    52\n",
      "   </end>\n",
      "   <head>\n",
      "    51\n",
      "   </head>\n",
      "   <text>\n",
      "    language processing\n",
      "   </text>\n",
      "  </mention>\n",
      "  <mention>\n",
      "   <sentence>\n",
      "    33\n",
      "   </sentence>\n",
      "   <start>\n",
      "    15\n",
      "   </start>\n",
      "   <end>\n",
      "    17\n",
      "   </end>\n",
      "   <head>\n",
      "    16\n",
      "   </head>\n",
      "   <text>\n",
      "    language processing\n",
      "   </text>\n",
      "  </mention>\n",
      " </coreference>\n",
      " <coreference>\n",
      "  <mention representative=\"true\">\n",
      "   <sentence>\n",
      "    1\n",
      "   </sentence>\n",
      "   <start>\n",
      "    33\n",
      "   </start>\n",
      "   <end>\n",
      "    34\n",
      "   </end>\n",
      "   <head>\n",
      "    33\n",
      "   </head>\n",
      "   <text>\n",
      "    computers\n",
      "   </text>\n",
      "  </mention>\n",
      "  <mention>\n",
      "   <sentence>\n",
      "    3\n",
      "   </sentence>\n",
      "   <start>\n",
      "    14\n",
      "   </start>\n",
      "   <end>\n",
      "    15\n",
      "   </end>\n",
      "   <head>\n",
      "    14\n",
      "   </head>\n",
      "   <text>\n",
      "    computers\n",
      "   </text>\n",
      "  </mention>\n",
      " </coreference>\n",
      " <coreference>\n",
      "  <mention representative=\"true\">\n",
      "   <sentence>\n",
      "    4\n",
      "   </sentence>\n",
      "   <start>\n",
      "    5\n",
      "   </start>\n",
      "   <end>\n",
      "    6\n",
      "   </end>\n",
      "   <head>\n",
      "    5\n",
      "   </head>\n",
      "   <text>\n",
      "    NLP\n",
      "   </text>\n",
      "  </mention>\n",
      "  <mention>\n",
      "   <sentence>\n",
      "    17\n",
      "   </sentence>\n",
      "   <start>\n",
      "    7\n",
      "   </start>\n",
      "   <end>\n",
      "    8\n",
      "   </end>\n",
      "   <head>\n",
      "    7\n",
      "   </head>\n",
      "   <text>\n",
      "    NLP\n",
      "   </text>\n",
      "  </mention>\n",
      "  <mention>\n",
      "   <sentence>\n",
      "    21\n",
      "   </sentence>\n",
      "   <start>\n",
      "    15\n",
      "   </start>\n",
      "   <end>\n",
      "    16\n",
      "   </end>\n",
      "   <head>\n",
      "    15\n",
      "   </head>\n",
      "   <text>\n",
      "    NLP\n",
      "   </text>\n",
      "  </mention>\n",
      " </coreference>\n",
      " <coreference>\n",
      "  <mention representative=\"true\">\n",
      "   <sentence>\n",
      "    5\n",
      "   </sentence>\n",
      "   <start>\n",
      "    4\n",
      "   </start>\n",
      "   <end>\n",
      "    6\n",
      "   </end>\n",
      "   <head>\n",
      "    5\n",
      "   </head>\n",
      "   <text>\n",
      "    Alan Turing\n",
      "   </text>\n",
      "  </mention>\n",
      "  <mention>\n",
      "   <sentence>\n",
      "    5\n",
      "   </sentence>\n",
      "   <start>\n",
      "    23\n",
      "   </start>\n",
      "   <end>\n",
      "    24\n",
      "   </end>\n",
      "   <head>\n",
      "    23\n",
      "   </head>\n",
      "   <text>\n",
      "    Turing\n",
      "   </text>\n",
      "  </mention>\n",
      " </coreference>\n",
      " <coreference>\n",
      "  <mention representative=\"true\">\n",
      "   <sentence>\n",
      "    7\n",
      "   </sentence>\n",
      "   <start>\n",
      "    15\n",
      "   </start>\n",
      "   <end>\n",
      "    18\n",
      "   </end>\n",
      "   <head>\n",
      "    17\n",
      "   </head>\n",
      "   <text>\n",
      "    a solved problem\n",
      "   </text>\n",
      "  </mention>\n",
      "  <mention>\n",
      "   <sentence>\n",
      "    7\n",
      "   </sentence>\n",
      "   <start>\n",
      "    11\n",
      "   </start>\n",
      "   <end>\n",
      "    13\n",
      "   </end>\n",
      "   <head>\n",
      "    12\n",
      "   </head>\n",
      "   <text>\n",
      "    machine translation\n",
      "   </text>\n",
      "  </mention>\n",
      "  <mention>\n",
      "   <sentence>\n",
      "    9\n",
      "   </sentence>\n",
      "   <start>\n",
      "    5\n",
      "   </start>\n",
      "   <end>\n",
      "    7\n",
      "   </end>\n",
      "   <head>\n",
      "    6\n",
      "   </head>\n",
      "   <text>\n",
      "    machine translation\n",
      "   </text>\n",
      "  </mention>\n",
      "  <mention>\n",
      "   <sentence>\n",
      "    24\n",
      "   </sentence>\n",
      "   <start>\n",
      "    12\n",
      "   </start>\n",
      "   <end>\n",
      "    31\n",
      "   </end>\n",
      "   <head>\n",
      "    13\n",
      "   </head>\n",
      "   <text>\n",
      "    machine translation , due especially to work at IBM Research , where successively more complicated statistical models were developed\n",
      "   </text>\n",
      "  </mention>\n",
      "  <mention>\n",
      "   <sentence>\n",
      "    24\n",
      "   </sentence>\n",
      "   <start>\n",
      "    12\n",
      "   </start>\n",
      "   <end>\n",
      "    14\n",
      "   </end>\n",
      "   <head>\n",
      "    13\n",
      "   </head>\n",
      "   <text>\n",
      "    machine translation\n",
      "   </text>\n",
      "  </mention>\n",
      " </coreference>\n",
      " <coreference>\n",
      "  <mention representative=\"true\">\n",
      "   <sentence>\n",
      "    9\n",
      "   </sentence>\n",
      "   <start>\n",
      "    10\n",
      "   </start>\n",
      "   <end>\n",
      "    13\n",
      "   </end>\n",
      "   <head>\n",
      "    12\n",
      "   </head>\n",
      "   <text>\n",
      "    the late 1980s\n",
      "   </text>\n",
      "  </mention>\n",
      "  <mention>\n",
      "   <sentence>\n",
      "    17\n",
      "   </sentence>\n",
      "   <start>\n",
      "    3\n",
      "   </start>\n",
      "   <end>\n",
      "    5\n",
      "   </end>\n",
      "   <head>\n",
      "    4\n",
      "   </head>\n",
      "   <text>\n",
      "    the 1980s\n",
      "   </text>\n",
      "  </mention>\n",
      "  <mention>\n",
      "   <sentence>\n",
      "    18\n",
      "   </sentence>\n",
      "   <start>\n",
      "    3\n",
      "   </start>\n",
      "   <end>\n",
      "    6\n",
      "   </end>\n",
      "   <head>\n",
      "    5\n",
      "   </head>\n",
      "   <text>\n",
      "    the late 1980s\n",
      "   </text>\n",
      "  </mention>\n",
      " </coreference>\n",
      " <coreference>\n",
      "  <mention representative=\"true\">\n",
      "   <sentence>\n",
      "    10\n",
      "   </sentence>\n",
      "   <start>\n",
      "    29\n",
      "   </start>\n",
      "   <end>\n",
      "    30\n",
      "   </end>\n",
      "   <head>\n",
      "    29\n",
      "   </head>\n",
      "   <text>\n",
      "    ELIZA\n",
      "   </text>\n",
      "  </mention>\n",
      "  <mention>\n",
      "   <sentence>\n",
      "    12\n",
      "   </sentence>\n",
      "   <start>\n",
      "    13\n",
      "   </start>\n",
      "   <end>\n",
      "    14\n",
      "   </end>\n",
      "   <head>\n",
      "    13\n",
      "   </head>\n",
      "   <text>\n",
      "    ELIZA\n",
      "   </text>\n",
      "  </mention>\n",
      " </coreference>\n",
      " <coreference>\n",
      "  <mention representative=\"true\">\n",
      "   <sentence>\n",
      "    10\n",
      "   </sentence>\n",
      "   <start>\n",
      "    11\n",
      "   </start>\n",
      "   <end>\n",
      "    12\n",
      "   </end>\n",
      "   <head>\n",
      "    11\n",
      "   </head>\n",
      "   <text>\n",
      "    SHRDLU\n",
      "   </text>\n",
      "  </mention>\n",
      "  <mention>\n",
      "   <sentence>\n",
      "    10\n",
      "   </sentence>\n",
      "   <start>\n",
      "    13\n",
      "   </start>\n",
      "   <end>\n",
      "    27\n",
      "   </end>\n",
      "   <head>\n",
      "    16\n",
      "   </head>\n",
      "   <text>\n",
      "    a natural language system working in restricted `` blocks worlds '' with restricted vocabularies\n",
      "   </text>\n",
      "  </mention>\n",
      " </coreference>\n",
      " <coreference>\n",
      "  <mention representative=\"true\">\n",
      "   <sentence>\n",
      "    12\n",
      "   </sentence>\n",
      "   <start>\n",
      "    2\n",
      "   </start>\n",
      "   <end>\n",
      "    6\n",
      "   </end>\n",
      "   <head>\n",
      "    4\n",
      "   </head>\n",
      "   <text>\n",
      "    the `` patient ''\n",
      "   </text>\n",
      "  </mention>\n",
      "  <mention>\n",
      "   <sentence>\n",
      "    12\n",
      "   </sentence>\n",
      "   <start>\n",
      "    26\n",
      "   </start>\n",
      "   <end>\n",
      "    27\n",
      "   </end>\n",
      "   <head>\n",
      "    26\n",
      "   </head>\n",
      "   <text>\n",
      "    My\n",
      "   </text>\n",
      "  </mention>\n",
      " </coreference>\n",
      " <coreference>\n",
      "  <mention representative=\"true\">\n",
      "   <sentence>\n",
      "    12\n",
      "   </sentence>\n",
      "   <start>\n",
      "    26\n",
      "   </start>\n",
      "   <end>\n",
      "    28\n",
      "   </end>\n",
      "   <head>\n",
      "    27\n",
      "   </head>\n",
      "   <text>\n",
      "    My head\n",
      "   </text>\n",
      "  </mention>\n",
      "  <mention>\n",
      "   <sentence>\n",
      "    12\n",
      "   </sentence>\n",
      "   <start>\n",
      "    36\n",
      "   </start>\n",
      "   <end>\n",
      "    38\n",
      "   </end>\n",
      "   <head>\n",
      "    37\n",
      "   </head>\n",
      "   <text>\n",
      "    your head\n",
      "   </text>\n",
      "  </mention>\n",
      " </coreference>\n",
      " <coreference>\n",
      "  <mention representative=\"true\">\n",
      "   <sentence>\n",
      "    12\n",
      "   </sentence>\n",
      "   <start>\n",
      "    34\n",
      "   </start>\n",
      "   <end>\n",
      "    35\n",
      "   </end>\n",
      "   <head>\n",
      "    34\n",
      "   </head>\n",
      "   <text>\n",
      "    you\n",
      "   </text>\n",
      "  </mention>\n",
      "  <mention>\n",
      "   <sentence>\n",
      "    12\n",
      "   </sentence>\n",
      "   <start>\n",
      "    36\n",
      "   </start>\n",
      "   <end>\n",
      "    37\n",
      "   </end>\n",
      "   <head>\n",
      "    36\n",
      "   </head>\n",
      "   <text>\n",
      "    your\n",
      "   </text>\n",
      "  </mention>\n",
      " </coreference>\n",
      " <coreference>\n",
      "  <mention representative=\"true\">\n",
      "   <sentence>\n",
      "    15\n",
      "   </sentence>\n",
      "   <start>\n",
      "    33\n",
      "   </start>\n",
      "   <end>\n",
      "    34\n",
      "   </end>\n",
      "   <head>\n",
      "    33\n",
      "   </head>\n",
      "   <text>\n",
      "    Lehnert\n",
      "   </text>\n",
      "  </mention>\n",
      "  <mention>\n",
      "   <sentence>\n",
      "    15\n",
      "   </sentence>\n",
      "   <start>\n",
      "    49\n",
      "   </start>\n",
      "   <end>\n",
      "    51\n",
      "   </end>\n",
      "   <head>\n",
      "    49\n",
      "   </head>\n",
      "   <text>\n",
      "    Lehnert 1981\n",
      "   </text>\n",
      "  </mention>\n",
      " </coreference>\n",
      " <coreference>\n",
      "  <mention representative=\"true\">\n",
      "   <sentence>\n",
      "    15\n",
      "   </sentence>\n",
      "   <start>\n",
      "    14\n",
      "   </start>\n",
      "   <end>\n",
      "    15\n",
      "   </end>\n",
      "   <head>\n",
      "    14\n",
      "   </head>\n",
      "   <text>\n",
      "    1978\n",
      "   </text>\n",
      "  </mention>\n",
      "  <mention>\n",
      "   <sentence>\n",
      "    15\n",
      "   </sentence>\n",
      "   <start>\n",
      "    21\n",
      "   </start>\n",
      "   <end>\n",
      "    22\n",
      "   </end>\n",
      "   <head>\n",
      "    21\n",
      "   </head>\n",
      "   <text>\n",
      "    1978\n",
      "   </text>\n",
      "  </mention>\n",
      " </coreference>\n",
      " <coreference>\n",
      "  <mention representative=\"true\">\n",
      "   <sentence>\n",
      "    17\n",
      "   </sentence>\n",
      "   <start>\n",
      "    15\n",
      "   </start>\n",
      "   <end>\n",
      "    17\n",
      "   </end>\n",
      "   <head>\n",
      "    16\n",
      "   </head>\n",
      "   <text>\n",
      "    hand-written rules\n",
      "   </text>\n",
      "  </mention>\n",
      "  <mention>\n",
      "   <sentence>\n",
      "    39\n",
      "   </sentence>\n",
      "   <start>\n",
      "    23\n",
      "   </start>\n",
      "   <end>\n",
      "    25\n",
      "   </end>\n",
      "   <head>\n",
      "    24\n",
      "   </head>\n",
      "   <text>\n",
      "    hand-written rules\n",
      "   </text>\n",
      "  </mention>\n",
      "  <mention>\n",
      "   <sentence>\n",
      "    44\n",
      "   </sentence>\n",
      "   <start>\n",
      "    8\n",
      "   </start>\n",
      "   <end>\n",
      "    10\n",
      "   </end>\n",
      "   <head>\n",
      "    9\n",
      "   </head>\n",
      "   <text>\n",
      "    hand-written rules\n",
      "   </text>\n",
      "  </mention>\n",
      "  <mention>\n",
      "   <sentence>\n",
      "    44\n",
      "   </sentence>\n",
      "   <start>\n",
      "    18\n",
      "   </start>\n",
      "   <end>\n",
      "    20\n",
      "   </end>\n",
      "   <head>\n",
      "    19\n",
      "   </head>\n",
      "   <text>\n",
      "    hand-written rules\n",
      "   </text>\n",
      "  </mention>\n",
      "  <mention>\n",
      "   <sentence>\n",
      "    46\n",
      "   </sentence>\n",
      "   <start>\n",
      "    6\n",
      "   </start>\n",
      "   <end>\n",
      "    8\n",
      "   </end>\n",
      "   <head>\n",
      "    7\n",
      "   </head>\n",
      "   <text>\n",
      "    hand-written rules\n",
      "   </text>\n",
      "  </mention>\n",
      " </coreference>\n",
      " <coreference>\n",
      "  <mention representative=\"true\">\n",
      "   <sentence>\n",
      "    18\n",
      "   </sentence>\n",
      "   <start>\n",
      "    19\n",
      "   </start>\n",
      "   <end>\n",
      "    25\n",
      "   </end>\n",
      "   <head>\n",
      "    21\n",
      "   </head>\n",
      "   <text>\n",
      "    machine learning algorithms for language processing\n",
      "   </text>\n",
      "  </mention>\n",
      "  <mention>\n",
      "   <sentence>\n",
      "    20\n",
      "   </sentence>\n",
      "   <start>\n",
      "    7\n",
      "   </start>\n",
      "   <end>\n",
      "    8\n",
      "   </end>\n",
      "   <head>\n",
      "    7\n",
      "   </head>\n",
      "   <text>\n",
      "    algorithms\n",
      "   </text>\n",
      "  </mention>\n",
      " </coreference>\n",
      " <coreference>\n",
      "  <mention representative=\"true\">\n",
      "   <sentence>\n",
      "    20\n",
      "   </sentence>\n",
      "   <start>\n",
      "    11\n",
      "   </start>\n",
      "   <end>\n",
      "    13\n",
      "   </end>\n",
      "   <head>\n",
      "    12\n",
      "   </head>\n",
      "   <text>\n",
      "    decision trees\n",
      "   </text>\n",
      "  </mention>\n",
      "  <mention>\n",
      "   <sentence>\n",
      "    39\n",
      "   </sentence>\n",
      "   <start>\n",
      "    9\n",
      "   </start>\n",
      "   <end>\n",
      "    11\n",
      "   </end>\n",
      "   <head>\n",
      "    10\n",
      "   </head>\n",
      "   <text>\n",
      "    decision trees\n",
      "   </text>\n",
      "  </mention>\n",
      " </coreference>\n",
      " <coreference>\n",
      "  <mention representative=\"true\">\n",
      "   <sentence>\n",
      "    20\n",
      "   </sentence>\n",
      "   <start>\n",
      "    17\n",
      "   </start>\n",
      "   <end>\n",
      "    25\n",
      "   </end>\n",
      "   <head>\n",
      "    19\n",
      "   </head>\n",
      "   <text>\n",
      "    hard if-then rules similar to existing hand-written rules\n",
      "   </text>\n",
      "  </mention>\n",
      "  <mention>\n",
      "   <sentence>\n",
      "    34\n",
      "   </sentence>\n",
      "   <start>\n",
      "    16\n",
      "   </start>\n",
      "   <end>\n",
      "    17\n",
      "   </end>\n",
      "   <head>\n",
      "    16\n",
      "   </head>\n",
      "   <text>\n",
      "    rules\n",
      "   </text>\n",
      "  </mention>\n",
      "  <mention>\n",
      "   <sentence>\n",
      "    42\n",
      "   </sentence>\n",
      "   <start>\n",
      "    31\n",
      "   </start>\n",
      "   <end>\n",
      "    32\n",
      "   </end>\n",
      "   <head>\n",
      "    31\n",
      "   </head>\n",
      "   <text>\n",
      "    rules\n",
      "   </text>\n",
      "  </mention>\n",
      " </coreference>\n",
      " <coreference>\n",
      "  <mention representative=\"true\">\n",
      "   <sentence>\n",
      "    21\n",
      "   </sentence>\n",
      "   <start>\n",
      "    24\n",
      "   </start>\n",
      "   <end>\n",
      "    46\n",
      "   </end>\n",
      "   <head>\n",
      "    25\n",
      "   </head>\n",
      "   <text>\n",
      "    statistical models , which make soft , probabilistic decisions based on attaching real-valued weights to the features making up the input data\n",
      "   </text>\n",
      "  </mention>\n",
      "  <mention>\n",
      "   <sentence>\n",
      "    21\n",
      "   </sentence>\n",
      "   <start>\n",
      "    24\n",
      "   </start>\n",
      "   <end>\n",
      "    26\n",
      "   </end>\n",
      "   <head>\n",
      "    25\n",
      "   </head>\n",
      "   <text>\n",
      "    statistical models\n",
      "   </text>\n",
      "  </mention>\n",
      "  <mention>\n",
      "   <sentence>\n",
      "    40\n",
      "   </sentence>\n",
      "   <start>\n",
      "    9\n",
      "   </start>\n",
      "   <end>\n",
      "    27\n",
      "   </end>\n",
      "   <head>\n",
      "    10\n",
      "   </head>\n",
      "   <text>\n",
      "    statistical models , which make soft , probabilistic decisions based on attaching real-valued weights to each input feature\n",
      "   </text>\n",
      "  </mention>\n",
      "  <mention>\n",
      "   <sentence>\n",
      "    40\n",
      "   </sentence>\n",
      "   <start>\n",
      "    9\n",
      "   </start>\n",
      "   <end>\n",
      "    11\n",
      "   </end>\n",
      "   <head>\n",
      "    10\n",
      "   </head>\n",
      "   <text>\n",
      "    statistical models\n",
      "   </text>\n",
      "  </mention>\n",
      " </coreference>\n",
      " <coreference>\n",
      "  <mention representative=\"true\">\n",
      "   <sentence>\n",
      "    21\n",
      "   </sentence>\n",
      "   <start>\n",
      "    29\n",
      "   </start>\n",
      "   <end>\n",
      "    33\n",
      "   </end>\n",
      "   <head>\n",
      "    32\n",
      "   </head>\n",
      "   <text>\n",
      "    soft , probabilistic decisions\n",
      "   </text>\n",
      "  </mention>\n",
      "  <mention>\n",
      "   <sentence>\n",
      "    40\n",
      "   </sentence>\n",
      "   <start>\n",
      "    14\n",
      "   </start>\n",
      "   <end>\n",
      "    18\n",
      "   </end>\n",
      "   <head>\n",
      "    17\n",
      "   </head>\n",
      "   <text>\n",
      "    soft , probabilistic decisions\n",
      "   </text>\n",
      "  </mention>\n",
      " </coreference>\n",
      " <coreference>\n",
      "  <mention representative=\"true\">\n",
      "   <sentence>\n",
      "    21\n",
      "   </sentence>\n",
      "   <start>\n",
      "    36\n",
      "   </start>\n",
      "   <end>\n",
      "    38\n",
      "   </end>\n",
      "   <head>\n",
      "    37\n",
      "   </head>\n",
      "   <text>\n",
      "    real-valued weights\n",
      "   </text>\n",
      "  </mention>\n",
      "  <mention>\n",
      "   <sentence>\n",
      "    40\n",
      "   </sentence>\n",
      "   <start>\n",
      "    21\n",
      "   </start>\n",
      "   <end>\n",
      "    23\n",
      "   </end>\n",
      "   <head>\n",
      "    22\n",
      "   </head>\n",
      "   <text>\n",
      "    real-valued weights\n",
      "   </text>\n",
      "  </mention>\n",
      " </coreference>\n",
      " <coreference>\n",
      "  <mention representative=\"true\">\n",
      "   <sentence>\n",
      "    21\n",
      "   </sentence>\n",
      "   <start>\n",
      "    43\n",
      "   </start>\n",
      "   <end>\n",
      "    46\n",
      "   </end>\n",
      "   <head>\n",
      "    45\n",
      "   </head>\n",
      "   <text>\n",
      "    the input data\n",
      "   </text>\n",
      "  </mention>\n",
      "  <mention>\n",
      "   <sentence>\n",
      "    38\n",
      "   </sentence>\n",
      "   <start>\n",
      "    17\n",
      "   </start>\n",
      "   <end>\n",
      "    20\n",
      "   </end>\n",
      "   <head>\n",
      "    19\n",
      "   </head>\n",
      "   <text>\n",
      "    the input data\n",
      "   </text>\n",
      "  </mention>\n",
      " </coreference>\n",
      " <coreference>\n",
      "  <mention representative=\"true\">\n",
      "   <sentence>\n",
      "    22\n",
      "   </sentence>\n",
      "   <start>\n",
      "    1\n",
      "   </start>\n",
      "   <end>\n",
      "    13\n",
      "   </end>\n",
      "   <head>\n",
      "    4\n",
      "   </head>\n",
      "   <text>\n",
      "    The cache language models upon which many speech recognition systems now rely\n",
      "   </text>\n",
      "  </mention>\n",
      "  <mention>\n",
      "   <sentence>\n",
      "    22\n",
      "   </sentence>\n",
      "   <start>\n",
      "    14\n",
      "   </start>\n",
      "   <end>\n",
      "    19\n",
      "   </end>\n",
      "   <head>\n",
      "    14\n",
      "   </head>\n",
      "   <text>\n",
      "    examples of such statistical models\n",
      "   </text>\n",
      "  </mention>\n",
      " </coreference>\n",
      " <coreference>\n",
      "  <mention representative=\"true\">\n",
      "   <sentence>\n",
      "    22\n",
      "   </sentence>\n",
      "   <start>\n",
      "    7\n",
      "   </start>\n",
      "   <end>\n",
      "    11\n",
      "   </end>\n",
      "   <head>\n",
      "    10\n",
      "   </head>\n",
      "   <text>\n",
      "    many speech recognition systems\n",
      "   </text>\n",
      "  </mention>\n",
      "  <mention>\n",
      "   <sentence>\n",
      "    25\n",
      "   </sentence>\n",
      "   <start>\n",
      "    1\n",
      "   </start>\n",
      "   <end>\n",
      "    3\n",
      "   </end>\n",
      "   <head>\n",
      "    2\n",
      "   </head>\n",
      "   <text>\n",
      "    These systems\n",
      "   </text>\n",
      "  </mention>\n",
      "  <mention>\n",
      "   <sentence>\n",
      "    26\n",
      "   </sentence>\n",
      "   <start>\n",
      "    16\n",
      "   </start>\n",
      "   <end>\n",
      "    18\n",
      "   </end>\n",
      "   <head>\n",
      "    17\n",
      "   </head>\n",
      "   <text>\n",
      "    these systems\n",
      "   </text>\n",
      "  </mention>\n",
      "  <mention>\n",
      "   <sentence>\n",
      "    26\n",
      "   </sentence>\n",
      "   <start>\n",
      "    35\n",
      "   </start>\n",
      "   <end>\n",
      "    37\n",
      "   </end>\n",
      "   <head>\n",
      "    36\n",
      "   </head>\n",
      "   <text>\n",
      "    these systems\n",
      "   </text>\n",
      "  </mention>\n",
      " </coreference>\n",
      " <coreference>\n",
      "  <mention representative=\"true\">\n",
      "   <sentence>\n",
      "    38\n",
      "   </sentence>\n",
      "   <start>\n",
      "    4\n",
      "   </start>\n",
      "   <end>\n",
      "    6\n",
      "   </end>\n",
      "   <head>\n",
      "    5\n",
      "   </head>\n",
      "   <text>\n",
      "    as input\n",
      "   </text>\n",
      "  </mention>\n",
      "  <mention>\n",
      "   <sentence>\n",
      "    23\n",
      "   </sentence>\n",
      "   <start>\n",
      "    13\n",
      "   </start>\n",
      "   <end>\n",
      "    26\n",
      "   </end>\n",
      "   <head>\n",
      "    13\n",
      "   </head>\n",
      "   <text>\n",
      "    input that contains errors -LRB- as is very common for real-world data -RRB-\n",
      "   </text>\n",
      "  </mention>\n",
      " </coreference>\n",
      " <coreference>\n",
      "  <mention representative=\"true\">\n",
      "   <sentence>\n",
      "    41\n",
      "   </sentence>\n",
      "   <start>\n",
      "    4\n",
      "   </start>\n",
      "   <end>\n",
      "    6\n",
      "   </end>\n",
      "   <head>\n",
      "    5\n",
      "   </head>\n",
      "   <text>\n",
      "    the advantage\n",
      "   </text>\n",
      "  </mention>\n",
      "  <mention>\n",
      "   <sentence>\n",
      "    25\n",
      "   </sentence>\n",
      "   <start>\n",
      "    7\n",
      "   </start>\n",
      "   <end>\n",
      "    49\n",
      "   </end>\n",
      "   <head>\n",
      "    7\n",
      "   </head>\n",
      "   <text>\n",
      "    advantage of existing multilingual textual corpora that had been produced by the Parliament of Canada and the European Union as a result of laws calling for the translation of all governmental proceedings into all official languages of the corresponding systems of government\n",
      "   </text>\n",
      "  </mention>\n",
      " </coreference>\n",
      " <coreference>\n",
      "  <mention representative=\"true\">\n",
      "   <sentence>\n",
      "    25\n",
      "   </sentence>\n",
      "   <start>\n",
      "    9\n",
      "   </start>\n",
      "   <end>\n",
      "    49\n",
      "   </end>\n",
      "   <head>\n",
      "    12\n",
      "   </head>\n",
      "   <text>\n",
      "    existing multilingual textual corpora that had been produced by the Parliament of Canada and the European Union as a result of laws calling for the translation of all governmental proceedings into all official languages of the corresponding systems of government\n",
      "   </text>\n",
      "  </mention>\n",
      "  <mention>\n",
      "   <sentence>\n",
      "    36\n",
      "   </sentence>\n",
      "   <start>\n",
      "    6\n",
      "   </start>\n",
      "   <end>\n",
      "    9\n",
      "   </end>\n",
      "   <head>\n",
      "    7\n",
      "   </head>\n",
      "   <text>\n",
      "    `` corpora ''\n",
      "   </text>\n",
      "  </mention>\n",
      " </coreference>\n",
      " <coreference>\n",
      "  <mention representative=\"true\">\n",
      "   <sentence>\n",
      "    27\n",
      "   </sentence>\n",
      "   <start>\n",
      "    22\n",
      "   </start>\n",
      "   <end>\n",
      "    23\n",
      "   </end>\n",
      "   <head>\n",
      "    22\n",
      "   </head>\n",
      "   <text>\n",
      "    data\n",
      "   </text>\n",
      "  </mention>\n",
      "  <mention>\n",
      "   <sentence>\n",
      "    29\n",
      "   </sentence>\n",
      "   <start>\n",
      "    8\n",
      "   </start>\n",
      "   <end>\n",
      "    18\n",
      "   </end>\n",
      "   <head>\n",
      "    8\n",
      "   </head>\n",
      "   <text>\n",
      "    data that has not been hand-annotated with the desired answers\n",
      "   </text>\n",
      "  </mention>\n",
      " </coreference>\n",
      " <coreference>\n",
      "  <mention representative=\"true\">\n",
      "   <sentence>\n",
      "    32\n",
      "   </sentence>\n",
      "   <start>\n",
      "    3\n",
      "   </start>\n",
      "   <end>\n",
      "    8\n",
      "   </end>\n",
      "   <head>\n",
      "    7\n",
      "   </head>\n",
      "   <text>\n",
      "    machine learning Modern NLP algorithms\n",
      "   </text>\n",
      "  </mention>\n",
      "  <mention>\n",
      "   <sentence>\n",
      "    37\n",
      "   </sentence>\n",
      "   <start>\n",
      "    5\n",
      "   </start>\n",
      "   <end>\n",
      "    8\n",
      "   </end>\n",
      "   <head>\n",
      "    7\n",
      "   </head>\n",
      "   <text>\n",
      "    machine learning algorithms\n",
      "   </text>\n",
      "  </mention>\n",
      "  <mention>\n",
      "   <sentence>\n",
      "    38\n",
      "   </sentence>\n",
      "   <start>\n",
      "    1\n",
      "   </start>\n",
      "   <end>\n",
      "    3\n",
      "   </end>\n",
      "   <head>\n",
      "    2\n",
      "   </head>\n",
      "   <text>\n",
      "    These algorithms\n",
      "   </text>\n",
      "  </mention>\n",
      " </coreference>\n",
      " <coreference>\n",
      "  <mention representative=\"true\">\n",
      "   <sentence>\n",
      "    32\n",
      "   </sentence>\n",
      "   <start>\n",
      "    11\n",
      "   </start>\n",
      "   <end>\n",
      "    13\n",
      "   </end>\n",
      "   <head>\n",
      "    12\n",
      "   </head>\n",
      "   <text>\n",
      "    machine learning\n",
      "   </text>\n",
      "  </mention>\n",
      "  <mention>\n",
      "   <sentence>\n",
      "    32\n",
      "   </sentence>\n",
      "   <start>\n",
      "    11\n",
      "   </start>\n",
      "   <end>\n",
      "    18\n",
      "   </end>\n",
      "   <head>\n",
      "    12\n",
      "   </head>\n",
      "   <text>\n",
      "    machine learning , especially statistical machine learning\n",
      "   </text>\n",
      "  </mention>\n",
      "  <mention>\n",
      "   <sentence>\n",
      "    33\n",
      "   </sentence>\n",
      "   <start>\n",
      "    4\n",
      "   </start>\n",
      "   <end>\n",
      "    6\n",
      "   </end>\n",
      "   <head>\n",
      "    5\n",
      "   </head>\n",
      "   <text>\n",
      "    machine learning\n",
      "   </text>\n",
      "  </mention>\n",
      "  <mention>\n",
      "   <sentence>\n",
      "    42\n",
      "   </sentence>\n",
      "   <start>\n",
      "    18\n",
      "   </start>\n",
      "   <end>\n",
      "    20\n",
      "   </end>\n",
      "   <head>\n",
      "    19\n",
      "   </head>\n",
      "   <text>\n",
      "    machine learning\n",
      "   </text>\n",
      "  </mention>\n",
      " </coreference>\n",
      " <coreference>\n",
      "  <mention representative=\"true\">\n",
      "   <sentence>\n",
      "    36\n",
      "   </sentence>\n",
      "   <start>\n",
      "    1\n",
      "   </start>\n",
      "   <end>\n",
      "    10\n",
      "   </end>\n",
      "   <head>\n",
      "    2\n",
      "   </head>\n",
      "   <text>\n",
      "    A corpus -LRB- plural , `` corpora '' -RRB-\n",
      "   </text>\n",
      "  </mention>\n",
      "  <mention>\n",
      "   <sentence>\n",
      "    36\n",
      "   </sentence>\n",
      "   <start>\n",
      "    11\n",
      "   </start>\n",
      "   <end>\n",
      "    33\n",
      "   </end>\n",
      "   <head>\n",
      "    12\n",
      "   </head>\n",
      "   <text>\n",
      "    a set of documents -LRB- or sometimes , individual sentences -RRB- that have been hand-annotated with the correct values to be learned\n",
      "   </text>\n",
      "  </mention>\n",
      " </coreference>\n",
      " <coreference>\n",
      "  <mention representative=\"true\">\n",
      "   <sentence>\n",
      "    39\n",
      "   </sentence>\n",
      "   <start>\n",
      "    1\n",
      "   </start>\n",
      "   <end>\n",
      "    11\n",
      "   </end>\n",
      "   <head>\n",
      "    1\n",
      "   </head>\n",
      "   <text>\n",
      "    Some of the earliest-used algorithms , such as decision trees\n",
      "   </text>\n",
      "  </mention>\n",
      "  <mention>\n",
      "   <sentence>\n",
      "    41\n",
      "   </sentence>\n",
      "   <start>\n",
      "    7\n",
      "   </start>\n",
      "   <end>\n",
      "    8\n",
      "   </end>\n",
      "   <head>\n",
      "    7\n",
      "   </head>\n",
      "   <text>\n",
      "    they\n",
      "   </text>\n",
      "  </mention>\n",
      " </coreference>\n",
      " <coreference>\n",
      "  <mention representative=\"true\">\n",
      "   <sentence>\n",
      "    42\n",
      "   </sentence>\n",
      "   <start>\n",
      "    1\n",
      "   </start>\n",
      "   <end>\n",
      "    6\n",
      "   </end>\n",
      "   <head>\n",
      "    1\n",
      "   </head>\n",
      "   <text>\n",
      "    Systems based on machine-learning algorithms\n",
      "   </text>\n",
      "  </mention>\n",
      "  <mention>\n",
      "   <sentence>\n",
      "    48\n",
      "   </sentence>\n",
      "   <start>\n",
      "    9\n",
      "   </start>\n",
      "   <end>\n",
      "    11\n",
      "   </end>\n",
      "   <head>\n",
      "    10\n",
      "   </head>\n",
      "   <text>\n",
      "    machine-learning systems\n",
      "   </text>\n",
      "  </mention>\n",
      " </coreference>\n",
      " <coreference>\n",
      "  <mention representative=\"true\">\n",
      "   <sentence>\n",
      "    42\n",
      "   </sentence>\n",
      "   <start>\n",
      "    13\n",
      "   </start>\n",
      "   <end>\n",
      "    20\n",
      "   </end>\n",
      "   <head>\n",
      "    15\n",
      "   </head>\n",
      "   <text>\n",
      "    The learning procedures used during machine learning\n",
      "   </text>\n",
      "  </mention>\n",
      "  <mention>\n",
      "   <sentence>\n",
      "    43\n",
      "   </sentence>\n",
      "   <start>\n",
      "    3\n",
      "   </start>\n",
      "   <end>\n",
      "    4\n",
      "   </end>\n",
      "   <head>\n",
      "    3\n",
      "   </head>\n",
      "   <text>\n",
      "    procedures\n",
      "   </text>\n",
      "  </mention>\n",
      " </coreference>\n",
      " <coreference>\n",
      "  <mention representative=\"true\">\n",
      "   <sentence>\n",
      "    45\n",
      "   </sentence>\n",
      "   <start>\n",
      "    6\n",
      "   </start>\n",
      "   <end>\n",
      "    8\n",
      "   </end>\n",
      "   <head>\n",
      "    7\n",
      "   </head>\n",
      "   <text>\n",
      "    the rules\n",
      "   </text>\n",
      "  </mention>\n",
      "  <mention>\n",
      "   <sentence>\n",
      "    46\n",
      "   </sentence>\n",
      "   <start>\n",
      "    19\n",
      "   </start>\n",
      "   <end>\n",
      "    29\n",
      "   </end>\n",
      "   <head>\n",
      "    20\n",
      "   </head>\n",
      "   <text>\n",
      "    the rules , which is a much more difficult task\n",
      "   </text>\n",
      "  </mention>\n",
      "  <mention>\n",
      "   <sentence>\n",
      "    46\n",
      "   </sentence>\n",
      "   <start>\n",
      "    19\n",
      "   </start>\n",
      "   <end>\n",
      "    21\n",
      "   </end>\n",
      "   <head>\n",
      "    20\n",
      "   </head>\n",
      "   <text>\n",
      "    the rules\n",
      "   </text>\n",
      "  </mention>\n",
      " </coreference>\n",
      " <coreference>\n",
      "  <mention representative=\"true\">\n",
      "   <sentence>\n",
      "    47\n",
      "   </sentence>\n",
      "   <start>\n",
      "    20\n",
      "   </start>\n",
      "   <end>\n",
      "    22\n",
      "   </end>\n",
      "   <head>\n",
      "    21\n",
      "   </head>\n",
      "   <text>\n",
      "    the systems\n",
      "   </text>\n",
      "  </mention>\n",
      "  <mention>\n",
      "   <sentence>\n",
      "    46\n",
      "   </sentence>\n",
      "   <start>\n",
      "    3\n",
      "   </start>\n",
      "   <end>\n",
      "    8\n",
      "   </end>\n",
      "   <head>\n",
      "    3\n",
      "   </head>\n",
      "   <text>\n",
      "    systems based on hand-written rules\n",
      "   </text>\n",
      "  </mention>\n",
      " </coreference>\n",
      " <coreference>\n",
      "  <mention representative=\"true\">\n",
      "   <sentence>\n",
      "    49\n",
      "   </sentence>\n",
      "   <start>\n",
      "    12\n",
      "   </start>\n",
      "   <end>\n",
      "    18\n",
      "   </end>\n",
      "   <head>\n",
      "    14\n",
      "   </head>\n",
      "   <text>\n",
      "    Natural Language Learning -LRB- NLL -RRB-\n",
      "   </text>\n",
      "  </mention>\n",
      "  <mention>\n",
      "   <sentence>\n",
      "    49\n",
      "   </sentence>\n",
      "   <start>\n",
      "    19\n",
      "   </start>\n",
      "   <end>\n",
      "    20\n",
      "   </end>\n",
      "   <head>\n",
      "    19\n",
      "   </head>\n",
      "   <text>\n",
      "    its\n",
      "   </text>\n",
      "  </mention>\n",
      " </coreference>\n",
      "</coreference>\n",
      "\n"
     ]
    }
   ],
   "source": [
    "print(coref_all.prettify())"
   ]
  },
  {
   "cell_type": "markdown",
   "metadata": {},
   "source": [
    "##### creating map"
   ]
  },
  {
   "cell_type": "code",
   "execution_count": 16,
   "metadata": {},
   "outputs": [],
   "source": [
    "coref_map = dict()\n",
    "coref_all = soup.find(\"coreference\")\n",
    "for c in coref_all.findAll(\"coreference\"):\n",
    "    run_representative = c.find(\"mention\", attrs={\"representative\":\"true\"}) \n",
    "    value_text = run_representative.find('text').get_text()\n",
    "    for m in c.findAll('mention'):\n",
    "        if m.attrs.get('representative') != 'true':\n",
    "            #value = m.find('text').get_text()\n",
    "            key_text = m.find('text').get_text()\n",
    "            key_sentence = m.find('sentence').get_text()\n",
    "            key_start = m.find('start').get_text()\n",
    "            value_end = m.find('end').get_text()\n",
    "            coref_map[(key_sentence, key_start)] = (value_end , value_text)\n"
   ]
  },
  {
   "cell_type": "code",
   "execution_count": 17,
   "metadata": {},
   "outputs": [
    {
     "data": {
      "text/plain": [
       "{('1', '17'): ('22',\n",
       "  'the free encyclopedia Natural language processing -LRB- NLP -RRB-'),\n",
       " ('10', '13'): ('27', 'SHRDLU'),\n",
       " ('12', '13'): ('14', 'ELIZA'),\n",
       " ('12', '26'): ('27', \"the `` patient ''\"),\n",
       " ('12', '36'): ('37', 'you'),\n",
       " ('15', '21'): ('22', '1978'),\n",
       " ('15', '49'): ('51', 'Lehnert'),\n",
       " ('17', '3'): ('5', 'the late 1980s'),\n",
       " ('17', '7'): ('8', 'NLP'),\n",
       " ('18', '23'): ('25',\n",
       "  'the free encyclopedia Natural language processing -LRB- NLP -RRB-'),\n",
       " ('18', '3'): ('6', 'the late 1980s'),\n",
       " ('19', '50'): ('52',\n",
       "  'the free encyclopedia Natural language processing -LRB- NLP -RRB-'),\n",
       " ('20', '7'): ('8', 'machine learning algorithms for language processing'),\n",
       " ('21', '15'): ('16', 'NLP'),\n",
       " ('21', '24'): ('26',\n",
       "  'statistical models , which make soft , probabilistic decisions based on attaching real-valued weights to the features making up the input data'),\n",
       " ('22', '14'): ('19',\n",
       "  'The cache language models upon which many speech recognition systems now rely'),\n",
       " ('23', '13'): ('26', 'as input'),\n",
       " ('24', '12'): ('14', 'a solved problem'),\n",
       " ('25', '1'): ('3', 'many speech recognition systems'),\n",
       " ('25', '7'): ('49', 'the advantage'),\n",
       " ('26', '16'): ('18', 'many speech recognition systems'),\n",
       " ('26', '35'): ('37', 'many speech recognition systems'),\n",
       " ('29', '8'): ('18', 'data'),\n",
       " ('3', '14'): ('15', 'computers'),\n",
       " ('32', '11'): ('18', 'machine learning'),\n",
       " ('33', '15'): ('17',\n",
       "  'the free encyclopedia Natural language processing -LRB- NLP -RRB-'),\n",
       " ('33', '4'): ('6', 'machine learning'),\n",
       " ('34', '16'): ('17',\n",
       "  'hard if-then rules similar to existing hand-written rules'),\n",
       " ('36', '11'): ('33', \"A corpus -LRB- plural , `` corpora '' -RRB-\"),\n",
       " ('36', '6'): ('9',\n",
       "  'existing multilingual textual corpora that had been produced by the Parliament of Canada and the European Union as a result of laws calling for the translation of all governmental proceedings into all official languages of the corresponding systems of government'),\n",
       " ('37', '5'): ('8', 'machine learning Modern NLP algorithms'),\n",
       " ('38', '1'): ('3', 'machine learning Modern NLP algorithms'),\n",
       " ('38', '17'): ('20', 'the input data'),\n",
       " ('39', '23'): ('25', 'hand-written rules'),\n",
       " ('39', '9'): ('11', 'decision trees'),\n",
       " ('40', '14'): ('18', 'soft , probabilistic decisions'),\n",
       " ('40', '21'): ('23', 'real-valued weights'),\n",
       " ('40', '9'): ('11',\n",
       "  'statistical models , which make soft , probabilistic decisions based on attaching real-valued weights to the features making up the input data'),\n",
       " ('41', '7'): ('8',\n",
       "  'Some of the earliest-used algorithms , such as decision trees'),\n",
       " ('42', '18'): ('20', 'machine learning'),\n",
       " ('42', '31'): ('32',\n",
       "  'hard if-then rules similar to existing hand-written rules'),\n",
       " ('43', '3'): ('4', 'The learning procedures used during machine learning'),\n",
       " ('44', '18'): ('20', 'hand-written rules'),\n",
       " ('44', '8'): ('10', 'hand-written rules'),\n",
       " ('46', '19'): ('21', 'the rules'),\n",
       " ('46', '3'): ('8', 'the systems'),\n",
       " ('46', '6'): ('8', 'hand-written rules'),\n",
       " ('48', '9'): ('11', 'Systems based on machine-learning algorithms'),\n",
       " ('49', '19'): ('20', 'Natural Language Learning -LRB- NLL -RRB-'),\n",
       " ('5', '23'): ('24', 'Alan Turing'),\n",
       " ('7', '11'): ('13', 'a solved problem'),\n",
       " ('9', '5'): ('7', 'a solved problem')}"
      ]
     },
     "execution_count": 17,
     "metadata": {},
     "output_type": "execute_result"
    }
   ],
   "source": [
    "coref_map"
   ]
  },
  {
   "cell_type": "markdown",
   "metadata": {},
   "source": [
    "##### replacement"
   ]
  },
  {
   "cell_type": "code",
   "execution_count": 61,
   "metadata": {},
   "outputs": [],
   "source": [
    "def my_replace():\n",
    "    sentences = soup.find(\"sentences\")\n",
    "    for s in sentences.find_all('sentence'):\n",
    "        sid = s.attrs.get('id')\n",
    "        \n",
    "        if sid is not None:\n",
    "            run_end = -1\n",
    "            for t in s.find_all('token'):\n",
    "                tid = t.attrs.get(\"id\")\n",
    "                \n",
    "                run_word = t.find(\"word\").get_text()\n",
    "                if (sid , tid) in coref_map and run_end == -1:\n",
    "                    run_value = coref_map[(sid,tid)]\n",
    "                    yield(\"[{}\".format(run_word))\n",
    "                    run_end = run_value[0]\n",
    "                elif int(tid) == int(run_end)-1:\n",
    "                    yield(\"{}({})]\".format(run_word, run_value[1]))\n",
    "                    run_end = -1\n",
    "                else:\n",
    "                    yield(t.find(\"word\").get_text())\n"
   ]
  },
  {
   "cell_type": "code",
   "execution_count": 66,
   "metadata": {},
   "outputs": [
    {
     "name": "stdout",
     "output_type": "stream",
     "text": [
      "Natural language processing From Wikipedia , the free encyclopedia Natural language processing -LRB- NLP -RRB- is [a field of computer science(the free encyclopedia Natural language processing -LRB- NLP -RRB-)] , artificial intelligence , and linguistics concerned with the interactions between computers and human -LRB- natural -RRB- languages . As such , NLP is related to the area of humani-computer interaction . Many challenges in NLP involve natural language understanding , that is , enabling [computers to derive meaning from human or natural language input , and others involve natural language generation . History The history of NLP generally starts in the 1950s , although work can be found "
     ]
    }
   ],
   "source": [
    "for i , x in enumerate(my_replace()):\n",
    "    if i < 100:\n",
    "        print(x , end = \" \")"
   ]
  },
  {
   "cell_type": "markdown",
   "metadata": {},
   "source": [
    "##### sandbox"
   ]
  },
  {
   "cell_type": "code",
   "execution_count": 55,
   "metadata": {},
   "outputs": [
    {
     "name": "stdout",
     "output_type": "stream",
     "text": [
      "Natural language processing From Wikipedia , the free encyclopedia Natural language processing -LRB- NLP -RRB- is [a field of computer science(the free encyclopedia Natural language processing -LRB- NLP -RRB-)] , artificial intelligence , and linguistics concerned with the interactions between computers and human -LRB- natural -RRB- languages . As such , NLP is related to the area of humani-computer interaction . Many challenges in NLP involve natural language understanding , that is , enabling [computers(computers)] to derive meaning from human or natural language input , and others involve natural language generation . History The history of NLP generally starts in the 1950s , although work can be found from earlier periods . In 1950 , Alan Turing published an article titled `` Computing Machinery and Intelligence '' which proposed what is now called the [Turing(Alan Turing)] test as a criterion of intelligence . The Georgetown experiment in 1954 involved fully automatic translation of more than sixty Russian sentences into English . The authors claimed that within three or five years , [machine translation(a solved problem)] would be a solved problem . However , real progress was much slower , and after the ALPAC report in 1966 , which found that ten year long research had failed to fulfill the expectations , funding for machine translation was dramatically reduced . Little further research in [machine translation(a solved problem)] was conducted until the late 1980s , when the first statistical machine translation systems were developed . Some notably successful NLP systems developed in the 1960s were SHRDLU , [a natural language system working in restricted `` blocks worlds '' with restricted vocabularies(SHRDLU)] , and ELIZA , a simulation of a Rogerian psychotherapist , written by Joseph Weizenbaum between 1964 to 1966 . Using almost no information about human thought or emotion , ELIZA sometimes provided a startlingly human-like interaction . When the `` patient '' exceeded the very small knowledge base , [ELIZA(ELIZA)] might provide a generic response , for example , responding to `` [My(the `` patient '')] head hurts '' with `` Why do you say [your(you)] head hurts ? '' . During the 1970s many programmers began to write ` conceptual ontologies ' , which structured real-world information into computer-understandable data . Examples are MARGIE -LRB- Schank , 1975 -RRB- , SAM -LRB- Cullingford , 1978 -RRB- , PAM -LRB- Wilensky , [1978(1978)] -RRB- , TaleSpin -LRB- Meehan , 1976 -RRB- , QUALM -LRB- Lehnert , 1977 -RRB- , Politics -LRB- Carbonell , 1979 -RRB- , and Plot Units -LRB- [Lehnert 1981(Lehnert)] -RRB- . During this time , many chatterbots were written including PARRY , Racter , and Jabberwacky . Up to [the 1980s(the late 1980s)] , most [NLP(NLP)] systems were based on complex sets of hand-written rules . Starting in [the late 1980s(the late 1980s)] , however , there was a revolution in NLP with the introduction of machine learning algorithms for [language processing(the free encyclopedia Natural language processing -LRB- NLP -RRB-)] . This was due to both the steady increase in computational power resulting from Moore 's Law and the gradual lessening of the dominance of Chomskyan theories of linguistics -LRB- e.g. transformational grammar -RRB- , whose theoretical underpinnings discouraged the sort of corpus linguistics that underlies the machine-learning approach to [language processing(the free encyclopedia Natural language processing -LRB- NLP -RRB-)] . Some of the earliest-used machine learning [algorithms(machine learning algorithms for language processing)] , such as decision trees , produced systems of hard if-then rules similar to existing hand-written rules . However , Part of speech tagging introduced the use of Hidden Markov Models to [NLP(NLP)] , and increasingly , research has focused on [statistical models(statistical models , which make soft , probabilistic decisions based on attaching real-valued weights to the features making up the input data)] , which make soft , probabilistic decisions based on attaching real-valued weights to the features making up the input data . The cache language models upon which many speech recognition systems now rely are [examples of such statistical models(The cache language models upon which many speech recognition systems now rely)] . Such models are generally more robust when given unfamiliar input , especially [input that contains errors -LRB- as is very common for real-world data -RRB-(as input)] , and produce more reliable results when integrated into a larger system comprising multiple subtasks . Many of the notable early successes occurred in the field of [machine translation(a solved problem)] , due especially to work at IBM Research , where successively more complicated statistical models were developed . [These systems(many speech recognition systems)] were able to take [advantage of existing multilingual textual corpora that had been produced by the Parliament of Canada and the European Union as a result of laws calling for the translation of all governmental proceedings into all official languages of the corresponding systems of government(the advantage)] . However , most other systems depended on corpora specifically developed for the tasks implemented by [these systems(many speech recognition systems)] , which was -LRB- and often continues to be -RRB- a major limitation in the success of [these systems(many speech recognition systems)] . As a result , a great deal of research has gone into methods of more effectively learning from limited amounts of data . Recent research has increasingly focused on unsupervised and semi-supervised learning algorithms . Such algorithms are able to learn from [data that has not been hand-annotated with the desired answers(data)] , or using a combination of annotated and non-annotated data . Generally , this task is much more difficult than supervised learning , and typically produces less accurate results for a given amount of input data . However , there is an enormous amount of non-annotated data available -LRB- including , among other things , the entire content of the World Wide Web -RRB- , which can often make up for the inferior results . NLP using machine learning Modern NLP algorithms are based on [machine learning , especially statistical machine learning(machine learning)] . The paradigm of [machine learning(machine learning)] is different from that of most prior attempts at [language processing(the free encyclopedia Natural language processing -LRB- NLP -RRB-)] . Prior implementations of language-processing tasks typically involved the direct hand coding of large sets of [rules(hard if-then rules similar to existing hand-written rules)] . The machine-learning paradigm calls instead for using general learning algorithms - often , although not always , grounded in statistical inference - to automatically learn such rules through the analysis of large corpora of typical real-world examples . A corpus -LRB- plural , [`` corpora ''(existing multilingual textual corpora that had been produced by the Parliament of Canada and the European Union as a result of laws calling for the translation of all governmental proceedings into all official languages of the corresponding systems of government)] -RRB- is [a set of documents -LRB- or sometimes , individual sentences -RRB- that have been hand-annotated with the correct values to be learned(A corpus -LRB- plural , `` corpora '' -RRB-)] . Many different classes of [machine learning algorithms(machine learning Modern NLP algorithms)] have been applied to NLP tasks . [These algorithms(machine learning Modern NLP algorithms)] take as input a large set of `` features '' that are generated from [the input data(the input data)] . Some of the earliest-used algorithms , such as [decision trees(decision trees)] , produced systems of hard if-then rules similar to the systems of [hand-written rules(hand-written rules)] that were then common . Increasingly , however , research has focused on [statistical models(statistical models , which make soft , probabilistic decisions based on attaching real-valued weights to the features making up the input data)] , which make [soft , probabilistic decisions(soft , probabilistic decisions)] based on attaching [real-valued weights(real-valued weights)] to each input feature . Such models have the advantage that [they(Some of the earliest-used algorithms , such as decision trees)] can express the relative certainty of many different possible answers rather than only one , producing more reliable results when such a model is included as a component of a larger system . Systems based on machine-learning algorithms have many advantages over hand-produced rules : The learning procedures used during [machine learning(machine learning)] automatically focus on the most common cases , whereas when writing [rules(hard if-then rules similar to existing hand-written rules)] by hand it is often not obvious at all where the effort should be directed . Automatic learning [procedures(The learning procedures used during machine learning)] can make use of statistical inference algorithms to produce models that are robust to unfamiliar input -LRB- e.g. containing words or structures that have not been seen before -RRB- and to erroneous input -LRB- e.g. with misspelled words or words accidentally omitted -RRB- . Generally , handling such input gracefully with [hand-written rules(hand-written rules)] -- or more generally , creating systems of [hand-written rules(hand-written rules)] that make soft decisions -- extremely difficult , error-prone and time-consuming . Systems based on automatically learning the rules can be made more accurate simply by supplying more input data . However , [systems based on hand-written rules(the systems)] can only be made more accurate by increasing the complexity of [the rules(the rules)] , which is a much more difficult task . In particular , there is a limit to the complexity of systems based on hand-crafted rules , beyond which the systems become more and more unmanageable . However , creating more data to input to [machine-learning systems(Systems based on machine-learning algorithms)] simply requires a corresponding increase in the number of man-hours worked , generally without significant increases in the complexity of the annotation process . The subfield of NLP devoted to learning approaches is known as Natural Language Learning -LRB- NLL -RRB- and [its(Natural Language Learning -LRB- NLL -RRB-)] conference CoNLL and peak body SIGNLL are sponsored by ACL , recognizing also their links with Computational Linguistics and Language Acquisition . When the aims of computational language learning research is to understand more about human language acquisition , or psycholinguistics , NLL overlaps into the related field of Computational Psycholinguistics . "
     ]
    }
   ],
   "source": [
    "sentences = soup.find(\"sentences\")\n",
    "for s in sentences.find_all('sentence'):\n",
    "    sid = s.attrs.get('id')\n",
    "    #print(sid)\n",
    "    if sid is not None:\n",
    "        run_end = -1\n",
    "        for t in s.find_all('token'):\n",
    "            tid = t.attrs.get(\"id\")\n",
    "            #print(s)\n",
    "            run_word = t.find(\"word\").get_text()\n",
    "            if (sid , tid) in coref_map and run_end == -1:\n",
    "                run_value = coref_map[(sid,tid)]\n",
    "                print(\"[\" , end = \"\")\n",
    "                run_end = run_value[0]\n",
    "            \n",
    "            print(t.find(\"word\").get_text() , end = \"\")\n",
    "            \n",
    "            if int(tid) == int(run_end)-1:\n",
    "\n",
    "                print(\"({})]\".format(run_value[1]) , end = '')\n",
    "                run_end = -1\n",
    " \n",
    "            print(' ' , end = '')"
   ]
  },
  {
   "cell_type": "code",
   "execution_count": 59,
   "metadata": {},
   "outputs": [
    {
     "ename": "IndentationError",
     "evalue": "unexpected indent (<ipython-input-59-41410c7bcb3c>, line 22)",
     "output_type": "error",
     "traceback": [
      "\u001b[0;36m  File \u001b[0;32m\"<ipython-input-59-41410c7bcb3c>\"\u001b[0;36m, line \u001b[0;32m22\u001b[0m\n\u001b[0;31m    print(t.find(\"word\").get_text() , end = \" \")\u001b[0m\n\u001b[0m    ^\u001b[0m\n\u001b[0;31mIndentationError\u001b[0m\u001b[0;31m:\u001b[0m unexpected indent\n"
     ]
    }
   ],
   "source": [
    "sentences = soup.find(\"sentences\")\n",
    "for s in sentences.find_all('sentence'):\n",
    "    sid = s.attrs.get('id')\n",
    "    #print(sid)\n",
    "    if sid is not None:\n",
    "        run_end = -1\n",
    "        for t in s.find_all('token'):\n",
    "            tid = t.attrs.get(\"id\")\n",
    "            #print(s)\n",
    "            run_word = t.find(\"word\").get_text()\n",
    "            if (sid , tid) in coref_map and run_end == -1:\n",
    "                run_value = coref_map[(sid,tid)]\n",
    "                #print(\"[{}]({}\".format(t.find(\"word\").get_text() , run_value[1]) , end = '')\n",
    "                print(\"[{}\".format(run_word) , end = \" \")\n",
    "                run_end = run_value[0]\n",
    "            elif int(tid) == int(run_end)-1:\n",
    "                #print(\")\" , end = '\\n')\n",
    "                #print(run_word , end = \"\")\n",
    "                print(\"{}({})]\".format(run_word, run_value[1]) , end = ' ')\n",
    "                run_end = -1\n",
    "            else:\n",
    "                print(t.find(\"word\").get_text() , end = \" \")\n",
    "                #pass\n",
    "                #print(\"T\")\n",
    "            #print(' ' , end = '')"
   ]
  },
  {
   "cell_type": "code",
   "execution_count": 31,
   "metadata": {},
   "outputs": [
    {
     "data": {
      "text/plain": [
       "'.'"
      ]
     },
     "execution_count": 31,
     "metadata": {},
     "output_type": "execute_result"
    }
   ],
   "source": [
    "t.find(\"word\").get_text()"
   ]
  },
  {
   "cell_type": "code",
   "execution_count": 101,
   "metadata": {},
   "outputs": [
    {
     "data": {
      "text/plain": [
       "NoneType"
      ]
     },
     "execution_count": 101,
     "metadata": {},
     "output_type": "execute_result"
    }
   ],
   "source": [
    "type(soup.find('document/sentences/sentence'))"
   ]
  },
  {
   "cell_type": "code",
   "execution_count": null,
   "metadata": {},
   "outputs": [
    {
     "name": "stdout",
     "output_type": "stream",
     "text": [
      "[master 7026c5d] from notebook\n",
      " 1 file changed, 106 insertions(+), 39 deletions(-)\n"
     ]
    }
   ],
   "source": [
    "%%bash\n",
    "git commit -a -m'from notebook'"
   ]
  },
  {
   "cell_type": "code",
   "execution_count": 77,
   "metadata": {},
   "outputs": [],
   "source": [
    "coref_map = dict()\n",
    "for c in coref_all.findAll(\"coreference\"):\n",
    "    run_representative = c.find(\"mention\", attrs={\"representative\":\"true\"}) \n",
    "    value = run_representative.find('text').get_text()\n",
    "    for m in c.findAll('mention'):\n",
    "        if c.find(\"mention\", attrs={\"representative\":\"true\"}) is not None:\n",
    "            value = m.find('text').get_text()\n",
    "\n",
    "\n",
    "    pass"
   ]
  },
  {
   "cell_type": "code",
   "execution_count": 80,
   "metadata": {},
   "outputs": [],
   "source": [
    "run_representative.attrs.get('represenatative')"
   ]
  },
  {
   "cell_type": "code",
   "execution_count": 73,
   "metadata": {},
   "outputs": [
    {
     "data": {
      "text/plain": [
       "NoneType"
      ]
     },
     "execution_count": 73,
     "metadata": {},
     "output_type": "execute_result"
    }
   ],
   "source": [
    "type(x.find(\"mention\", attrs={\"representative\":\"false\"}))"
   ]
  },
  {
   "cell_type": "code",
   "execution_count": 71,
   "metadata": {},
   "outputs": [
    {
     "data": {
      "text/plain": [
       "'Natural Language Learning -LRB- NLL -RRB-'"
      ]
     },
     "execution_count": 71,
     "metadata": {},
     "output_type": "execute_result"
    }
   ],
   "source": []
  },
  {
   "cell_type": "code",
   "execution_count": 55,
   "metadata": {},
   "outputs": [],
   "source": [
    "x = soup.find('coreference/coreference')"
   ]
  },
  {
   "cell_type": "code",
   "execution_count": 57,
   "metadata": {},
   "outputs": [
    {
     "data": {
      "text/plain": [
       "NoneType"
      ]
     },
     "execution_count": 57,
     "metadata": {},
     "output_type": "execute_result"
    }
   ],
   "source": [
    "type(x)"
   ]
  },
  {
   "cell_type": "markdown",
   "metadata": {},
   "source": [
    "'''    \n",
    "    <coreference>\n",
    "      <coreference>\n",
    "        <mention representative=\"true\">\n",
    "          <sentence>1</sentence>\n",
    "          <start>7</start>\n",
    "          <end>16</end>\n",
    "          <head>12</head>\n",
    "          <text>the free encyclopedia Natural language processing -LRB- NLP -RRB-</text>\n",
    "        </mention>\n",
    "        <mention>\n",
    "          <sentence>1</sentence>\n",
    "          <start>17</start>\n",
    "          <end>22</end>\n",
    "          <head>18</head>\n",
    "          <text>a field of computer science</text>\n",
    "        </mention>\n",
    "        <mention>\n",
    "          <sentence>18</sentence>\n",
    "          <start>23</start>\n",
    "          <end>25</end>\n",
    "          <head>24</head>\n",
    "          <text>language processing</text>\n",
    "        </mention>\n",
    "        <mention>\n",
    "          <sentence>19</sentence>\n",
    "          <start>50</start>\n",
    "          <end>52</end>\n",
    "          <head>51</head>\n",
    "          <text>language processing</text>\n",
    "        </mention>\n",
    "        <mention>\n",
    "          <sentence>33</sentence>\n",
    "          <start>15</start>\n",
    "          <end>17</end>\n",
    "          <head>16</head>\n",
    "          <text>language processing</text>\n",
    "        </mention>\n",
    "      </coreference>\n",
    "'''"
   ]
  },
  {
   "cell_type": "code",
   "execution_count": null,
   "metadata": {},
   "outputs": [],
   "source": []
  },
  {
   "cell_type": "raw",
   "metadata": {},
   "source": [
    "x.find('coreference')"
   ]
  },
  {
   "cell_type": "code",
   "execution_count": null,
   "metadata": {},
   "outputs": [],
   "source": [
    "x.find(\"mention\", attrs={\"representative\":\"true\"})"
   ]
  },
  {
   "cell_type": "code",
   "execution_count": null,
   "metadata": {},
   "outputs": [],
   "source": [
    "y = x.find(\"mention\")"
   ]
  },
  {
   "cell_type": "code",
   "execution_count": null,
   "metadata": {},
   "outputs": [],
   "source": [
    "type(y.attrs)"
   ]
  },
  {
   "cell_type": "code",
   "execution_count": null,
   "metadata": {},
   "outputs": [],
   "source": [
    "x.find(\"mention\", attrs={\"representative\":\"false\"})"
   ]
  },
  {
   "cell_type": "code",
   "execution_count": null,
   "metadata": {},
   "outputs": [],
   "source": [
    "x.get_text()"
   ]
  },
  {
   "cell_type": "code",
   "execution_count": null,
   "metadata": {},
   "outputs": [],
   "source": [
    "soup.find?"
   ]
  },
  {
   "cell_type": "code",
   "execution_count": null,
   "metadata": {},
   "outputs": [],
   "source": [
    "for x in soup.find_all('token'):\n",
    "    word = x.find('word').get_text()\n",
    "    lemma = x.find('lemma').get_text()\n",
    "    pos = x.find('NER').get_text()\n",
    "    print('{}\\t{}\\t{}'.format(word , lemma , pos))\n",
    "    "
   ]
  },
  {
   "cell_type": "code",
   "execution_count": null,
   "metadata": {},
   "outputs": [],
   "source": [
    "soup"
   ]
  },
  {
   "cell_type": "code",
   "execution_count": null,
   "metadata": {},
   "outputs": [],
   "source": [
    "%%bash\n",
    "git commit -a -m 'from notebook'"
   ]
  },
  {
   "cell_type": "code",
   "execution_count": null,
   "metadata": {},
   "outputs": [],
   "source": []
  }
 ],
 "metadata": {
  "kernelspec": {
   "display_name": "Python [default]",
   "language": "python",
   "name": "python3"
  },
  "language_info": {
   "codemirror_mode": {
    "name": "ipython",
    "version": 3
   },
   "file_extension": ".py",
   "mimetype": "text/x-python",
   "name": "python",
   "nbconvert_exporter": "python",
   "pygments_lexer": "ipython3",
   "version": "3.5.4"
  },
  "toc": {
   "colors": {
    "hover_highlight": "#DAA520",
    "navigate_num": "#000000",
    "navigate_text": "#333333",
    "running_highlight": "#FF0000",
    "selected_highlight": "#FFD700",
    "sidebar_border": "#EEEEEE",
    "wrapper_background": "#FFFFFF"
   },
   "moveMenuLeft": true,
   "nav_menu": {
    "height": "12px",
    "width": "252px"
   },
   "navigate_menu": true,
   "number_sections": true,
   "sideBar": true,
   "threshold": 4,
   "toc_cell": false,
   "toc_position": {
    "height": "723px",
    "left": "0px",
    "right": "1338.91px",
    "top": "66px",
    "width": "212px"
   },
   "toc_section_display": "block",
   "toc_window_display": true,
   "widenNotebook": false
  }
 },
 "nbformat": 4,
 "nbformat_minor": 2
}
