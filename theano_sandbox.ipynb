{
 "cells": [
  {
   "cell_type": "markdown",
   "metadata": {},
   "source": [
    "http://deeplearning.net/software/theano/library/tensor/basic.html\n",
    "\n",
    "http://sinhrks.hatenablog.com/entry/2014/11/26/002818\n",
    "\n",
    "日本語解説はhttp://aidiary.hatenablog.com/entry/20150509/1431137590"
   ]
  },
  {
   "cell_type": "code",
   "execution_count": 2,
   "metadata": {
    "collapsed": false
   },
   "outputs": [
    {
     "data": {
      "text/plain": [
       "Shape.0"
      ]
     },
     "execution_count": 2,
     "metadata": {},
     "output_type": "execute_result"
    }
   ],
   "source": [
    "import theano.tensor as T\n",
    "x = T.fmatrix()\n",
    "x.shape"
   ]
  },
  {
   "cell_type": "code",
   "execution_count": 3,
   "metadata": {
    "collapsed": true
   },
   "outputs": [],
   "source": [
    "x = T.iscalar('myvar')"
   ]
  },
  {
   "cell_type": "code",
   "execution_count": null,
   "metadata": {
    "collapsed": true
   },
   "outputs": [],
   "source": [
    "import numpy\n",
    "y=numpy.asarray([1,2])\n",
    "y2=numpy.array([1,2])\n",
    "\n",
    "from theano import function"
   ]
  },
  {
   "cell_type": "markdown",
   "metadata": {},
   "source": [
    "If you provide no argument, the symbol will be unnamed. Names are not required, but they can help debugging."
   ]
  },
  {
   "cell_type": "code",
   "execution_count": 8,
   "metadata": {
    "collapsed": true
   },
   "outputs": [],
   "source": [
    "x = T.dscalar('x')\n",
    "y = T.dscalar('y')\n",
    "z = x + y"
   ]
  },
  {
   "cell_type": "markdown",
   "metadata": {},
   "source": [
    "この段階ではまだ関数になっていない。以下はエラーとなる"
   ]
  },
  {
   "cell_type": "code",
   "execution_count": 9,
   "metadata": {
    "collapsed": false
   },
   "outputs": [
    {
     "ename": "TypeError",
     "evalue": "'TensorVariable' object is not callable",
     "output_type": "error",
     "traceback": [
      "\u001b[0;31m---------------------------------------------------------------------------\u001b[0m",
      "\u001b[0;31mTypeError\u001b[0m                                 Traceback (most recent call last)",
      "\u001b[0;32m<ipython-input-9-f744bd8ae061>\u001b[0m in \u001b[0;36m<module>\u001b[0;34m()\u001b[0m\n\u001b[0;32m----> 1\u001b[0;31m \u001b[0mz\u001b[0m\u001b[1;33m(\u001b[0m\u001b[1;36m2\u001b[0m\u001b[1;33m,\u001b[0m\u001b[1;36m3\u001b[0m\u001b[1;33m)\u001b[0m\u001b[1;33m\u001b[0m\u001b[0m\n\u001b[0m",
      "\u001b[0;31mTypeError\u001b[0m: 'TensorVariable' object is not callable"
     ]
    }
   ],
   "source": [
    "z(2,3)"
   ]
  },
  {
   "cell_type": "markdown",
   "metadata": {},
   "source": [
    "以下のようにして関数を定義する"
   ]
  },
  {
   "cell_type": "code",
   "execution_count": 18,
   "metadata": {
    "collapsed": false
   },
   "outputs": [
    {
     "name": "stdout",
     "output_type": "stream",
     "text": [
      "5.0\n",
      "10.0\n",
      "<class 'numpy.ndarray'>\n",
      "()\n"
     ]
    }
   ],
   "source": [
    "f = function([x,y],z) #more flexible function definition, maybe preferrable consequnently\n",
    "print(f(2,3)) # function defined as f eats x,y,z,...\n",
    "print(f(5,5))\n",
    "print(type(f(5,5)))\n",
    "print((f(5,5)).shape)"
   ]
  },
  {
   "cell_type": "markdown",
   "metadata": {},
   "source": [
    "結果の照合例："
   ]
  },
  {
   "cell_type": "code",
   "execution_count": 19,
   "metadata": {
    "collapsed": false
   },
   "outputs": [
    {
     "data": {
      "text/plain": [
       "True"
      ]
     },
     "execution_count": 19,
     "metadata": {},
     "output_type": "execute_result"
    }
   ],
   "source": [
    "numpy.allclose(f(2,3),5)"
   ]
  },
  {
   "cell_type": "markdown",
   "metadata": {},
   "source": [
    "theano.functionを用いない関数定義は以下のようにする（？）\n",
    "\n",
    "evalはdict型を食うことに注意"
   ]
  },
  {
   "cell_type": "code",
   "execution_count": 21,
   "metadata": {
    "collapsed": false
   },
   "outputs": [
    {
     "data": {
      "text/plain": [
       "array(5.0)"
      ]
     },
     "execution_count": 21,
     "metadata": {},
     "output_type": "execute_result"
    }
   ],
   "source": [
    "z2 = x + y\n",
    "z2.eval({x : 2 , y : 3}) #z eats a dict type input through eval"
   ]
  },
  {
   "cell_type": "code",
   "execution_count": null,
   "metadata": {
    "collapsed": true
   },
   "outputs": [],
   "source": [
    "if False:\n",
    "    type(x.eval({x:1}))\n",
    "    tmp = {x : 2 , y : 3}\n",
    "    type(tmp)\n",
    "    tmp[x]\n",
    "    z.eval(tmp)\n",
    "\n",
    "p = T.dscalar('p0')\n",
    "q = T.dscalar('q0')\n",
    "r = p + q\n",
    "r.eval({p:1 , q :1})\n",
    "r.eval({p0:1 , q0 :1}) #error\n",
    "r.eval({\"p0\":1 , \"q0\" :1}) #error\n",
    "p = T.dscalar()\n",
    "q = T.dscalar()\n",
    "r = p + 2 * q\n",
    "tmp = function([p , q] , r)\n",
    "tmp(1,2)\n",
    "r.eval({p:1 , q :1})\n",
    "T.printing.debugprint(z)\n",
    "s = T.dscalar('s0')\n",
    "t = r + s\n",
    "u = function([p , q , s]  , [r , t])\n",
    "u(1,2,3)\n",
    "T.printing.debugprint(s)\n",
    "x = T.dmatrix()\n",
    "s = 1 / (1 + T.exp(-x))# expはcomponentwise\n",
    "s.eval({x:[[1]]})\n",
    "s.eval({x:[[1 , 2] , [3,4]]})\n",
    "T.printing.debugprint(s)\n",
    "from theano import pp#pretty print\n",
    "pp(s)\n",
    "\n",
    "f2 = T.function()\n",
    "\n",
    "from theano import shared\n",
    "\n",
    "state = shared(1 , name='state')\n",
    "inc = T.iscalar('inc')\n",
    "state.get_value()\n",
    "\n",
    "accumulator = function(inputs = [inc] , outputs = [state] , updates=[(state  , state + inc)])#update happens after output evaluation\n",
    "accumulator(109)"
   ]
  }
 ],
 "metadata": {
  "kernelspec": {
   "display_name": "Python 3",
   "language": "python",
   "name": "python3"
  },
  "language_info": {
   "codemirror_mode": {
    "name": "ipython",
    "version": 3
   },
   "file_extension": ".py",
   "mimetype": "text/x-python",
   "name": "python",
   "nbconvert_exporter": "python",
   "pygments_lexer": "ipython3",
   "version": "3.4.5"
  }
 },
 "nbformat": 4,
 "nbformat_minor": 0
}
