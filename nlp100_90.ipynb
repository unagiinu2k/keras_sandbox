{
 "cells": [
  {
   "cell_type": "code",
   "execution_count": null,
   "metadata": {},
   "outputs": [],
   "source": [
    "%%bash\n",
    "git add nlp100_90.ipynb"
   ]
  },
  {
   "cell_type": "code",
   "execution_count": null,
   "metadata": {},
   "outputs": [],
   "source": [
    "%%bash\n",
    "git commit -a -m \"added nlp100_90\""
   ]
  },
  {
   "cell_type": "code",
   "execution_count": null,
   "metadata": {},
   "outputs": [],
   "source": [
    "%%bash\n",
    "conda install word2vec"
   ]
  },
  {
   "cell_type": "markdown",
   "metadata": {},
   "source": [
    "**** 0. word2vecによる学習 ****\n",
    "\n",
    "81で作成したコーパスに対してword2vecを適用し，単語ベクトルを学習せよ．さらに，学習した単語ベクトルの形式を変換し，86-89のプログラムを動かせ．"
   ]
  },
  {
   "cell_type": "markdown",
   "metadata": {},
   "source": [
    "[python word2vecパッケージの公式ページ](https://github.com/danielfrg/word2vec)\n",
    "\n",
    "[official example](http://nbviewer.jupyter.org/github/danielfrg/word2vec/blob/master/examples/word2vec.ipynb)"
   ]
  },
  {
   "cell_type": "code",
   "execution_count": 1,
   "metadata": {},
   "outputs": [],
   "source": [
    "import word2vec"
   ]
  },
  {
   "cell_type": "code",
   "execution_count": 2,
   "metadata": {},
   "outputs": [],
   "source": [
    "import codecs"
   ]
  },
  {
   "cell_type": "code",
   "execution_count": 3,
   "metadata": {},
   "outputs": [],
   "source": [
    "fname_output81 = \"nlp100data/output81.txt\""
   ]
  },
  {
   "cell_type": "code",
   "execution_count": 4,
   "metadata": {},
   "outputs": [],
   "source": [
    "fname_phrases90 = 'nlp100data/phrases90.txt'"
   ]
  },
  {
   "cell_type": "code",
   "execution_count": 5,
   "metadata": {},
   "outputs": [],
   "source": [
    "fname_wordvecs90bin = 'nlp100data/wordvecs90.bin'"
   ]
  },
  {
   "cell_type": "code",
   "execution_count": 6,
   "metadata": {},
   "outputs": [],
   "source": [
    "fname_wordvecs90 = 'nlp100data/wordvecs90.txt'"
   ]
  },
  {
   "cell_type": "code",
   "execution_count": 7,
   "metadata": {},
   "outputs": [
    {
     "name": "stdout",
     "output_type": "stream",
     "text": [
      "Starting training using file nlp100data/output81.txt\n",
      "Words processed: 11800K     Vocab size: 4364K  \n",
      "Vocab size (unigrams + bigrams): 2372876\n",
      "Words in train file: 11869261\n",
      "Words written: 11800K\r"
     ]
    }
   ],
   "source": [
    "word2vec.word2phrase(fname_output81 , fname_phrases90 , verbose = True)"
   ]
  },
  {
   "cell_type": "code",
   "execution_count": 8,
   "metadata": {
    "scrolled": true
   },
   "outputs": [
    {
     "name": "stdout",
     "output_type": "stream",
     "text": [
      "Starting training using file nlp100data/phrases90.txt\n",
      "Vocab size: 105991\n",
      "Words in train file: 11192135\n",
      "Alpha: 0.000019  Progress: 99.94%  Words/thread/sec: 543.23k  "
     ]
    }
   ],
   "source": [
    "word2vec.word2vec(train = fname_phrases90 , output = fname_wordvecs90bin , size = 50 , threads = 4 ,  verbose=True)"
   ]
  },
  {
   "cell_type": "code",
   "execution_count": null,
   "metadata": {},
   "outputs": [],
   "source": [
    "word2vec.load?"
   ]
  },
  {
   "cell_type": "code",
   "execution_count": null,
   "metadata": {},
   "outputs": [],
   "source": [
    "%load_ext autoreload\n",
    "%autoreload 2"
   ]
  },
  {
   "cell_type": "code",
   "execution_count": 9,
   "metadata": {},
   "outputs": [],
   "source": [
    "model = word2vec.load(fname = fname_wordvecs90bin)"
   ]
  },
  {
   "cell_type": "markdown",
   "metadata": {},
   "source": [
    "**** 86のword2vec版 ****"
   ]
  },
  {
   "cell_type": "code",
   "execution_count": 10,
   "metadata": {},
   "outputs": [
    {
     "data": {
      "text/plain": [
       "array([-0.06594494, -0.06648544, -0.02266973, -0.26417384,  0.0348038 ,\n",
       "        0.16276203, -0.10152841, -0.20559365,  0.11061635, -0.05128405,\n",
       "       -0.1579421 ,  0.18112618, -0.29654896,  0.11253238, -0.17636853,\n",
       "        0.06542736,  0.20164117,  0.07633649,  0.07534473, -0.24391665,\n",
       "       -0.09185803,  0.06577205, -0.01773164, -0.2031363 ,  0.08185295,\n",
       "       -0.02703902, -0.07227903, -0.06967267, -0.11732481, -0.12979949,\n",
       "       -0.14991304, -0.12434923,  0.23231378,  0.16840932,  0.25385424,\n",
       "        0.11206607,  0.08833051, -0.04896447, -0.00366609,  0.30139831,\n",
       "       -0.04291305,  0.04288597,  0.05653698,  0.11127364, -0.17320317,\n",
       "        0.02737914, -0.10143059, -0.04345994, -0.22382653,  0.08549703])"
      ]
     },
     "execution_count": 10,
     "metadata": {},
     "output_type": "execute_result"
    }
   ],
   "source": [
    "model['United_States']"
   ]
  },
  {
   "cell_type": "markdown",
   "metadata": {},
   "source": [
    "**** 87のword2vec版 ****"
   ]
  },
  {
   "cell_type": "code",
   "execution_count": 14,
   "metadata": {},
   "outputs": [],
   "source": [
    "from scipy.spatial.distance import cosine"
   ]
  },
  {
   "cell_type": "code",
   "execution_count": 61,
   "metadata": {},
   "outputs": [],
   "source": [
    "w0 = 'United_States'"
   ]
  },
  {
   "cell_type": "code",
   "execution_count": 62,
   "metadata": {},
   "outputs": [],
   "source": [
    "w1 = 'U.S'"
   ]
  },
  {
   "cell_type": "code",
   "execution_count": 63,
   "metadata": {},
   "outputs": [],
   "source": [
    "v0 = model[w0]"
   ]
  },
  {
   "cell_type": "code",
   "execution_count": 64,
   "metadata": {},
   "outputs": [],
   "source": [
    "v1 = model[w1]"
   ]
  },
  {
   "cell_type": "markdown",
   "metadata": {},
   "source": [
    "cosine関数の出力は２（逆向き）、１（直行）,0(一致)"
   ]
  },
  {
   "cell_type": "code",
   "execution_count": 15,
   "metadata": {},
   "outputs": [
    {
     "name": "stdout",
     "output_type": "stream",
     "text": [
      "cosine similarity is : 0.13559367595294014\n"
     ]
    }
   ],
   "source": [
    "print(\"cosine similarity is : {}\".format(cosine(v0,v1)))"
   ]
  },
  {
   "cell_type": "markdown",
   "metadata": {},
   "source": [
    "以下のようにdistanceはcosそのものを返す"
   ]
  },
  {
   "cell_type": "code",
   "execution_count": 65,
   "metadata": {},
   "outputs": [
    {
     "data": {
      "text/plain": [
       "[('United_States', 'U.S', 0.8644062656725522)]"
      ]
     },
     "execution_count": 65,
     "metadata": {},
     "output_type": "execute_result"
    }
   ],
   "source": [
    "model.distance(w0,w1)"
   ]
  },
  {
   "cell_type": "markdown",
   "metadata": {},
   "source": [
    "**** 88のword2vec版 ****"
   ]
  },
  {
   "cell_type": "code",
   "execution_count": 16,
   "metadata": {},
   "outputs": [],
   "source": [
    "indices , metrics = model.similar('England')"
   ]
  },
  {
   "cell_type": "code",
   "execution_count": 17,
   "metadata": {},
   "outputs": [
    {
     "data": {
      "text/plain": [
       "array(['Scotland', 'France', 'Spain', 'Italy', 'Ireland', 'Germany',\n",
       "       'Athens', 'Norway', 'Wales', 'Denmark'], dtype='<U78')"
      ]
     },
     "execution_count": 17,
     "metadata": {},
     "output_type": "execute_result"
    }
   ],
   "source": [
    "model.vocab[indices]"
   ]
  },
  {
   "cell_type": "markdown",
   "metadata": {},
   "source": [
    "**** 89のword2vec版 ****"
   ]
  },
  {
   "cell_type": "code",
   "execution_count": 18,
   "metadata": {},
   "outputs": [],
   "source": [
    "indexes, metrics = model.analogy(pos=['Spain', 'Athens'], neg=['Madrid'])"
   ]
  },
  {
   "cell_type": "code",
   "execution_count": 19,
   "metadata": {},
   "outputs": [
    {
     "data": {
      "text/plain": [
       "array(['Scotland', 'France', 'Spain', 'Italy', 'Ireland', 'Germany',\n",
       "       'Athens', 'Norway', 'Wales', 'Denmark'], dtype='<U78')"
      ]
     },
     "execution_count": 19,
     "metadata": {},
     "output_type": "execute_result"
    }
   ],
   "source": [
    "model.vocab[indices]"
   ]
  },
  {
   "cell_type": "code",
   "execution_count": 21,
   "metadata": {},
   "outputs": [
    {
     "name": "stdout",
     "output_type": "stream",
     "text": [
      "Greece : 0.33474457800489593\n",
      "Portugal : 0.33438595937500565\n",
      "Russia : 0.31797912382704324\n",
      "Italy : 0.3117456270663885\n",
      "Hungary : 0.31073009398754203\n",
      "Austria : 0.31002071735408143\n",
      "Egypt : 0.3092890374345109\n",
      "Denmark : 0.3073950638275555\n",
      "France : 0.30542400875021986\n",
      "Poland : 0.3040470604395909\n"
     ]
    }
   ],
   "source": [
    "for idx , mtx in zip(indexes , metrics):\n",
    "    print(\"{} : {}\".format(model.vocab[idx] , mtx))"
   ]
  },
  {
   "cell_type": "markdown",
   "metadata": {},
   "source": [
    "**** sandbox ****"
   ]
  },
  {
   "cell_type": "code",
   "execution_count": null,
   "metadata": {},
   "outputs": [],
   "source": [
    "word2vec.word2vec(train = fname_output81 , output = fname_wordvecs90 , size = 50 , threads = 4 , binary = False , verbose=True)"
   ]
  },
  {
   "cell_type": "code",
   "execution_count": 20,
   "metadata": {},
   "outputs": [
    {
     "name": "stdout",
     "output_type": "stream",
     "text": [
      "[master 57b5cda] 90 done\n",
      " 2 files changed, 243 insertions(+), 147 deletions(-)\n"
     ]
    }
   ],
   "source": [
    "%%bash\n",
    "git commit -a -m \"90 done\""
   ]
  },
  {
   "cell_type": "code",
   "execution_count": null,
   "metadata": {},
   "outputs": [],
   "source": [
    "%%bash\n",
    "pip install word2vec -U"
   ]
  },
  {
   "cell_type": "code",
   "execution_count": null,
   "metadata": {},
   "outputs": [],
   "source": []
  },
  {
   "cell_type": "code",
   "execution_count": null,
   "metadata": {},
   "outputs": [],
   "source": [
    "with codecs.open(fname_phrases90 , 'r' , 'utf-8') as rf:\n",
    "    for i, l in enumerate(rf):\n",
    "        print(l)\n",
    "        if i > 2:\n",
    "            break"
   ]
  },
  {
   "cell_type": "markdown",
   "metadata": {},
   "source": [
    "#### アナロジーデータの準備\n",
    "\n",
    "単語アナロジーの評価データをダウンロードせよ．\n",
    "\n",
    "このデータ中で\": \"で始まる行はセクション名を表す．\n",
    "\n",
    "例えば，\": capital-common-countries\"という行は，\"capital-common-countries\"というセクションの開始を表している．\n",
    "\n",
    "ダウンロードした評価データの中で，\"family\"というセクションに含まれる評価事例を抜き出してファイルに保存せよ．"
   ]
  },
  {
   "cell_type": "markdown",
   "metadata": {},
   "source": [
    "https://github.com/svn2github/word2vec/blob/master/questions-words.txt"
   ]
  },
  {
   "cell_type": "markdown",
   "metadata": {},
   "source": [
    "https://raw.githubusercontent.com/svn2github/word2vec/master/questions-words.txt"
   ]
  },
  {
   "cell_type": "code",
   "execution_count": 22,
   "metadata": {},
   "outputs": [],
   "source": [
    "fname_out91 = 'nlp100data/family91.txt'"
   ]
  },
  {
   "cell_type": "code",
   "execution_count": 35,
   "metadata": {},
   "outputs": [],
   "source": [
    "with open('nlp100data/questions-words.txt', 'rt') as rf , open(fname_out91 , 'wt') as wf:\n",
    "    isOutput = False\n",
    "    toWrite = list()\n",
    "    for l in rf:\n",
    "        if l[0] == \":\":\n",
    "            isOutput = False\n",
    "        \n",
    "        if isOutput:\n",
    "            toWrite.append(l)        \n",
    "        \n",
    "        if l.strip(': \\n') == 'family':\n",
    "            isOutput = True\n",
    "    wf.write(\"\".join(toWrite))\n",
    "    \n",
    "\n",
    "    "
   ]
  },
  {
   "cell_type": "code",
   "execution_count": 36,
   "metadata": {},
   "outputs": [
    {
     "name": "stdout",
     "output_type": "stream",
     "text": [
      "[master f840836] done 91\n",
      " 1 file changed, 108 insertions(+), 3 deletions(-)\n"
     ]
    }
   ],
   "source": [
    "%%bash\n",
    "\n",
    "git commit -a -m \"done 91\""
   ]
  },
  {
   "cell_type": "markdown",
   "metadata": {},
   "source": [
    "#### アナロジーデータへの適用\n",
    "\n",
    "91で作成した評価データの各事例に対して，vec(2列目の単語) - vec(1列目の単語) + vec(3列目の単語)を計算し，そのベクトルと類似度が最も高い単語と，その類似度を求めよ．\n",
    "\n",
    "求めた単語と類似度は，各事例の末尾に追記せよ．\n",
    "\n",
    "このプログラムを85で作成した単語ベクトル，90で作成した単語ベクトルに対して適用せよ．"
   ]
  },
  {
   "cell_type": "code",
   "execution_count": 46,
   "metadata": {},
   "outputs": [],
   "source": [
    "fname_out92 = 'nlp100data/out92.txt'"
   ]
  },
  {
   "cell_type": "code",
   "execution_count": 37,
   "metadata": {},
   "outputs": [],
   "source": [
    "model = word2vec.load(fname = fname_wordvecs90bin)"
   ]
  },
  {
   "cell_type": "code",
   "execution_count": 54,
   "metadata": {},
   "outputs": [],
   "source": [
    "with open(fname_out91 , 'rt') as rf , open(fname_out92 , 'wt') as wf:\n",
    "    toWrite = list()\n",
    "    for l in rf:\n",
    "        words = l.strip('\\n').split(' ')\n",
    "        try:\n",
    "            indexes, metrics = model.analogy(pos=[words[1] , words[2]], neg=[words[0]] , n = 1)\n",
    "            found_word = model.vocab[indexes][0]\n",
    "            metric = metrics[0]\n",
    "        except:\n",
    "            found_word = \"\"\n",
    "            metric = \"NaN\"\n",
    "            \n",
    "        toWrite.append(\"{} {} {}\\n\".format(l.strip('\\n') , found_word , metric))\n",
    "    wf.write(\"\".join(toWrite))\n",
    "        \n",
    "    "
   ]
  },
  {
   "cell_type": "code",
   "execution_count": 41,
   "metadata": {},
   "outputs": [
    {
     "data": {
      "text/plain": [
       "['uncle', 'aunt', 'stepson', 'stepdaughter']"
      ]
     },
     "execution_count": 41,
     "metadata": {},
     "output_type": "execute_result"
    }
   ],
   "source": [
    "l.strip('\\n').split(' ')"
   ]
  },
  {
   "cell_type": "code",
   "execution_count": 56,
   "metadata": {},
   "outputs": [
    {
     "data": {
      "text/plain": [
       "'boy girl brother sister father 0.29267610246189557\\n'"
      ]
     },
     "execution_count": 56,
     "metadata": {},
     "output_type": "execute_result"
    }
   ],
   "source": [
    "toWrite[0]"
   ]
  },
  {
   "cell_type": "raw",
   "metadata": {},
   "source": [
    "\"\".join(toWrite)"
   ]
  },
  {
   "cell_type": "code",
   "execution_count": 55,
   "metadata": {},
   "outputs": [
    {
     "name": "stdout",
     "output_type": "stream",
     "text": [
      "[master 4e78a89] 92 done\n",
      " 1 file changed, 139 insertions(+), 1 deletion(-)\n"
     ]
    }
   ],
   "source": [
    "%%bash\n",
    "git commit -a -m \"92 done\""
   ]
  },
  {
   "cell_type": "markdown",
   "metadata": {},
   "source": [
    "#### アナロジータスクの正解率の計算\n",
    "92で作ったデータを用い，各モデルのアナロジータスクの正解率を求めよ．"
   ]
  },
  {
   "cell_type": "code",
   "execution_count": 57,
   "metadata": {},
   "outputs": [
    {
     "name": "stdout",
     "output_type": "stream",
     "text": [
      "correct / total = 185 / 506\n"
     ]
    }
   ],
   "source": [
    "with open(fname_out92 , 'rt') as rf:\n",
    "    t = 0\n",
    "    c = 0\n",
    "    for l in rf:\n",
    "        t += 1\n",
    "        words = l.strip('\\n').split(' ')\n",
    "        if words[3] == words[4]:\n",
    "            c += 1\n",
    "    print(\"correct / total = {} / {}\".format(c,t))\n",
    "        "
   ]
  },
  {
   "cell_type": "code",
   "execution_count": 58,
   "metadata": {},
   "outputs": [
    {
     "name": "stdout",
     "output_type": "stream",
     "text": [
      "[master 5e202ee] 93 done\n",
      " 1 file changed, 726 insertions(+), 689 deletions(-)\n",
      " rewrite nlp100_90.ipynb (64%)\n"
     ]
    }
   ],
   "source": [
    "%%bash\n",
    "git commit -a -m '93 done'"
   ]
  },
  {
   "cell_type": "markdown",
   "metadata": {},
   "source": [
    "#### WordSimilarity-353での類似度計算\n",
    "\n",
    "[The WordSimilarity-353 Test Collection](http://www.cs.technion.ac.il/~gabr/resources/data/wordsim353/)の評価データを入力とし，1列目と2列目の単語の類似度を計算し，各行の末尾に類似度の値を追加するプログラムを作成せよ．このプログラムを85で作成した単語ベクトル，90で作成した単語ベクトルに対して適用せよ．"
   ]
  },
  {
   "cell_type": "markdown",
   "metadata": {},
   "source": [
    "並び：wor1 , word , 平均、被験者１のスコア（0〰10）、被験者２のスコア・・・"
   ]
  },
  {
   "cell_type": "code",
   "execution_count": 85,
   "metadata": {},
   "outputs": [],
   "source": [
    "\n",
    "fname_input94 = 'nlp100data/combined.tab'"
   ]
  },
  {
   "cell_type": "code",
   "execution_count": 86,
   "metadata": {},
   "outputs": [],
   "source": [
    "fname_output94 = 'nlp100data/out94.tab'"
   ]
  },
  {
   "cell_type": "code",
   "execution_count": 87,
   "metadata": {},
   "outputs": [],
   "source": [
    "with open(fname_input94 , 'rt') as rf , open(fname_output94 , 'wt') as wf:\n",
    "    #toWrite = \n",
    "    for l in rf:\n",
    "        words = l.strip('\\n').split('\\t')\n",
    "        try:\n",
    "            distance = model.distance(words[0] , words[1])[0][2]\n",
    "        except:\n",
    "            distance = \"NaN\"\n",
    "        l2 = \"{}\\t{}\\n\".format(l.strip('\\n') , distance)\n",
    "        wf.write(l2)\n",
    "                "
   ]
  },
  {
   "cell_type": "markdown",
   "metadata": {},
   "source": [
    "##### visualize"
   ]
  },
  {
   "cell_type": "code",
   "execution_count": 89,
   "metadata": {},
   "outputs": [],
   "source": [
    "import pandas as pd"
   ]
  },
  {
   "cell_type": "code",
   "execution_count": 115,
   "metadata": {},
   "outputs": [],
   "source": [
    "import bokeh.plotting as bp"
   ]
  },
  {
   "cell_type": "code",
   "execution_count": 107,
   "metadata": {},
   "outputs": [],
   "source": [
    "from bokeh.models import ColumnDataSource"
   ]
  },
  {
   "cell_type": "code",
   "execution_count": 109,
   "metadata": {},
   "outputs": [],
   "source": [
    "from bokeh.plotting import figure"
   ]
  },
  {
   "cell_type": "code",
   "execution_count": 118,
   "metadata": {},
   "outputs": [],
   "source": [
    "from bokeh.plotting import figure, output_file, show"
   ]
  },
  {
   "cell_type": "code",
   "execution_count": 116,
   "metadata": {},
   "outputs": [
    {
     "data": {
      "text/html": [
       "\n",
       "    <div class=\"bk-root\">\n",
       "        <a href=\"https://bokeh.pydata.org\" target=\"_blank\" class=\"bk-logo bk-logo-small bk-logo-notebook\"></a>\n",
       "        <span id=\"f07841ff-7a35-4cb3-9642-26c1e486718f\">Loading BokehJS ...</span>\n",
       "    </div>"
      ]
     },
     "metadata": {},
     "output_type": "display_data"
    },
    {
     "data": {
      "application/javascript": [
       "\n",
       "(function(root) {\n",
       "  function now() {\n",
       "    return new Date();\n",
       "  }\n",
       "\n",
       "  var force = true;\n",
       "\n",
       "  if (typeof (root._bokeh_onload_callbacks) === \"undefined\" || force === true) {\n",
       "    root._bokeh_onload_callbacks = [];\n",
       "    root._bokeh_is_loading = undefined;\n",
       "  }\n",
       "\n",
       "  var JS_MIME_TYPE = 'application/javascript';\n",
       "  var HTML_MIME_TYPE = 'text/html';\n",
       "  var EXEC_MIME_TYPE = 'application/vnd.bokehjs_exec.v0+json';\n",
       "  var CLASS_NAME = 'output_bokeh rendered_html';\n",
       "\n",
       "  /**\n",
       "   * Render data to the DOM node\n",
       "   */\n",
       "  function render(props, node) {\n",
       "    var script = document.createElement(\"script\");\n",
       "    node.appendChild(script);\n",
       "  }\n",
       "\n",
       "  /**\n",
       "   * Handle when an output is cleared or removed\n",
       "   */\n",
       "  function handleClearOutput(event, handle) {\n",
       "    var cell = handle.cell;\n",
       "\n",
       "    var id = cell.output_area._bokeh_element_id;\n",
       "    var server_id = cell.output_area._bokeh_server_id;\n",
       "    // Clean up Bokeh references\n",
       "    if (id !== undefined) {\n",
       "      Bokeh.index[id].model.document.clear();\n",
       "      delete Bokeh.index[id];\n",
       "    }\n",
       "\n",
       "    if (server_id !== undefined) {\n",
       "      // Clean up Bokeh references\n",
       "      var cmd = \"from bokeh.io.state import curstate; print(curstate().uuid_to_server['\" + server_id + \"'].get_sessions()[0].document.roots[0]._id)\";\n",
       "      cell.notebook.kernel.execute(cmd, {\n",
       "        iopub: {\n",
       "          output: function(msg) {\n",
       "            var element_id = msg.content.text.trim();\n",
       "            Bokeh.index[element_id].model.document.clear();\n",
       "            delete Bokeh.index[element_id];\n",
       "          }\n",
       "        }\n",
       "      });\n",
       "      // Destroy server and session\n",
       "      var cmd = \"import bokeh.io.notebook as ion; ion.destroy_server('\" + server_id + \"')\";\n",
       "      cell.notebook.kernel.execute(cmd);\n",
       "    }\n",
       "  }\n",
       "\n",
       "  /**\n",
       "   * Handle when a new output is added\n",
       "   */\n",
       "  function handleAddOutput(event, handle) {\n",
       "    var output_area = handle.output_area;\n",
       "    var output = handle.output;\n",
       "\n",
       "    // limit handleAddOutput to display_data with EXEC_MIME_TYPE content only\n",
       "    if ((output.output_type != \"display_data\") || (!output.data.hasOwnProperty(EXEC_MIME_TYPE))) {\n",
       "      return\n",
       "    }\n",
       "\n",
       "    var toinsert = output_area.element.find(\".\" + CLASS_NAME.split(' ')[0]);\n",
       "\n",
       "    if (output.metadata[EXEC_MIME_TYPE][\"id\"] !== undefined) {\n",
       "      toinsert[0].firstChild.textContent = output.data[JS_MIME_TYPE];\n",
       "      // store reference to embed id on output_area\n",
       "      output_area._bokeh_element_id = output.metadata[EXEC_MIME_TYPE][\"id\"];\n",
       "    }\n",
       "    if (output.metadata[EXEC_MIME_TYPE][\"server_id\"] !== undefined) {\n",
       "      var bk_div = document.createElement(\"div\");\n",
       "      bk_div.innerHTML = output.data[HTML_MIME_TYPE];\n",
       "      var script_attrs = bk_div.children[0].attributes;\n",
       "      for (var i = 0; i < script_attrs.length; i++) {\n",
       "        toinsert[0].firstChild.setAttribute(script_attrs[i].name, script_attrs[i].value);\n",
       "      }\n",
       "      // store reference to server id on output_area\n",
       "      output_area._bokeh_server_id = output.metadata[EXEC_MIME_TYPE][\"server_id\"];\n",
       "    }\n",
       "  }\n",
       "\n",
       "  function register_renderer(events, OutputArea) {\n",
       "\n",
       "    function append_mime(data, metadata, element) {\n",
       "      // create a DOM node to render to\n",
       "      var toinsert = this.create_output_subarea(\n",
       "        metadata,\n",
       "        CLASS_NAME,\n",
       "        EXEC_MIME_TYPE\n",
       "      );\n",
       "      this.keyboard_manager.register_events(toinsert);\n",
       "      // Render to node\n",
       "      var props = {data: data, metadata: metadata[EXEC_MIME_TYPE]};\n",
       "      render(props, toinsert[0]);\n",
       "      element.append(toinsert);\n",
       "      return toinsert\n",
       "    }\n",
       "\n",
       "    /* Handle when an output is cleared or removed */\n",
       "    events.on('clear_output.CodeCell', handleClearOutput);\n",
       "    events.on('delete.Cell', handleClearOutput);\n",
       "\n",
       "    /* Handle when a new output is added */\n",
       "    events.on('output_added.OutputArea', handleAddOutput);\n",
       "\n",
       "    /**\n",
       "     * Register the mime type and append_mime function with output_area\n",
       "     */\n",
       "    OutputArea.prototype.register_mime_type(EXEC_MIME_TYPE, append_mime, {\n",
       "      /* Is output safe? */\n",
       "      safe: true,\n",
       "      /* Index of renderer in `output_area.display_order` */\n",
       "      index: 0\n",
       "    });\n",
       "  }\n",
       "\n",
       "  // register the mime type if in Jupyter Notebook environment and previously unregistered\n",
       "  if (root.Jupyter !== undefined) {\n",
       "    var events = require('base/js/events');\n",
       "    var OutputArea = require('notebook/js/outputarea').OutputArea;\n",
       "\n",
       "    if (OutputArea.prototype.mime_types().indexOf(EXEC_MIME_TYPE) == -1) {\n",
       "      register_renderer(events, OutputArea);\n",
       "    }\n",
       "  }\n",
       "\n",
       "  \n",
       "  if (typeof (root._bokeh_timeout) === \"undefined\" || force === true) {\n",
       "    root._bokeh_timeout = Date.now() + 5000;\n",
       "    root._bokeh_failed_load = false;\n",
       "  }\n",
       "\n",
       "  var NB_LOAD_WARNING = {'data': {'text/html':\n",
       "     \"<div style='background-color: #fdd'>\\n\"+\n",
       "     \"<p>\\n\"+\n",
       "     \"BokehJS does not appear to have successfully loaded. If loading BokehJS from CDN, this \\n\"+\n",
       "     \"may be due to a slow or bad network connection. Possible fixes:\\n\"+\n",
       "     \"</p>\\n\"+\n",
       "     \"<ul>\\n\"+\n",
       "     \"<li>re-rerun `output_notebook()` to attempt to load from CDN again, or</li>\\n\"+\n",
       "     \"<li>use INLINE resources instead, as so:</li>\\n\"+\n",
       "     \"</ul>\\n\"+\n",
       "     \"<code>\\n\"+\n",
       "     \"from bokeh.resources import INLINE\\n\"+\n",
       "     \"output_notebook(resources=INLINE)\\n\"+\n",
       "     \"</code>\\n\"+\n",
       "     \"</div>\"}};\n",
       "\n",
       "  function display_loaded() {\n",
       "    var el = document.getElementById(\"f07841ff-7a35-4cb3-9642-26c1e486718f\");\n",
       "    if (el != null) {\n",
       "      el.textContent = \"BokehJS is loading...\";\n",
       "    }\n",
       "    if (root.Bokeh !== undefined) {\n",
       "      if (el != null) {\n",
       "        el.textContent = \"BokehJS \" + root.Bokeh.version + \" successfully loaded.\";\n",
       "      }\n",
       "    } else if (Date.now() < root._bokeh_timeout) {\n",
       "      setTimeout(display_loaded, 100)\n",
       "    }\n",
       "  }\n",
       "\n",
       "\n",
       "  function run_callbacks() {\n",
       "    try {\n",
       "      root._bokeh_onload_callbacks.forEach(function(callback) { callback() });\n",
       "    }\n",
       "    finally {\n",
       "      delete root._bokeh_onload_callbacks\n",
       "    }\n",
       "    console.info(\"Bokeh: all callbacks have finished\");\n",
       "  }\n",
       "\n",
       "  function load_libs(js_urls, callback) {\n",
       "    root._bokeh_onload_callbacks.push(callback);\n",
       "    if (root._bokeh_is_loading > 0) {\n",
       "      console.log(\"Bokeh: BokehJS is being loaded, scheduling callback at\", now());\n",
       "      return null;\n",
       "    }\n",
       "    if (js_urls == null || js_urls.length === 0) {\n",
       "      run_callbacks();\n",
       "      return null;\n",
       "    }\n",
       "    console.log(\"Bokeh: BokehJS not loaded, scheduling load and callback at\", now());\n",
       "    root._bokeh_is_loading = js_urls.length;\n",
       "    for (var i = 0; i < js_urls.length; i++) {\n",
       "      var url = js_urls[i];\n",
       "      var s = document.createElement('script');\n",
       "      s.src = url;\n",
       "      s.async = false;\n",
       "      s.onreadystatechange = s.onload = function() {\n",
       "        root._bokeh_is_loading--;\n",
       "        if (root._bokeh_is_loading === 0) {\n",
       "          console.log(\"Bokeh: all BokehJS libraries loaded\");\n",
       "          run_callbacks()\n",
       "        }\n",
       "      };\n",
       "      s.onerror = function() {\n",
       "        console.warn(\"failed to load library \" + url);\n",
       "      };\n",
       "      console.log(\"Bokeh: injecting script tag for BokehJS library: \", url);\n",
       "      document.getElementsByTagName(\"head\")[0].appendChild(s);\n",
       "    }\n",
       "  };var element = document.getElementById(\"f07841ff-7a35-4cb3-9642-26c1e486718f\");\n",
       "  if (element == null) {\n",
       "    console.log(\"Bokeh: ERROR: autoload.js configured with elementid 'f07841ff-7a35-4cb3-9642-26c1e486718f' but no matching script tag was found. \")\n",
       "    return false;\n",
       "  }\n",
       "\n",
       "  var js_urls = [\"https://cdn.pydata.org/bokeh/release/bokeh-0.12.13.min.js\", \"https://cdn.pydata.org/bokeh/release/bokeh-widgets-0.12.13.min.js\", \"https://cdn.pydata.org/bokeh/release/bokeh-tables-0.12.13.min.js\", \"https://cdn.pydata.org/bokeh/release/bokeh-gl-0.12.13.min.js\"];\n",
       "\n",
       "  var inline_js = [\n",
       "    function(Bokeh) {\n",
       "      Bokeh.set_log_level(\"info\");\n",
       "    },\n",
       "    \n",
       "    function(Bokeh) {\n",
       "      \n",
       "    },\n",
       "    function(Bokeh) {\n",
       "      console.log(\"Bokeh: injecting CSS: https://cdn.pydata.org/bokeh/release/bokeh-0.12.13.min.css\");\n",
       "      Bokeh.embed.inject_css(\"https://cdn.pydata.org/bokeh/release/bokeh-0.12.13.min.css\");\n",
       "      console.log(\"Bokeh: injecting CSS: https://cdn.pydata.org/bokeh/release/bokeh-widgets-0.12.13.min.css\");\n",
       "      Bokeh.embed.inject_css(\"https://cdn.pydata.org/bokeh/release/bokeh-widgets-0.12.13.min.css\");\n",
       "      console.log(\"Bokeh: injecting CSS: https://cdn.pydata.org/bokeh/release/bokeh-tables-0.12.13.min.css\");\n",
       "      Bokeh.embed.inject_css(\"https://cdn.pydata.org/bokeh/release/bokeh-tables-0.12.13.min.css\");\n",
       "    }\n",
       "  ];\n",
       "\n",
       "  function run_inline_js() {\n",
       "    \n",
       "    if ((root.Bokeh !== undefined) || (force === true)) {\n",
       "      for (var i = 0; i < inline_js.length; i++) {\n",
       "        inline_js[i].call(root, root.Bokeh);\n",
       "      }if (force === true) {\n",
       "        display_loaded();\n",
       "      }} else if (Date.now() < root._bokeh_timeout) {\n",
       "      setTimeout(run_inline_js, 100);\n",
       "    } else if (!root._bokeh_failed_load) {\n",
       "      console.log(\"Bokeh: BokehJS failed to load within specified timeout.\");\n",
       "      root._bokeh_failed_load = true;\n",
       "    } else if (force !== true) {\n",
       "      var cell = $(document.getElementById(\"f07841ff-7a35-4cb3-9642-26c1e486718f\")).parents('.cell').data().cell;\n",
       "      cell.output_area.append_execute_result(NB_LOAD_WARNING)\n",
       "    }\n",
       "\n",
       "  }\n",
       "\n",
       "  if (root._bokeh_is_loading === 0) {\n",
       "    console.log(\"Bokeh: BokehJS loaded, going straight to plotting\");\n",
       "    run_inline_js();\n",
       "  } else {\n",
       "    load_libs(js_urls, function() {\n",
       "      console.log(\"Bokeh: BokehJS plotting callback run at\", now());\n",
       "      run_inline_js();\n",
       "    });\n",
       "  }\n",
       "}(window));"
      ],
      "application/vnd.bokehjs_load.v0+json": "\n(function(root) {\n  function now() {\n    return new Date();\n  }\n\n  var force = true;\n\n  if (typeof (root._bokeh_onload_callbacks) === \"undefined\" || force === true) {\n    root._bokeh_onload_callbacks = [];\n    root._bokeh_is_loading = undefined;\n  }\n\n  \n\n  \n  if (typeof (root._bokeh_timeout) === \"undefined\" || force === true) {\n    root._bokeh_timeout = Date.now() + 5000;\n    root._bokeh_failed_load = false;\n  }\n\n  var NB_LOAD_WARNING = {'data': {'text/html':\n     \"<div style='background-color: #fdd'>\\n\"+\n     \"<p>\\n\"+\n     \"BokehJS does not appear to have successfully loaded. If loading BokehJS from CDN, this \\n\"+\n     \"may be due to a slow or bad network connection. Possible fixes:\\n\"+\n     \"</p>\\n\"+\n     \"<ul>\\n\"+\n     \"<li>re-rerun `output_notebook()` to attempt to load from CDN again, or</li>\\n\"+\n     \"<li>use INLINE resources instead, as so:</li>\\n\"+\n     \"</ul>\\n\"+\n     \"<code>\\n\"+\n     \"from bokeh.resources import INLINE\\n\"+\n     \"output_notebook(resources=INLINE)\\n\"+\n     \"</code>\\n\"+\n     \"</div>\"}};\n\n  function display_loaded() {\n    var el = document.getElementById(\"f07841ff-7a35-4cb3-9642-26c1e486718f\");\n    if (el != null) {\n      el.textContent = \"BokehJS is loading...\";\n    }\n    if (root.Bokeh !== undefined) {\n      if (el != null) {\n        el.textContent = \"BokehJS \" + root.Bokeh.version + \" successfully loaded.\";\n      }\n    } else if (Date.now() < root._bokeh_timeout) {\n      setTimeout(display_loaded, 100)\n    }\n  }\n\n\n  function run_callbacks() {\n    try {\n      root._bokeh_onload_callbacks.forEach(function(callback) { callback() });\n    }\n    finally {\n      delete root._bokeh_onload_callbacks\n    }\n    console.info(\"Bokeh: all callbacks have finished\");\n  }\n\n  function load_libs(js_urls, callback) {\n    root._bokeh_onload_callbacks.push(callback);\n    if (root._bokeh_is_loading > 0) {\n      console.log(\"Bokeh: BokehJS is being loaded, scheduling callback at\", now());\n      return null;\n    }\n    if (js_urls == null || js_urls.length === 0) {\n      run_callbacks();\n      return null;\n    }\n    console.log(\"Bokeh: BokehJS not loaded, scheduling load and callback at\", now());\n    root._bokeh_is_loading = js_urls.length;\n    for (var i = 0; i < js_urls.length; i++) {\n      var url = js_urls[i];\n      var s = document.createElement('script');\n      s.src = url;\n      s.async = false;\n      s.onreadystatechange = s.onload = function() {\n        root._bokeh_is_loading--;\n        if (root._bokeh_is_loading === 0) {\n          console.log(\"Bokeh: all BokehJS libraries loaded\");\n          run_callbacks()\n        }\n      };\n      s.onerror = function() {\n        console.warn(\"failed to load library \" + url);\n      };\n      console.log(\"Bokeh: injecting script tag for BokehJS library: \", url);\n      document.getElementsByTagName(\"head\")[0].appendChild(s);\n    }\n  };var element = document.getElementById(\"f07841ff-7a35-4cb3-9642-26c1e486718f\");\n  if (element == null) {\n    console.log(\"Bokeh: ERROR: autoload.js configured with elementid 'f07841ff-7a35-4cb3-9642-26c1e486718f' but no matching script tag was found. \")\n    return false;\n  }\n\n  var js_urls = [\"https://cdn.pydata.org/bokeh/release/bokeh-0.12.13.min.js\", \"https://cdn.pydata.org/bokeh/release/bokeh-widgets-0.12.13.min.js\", \"https://cdn.pydata.org/bokeh/release/bokeh-tables-0.12.13.min.js\", \"https://cdn.pydata.org/bokeh/release/bokeh-gl-0.12.13.min.js\"];\n\n  var inline_js = [\n    function(Bokeh) {\n      Bokeh.set_log_level(\"info\");\n    },\n    \n    function(Bokeh) {\n      \n    },\n    function(Bokeh) {\n      console.log(\"Bokeh: injecting CSS: https://cdn.pydata.org/bokeh/release/bokeh-0.12.13.min.css\");\n      Bokeh.embed.inject_css(\"https://cdn.pydata.org/bokeh/release/bokeh-0.12.13.min.css\");\n      console.log(\"Bokeh: injecting CSS: https://cdn.pydata.org/bokeh/release/bokeh-widgets-0.12.13.min.css\");\n      Bokeh.embed.inject_css(\"https://cdn.pydata.org/bokeh/release/bokeh-widgets-0.12.13.min.css\");\n      console.log(\"Bokeh: injecting CSS: https://cdn.pydata.org/bokeh/release/bokeh-tables-0.12.13.min.css\");\n      Bokeh.embed.inject_css(\"https://cdn.pydata.org/bokeh/release/bokeh-tables-0.12.13.min.css\");\n    }\n  ];\n\n  function run_inline_js() {\n    \n    if ((root.Bokeh !== undefined) || (force === true)) {\n      for (var i = 0; i < inline_js.length; i++) {\n        inline_js[i].call(root, root.Bokeh);\n      }if (force === true) {\n        display_loaded();\n      }} else if (Date.now() < root._bokeh_timeout) {\n      setTimeout(run_inline_js, 100);\n    } else if (!root._bokeh_failed_load) {\n      console.log(\"Bokeh: BokehJS failed to load within specified timeout.\");\n      root._bokeh_failed_load = true;\n    } else if (force !== true) {\n      var cell = $(document.getElementById(\"f07841ff-7a35-4cb3-9642-26c1e486718f\")).parents('.cell').data().cell;\n      cell.output_area.append_execute_result(NB_LOAD_WARNING)\n    }\n\n  }\n\n  if (root._bokeh_is_loading === 0) {\n    console.log(\"Bokeh: BokehJS loaded, going straight to plotting\");\n    run_inline_js();\n  } else {\n    load_libs(js_urls, function() {\n      console.log(\"Bokeh: BokehJS plotting callback run at\", now());\n      run_inline_js();\n    });\n  }\n}(window));"
     },
     "metadata": {},
     "output_type": "display_data"
    }
   ],
   "source": [
    "bp.output_notebook()"
   ]
  },
  {
   "cell_type": "code",
   "execution_count": 93,
   "metadata": {},
   "outputs": [],
   "source": [
    "df = pd.read_csv(fname_output94 , sep = '\\t')"
   ]
  },
  {
   "cell_type": "code",
   "execution_count": 106,
   "metadata": {},
   "outputs": [],
   "source": [
    "df.columns = ['Word1' , 'Word2' , 'Human_mean' , 'cos']"
   ]
  },
  {
   "cell_type": "code",
   "execution_count": 108,
   "metadata": {},
   "outputs": [],
   "source": [
    "source = ColumnDataSource(df)"
   ]
  },
  {
   "cell_type": "code",
   "execution_count": 110,
   "metadata": {},
   "outputs": [],
   "source": [
    "p = figure()"
   ]
  },
  {
   "cell_type": "code",
   "execution_count": 112,
   "metadata": {},
   "outputs": [
    {
     "data": {
      "text/html": [
       "<div style=\"display: table;\"><div style=\"display: table-row;\"><div style=\"display: table-cell;\"><b title=\"bokeh.models.renderers.GlyphRenderer\">GlyphRenderer</b>(</div><div style=\"display: table-cell;\">id&nbsp;=&nbsp;'a062741d-879f-4614-b664-2976c0d7c57e', <span id=\"485bdc06-051f-4e3c-8c2e-e7e3a4ab5592\" style=\"cursor: pointer;\">&hellip;)</span></div></div><div class=\"d98a8f50-cf8e-4cbd-a3ab-4ded55c7b6c4\" style=\"display: none;\"><div style=\"display: table-cell;\"></div><div style=\"display: table-cell;\">data_source&nbsp;=&nbsp;ColumnDataSource(id='b8044d7a-2e37-4aa7-9bd5-8f9fe95ab9a5', ...),</div></div><div class=\"d98a8f50-cf8e-4cbd-a3ab-4ded55c7b6c4\" style=\"display: none;\"><div style=\"display: table-cell;\"></div><div style=\"display: table-cell;\">glyph&nbsp;=&nbsp;Circle(id='a6354753-34d3-442b-a2f2-5fd58a3d657e', ...),</div></div><div class=\"d98a8f50-cf8e-4cbd-a3ab-4ded55c7b6c4\" style=\"display: none;\"><div style=\"display: table-cell;\"></div><div style=\"display: table-cell;\">hover_glyph&nbsp;=&nbsp;None,</div></div><div class=\"d98a8f50-cf8e-4cbd-a3ab-4ded55c7b6c4\" style=\"display: none;\"><div style=\"display: table-cell;\"></div><div style=\"display: table-cell;\">js_event_callbacks&nbsp;=&nbsp;{},</div></div><div class=\"d98a8f50-cf8e-4cbd-a3ab-4ded55c7b6c4\" style=\"display: none;\"><div style=\"display: table-cell;\"></div><div style=\"display: table-cell;\">js_property_callbacks&nbsp;=&nbsp;{},</div></div><div class=\"d98a8f50-cf8e-4cbd-a3ab-4ded55c7b6c4\" style=\"display: none;\"><div style=\"display: table-cell;\"></div><div style=\"display: table-cell;\">level&nbsp;=&nbsp;'glyph',</div></div><div class=\"d98a8f50-cf8e-4cbd-a3ab-4ded55c7b6c4\" style=\"display: none;\"><div style=\"display: table-cell;\"></div><div style=\"display: table-cell;\">muted&nbsp;=&nbsp;False,</div></div><div class=\"d98a8f50-cf8e-4cbd-a3ab-4ded55c7b6c4\" style=\"display: none;\"><div style=\"display: table-cell;\"></div><div style=\"display: table-cell;\">muted_glyph&nbsp;=&nbsp;None,</div></div><div class=\"d98a8f50-cf8e-4cbd-a3ab-4ded55c7b6c4\" style=\"display: none;\"><div style=\"display: table-cell;\"></div><div style=\"display: table-cell;\">name&nbsp;=&nbsp;None,</div></div><div class=\"d98a8f50-cf8e-4cbd-a3ab-4ded55c7b6c4\" style=\"display: none;\"><div style=\"display: table-cell;\"></div><div style=\"display: table-cell;\">nonselection_glyph&nbsp;=&nbsp;Circle(id='baf9ba57-91d1-4d01-908c-911636dfd208', ...),</div></div><div class=\"d98a8f50-cf8e-4cbd-a3ab-4ded55c7b6c4\" style=\"display: none;\"><div style=\"display: table-cell;\"></div><div style=\"display: table-cell;\">selection_glyph&nbsp;=&nbsp;None,</div></div><div class=\"d98a8f50-cf8e-4cbd-a3ab-4ded55c7b6c4\" style=\"display: none;\"><div style=\"display: table-cell;\"></div><div style=\"display: table-cell;\">subscribed_events&nbsp;=&nbsp;[],</div></div><div class=\"d98a8f50-cf8e-4cbd-a3ab-4ded55c7b6c4\" style=\"display: none;\"><div style=\"display: table-cell;\"></div><div style=\"display: table-cell;\">tags&nbsp;=&nbsp;[],</div></div><div class=\"d98a8f50-cf8e-4cbd-a3ab-4ded55c7b6c4\" style=\"display: none;\"><div style=\"display: table-cell;\"></div><div style=\"display: table-cell;\">view&nbsp;=&nbsp;CDSView(id='97bf61d5-6298-49a7-8607-d70d77b27b87', ...),</div></div><div class=\"d98a8f50-cf8e-4cbd-a3ab-4ded55c7b6c4\" style=\"display: none;\"><div style=\"display: table-cell;\"></div><div style=\"display: table-cell;\">visible&nbsp;=&nbsp;True,</div></div><div class=\"d98a8f50-cf8e-4cbd-a3ab-4ded55c7b6c4\" style=\"display: none;\"><div style=\"display: table-cell;\"></div><div style=\"display: table-cell;\">x_range_name&nbsp;=&nbsp;'default',</div></div><div class=\"d98a8f50-cf8e-4cbd-a3ab-4ded55c7b6c4\" style=\"display: none;\"><div style=\"display: table-cell;\"></div><div style=\"display: table-cell;\">y_range_name&nbsp;=&nbsp;'default')</div></div></div>\n",
       "<script>\n",
       "(function() {\n",
       "  var expanded = false;\n",
       "  var ellipsis = document.getElementById(\"485bdc06-051f-4e3c-8c2e-e7e3a4ab5592\");\n",
       "  ellipsis.addEventListener(\"click\", function() {\n",
       "    var rows = document.getElementsByClassName(\"d98a8f50-cf8e-4cbd-a3ab-4ded55c7b6c4\");\n",
       "    for (var i = 0; i < rows.length; i++) {\n",
       "      var el = rows[i];\n",
       "      el.style.display = expanded ? \"none\" : \"table-row\";\n",
       "    }\n",
       "    ellipsis.innerHTML = expanded ? \"&hellip;)\" : \"&lsaquo;&lsaquo;&lsaquo;\";\n",
       "    expanded = !expanded;\n",
       "  });\n",
       "})();\n",
       "</script>\n"
      ],
      "text/plain": [
       "GlyphRenderer(id='a062741d-879f-4614-b664-2976c0d7c57e', ...)"
      ]
     },
     "execution_count": 112,
     "metadata": {},
     "output_type": "execute_result"
    }
   ],
   "source": [
    "p.scatter(x = 'Human_mean' , y = 'cos' , source = source)"
   ]
  },
  {
   "cell_type": "code",
   "execution_count": 119,
   "metadata": {},
   "outputs": [
    {
     "data": {
      "text/html": [
       "\n",
       "<div class=\"bk-root\">\n",
       "    <div class=\"bk-plotdiv\" id=\"6fac42bb-d578-4e97-bd9b-ff424cc0e6f3\"></div>\n",
       "</div>"
      ]
     },
     "metadata": {},
     "output_type": "display_data"
    },
    {
     "data": {
      "application/javascript": [
       "(function(root) {\n",
       "  function embed_document(root) {\n",
       "    \n",
       "  var docs_json = {\"5a0a165b-ef3d-4fbb-b1fb-0d4d7d8e415d\":{\"roots\":{\"references\":[{\"attributes\":{\"data_source\":{\"id\":\"b8044d7a-2e37-4aa7-9bd5-8f9fe95ab9a5\",\"type\":\"ColumnDataSource\"},\"glyph\":{\"id\":\"a6354753-34d3-442b-a2f2-5fd58a3d657e\",\"type\":\"Circle\"},\"hover_glyph\":null,\"muted_glyph\":null,\"nonselection_glyph\":{\"id\":\"baf9ba57-91d1-4d01-908c-911636dfd208\",\"type\":\"Circle\"},\"selection_glyph\":null,\"view\":{\"id\":\"97bf61d5-6298-49a7-8607-d70d77b27b87\",\"type\":\"CDSView\"}},\"id\":\"a062741d-879f-4614-b664-2976c0d7c57e\",\"type\":\"GlyphRenderer\"},{\"attributes\":{\"dimension\":1,\"plot\":{\"id\":\"33259efb-212d-4189-ac8a-10f27d901044\",\"subtype\":\"Figure\",\"type\":\"Plot\"},\"ticker\":{\"id\":\"cff6391c-72f6-4261-83ef-e194014ff490\",\"type\":\"BasicTicker\"}},\"id\":\"3a0301c1-95bd-4a9b-9175-27065a82fac6\",\"type\":\"Grid\"},{\"attributes\":{},\"id\":\"f4127f20-d8f9-417c-814e-4bf60caa5906\",\"type\":\"WheelZoomTool\"},{\"attributes\":{\"below\":[{\"id\":\"80d8baac-de55-498f-af95-d0b5855b3a44\",\"type\":\"LinearAxis\"}],\"left\":[{\"id\":\"ffcf5faa-e543-4578-8919-ab9fe26be8c4\",\"type\":\"LinearAxis\"}],\"renderers\":[{\"id\":\"80d8baac-de55-498f-af95-d0b5855b3a44\",\"type\":\"LinearAxis\"},{\"id\":\"216a6ab4-1868-42b3-b4ff-2f16cd7c9ec4\",\"type\":\"Grid\"},{\"id\":\"ffcf5faa-e543-4578-8919-ab9fe26be8c4\",\"type\":\"LinearAxis\"},{\"id\":\"3a0301c1-95bd-4a9b-9175-27065a82fac6\",\"type\":\"Grid\"},{\"id\":\"027c87c1-3faf-4ab3-a59f-d53540e66d9d\",\"type\":\"BoxAnnotation\"},{\"id\":\"a062741d-879f-4614-b664-2976c0d7c57e\",\"type\":\"GlyphRenderer\"}],\"title\":{\"id\":\"65044c09-c4e1-4ef3-9d30-1777ff3150eb\",\"type\":\"Title\"},\"toolbar\":{\"id\":\"f98bccde-262f-411a-bff6-9ab04b04758c\",\"type\":\"Toolbar\"},\"x_range\":{\"id\":\"1a19a319-4520-404b-92d8-4c902bf4f0b9\",\"type\":\"DataRange1d\"},\"x_scale\":{\"id\":\"a61b0359-f959-4d00-b59a-a497401ae6b6\",\"type\":\"LinearScale\"},\"y_range\":{\"id\":\"09a59986-9aca-4448-adf4-904295336e06\",\"type\":\"DataRange1d\"},\"y_scale\":{\"id\":\"0c107b0f-037b-4562-bfff-f0267213239f\",\"type\":\"LinearScale\"}},\"id\":\"33259efb-212d-4189-ac8a-10f27d901044\",\"subtype\":\"Figure\",\"type\":\"Plot\"},{\"attributes\":{\"overlay\":{\"id\":\"027c87c1-3faf-4ab3-a59f-d53540e66d9d\",\"type\":\"BoxAnnotation\"}},\"id\":\"2f5ef652-39e8-467a-bae5-fd9f802c919a\",\"type\":\"BoxZoomTool\"},{\"attributes\":{\"callback\":null},\"id\":\"1a19a319-4520-404b-92d8-4c902bf4f0b9\",\"type\":\"DataRange1d\"},{\"attributes\":{},\"id\":\"cff6391c-72f6-4261-83ef-e194014ff490\",\"type\":\"BasicTicker\"},{\"attributes\":{\"source\":{\"id\":\"b8044d7a-2e37-4aa7-9bd5-8f9fe95ab9a5\",\"type\":\"ColumnDataSource\"}},\"id\":\"97bf61d5-6298-49a7-8607-d70d77b27b87\",\"type\":\"CDSView\"},{\"attributes\":{},\"id\":\"be8f4bfd-37d9-4f62-afbb-18be238f36c1\",\"type\":\"BasicTickFormatter\"},{\"attributes\":{},\"id\":\"4efc436e-ff47-4c9b-a0de-8c5633dcbc96\",\"type\":\"PanTool\"},{\"attributes\":{},\"id\":\"702fa2e2-fb98-4e48-af97-42ae5e6c72ee\",\"type\":\"BasicTicker\"},{\"attributes\":{\"callback\":null,\"column_names\":[\"Word2\",\"Word1\",\"Human_mean\",\"index\",\"cos\"],\"data\":{\"Human_mean\":{\"__ndarray__\":\"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\",\"dtype\":\"float64\",\"shape\":[353]},\"Word1\":[\"love\",\"tiger\",\"tiger\",\"book\",\"computer\",\"computer\",\"plane\",\"train\",\"telephone\",\"television\",\"media\",\"drug\",\"bread\",\"cucumber\",\"doctor\",\"professor\",\"student\",\"smart\",\"smart\",\"company\",\"stock\",\"stock\",\"stock\",\"stock\",\"stock\",\"fertility\",\"stock\",\"stock\",\"book\",\"bank\",\"wood\",\"money\",\"professor\",\"king\",\"king\",\"king\",\"bishop\",\"Jerusalem\",\"Jerusalem\",\"holy\",\"fuck\",\"Maradona\",\"football\",\"football\",\"football\",\"tennis\",\"Arafat\",\"Arafat\",\"Arafat\",\"law\",\"movie\",\"movie\",\"movie\",\"movie\",\"physics\",\"physics\",\"space\",\"alcohol\",\"vodka\",\"vodka\",\"drink\",\"drink\",\"drink\",\"drink\",\"baby\",\"drink\",\"car\",\"gem\",\"journey\",\"boy\",\"coast\",\"asylum\",\"magician\",\"midday\",\"furnace\",\"food\",\"bird\",\"bird\",\"tool\",\"brother\",\"crane\",\"lad\",\"journey\",\"monk\",\"cemetery\",\"food\",\"coast\",\"forest\",\"shore\",\"monk\",\"coast\",\"lad\",\"chord\",\"glass\",\"noon\",\"rooster\",\"money\",\"money\",\"money\",\"money\",\"money\",\"money\",\"money\",\"money\",\"money\",\"money\",\"money\",\"tiger\",\"tiger\",\"tiger\",\"tiger\",\"tiger\",\"tiger\",\"tiger\",\"tiger\",\"psychology\",\"psychology\",\"psychology\",\"psychology\",\"psychology\",\"psychology\",\"psychology\",\"psychology\",\"psychology\",\"psychology\",\"psychology\",\"psychology\",\"planet\",\"planet\",\"planet\",\"planet\",\"planet\",\"planet\",\"planet\",\"precedent\",\"precedent\",\"precedent\",\"precedent\",\"precedent\",\"precedent\",\"precedent\",\"cup\",\"cup\",\"cup\",\"cup\",\"cup\",\"cup\",\"cup\",\"cup\",\"cup\",\"cup\",\"jaguar\",\"jaguar\",\"energy\",\"secretary\",\"energy\",\"computer\",\"weapon\",\"FBI\",\"FBI\",\"investigation\",\"Mars\",\"Mars\",\"news\",\"canyon\",\"image\",\"discovery\",\"water\",\"sign\",\"Wednesday\",\"mile\",\"computer\",\"territory\",\"atmosphere\",\"president\",\"war\",\"record\",\"skin\",\"Japanese\",\"theater\",\"volunteer\",\"prejudice\",\"decoration\",\"century\",\"century\",\"delay\",\"delay\",\"minister\",\"peace\",\"minority\",\"attempt\",\"government\",\"deployment\",\"deployment\",\"energy\",\"announcement\",\"announcement\",\"stroke\",\"disability\",\"victim\",\"treatment\",\"journal\",\"doctor\",\"doctor\",\"liability\",\"school\",\"reason\",\"reason\",\"hundred\",\"Harvard\",\"hospital\",\"death\",\"death\",\"lawyer\",\"life\",\"life\",\"word\",\"board\",\"governor\",\"OPEC\",\"peace\",\"peace\",\"territory\",\"travel\",\"competition\",\"consumer\",\"consumer\",\"problem\",\"car\",\"credit\",\"credit\",\"hotel\",\"grocery\",\"registration\",\"arrangement\",\"month\",\"type\",\"arrival\",\"bed\",\"closet\",\"situation\",\"situation\",\"impartiality\",\"direction\",\"street\",\"street\",\"street\",\"street\",\"listing\",\"listing\",\"cell\",\"production\",\"benchmark\",\"media\",\"media\",\"dividend\",\"dividend\",\"calculation\",\"currency\",\"OPEC\",\"oil\",\"announcement\",\"announcement\",\"profit\",\"profit\",\"dollar\",\"dollar\",\"dollar\",\"dollar\",\"computer\",\"network\",\"phone\",\"equipment\",\"luxury\",\"five\",\"report\",\"investor\",\"liquid\",\"baseball\",\"game\",\"game\",\"marathon\",\"game\",\"game\",\"seven\",\"seafood\",\"seafood\",\"seafood\",\"lobster\",\"lobster\",\"food\",\"video\",\"start\",\"start\",\"game\",\"boxing\",\"championship\",\"fighting\",\"line\",\"day\",\"summer\",\"summer\",\"day\",\"nature\",\"environment\",\"nature\",\"man\",\"man\",\"murder\",\"soap\",\"opera\",\"life\",\"focus\",\"production\",\"television\",\"lover\",\"viewer\",\"possibility\",\"population\",\"morality\",\"morality\",\"Mexico\",\"gender\",\"change\",\"family\",\"opera\",\"sugar\",\"practice\",\"ministry\",\"problem\",\"size\",\"country\",\"planet\",\"development\",\"experience\",\"music\",\"glass\",\"aluminum\",\"chance\",\"exhibit\",\"concert\",\"rock\",\"museum\",\"observation\",\"space\",\"preservation\",\"admission\",\"shower\",\"shower\",\"weather\",\"disaster\",\"governor\",\"architecture\"],\"Word2\":[\"sex\",\"cat\",\"tiger\",\"paper\",\"keyboard\",\"internet\",\"car\",\"car\",\"communication\",\"radio\",\"radio\",\"abuse\",\"butter\",\"potato\",\"nurse\",\"doctor\",\"professor\",\"student\",\"stupid\",\"stock\",\"market\",\"phone\",\"CD\",\"jaguar\",\"egg\",\"egg\",\"live\",\"life\",\"library\",\"money\",\"forest\",\"cash\",\"cucumber\",\"cabbage\",\"queen\",\"rook\",\"rabbi\",\"Israel\",\"Palestinian\",\"sex\",\"sex\",\"football\",\"soccer\",\"basketball\",\"tennis\",\"racket\",\"peace\",\"terror\",\"Jackson\",\"lawyer\",\"star\",\"popcorn\",\"critic\",\"theater\",\"proton\",\"chemistry\",\"chemistry\",\"chemistry\",\"gin\",\"brandy\",\"car\",\"ear\",\"mouth\",\"eat\",\"mother\",\"mother\",\"automobile\",\"jewel\",\"voyage\",\"lad\",\"shore\",\"madhouse\",\"wizard\",\"noon\",\"stove\",\"fruit\",\"cock\",\"crane\",\"implement\",\"monk\",\"implement\",\"brother\",\"car\",\"oracle\",\"woodland\",\"rooster\",\"hill\",\"graveyard\",\"woodland\",\"slave\",\"forest\",\"wizard\",\"smile\",\"magician\",\"string\",\"voyage\",\"dollar\",\"cash\",\"currency\",\"wealth\",\"property\",\"possession\",\"bank\",\"deposit\",\"withdrawal\",\"laundering\",\"operation\",\"jaguar\",\"feline\",\"carnivore\",\"mammal\",\"animal\",\"organism\",\"fauna\",\"zoo\",\"psychiatry\",\"anxiety\",\"fear\",\"depression\",\"clinic\",\"doctor\",\"Freud\",\"mind\",\"health\",\"science\",\"discipline\",\"cognition\",\"star\",\"constellation\",\"moon\",\"sun\",\"galaxy\",\"space\",\"astronomer\",\"example\",\"information\",\"cognition\",\"law\",\"collection\",\"group\",\"antecedent\",\"coffee\",\"tableware\",\"article\",\"artifact\",\"object\",\"entity\",\"drink\",\"food\",\"substance\",\"liquid\",\"cat\",\"car\",\"secretary\",\"senate\",\"laboratory\",\"laboratory\",\"secret\",\"fingerprint\",\"investigation\",\"effort\",\"water\",\"scientist\",\"report\",\"landscape\",\"surface\",\"space\",\"seepage\",\"recess\",\"news\",\"kilometer\",\"news\",\"surface\",\"landscape\",\"medal\",\"troops\",\"number\",\"eye\",\"American\",\"history\",\"motto\",\"recognition\",\"valor\",\"year\",\"nation\",\"racism\",\"news\",\"party\",\"plan\",\"peace\",\"peace\",\"crisis\",\"departure\",\"withdrawal\",\"crisis\",\"news\",\"effort\",\"hospital\",\"death\",\"emergency\",\"recovery\",\"association\",\"personnel\",\"liability\",\"insurance\",\"center\",\"hypertension\",\"criterion\",\"percent\",\"Yale\",\"infrastructure\",\"row\",\"inmate\",\"evidence\",\"death\",\"term\",\"similarity\",\"recommendation\",\"interview\",\"country\",\"atmosphere\",\"insurance\",\"kilometer\",\"activity\",\"price\",\"confidence\",\"energy\",\"airport\",\"flight\",\"card\",\"information\",\"reservation\",\"money\",\"arrangement\",\"accommodation\",\"hotel\",\"kind\",\"hotel\",\"closet\",\"clothes\",\"conclusion\",\"isolation\",\"interest\",\"combination\",\"place\",\"avenue\",\"block\",\"children\",\"proximity\",\"category\",\"phone\",\"hike\",\"index\",\"trading\",\"gain\",\"payment\",\"calculation\",\"computation\",\"market\",\"oil\",\"stock\",\"production\",\"warning\",\"warning\",\"loss\",\"yen\",\"buck\",\"profit\",\"loss\",\"software\",\"hardware\",\"equipment\",\"maker\",\"car\",\"month\",\"gain\",\"earning\",\"water\",\"season\",\"victory\",\"team\",\"sprint\",\"series\",\"defeat\",\"series\",\"sea\",\"food\",\"lobster\",\"food\",\"wine\",\"preparation\",\"archive\",\"year\",\"match\",\"round\",\"round\",\"tournament\",\"defeating\",\"insurance\",\"summer\",\"drought\",\"nature\",\"dawn\",\"environment\",\"ecology\",\"man\",\"woman\",\"governor\",\"manslaughter\",\"opera\",\"performance\",\"lesson\",\"life\",\"crew\",\"film\",\"quarrel\",\"serial\",\"girl\",\"development\",\"importance\",\"marriage\",\"Brazil\",\"equality\",\"attitude\",\"planning\",\"industry\",\"approach\",\"institution\",\"culture\",\"challenge\",\"prominence\",\"citizen\",\"people\",\"issue\",\"music\",\"project\",\"metal\",\"metal\",\"credibility\",\"memorabilia\",\"virtuoso\",\"jazz\",\"theater\",\"architecture\",\"world\",\"world\",\"ticket\",\"thunderstorm\",\"flood\",\"forecast\",\"area\",\"office\",\"century\"],\"cos\":{\"__ndarray__\":\"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\",\"dtype\":\"float64\",\"shape\":[353]},\"index\":[0,1,2,3,4,5,6,7,8,9,10,11,12,13,14,15,16,17,18,19,20,21,22,23,24,25,26,27,28,29,30,31,32,33,34,35,36,37,38,39,40,41,42,43,44,45,46,47,48,49,50,51,52,53,54,55,56,57,58,59,60,61,62,63,64,65,66,67,68,69,70,71,72,73,74,75,76,77,78,79,80,81,82,83,84,85,86,87,88,89,90,91,92,93,94,95,96,97,98,99,100,101,102,103,104,105,106,107,108,109,110,111,112,113,114,115,116,117,118,119,120,121,122,123,124,125,126,127,128,129,130,131,132,133,134,135,136,137,138,139,140,141,142,143,144,145,146,147,148,149,150,151,152,153,154,155,156,157,158,159,160,161,162,163,164,165,166,167,168,169,170,171,172,173,174,175,176,177,178,179,180,181,182,183,184,185,186,187,188,189,190,191,192,193,194,195,196,197,198,199,200,201,202,203,204,205,206,207,208,209,210,211,212,213,214,215,216,217,218,219,220,221,222,223,224,225,226,227,228,229,230,231,232,233,234,235,236,237,238,239,240,241,242,243,244,245,246,247,248,249,250,251,252,253,254,255,256,257,258,259,260,261,262,263,264,265,266,267,268,269,270,271,272,273,274,275,276,277,278,279,280,281,282,283,284,285,286,287,288,289,290,291,292,293,294,295,296,297,298,299,300,301,302,303,304,305,306,307,308,309,310,311,312,313,314,315,316,317,318,319,320,321,322,323,324,325,326,327,328,329,330,331,332,333,334,335,336,337,338,339,340,341,342,343,344,345,346,347,348,349,350,351,352]}},\"id\":\"b8044d7a-2e37-4aa7-9bd5-8f9fe95ab9a5\",\"type\":\"ColumnDataSource\"},{\"attributes\":{},\"id\":\"a61b0359-f959-4d00-b59a-a497401ae6b6\",\"type\":\"LinearScale\"},{\"attributes\":{\"plot\":null,\"text\":\"\"},\"id\":\"65044c09-c4e1-4ef3-9d30-1777ff3150eb\",\"type\":\"Title\"},{\"attributes\":{},\"id\":\"0c107b0f-037b-4562-bfff-f0267213239f\",\"type\":\"LinearScale\"},{\"attributes\":{},\"id\":\"80655e51-475d-4e9b-8e6f-ce51a38936ff\",\"type\":\"HelpTool\"},{\"attributes\":{},\"id\":\"1dc623a2-713a-43df-b289-c1dd18dd5798\",\"type\":\"SaveTool\"},{\"attributes\":{\"formatter\":{\"id\":\"be8f4bfd-37d9-4f62-afbb-18be238f36c1\",\"type\":\"BasicTickFormatter\"},\"plot\":{\"id\":\"33259efb-212d-4189-ac8a-10f27d901044\",\"subtype\":\"Figure\",\"type\":\"Plot\"},\"ticker\":{\"id\":\"702fa2e2-fb98-4e48-af97-42ae5e6c72ee\",\"type\":\"BasicTicker\"}},\"id\":\"80d8baac-de55-498f-af95-d0b5855b3a44\",\"type\":\"LinearAxis\"},{\"attributes\":{\"bottom_units\":\"screen\",\"fill_alpha\":{\"value\":0.5},\"fill_color\":{\"value\":\"lightgrey\"},\"left_units\":\"screen\",\"level\":\"overlay\",\"line_alpha\":{\"value\":1.0},\"line_color\":{\"value\":\"black\"},\"line_dash\":[4,4],\"line_width\":{\"value\":2},\"plot\":null,\"render_mode\":\"css\",\"right_units\":\"screen\",\"top_units\":\"screen\"},\"id\":\"027c87c1-3faf-4ab3-a59f-d53540e66d9d\",\"type\":\"BoxAnnotation\"},{\"attributes\":{\"formatter\":{\"id\":\"ed5bf2ca-9228-4485-85bb-805ee1490c4b\",\"type\":\"BasicTickFormatter\"},\"plot\":{\"id\":\"33259efb-212d-4189-ac8a-10f27d901044\",\"subtype\":\"Figure\",\"type\":\"Plot\"},\"ticker\":{\"id\":\"cff6391c-72f6-4261-83ef-e194014ff490\",\"type\":\"BasicTicker\"}},\"id\":\"ffcf5faa-e543-4578-8919-ab9fe26be8c4\",\"type\":\"LinearAxis\"},{\"attributes\":{\"fill_color\":{\"value\":\"#1f77b4\"},\"line_color\":{\"value\":\"#1f77b4\"},\"x\":{\"field\":\"Human_mean\"},\"y\":{\"field\":\"cos\"}},\"id\":\"a6354753-34d3-442b-a2f2-5fd58a3d657e\",\"type\":\"Circle\"},{\"attributes\":{},\"id\":\"950a6ff7-27bd-453b-bf55-35e8c758d047\",\"type\":\"ResetTool\"},{\"attributes\":{},\"id\":\"ed5bf2ca-9228-4485-85bb-805ee1490c4b\",\"type\":\"BasicTickFormatter\"},{\"attributes\":{\"active_drag\":\"auto\",\"active_inspect\":\"auto\",\"active_scroll\":\"auto\",\"active_tap\":\"auto\",\"tools\":[{\"id\":\"4efc436e-ff47-4c9b-a0de-8c5633dcbc96\",\"type\":\"PanTool\"},{\"id\":\"f4127f20-d8f9-417c-814e-4bf60caa5906\",\"type\":\"WheelZoomTool\"},{\"id\":\"2f5ef652-39e8-467a-bae5-fd9f802c919a\",\"type\":\"BoxZoomTool\"},{\"id\":\"1dc623a2-713a-43df-b289-c1dd18dd5798\",\"type\":\"SaveTool\"},{\"id\":\"950a6ff7-27bd-453b-bf55-35e8c758d047\",\"type\":\"ResetTool\"},{\"id\":\"80655e51-475d-4e9b-8e6f-ce51a38936ff\",\"type\":\"HelpTool\"}]},\"id\":\"f98bccde-262f-411a-bff6-9ab04b04758c\",\"type\":\"Toolbar\"},{\"attributes\":{\"fill_alpha\":{\"value\":0.1},\"fill_color\":{\"value\":\"#1f77b4\"},\"line_alpha\":{\"value\":0.1},\"line_color\":{\"value\":\"#1f77b4\"},\"x\":{\"field\":\"Human_mean\"},\"y\":{\"field\":\"cos\"}},\"id\":\"baf9ba57-91d1-4d01-908c-911636dfd208\",\"type\":\"Circle\"},{\"attributes\":{\"plot\":{\"id\":\"33259efb-212d-4189-ac8a-10f27d901044\",\"subtype\":\"Figure\",\"type\":\"Plot\"},\"ticker\":{\"id\":\"702fa2e2-fb98-4e48-af97-42ae5e6c72ee\",\"type\":\"BasicTicker\"}},\"id\":\"216a6ab4-1868-42b3-b4ff-2f16cd7c9ec4\",\"type\":\"Grid\"},{\"attributes\":{\"callback\":null},\"id\":\"09a59986-9aca-4448-adf4-904295336e06\",\"type\":\"DataRange1d\"}],\"root_ids\":[\"33259efb-212d-4189-ac8a-10f27d901044\"]},\"title\":\"Bokeh Application\",\"version\":\"0.12.13\"}};\n",
       "  var render_items = [{\"docid\":\"5a0a165b-ef3d-4fbb-b1fb-0d4d7d8e415d\",\"elementid\":\"6fac42bb-d578-4e97-bd9b-ff424cc0e6f3\",\"modelid\":\"33259efb-212d-4189-ac8a-10f27d901044\"}];\n",
       "  root.Bokeh.embed.embed_items_notebook(docs_json, render_items);\n",
       "\n",
       "  }\n",
       "  if (root.Bokeh !== undefined) {\n",
       "    embed_document(root);\n",
       "  } else {\n",
       "    var attempts = 0;\n",
       "    var timer = setInterval(function(root) {\n",
       "      if (root.Bokeh !== undefined) {\n",
       "        embed_document(root);\n",
       "        clearInterval(timer);\n",
       "      }\n",
       "      attempts++;\n",
       "      if (attempts > 100) {\n",
       "        console.log(\"Bokeh: ERROR: Unable to run BokehJS code because BokehJS library is missing\")\n",
       "        clearInterval(timer);\n",
       "      }\n",
       "    }, 10, root)\n",
       "  }\n",
       "})(window);"
      ],
      "application/vnd.bokehjs_exec.v0+json": ""
     },
     "metadata": {
      "application/vnd.bokehjs_exec.v0+json": {
       "id": "33259efb-212d-4189-ac8a-10f27d901044"
      }
     },
     "output_type": "display_data"
    }
   ],
   "source": [
    "show(p)"
   ]
  },
  {
   "cell_type": "code",
   "execution_count": null,
   "metadata": {},
   "outputs": [],
   "source": [
    "p.vbar(x = \"Year\", top = \"Value\" , width = 1  , source = source)"
   ]
  },
  {
   "cell_type": "code",
   "execution_count": 104,
   "metadata": {},
   "outputs": [],
   "source": [
    "?df.rename"
   ]
  },
  {
   "cell_type": "code",
   "execution_count": 99,
   "metadata": {},
   "outputs": [
    {
     "ename": "TypeError",
     "evalue": "Index does not support mutable operations",
     "output_type": "error",
     "traceback": [
      "\u001b[0;31m---------------------------------------------------------------------------\u001b[0m",
      "\u001b[0;31mTypeError\u001b[0m                                 Traceback (most recent call last)",
      "\u001b[0;32m<ipython-input-99-79a2f008ec34>\u001b[0m in \u001b[0;36m<module>\u001b[0;34m()\u001b[0m\n\u001b[0;32m----> 1\u001b[0;31m \u001b[0mdf\u001b[0m\u001b[0;34m.\u001b[0m\u001b[0mcolumns\u001b[0m\u001b[0;34m[\u001b[0m\u001b[0;36m3\u001b[0m\u001b[0;34m]\u001b[0m \u001b[0;34m=\u001b[0m \u001b[0;34m\"cos\"\u001b[0m\u001b[0;34m\u001b[0m\u001b[0m\n\u001b[0m",
      "\u001b[0;32m~/anaconda3/lib/python3.5/site-packages/pandas/core/indexes/base.py\u001b[0m in \u001b[0;36m__setitem__\u001b[0;34m(self, key, value)\u001b[0m\n\u001b[1;32m   1722\u001b[0m \u001b[0;34m\u001b[0m\u001b[0m\n\u001b[1;32m   1723\u001b[0m     \u001b[0;32mdef\u001b[0m \u001b[0m__setitem__\u001b[0m\u001b[0;34m(\u001b[0m\u001b[0mself\u001b[0m\u001b[0;34m,\u001b[0m \u001b[0mkey\u001b[0m\u001b[0;34m,\u001b[0m \u001b[0mvalue\u001b[0m\u001b[0;34m)\u001b[0m\u001b[0;34m:\u001b[0m\u001b[0;34m\u001b[0m\u001b[0m\n\u001b[0;32m-> 1724\u001b[0;31m         \u001b[0;32mraise\u001b[0m \u001b[0mTypeError\u001b[0m\u001b[0;34m(\u001b[0m\u001b[0;34m\"Index does not support mutable operations\"\u001b[0m\u001b[0;34m)\u001b[0m\u001b[0;34m\u001b[0m\u001b[0m\n\u001b[0m\u001b[1;32m   1725\u001b[0m \u001b[0;34m\u001b[0m\u001b[0m\n\u001b[1;32m   1726\u001b[0m     \u001b[0;32mdef\u001b[0m \u001b[0m__getitem__\u001b[0m\u001b[0;34m(\u001b[0m\u001b[0mself\u001b[0m\u001b[0;34m,\u001b[0m \u001b[0mkey\u001b[0m\u001b[0;34m)\u001b[0m\u001b[0;34m:\u001b[0m\u001b[0;34m\u001b[0m\u001b[0m\n",
      "\u001b[0;31mTypeError\u001b[0m: Index does not support mutable operations"
     ]
    }
   ],
   "source": [
    "df.columns[3] = \"cos\""
   ]
  },
  {
   "cell_type": "markdown",
   "metadata": {},
   "source": [
    "##### sandbox"
   ]
  },
  {
   "cell_type": "code",
   "execution_count": 82,
   "metadata": {},
   "outputs": [
    {
     "data": {
      "text/plain": [
       "0.1301338095702223"
      ]
     },
     "execution_count": 82,
     "metadata": {},
     "output_type": "execute_result"
    }
   ],
   "source": [
    "model.distance(words[0] , words[1])[0][2]"
   ]
  },
  {
   "cell_type": "code",
   "execution_count": 74,
   "metadata": {},
   "outputs": [
    {
     "data": {
      "text/plain": [
       "['jaguar',\n",
       " 'car',\n",
       " '7.27',\n",
       " '9',\n",
       " '9',\n",
       " '8.5',\n",
       " '8',\n",
       " '4',\n",
       " '8',\n",
       " '7',\n",
       " '7',\n",
       " '8',\n",
       " '9',\n",
       " '4',\n",
       " '5',\n",
       " '8']"
      ]
     },
     "execution_count": 74,
     "metadata": {},
     "output_type": "execute_result"
    }
   ],
   "source": [
    "words"
   ]
  },
  {
   "cell_type": "code",
   "execution_count": 59,
   "metadata": {},
   "outputs": [],
   "source": [
    "model.distance?"
   ]
  },
  {
   "cell_type": "code",
   "execution_count": 60,
   "metadata": {},
   "outputs": [
    {
     "data": {
      "text/plain": [
       "[('England', 'U.K', 0.16466289983579763)]"
      ]
     },
     "execution_count": 60,
     "metadata": {},
     "output_type": "execute_result"
    }
   ],
   "source": [
    "model.distance(\"England\" , \"U.K\")"
   ]
  },
  {
   "cell_type": "code",
   "execution_count": 88,
   "metadata": {},
   "outputs": [
    {
     "name": "stdout",
     "output_type": "stream",
     "text": [
      "[master 3c8281e] done 94\n",
      " 1 file changed, 207 insertions(+), 4 deletions(-)\n"
     ]
    }
   ],
   "source": [
    "%%bash\n",
    "git commit -a -m 'done 94'"
   ]
  },
  {
   "cell_type": "markdown",
   "metadata": {},
   "source": [
    "#### "
   ]
  }
 ],
 "metadata": {
  "kernelspec": {
   "display_name": "Python [default]",
   "language": "python",
   "name": "python3"
  },
  "language_info": {
   "codemirror_mode": {
    "name": "ipython",
    "version": 3
   },
   "file_extension": ".py",
   "mimetype": "text/x-python",
   "name": "python",
   "nbconvert_exporter": "python",
   "pygments_lexer": "ipython3",
   "version": "3.5.4"
  },
  "toc": {
   "colors": {
    "hover_highlight": "#DAA520",
    "navigate_num": "#000000",
    "navigate_text": "#333333",
    "running_highlight": "#FF0000",
    "selected_highlight": "#FFD700",
    "sidebar_border": "#EEEEEE",
    "wrapper_background": "#FFFFFF"
   },
   "moveMenuLeft": true,
   "nav_menu": {
    "height": "12px",
    "width": "252px"
   },
   "navigate_menu": true,
   "number_sections": true,
   "sideBar": true,
   "threshold": 4,
   "toc_cell": false,
   "toc_section_display": "block",
   "toc_window_display": false,
   "widenNotebook": false
  }
 },
 "nbformat": 4,
 "nbformat_minor": 2
}
