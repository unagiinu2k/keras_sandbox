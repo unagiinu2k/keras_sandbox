{
 "cells": [
  {
   "cell_type": "code",
   "execution_count": null,
   "metadata": {},
   "outputs": [],
   "source": [
    "%%bash\n",
    "git add nlp100_90.ipynb"
   ]
  },
  {
   "cell_type": "code",
   "execution_count": null,
   "metadata": {},
   "outputs": [],
   "source": [
    "%%bash\n",
    "git commit -a -m \"added nlp100_90\""
   ]
  },
  {
   "cell_type": "code",
   "execution_count": null,
   "metadata": {},
   "outputs": [],
   "source": [
    "%%bash\n",
    "conda install word2vec"
   ]
  },
  {
   "cell_type": "markdown",
   "metadata": {},
   "source": [
    "**** 0. word2vecによる学習 ****\n",
    "\n",
    "81で作成したコーパスに対してword2vecを適用し，単語ベクトルを学習せよ．さらに，学習した単語ベクトルの形式を変換し，86-89のプログラムを動かせ．"
   ]
  },
  {
   "cell_type": "markdown",
   "metadata": {},
   "source": [
    "[python word2vecパッケージの公式ページ](https://github.com/danielfrg/word2vec)\n",
    "\n",
    "[official example](http://nbviewer.jupyter.org/github/danielfrg/word2vec/blob/master/examples/word2vec.ipynb)"
   ]
  },
  {
   "cell_type": "code",
   "execution_count": 1,
   "metadata": {},
   "outputs": [],
   "source": [
    "import word2vec"
   ]
  },
  {
   "cell_type": "code",
   "execution_count": 2,
   "metadata": {},
   "outputs": [],
   "source": [
    "import codecs"
   ]
  },
  {
   "cell_type": "code",
   "execution_count": 3,
   "metadata": {},
   "outputs": [],
   "source": [
    "fname_output81 = \"nlp100data/output81.txt\""
   ]
  },
  {
   "cell_type": "code",
   "execution_count": 4,
   "metadata": {},
   "outputs": [],
   "source": [
    "fname_phrases90 = 'nlp100data/phrases90.txt'"
   ]
  },
  {
   "cell_type": "code",
   "execution_count": 5,
   "metadata": {},
   "outputs": [],
   "source": [
    "fname_wordvecs90bin = 'nlp100data/wordvecs90.bin'"
   ]
  },
  {
   "cell_type": "code",
   "execution_count": 6,
   "metadata": {},
   "outputs": [],
   "source": [
    "fname_wordvecs90 = 'nlp100data/wordvecs90.txt'"
   ]
  },
  {
   "cell_type": "code",
   "execution_count": 7,
   "metadata": {},
   "outputs": [
    {
     "name": "stdout",
     "output_type": "stream",
     "text": [
      "Starting training using file nlp100data/output81.txt\n",
      "Words processed: 11800K     Vocab size: 4364K  \n",
      "Vocab size (unigrams + bigrams): 2372876\n",
      "Words in train file: 11869261\n",
      "Words written: 11800K\r"
     ]
    }
   ],
   "source": [
    "word2vec.word2phrase(fname_output81 , fname_phrases90 , verbose = True)"
   ]
  },
  {
   "cell_type": "code",
   "execution_count": 8,
   "metadata": {
    "scrolled": true
   },
   "outputs": [
    {
     "name": "stdout",
     "output_type": "stream",
     "text": [
      "Starting training using file nlp100data/phrases90.txt\n",
      "Vocab size: 105991\n",
      "Words in train file: 11192135\n",
      "Alpha: 0.000019  Progress: 99.94%  Words/thread/sec: 543.23k  "
     ]
    }
   ],
   "source": [
    "word2vec.word2vec(train = fname_phrases90 , output = fname_wordvecs90bin , size = 50 , threads = 4 ,  verbose=True)"
   ]
  },
  {
   "cell_type": "code",
   "execution_count": null,
   "metadata": {},
   "outputs": [],
   "source": [
    "word2vec.load?"
   ]
  },
  {
   "cell_type": "code",
   "execution_count": null,
   "metadata": {},
   "outputs": [],
   "source": [
    "%load_ext autoreload\n",
    "%autoreload 2"
   ]
  },
  {
   "cell_type": "code",
   "execution_count": 9,
   "metadata": {},
   "outputs": [],
   "source": [
    "model = word2vec.load(fname = fname_wordvecs90bin)"
   ]
  },
  {
   "cell_type": "markdown",
   "metadata": {},
   "source": [
    "**** 86のword2vec版 ****"
   ]
  },
  {
   "cell_type": "code",
   "execution_count": 10,
   "metadata": {},
   "outputs": [
    {
     "data": {
      "text/plain": [
       "array([-0.06594494, -0.06648544, -0.02266973, -0.26417384,  0.0348038 ,\n",
       "        0.16276203, -0.10152841, -0.20559365,  0.11061635, -0.05128405,\n",
       "       -0.1579421 ,  0.18112618, -0.29654896,  0.11253238, -0.17636853,\n",
       "        0.06542736,  0.20164117,  0.07633649,  0.07534473, -0.24391665,\n",
       "       -0.09185803,  0.06577205, -0.01773164, -0.2031363 ,  0.08185295,\n",
       "       -0.02703902, -0.07227903, -0.06967267, -0.11732481, -0.12979949,\n",
       "       -0.14991304, -0.12434923,  0.23231378,  0.16840932,  0.25385424,\n",
       "        0.11206607,  0.08833051, -0.04896447, -0.00366609,  0.30139831,\n",
       "       -0.04291305,  0.04288597,  0.05653698,  0.11127364, -0.17320317,\n",
       "        0.02737914, -0.10143059, -0.04345994, -0.22382653,  0.08549703])"
      ]
     },
     "execution_count": 10,
     "metadata": {},
     "output_type": "execute_result"
    }
   ],
   "source": [
    "model['United_States']"
   ]
  },
  {
   "cell_type": "markdown",
   "metadata": {},
   "source": [
    "**** 87のword2vec版 ****"
   ]
  },
  {
   "cell_type": "code",
   "execution_count": 14,
   "metadata": {},
   "outputs": [],
   "source": [
    "from scipy.spatial.distance import cosine"
   ]
  },
  {
   "cell_type": "code",
   "execution_count": 11,
   "metadata": {},
   "outputs": [],
   "source": [
    "v0 = model['United_States']"
   ]
  },
  {
   "cell_type": "code",
   "execution_count": 12,
   "metadata": {},
   "outputs": [],
   "source": [
    "v1 = model['U.S']"
   ]
  },
  {
   "cell_type": "markdown",
   "metadata": {},
   "source": [
    "cosine関数の出力は２（逆向き）、１（直行）,0(一致)"
   ]
  },
  {
   "cell_type": "code",
   "execution_count": 15,
   "metadata": {},
   "outputs": [
    {
     "name": "stdout",
     "output_type": "stream",
     "text": [
      "cosine similarity is : 0.13559367595294014\n"
     ]
    }
   ],
   "source": [
    "print(\"cosine similarity is : {}\".format(cosine(v0,v1)))"
   ]
  },
  {
   "cell_type": "markdown",
   "metadata": {},
   "source": [
    "**** 88のword2vec版 ****"
   ]
  },
  {
   "cell_type": "code",
   "execution_count": 16,
   "metadata": {},
   "outputs": [],
   "source": [
    "indices , metrics = model.similar('England')"
   ]
  },
  {
   "cell_type": "code",
   "execution_count": 17,
   "metadata": {},
   "outputs": [
    {
     "data": {
      "text/plain": [
       "array(['Scotland', 'France', 'Spain', 'Italy', 'Ireland', 'Germany',\n",
       "       'Athens', 'Norway', 'Wales', 'Denmark'], dtype='<U78')"
      ]
     },
     "execution_count": 17,
     "metadata": {},
     "output_type": "execute_result"
    }
   ],
   "source": [
    "model.vocab[indices]"
   ]
  },
  {
   "cell_type": "markdown",
   "metadata": {},
   "source": [
    "**** 89のword2vec版 ****"
   ]
  },
  {
   "cell_type": "code",
   "execution_count": 18,
   "metadata": {},
   "outputs": [],
   "source": [
    "indexes, metrics = model.analogy(pos=['Spain', 'Athens'], neg=['Madrid'])"
   ]
  },
  {
   "cell_type": "code",
   "execution_count": 19,
   "metadata": {},
   "outputs": [
    {
     "data": {
      "text/plain": [
       "array(['Scotland', 'France', 'Spain', 'Italy', 'Ireland', 'Germany',\n",
       "       'Athens', 'Norway', 'Wales', 'Denmark'], dtype='<U78')"
      ]
     },
     "execution_count": 19,
     "metadata": {},
     "output_type": "execute_result"
    }
   ],
   "source": [
    "model.vocab[indices]"
   ]
  },
  {
   "cell_type": "code",
   "execution_count": 21,
   "metadata": {},
   "outputs": [
    {
     "name": "stdout",
     "output_type": "stream",
     "text": [
      "Greece : 0.33474457800489593\n",
      "Portugal : 0.33438595937500565\n",
      "Russia : 0.31797912382704324\n",
      "Italy : 0.3117456270663885\n",
      "Hungary : 0.31073009398754203\n",
      "Austria : 0.31002071735408143\n",
      "Egypt : 0.3092890374345109\n",
      "Denmark : 0.3073950638275555\n",
      "France : 0.30542400875021986\n",
      "Poland : 0.3040470604395909\n"
     ]
    }
   ],
   "source": [
    "for idx , mtx in zip(indexes , metrics):\n",
    "    print(\"{} : {}\".format(model.vocab[idx] , mtx))"
   ]
  },
  {
   "cell_type": "markdown",
   "metadata": {},
   "source": [
    "**** sandbox ****"
   ]
  },
  {
   "cell_type": "code",
   "execution_count": null,
   "metadata": {},
   "outputs": [],
   "source": [
    "word2vec.word2vec(train = fname_output81 , output = fname_wordvecs90 , size = 50 , threads = 4 , binary = False , verbose=True)"
   ]
  },
  {
   "cell_type": "code",
   "execution_count": 20,
   "metadata": {},
   "outputs": [
    {
     "name": "stdout",
     "output_type": "stream",
     "text": [
      "[master 57b5cda] 90 done\n",
      " 2 files changed, 243 insertions(+), 147 deletions(-)\n"
     ]
    }
   ],
   "source": [
    "%%bash\n",
    "git commit -a -m \"90 done\""
   ]
  },
  {
   "cell_type": "code",
   "execution_count": null,
   "metadata": {},
   "outputs": [],
   "source": [
    "%%bash\n",
    "pip install word2vec -U"
   ]
  },
  {
   "cell_type": "code",
   "execution_count": null,
   "metadata": {},
   "outputs": [],
   "source": []
  },
  {
   "cell_type": "code",
   "execution_count": null,
   "metadata": {},
   "outputs": [],
   "source": [
    "with codecs.open(fname_phrases90 , 'r' , 'utf-8') as rf:\n",
    "    for i, l in enumerate(rf):\n",
    "        print(l)\n",
    "        if i > 2:\n",
    "            break"
   ]
  },
  {
   "cell_type": "markdown",
   "metadata": {},
   "source": [
    "#### アナロジーデータの準備\n",
    "\n",
    "単語アナロジーの評価データをダウンロードせよ．\n",
    "\n",
    "このデータ中で\": \"で始まる行はセクション名を表す．\n",
    "\n",
    "例えば，\": capital-common-countries\"という行は，\"capital-common-countries\"というセクションの開始を表している．\n",
    "\n",
    "ダウンロードした評価データの中で，\"family\"というセクションに含まれる評価事例を抜き出してファイルに保存せよ．"
   ]
  },
  {
   "cell_type": "markdown",
   "metadata": {},
   "source": [
    "https://github.com/svn2github/word2vec/blob/master/questions-words.txt"
   ]
  },
  {
   "cell_type": "markdown",
   "metadata": {},
   "source": [
    "https://raw.githubusercontent.com/svn2github/word2vec/master/questions-words.txt"
   ]
  },
  {
   "cell_type": "code",
   "execution_count": 22,
   "metadata": {},
   "outputs": [],
   "source": [
    "fname_out91 = 'nlp100data/family91.txt'"
   ]
  },
  {
   "cell_type": "code",
   "execution_count": 35,
   "metadata": {},
   "outputs": [],
   "source": [
    "with open('nlp100data/questions-words.txt', 'rt') as rf , open(fname_out91 , 'wt') as wf:\n",
    "    isOutput = False\n",
    "    toWrite = list()\n",
    "    for l in rf:\n",
    "        if l[0] == \":\":\n",
    "            isOutput = False\n",
    "        \n",
    "        if isOutput:\n",
    "            toWrite.append(l)        \n",
    "        \n",
    "        if l.strip(': \\n') == 'family':\n",
    "            isOutput = True\n",
    "    wf.write(\"\".join(toWrite))\n",
    "    \n",
    "\n",
    "    "
   ]
  },
  {
   "cell_type": "code",
   "execution_count": 36,
   "metadata": {},
   "outputs": [
    {
     "name": "stdout",
     "output_type": "stream",
     "text": [
      "[master f840836] done 91\n",
      " 1 file changed, 108 insertions(+), 3 deletions(-)\n"
     ]
    }
   ],
   "source": [
    "%%bash\n",
    "\n",
    "git commit -a -m \"done 91\""
   ]
  },
  {
   "cell_type": "markdown",
   "metadata": {},
   "source": [
    "#### アナロジーデータへの適用\n",
    "\n",
    "91で作成した評価データの各事例に対して，vec(2列目の単語) - vec(1列目の単語) + vec(3列目の単語)を計算し，そのベクトルと類似度が最も高い単語と，その類似度を求めよ．\n",
    "\n",
    "求めた単語と類似度は，各事例の末尾に追記せよ．\n",
    "\n",
    "このプログラムを85で作成した単語ベクトル，90で作成した単語ベクトルに対して適用せよ．"
   ]
  },
  {
   "cell_type": "code",
   "execution_count": 46,
   "metadata": {},
   "outputs": [],
   "source": [
    "fname_out92 = 'nlp100data/out92.txt'"
   ]
  },
  {
   "cell_type": "code",
   "execution_count": 37,
   "metadata": {},
   "outputs": [],
   "source": [
    "model = word2vec.load(fname = fname_wordvecs90bin)"
   ]
  },
  {
   "cell_type": "code",
   "execution_count": 54,
   "metadata": {},
   "outputs": [],
   "source": [
    "with open(fname_out91 , 'rt') as rf , open(fname_out92 , 'wt') as wf:\n",
    "    toWrite = list()\n",
    "    for l in rf:\n",
    "        words = l.strip('\\n').split(' ')\n",
    "        try:\n",
    "            indexes, metrics = model.analogy(pos=[words[1] , words[2]], neg=[words[0]] , n = 1)\n",
    "            found_word = model.vocab[indexes][0]\n",
    "            metric = metrics[0]\n",
    "        except:\n",
    "            found_word = \"\"\n",
    "            metric = \"NaN\"\n",
    "            \n",
    "        toWrite.append(\"{} {} {}\\n\".format(l.strip('\\n') , found_word , metric))\n",
    "    wf.write(\"\".join(toWrite))\n",
    "        \n",
    "    "
   ]
  },
  {
   "cell_type": "code",
   "execution_count": 41,
   "metadata": {},
   "outputs": [
    {
     "data": {
      "text/plain": [
       "['uncle', 'aunt', 'stepson', 'stepdaughter']"
      ]
     },
     "execution_count": 41,
     "metadata": {},
     "output_type": "execute_result"
    }
   ],
   "source": [
    "l.strip('\\n').split(' ')"
   ]
  },
  {
   "cell_type": "code",
   "execution_count": 45,
   "metadata": {},
   "outputs": [
    {
     "data": {
      "text/plain": [
       "\"boy girl brother sister ['father'] [0.2926761]\""
      ]
     },
     "execution_count": 45,
     "metadata": {},
     "output_type": "execute_result"
    }
   ],
   "source": [
    "toWrite[0]"
   ]
  },
  {
   "cell_type": "code",
   "execution_count": 53,
   "metadata": {},
   "outputs": [
    {
     "data": {
      "text/plain": [
       "\"boy girl brother sister father 0.29267610246189557\\nboy girl brothers sisters sisters 0.30758659561086826\\nboy girl dad mom true_identity 0.3137846475140919\\nboy girl father mother mother 0.3260966208361635\\nboy girl grandfather grandmother aunt 0.31050488249650177\\nboy girl grandpa grandma  NaN\\nboy girl grandson granddaughter granddaughter 0.30391523970755957\\nboy girl groom bride beggar 0.288017598104369\\nboy girl he she she 0.29396291634185273\\nboy girl his her her 0.2803502048576229\\nboy girl husband wife wife 0.31694279532512104\\nboy girl king queen prince 0.3026708516231052\\nboy girl man woman woman 0.31428967859319784\\nboy girl nephew niece grandfather 0.3050557098879809\\nboy girl policeman policewoman maniac 0.2911002306338485\\nboy girl prince princess princess 0.29666532465177214\\nboy girl son daughter daughter 0.31710884276801876\\nboy girl sons daughters daughters 0.3133783700514232\\nboy girl stepbrother stepsister  NaN\\nboy girl stepfather stepmother aunt 0.3114567055578972\\nboy girl stepson stepdaughter Halberg 0.29049862041051344\\nboy girl uncle aunt aunt 0.307802947255007\\nbrother sister brothers sisters sisters 0.33230226304405786\\nbrother sister dad mom twin_sister 0.3346917282856489\\nbrother sister father mother mother 0.32483503170643235\\nbrother sister grandfather grandmother aunt 0.3163305488763056\\nbrother sister grandpa grandma  NaN\\nbrother sister grandson granddaughter eldest_daughter 0.2927942492732012\\nbrother sister groom bride beggar 0.30660492042530646\\nbrother sister he she she 0.2786869245318878\\nbrother sister his her her 0.28485129364903455\\nbrother sister husband wife daughter 0.3090053301546095\\nbrother sister king queen queen 0.2405702872713105\\nbrother sister man woman woman 0.30010638235245835\\nbrother sister nephew niece aunt 0.29957024387131004\\nbrother sister policeman policewoman little_girl 0.3024133750323846\\nbrother sister prince princess queen 0.27573758067125975\\nbrother sister son daughter daughter 0.32486607448768406\\nbrother sister sons daughters daughters 0.3361336054994372\\nbrother sister stepbrother stepsister  NaN\\nbrother sister stepfather stepmother twin_sister 0.33686885303900044\\nbrother sister stepson stepdaughter Flint_Michigan 0.31760744852216294\\nbrother sister uncle aunt aunt 0.31362861363481076\\nbrother sister boy girl girl 0.3273494525699885\\nbrothers sisters dad mom boyfriend 0.35190395266133084\\nbrothers sisters father mother mother 0.3349662719717682\\nbrothers sisters grandfather grandmother grandmother 0.3373120585676106\\nbrothers sisters grandpa grandma  NaN\\nbrothers sisters grandson granddaughter granddaughter 0.3194142522382766\\nbrothers sisters groom bride bride 0.3207475159598887\\nbrothers sisters he she she 0.3103434574168944\\nbrothers sisters his her her 0.31961226706664647\\nbrothers sisters husband wife wife 0.3371136186405923\\nbrothers sisters king queen prince 0.29463967986694206\\nbrothers sisters man woman woman 0.32718778583930663\\nbrothers sisters nephew niece grandfather 0.3198325495689145\\nbrothers sisters policeman policewoman little_girl 0.312619765704888\\nbrothers sisters prince princess queen 0.3147867547784161\\nbrothers sisters son daughter daughter 0.32995417516147363\\nbrothers sisters sons daughters daughters 0.33379886070744486\\nbrothers sisters stepbrother stepsister  NaN\\nbrothers sisters stepfather stepmother fiance 0.3315032212105567\\nbrothers sisters stepson stepdaughter Susannah 0.31366007877997826\\nbrothers sisters uncle aunt aunt 0.32599297497016405\\nbrothers sisters boy girl girl 0.3499440807524316\\nbrothers sisters brother sister grandmother 0.31489451267434304\\ndad mom father mother brother 0.2598314027719692\\ndad mom grandfather grandmother half-brother 0.2972995706302851\\ndad mom grandpa grandma  NaN\\ndad mom grandson granddaughter 1st_Earl 0.31336259907896236\\ndad mom groom bride Mansbridge_Academy 0.3089408560205928\\ndad mom he she she 0.23723184470387856\\ndad mom his her his_father's 0.24654315962816953\\ndad mom husband wife wife 0.26927007286503646\\ndad mom king queen emperor 0.27050075941579693\\ndad mom man woman demon 0.2403178220943397\\ndad mom nephew niece 1st_Earl 0.30626606069436274\\ndad mom policeman policewoman fly_ball 0.31858532473829554\\ndad mom prince princess Sultan 0.2860637384776087\\ndad mom son daughter Earl 0.27144260550463273\\ndad mom sons daughters daughters 0.2846760018271799\\ndad mom stepbrother stepsister  NaN\\ndad mom stepfather stepmother youngest_daughter 0.3056646718102437\\ndad mom stepson stepdaughter Arvo 0.35659194011921924\\ndad mom uncle aunt half-brother 0.3003331317569506\\ndad mom boy girl girl 0.2653065798135801\\ndad mom brother sister half-brother 0.2757988290822674\\ndad mom brothers sisters sisters 0.274788963801131\\nfather mother grandfather grandmother grandmother 0.30993153579293586\\nfather mother grandpa grandma  NaN\\nfather mother grandson granddaughter granddaughter 0.30937973395152796\\nfather mother groom bride beggar 0.30471001909981565\\nfather mother he she she 0.28148236367953794\\nfather mother his her her 0.29817840644993593\\nfather mother husband wife wife 0.3349804418247491\\nfather mother king queen prince 0.29315112950496136\\nfather mother man woman woman 0.32462278856657817\\nfather mother nephew niece niece 0.311390483337126\\nfather mother policeman policewoman prostitute 0.3072342353166459\\nfather mother prince princess queen 0.30468900124949877\\nfather mother son daughter daughter 0.3367836245466251\\nfather mother sons daughters daughters 0.3295246447809175\\nfather mother stepbrother stepsister  NaN\\nfather mother stepfather stepmother aunt 0.31052954187239074\\nfather mother stepson stepdaughter Halberg 0.3096953852221469\\nfather mother uncle aunt aunt 0.30687578356950046\\nfather mother boy girl girl 0.3455284912038814\\nfather mother brother sister wife 0.3007810945826794\\nfather mother brothers sisters sisters 0.32499675571028247\\nfather mother dad mom boyfriend 0.32217160312283494\\ngrandfather grandmother grandpa grandma  NaN\\ngrandfather grandmother grandson granddaughter cousin 0.2935426025896795\\ngrandfather grandmother groom bride stranger 0.3380032904257995\\ngrandfather grandmother he she she 0.3093040544989734\\ngrandfather grandmother his her her 0.3142415903558797\\ngrandfather grandmother husband wife baby 0.32213131288269037\\ngrandfather grandmother king queen prince 0.3017913964906708\\ngrandfather grandmother man woman girl 0.3441219858419562\\ngrandfather grandmother nephew niece best_friend 0.2970053492179844\\ngrandfather grandmother policeman policewoman little_girl 0.3344269912367152\\ngrandfather grandmother prince princess princess 0.3162865800130807\\ngrandfather grandmother son daughter daughter 0.3142741367481294\\ngrandfather grandmother sons daughters daughters 0.3320056254430176\\ngrandfather grandmother stepbrother stepsister  NaN\\ngrandfather grandmother stepfather stepmother dad 0.3227435608328947\\ngrandfather grandmother stepson stepdaughter 13-year-old 0.30217637084640436\\ngrandfather grandmother uncle aunt best_friend 0.3023882408349096\\ngrandfather grandmother boy girl girl 0.37209977898409524\\ngrandfather grandmother brother sister father 0.29339197152167307\\ngrandfather grandmother brothers sisters sisters 0.32314182519134466\\ngrandfather grandmother dad mom Kamimura 0.350401111019214\\ngrandfather grandmother father mother mother 0.32771012653846543\\ngrandpa grandma grandson granddaughter  NaN\\ngrandpa grandma groom bride  NaN\\ngrandpa grandma he she  NaN\\ngrandpa grandma his her  NaN\\ngrandpa grandma husband wife  NaN\\ngrandpa grandma king queen  NaN\\ngrandpa grandma man woman  NaN\\ngrandpa grandma nephew niece  NaN\\ngrandpa grandma policeman policewoman  NaN\\ngrandpa grandma prince princess  NaN\\ngrandpa grandma son daughter  NaN\\ngrandpa grandma sons daughters  NaN\\ngrandpa grandma stepbrother stepsister  NaN\\ngrandpa grandma stepfather stepmother  NaN\\ngrandpa grandma stepson stepdaughter  NaN\\ngrandpa grandma uncle aunt  NaN\\ngrandpa grandma boy girl  NaN\\ngrandpa grandma brother sister  NaN\\ngrandpa grandma brothers sisters  NaN\\ngrandpa grandma dad mom  NaN\\ngrandpa grandma father mother  NaN\\ngrandpa grandma grandfather grandmother  NaN\\ngrandson granddaughter groom bride beggar 0.31981266287261595\\ngrandson granddaughter he she she 0.32107452664701086\\ngrandson granddaughter his her her 0.30745159406209016\\ngrandson granddaughter husband wife wife 0.3181489401219272\\ngrandson granddaughter king queen prince 0.28007654855998704\\ngrandson granddaughter man woman girl 0.32055393258813636\\ngrandson granddaughter nephew niece niece 0.3216382555810157\\ngrandson granddaughter policeman policewoman young_girl 0.32680934205691015\\ngrandson granddaughter prince princess princess 0.29878400450906273\\ngrandson granddaughter son daughter daughter 0.31464026873316625\\ngrandson granddaughter sons daughters daughters 0.3059670118000325\\ngrandson granddaughter stepbrother stepsister  NaN\\ngrandson granddaughter stepfather stepmother ex-wife 0.3439460197556833\\ngrandson granddaughter stepson stepdaughter Sanjay 0.3382214195605179\\ngrandson granddaughter uncle aunt aunt 0.32161319064619975\\ngrandson granddaughter boy girl girl 0.3485317257302754\\ngrandson granddaughter brother sister friend 0.3094178467719406\\ngrandson granddaughter brothers sisters sisters 0.30637863382835745\\ngrandson granddaughter dad mom boyfriend 0.3517385592722064\\ngrandson granddaughter father mother mother 0.33405732533178917\\ngrandson granddaughter grandfather grandmother younger_sister 0.32665599858612665\\ngrandson granddaughter grandpa grandma  NaN\\ngroom bride he she she 0.25978382756702045\\ngroom bride his her her 0.27001687854373124\\ngroom bride husband wife wife 0.34732359944719454\\ngroom bride king queen prince 0.34505294998220803\\ngroom bride man woman woman 0.3087786867378226\\ngroom bride nephew niece grandfather 0.35783531604512786\\ngroom bride policeman policewoman lady 0.2794580254556625\\ngroom bride prince princess king 0.3410415551722961\\ngroom bride son daughter daughter 0.3541412664323035\\ngroom bride sons daughters daughters 0.3659773478535998\\ngroom bride stepbrother stepsister  NaN\\ngroom bride stepfather stepmother aunt 0.34051491771403736\\ngroom bride stepson stepdaughter Grand_Duchess 0.29487505139416104\\ngroom bride uncle aunt grandfather 0.3576008307784751\\ngroom bride boy girl girl 0.31693291762644676\\ngroom bride brother sister father 0.3418468203732666\\ngroom bride brothers sisters sons 0.3468537445363401\\ngroom bride dad mom grandmother 0.3381549363733663\\ngroom bride father mother mother 0.3570733754797982\\ngroom bride grandfather grandmother uncle 0.3522662415821293\\ngroom bride grandpa grandma  NaN\\ngroom bride grandson granddaughter eldest_son 0.3588328988988531\\nhe she his her her 0.3491091809166297\\nhe she husband wife wife 0.3490652224201477\\nhe she king queen prince 0.28683152673476947\\nhe she man woman girl 0.34485389441041836\\nhe she nephew niece niece 0.3358664153453433\\nhe she policeman policewoman little_girl 0.33545709556682707\\nhe she prince princess princess 0.32170546708134623\\nhe she son daughter daughter 0.3500103359687599\\nhe she sons daughters sisters 0.3277599748399204\\nhe she stepbrother stepsister  NaN\\nhe she stepfather stepmother twin_sister 0.3402369972138826\\nhe she stepson stepdaughter nanny 0.3328176105860661\\nhe she uncle aunt aunt 0.332962437139021\\nhe she boy girl girl 0.37283168755255747\\nhe she brother sister mother 0.3191486992931776\\nhe she brothers sisters sisters 0.3412226824167057\\nhe she dad mom mum 0.3558483552397279\\nhe she father mother mother 0.356163216590299\\nhe she grandfather grandmother younger_sister 0.33943250403289\\nhe she grandpa grandma  NaN\\nhe she grandson granddaughter niece 0.327181860994329\\nhe she groom bride maid 0.32578858693943924\\nhis her husband wife wife 0.3445401942471567\\nhis her king queen prince 0.2923234376362142\\nhis her man woman girl 0.35585475713173476\\nhis her nephew niece niece 0.33176431745942003\\nhis her policeman policewoman little_girl 0.349974062440637\\nhis her prince princess princess 0.32638992831538355\\nhis her son daughter daughter 0.35536056721575\\nhis her sons daughters daughters 0.3327178625701426\\nhis her stepbrother stepsister  NaN\\nhis her stepfather stepmother twin_sister 0.34845795905333077\\nhis her stepson stepdaughter nanny 0.3369042236401566\\nhis her uncle aunt aunt 0.340193771583861\\nhis her boy girl girl 0.38383255027387386\\nhis her brother sister mother 0.33355474984384653\\nhis her brothers sisters sisters 0.3433048833041888\\nhis her dad mom mum 0.3680033847410631\\nhis her father mother mother 0.370569267140968\\nhis her grandfather grandmother younger_sister 0.3442751583974931\\nhis her grandpa grandma  NaN\\nhis her grandson granddaughter granddaughter 0.3260105711505408\\nhis her groom bride beggar 0.3365869712195607\\nhis her he she she 0.3455053481425754\\nhusband wife king queen prince 0.31735551600719303\\nhusband wife man woman woman 0.29677900507796784\\nhusband wife nephew niece grandson 0.3223916876736344\\nhusband wife policeman policewoman mysterious_man 0.2773140630351879\\nhusband wife prince princess king 0.32417143981279056\\nhusband wife son daughter daughter 0.32738207923675583\\nhusband wife sons daughters daughters 0.3263581211831051\\nhusband wife stepbrother stepsister  NaN\\nhusband wife stepfather stepmother stepmother 0.28707711647710404\\nhusband wife stepson stepdaughter Assisi 0.2982799023991849\\nhusband wife uncle aunt grandfather 0.31852130948638546\\nhusband wife boy girl girl 0.3015020824071041\\nhusband wife brother sister son 0.31889599349180975\\nhusband wife brothers sisters sons 0.31804391667901916\\nhusband wife dad mom grandmother 0.2888706087358879\\nhusband wife father mother mother 0.3145021910290572\\nhusband wife grandfather grandmother grandson 0.3191615696479743\\nhusband wife grandpa grandma  NaN\\nhusband wife grandson granddaughter eldest_son 0.3301262140693911\\nhusband wife groom bride beggar 0.26623072711542495\\nhusband wife he she she 0.2790900137319432\\nhusband wife his her his_father's 0.2958752292613874\\nking queen man woman girl 0.3924505511006439\\nking queen nephew niece niece 0.415760652392009\\nking queen policeman policewoman little_girl 0.3848673563262421\\nking queen prince princess grandmother 0.3424198665290496\\nking queen son daughter daughter 0.3972531125368183\\nking queen sons daughters daughters 0.387849293158726\\nking queen stepbrother stepsister  NaN\\nking queen stepfather stepmother younger_sister 0.4218627129275527\\nking queen stepson stepdaughter Meltzer 0.41038223699066523\\nking queen uncle aunt younger_sister 0.4131369486165359\\nking queen boy girl girl 0.42042834424278297\\nking queen brother sister sister 0.39709138374460773\\nking queen brothers sisters sisters 0.39709327153067653\\nking queen dad mom boyfriend 0.4369421074809234\\nking queen father mother mother 0.39609094663179567\\nking queen grandfather grandmother younger_sister 0.4256188392001856\\nking queen grandpa grandma  NaN\\nking queen grandson granddaughter niece 0.40707609804099465\\nking queen groom bride maid 0.38836191561280986\\nking queen he she she 0.30501503762228893\\nking queen his her her 0.3196207608739769\\nking queen husband wife younger_sister 0.408850929055906\\nman woman nephew niece grandfather 0.3232069014953999\\nman woman policeman policewoman nun 0.30433672072808915\\nman woman prince princess queen 0.3082552669419905\\nman woman son daughter daughter 0.35205628602982547\\nman woman sons daughters daughters 0.32482030063330897\\nman woman stepbrother stepsister  NaN\\nman woman stepfather stepmother aunt 0.31985988013109734\\nman woman stepson stepdaughter Chamani 0.32845480080962225\\nman woman uncle aunt grandfather 0.32297241622874706\\nman woman boy girl girl 0.3232755515169382\\nman woman brother sister sister 0.3138366605426306\\nman woman brothers sisters sisters 0.3229433584594716\\nman woman dad mom boyfriend 0.3176972536798685\\nman woman father mother mother 0.34014627837939887\\nman woman grandfather grandmother aunt 0.31890805706970204\\nman woman grandpa grandma  NaN\\nman woman grandson granddaughter granddaughter 0.3237870210581275\\nman woman groom bride beggar 0.2982257100615385\\nman woman he she she 0.2892102982068286\\nman woman his her her 0.2889335559660863\\nman woman husband wife wife 0.34035083719739706\\nman woman king queen prince 0.29541612335700573\\nnephew niece policeman policewoman maniac 0.3454511717134695\\nnephew niece prince princess queen 0.3091128465127856\\nnephew niece son daughter daughter 0.32936276029378303\\nnephew niece sons daughters daughters 0.3130587000853702\\nnephew niece stepbrother stepsister  NaN\\nnephew niece stepfather stepmother Caitlin 0.32874248640756126\\nnephew niece stepson stepdaughter Kernochan 0.34995933510310123\\nnephew niece uncle aunt younger_sister 0.31336775419391655\\nnephew niece boy girl girl 0.35683678540805175\\nnephew niece brother sister Fanny 0.29318082756333036\\nnephew niece brothers sisters sisters 0.3096314191164932\\nnephew niece dad mom mum 0.35110060304720225\\nnephew niece father mother mother 0.31900550404638084\\nnephew niece grandfather grandmother younger_sister 0.3258496447775663\\nnephew niece grandpa grandma  NaN\\nnephew niece grandson granddaughter granddaughter 0.31998910444571654\\nnephew niece groom bride Carmella 0.3315097320812148\\nnephew niece he she she 0.2946287333594177\\nnephew niece his her her 0.3138759497122885\\nnephew niece husband wife wife 0.3261271014000265\\nnephew niece king queen prince 0.2779248415744213\\nnephew niece man woman girl 0.3288589922659127\\npoliceman policewoman prince princess  NaN\\npoliceman policewoman son daughter  NaN\\npoliceman policewoman sons daughters  NaN\\npoliceman policewoman stepbrother stepsister  NaN\\npoliceman policewoman stepfather stepmother  NaN\\npoliceman policewoman stepson stepdaughter  NaN\\npoliceman policewoman uncle aunt  NaN\\npoliceman policewoman boy girl  NaN\\npoliceman policewoman brother sister  NaN\\npoliceman policewoman brothers sisters  NaN\\npoliceman policewoman dad mom  NaN\\npoliceman policewoman father mother  NaN\\npoliceman policewoman grandfather grandmother  NaN\\npoliceman policewoman grandpa grandma  NaN\\npoliceman policewoman grandson granddaughter  NaN\\npoliceman policewoman groom bride  NaN\\npoliceman policewoman he she  NaN\\npoliceman policewoman his her  NaN\\npoliceman policewoman husband wife  NaN\\npoliceman policewoman king queen  NaN\\npoliceman policewoman man woman  NaN\\npoliceman policewoman nephew niece  NaN\\nprince princess son daughter daughter 0.3272224884089112\\nprince princess sons daughters daughters 0.3189180801844293\\nprince princess stepbrother stepsister  NaN\\nprince princess stepfather stepmother boyfriend 0.3575101716253035\\nprince princess stepson stepdaughter Stella 0.3401115759511256\\nprince princess uncle aunt older_brother 0.3404041359210026\\nprince princess boy girl girl 0.3667660889517851\\nprince princess brother sister friend 0.328026673776856\\nprince princess brothers sisters sisters 0.32758900330818064\\nprince princess dad mom boyfriend 0.38177935747800074\\nprince princess father mother mother 0.3292271465269489\\nprince princess grandfather grandmother younger_sister 0.3509384557560592\\nprince princess grandpa grandma  NaN\\nprince princess grandson granddaughter granddaughter 0.3316020194793701\\nprince princess groom bride Kavita 0.3373280195377872\\nprince princess he she she 0.3209309906508751\\nprince princess his her her 0.32064876304362444\\nprince princess husband wife boyfriend 0.34404259741084436\\nprince princess king queen queen 0.26621207615795506\\nprince princess man woman girl 0.3387882958096459\\nprince princess nephew niece older_brother 0.3441837457504967\\nprince princess policeman policewoman prostitute 0.34585503476833995\\nson daughter sons daughters daughters 0.3196433303602602\\nson daughter stepbrother stepsister  NaN\\nson daughter stepfather stepmother aunt 0.3198304608482507\\nson daughter stepson stepdaughter Meltzer 0.31302992318263545\\nson daughter uncle aunt aunt 0.3161767025453605\\nson daughter boy girl girl 0.34724709845264945\\nson daughter brother sister sister 0.3034487561123407\\nson daughter brothers sisters sisters 0.32485796481870965\\nson daughter dad mom boyfriend 0.33426959491700975\\nson daughter father mother mother 0.3382000455098479\\nson daughter grandfather grandmother aunt 0.3188786377868553\\nson daughter grandpa grandma  NaN\\nson daughter grandson granddaughter granddaughter 0.31209237448131755\\nson daughter groom bride beggar 0.308519799109764\\nson daughter he she she 0.31545667663640187\\nson daughter his her her 0.3035674318187749\\nson daughter husband wife wife 0.3257788433737048\\nson daughter king queen prince 0.2756040261983737\\nson daughter man woman girl 0.31926930531051034\\nson daughter nephew niece niece 0.3169519245894834\\nson daughter policeman policewoman prostitute 0.3098364958865449\\nson daughter prince princess princess 0.297779703372219\\nsons daughters stepbrother stepsister  NaN\\nsons daughters stepfather stepmother ex-wife 0.33012106889993925\\nsons daughters stepson stepdaughter Meltzer 0.3210054543503519\\nsons daughters uncle aunt aunt 0.3150505711285666\\nsons daughters boy girl girl 0.3316316428146735\\nsons daughters brother sister friend 0.29729350986373276\\nsons daughters brothers sisters sisters 0.3222393653263315\\nsons daughters dad mom boyfriend 0.3378949216879646\\nsons daughters father mother mother 0.32279928144478426\\nsons daughters grandfather grandmother aunt 0.31775250637006147\\nsons daughters grandpa grandma  NaN\\nsons daughters grandson granddaughter granddaughter 0.30898008079576056\\nsons daughters groom bride beggar 0.30033276606562065\\nsons daughters he she she 0.28188152596500127\\nsons daughters his her her 0.2661805949022584\\nsons daughters husband wife wife 0.3144577970274521\\nsons daughters king queen prince 0.272070202938274\\nsons daughters man woman girl 0.3036538496725343\\nsons daughters nephew niece older_brother 0.31286747851165186\\nsons daughters policeman policewoman maniac 0.30771358957669537\\nsons daughters prince princess princess 0.2827999657595635\\nsons daughters son daughter daughter 0.3134657001070444\\nstepbrother stepsister stepfather stepmother  NaN\\nstepbrother stepsister stepson stepdaughter  NaN\\nstepbrother stepsister uncle aunt  NaN\\nstepbrother stepsister boy girl  NaN\\nstepbrother stepsister brother sister  NaN\\nstepbrother stepsister brothers sisters  NaN\\nstepbrother stepsister dad mom  NaN\\nstepbrother stepsister father mother  NaN\\nstepbrother stepsister grandfather grandmother  NaN\\nstepbrother stepsister grandpa grandma  NaN\\nstepbrother stepsister grandson granddaughter  NaN\\nstepbrother stepsister groom bride  NaN\\nstepbrother stepsister he she  NaN\\nstepbrother stepsister his her  NaN\\nstepbrother stepsister husband wife  NaN\\nstepbrother stepsister king queen  NaN\\nstepbrother stepsister man woman  NaN\\nstepbrother stepsister nephew niece  NaN\\nstepbrother stepsister policeman policewoman  NaN\\nstepbrother stepsister prince princess  NaN\\nstepbrother stepsister son daughter  NaN\\nstepbrother stepsister sons daughters  NaN\\nstepfather stepmother stepson stepdaughter Vasquez 0.3491258827611725\\nstepfather stepmother uncle aunt half-brother 0.31611221095715925\\nstepfather stepmother boy girl girl 0.2788560236392377\\nstepfather stepmother brother sister cousin 0.297867193729104\\nstepfather stepmother brothers sisters sisters 0.3150738970030554\\nstepfather stepmother dad mom true_identity 0.3072556256326726\\nstepfather stepmother father mother brother 0.29554943456493177\\nstepfather stepmother grandfather grandmother eldest_son 0.3161590476416685\\nstepfather stepmother grandpa grandma  NaN\\nstepfather stepmother grandson granddaughter eldest_son 0.32793518524383264\\nstepfather stepmother groom bride raping 0.27729457254924217\\nstepfather stepmother he she she 0.2519823678077582\\nstepfather stepmother his her his_father's 0.2676069401241708\\nstepfather stepmother husband wife wife 0.31884692823153576\\nstepfather stepmother king queen prince 0.31162108404946504\\nstepfather stepmother man woman woman 0.2632395936115958\\nstepfather stepmother nephew niece younger_son 0.32501938615203263\\nstepfather stepmother policeman policewoman 19-year-old 0.2983989221565149\\nstepfather stepmother prince princess Emperor 0.31098737601202847\\nstepfather stepmother son daughter daughter 0.30726245558118176\\nstepfather stepmother sons daughters daughters 0.31458373218209934\\nstepfather stepmother stepbrother stepsister  NaN\\nstepson stepdaughter uncle aunt best_friend 0.29475257653667686\\nstepson stepdaughter boy girl dinner 0.317817347298838\\nstepson stepdaughter brother sister wedding 0.2902408130947397\\nstepson stepdaughter brothers sisters sisters 0.32988348151880775\\nstepson stepdaughter dad mom cries 0.34335390799539806\\nstepson stepdaughter father mother wedding 0.3087044978133982\\nstepson stepdaughter grandfather grandmother grandmother 0.30591724198725684\\nstepson stepdaughter grandpa grandma  NaN\\nstepson stepdaughter grandson granddaughter Catherine 0.2940926767672879\\nstepson stepdaughter groom bride B-Fool 0.3128900192802654\\nstepson stepdaughter he she she 0.30383669440792316\\nstepson stepdaughter his her her 0.3387011118289157\\nstepson stepdaughter husband wife wedding 0.31482242798059046\\nstepson stepdaughter king queen throne 0.28039545510756464\\nstepson stepdaughter man woman boy 0.2894523259890945\\nstepson stepdaughter nephew niece Catherine 0.30136398790003954\\nstepson stepdaughter policeman policewoman Lo_Pan 0.28604466164953996\\nstepson stepdaughter prince princess king 0.2782560892744512\\nstepson stepdaughter son daughter wife 0.2813959129875302\\nstepson stepdaughter sons daughters sisters 0.31642077394202234\\nstepson stepdaughter stepbrother stepsister  NaN\\nstepson stepdaughter stepfather stepmother co-workers 0.3137877407126672\\nuncle aunt boy girl girl 0.3422403301878612\\nuncle aunt brother sister sister 0.2943372370255038\\nuncle aunt brothers sisters sisters 0.3102978126174244\\nuncle aunt dad mom kissing 0.3388315905324894\\nuncle aunt father mother mother 0.32716571604219463\\nuncle aunt grandfather grandmother grandmother 0.30877377146474355\\nuncle aunt grandpa grandma  NaN\\nuncle aunt grandson granddaughter granddaughter 0.296024059694209\\nuncle aunt groom bride beggar 0.3123832520109298\\nuncle aunt he she she 0.3049348395739611\\nuncle aunt his her her 0.30778470736173497\\nuncle aunt husband wife lover 0.3074158580639344\\nuncle aunt king queen prince 0.26054458184378165\\nuncle aunt man woman girl 0.31426253704572216\\nuncle aunt nephew niece niece 0.3021543343061142\\nuncle aunt policeman policewoman maniac 0.312348276816757\\nuncle aunt prince princess queen 0.27946292955751884\\nuncle aunt son daughter daughter 0.2962598197961336\\nuncle aunt sons daughters daughters 0.30554976199778244\\nuncle aunt stepbrother stepsister  NaN\\nuncle aunt stepfather stepmother ex-wife 0.3238786416522473\\nuncle aunt stepson stepdaughter Flint_Michigan 0.3173766900936461\\n\""
      ]
     },
     "execution_count": 53,
     "metadata": {},
     "output_type": "execute_result"
    }
   ],
   "source": [
    "\"\".join(toWrite)"
   ]
  },
  {
   "cell_type": "code",
   "execution_count": null,
   "metadata": {},
   "outputs": [],
   "source": [
    "%%bash\n",
    "git commit -a "
   ]
  }
 ],
 "metadata": {
  "kernelspec": {
   "display_name": "Python [default]",
   "language": "python",
   "name": "python3"
  },
  "language_info": {
   "codemirror_mode": {
    "name": "ipython",
    "version": 3
   },
   "file_extension": ".py",
   "mimetype": "text/x-python",
   "name": "python",
   "nbconvert_exporter": "python",
   "pygments_lexer": "ipython3",
   "version": "3.5.4"
  },
  "toc": {
   "colors": {
    "hover_highlight": "#DAA520",
    "navigate_num": "#000000",
    "navigate_text": "#333333",
    "running_highlight": "#FF0000",
    "selected_highlight": "#FFD700",
    "sidebar_border": "#EEEEEE",
    "wrapper_background": "#FFFFFF"
   },
   "moveMenuLeft": true,
   "nav_menu": {
    "height": "12px",
    "width": "252px"
   },
   "navigate_menu": true,
   "number_sections": true,
   "sideBar": true,
   "threshold": 4,
   "toc_cell": false,
   "toc_section_display": "block",
   "toc_window_display": false,
   "widenNotebook": false
  }
 },
 "nbformat": 4,
 "nbformat_minor": 2
}
