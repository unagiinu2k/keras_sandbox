{
 "cells": [
  {
   "cell_type": "code",
   "execution_count": 1,
   "metadata": {},
   "outputs": [],
   "source": [
    "%%bash\n",
    "git add nlp100_90.ipynb"
   ]
  },
  {
   "cell_type": "code",
   "execution_count": 2,
   "metadata": {},
   "outputs": [
    {
     "name": "stdout",
     "output_type": "stream",
     "text": [
      "[master f4715ff] added nlp100_90\n",
      " 2 files changed, 85 insertions(+)\n",
      " create mode 100644 nlp100_90.ipynb\n"
     ]
    }
   ],
   "source": [
    "%%bash\n",
    "git commit -a -m \"added nlp100_90\""
   ]
  },
  {
   "cell_type": "code",
   "execution_count": 4,
   "metadata": {},
   "outputs": [
    {
     "name": "stdout",
     "output_type": "stream",
     "text": [
      "Solving environment: ...working... done\n",
      "\n",
      "## Package Plan ##\n",
      "\n",
      "  environment location: /home/toshinao/anaconda3\n",
      "\n",
      "  added / updated specs: \n",
      "    - word2vec\n",
      "\n",
      "\n",
      "The following packages will be downloaded:\n",
      "\n",
      "    package                    |            build\n",
      "    ---------------------------|-----------------\n",
      "    certifi-2018.8.24          |           py35_1         139 KB\n",
      "    word2vec-0.9.4             |   py35h035aef0_0          84 KB\n",
      "    numpy-base-1.14.3          |   py35h0ea5e3f_1         4.0 MB\n",
      "    numpy-1.14.3               |   py35h28100ab_1          41 KB\n",
      "    conda-4.5.11               |           py35_0         1.0 MB\n",
      "    libopenblas-0.2.20         |       h9ac9557_7         8.8 MB\n",
      "    openssl-1.0.2p             |       h14c3975_0         3.5 MB\n",
      "    ------------------------------------------------------------\n",
      "                                           Total:        17.5 MB\n",
      "\n",
      "The following NEW packages will be INSTALLED:\n",
      "\n",
      "    libopenblas: 0.2.20-h9ac9557_7    \n",
      "    numpy-base:  1.14.3-py35h0ea5e3f_1\n",
      "    word2vec:    0.9.4-py35h035aef0_0 \n",
      "\n",
      "The following packages will be UPDATED:\n",
      "\n",
      "    certifi:     2018.4.16-py35_0      --> 2018.8.24-py35_1     \n",
      "    conda:       4.5.9-py35_0          --> 4.5.11-py35_0        \n",
      "    numpy:       1.13.3-py35hd829ed6_0 --> 1.14.3-py35h28100ab_1\n",
      "    openssl:     1.0.2o-h14c3975_1     --> 1.0.2p-h14c3975_0    \n",
      "\n",
      "Proceed ([y]/n)? \n",
      "\n",
      "Downloading and Extracting Packages\n",
      "Preparing transaction: ...working... done\n",
      "Verifying transaction: ...working... done\n",
      "Executing transaction: ...working... done\n"
     ]
    },
    {
     "name": "stderr",
     "output_type": "stream",
     "text": [
      "\r",
      "certifi-2018.8.24    |  139 KB |            |   0% \r",
      "certifi-2018.8.24    |  139 KB | 8          |   9% \r",
      "certifi-2018.8.24    |  139 KB | #########5 |  95% \r",
      "certifi-2018.8.24    |  139 KB | ########## | 100% \n",
      "\r",
      "word2vec-0.9.4       |   84 KB |            |   0% \r",
      "word2vec-0.9.4       |   84 KB | #4         |  14% \r",
      "word2vec-0.9.4       |   84 KB | ########## | 100% \n",
      "\r",
      "numpy-base-1.14.3    |  4.0 MB |            |   0% \r",
      "numpy-base-1.14.3    |  4.0 MB | 7          |   7% \r",
      "numpy-base-1.14.3    |  4.0 MB | ##8        |  28% \r",
      "numpy-base-1.14.3    |  4.0 MB | ###6       |  36% \r",
      "numpy-base-1.14.3    |  4.0 MB | ######5    |  65% \r",
      "numpy-base-1.14.3    |  4.0 MB | #######7   |  77% \r",
      "numpy-base-1.14.3    |  4.0 MB | ########8  |  88% \r",
      "numpy-base-1.14.3    |  4.0 MB | #########7 |  97% \r",
      "numpy-base-1.14.3    |  4.0 MB | ########## | 100% \n",
      "\r",
      "numpy-1.14.3         |   41 KB |            |   0% \r",
      "numpy-1.14.3         |   41 KB | ########## | 100% \n",
      "\r",
      "conda-4.5.11         |  1.0 MB |            |   0% \r",
      "conda-4.5.11         |  1.0 MB | ###6       |  37% \r",
      "conda-4.5.11         |  1.0 MB | #######9   |  80% \r",
      "conda-4.5.11         |  1.0 MB | ########## | 100% \n",
      "\r",
      "libopenblas-0.2.20   |  8.8 MB |            |   0% \r",
      "libopenblas-0.2.20   |  8.8 MB | 4          |   5% \r",
      "libopenblas-0.2.20   |  8.8 MB | #3         |  14% \r",
      "libopenblas-0.2.20   |  8.8 MB | #8         |  19% \r",
      "libopenblas-0.2.20   |  8.8 MB | ###4       |  34% \r",
      "libopenblas-0.2.20   |  8.8 MB | ####1      |  42% \r",
      "libopenblas-0.2.20   |  8.8 MB | #####4     |  54% \r",
      "libopenblas-0.2.20   |  8.8 MB | ######4    |  64% \r",
      "libopenblas-0.2.20   |  8.8 MB | #######3   |  74% \r",
      "libopenblas-0.2.20   |  8.8 MB | ########2  |  83% \r",
      "libopenblas-0.2.20   |  8.8 MB | #########  |  90% \r",
      "libopenblas-0.2.20   |  8.8 MB | #########5 |  96% \r",
      "libopenblas-0.2.20   |  8.8 MB | ########## | 100% \n",
      "\r",
      "openssl-1.0.2p       |  3.5 MB |            |   0% \r",
      "openssl-1.0.2p       |  3.5 MB | #2         |  13% \r",
      "openssl-1.0.2p       |  3.5 MB | ###7       |  37% \r",
      "openssl-1.0.2p       |  3.5 MB | ######1    |  61% \r",
      "openssl-1.0.2p       |  3.5 MB | #######6   |  76% \r",
      "openssl-1.0.2p       |  3.5 MB | ########9  |  89% \r",
      "openssl-1.0.2p       |  3.5 MB | ########## | 100% \n"
     ]
    }
   ],
   "source": [
    "%%bash\n",
    "conda install word2vec"
   ]
  },
  {
   "cell_type": "markdown",
   "metadata": {},
   "source": [
    "**** 0. word2vecによる学習 ****\n",
    "\n",
    "81で作成したコーパスに対してword2vecを適用し，単語ベクトルを学習せよ．さらに，学習した単語ベクトルの形式を変換し，86-89のプログラムを動かせ．"
   ]
  },
  {
   "cell_type": "markdown",
   "metadata": {},
   "source": [
    "[python word2vecパッケージの公式ページ](https://github.com/danielfrg/word2vec)\n",
    "\n",
    "[official example](http://nbviewer.jupyter.org/github/danielfrg/word2vec/blob/master/examples/word2vec.ipynb)"
   ]
  },
  {
   "cell_type": "code",
   "execution_count": 5,
   "metadata": {},
   "outputs": [],
   "source": [
    "import word2vec"
   ]
  },
  {
   "cell_type": "code",
   "execution_count": 13,
   "metadata": {},
   "outputs": [],
   "source": [
    "import codecs"
   ]
  },
  {
   "cell_type": "code",
   "execution_count": 6,
   "metadata": {},
   "outputs": [],
   "source": [
    "fname_output81 = \"nlp100data/output81.txt\""
   ]
  },
  {
   "cell_type": "code",
   "execution_count": 10,
   "metadata": {},
   "outputs": [],
   "source": [
    "fname_phrases90 = 'nlp100data/phrases90.txt'"
   ]
  },
  {
   "cell_type": "code",
   "execution_count": 7,
   "metadata": {},
   "outputs": [],
   "source": [
    "fname_wordvecs90 = 'nlp100data/wordvecs90.txt'"
   ]
  },
  {
   "cell_type": "code",
   "execution_count": 12,
   "metadata": {},
   "outputs": [
    {
     "name": "stdout",
     "output_type": "stream",
     "text": [
      "Starting training using file nlp100data/output81.txt\n",
      "Words processed: 11800K     Vocab size: 4364K  \n",
      "Vocab size (unigrams + bigrams): 2372876\n",
      "Words in train file: 11869261\n",
      "Words written: 11800K\r"
     ]
    }
   ],
   "source": [
    "word2vec.word2phrase(fname_output81 , fname_phrases90 , verbose = True)"
   ]
  },
  {
   "cell_type": "code",
   "execution_count": 16,
   "metadata": {},
   "outputs": [
    {
     "name": "stdout",
     "output_type": "stream",
     "text": [
      " Anarchism\n",
      "\n",
      "\n",
      "\n",
      " Anarchism is a political philosophy that advocates stateless societies often defined as self-governed voluntary institutions but that several authors have defined as more specific institutions based on non-hierarchical free associations Anarchism holds the state to be undesirable unnecessary or harmful While anti-statism is central anarchism entails opposing authority or hierarchical organisation in the conduct of human relations including but not limited to the state system\n",
      "\n",
      " As a subtle and anti-dogmatic philosophy anarchism draws on many currents of thought and strategy Anarchism does_not offer a fixed body of doctrine from a single particular world view instead fluxing and flowing as a philosophy There_are many types and traditions of anarchism not all of which are mutually_exclusive Anarchist schools of thought can differ fundamentally supporting anything from extreme individualism to complete collectivism Strains of anarchism have often been divided_into the categories of social and individualist_anarchism or similar dual classifications Anarchism is usually considered a radical left-wing ideology and much of anarchist economics and anarchist legal philosophy reflect anti-authoritarian interpretations of communism collectivism syndicalism mutualism or participatory economics\n",
      "\n"
     ]
    }
   ],
   "source": [
    "with codecs.open(fname_phrases90 , 'r' , 'utf-8') as rf:\n",
    "    for i, l in enumerate(rf):\n",
    "        print(l)\n",
    "        if i > 2:\n",
    "            break"
   ]
  },
  {
   "cell_type": "code",
   "execution_count": null,
   "metadata": {},
   "outputs": [],
   "source": [
    "word2vec.word2vec(train = fname_phrases90 , output = fname_wordvecs90 , size = 50 , threads = 4 , binary = False , verbose=True)"
   ]
  },
  {
   "cell_type": "code",
   "execution_count": 9,
   "metadata": {},
   "outputs": [],
   "source": [
    "word2vec.word2vec(train = fname_output81 , output = fname_wordvecs90 , size = 50 , threads = 4 , binary = False , verbose=True)"
   ]
  },
  {
   "cell_type": "code",
   "execution_count": 8,
   "metadata": {},
   "outputs": [
    {
     "name": "stdout",
     "output_type": "stream",
     "text": [
      "[master bfac392] doing 90\n",
      " 1 file changed, 174 insertions(+), 1 deletion(-)\n"
     ]
    }
   ],
   "source": [
    "%%bash\n",
    "git commit -a -m \"doing 90\""
   ]
  },
  {
   "cell_type": "code",
   "execution_count": null,
   "metadata": {},
   "outputs": [],
   "source": []
  }
 ],
 "metadata": {
  "kernelspec": {
   "display_name": "Python [default]",
   "language": "python",
   "name": "python3"
  },
  "language_info": {
   "codemirror_mode": {
    "name": "ipython",
    "version": 3
   },
   "file_extension": ".py",
   "mimetype": "text/x-python",
   "name": "python",
   "nbconvert_exporter": "python",
   "pygments_lexer": "ipython3",
   "version": "3.5.4"
  },
  "toc": {
   "colors": {
    "hover_highlight": "#DAA520",
    "navigate_num": "#000000",
    "navigate_text": "#333333",
    "running_highlight": "#FF0000",
    "selected_highlight": "#FFD700",
    "sidebar_border": "#EEEEEE",
    "wrapper_background": "#FFFFFF"
   },
   "moveMenuLeft": true,
   "nav_menu": {
    "height": "12px",
    "width": "252px"
   },
   "navigate_menu": true,
   "number_sections": true,
   "sideBar": true,
   "threshold": 4,
   "toc_cell": false,
   "toc_section_display": "block",
   "toc_window_display": false,
   "widenNotebook": false
  }
 },
 "nbformat": 4,
 "nbformat_minor": 2
}
