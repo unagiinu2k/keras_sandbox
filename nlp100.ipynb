{
 "cells": [
  {
   "cell_type": "markdown",
   "metadata": {},
   "source": [
    "言語処理１００本ノック"
   ]
  },
  {
   "cell_type": "markdown",
   "metadata": {},
   "source": [
    "http://blog.mudatobunka.org/entry/2017/04/23/115952"
   ]
  },
  {
   "cell_type": "markdown",
   "metadata": {},
   "source": [
    "https://qiita.com/segavvy/items/fb50ba8097d59475f760"
   ]
  },
  {
   "cell_type": "markdown",
   "metadata": {},
   "source": [
    "文字列\"stressed\"の文字を逆に（末尾から先頭に向かって）並べた文字列を得よ．"
   ]
  },
  {
   "cell_type": "code",
   "execution_count": 3,
   "metadata": {},
   "outputs": [
    {
     "data": {
      "text/plain": [
       "'desserts'"
      ]
     },
     "execution_count": 3,
     "metadata": {},
     "output_type": "execute_result"
    }
   ],
   "source": [
    "\"stressed\"[::-1]"
   ]
  },
  {
   "cell_type": "markdown",
   "metadata": {},
   "source": [
    "#### 「パタトクカシーー」という文字列の1,3,5,7文字目を取り出して連結した文字列を得よ．"
   ]
  },
  {
   "cell_type": "code",
   "execution_count": 1,
   "metadata": {},
   "outputs": [
    {
     "data": {
      "text/plain": [
       "'パトカー'"
      ]
     },
     "execution_count": 1,
     "metadata": {},
     "output_type": "execute_result"
    }
   ],
   "source": [
    "\"パタトクカシーー\"[::2]"
   ]
  },
  {
   "cell_type": "markdown",
   "metadata": {},
   "source": [
    "#### 「パトカー」＋「タクシー」の文字を先頭から交互に連結して文字列「パタトクカシーー」を得よ．"
   ]
  },
  {
   "cell_type": "markdown",
   "metadata": {},
   "source": [
    "下は内包記法ではなく、ジェネレータ式？\n",
    "\n",
    "https://qiita.com/ycctw1443/items/4da894971630810379c0\n",
    "\n",
    "https://qiita.com/y__sama/items/a2c458de97c4aa5a98e7\n",
    "\n",
    "ジェネレータ式ではなくpythonにおけるジェネレータ全般に関しては\n",
    "\n",
    "http://www.atmarkit.co.jp/ait/articles/1610/07/news030_3.html"
   ]
  },
  {
   "cell_type": "code",
   "execution_count": 4,
   "metadata": {},
   "outputs": [
    {
     "data": {
      "text/plain": [
       "'パタトクカシーー'"
      ]
     },
     "execution_count": 4,
     "metadata": {},
     "output_type": "execute_result"
    }
   ],
   "source": [
    "\"\".join(s1 + s2 for s1 , s2 in zip(\"パトカー\" , \"タクシー\"))"
   ]
  },
  {
   "cell_type": "code",
   "execution_count": null,
   "metadata": {
    "collapsed": true
   },
   "outputs": [],
   "source": [
    "\"\".join([s1 + s2 for s1 , s2 in zip(\"パトカー\" , \"タクシー\")])"
   ]
  },
  {
   "cell_type": "code",
   "execution_count": null,
   "metadata": {
    "collapsed": true
   },
   "outputs": [],
   "source": [
    "(s1 + s2 for s1 , s2 in zip(\"パトカー\" , \"タクシー\"))"
   ]
  },
  {
   "cell_type": "markdown",
   "metadata": {},
   "source": [
    "#### “Now I need a drink, alcoholic of course, after the heavy lectures involving quantum mechanics.\"という文を単語に分解し，各単語の（アルファベットの）文字数を先頭から出現順に並べたリストを作成せよ．"
   ]
  },
  {
   "cell_type": "code",
   "execution_count": null,
   "metadata": {
    "collapsed": true
   },
   "outputs": [],
   "source": [
    "import re\n",
    "\n",
    "sentence = \"Now I need a drink, alcoholic of course, after the heavy lectures involving quantum mechanics.\""
   ]
  },
  {
   "cell_type": "code",
   "execution_count": null,
   "metadata": {
    "collapsed": true
   },
   "outputs": [],
   "source": [
    "print([len(word) for word in re.split(r\"[\\s,.]+\", sentence) if \"\" != word])"
   ]
  },
  {
   "cell_type": "code",
   "execution_count": null,
   "metadata": {
    "collapsed": true
   },
   "outputs": [],
   "source": [
    "run_split = re.split(r\"[\\s,.]+\", sentence) "
   ]
  },
  {
   "cell_type": "code",
   "execution_count": null,
   "metadata": {
    "collapsed": true
   },
   "outputs": [],
   "source": [
    "[len(word) for word in run_split if word != \"\"]"
   ]
  },
  {
   "cell_type": "markdown",
   "metadata": {},
   "source": [
    "#### “Hi He Lied Because Boron Could Not Oxidize Fluorine. New Nations Might Also Sign Peace Security Clause. Arthur King Can.\"という文を単語に分解し，1, 5, 6, 7, 8, 9, 15, 16, 19番目の単語は先頭の1文字，それ以外の単語は先頭に2文字を取り出し，取り出した文字列から単語の位置（先頭から何番目の単語か）への連想配列（辞書型もしくはマップ型）を作成せよ"
   ]
  },
  {
   "cell_type": "code",
   "execution_count": null,
   "metadata": {
    "collapsed": true
   },
   "outputs": [],
   "source": [
    "sentence = \"Hi He Lied Because Boron Could Not Oxidize Fluorine. New Nations Might Also Sign Peace Security Clause. Arthur King Can.\""
   ]
  },
  {
   "cell_type": "code",
   "execution_count": null,
   "metadata": {
    "collapsed": true
   },
   "outputs": [],
   "source": [
    "run_split = re.split(r\"[\\s,.]+\" , sentence)"
   ]
  },
  {
   "cell_type": "code",
   "execution_count": null,
   "metadata": {
    "collapsed": true
   },
   "outputs": [],
   "source": [
    "run_split = [x for x in run_split if x != \"\"]"
   ]
  },
  {
   "cell_type": "code",
   "execution_count": null,
   "metadata": {
    "collapsed": true
   },
   "outputs": [],
   "source": [
    "head_group = [1,5,6,7,8,9,15,16,19]"
   ]
  },
  {
   "cell_type": "code",
   "execution_count": null,
   "metadata": {
    "collapsed": true
   },
   "outputs": [],
   "source": [
    "midashi = [run_split[i][0] if i in head_group else run_split[i][0:2] for i in range(len(run_split))]"
   ]
  },
  {
   "cell_type": "code",
   "execution_count": null,
   "metadata": {
    "collapsed": true
   },
   "outputs": [],
   "source": [
    "jisho  = dict()"
   ]
  },
  {
   "cell_type": "code",
   "execution_count": null,
   "metadata": {
    "collapsed": true
   },
   "outputs": [],
   "source": [
    "for i in range(len(run_split)):\n",
    "    jisho[midashi[i]] = i\n"
   ]
  },
  {
   "cell_type": "code",
   "execution_count": null,
   "metadata": {
    "collapsed": true
   },
   "outputs": [],
   "source": [
    "jisho\n"
   ]
  },
  {
   "cell_type": "markdown",
   "metadata": {},
   "source": [
    "上記をまとめてやる手法として、"
   ]
  },
  {
   "cell_type": "code",
   "execution_count": null,
   "metadata": {
    "collapsed": true
   },
   "outputs": [],
   "source": [
    "jisho2 = {run_split[i][0] if i in head_group else run_split[i][0:2]:i for i in range(len(run_split))}"
   ]
  },
  {
   "cell_type": "code",
   "execution_count": null,
   "metadata": {
    "collapsed": true
   },
   "outputs": [],
   "source": [
    "jisho2"
   ]
  },
  {
   "cell_type": "markdown",
   "metadata": {},
   "source": [
    "#### 与えられたシーケンス（文字列やリストなど）からn-gramを作る関数を作成せよ．この関数を用い，\"I am an NLPer\"という文から単語bi-gram，文字bi-gramを得よ．"
   ]
  },
  {
   "cell_type": "code",
   "execution_count": null,
   "metadata": {
    "collapsed": true
   },
   "outputs": [],
   "source": [
    "import re"
   ]
  },
  {
   "cell_type": "code",
   "execution_count": null,
   "metadata": {
    "collapsed": true
   },
   "outputs": [],
   "source": [
    "sentence = \"I am an NLPer\""
   ]
  },
  {
   "cell_type": "code",
   "execution_count": null,
   "metadata": {
    "collapsed": true
   },
   "outputs": [],
   "source": [
    "[\"\".join(elem) for elem in zip(sentence[0:] , sentence[1:])]"
   ]
  },
  {
   "cell_type": "code",
   "execution_count": null,
   "metadata": {
    "collapsed": true
   },
   "outputs": [],
   "source": [
    "splited = re.split(r\"[.,\\s]+\" , sentence)"
   ]
  },
  {
   "cell_type": "code",
   "execution_count": null,
   "metadata": {
    "collapsed": true
   },
   "outputs": [],
   "source": [
    "[\" \".join(elem) for elem in zip(splited[0:] , splited[1:])]"
   ]
  },
  {
   "cell_type": "markdown",
   "metadata": {},
   "source": [
    "#### “paraparaparadise\"と\"paragraph\"に含まれる文字bi-gramの集合を，それぞれ, XとYとして求め，XとYの和集合，積集合，差集合を求めよ．さらに，'se'というbi-gramがXおよびYに含まれるかどうかを調べよ．"
   ]
  },
  {
   "cell_type": "code",
   "execution_count": null,
   "metadata": {
    "collapsed": true
   },
   "outputs": [],
   "source": [
    "sentence0 = \"paraparaparadise\""
   ]
  },
  {
   "cell_type": "code",
   "execution_count": null,
   "metadata": {
    "collapsed": true
   },
   "outputs": [],
   "source": [
    "sentence1 = \"paragraph\""
   ]
  },
  {
   "cell_type": "code",
   "execution_count": null,
   "metadata": {
    "collapsed": true
   },
   "outputs": [],
   "source": [
    "bigram0 = {\"\".join(x) for x in zip(sentence0[0:] , sentence0[1:])}"
   ]
  },
  {
   "cell_type": "code",
   "execution_count": null,
   "metadata": {
    "collapsed": true
   },
   "outputs": [],
   "source": [
    "bigram1 = {\"\".join(x) for x in zip(sentence1[0:] , sentence1[1:])}"
   ]
  },
  {
   "cell_type": "code",
   "execution_count": null,
   "metadata": {
    "collapsed": true
   },
   "outputs": [],
   "source": [
    "bigram0 | bigram1"
   ]
  },
  {
   "cell_type": "code",
   "execution_count": null,
   "metadata": {
    "collapsed": true
   },
   "outputs": [],
   "source": [
    "bigram0 & bigram1"
   ]
  },
  {
   "cell_type": "code",
   "execution_count": null,
   "metadata": {
    "collapsed": true
   },
   "outputs": [],
   "source": [
    "bigram0 - bigram1"
   ]
  },
  {
   "cell_type": "code",
   "execution_count": null,
   "metadata": {
    "collapsed": true
   },
   "outputs": [],
   "source": [
    "bigram1 - bigram0"
   ]
  },
  {
   "cell_type": "code",
   "execution_count": null,
   "metadata": {
    "collapsed": true
   },
   "outputs": [],
   "source": [
    "'se' in bigram0"
   ]
  },
  {
   "cell_type": "code",
   "execution_count": null,
   "metadata": {
    "collapsed": true
   },
   "outputs": [],
   "source": [
    "'se' in bigram1"
   ]
  },
  {
   "cell_type": "markdown",
   "metadata": {},
   "source": [
    "#### 引数x, y, zを受け取り「x時のyはz」という文字列を返す関数を実装せよ．さらに，x=12, y=“気温”, z=22.4として，実行結果を確認せよ．"
   ]
  },
  {
   "cell_type": "code",
   "execution_count": null,
   "metadata": {
    "collapsed": true
   },
   "outputs": [],
   "source": [
    "def run_print(x, y, z):\n",
    "    return u\"{x}時の{y}は{z}\".format(x = x , y = y , z =z)"
   ]
  },
  {
   "cell_type": "code",
   "execution_count": null,
   "metadata": {
    "collapsed": true
   },
   "outputs": [],
   "source": [
    "run_print(\"12\" ,\"気温\" , \"22.4\")"
   ]
  },
  {
   "cell_type": "markdown",
   "metadata": {},
   "source": [
    "#### 与えられた文字列の各文字を，以下の仕様で変換する関数cipherを実装せよ．\n",
    "\n",
    "英小文字ならば(219 - 文字コード)の文字に置換\n",
    "\n",
    "その他の文字はそのまま出力\n",
    "\n",
    "この関数を用い，英語のメッセージを暗号化・復号化せよ．"
   ]
  },
  {
   "cell_type": "code",
   "execution_count": null,
   "metadata": {
    "collapsed": true
   },
   "outputs": [],
   "source": [
    "import re"
   ]
  },
  {
   "cell_type": "markdown",
   "metadata": {},
   "source": [
    "reのmatchに関しては：\n",
    "https://note.nkmk.me/python-re-match-search-findall-etc/"
   ]
  },
  {
   "cell_type": "code",
   "execution_count": null,
   "metadata": {
    "collapsed": true
   },
   "outputs": [],
   "source": [
    "plaintext = \"Lorem ipsum dolor sit amet, consectetur adipiscing elit, sed do eiusmod tempor\" \\\n",
    "            \" incididunt ut labore et dolore magna aliqua.\""
   ]
  },
  {
   "cell_type": "code",
   "execution_count": null,
   "metadata": {
    "collapsed": true
   },
   "outputs": [],
   "source": [
    "def cipher(x):\n",
    "    return re.sub(r\"[a-z]\" , lambda m :chr(219-ord(m.group(0))) , x)"
   ]
  },
  {
   "cell_type": "code",
   "execution_count": null,
   "metadata": {
    "collapsed": true
   },
   "outputs": [],
   "source": [
    "cipher(cipher(plaintext))"
   ]
  },
  {
   "cell_type": "markdown",
   "metadata": {},
   "source": [
    "##### sandbox"
   ]
  },
  {
   "cell_type": "code",
   "execution_count": null,
   "metadata": {
    "collapsed": true
   },
   "outputs": [],
   "source": [
    "re.sub(r\"[a-zA-Z]\" , lambda m :chr(219-ord(m.group(0))) , sentence)"
   ]
  },
  {
   "cell_type": "code",
   "execution_count": null,
   "metadata": {
    "collapsed": true
   },
   "outputs": [],
   "source": [
    "re.sub(r\"\\w\" , lambda m :chr(219-ord(m.group(0))) , plaintext)"
   ]
  },
  {
   "cell_type": "code",
   "execution_count": null,
   "metadata": {
    "collapsed": true
   },
   "outputs": [],
   "source": [
    "def cipher(plaintext):\n",
    "    return re.sub(r\"[a-z]\", lambda m: chr(219 - ord(m.group(0))), plaintext)"
   ]
  },
  {
   "cell_type": "code",
   "execution_count": null,
   "metadata": {
    "collapsed": true
   },
   "outputs": [],
   "source": [
    "re.sub(r\"[a-z]\" , sentence)"
   ]
  },
  {
   "cell_type": "markdown",
   "metadata": {},
   "source": [
    "ordはunicodeコードを返す"
   ]
  },
  {
   "cell_type": "code",
   "execution_count": null,
   "metadata": {
    "collapsed": true
   },
   "outputs": [],
   "source": [
    "ord(\"a\")"
   ]
  },
  {
   "cell_type": "markdown",
   "metadata": {},
   "source": [
    "chrはordの逆"
   ]
  },
  {
   "cell_type": "code",
   "execution_count": null,
   "metadata": {
    "collapsed": true
   },
   "outputs": [],
   "source": [
    "chr(97)"
   ]
  },
  {
   "cell_type": "code",
   "execution_count": null,
   "metadata": {
    "collapsed": true
   },
   "outputs": [],
   "source": [
    "re.sub(r\"\\w\" , lambda m : str(ord(m.group(0))),  sentence)"
   ]
  },
  {
   "cell_type": "markdown",
   "metadata": {},
   "source": [
    "#### スペースで区切られた単語列に対して，各単語の先頭と末尾の文字は残し，それ以外の文字の順序をランダムに並び替えるプログラムを作成せよ． ただし，長さが４以下の単語は並び替えないこととする． 適当な英語の文（例えば\"I couldn’t believe that I could actually understand what I was reading : the phenomenal power of the human mind .“）を与え，その実行結果を確認せよ．"
   ]
  },
  {
   "cell_type": "code",
   "execution_count": null,
   "metadata": {
    "collapsed": true
   },
   "outputs": [],
   "source": [
    "sentence = \"Hi He Lied Because Boron Could Not Oxidize Fluorine. New Nations Might Also Sign Peace Security Clause. Arthur King Can.\""
   ]
  },
  {
   "cell_type": "code",
   "execution_count": null,
   "metadata": {
    "collapsed": true
   },
   "outputs": [],
   "source": [
    "separated = re.split(r'\\s' , sentence)"
   ]
  },
  {
   "cell_type": "code",
   "execution_count": null,
   "metadata": {
    "collapsed": true
   },
   "outputs": [],
   "source": [
    "word = separated[3]"
   ]
  },
  {
   "cell_type": "code",
   "execution_count": null,
   "metadata": {
    "collapsed": true
   },
   "outputs": [],
   "source": [
    "def shuffle(word):\n",
    "    if 5 > len(word):\n",
    "        return word\n",
    "    \n",
    "    l = len(word)\n",
    "    head = word[0]\n",
    "    body = word[1:-1]\n",
    "    tail = word[-1]\n",
    "    return head + \"\".join(random.sample(body , len(body))) + tail"
   ]
  },
  {
   "cell_type": "code",
   "execution_count": null,
   "metadata": {
    "collapsed": true
   },
   "outputs": [],
   "source": [
    "shuffle(separated[5])"
   ]
  },
  {
   "cell_type": "code",
   "execution_count": null,
   "metadata": {
    "collapsed": true
   },
   "outputs": [],
   "source": [
    "\" \".join([shuffle(x) for x in separated])"
   ]
  },
  {
   "cell_type": "markdown",
   "metadata": {},
   "source": [
    "またはmap\n",
    "http://hiroto1979.hatenablog.jp/entry/2016/02/24/020534\n",
    "を用いると："
   ]
  },
  {
   "cell_type": "code",
   "execution_count": null,
   "metadata": {
    "collapsed": true
   },
   "outputs": [],
   "source": [
    "\" \".join(map(shuffle , separated))"
   ]
  },
  {
   "cell_type": "markdown",
   "metadata": {},
   "source": [
    "##### sandbox"
   ]
  },
  {
   "cell_type": "code",
   "execution_count": null,
   "metadata": {
    "collapsed": true
   },
   "outputs": [],
   "source": [
    "l = len(word)\n",
    "head = word[0]\n",
    "body = word[1:-1]\n",
    "tail = word[-1]"
   ]
  },
  {
   "cell_type": "code",
   "execution_count": null,
   "metadata": {
    "collapsed": true
   },
   "outputs": [],
   "source": [
    "import random"
   ]
  },
  {
   "cell_type": "code",
   "execution_count": null,
   "metadata": {
    "collapsed": true
   },
   "outputs": [],
   "source": [
    "random.sample(body, len(body))"
   ]
  },
  {
   "cell_type": "code",
   "execution_count": null,
   "metadata": {
    "collapsed": true
   },
   "outputs": [],
   "source": [
    "head + \"\".join(random.sample(body , len(body))) + tail"
   ]
  },
  {
   "cell_type": "markdown",
   "metadata": {},
   "source": [
    "hightemp.txtは，日本の最高気温の記録を「都道府県」「地点」「℃」「日」のタブ区切り形式で格納したファイルである．\n",
    "以下の処理を行うプログラムを作成し，hightemp.txtを入力ファイルとして実行せよ．さらに，同様の処理をUNIXコマンドでも実行し，プログラムの実行結果を確認せよ．"
   ]
  },
  {
   "cell_type": "markdown",
   "metadata": {},
   "source": [
    "#### 行数をカウントせよ．確認にはwcコマンドを用いよ．"
   ]
  },
  {
   "cell_type": "code",
   "execution_count": null,
   "metadata": {
    "collapsed": true
   },
   "outputs": [],
   "source": [
    "import codecs"
   ]
  },
  {
   "cell_type": "code",
   "execution_count": null,
   "metadata": {
    "collapsed": true
   },
   "outputs": [],
   "source": [
    "len([l for l in codecs.open(\"./nlp100data/hightemp.txt\" , \"r\" , \"utf-8\")])"
   ]
  },
  {
   "cell_type": "markdown",
   "metadata": {},
   "source": [
    "##### pandasを使う例"
   ]
  },
  {
   "cell_type": "code",
   "execution_count": null,
   "metadata": {
    "collapsed": true
   },
   "outputs": [],
   "source": [
    "import pandas as pd"
   ]
  },
  {
   "cell_type": "code",
   "execution_count": null,
   "metadata": {
    "collapsed": true
   },
   "outputs": [],
   "source": [
    "pd.read_csv(\"./nlp100data/hightemp.txt\", delimiter='\\t').shape[0]"
   ]
  },
  {
   "cell_type": "markdown",
   "metadata": {},
   "source": [
    "#### タブをスペースに置換"
   ]
  },
  {
   "cell_type": "code",
   "execution_count": null,
   "metadata": {
    "collapsed": true
   },
   "outputs": [],
   "source": [
    "[l.replace('\\t',' ') for l in codecs.open(\"./nlp100data/hightemp.txt\" , \"r\" , \"utf-8\")]"
   ]
  },
  {
   "cell_type": "markdown",
   "metadata": {},
   "source": [
    "##### sandbox"
   ]
  },
  {
   "cell_type": "code",
   "execution_count": null,
   "metadata": {
    "collapsed": true
   },
   "outputs": [],
   "source": [
    "type([l for l in codecs.open(\"./nlp100data/hightemp.txt\" , \"r\" , \"utf-8\")][0])"
   ]
  },
  {
   "cell_type": "markdown",
   "metadata": {},
   "source": [
    "#### 1列目をcol1.txtに，2列目をcol2.txtに保存"
   ]
  },
  {
   "cell_type": "code",
   "execution_count": null,
   "metadata": {
    "collapsed": true
   },
   "outputs": [],
   "source": [
    "f1 = codecs.open(\"./nlp100data/col1.txt\"  , \"w\" , 'utf-8')"
   ]
  },
  {
   "cell_type": "code",
   "execution_count": null,
   "metadata": {
    "collapsed": true
   },
   "outputs": [],
   "source": [
    "f2 = codecs.open(\"./nlp100data/col2.txt\"  , \"w\" , 'utf-8')"
   ]
  },
  {
   "cell_type": "code",
   "execution_count": null,
   "metadata": {
    "collapsed": true
   },
   "outputs": [],
   "source": [
    "for l in codecs.open(\"./nlp100data/hightemp.txt\" , \"r\" , \"utf-8\"):)\n",
    "    split = l.split(\"\\t\")\n",
    "    f1.write(split[0] + \"\\n\")\n",
    "    f2.write(split[1] + \"\\n\")"
   ]
  },
  {
   "cell_type": "code",
   "execution_count": null,
   "metadata": {
    "collapsed": true
   },
   "outputs": [],
   "source": [
    "f1.close()"
   ]
  },
  {
   "cell_type": "code",
   "execution_count": null,
   "metadata": {
    "collapsed": true
   },
   "outputs": [],
   "source": [
    "f2.close()"
   ]
  },
  {
   "cell_type": "code",
   "execution_count": null,
   "metadata": {
    "collapsed": true
   },
   "outputs": [],
   "source": [
    "f1.write(\"this is a test\")"
   ]
  },
  {
   "cell_type": "markdown",
   "metadata": {},
   "source": [
    "#### 12で作ったcol1.txtとcol2.txtを結合し，元のファイルの1列目と2列目をタブ区切りで並べたテキストファイルを作成せよ．\n",
    "確認にはpasteコマンドを用いよ．"
   ]
  },
  {
   "cell_type": "markdown",
   "metadata": {},
   "source": [
    "strip()は文字を指定しない場合は、「空白文字」を削除。\n",
    "　「空白文字」とは：\n",
    "半角スペース、全角スペース、改行、改ページ、タブ、垂直タブ、復帰\n",
    "\n",
    "http://python-remrin.hatenadiary.jp/entry/2017/04/24/174405"
   ]
  },
  {
   "cell_type": "code",
   "execution_count": null,
   "metadata": {
    "collapsed": true
   },
   "outputs": [],
   "source": [
    "with codecs.open(\"./nlp100data/col1.txt\"  , \"r\" , 'utf-8') as f1 , \\\n",
    "    codecs.open(\"./nlp100data/col2.txt\"  , \"r\" , 'utf-8') as f2 , \\\n",
    "    codecs.open(\"./nlp100data/return13.txt\" , \"w\" , 'utf-8') as f3:\n",
    "    for x ,y in zip(f1,f2):\n",
    "        #print(x+y)        \n",
    "        f3.write(x.strip() + '\\t' + y.strip() + '\\n')"
   ]
  },
  {
   "cell_type": "code",
   "execution_count": null,
   "metadata": {
    "collapsed": true
   },
   "outputs": [],
   "source": [
    "with codecs.open(\"./nlp100data/return13.txt\"  , \"r\" , 'utf-8') as f3:\n",
    "    print(len([x for x in f3]))\n",
    "    for x in f3:\n",
    "        print(x)"
   ]
  },
  {
   "cell_type": "markdown",
   "metadata": {},
   "source": [
    "####  先頭からN行を出力"
   ]
  },
  {
   "cell_type": "code",
   "execution_count": null,
   "metadata": {
    "collapsed": true
   },
   "outputs": [],
   "source": [
    "N = 10"
   ]
  },
  {
   "cell_type": "code",
   "execution_count": null,
   "metadata": {
    "collapsed": true
   },
   "outputs": [],
   "source": [
    "with codecs.open(r'./nlp100data/hightemp.txt' , 'r' , 'utf-8') as f0:\n",
    "    run_list = [x for x in f0]\n",
    "    [print(run_list[i]) for i in range(len(run_list)) if N > i]"
   ]
  },
  {
   "cell_type": "markdown",
   "metadata": {},
   "source": [
    "#### 末尾のN行を出力"
   ]
  },
  {
   "cell_type": "code",
   "execution_count": null,
   "metadata": {
    "collapsed": true
   },
   "outputs": [],
   "source": [
    "N = 10"
   ]
  },
  {
   "cell_type": "code",
   "execution_count": null,
   "metadata": {
    "collapsed": true
   },
   "outputs": [],
   "source": [
    "with codecs.open(r'./nlp100data/hightemp.txt' , 'r' , 'utf-8') as f0:\n",
    "    run_list = [x for x in f0]\n",
    "    [print(run_list[i]) for i in range(len(run_list)) if len(run_list) - N - 1 < i]"
   ]
  },
  {
   "cell_type": "markdown",
   "metadata": {},
   "source": [
    "#### 自然数Nをコマンドライン引数などの手段で受け取り，入力のファイルを行単位でN分割せよ．同様の処理をsplitコマンドで実現せよ．"
   ]
  },
  {
   "cell_type": "code",
   "execution_count": null,
   "metadata": {
    "collapsed": true
   },
   "outputs": [],
   "source": [
    "f0 = codecs.open(r'./nlp100data/hightemp.txt' , 'r' , 'utf8')"
   ]
  },
  {
   "cell_type": "code",
   "execution_count": null,
   "metadata": {
    "collapsed": true
   },
   "outputs": [],
   "source": [
    "line_num = sum(1 for l in f0)"
   ]
  },
  {
   "cell_type": "code",
   "execution_count": null,
   "metadata": {
    "collapsed": true
   },
   "outputs": [],
   "source": [
    "line_num"
   ]
  },
  {
   "cell_type": "code",
   "execution_count": null,
   "metadata": {
    "collapsed": true
   },
   "outputs": [],
   "source": [
    "N = 5"
   ]
  },
  {
   "cell_type": "code",
   "execution_count": null,
   "metadata": {
    "collapsed": true
   },
   "outputs": [],
   "source": [
    "line_num // N"
   ]
  },
  {
   "cell_type": "code",
   "execution_count": null,
   "metadata": {
    "collapsed": true
   },
   "outputs": [],
   "source": [
    "line_num % N"
   ]
  },
  {
   "cell_type": "code",
   "execution_count": null,
   "metadata": {
    "collapsed": true
   },
   "outputs": [],
   "source": [
    "def line_alloc(i, N ,line_num):\n",
    "    run_base = line_num // N\n",
    "    extra = line_num % N\n",
    "    if i >= extra:\n",
    "        return run_base + 1\n",
    "    else:\n",
    "        return run_base\n",
    "    "
   ]
  },
  {
   "cell_type": "code",
   "execution_count": null,
   "metadata": {
    "collapsed": true
   },
   "outputs": [],
   "source": [
    "with codecs.open(r'./nlp100data/hightemp.txt' , 'r' , 'utf-8') as f0:\n",
    "    for i in range(N):\n",
    "        with codecs.open(\"./nlp100data/return16_{0}.txt\".format(i) , 'w' , 'utf-8') as fx:\n",
    "            for j in range(line_alloc(i , N , line_num)):\n",
    "                x = f0.readline()\n",
    "                print(x)\n",
    "                fx.write(x)"
   ]
  },
  {
   "cell_type": "code",
   "execution_count": null,
   "metadata": {
    "collapsed": true
   },
   "outputs": [],
   "source": [
    "f0.close()"
   ]
  },
  {
   "cell_type": "markdown",
   "metadata": {},
   "source": [
    "#### 1列目の文字列の種類（異なる文字列の集合）を求めよ．確認にはsort, uniqコマンドを用いよ"
   ]
  },
  {
   "cell_type": "code",
   "execution_count": null,
   "metadata": {
    "collapsed": true
   },
   "outputs": [],
   "source": [
    "with codecs.open(r'./nlp100data/hightemp.txt' ,'r' , 'utf-8') as f0:\n",
    "    for l in f0:\n",
    "        print(type((l.split('\\t'))[0]))\n",
    "\n",
    "        "
   ]
  },
  {
   "cell_type": "markdown",
   "metadata": {},
   "source": [
    " #### 各行を3コラム目の数値の逆順で整列せよ（注意: 各行の内容は変更せずに並び替えよ）．\n",
    "確認にはsortコマンドを用いよ（この問題はコマンドで実行した時の結果と合わなくてもよい）"
   ]
  },
  {
   "cell_type": "code",
   "execution_count": null,
   "metadata": {
    "collapsed": true
   },
   "outputs": [],
   "source": [
    "with codecs.open(r'./nlp100data/hightemp.txt') as f0:\n",
    "    "
   ]
  },
  {
   "cell_type": "code",
   "execution_count": null,
   "metadata": {
    "collapsed": true
   },
   "outputs": [],
   "source": [
    "df = pd.read_csv(r'./nlp100data/hightemp.txt' , delimiter='\\t', encoding='utf-8')"
   ]
  },
  {
   "cell_type": "code",
   "execution_count": null,
   "metadata": {
    "collapsed": true
   },
   "outputs": [],
   "source": [
    " df = pd.read_csv(r'./nlp100data/hightemp.txt' , delimiter='\\t', encoding='utf-8' , names= [\"A\",\"B\",\"C\",\"D\"])"
   ]
  },
  {
   "cell_type": "code",
   "execution_count": null,
   "metadata": {
    "collapsed": true
   },
   "outputs": [],
   "source": [
    " pd.read_csv(r'./nlp100data/hightemp.txt' , delimiter='\\t', encoding='utf-8' , header = None)"
   ]
  },
  {
   "cell_type": "code",
   "execution_count": null,
   "metadata": {
    "collapsed": true
   },
   "outputs": [],
   "source": [
    "df.sort_values(\"C\")"
   ]
  },
  {
   "cell_type": "code",
   "execution_count": null,
   "metadata": {
    "collapsed": true
   },
   "outputs": [],
   "source": [
    "?pd.read_csv\n"
   ]
  },
  {
   "cell_type": "markdown",
   "metadata": {},
   "source": [
    "#### 各行の1列目の文字列の出現頻度を求め，その高い順に並べて表示せよ．確認にはcut, uniq, sortコマンドを用いよ．"
   ]
  },
  {
   "cell_type": "code",
   "execution_count": null,
   "metadata": {
    "collapsed": true
   },
   "outputs": [],
   "source": [
    "from collections import Counter"
   ]
  },
  {
   "cell_type": "code",
   "execution_count": null,
   "metadata": {
    "collapsed": true
   },
   "outputs": [],
   "source": [
    "Counter(l.split('\\t')[0] for l in codecs.open(r'./nlp100data/hightemp.txt' , 'r' , 'utf-8') )"
   ]
  },
  {
   "cell_type": "markdown",
   "metadata": {},
   "source": [
    "#### Wikipedia記事のJSONファイルを読み込み，「イギリス」に関する記事本文を表示せよ．\n",
    "問題21-29では，ここで抽出した記事本文に対して実行せよ．"
   ]
  },
  {
   "cell_type": "code",
   "execution_count": null,
   "metadata": {
    "collapsed": true
   },
   "outputs": [],
   "source": [
    "import json"
   ]
  },
  {
   "cell_type": "code",
   "execution_count": null,
   "metadata": {
    "collapsed": true
   },
   "outputs": [],
   "source": [
    "with codecs.open(r'./nlp100data/jawiki-country.json' , 'r' , 'utf-8') as f0:\n",
    "    for l in f0:\n",
    "        y = json.loads(l)\n",
    "        if u'イギリス' == y['title']:\n",
    "            print(y['text'])"
   ]
  },
  {
   "cell_type": "markdown",
   "metadata": {},
   "source": [
    "##### sandbox\n"
   ]
  },
  {
   "cell_type": "code",
   "execution_count": null,
   "metadata": {
    "collapsed": true
   },
   "outputs": [],
   "source": [
    "f0 = codecs.open(r'./nlp100data/jawiki-country.json' , 'r' ,'utf-8')"
   ]
  },
  {
   "cell_type": "code",
   "execution_count": null,
   "metadata": {
    "collapsed": true
   },
   "outputs": [],
   "source": [
    "x = [x for x in f0]"
   ]
  },
  {
   "cell_type": "code",
   "execution_count": null,
   "metadata": {
    "collapsed": true
   },
   "outputs": [],
   "source": [
    "type(x[0])"
   ]
  },
  {
   "cell_type": "code",
   "execution_count": null,
   "metadata": {
    "collapsed": true
   },
   "outputs": [],
   "source": [
    "y = json.loads(x[0])"
   ]
  },
  {
   "cell_type": "code",
   "execution_count": null,
   "metadata": {
    "collapsed": true
   },
   "outputs": [],
   "source": [
    "[z for z in y]"
   ]
  },
  {
   "cell_type": "code",
   "execution_count": null,
   "metadata": {
    "collapsed": true
   },
   "outputs": [],
   "source": [
    "f0.close()"
   ]
  },
  {
   "cell_type": "markdown",
   "metadata": {},
   "source": [
    "#### 記事中でカテゴリ名を宣言している行を抽出せよ"
   ]
  },
  {
   "cell_type": "code",
   "execution_count": 3,
   "metadata": {
    "collapsed": true
   },
   "outputs": [],
   "source": [
    "import codecs"
   ]
  },
  {
   "cell_type": "code",
   "execution_count": 4,
   "metadata": {
    "collapsed": true
   },
   "outputs": [],
   "source": [
    "def extract_text():\n",
    "    with codecs.open(r'./nlp100data/jawiki-country.json' , 'r' , 'utf-8') as f0:\n",
    "        for l in f0:\n",
    "            y = json.loads(l)\n",
    "            if u'イギリス' == y['title']:\n",
    "                return(y['text'])\n",
    "    "
   ]
  },
  {
   "cell_type": "code",
   "execution_count": 5,
   "metadata": {
    "collapsed": true
   },
   "outputs": [],
   "source": [
    "text = extract_text()"
   ]
  },
  {
   "cell_type": "code",
   "execution_count": 6,
   "metadata": {
    "collapsed": true
   },
   "outputs": [],
   "source": [
    "import re"
   ]
  },
  {
   "cell_type": "code",
   "execution_count": 7,
   "metadata": {},
   "outputs": [
    {
     "name": "stdout",
     "output_type": "stream",
     "text": [
      "[[Category:イギリス|*]]\n",
      "[[Category:英連邦王国|*]]\n",
      "[[Category:G8加盟国]]\n",
      "[[Category:欧州連合加盟国]]\n",
      "[[Category:海洋国家]]\n",
      "[[Category:君主国]]\n",
      "[[Category:島国|くれいとふりてん]]\n",
      "[[Category:1801年に設立された州・地域]]\n"
     ]
    }
   ],
   "source": [
    "for l in text.split('\\n'):\n",
    "    if re.search(r'Category' , l):\n",
    "        print(l)"
   ]
  },
  {
   "cell_type": "markdown",
   "metadata": {},
   "source": [
    "#### 記事のカテゴリ名を（行単位ではなく名前で）抽出せよ．"
   ]
  },
  {
   "cell_type": "code",
   "execution_count": null,
   "metadata": {
    "collapsed": true
   },
   "outputs": [],
   "source": [
    "text = extract_text()"
   ]
  },
  {
   "cell_type": "code",
   "execution_count": null,
   "metadata": {
    "collapsed": true
   },
   "outputs": [],
   "source": [
    "for l in text.split('\\n'):\n",
    "    # re.search(r'Category' , l):    \n",
    "    match = re.search(r'Category:(.+?)[\\|\\]]', l)\n",
    "    if match:\n",
    "        #print(i)\n",
    "        print(match.group(1))"
   ]
  },
  {
   "cell_type": "markdown",
   "metadata": {},
   "source": [
    "##### sandbox"
   ]
  },
  {
   "cell_type": "code",
   "execution_count": null,
   "metadata": {
    "collapsed": true
   },
   "outputs": [],
   "source": [
    "x = text.split('\\n')[523]"
   ]
  },
  {
   "cell_type": "code",
   "execution_count": null,
   "metadata": {
    "collapsed": true
   },
   "outputs": [],
   "source": [
    "x"
   ]
  },
  {
   "cell_type": "markdown",
   "metadata": {},
   "source": [
    "https://www.mlab.im.dendai.ac.jp/~yamada/java/regex/"
   ]
  },
  {
   "cell_type": "markdown",
   "metadata": {},
   "source": [
    "http://uxmilk.jp/41416"
   ]
  },
  {
   "cell_type": "code",
   "execution_count": null,
   "metadata": {
    "collapsed": true
   },
   "outputs": [],
   "source": [
    "match = re.search(r'Category:(.+?)[\\|\\]]' , x)"
   ]
  },
  {
   "cell_type": "code",
   "execution_count": null,
   "metadata": {
    "collapsed": true
   },
   "outputs": [],
   "source": [
    "if match:\n",
    "    print(\"yes\")"
   ]
  },
  {
   "cell_type": "code",
   "execution_count": null,
   "metadata": {
    "collapsed": true
   },
   "outputs": [],
   "source": [
    "print(match.group(1))"
   ]
  },
  {
   "cell_type": "code",
   "execution_count": null,
   "metadata": {
    "collapsed": true
   },
   "outputs": [],
   "source": [
    "for i , l in enumerate(text.split('\\n')):\n",
    "    if re.search(r'Category' , l):\n",
    "        print(i)"
   ]
  },
  {
   "cell_type": "markdown",
   "metadata": {},
   "source": [
    "#### 記事中に含まれるセクション名とそのレベル（例えば\"== セクション名 ==“なら1）を表示せよ"
   ]
  },
  {
   "cell_type": "raw",
   "metadata": {},
   "source": [
    "In Python, the (?P<group_name>…) syntax allows one to refer to the matched string through its nam"
   ]
  },
  {
   "cell_type": "markdown",
   "metadata": {},
   "source": [
    "https://stackoverflow.com/questions/10059673/named-regular-expression-group-pgroup-nameregexp-what-does-p-stand-for"
   ]
  },
  {
   "cell_type": "code",
   "execution_count": 8,
   "metadata": {},
   "outputs": [
    {
     "name": "stdout",
     "output_type": "stream",
     "text": [
      "2 : 国名\n",
      "2 : 歴史\n",
      "2 : 地理\n",
      "3 : 気候\n",
      "2 : 政治\n",
      "2 : 外交と軍事\n",
      "2 : 地方行政区分\n",
      "3 : 主要都市\n",
      "2 : 科学技術\n",
      "2 : 経済\n",
      "3 : 鉱業\n",
      "3 : 農業\n",
      "3 : 貿易\n",
      "3 : 通貨\n",
      "3 : 企業\n",
      "2 : 交通\n",
      "3 : 道路\n",
      "3 : 鉄道\n",
      "3 : 海運\n",
      "3 : 航空\n",
      "2 : 通信\n",
      "2 : 国民\n",
      "3 : 言語\n",
      "3 : 宗教\n",
      "3 :  婚姻 \n",
      "3 : 教育\n",
      "2 : 文化\n",
      "3 : 食文化\n",
      "3 : 文学\n",
      "3 :  哲学 \n",
      "3 : 音楽\n",
      "4 : イギリスのポピュラー音楽\n",
      "3 : 映画\n",
      "3 : コメディ\n",
      "3 : 国花\n",
      "3 : 世界遺産\n",
      "3 : 祝祭日\n",
      "2 : スポーツ\n",
      "3 : サッカー\n",
      "3 : 競馬\n",
      "3 : モータースポーツ\n",
      "2 : 脚注\n",
      "2 : 関連項目\n",
      "2 : 外部リンク\n"
     ]
    }
   ],
   "source": [
    "for l in text.split('\\n'):\n",
    "    # re.search(r'Category' , l):    \n",
    "    match = re.search(r'^(=+)(.+)\\1$', l)\n",
    "    if match:\n",
    "        #print(i)\n",
    "        Level = match.group(1).count(\"=\")\n",
    "        Name = match.group(2)\n",
    "        print(\"{0} : {1}\".format(Level , Name))"
   ]
  },
  {
   "cell_type": "markdown",
   "metadata": {},
   "source": [
    "#### 記事から参照されているメディアファイルをすべて抜き出せ．"
   ]
  },
  {
   "cell_type": "markdown",
   "metadata": {},
   "source": [
    "記事中に埋め込まれたメディアファイルは [[ファイル:Wiki.png|thumb|説明文]] というような形をしている"
   ]
  },
  {
   "cell_type": "code",
   "execution_count": 14,
   "metadata": {},
   "outputs": [
    {
     "name": "stdout",
     "output_type": "stream",
     "text": [
      "Royal Coat of Arms of the United Kingdom.svg\n",
      "CHANDOS3.jpg\n",
      "The Fabs.JPG\n",
      "PalaceOfWestminsterAtNight.jpg\n",
      "Westminster Abbey - West Door.jpg\n",
      "Edinburgh Cockburn St dsc06789.jpg\n",
      "Canterbury Cathedral - Portal Nave Cross-spire.jpeg\n",
      "Kew Gardens Palm House, London - July 2009.jpg\n",
      "2005-06-27 - United Kingdom - England - London - Greenwich.jpg\n",
      "Stonehenge2007 07 30.jpg\n",
      "Yard2.jpg\n",
      "Durham Kathedrale Nahaufnahme.jpg\n",
      "Roman Baths in Bath Spa, England - July 2006.jpg\n",
      "Fountains Abbey view02 2005-08-27.jpg\n",
      "Blenheim Palace IMG 3673.JPG\n",
      "Liverpool Pier Head by night.jpg\n",
      "Hadrian's Wall view near Greenhead.jpg\n",
      "London Tower (1).JPG\n",
      "Wembley Stadium, illuminated.jpg\n"
     ]
    }
   ],
   "source": [
    "for l in text.split('\\n'):\n",
    "    # re.search(r'Category' , l):    \n",
    "    match = re.search(r'ファイル:([^|]+)\\|', l)\n",
    "    if match:\n",
    "        #print(i)\n",
    "        print(match.group(1))"
   ]
  },
  {
   "cell_type": "markdown",
   "metadata": {},
   "source": [
    "#### 記事中に含まれる「基礎情報」テンプレートのフィールド名と値を抽出し，辞書オブジェクトとして格納せよ．"
   ]
  },
  {
   "cell_type": "code",
   "execution_count": 23,
   "metadata": {
    "collapsed": true
   },
   "outputs": [],
   "source": [
    "match = re.search(r'{{基礎情報(.*)\\n}}' , text , re.DOTALL)"
   ]
  },
  {
   "cell_type": "code",
   "execution_count": 25,
   "metadata": {
    "collapsed": true
   },
   "outputs": [],
   "source": [
    "basic_info_text = match.group(1)"
   ]
  },
  {
   "cell_type": "code",
   "execution_count": 54,
   "metadata": {},
   "outputs": [
    {
     "name": "stdout",
     "output_type": "stream",
     "text": [
      "略名 : イギリス\n",
      "日本語国名 : グレートブリテン及び北アイルランド連合王国\n",
      "国旗画像 : Flag of the United Kingdom.svg\n",
      "国章画像 : [[ファイル:Royal Coat of Arms of the United Kingdom.svg|85px|イギリスの国章]]\n",
      "国章リンク : （[[イギリスの国章|国章]]）\n",
      "標語 : {{lang|fr|Dieu et mon droit}}<br/>（[[フランス語]]:神と私の権利）\n",
      "国歌 : [[女王陛下万歳|神よ女王陛下を守り給え]]\n",
      "位置画像 : Location_UK_EU_Europe_001.svg\n",
      "公用語 : [[英語]]（事実上）\n",
      "首都 : [[ロンドン]]\n",
      "最大都市 : ロンドン\n",
      "元首等肩書 : [[イギリスの君主|女王]]\n",
      "元首等氏名 : [[エリザベス2世]]\n",
      "首相等肩書 : [[イギリスの首相|首相]]\n",
      "首相等氏名 : [[デーヴィッド・キャメロン]]\n",
      "面積順位 : 76\n",
      "面積大きさ : 1 E11\n",
      "面積値 : 244,820\n",
      "水面積率 : 1.3%\n",
      "人口統計年 : 2011\n",
      "人口順位 : 22\n",
      "人口大きさ : 1 E7\n",
      "人口値 : 63,181,775<ref>[http://esa.un.org/unpd/wpp/Excel-Data/population.htm United Nations Department of Economic and Social Affairs>Population Division>Data>Population>Total Population]</ref>\n",
      "人口密度値 : 246\n",
      "GDP統計年元 : 2012\n",
      "GDP値元 : 1兆5478億<ref name=\"imf-statistics-gdp\">[http://www.imf.org/external/pubs/ft/weo/2012/02/weodata/weorept.aspx?pr.x=70&pr.y=13&sy=2010&ey=2012&scsm=1&ssd=1&sort=country&ds=.&br=1&c=112&s=NGDP%2CNGDPD%2CPPPGDP%2CPPPPC&grp=0&a= IMF>Data and Statistics>World Economic Outlook Databases>By Countrise>United Kingdom]</ref>\n",
      "GDP統計年MER : 2012\n",
      "GDP順位MER : 5\n",
      "GDP値MER : 2兆4337億<ref name=\"imf-statistics-gdp\" />\n",
      "GDP統計年 : 2012\n",
      "GDP順位 : 6\n",
      "GDP値 : 2兆3162億<ref name=\"imf-statistics-gdp\" />\n",
      "GDP/人 : 36,727<ref name=\"imf-statistics-gdp\" />\n",
      "建国形態 : 建国\n",
      "確立形態1 : [[イングランド王国]]／[[スコットランド王国]]<br />（両国とも[[連合法 (1707年)|1707年連合法]]まで）\n",
      "確立年月日1 : [[927年]]／[[843年]]\n",
      "確立形態2 : [[グレートブリテン王国]]建国<br />（[[連合法 (1707年)|1707年連合法]]）\n",
      "確立年月日2 : [[1707年]]\n",
      "確立形態3 : [[グレートブリテン及びアイルランド連合王国]]建国<br />（[[連合法 (1800年)|1800年連合法]]）\n",
      "確立年月日3 : [[1801年]]\n",
      "確立形態4 : 現在の国号「'''グレートブリテン及び北アイルランド連合王国'''」に変更\n",
      "確立年月日4 : [[1927年]]\n",
      "通貨 : [[スターリング・ポンド|UKポンド]] (&pound;)\n",
      "通貨コード : GBP\n",
      "時間帯 : ±0\n",
      "夏時間 : +1\n",
      "ISO 3166-1 : GB / GBR\n",
      "ccTLD : [[.uk]] / [[.gb]]<ref>使用は.ukに比べ圧倒的少数。</ref>\n",
      "国際電話番号 : 44\n",
      "注記 : <references />\n"
     ]
    }
   ],
   "source": [
    "run_dict = {}\n",
    "\n",
    "for l in basic_info_text.split('\\n|'):\n",
    "    match2 = re.search(r'^([^=]+)\\s=\\s(.+)$' , l)\n",
    "    if match2:\n",
    "        print(\"{0} : {1}\".format(match2.group(1) , match2.group(2)))\n",
    "        run_dict[match2.group(1)] = match2.group(2)"
   ]
  },
  {
   "cell_type": "markdown",
   "metadata": {},
   "source": [
    "##### sandbox"
   ]
  },
  {
   "cell_type": "code",
   "execution_count": 46,
   "metadata": {
    "collapsed": true
   },
   "outputs": [
    {
     "name": "stdout",
     "output_type": "stream",
     "text": [
      " 国\n",
      "略名 = イギリス\n",
      "日本語国名 = グレートブリテン及び北アイルランド連合王国\n",
      "公式国名 = {{lang|en|United Kingdom of Great Britain and Northern Ireland}}<ref>英語以外での正式国名:<br/>\n",
      "*{{lang|gd|An Rìoghachd Aonaichte na Breatainn Mhòr agus Eirinn mu Thuath}}（[[スコットランド・ゲール語]]）<br/>\n",
      "*{{lang|cy|Teyrnas Gyfunol Prydain Fawr a Gogledd Iwerddon}}（[[ウェールズ語]]）<br/>\n",
      "*{{lang|ga|Ríocht Aontaithe na Breataine Móire agus Tuaisceart na hÉireann}}（[[アイルランド語]]）<br/>\n",
      "*{{lang|kw|An Rywvaneth Unys a Vreten Veur hag Iwerdhon Glédh}}（[[コーンウォール語]]）<br/>\n",
      "*{{lang|sco|Unitit Kinrick o Great Breetain an Northren Ireland}}（[[スコットランド語]]）<br/>\n",
      "**{{lang|sco|Claught Kängrick o Docht Brätain an Norlin Airlann}}、{{lang|sco|Unitet Kängdom o Great Brittain an Norlin Airlann}}（アルスター・スコットランド語）</ref>\n",
      "国旗画像 = Flag of the United Kingdom.svg\n",
      "国章画像 = [[ファイル:Royal Coat of Arms of the United Kingdom.svg|85px|イギリスの国章]]\n",
      "国章リンク = （[[イギリスの国章|国章]]）\n",
      "標語 = {{lang|fr|Dieu et mon droit}}<br/>（[[フランス語]]:神と私の権利）\n",
      "国歌 = [[女王陛下万歳|神よ女王陛下を守り給え]]\n",
      "位置画像 = Location_UK_EU_Europe_001.svg\n",
      "公用語 = [[英語]]（事実上）\n",
      "首都 = [[ロンドン]]\n",
      "最大都市 = ロンドン\n",
      "元首等肩書 = [[イギリスの君主|女王]]\n",
      "元首等氏名 = [[エリザベス2世]]\n",
      "首相等肩書 = [[イギリスの首相|首相]]\n",
      "首相等氏名 = [[デーヴィッド・キャメロン]]\n",
      "面積順位 = 76\n",
      "面積大きさ = 1 E11\n",
      "面積値 = 244,820\n",
      "水面積率 = 1.3%\n",
      "人口統計年 = 2011\n",
      "人口順位 = 22\n",
      "人口大きさ = 1 E7\n",
      "人口値 = 63,181,775<ref>[http://esa.un.org/unpd/wpp/Excel-Data/population.htm United Nations Department of Economic and Social Affairs>Population Division>Data>Population>Total Population]</ref>\n",
      "人口密度値 = 246\n",
      "GDP統計年元 = 2012\n",
      "GDP値元 = 1兆5478億<ref name=\"imf-statistics-gdp\">[http://www.imf.org/external/pubs/ft/weo/2012/02/weodata/weorept.aspx?pr.x=70&pr.y=13&sy=2010&ey=2012&scsm=1&ssd=1&sort=country&ds=.&br=1&c=112&s=NGDP%2CNGDPD%2CPPPGDP%2CPPPPC&grp=0&a= IMF>Data and Statistics>World Economic Outlook Databases>By Countrise>United Kingdom]</ref>\n",
      "GDP統計年MER = 2012\n",
      "GDP順位MER = 5\n",
      "GDP値MER = 2兆4337億<ref name=\"imf-statistics-gdp\" />\n",
      "GDP統計年 = 2012\n",
      "GDP順位 = 6\n",
      "GDP値 = 2兆3162億<ref name=\"imf-statistics-gdp\" />\n",
      "GDP/人 = 36,727<ref name=\"imf-statistics-gdp\" />\n",
      "建国形態 = 建国\n",
      "確立形態1 = [[イングランド王国]]／[[スコットランド王国]]<br />（両国とも[[連合法 (1707年)|1707年連合法]]まで）\n",
      "確立年月日1 = [[927年]]／[[843年]]\n",
      "確立形態2 = [[グレートブリテン王国]]建国<br />（[[連合法 (1707年)|1707年連合法]]）\n",
      "確立年月日2 = [[1707年]]\n",
      "確立形態3 = [[グレートブリテン及びアイルランド連合王国]]建国<br />（[[連合法 (1800年)|1800年連合法]]）\n",
      "確立年月日3 = [[1801年]]\n",
      "確立形態4 = 現在の国号「'''グレートブリテン及び北アイルランド連合王国'''」に変更\n",
      "確立年月日4 = [[1927年]]\n",
      "通貨 = [[スターリング・ポンド|UKポンド]] (&pound;)\n",
      "通貨コード = GBP\n",
      "時間帯 = ±0\n",
      "夏時間 = +1\n",
      "ISO 3166-1 = GB / GBR\n",
      "ccTLD = [[.uk]] / [[.gb]]<ref>使用は.ukに比べ圧倒的少数。</ref>\n",
      "国際電話番号 = 44\n",
      "注記 = <references />\n"
     ]
    }
   ],
   "source": [
    "for l in basic_info_text.split('\\n|'):\n",
    "    print(l)"
   ]
  },
  {
   "cell_type": "code",
   "execution_count": 33,
   "metadata": {
    "collapsed": true
   },
   "outputs": [
    {
     "name": "stdout",
     "output_type": "stream",
     "text": [
      " 国\n",
      "|略名 = イギリス\n",
      "|日本語国名 = グレートブリテン及び北アイルランド連合王国\n",
      "|公式国名 = {{lang|en|United Kingdom of Great Britain and Northern Ireland}}<ref>英語以外での正式国名:<br/>\n",
      "*{{lang|gd|An Rìoghachd Aonaichte na Breatainn Mhòr agus Eirinn mu Thuath}}（[[スコットランド・ゲール語]]）<br/>\n",
      "*{{lang|cy|Teyrnas Gyfunol Prydain Fawr a Gogledd Iwerddon}}（[[ウェールズ語]]）<br/>\n",
      "*{{lang|ga|Ríocht Aontaithe na Breataine Móire agus Tuaisceart na hÉireann}}（[[アイルランド語]]）<br/>\n",
      "*{{lang|kw|An Rywvaneth Unys a Vreten Veur hag Iwerdhon Glédh}}（[[コーンウォール語]]）<br/>\n",
      "*{{lang|sco|Unitit Kinrick o Great Breetain an Northren Ireland}}（[[スコットランド語]]）<br/>\n",
      "**{{lang|sco|Claught Kängrick o Docht Brätain an Norlin Airlann}}、{{lang|sco|Unitet Kängdom o Great Brittain an Norlin Airlann}}（アルスター・スコットランド語）</ref>\n",
      "|国旗画像 = Flag of the United Kingdom.svg\n",
      "|国章画像 = [[ファイル:Royal Coat of Arms of the United Kingdom.svg|85px|イギリスの国章]]\n",
      "|国章リンク = （[[イギリスの国章|国章]]）\n",
      "|標語 = {{lang|fr|Dieu et mon droit}}<br/>（[[フランス語]]:神と私の権利）\n",
      "|国歌 = [[女王陛下万歳|神よ女王陛下を守り給え]]\n",
      "|位置画像 = Location_UK_EU_Europe_001.svg\n",
      "|公用語 = [[英語]]（事実上）\n",
      "|首都 = [[ロンドン]]\n",
      "|最大都市 = ロンドン\n",
      "|元首等肩書 = [[イギリスの君主|女王]]\n",
      "|元首等氏名 = [[エリザベス2世]]\n",
      "|首相等肩書 = [[イギリスの首相|首相]]\n",
      "|首相等氏名 = [[デーヴィッド・キャメロン]]\n",
      "|面積順位 = 76\n",
      "|面積大きさ = 1 E11\n",
      "|面積値 = 244,820\n",
      "|水面積率 = 1.3%\n",
      "|人口統計年 = 2011\n",
      "|人口順位 = 22\n",
      "|人口大きさ = 1 E7\n",
      "|人口値 = 63,181,775<ref>[http://esa.un.org/unpd/wpp/Excel-Data/population.htm United Nations Department of Economic and Social Affairs>Population Division>Data>Population>Total Population]</ref>\n",
      "|人口密度値 = 246\n",
      "|GDP統計年元 = 2012\n",
      "|GDP値元 = 1兆5478億<ref name=\"imf-statistics-gdp\">[http://www.imf.org/external/pubs/ft/weo/2012/02/weodata/weorept.aspx?pr.x=70&pr.y=13&sy=2010&ey=2012&scsm=1&ssd=1&sort=country&ds=.&br=1&c=112&s=NGDP%2CNGDPD%2CPPPGDP%2CPPPPC&grp=0&a= IMF>Data and Statistics>World Economic Outlook Databases>By Countrise>United Kingdom]</ref>\n",
      "|GDP統計年MER = 2012\n",
      "|GDP順位MER = 5\n",
      "|GDP値MER = 2兆4337億<ref name=\"imf-statistics-gdp\" />\n",
      "|GDP統計年 = 2012\n",
      "|GDP順位 = 6\n",
      "|GDP値 = 2兆3162億<ref name=\"imf-statistics-gdp\" />\n",
      "|GDP/人 = 36,727<ref name=\"imf-statistics-gdp\" />\n",
      "|建国形態 = 建国\n",
      "|確立形態1 = [[イングランド王国]]／[[スコットランド王国]]<br />（両国とも[[連合法 (1707年)|1707年連合法]]まで）\n",
      "|確立年月日1 = [[927年]]／[[843年]]\n",
      "|確立形態2 = [[グレートブリテン王国]]建国<br />（[[連合法 (1707年)|1707年連合法]]）\n",
      "|確立年月日2 = [[1707年]]\n",
      "|確立形態3 = [[グレートブリテン及びアイルランド連合王国]]建国<br />（[[連合法 (1800年)|1800年連合法]]）\n",
      "|確立年月日3 = [[1801年]]\n",
      "|確立形態4 = 現在の国号「'''グレートブリテン及び北アイルランド連合王国'''」に変更\n",
      "|確立年月日4 = [[1927年]]\n",
      "|通貨 = [[スターリング・ポンド|UKポンド]] (&pound;)\n",
      "|通貨コード = GBP\n",
      "|時間帯 = ±0\n",
      "|夏時間 = +1\n",
      "|ISO 3166-1 = GB / GBR\n",
      "|ccTLD = [[.uk]] / [[.gb]]<ref>使用は.ukに比べ圧倒的少数。</ref>\n",
      "|国際電話番号 = 44\n",
      "|注記 = <references />\n"
     ]
    }
   ],
   "source": [
    "print(basic_info_text)"
   ]
  },
  {
   "cell_type": "code",
   "execution_count": 16,
   "metadata": {},
   "outputs": [
    {
     "name": "stdout",
     "output_type": "stream",
     "text": [
      "{{基礎情報 国\n"
     ]
    }
   ],
   "source": [
    "for l in text.split('\\n'):\n",
    "    # re.search(r'Category' , l):    \n",
    "    match = re.search(r'^.*基礎情報.*$', l)\n",
    "    if match:\n",
    "        #print(i)\n",
    "        print(match.group(0))"
   ]
  },
  {
   "cell_type": "markdown",
   "metadata": {},
   "source": [
    "#### 25の処理時に，テンプレートの値からMediaWikiの強調マークアップ（弱い強調，強調，強い強調のすべて）を除去してテキストに変換せよ\n",
    "（参考: マークアップ早見表）．"
   ]
  },
  {
   "cell_type": "markdown",
   "metadata": {},
   "source": [
    "'{2,} と書くことで2回以上連続する ' にのみマッチ"
   ]
  },
  {
   "cell_type": "code",
   "execution_count": 57,
   "metadata": {},
   "outputs": [
    {
     "name": "stdout",
     "output_type": "stream",
     "text": [
      "略名 : イギリス\n",
      "日本語国名 : グレートブリテン及び北アイルランド連合王国\n",
      "国旗画像 : Flag of the United Kingdom.svg\n",
      "国章画像 : [[ファイル:Royal Coat of Arms of the United Kingdom.svg|85px|イギリスの国章]]\n",
      "国章リンク : （[[イギリスの国章|国章]]）\n",
      "標語 : {{lang|fr|Dieu et mon droit}}<br/>（[[フランス語]]:神と私の権利）\n",
      "国歌 : [[女王陛下万歳|神よ女王陛下を守り給え]]\n",
      "位置画像 : Location_UK_EU_Europe_001.svg\n",
      "公用語 : [[英語]]（事実上）\n",
      "首都 : [[ロンドン]]\n",
      "最大都市 : ロンドン\n",
      "元首等肩書 : [[イギリスの君主|女王]]\n",
      "元首等氏名 : [[エリザベス2世]]\n",
      "首相等肩書 : [[イギリスの首相|首相]]\n",
      "首相等氏名 : [[デーヴィッド・キャメロン]]\n",
      "面積順位 : 76\n",
      "面積大きさ : 1 E11\n",
      "面積値 : 244,820\n",
      "水面積率 : 1.3%\n",
      "人口統計年 : 2011\n",
      "人口順位 : 22\n",
      "人口大きさ : 1 E7\n",
      "人口値 : 63,181,775<ref>[http://esa.un.org/unpd/wpp/Excel-Data/population.htm United Nations Department of Economic and Social Affairs>Population Division>Data>Population>Total Population]</ref>\n",
      "人口密度値 : 246\n",
      "GDP統計年元 : 2012\n",
      "GDP値元 : 1兆5478億<ref name=\"imf-statistics-gdp\">[http://www.imf.org/external/pubs/ft/weo/2012/02/weodata/weorept.aspx?pr.x=70&pr.y=13&sy=2010&ey=2012&scsm=1&ssd=1&sort=country&ds=.&br=1&c=112&s=NGDP%2CNGDPD%2CPPPGDP%2CPPPPC&grp=0&a= IMF>Data and Statistics>World Economic Outlook Databases>By Countrise>United Kingdom]</ref>\n",
      "GDP統計年MER : 2012\n",
      "GDP順位MER : 5\n",
      "GDP値MER : 2兆4337億<ref name=\"imf-statistics-gdp\" />\n",
      "GDP統計年 : 2012\n",
      "GDP順位 : 6\n",
      "GDP値 : 2兆3162億<ref name=\"imf-statistics-gdp\" />\n",
      "GDP/人 : 36,727<ref name=\"imf-statistics-gdp\" />\n",
      "建国形態 : 建国\n",
      "確立形態1 : [[イングランド王国]]／[[スコットランド王国]]<br />（両国とも[[連合法 (1707年)|1707年連合法]]まで）\n",
      "確立年月日1 : [[927年]]／[[843年]]\n",
      "確立形態2 : [[グレートブリテン王国]]建国<br />（[[連合法 (1707年)|1707年連合法]]）\n",
      "確立年月日2 : [[1707年]]\n",
      "確立形態3 : [[グレートブリテン及びアイルランド連合王国]]建国<br />（[[連合法 (1800年)|1800年連合法]]）\n",
      "確立年月日3 : [[1801年]]\n",
      "確立形態4 : 現在の国号「グレートブリテン及び北アイルランド連合王国」に変更\n",
      "確立年月日4 : [[1927年]]\n",
      "通貨 : [[スターリング・ポンド|UKポンド]] (&pound;)\n",
      "通貨コード : GBP\n",
      "時間帯 : ±0\n",
      "夏時間 : +1\n",
      "ISO 3166-1 : GB / GBR\n",
      "ccTLD : [[.uk]] / [[.gb]]<ref>使用は.ukに比べ圧倒的少数。</ref>\n",
      "国際電話番号 : 44\n",
      "注記 : <references />\n"
     ]
    }
   ],
   "source": [
    "run_dict = {}\n",
    "\n",
    "for l in basic_info_text.split('\\n|'):\n",
    "    match2 = re.search(r'^([^=]+)\\s=\\s(.+)$' , l)\n",
    "    if match2:\n",
    "        run_text = re.sub('\\'{2,}' , '' , match2.group(2))\n",
    "        print(\"{0} : {1}\".format(match2.group(1) , run_text))\n",
    "\n",
    "        run_dict[match2.group(1)] = run_text"
   ]
  },
  {
   "cell_type": "markdown",
   "metadata": {},
   "source": [
    "#### 26の処理に加えて，テンプレートの値からMediaWikiの内部リンクマークアップを除去し，テキストに変換せよ（参考: マークアップ早見表）．"
   ]
  },
  {
   "cell_type": "code",
   "execution_count": 61,
   "metadata": {},
   "outputs": [
    {
     "name": "stdout",
     "output_type": "stream",
     "text": [
      "略名 : イギリス\n",
      "日本語国名 : グレートブリテン及び北アイルランド連合王国\n",
      "国旗画像 : Flag of the United Kingdom.svg\n",
      "国章画像 : イギリスの国章\n",
      "国章リンク : （国章）\n",
      "標語 : {{lang|fr|Dieu et mon droit}}<br/>（フランス語:神と私の権利）\n",
      "国歌 : 神よ女王陛下を守り給え\n",
      "位置画像 : Location_UK_EU_Europe_001.svg\n",
      "公用語 : 英語（事実上）\n",
      "首都 : ロンドン\n",
      "最大都市 : ロンドン\n",
      "元首等肩書 : 女王\n",
      "元首等氏名 : エリザベス2世\n",
      "首相等肩書 : 首相\n",
      "首相等氏名 : デーヴィッド・キャメロン\n",
      "面積順位 : 76\n",
      "面積大きさ : 1 E11\n",
      "面積値 : 244,820\n",
      "水面積率 : 1.3%\n",
      "人口統計年 : 2011\n",
      "人口順位 : 22\n",
      "人口大きさ : 1 E7\n",
      "人口値 : 63,181,775<ref>[http://esa.un.org/unpd/wpp/Excel-Data/population.htm United Nations Department of Economic and Social Affairs>Population Division>Data>Population>Total Population]</ref>\n",
      "人口密度値 : 246\n",
      "GDP統計年元 : 2012\n",
      "GDP値元 : 1兆5478億<ref name=\"imf-statistics-gdp\">[http://www.imf.org/external/pubs/ft/weo/2012/02/weodata/weorept.aspx?pr.x=70&pr.y=13&sy=2010&ey=2012&scsm=1&ssd=1&sort=country&ds=.&br=1&c=112&s=NGDP%2CNGDPD%2CPPPGDP%2CPPPPC&grp=0&a= IMF>Data and Statistics>World Economic Outlook Databases>By Countrise>United Kingdom]</ref>\n",
      "GDP統計年MER : 2012\n",
      "GDP順位MER : 5\n",
      "GDP値MER : 2兆4337億<ref name=\"imf-statistics-gdp\" />\n",
      "GDP統計年 : 2012\n",
      "GDP順位 : 6\n",
      "GDP値 : 2兆3162億<ref name=\"imf-statistics-gdp\" />\n",
      "GDP/人 : 36,727<ref name=\"imf-statistics-gdp\" />\n",
      "建国形態 : 建国\n",
      "確立形態1 : イングランド王国／スコットランド王国<br />（両国とも1707年連合法まで）\n",
      "確立年月日1 : 927年／843年\n",
      "確立形態2 : グレートブリテン王国建国<br />（1707年連合法）\n",
      "確立年月日2 : 1707年\n",
      "確立形態3 : グレートブリテン及びアイルランド連合王国建国<br />（1800年連合法）\n",
      "確立年月日3 : 1801年\n",
      "確立形態4 : 現在の国号「グレートブリテン及び北アイルランド連合王国」に変更\n",
      "確立年月日4 : 1927年\n",
      "通貨 : UKポンド (&pound;)\n",
      "通貨コード : GBP\n",
      "時間帯 : ±0\n",
      "夏時間 : +1\n",
      "ISO 3166-1 : GB / GBR\n",
      "ccTLD : .uk / .gb<ref>使用は.ukに比べ圧倒的少数。</ref>\n",
      "国際電話番号 : 44\n",
      "注記 : <references />\n"
     ]
    }
   ],
   "source": [
    "run_dict = {}\n",
    "\n",
    "for l in basic_info_text.split('\\n|'):\n",
    "    match2 = re.search(r'^([^=]+)\\s=\\s(.+)$' , l)\n",
    "    if match2:\n",
    "        run_text = re.sub('\\'{2,}' , '' , match2.group(2))\n",
    "        run_text = re.sub('\\[\\[([^\\]]*)\\]\\]' , lambda m : m.group(1).split('|')[-1] , run_text)\n",
    "        \n",
    "        print(\"{0} : {1}\".format(match2.group(1) , run_text))\n",
    "        run_dict[match2.group(1)] = run_text"
   ]
  },
  {
   "cell_type": "markdown",
   "metadata": {},
   "source": [
    "#### 27の処理に加えて，テンプレートの値からMediaWikiマークアップを可能な限り除去し，国の基本情報を整形せよ．"
   ]
  },
  {
   "cell_type": "code",
   "execution_count": 71,
   "metadata": {},
   "outputs": [
    {
     "name": "stdout",
     "output_type": "stream",
     "text": [
      "略名 : イギリス\n",
      "日本語国名 : グレートブリテン及び北アイルランド連合王国\n",
      "国旗画像 : Flag of the United Kingdom.svg\n",
      "国章画像 : イギリスの国章\n",
      "国章リンク : （国章）\n",
      "標語 : Dieu et mon droit（フランス語:神と私の権利）\n",
      "国歌 : 神よ女王陛下を守り給え\n",
      "位置画像 : Location_UK_EU_Europe_001.svg\n",
      "公用語 : 英語（事実上）\n",
      "首都 : ロンドン\n",
      "最大都市 : ロンドン\n",
      "元首等肩書 : 女王\n",
      "元首等氏名 : エリザベス2世\n",
      "首相等肩書 : 首相\n",
      "首相等氏名 : デーヴィッド・キャメロン\n",
      "面積順位 : 76\n",
      "面積大きさ : 1 E11\n",
      "面積値 : 244,820\n",
      "水面積率 : 1.3%\n",
      "人口統計年 : 2011\n",
      "人口順位 : 22\n",
      "人口大きさ : 1 E7\n",
      "人口値 : 63,181,775\n",
      "人口密度値 : 246\n",
      "GDP統計年元 : 2012\n",
      "GDP値元 : 1兆5478億\n",
      "GDP統計年MER : 2012\n",
      "GDP順位MER : 5\n",
      "GDP値MER : 2兆4337億\n",
      "GDP統計年 : 2012\n",
      "GDP順位 : 6\n",
      "GDP値 : 2兆3162億\n",
      "GDP/人 : 36,727\n",
      "建国形態 : 建国\n",
      "確立形態1 : イングランド王国／スコットランド王国（両国とも1707年連合法まで）\n",
      "確立年月日1 : 927年／843年\n",
      "確立形態2 : グレートブリテン王国建国（1707年連合法）\n",
      "確立年月日2 : 1707年\n",
      "確立形態3 : グレートブリテン及びアイルランド連合王国建国（1800年連合法）\n",
      "確立年月日3 : 1801年\n",
      "確立形態4 : 現在の国号「グレートブリテン及び北アイルランド連合王国」に変更\n",
      "確立年月日4 : 1927年\n",
      "通貨 : UKポンド (&pound;)\n",
      "通貨コード : GBP\n",
      "時間帯 : ±0\n",
      "夏時間 : +1\n",
      "ISO 3166-1 : GB / GBR\n",
      "ccTLD : .uk / .gb使用は.ukに比べ圧倒的少数。\n",
      "国際電話番号 : 44\n",
      "注記 : \n"
     ]
    }
   ],
   "source": [
    "run_dict = {}\n",
    "\n",
    "for l in basic_info_text.split('\\n|'):\n",
    "    match2 = re.search(r'^([^=]+)\\s=\\s(.+)$' , l)\n",
    "    if match2:\n",
    "        run_text = re.sub('\\'{2,}' , '' , match2.group(2))\n",
    "        run_text = re.sub('\\[\\[([^\\]]*)\\]\\]' , lambda m : m.group(1).split('|')[-1] , run_text)\n",
    "        run_text = re.sub('<\\/?ref[^>]*>' , '' , run_text)\n",
    "        run_text = re.sub('<br\\s*/>' , '' , run_text)\n",
    "        run_text = re.sub('\\[http[^\\]]*\\]' , '' , run_text)\n",
    "        run_text = re.sub('{{([^}]*)}}' , lambda m : m.group(1).split('|')[-1] , run_text)\n",
    "        #run_text = re.sub()\n",
    "        print(\"{0} : {1}\".format(match2.group(1) , run_text))\n",
    "        run_dict[match2.group(1)] = run_text"
   ]
  },
  {
   "cell_type": "markdown",
   "metadata": {},
   "source": [
    "#### テンプレートの内容を利用し，国旗画像のURLを取得せよ．\n",
    "（ヒント: MediaWiki APIのimageinfoを呼び出して，ファイル参照をURLに変換すればよい）"
   ]
  },
  {
   "cell_type": "code",
   "execution_count": 72,
   "metadata": {
    "collapsed": true
   },
   "outputs": [],
   "source": [
    "pname = run_dict['国旗画像']"
   ]
  },
  {
   "cell_type": "code",
   "execution_count": 75,
   "metadata": {
    "collapsed": true
   },
   "outputs": [],
   "source": [
    "from urllib.parse import urlencode\n",
    "from urllib import request"
   ]
  },
  {
   "cell_type": "code",
   "execution_count": 78,
   "metadata": {
    "collapsed": true
   },
   "outputs": [],
   "source": [
    "query = urlencode({\n",
    "    \"action\": \"query\",\n",
    "    \"titles\": \"File:{0}\".format(pname),\n",
    "    \"prop\": \"imageinfo\",\n",
    "    \"iiprop\": \"url\",\n",
    "    \"format\": \"json\",\n",
    "})"
   ]
  },
  {
   "cell_type": "code",
   "execution_count": 83,
   "metadata": {
    "collapsed": true
   },
   "outputs": [],
   "source": [
    "url = \"https://commons.wikimedia.org/w/api.php?{0}\".format(query)"
   ]
  },
  {
   "cell_type": "code",
   "execution_count": 84,
   "metadata": {
    "collapsed": true
   },
   "outputs": [],
   "source": [
    "with request.urlopen(url) as response:\n",
    "    body = response.read()\n",
    "    data = json.loads(body.decode(\"utf-8\"))"
   ]
  },
  {
   "cell_type": "code",
   "execution_count": 85,
   "metadata": {},
   "outputs": [
    {
     "data": {
      "text/plain": [
       "{'continue': {'continue': '||', 'iistart': '2007-09-03T09:51:34Z'},\n",
       " 'query': {'pages': {'347935': {'imageinfo': [{'descriptionshorturl': 'https://commons.wikimedia.org/w/index.php?curid=347935',\n",
       "      'descriptionurl': 'https://commons.wikimedia.org/wiki/File:Flag_of_the_United_Kingdom.svg',\n",
       "      'url': 'https://upload.wikimedia.org/wikipedia/commons/a/ae/Flag_of_the_United_Kingdom.svg'}],\n",
       "    'imagerepository': 'local',\n",
       "    'ns': 6,\n",
       "    'pageid': 347935,\n",
       "    'title': 'File:Flag of the United Kingdom.svg'}}}}"
      ]
     },
     "execution_count": 85,
     "metadata": {},
     "output_type": "execute_result"
    }
   ],
   "source": [
    "data"
   ]
  },
  {
   "cell_type": "code",
   "execution_count": 86,
   "metadata": {
    "collapsed": true
   },
   "outputs": [],
   "source": [
    "flag_image_url = list(data[\"query\"][\"pages\"].values())[0][\"imageinfo\"][0][\"url\"]\n"
   ]
  },
  {
   "cell_type": "code",
   "execution_count": null,
   "metadata": {
    "collapsed": true
   },
   "outputs": [],
   "source": []
  }
 ],
 "metadata": {
  "kernelspec": {
   "display_name": "Python [default]",
   "language": "python",
   "name": "python3"
  },
  "language_info": {
   "codemirror_mode": {
    "name": "ipython",
    "version": 3
   },
   "file_extension": ".py",
   "mimetype": "text/x-python",
   "name": "python",
   "nbconvert_exporter": "python",
   "pygments_lexer": "ipython3",
   "version": "3.5.4"
  },
  "toc": {
   "colors": {
    "hover_highlight": "#DAA520",
    "navigate_num": "#000000",
    "navigate_text": "#333333",
    "running_highlight": "#FF0000",
    "selected_highlight": "#FFD700",
    "sidebar_border": "#EEEEEE",
    "wrapper_background": "#FFFFFF"
   },
   "moveMenuLeft": true,
   "nav_menu": {},
   "navigate_menu": true,
   "number_sections": true,
   "sideBar": true,
   "skip_h1_title": false,
   "threshold": 4,
   "toc_cell": false,
   "toc_position": {},
   "toc_section_display": "block",
   "toc_window_display": true,
   "widenNotebook": false
  },
  "varInspector": {
   "cols": {
    "lenName": 16,
    "lenType": 16,
    "lenVar": 40
   },
   "kernels_config": {
    "python": {
     "delete_cmd_postfix": "",
     "delete_cmd_prefix": "del ",
     "library": "var_list.py",
     "varRefreshCmd": "print(var_dic_list())"
    },
    "r": {
     "delete_cmd_postfix": ") ",
     "delete_cmd_prefix": "rm(",
     "library": "var_list.r",
     "varRefreshCmd": "cat(var_dic_list()) "
    }
   },
   "types_to_exclude": [
    "module",
    "function",
    "builtin_function_or_method",
    "instance",
    "_Feature"
   ],
   "window_display": false
  }
 },
 "nbformat": 4,
 "nbformat_minor": 2
}
