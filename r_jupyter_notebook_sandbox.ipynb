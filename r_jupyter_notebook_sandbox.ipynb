{
 "cells": [
  {
   "cell_type": "code",
   "execution_count": 1,
   "metadata": {},
   "outputs": [
    {
     "name": "stderr",
     "output_type": "stream",
     "text": [
      "Loading required package: ggplot2\n"
     ]
    }
   ],
   "source": [
    "require(ggplot2)"
   ]
  },
  {
   "cell_type": "code",
   "execution_count": 3,
   "metadata": {
    "collapsed": true
   },
   "outputs": [],
   "source": [
    "require(ggrepel)"
   ]
  },
  {
   "cell_type": "markdown",
   "metadata": {},
   "source": [
    "comments disappear??"
   ]
  },
  {
   "cell_type": "code",
   "execution_count": 4,
   "metadata": {},
   "outputs": [
    {
     "data": {},
     "metadata": {},
     "output_type": "display_data"
    },
    {
     "data": {
      "image/png": "[encoded data removed]",
      "text/plain": [
       "plot without title"
      ]
     },
     "metadata": {},
     "output_type": "display_data"
    }
   ],
   "source": [
    "ggplot(iris , aes(x = Sepal.Width , y = Sepal.Length , label = Species) ) + geom_point()"
   ]
  },
  {
   "cell_type": "markdown",
   "metadata": {},
   "source": [
    "latex commments $$x^2$$"
   ]
  },
  {
   "cell_type": "code",
   "execution_count": 5,
   "metadata": {},
   "outputs": [
    {
     "data": {
      "text/html": [
       "<table>\n",
       "<thead><tr><th scope=col>speed</th><th scope=col>dist</th></tr></thead>\n",
       "<tbody>\n",
       "\t<tr><td> 4 </td><td>  2</td></tr>\n",
       "\t<tr><td> 4 </td><td> 10</td></tr>\n",
       "\t<tr><td> 7 </td><td>  4</td></tr>\n",
       "\t<tr><td> 7 </td><td> 22</td></tr>\n",
       "\t<tr><td> 8 </td><td> 16</td></tr>\n",
       "\t<tr><td> 9 </td><td> 10</td></tr>\n",
       "\t<tr><td>10 </td><td> 18</td></tr>\n",
       "\t<tr><td>10 </td><td> 26</td></tr>\n",
       "\t<tr><td>10 </td><td> 34</td></tr>\n",
       "\t<tr><td>11 </td><td> 17</td></tr>\n",
       "\t<tr><td>11 </td><td> 28</td></tr>\n",
       "\t<tr><td>12 </td><td> 14</td></tr>\n",
       "\t<tr><td>12 </td><td> 20</td></tr>\n",
       "\t<tr><td>12 </td><td> 24</td></tr>\n",
       "\t<tr><td>12 </td><td> 28</td></tr>\n",
       "\t<tr><td>13 </td><td> 26</td></tr>\n",
       "\t<tr><td>13 </td><td> 34</td></tr>\n",
       "\t<tr><td>13 </td><td> 34</td></tr>\n",
       "\t<tr><td>13 </td><td> 46</td></tr>\n",
       "\t<tr><td>14 </td><td> 26</td></tr>\n",
       "\t<tr><td>14 </td><td> 36</td></tr>\n",
       "\t<tr><td>14 </td><td> 60</td></tr>\n",
       "\t<tr><td>14 </td><td> 80</td></tr>\n",
       "\t<tr><td>15 </td><td> 20</td></tr>\n",
       "\t<tr><td>15 </td><td> 26</td></tr>\n",
       "\t<tr><td>15 </td><td> 54</td></tr>\n",
       "\t<tr><td>16 </td><td> 32</td></tr>\n",
       "\t<tr><td>16 </td><td> 40</td></tr>\n",
       "\t<tr><td>17 </td><td> 32</td></tr>\n",
       "\t<tr><td>17 </td><td> 40</td></tr>\n",
       "\t<tr><td>17 </td><td> 50</td></tr>\n",
       "\t<tr><td>18 </td><td> 42</td></tr>\n",
       "\t<tr><td>18 </td><td> 56</td></tr>\n",
       "\t<tr><td>18 </td><td> 76</td></tr>\n",
       "\t<tr><td>18 </td><td> 84</td></tr>\n",
       "\t<tr><td>19 </td><td> 36</td></tr>\n",
       "\t<tr><td>19 </td><td> 46</td></tr>\n",
       "\t<tr><td>19 </td><td> 68</td></tr>\n",
       "\t<tr><td>20 </td><td> 32</td></tr>\n",
       "\t<tr><td>20 </td><td> 48</td></tr>\n",
       "\t<tr><td>20 </td><td> 52</td></tr>\n",
       "\t<tr><td>20 </td><td> 56</td></tr>\n",
       "\t<tr><td>20 </td><td> 64</td></tr>\n",
       "\t<tr><td>22 </td><td> 66</td></tr>\n",
       "\t<tr><td>23 </td><td> 54</td></tr>\n",
       "\t<tr><td>24 </td><td> 70</td></tr>\n",
       "\t<tr><td>24 </td><td> 92</td></tr>\n",
       "\t<tr><td>24 </td><td> 93</td></tr>\n",
       "\t<tr><td>24 </td><td>120</td></tr>\n",
       "\t<tr><td>25 </td><td> 85</td></tr>\n",
       "</tbody>\n",
       "</table>\n"
      ],
      "text/plain": [
       "   speed dist\n",
       "1   4      2 \n",
       "2   4     10 \n",
       "3   7      4 \n",
       "4   7     22 \n",
       "5   8     16 \n",
       "6   9     10 \n",
       "7  10     18 \n",
       "8  10     26 \n",
       "9  10     34 \n",
       "10 11     17 \n",
       "11 11     28 \n",
       "12 12     14 \n",
       "13 12     20 \n",
       "14 12     24 \n",
       "15 12     28 \n",
       "16 13     26 \n",
       "17 13     34 \n",
       "18 13     34 \n",
       "19 13     46 \n",
       "20 14     26 \n",
       "21 14     36 \n",
       "22 14     60 \n",
       "23 14     80 \n",
       "24 15     20 \n",
       "25 15     26 \n",
       "26 15     54 \n",
       "27 16     32 \n",
       "28 16     40 \n",
       "29 17     32 \n",
       "30 17     40 \n",
       "31 17     50 \n",
       "32 18     42 \n",
       "33 18     56 \n",
       "34 18     76 \n",
       "35 18     84 \n",
       "36 19     36 \n",
       "37 19     46 \n",
       "38 19     68 \n",
       "39 20     32 \n",
       "40 20     48 \n",
       "41 20     52 \n",
       "42 20     56 \n",
       "43 20     64 \n",
       "44 22     66 \n",
       "45 23     54 \n",
       "46 24     70 \n",
       "47 24     92 \n",
       "48 24     93 \n",
       "49 24    120 \n",
       "50 25     85 "
      ]
     },
     "metadata": {},
     "output_type": "execute_result"
    }
   ],
   "source": [
    "cars"
   ]
  },
  {
   "cell_type": "code",
   "execution_count": null,
   "metadata": {
    "collapsed": true
   },
   "outputs": [],
   "source": []
  },
  {
   "cell_type": "code",
   "execution_count": null,
   "metadata": {
    "collapsed": true
   },
   "outputs": [],
   "source": []
  },
  {
   "cell_type": "code",
   "execution_count": null,
   "metadata": {
    "collapsed": true
   },
   "outputs": [],
   "source": []
  }
 ],
 "metadata": {
  "kernelspec": {
   "display_name": "R",
   "language": "R",
   "name": "ir"
  },
  "language_info": {
   "codemirror_mode": "r",
   "file_extension": ".r",
   "mimetype": "text/x-r-source",
   "name": "R",
   "pygments_lexer": "r",
   "version": "3.4.1"
  },
  "toc": {
   "colors": {
    "hover_highlight": "#DAA520",
    "running_highlight": "#FF0000",
    "selected_highlight": "#FFD700"
   },
   "moveMenuLeft": true,
   "nav_menu": {
    "height": "12px",
    "width": "252px"
   },
   "navigate_menu": true,
   "number_sections": true,
   "sideBar": true,
   "threshold": 4,
   "toc_cell": false,
   "toc_section_display": "block",
   "toc_window_display": false
  }
 },
 "nbformat": 4,
 "nbformat_minor": 1
}
